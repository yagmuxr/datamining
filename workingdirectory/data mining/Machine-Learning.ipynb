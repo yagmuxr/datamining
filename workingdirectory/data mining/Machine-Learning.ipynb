{
 "cells": [
  {
   "cell_type": "markdown",
   "id": "f50f646b",
   "metadata": {},
   "source": [
    "### Examples of machine learning  \n",
    "Örneğin, içeriği ve göndereni göz önüne alındığında bir e-postanın spam oluğ olmadığını tahmin etmeyi öğrenmek. Ya da kitapları içerdikleri kelimelere göre farklı kategorilerde kümelemeyi öğrenmek, ardından herhangi bir yeni kitabı mevcut kümelerden birine atamak."
   ]
  },
  {
   "cell_type": "markdown",
   "id": "25b6ec5c",
   "metadata": {},
   "source": [
    "## Unsupervised learning  \n",
    "Denetimsiz öğrenme , etiketlenmemiş verilerden gizli kalıpları ve yapıları ortaya çıkarma sürecidir. Örneğin, bir işletme müşterilerini, bu kategorilerin ne olduğunu önceden bilmeden satın alma davranışlarına göre farklı kategorilerde gruplamak isteyebilir. Bu , denetimsiz öğrenmenin bir dalı olan kümeleme olarak bilinir."
   ]
  },
  {
   "cell_type": "markdown",
   "id": "eddca576",
   "metadata": {},
   "source": [
    "## Supervised learning  \n",
    "Denetimli öğrenme , tahmin edilecek değerlerin zaten bilindiği ve daha önce görülmemiş verilerin değerlerini doğru bir şekilde tahmin etmek amacıyla bir modelin oluşturulduğu bir makine öğrenimi türüdür. Denetimli öğrenme, hedef değişkenin değerini tahmin etmek için özellikleri kullanır, örneğin bir basketbol oyuncusunun maç başına attığı sayılara göre pozisyonunu tahmin etmek gibi. Bu ders yalnızca denetimli öğrenmeye odaklanacaktır.\n",
    "\n",
    "Denetimli öğrenme, modelin doğru tahminlerde bulunabilmesi için etiketlenmiş veriler gerektirir. Bu veriler, her gözlem için doğru sonuçları (etiketleri) içerir.\n",
    "\n",
    "Ön Gereksinimler:\n",
    "\n",
    "Eksik Değerler: Modeli eğitmeden önce verilerde eksik değerler olmamalıdır. Eksik veriler genellikle tahminin doğruluğunu düşürür.\n",
    "Sayısal Veri: Çoğu makine öğrenmesi algoritması sayısal verilerle çalışır, bu yüzden verilerin uygun biçime dönüştürülmesi gerekebilir.\n",
    "Veri Formatı: Verilerin Pandas DataFrame, Series ya da NumPy dizileri gibi uygun formatlarda olması gerekir.\n",
    "Keşifsel Veri Analizi (EDA): Verilerin doğru formatta olduğundan emin olmak için Keşifsel Veri Analizi yapılmalıdır. Bu adımda, verilerdeki dağılımlar, korelasyonlar ve anomaliler incelenir.\n"
   ]
  },
  {
   "cell_type": "markdown",
   "id": "26f5a499",
   "metadata": {},
   "source": [
    "## Types of supervised learning  \n",
    "İki tür denetimli öğrenme vardır. Sınıflandırma, bir gözlemin etiketini veya kategorisini tahmin etmek için kullanılır. Örneğin, bir banka işleminin hileli olup olmadığını tahmin edebiliriz. Burada iki sonuç olduğu için hileli işlem veya hileli olmayan işlem , bu ikili sınıflandırma olarak bilinir.  \n",
    "Regresyon sürekli değerleri tahmin etmek için kullanılır. Örneğin , bir model , hedef değişken olan mülkün fiyatını tahmin etmek için yatak odası sayısı ve mülkün büyüklüğü gibi özellikleri kullanabilir."
   ]
  },
  {
   "cell_type": "markdown",
   "id": "9c82274e",
   "metadata": {},
   "source": [
    "## Supervised learning kullanmadan önce  \n",
    "Denetimli öğrenme gerçekleştirmeden önce yerine getirilmesi gereken bazı gereksinimler vardır.Verilerimizde eksik değerler olmamalı , sayısal formatta olmalı ve pandasDataframes veya Series ya da NumPy dizileri olarak saklanmalıdır. Bu ,verilerin doğru formatta olduğundan emin olmak için önce bazı keşifsel veri analizi gerektirir. Uygun veri görselleştirmeleriyle birlikte tanımlayıcı istatistikler için çeşitli pandas yöntemleri bu adımda yararlıdır."
   ]
  },
  {
   "cell_type": "markdown",
   "id": "470a9a67",
   "metadata": {},
   "source": [
    "## scikit-learn syntax  \n",
    "Tüm denetimli öğrenme modelleri için aynı sözdizimini izler. Bu da iş akışını tekrarlanabilir hale getirir. Denetimli öğrenme problemi için bir algoritma türü olan bir modeli bir sklearn modülünden içe aktarılır. Örneğin , k-En Yakın Komşular modeli etiketleri veya değerleri tahmin etmek için gözlemler arasındaki mesafeyi kullanır. Model adında bir değişken oluşturulur ve Model örneklendirilir. Bir model , özellikler ve hedef değişkeni hakkındaki kalıpları öğrendiği verilere uydurulur. Modeli , özelliklerin bir dizisi olan X'e ve hedef değişken değerlerin bir dizisi olan y'ye uyarlanır. Daha sonra modelin predict yöntemi kullanılarak altı? yeni gözlem X_new geçiriyoruz. Örneğin altı e-postadan alınan özellikler bir spam sınıflandırma modeline beslenirse , altı değerden oluşan bir dizi döndürülür. Bir , modelin e-postanın spam olduğunu tahmin ettiğini, sıfır ise spam olmadığını tahmin ettiğini gösterir.  "
   ]
  },
  {
   "cell_type": "markdown",
   "id": "1b6c00c6",
   "metadata": {},
   "source": [
    "from sklearn.module import Model  \n",
    "model = Model()  \n",
    "model.fit(X,y)  \n",
    "predictions= model.predict(X_new)  \n",
    "print(predictions)"
   ]
  },
  {
   "cell_type": "markdown",
   "id": "3225ff60",
   "metadata": {},
   "source": [
    "## Sınıflandırma zorunluluğu  \n",
    "Denetimli öğrenme etiketleri kullanır.Görünmeyen verilerin etiketlerini tahmin etmek için nasıl bir sınıflandırma modeli veya sınıflandırıcı oluşturulur?  \n",
    "### Classifying labels of unseen data  \n",
    "Dört adım vardır.İlk olarak kendisine iletilen etiketli verilerden öğrenen bir sınıflandırıcı oluşturulur. Daha sonra etiketsiz veriler girdi olarak iletilir ve bu görünmeyen veriler için etiket tahmininde bulunmayı sağlar. Sınıflandırıcı etiketli verilerden öğrendiği için buna eğitim verileri adı verilir."
   ]
  },
  {
   "cell_type": "markdown",
   "id": "398a4fbb",
   "metadata": {},
   "source": [
    "## k-Nearest Neighbors  \n",
    "Sınıflandırma problemleri için popüler olan k-En Yakın Komşular adlı bir algoritma ele alınacak. k-En Yakın Komşular ya da KNN'nin amacı , herhangi bir veri noktasının etiketini tahmin etmek için k, örneğin üç , en yakın etiketli veri noktasına bakmak ve etiketsiz gözlemin hangi etikete sahip olması gerektiği konusunda oy kullanmalarını sağlamaktır. KNN, en yakın komşuların çoğunluğunun hangi etikete sahip olduğuna dayalı tahminler yapan çoğunluk oylamasını kullanır."
   ]
  },
  {
   "cell_type": "markdown",
   "id": "90701b37",
   "metadata": {},
   "source": [
    "### KNN intution (KNN sergisi)  \n",
    "KNN için sezgi oluşturmak amacıyla bir telekom şirketinin müşterileri için toplam akşam ücretini toplam gün ücretine karşı gösteren bu dağılım grafiğine bakalım. Gözlemler abonelikten ayrılan müşteriler için mavi, ayrılmayanlar için kırmızı renkle gösterilmiştir."
   ]
  },
  {
   "cell_type": "code",
   "execution_count": 1,
   "id": "25d79984",
   "metadata": {},
   "outputs": [
    {
     "name": "stderr",
     "output_type": "stream",
     "text": [
      "C:\\Users\\nuray\\anaconda3\\lib\\site-packages\\pandas\\core\\computation\\expressions.py:21: UserWarning: Pandas requires version '2.8.4' or newer of 'numexpr' (version '2.8.3' currently installed).\n",
      "  from pandas.core.computation.check import NUMEXPR_INSTALLED\n",
      "C:\\Users\\nuray\\anaconda3\\lib\\site-packages\\pandas\\core\\arrays\\masked.py:60: UserWarning: Pandas requires version '1.3.6' or newer of 'bottleneck' (version '1.3.5' currently installed).\n",
      "  from pandas.core import (\n"
     ]
    },
    {
     "data": {
      "text/plain": [
       "((3333, 2), (3333,))"
      ]
     },
     "execution_count": 1,
     "metadata": {},
     "output_type": "execute_result"
    }
   ],
   "source": [
    "#  Using scikit-learn to fit a classifier\n",
    "import pandas as pd\n",
    "from sklearn.neighbors import KNeighborsClassifier\n",
    "\n",
    "df_churn = pd.read_csv(\"data/telecom_churn_clean.csv\")\n",
    "X = df_churn[['total_day_charge', 'total_eve_charge']].values\n",
    "y= df_churn['churn'].values\n",
    "\n",
    "(X.shape, y.shape)"
   ]
  },
  {
   "cell_type": "code",
   "execution_count": 2,
   "id": "56d825b3",
   "metadata": {},
   "outputs": [
    {
     "data": {
      "text/html": [
       "<style>#sk-container-id-1 {\n",
       "  /* Definition of color scheme common for light and dark mode */\n",
       "  --sklearn-color-text: black;\n",
       "  --sklearn-color-line: gray;\n",
       "  /* Definition of color scheme for unfitted estimators */\n",
       "  --sklearn-color-unfitted-level-0: #fff5e6;\n",
       "  --sklearn-color-unfitted-level-1: #f6e4d2;\n",
       "  --sklearn-color-unfitted-level-2: #ffe0b3;\n",
       "  --sklearn-color-unfitted-level-3: chocolate;\n",
       "  /* Definition of color scheme for fitted estimators */\n",
       "  --sklearn-color-fitted-level-0: #f0f8ff;\n",
       "  --sklearn-color-fitted-level-1: #d4ebff;\n",
       "  --sklearn-color-fitted-level-2: #b3dbfd;\n",
       "  --sklearn-color-fitted-level-3: cornflowerblue;\n",
       "\n",
       "  /* Specific color for light theme */\n",
       "  --sklearn-color-text-on-default-background: var(--sg-text-color, var(--theme-code-foreground, var(--jp-content-font-color1, black)));\n",
       "  --sklearn-color-background: var(--sg-background-color, var(--theme-background, var(--jp-layout-color0, white)));\n",
       "  --sklearn-color-border-box: var(--sg-text-color, var(--theme-code-foreground, var(--jp-content-font-color1, black)));\n",
       "  --sklearn-color-icon: #696969;\n",
       "\n",
       "  @media (prefers-color-scheme: dark) {\n",
       "    /* Redefinition of color scheme for dark theme */\n",
       "    --sklearn-color-text-on-default-background: var(--sg-text-color, var(--theme-code-foreground, var(--jp-content-font-color1, white)));\n",
       "    --sklearn-color-background: var(--sg-background-color, var(--theme-background, var(--jp-layout-color0, #111)));\n",
       "    --sklearn-color-border-box: var(--sg-text-color, var(--theme-code-foreground, var(--jp-content-font-color1, white)));\n",
       "    --sklearn-color-icon: #878787;\n",
       "  }\n",
       "}\n",
       "\n",
       "#sk-container-id-1 {\n",
       "  color: var(--sklearn-color-text);\n",
       "}\n",
       "\n",
       "#sk-container-id-1 pre {\n",
       "  padding: 0;\n",
       "}\n",
       "\n",
       "#sk-container-id-1 input.sk-hidden--visually {\n",
       "  border: 0;\n",
       "  clip: rect(1px 1px 1px 1px);\n",
       "  clip: rect(1px, 1px, 1px, 1px);\n",
       "  height: 1px;\n",
       "  margin: -1px;\n",
       "  overflow: hidden;\n",
       "  padding: 0;\n",
       "  position: absolute;\n",
       "  width: 1px;\n",
       "}\n",
       "\n",
       "#sk-container-id-1 div.sk-dashed-wrapped {\n",
       "  border: 1px dashed var(--sklearn-color-line);\n",
       "  margin: 0 0.4em 0.5em 0.4em;\n",
       "  box-sizing: border-box;\n",
       "  padding-bottom: 0.4em;\n",
       "  background-color: var(--sklearn-color-background);\n",
       "}\n",
       "\n",
       "#sk-container-id-1 div.sk-container {\n",
       "  /* jupyter's `normalize.less` sets `[hidden] { display: none; }`\n",
       "     but bootstrap.min.css set `[hidden] { display: none !important; }`\n",
       "     so we also need the `!important` here to be able to override the\n",
       "     default hidden behavior on the sphinx rendered scikit-learn.org.\n",
       "     See: https://github.com/scikit-learn/scikit-learn/issues/21755 */\n",
       "  display: inline-block !important;\n",
       "  position: relative;\n",
       "}\n",
       "\n",
       "#sk-container-id-1 div.sk-text-repr-fallback {\n",
       "  display: none;\n",
       "}\n",
       "\n",
       "div.sk-parallel-item,\n",
       "div.sk-serial,\n",
       "div.sk-item {\n",
       "  /* draw centered vertical line to link estimators */\n",
       "  background-image: linear-gradient(var(--sklearn-color-text-on-default-background), var(--sklearn-color-text-on-default-background));\n",
       "  background-size: 2px 100%;\n",
       "  background-repeat: no-repeat;\n",
       "  background-position: center center;\n",
       "}\n",
       "\n",
       "/* Parallel-specific style estimator block */\n",
       "\n",
       "#sk-container-id-1 div.sk-parallel-item::after {\n",
       "  content: \"\";\n",
       "  width: 100%;\n",
       "  border-bottom: 2px solid var(--sklearn-color-text-on-default-background);\n",
       "  flex-grow: 1;\n",
       "}\n",
       "\n",
       "#sk-container-id-1 div.sk-parallel {\n",
       "  display: flex;\n",
       "  align-items: stretch;\n",
       "  justify-content: center;\n",
       "  background-color: var(--sklearn-color-background);\n",
       "  position: relative;\n",
       "}\n",
       "\n",
       "#sk-container-id-1 div.sk-parallel-item {\n",
       "  display: flex;\n",
       "  flex-direction: column;\n",
       "}\n",
       "\n",
       "#sk-container-id-1 div.sk-parallel-item:first-child::after {\n",
       "  align-self: flex-end;\n",
       "  width: 50%;\n",
       "}\n",
       "\n",
       "#sk-container-id-1 div.sk-parallel-item:last-child::after {\n",
       "  align-self: flex-start;\n",
       "  width: 50%;\n",
       "}\n",
       "\n",
       "#sk-container-id-1 div.sk-parallel-item:only-child::after {\n",
       "  width: 0;\n",
       "}\n",
       "\n",
       "/* Serial-specific style estimator block */\n",
       "\n",
       "#sk-container-id-1 div.sk-serial {\n",
       "  display: flex;\n",
       "  flex-direction: column;\n",
       "  align-items: center;\n",
       "  background-color: var(--sklearn-color-background);\n",
       "  padding-right: 1em;\n",
       "  padding-left: 1em;\n",
       "}\n",
       "\n",
       "\n",
       "/* Toggleable style: style used for estimator/Pipeline/ColumnTransformer box that is\n",
       "clickable and can be expanded/collapsed.\n",
       "- Pipeline and ColumnTransformer use this feature and define the default style\n",
       "- Estimators will overwrite some part of the style using the `sk-estimator` class\n",
       "*/\n",
       "\n",
       "/* Pipeline and ColumnTransformer style (default) */\n",
       "\n",
       "#sk-container-id-1 div.sk-toggleable {\n",
       "  /* Default theme specific background. It is overwritten whether we have a\n",
       "  specific estimator or a Pipeline/ColumnTransformer */\n",
       "  background-color: var(--sklearn-color-background);\n",
       "}\n",
       "\n",
       "/* Toggleable label */\n",
       "#sk-container-id-1 label.sk-toggleable__label {\n",
       "  cursor: pointer;\n",
       "  display: block;\n",
       "  width: 100%;\n",
       "  margin-bottom: 0;\n",
       "  padding: 0.5em;\n",
       "  box-sizing: border-box;\n",
       "  text-align: center;\n",
       "}\n",
       "\n",
       "#sk-container-id-1 label.sk-toggleable__label-arrow:before {\n",
       "  /* Arrow on the left of the label */\n",
       "  content: \"▸\";\n",
       "  float: left;\n",
       "  margin-right: 0.25em;\n",
       "  color: var(--sklearn-color-icon);\n",
       "}\n",
       "\n",
       "#sk-container-id-1 label.sk-toggleable__label-arrow:hover:before {\n",
       "  color: var(--sklearn-color-text);\n",
       "}\n",
       "\n",
       "/* Toggleable content - dropdown */\n",
       "\n",
       "#sk-container-id-1 div.sk-toggleable__content {\n",
       "  max-height: 0;\n",
       "  max-width: 0;\n",
       "  overflow: hidden;\n",
       "  text-align: left;\n",
       "  /* unfitted */\n",
       "  background-color: var(--sklearn-color-unfitted-level-0);\n",
       "}\n",
       "\n",
       "#sk-container-id-1 div.sk-toggleable__content.fitted {\n",
       "  /* fitted */\n",
       "  background-color: var(--sklearn-color-fitted-level-0);\n",
       "}\n",
       "\n",
       "#sk-container-id-1 div.sk-toggleable__content pre {\n",
       "  margin: 0.2em;\n",
       "  border-radius: 0.25em;\n",
       "  color: var(--sklearn-color-text);\n",
       "  /* unfitted */\n",
       "  background-color: var(--sklearn-color-unfitted-level-0);\n",
       "}\n",
       "\n",
       "#sk-container-id-1 div.sk-toggleable__content.fitted pre {\n",
       "  /* unfitted */\n",
       "  background-color: var(--sklearn-color-fitted-level-0);\n",
       "}\n",
       "\n",
       "#sk-container-id-1 input.sk-toggleable__control:checked~div.sk-toggleable__content {\n",
       "  /* Expand drop-down */\n",
       "  max-height: 200px;\n",
       "  max-width: 100%;\n",
       "  overflow: auto;\n",
       "}\n",
       "\n",
       "#sk-container-id-1 input.sk-toggleable__control:checked~label.sk-toggleable__label-arrow:before {\n",
       "  content: \"▾\";\n",
       "}\n",
       "\n",
       "/* Pipeline/ColumnTransformer-specific style */\n",
       "\n",
       "#sk-container-id-1 div.sk-label input.sk-toggleable__control:checked~label.sk-toggleable__label {\n",
       "  color: var(--sklearn-color-text);\n",
       "  background-color: var(--sklearn-color-unfitted-level-2);\n",
       "}\n",
       "\n",
       "#sk-container-id-1 div.sk-label.fitted input.sk-toggleable__control:checked~label.sk-toggleable__label {\n",
       "  background-color: var(--sklearn-color-fitted-level-2);\n",
       "}\n",
       "\n",
       "/* Estimator-specific style */\n",
       "\n",
       "/* Colorize estimator box */\n",
       "#sk-container-id-1 div.sk-estimator input.sk-toggleable__control:checked~label.sk-toggleable__label {\n",
       "  /* unfitted */\n",
       "  background-color: var(--sklearn-color-unfitted-level-2);\n",
       "}\n",
       "\n",
       "#sk-container-id-1 div.sk-estimator.fitted input.sk-toggleable__control:checked~label.sk-toggleable__label {\n",
       "  /* fitted */\n",
       "  background-color: var(--sklearn-color-fitted-level-2);\n",
       "}\n",
       "\n",
       "#sk-container-id-1 div.sk-label label.sk-toggleable__label,\n",
       "#sk-container-id-1 div.sk-label label {\n",
       "  /* The background is the default theme color */\n",
       "  color: var(--sklearn-color-text-on-default-background);\n",
       "}\n",
       "\n",
       "/* On hover, darken the color of the background */\n",
       "#sk-container-id-1 div.sk-label:hover label.sk-toggleable__label {\n",
       "  color: var(--sklearn-color-text);\n",
       "  background-color: var(--sklearn-color-unfitted-level-2);\n",
       "}\n",
       "\n",
       "/* Label box, darken color on hover, fitted */\n",
       "#sk-container-id-1 div.sk-label.fitted:hover label.sk-toggleable__label.fitted {\n",
       "  color: var(--sklearn-color-text);\n",
       "  background-color: var(--sklearn-color-fitted-level-2);\n",
       "}\n",
       "\n",
       "/* Estimator label */\n",
       "\n",
       "#sk-container-id-1 div.sk-label label {\n",
       "  font-family: monospace;\n",
       "  font-weight: bold;\n",
       "  display: inline-block;\n",
       "  line-height: 1.2em;\n",
       "}\n",
       "\n",
       "#sk-container-id-1 div.sk-label-container {\n",
       "  text-align: center;\n",
       "}\n",
       "\n",
       "/* Estimator-specific */\n",
       "#sk-container-id-1 div.sk-estimator {\n",
       "  font-family: monospace;\n",
       "  border: 1px dotted var(--sklearn-color-border-box);\n",
       "  border-radius: 0.25em;\n",
       "  box-sizing: border-box;\n",
       "  margin-bottom: 0.5em;\n",
       "  /* unfitted */\n",
       "  background-color: var(--sklearn-color-unfitted-level-0);\n",
       "}\n",
       "\n",
       "#sk-container-id-1 div.sk-estimator.fitted {\n",
       "  /* fitted */\n",
       "  background-color: var(--sklearn-color-fitted-level-0);\n",
       "}\n",
       "\n",
       "/* on hover */\n",
       "#sk-container-id-1 div.sk-estimator:hover {\n",
       "  /* unfitted */\n",
       "  background-color: var(--sklearn-color-unfitted-level-2);\n",
       "}\n",
       "\n",
       "#sk-container-id-1 div.sk-estimator.fitted:hover {\n",
       "  /* fitted */\n",
       "  background-color: var(--sklearn-color-fitted-level-2);\n",
       "}\n",
       "\n",
       "/* Specification for estimator info (e.g. \"i\" and \"?\") */\n",
       "\n",
       "/* Common style for \"i\" and \"?\" */\n",
       "\n",
       ".sk-estimator-doc-link,\n",
       "a:link.sk-estimator-doc-link,\n",
       "a:visited.sk-estimator-doc-link {\n",
       "  float: right;\n",
       "  font-size: smaller;\n",
       "  line-height: 1em;\n",
       "  font-family: monospace;\n",
       "  background-color: var(--sklearn-color-background);\n",
       "  border-radius: 1em;\n",
       "  height: 1em;\n",
       "  width: 1em;\n",
       "  text-decoration: none !important;\n",
       "  margin-left: 1ex;\n",
       "  /* unfitted */\n",
       "  border: var(--sklearn-color-unfitted-level-1) 1pt solid;\n",
       "  color: var(--sklearn-color-unfitted-level-1);\n",
       "}\n",
       "\n",
       ".sk-estimator-doc-link.fitted,\n",
       "a:link.sk-estimator-doc-link.fitted,\n",
       "a:visited.sk-estimator-doc-link.fitted {\n",
       "  /* fitted */\n",
       "  border: var(--sklearn-color-fitted-level-1) 1pt solid;\n",
       "  color: var(--sklearn-color-fitted-level-1);\n",
       "}\n",
       "\n",
       "/* On hover */\n",
       "div.sk-estimator:hover .sk-estimator-doc-link:hover,\n",
       ".sk-estimator-doc-link:hover,\n",
       "div.sk-label-container:hover .sk-estimator-doc-link:hover,\n",
       ".sk-estimator-doc-link:hover {\n",
       "  /* unfitted */\n",
       "  background-color: var(--sklearn-color-unfitted-level-3);\n",
       "  color: var(--sklearn-color-background);\n",
       "  text-decoration: none;\n",
       "}\n",
       "\n",
       "div.sk-estimator.fitted:hover .sk-estimator-doc-link.fitted:hover,\n",
       ".sk-estimator-doc-link.fitted:hover,\n",
       "div.sk-label-container:hover .sk-estimator-doc-link.fitted:hover,\n",
       ".sk-estimator-doc-link.fitted:hover {\n",
       "  /* fitted */\n",
       "  background-color: var(--sklearn-color-fitted-level-3);\n",
       "  color: var(--sklearn-color-background);\n",
       "  text-decoration: none;\n",
       "}\n",
       "\n",
       "/* Span, style for the box shown on hovering the info icon */\n",
       ".sk-estimator-doc-link span {\n",
       "  display: none;\n",
       "  z-index: 9999;\n",
       "  position: relative;\n",
       "  font-weight: normal;\n",
       "  right: .2ex;\n",
       "  padding: .5ex;\n",
       "  margin: .5ex;\n",
       "  width: min-content;\n",
       "  min-width: 20ex;\n",
       "  max-width: 50ex;\n",
       "  color: var(--sklearn-color-text);\n",
       "  box-shadow: 2pt 2pt 4pt #999;\n",
       "  /* unfitted */\n",
       "  background: var(--sklearn-color-unfitted-level-0);\n",
       "  border: .5pt solid var(--sklearn-color-unfitted-level-3);\n",
       "}\n",
       "\n",
       ".sk-estimator-doc-link.fitted span {\n",
       "  /* fitted */\n",
       "  background: var(--sklearn-color-fitted-level-0);\n",
       "  border: var(--sklearn-color-fitted-level-3);\n",
       "}\n",
       "\n",
       ".sk-estimator-doc-link:hover span {\n",
       "  display: block;\n",
       "}\n",
       "\n",
       "/* \"?\"-specific style due to the `<a>` HTML tag */\n",
       "\n",
       "#sk-container-id-1 a.estimator_doc_link {\n",
       "  float: right;\n",
       "  font-size: 1rem;\n",
       "  line-height: 1em;\n",
       "  font-family: monospace;\n",
       "  background-color: var(--sklearn-color-background);\n",
       "  border-radius: 1rem;\n",
       "  height: 1rem;\n",
       "  width: 1rem;\n",
       "  text-decoration: none;\n",
       "  /* unfitted */\n",
       "  color: var(--sklearn-color-unfitted-level-1);\n",
       "  border: var(--sklearn-color-unfitted-level-1) 1pt solid;\n",
       "}\n",
       "\n",
       "#sk-container-id-1 a.estimator_doc_link.fitted {\n",
       "  /* fitted */\n",
       "  border: var(--sklearn-color-fitted-level-1) 1pt solid;\n",
       "  color: var(--sklearn-color-fitted-level-1);\n",
       "}\n",
       "\n",
       "/* On hover */\n",
       "#sk-container-id-1 a.estimator_doc_link:hover {\n",
       "  /* unfitted */\n",
       "  background-color: var(--sklearn-color-unfitted-level-3);\n",
       "  color: var(--sklearn-color-background);\n",
       "  text-decoration: none;\n",
       "}\n",
       "\n",
       "#sk-container-id-1 a.estimator_doc_link.fitted:hover {\n",
       "  /* fitted */\n",
       "  background-color: var(--sklearn-color-fitted-level-3);\n",
       "}\n",
       "</style><div id=\"sk-container-id-1\" class=\"sk-top-container\"><div class=\"sk-text-repr-fallback\"><pre>KNeighborsClassifier(n_neighbors=15)</pre><b>In a Jupyter environment, please rerun this cell to show the HTML representation or trust the notebook. <br />On GitHub, the HTML representation is unable to render, please try loading this page with nbviewer.org.</b></div><div class=\"sk-container\" hidden><div class=\"sk-item\"><div class=\"sk-estimator fitted sk-toggleable\"><input class=\"sk-toggleable__control sk-hidden--visually\" id=\"sk-estimator-id-1\" type=\"checkbox\" checked><label for=\"sk-estimator-id-1\" class=\"sk-toggleable__label fitted sk-toggleable__label-arrow fitted\">&nbsp;&nbsp;KNeighborsClassifier<a class=\"sk-estimator-doc-link fitted\" rel=\"noreferrer\" target=\"_blank\" href=\"https://scikit-learn.org/1.5/modules/generated/sklearn.neighbors.KNeighborsClassifier.html\">?<span>Documentation for KNeighborsClassifier</span></a><span class=\"sk-estimator-doc-link fitted\">i<span>Fitted</span></span></label><div class=\"sk-toggleable__content fitted\"><pre>KNeighborsClassifier(n_neighbors=15)</pre></div> </div></div></div></div>"
      ],
      "text/plain": [
       "KNeighborsClassifier(n_neighbors=15)"
      ]
     },
     "execution_count": 2,
     "metadata": {},
     "output_type": "execute_result"
    }
   ],
   "source": [
    "model_knn = KNeighborsClassifier(n_neighbors=15)\n",
    "model_knn.fit(X,y)"
   ]
  },
  {
   "cell_type": "code",
   "execution_count": 3,
   "id": "48c230e4",
   "metadata": {},
   "outputs": [
    {
     "data": {
      "text/plain": [
       "(3, 2)"
      ]
     },
     "execution_count": 3,
     "metadata": {},
     "output_type": "execute_result"
    }
   ],
   "source": [
    "# Predicting on unlabeled data\n",
    "import numpy as np\n",
    "X_new = np.array([\n",
    "    [56.8, 17.5],\n",
    "    [24.4, 24.1],\n",
    "    [50.1, 10.9]\n",
    "])\n",
    "X_new.shape"
   ]
  },
  {
   "cell_type": "code",
   "execution_count": 4,
   "id": "53b5e241",
   "metadata": {},
   "outputs": [
    {
     "data": {
      "text/plain": [
       "array([1, 0, 0], dtype=int64)"
      ]
     },
     "execution_count": 4,
     "metadata": {},
     "output_type": "execute_result"
    }
   ],
   "source": [
    "predictions = model_knn.predict(X_new)\n",
    "predictions"
   ]
  },
  {
   "cell_type": "markdown",
   "id": "04fe8f08",
   "metadata": {},
   "source": [
    "## Model Performansının Ölçülmesi  \n",
    "Sınıflandırmada, accuracy yaygın olarak kullanılan bir metriktir. Accuracy , doğru tahminlerin sayısının toplam gözlem sayısına bölünmesiyle elde edilir."
   ]
  },
  {
   "cell_type": "code",
   "execution_count": 5,
   "id": "bc7fdafa",
   "metadata": {},
   "outputs": [
    {
     "data": {
      "text/plain": [
       "0.8605697151424287"
      ]
     },
     "execution_count": 5,
     "metadata": {},
     "output_type": "execute_result"
    }
   ],
   "source": [
    "# Train/test split\n",
    "\n",
    "from sklearn.model_selection import train_test_split\n",
    "\n",
    "X_train, X_test, y_train, y_test =train_test_split(X, y, \n",
    "                                                   test_size=0.2, \n",
    "                                                   random_state=42, \n",
    "                                                   stratify=y)\n",
    "\n",
    "knn = KNeighborsClassifier(n_neighbors=6)\n",
    "knn.fit(X_train, y_train)\n",
    "knn.score(X_test, y_test)"
   ]
  },
  {
   "cell_type": "markdown",
   "id": "9ca4946b",
   "metadata": {},
   "source": [
    "## Model Complexity  \n",
    "Bir modelin bir gözleme hangi etiketi atayacağını belirleyen eşikler olan karar sınırları anlatılmıştı. k arttıkça, karar sınırı bireysel gözlemlerden daha az etkilenir ve bu da daha basit bir modeli yansıtır. Daha basit modeller veri kümesindeki ilişkileri daha az tespit edebilir , bu da underfitting olarak bilinir. Buna karşılık, karmaşık modeller genel eğilimleri yansıtmak yerine eğitim verilerindeki gürültüye karşı hassas olabilir. Bu durum overfitting olarak bilinir."
   ]
  },
  {
   "cell_type": "code",
   "execution_count": 6,
   "id": "7a13fd58",
   "metadata": {},
   "outputs": [
    {
     "data": {
      "text/plain": [
       "Text(0, 0.5, 'Doğruluk')"
      ]
     },
     "execution_count": 6,
     "metadata": {},
     "output_type": "execute_result"
    },
    {
     "data": {
      "image/png": "[encoded data removed]",
      "text/plain": [
       "<Figure size 800x600 with 1 Axes>"
      ]
     },
     "metadata": {},
     "output_type": "display_data"
    }
   ],
   "source": [
    "import matplotlib.pyplot as plt\n",
    "\n",
    "train_accuracies = {}\n",
    "test_accuracies = {}\n",
    "\n",
    "neighbours = np.arange(1, 26)\n",
    "\n",
    "for neighbour in neighbours:\n",
    "    knn = KNeighborsClassifier(n_neighbors=neighbour)\n",
    "    knn.fit(X_train, y_train)\n",
    "    train_accuracies[neighbour] = knn.score(X_train, y_train)\n",
    "    test_accuracies[neighbour] = knn.score(X_test, y_test)\n",
    "\n",
    "plt.figure(figsize=(8, 6))\n",
    "plt.title('KNN : Değişen Komşu Sayılarında')\n",
    "plt.plot(neighbours, train_accuracies.values(), label='Eğitim Doğruluğu')\n",
    "plt.plot(neighbours, test_accuracies.values(), label='Test Doğruluğu')\n",
    "plt.legend()\n",
    "plt.xlabel('Komşu Sayısı')\n",
    "plt.ylabel('Doğruluk')"
   ]
  },
  {
   "cell_type": "markdown",
   "id": "099210df",
   "metadata": {},
   "source": [
    "## Regression  \n",
    "Diğer denetimli öğrenme türü: regresyon. Regresyon görevlerinde, hedef değişken tipik olarak bir ülkenin GSYİH'si veya bir evin fiyatı gibi sürekli değerlere sahiptir."
   ]
  },
  {
   "cell_type": "code",
   "execution_count": 7,
   "id": "f31e8bf0",
   "metadata": {},
   "outputs": [
    {
     "data": {
      "text/html": [
       "<div>\n",
       "<style scoped>\n",
       "    .dataframe tbody tr th:only-of-type {\n",
       "        vertical-align: middle;\n",
       "    }\n",
       "\n",
       "    .dataframe tbody tr th {\n",
       "        vertical-align: top;\n",
       "    }\n",
       "\n",
       "    .dataframe thead th {\n",
       "        text-align: right;\n",
       "    }\n",
       "</style>\n",
       "<table border=\"1\" class=\"dataframe\">\n",
       "  <thead>\n",
       "    <tr style=\"text-align: right;\">\n",
       "      <th></th>\n",
       "      <th>pregnancies</th>\n",
       "      <th>glucose</th>\n",
       "      <th>diastolic</th>\n",
       "      <th>triceps</th>\n",
       "      <th>insulin</th>\n",
       "      <th>bmi</th>\n",
       "      <th>dpf</th>\n",
       "      <th>age</th>\n",
       "      <th>diabetes</th>\n",
       "    </tr>\n",
       "  </thead>\n",
       "  <tbody>\n",
       "    <tr>\n",
       "      <th>0</th>\n",
       "      <td>6</td>\n",
       "      <td>148</td>\n",
       "      <td>72</td>\n",
       "      <td>35</td>\n",
       "      <td>0</td>\n",
       "      <td>33.6</td>\n",
       "      <td>0.627</td>\n",
       "      <td>50</td>\n",
       "      <td>1</td>\n",
       "    </tr>\n",
       "    <tr>\n",
       "      <th>1</th>\n",
       "      <td>1</td>\n",
       "      <td>85</td>\n",
       "      <td>66</td>\n",
       "      <td>29</td>\n",
       "      <td>0</td>\n",
       "      <td>26.6</td>\n",
       "      <td>0.351</td>\n",
       "      <td>31</td>\n",
       "      <td>0</td>\n",
       "    </tr>\n",
       "    <tr>\n",
       "      <th>2</th>\n",
       "      <td>8</td>\n",
       "      <td>183</td>\n",
       "      <td>64</td>\n",
       "      <td>0</td>\n",
       "      <td>0</td>\n",
       "      <td>23.3</td>\n",
       "      <td>0.672</td>\n",
       "      <td>32</td>\n",
       "      <td>1</td>\n",
       "    </tr>\n",
       "    <tr>\n",
       "      <th>3</th>\n",
       "      <td>1</td>\n",
       "      <td>89</td>\n",
       "      <td>66</td>\n",
       "      <td>23</td>\n",
       "      <td>94</td>\n",
       "      <td>28.1</td>\n",
       "      <td>0.167</td>\n",
       "      <td>21</td>\n",
       "      <td>0</td>\n",
       "    </tr>\n",
       "    <tr>\n",
       "      <th>4</th>\n",
       "      <td>0</td>\n",
       "      <td>137</td>\n",
       "      <td>40</td>\n",
       "      <td>35</td>\n",
       "      <td>168</td>\n",
       "      <td>43.1</td>\n",
       "      <td>2.288</td>\n",
       "      <td>33</td>\n",
       "      <td>1</td>\n",
       "    </tr>\n",
       "  </tbody>\n",
       "</table>\n",
       "</div>"
      ],
      "text/plain": [
       "   pregnancies  glucose  diastolic  triceps  insulin   bmi    dpf  age  \\\n",
       "0            6      148         72       35        0  33.6  0.627   50   \n",
       "1            1       85         66       29        0  26.6  0.351   31   \n",
       "2            8      183         64        0        0  23.3  0.672   32   \n",
       "3            1       89         66       23       94  28.1  0.167   21   \n",
       "4            0      137         40       35      168  43.1  2.288   33   \n",
       "\n",
       "   diabetes  \n",
       "0         1  \n",
       "1         0  \n",
       "2         1  \n",
       "3         0  \n",
       "4         1  "
      ]
     },
     "execution_count": 7,
     "metadata": {},
     "output_type": "execute_result"
    }
   ],
   "source": [
    "# Kan glikoz seviyelerinin tahmin edilmesi\n",
    "import pandas as pd\n",
    "\n",
    "df_diabets = pd.read_csv('data/diabetes_clean.csv')\n",
    "df_diabets.head()"
   ]
  },
  {
   "cell_type": "code",
   "execution_count": 8,
   "id": "e8cbbaa6",
   "metadata": {},
   "outputs": [
    {
     "data": {
      "text/html": [
       "<div>\n",
       "<style scoped>\n",
       "    .dataframe tbody tr th:only-of-type {\n",
       "        vertical-align: middle;\n",
       "    }\n",
       "\n",
       "    .dataframe tbody tr th {\n",
       "        vertical-align: top;\n",
       "    }\n",
       "\n",
       "    .dataframe thead th {\n",
       "        text-align: right;\n",
       "    }\n",
       "</style>\n",
       "<table border=\"1\" class=\"dataframe\">\n",
       "  <thead>\n",
       "    <tr style=\"text-align: right;\">\n",
       "      <th></th>\n",
       "      <th>pregnancies</th>\n",
       "      <th>glucose</th>\n",
       "      <th>diastolic</th>\n",
       "      <th>triceps</th>\n",
       "      <th>insulin</th>\n",
       "      <th>bmi</th>\n",
       "      <th>dpf</th>\n",
       "      <th>age</th>\n",
       "      <th>diabetes</th>\n",
       "    </tr>\n",
       "  </thead>\n",
       "  <tbody>\n",
       "    <tr>\n",
       "      <th>9</th>\n",
       "      <td>8</td>\n",
       "      <td>125</td>\n",
       "      <td>96</td>\n",
       "      <td>0</td>\n",
       "      <td>0</td>\n",
       "      <td>0.0</td>\n",
       "      <td>0.232</td>\n",
       "      <td>54</td>\n",
       "      <td>1</td>\n",
       "    </tr>\n",
       "    <tr>\n",
       "      <th>49</th>\n",
       "      <td>7</td>\n",
       "      <td>105</td>\n",
       "      <td>0</td>\n",
       "      <td>0</td>\n",
       "      <td>0</td>\n",
       "      <td>0.0</td>\n",
       "      <td>0.305</td>\n",
       "      <td>24</td>\n",
       "      <td>0</td>\n",
       "    </tr>\n",
       "    <tr>\n",
       "      <th>60</th>\n",
       "      <td>2</td>\n",
       "      <td>84</td>\n",
       "      <td>0</td>\n",
       "      <td>0</td>\n",
       "      <td>0</td>\n",
       "      <td>0.0</td>\n",
       "      <td>0.304</td>\n",
       "      <td>21</td>\n",
       "      <td>0</td>\n",
       "    </tr>\n",
       "    <tr>\n",
       "      <th>75</th>\n",
       "      <td>1</td>\n",
       "      <td>0</td>\n",
       "      <td>48</td>\n",
       "      <td>20</td>\n",
       "      <td>0</td>\n",
       "      <td>24.7</td>\n",
       "      <td>0.140</td>\n",
       "      <td>22</td>\n",
       "      <td>0</td>\n",
       "    </tr>\n",
       "    <tr>\n",
       "      <th>81</th>\n",
       "      <td>2</td>\n",
       "      <td>74</td>\n",
       "      <td>0</td>\n",
       "      <td>0</td>\n",
       "      <td>0</td>\n",
       "      <td>0.0</td>\n",
       "      <td>0.102</td>\n",
       "      <td>22</td>\n",
       "      <td>0</td>\n",
       "    </tr>\n",
       "    <tr>\n",
       "      <th>145</th>\n",
       "      <td>0</td>\n",
       "      <td>102</td>\n",
       "      <td>75</td>\n",
       "      <td>23</td>\n",
       "      <td>0</td>\n",
       "      <td>0.0</td>\n",
       "      <td>0.572</td>\n",
       "      <td>21</td>\n",
       "      <td>0</td>\n",
       "    </tr>\n",
       "    <tr>\n",
       "      <th>182</th>\n",
       "      <td>1</td>\n",
       "      <td>0</td>\n",
       "      <td>74</td>\n",
       "      <td>20</td>\n",
       "      <td>23</td>\n",
       "      <td>27.7</td>\n",
       "      <td>0.299</td>\n",
       "      <td>21</td>\n",
       "      <td>0</td>\n",
       "    </tr>\n",
       "    <tr>\n",
       "      <th>342</th>\n",
       "      <td>1</td>\n",
       "      <td>0</td>\n",
       "      <td>68</td>\n",
       "      <td>35</td>\n",
       "      <td>0</td>\n",
       "      <td>32.0</td>\n",
       "      <td>0.389</td>\n",
       "      <td>22</td>\n",
       "      <td>0</td>\n",
       "    </tr>\n",
       "    <tr>\n",
       "      <th>349</th>\n",
       "      <td>5</td>\n",
       "      <td>0</td>\n",
       "      <td>80</td>\n",
       "      <td>32</td>\n",
       "      <td>0</td>\n",
       "      <td>41.0</td>\n",
       "      <td>0.346</td>\n",
       "      <td>37</td>\n",
       "      <td>1</td>\n",
       "    </tr>\n",
       "    <tr>\n",
       "      <th>371</th>\n",
       "      <td>0</td>\n",
       "      <td>118</td>\n",
       "      <td>64</td>\n",
       "      <td>23</td>\n",
       "      <td>89</td>\n",
       "      <td>0.0</td>\n",
       "      <td>1.731</td>\n",
       "      <td>21</td>\n",
       "      <td>0</td>\n",
       "    </tr>\n",
       "    <tr>\n",
       "      <th>426</th>\n",
       "      <td>0</td>\n",
       "      <td>94</td>\n",
       "      <td>0</td>\n",
       "      <td>0</td>\n",
       "      <td>0</td>\n",
       "      <td>0.0</td>\n",
       "      <td>0.256</td>\n",
       "      <td>25</td>\n",
       "      <td>0</td>\n",
       "    </tr>\n",
       "    <tr>\n",
       "      <th>494</th>\n",
       "      <td>3</td>\n",
       "      <td>80</td>\n",
       "      <td>0</td>\n",
       "      <td>0</td>\n",
       "      <td>0</td>\n",
       "      <td>0.0</td>\n",
       "      <td>0.174</td>\n",
       "      <td>22</td>\n",
       "      <td>0</td>\n",
       "    </tr>\n",
       "    <tr>\n",
       "      <th>502</th>\n",
       "      <td>6</td>\n",
       "      <td>0</td>\n",
       "      <td>68</td>\n",
       "      <td>41</td>\n",
       "      <td>0</td>\n",
       "      <td>39.0</td>\n",
       "      <td>0.727</td>\n",
       "      <td>41</td>\n",
       "      <td>1</td>\n",
       "    </tr>\n",
       "    <tr>\n",
       "      <th>522</th>\n",
       "      <td>6</td>\n",
       "      <td>114</td>\n",
       "      <td>0</td>\n",
       "      <td>0</td>\n",
       "      <td>0</td>\n",
       "      <td>0.0</td>\n",
       "      <td>0.189</td>\n",
       "      <td>26</td>\n",
       "      <td>0</td>\n",
       "    </tr>\n",
       "    <tr>\n",
       "      <th>684</th>\n",
       "      <td>5</td>\n",
       "      <td>136</td>\n",
       "      <td>82</td>\n",
       "      <td>0</td>\n",
       "      <td>0</td>\n",
       "      <td>0.0</td>\n",
       "      <td>0.640</td>\n",
       "      <td>69</td>\n",
       "      <td>0</td>\n",
       "    </tr>\n",
       "    <tr>\n",
       "      <th>706</th>\n",
       "      <td>10</td>\n",
       "      <td>115</td>\n",
       "      <td>0</td>\n",
       "      <td>0</td>\n",
       "      <td>0</td>\n",
       "      <td>0.0</td>\n",
       "      <td>0.261</td>\n",
       "      <td>30</td>\n",
       "      <td>1</td>\n",
       "    </tr>\n",
       "  </tbody>\n",
       "</table>\n",
       "</div>"
      ],
      "text/plain": [
       "     pregnancies  glucose  diastolic  triceps  insulin   bmi    dpf  age  \\\n",
       "9              8      125         96        0        0   0.0  0.232   54   \n",
       "49             7      105          0        0        0   0.0  0.305   24   \n",
       "60             2       84          0        0        0   0.0  0.304   21   \n",
       "75             1        0         48       20        0  24.7  0.140   22   \n",
       "81             2       74          0        0        0   0.0  0.102   22   \n",
       "145            0      102         75       23        0   0.0  0.572   21   \n",
       "182            1        0         74       20       23  27.7  0.299   21   \n",
       "342            1        0         68       35        0  32.0  0.389   22   \n",
       "349            5        0         80       32        0  41.0  0.346   37   \n",
       "371            0      118         64       23       89   0.0  1.731   21   \n",
       "426            0       94          0        0        0   0.0  0.256   25   \n",
       "494            3       80          0        0        0   0.0  0.174   22   \n",
       "502            6        0         68       41        0  39.0  0.727   41   \n",
       "522            6      114          0        0        0   0.0  0.189   26   \n",
       "684            5      136         82        0        0   0.0  0.640   69   \n",
       "706           10      115          0        0        0   0.0  0.261   30   \n",
       "\n",
       "     diabetes  \n",
       "9           1  \n",
       "49          0  \n",
       "60          0  \n",
       "75          0  \n",
       "81          0  \n",
       "145         0  \n",
       "182         0  \n",
       "342         0  \n",
       "349         1  \n",
       "371         0  \n",
       "426         0  \n",
       "494         0  \n",
       "502         1  \n",
       "522         0  \n",
       "684         0  \n",
       "706         1  "
      ]
     },
     "execution_count": 8,
     "metadata": {},
     "output_type": "execute_result"
    }
   ],
   "source": [
    "df_filtered = df_diabets[(df_diabets['bmi'] == 0.0) | (df_diabets['glucose'] == 0)]\n",
    "df_filtered"
   ]
  },
  {
   "cell_type": "code",
   "execution_count": 9,
   "id": "bc291c90",
   "metadata": {},
   "outputs": [
    {
     "data": {
      "text/html": [
       "<div>\n",
       "<style scoped>\n",
       "    .dataframe tbody tr th:only-of-type {\n",
       "        vertical-align: middle;\n",
       "    }\n",
       "\n",
       "    .dataframe tbody tr th {\n",
       "        vertical-align: top;\n",
       "    }\n",
       "\n",
       "    .dataframe thead th {\n",
       "        text-align: right;\n",
       "    }\n",
       "</style>\n",
       "<table border=\"1\" class=\"dataframe\">\n",
       "  <thead>\n",
       "    <tr style=\"text-align: right;\">\n",
       "      <th></th>\n",
       "      <th>pregnancies</th>\n",
       "      <th>glucose</th>\n",
       "      <th>diastolic</th>\n",
       "      <th>triceps</th>\n",
       "      <th>insulin</th>\n",
       "      <th>bmi</th>\n",
       "      <th>dpf</th>\n",
       "      <th>age</th>\n",
       "      <th>diabetes</th>\n",
       "    </tr>\n",
       "  </thead>\n",
       "  <tbody>\n",
       "    <tr>\n",
       "      <th>0</th>\n",
       "      <td>6</td>\n",
       "      <td>148</td>\n",
       "      <td>72</td>\n",
       "      <td>35</td>\n",
       "      <td>0</td>\n",
       "      <td>33.6</td>\n",
       "      <td>0.627</td>\n",
       "      <td>50</td>\n",
       "      <td>1</td>\n",
       "    </tr>\n",
       "    <tr>\n",
       "      <th>1</th>\n",
       "      <td>1</td>\n",
       "      <td>85</td>\n",
       "      <td>66</td>\n",
       "      <td>29</td>\n",
       "      <td>0</td>\n",
       "      <td>26.6</td>\n",
       "      <td>0.351</td>\n",
       "      <td>31</td>\n",
       "      <td>0</td>\n",
       "    </tr>\n",
       "    <tr>\n",
       "      <th>2</th>\n",
       "      <td>8</td>\n",
       "      <td>183</td>\n",
       "      <td>64</td>\n",
       "      <td>0</td>\n",
       "      <td>0</td>\n",
       "      <td>23.3</td>\n",
       "      <td>0.672</td>\n",
       "      <td>32</td>\n",
       "      <td>1</td>\n",
       "    </tr>\n",
       "    <tr>\n",
       "      <th>3</th>\n",
       "      <td>1</td>\n",
       "      <td>89</td>\n",
       "      <td>66</td>\n",
       "      <td>23</td>\n",
       "      <td>94</td>\n",
       "      <td>28.1</td>\n",
       "      <td>0.167</td>\n",
       "      <td>21</td>\n",
       "      <td>0</td>\n",
       "    </tr>\n",
       "    <tr>\n",
       "      <th>4</th>\n",
       "      <td>0</td>\n",
       "      <td>137</td>\n",
       "      <td>40</td>\n",
       "      <td>35</td>\n",
       "      <td>168</td>\n",
       "      <td>43.1</td>\n",
       "      <td>2.288</td>\n",
       "      <td>33</td>\n",
       "      <td>1</td>\n",
       "    </tr>\n",
       "    <tr>\n",
       "      <th>...</th>\n",
       "      <td>...</td>\n",
       "      <td>...</td>\n",
       "      <td>...</td>\n",
       "      <td>...</td>\n",
       "      <td>...</td>\n",
       "      <td>...</td>\n",
       "      <td>...</td>\n",
       "      <td>...</td>\n",
       "      <td>...</td>\n",
       "    </tr>\n",
       "    <tr>\n",
       "      <th>763</th>\n",
       "      <td>10</td>\n",
       "      <td>101</td>\n",
       "      <td>76</td>\n",
       "      <td>48</td>\n",
       "      <td>180</td>\n",
       "      <td>32.9</td>\n",
       "      <td>0.171</td>\n",
       "      <td>63</td>\n",
       "      <td>0</td>\n",
       "    </tr>\n",
       "    <tr>\n",
       "      <th>764</th>\n",
       "      <td>2</td>\n",
       "      <td>122</td>\n",
       "      <td>70</td>\n",
       "      <td>27</td>\n",
       "      <td>0</td>\n",
       "      <td>36.8</td>\n",
       "      <td>0.340</td>\n",
       "      <td>27</td>\n",
       "      <td>0</td>\n",
       "    </tr>\n",
       "    <tr>\n",
       "      <th>765</th>\n",
       "      <td>5</td>\n",
       "      <td>121</td>\n",
       "      <td>72</td>\n",
       "      <td>23</td>\n",
       "      <td>112</td>\n",
       "      <td>26.2</td>\n",
       "      <td>0.245</td>\n",
       "      <td>30</td>\n",
       "      <td>0</td>\n",
       "    </tr>\n",
       "    <tr>\n",
       "      <th>766</th>\n",
       "      <td>1</td>\n",
       "      <td>126</td>\n",
       "      <td>60</td>\n",
       "      <td>0</td>\n",
       "      <td>0</td>\n",
       "      <td>30.1</td>\n",
       "      <td>0.349</td>\n",
       "      <td>47</td>\n",
       "      <td>1</td>\n",
       "    </tr>\n",
       "    <tr>\n",
       "      <th>767</th>\n",
       "      <td>1</td>\n",
       "      <td>93</td>\n",
       "      <td>70</td>\n",
       "      <td>31</td>\n",
       "      <td>0</td>\n",
       "      <td>30.4</td>\n",
       "      <td>0.315</td>\n",
       "      <td>23</td>\n",
       "      <td>0</td>\n",
       "    </tr>\n",
       "  </tbody>\n",
       "</table>\n",
       "<p>752 rows × 9 columns</p>\n",
       "</div>"
      ],
      "text/plain": [
       "     pregnancies  glucose  diastolic  triceps  insulin   bmi    dpf  age  \\\n",
       "0              6      148         72       35        0  33.6  0.627   50   \n",
       "1              1       85         66       29        0  26.6  0.351   31   \n",
       "2              8      183         64        0        0  23.3  0.672   32   \n",
       "3              1       89         66       23       94  28.1  0.167   21   \n",
       "4              0      137         40       35      168  43.1  2.288   33   \n",
       "..           ...      ...        ...      ...      ...   ...    ...  ...   \n",
       "763           10      101         76       48      180  32.9  0.171   63   \n",
       "764            2      122         70       27        0  36.8  0.340   27   \n",
       "765            5      121         72       23      112  26.2  0.245   30   \n",
       "766            1      126         60        0        0  30.1  0.349   47   \n",
       "767            1       93         70       31        0  30.4  0.315   23   \n",
       "\n",
       "     diabetes  \n",
       "0           1  \n",
       "1           0  \n",
       "2           1  \n",
       "3           0  \n",
       "4           1  \n",
       "..        ...  \n",
       "763         0  \n",
       "764         0  \n",
       "765         0  \n",
       "766         1  \n",
       "767         0  \n",
       "\n",
       "[752 rows x 9 columns]"
      ]
     },
     "execution_count": 9,
     "metadata": {},
     "output_type": "execute_result"
    }
   ],
   "source": [
    "df_diabets.drop(df_filtered.index, inplace=True)\n",
    "df_diabets"
   ]
  },
  {
   "cell_type": "code",
   "execution_count": 10,
   "id": "fd9b1c56",
   "metadata": {},
   "outputs": [
    {
     "data": {
      "text/plain": [
       "(numpy.ndarray, numpy.ndarray)"
      ]
     },
     "execution_count": 10,
     "metadata": {},
     "output_type": "execute_result"
    }
   ],
   "source": [
    "# Creating feature and target arrays\n",
    "X = df_diabets.drop('glucose', axis=1).values\n",
    "y = df_diabets['glucose'].values\n",
    "\n",
    "(type(X), type(y))"
   ]
  },
  {
   "cell_type": "code",
   "execution_count": 11,
   "id": "9ba26aba",
   "metadata": {},
   "outputs": [
    {
     "data": {
      "text/plain": [
       "((752,), (752,))"
      ]
     },
     "execution_count": 11,
     "metadata": {},
     "output_type": "execute_result"
    }
   ],
   "source": [
    "# Making predictions from a single feature\n",
    "X_bmi = X[:, 4]\n",
    "(X_bmi.shape, y.shape)"
   ]
  },
  {
   "cell_type": "code",
   "execution_count": 12,
   "id": "31ba81f9",
   "metadata": {},
   "outputs": [
    {
     "data": {
      "text/plain": [
       "(752, 1)"
      ]
     },
     "execution_count": 12,
     "metadata": {},
     "output_type": "execute_result"
    }
   ],
   "source": [
    "# bu y için iyidir, ancak özelliklerimizin scikit-learn tarafından kabul edimesi içim iki boyutlu bir dizi olarak \n",
    "#biçimlendrilmesi gerekir.\n",
    "X_bmi = X_bmi.reshape(-1, 1)\n",
    "X_bmi.shape"
   ]
  },
  {
   "cell_type": "code",
   "execution_count": 13,
   "id": "dfd22f2f",
   "metadata": {},
   "outputs": [
    {
     "data": {
      "text/plain": [
       "Text(0.5, 0, 'Body Mass Index')"
      ]
     },
     "execution_count": 13,
     "metadata": {},
     "output_type": "execute_result"
    },
    {
     "data": {
      "image/png": "[encoded data removed]",
      "text/plain": [
       "<Figure size 640x480 with 1 Axes>"
      ]
     },
     "metadata": {},
     "output_type": "display_data"
    }
   ],
   "source": [
    "import matplotlib.pyplot as plt\n",
    "\n",
    "plt.scatter(X_bmi,y)\n",
    "plt.ylabel('Blood Glucose (mg/dl)')\n",
    "plt.xlabel('Body Mass Index')"
   ]
  },
  {
   "cell_type": "code",
   "execution_count": 14,
   "id": "cbd99ce5",
   "metadata": {},
   "outputs": [
    {
     "data": {
      "text/plain": [
       "Text(0.5, 0, 'Body Mass Index')"
      ]
     },
     "execution_count": 14,
     "metadata": {},
     "output_type": "execute_result"
    },
    {
     "data": {
      "image/png": "[encoded data removed]",
      "text/plain": [
       "<Figure size 640x480 with 1 Axes>"
      ]
     },
     "metadata": {},
     "output_type": "display_data"
    }
   ],
   "source": [
    "from sklearn.linear_model import LinearRegression\n",
    "\n",
    "model_reg = LinearRegression()\n",
    "model_reg.fit(X_bmi, y)\n",
    "\n",
    "predictions = model_reg.predict(X_bmi)\n",
    "\n",
    "plt.scatter(X_bmi, y)\n",
    "plt.plot(X_bmi, predictions)\n",
    "plt.ylabel('Blood Glucose (mg/dl)')\n",
    "plt.xlabel('Body Mass Index')"
   ]
  },
  {
   "cell_type": "markdown",
   "id": "93b8c7a8",
   "metadata": {},
   "source": [
    "# The basics of linear regression  \n",
    "### Regresyon mekaniği  \n",
    "Verilere bir çizgi uydurmak istenir ve iki boyutta bu y=ax+b biçimini alır. Tek bir özellik kullanmak basit doğrusal regresyon olarak bilinir , burada y hedef , x özellik ve a ve b öğrenmek istediğimiz model parametreleridir. a ve b ayrıca model katsayıları veya sırasıyla slope ve intercept olarak da adlandırılır. Peki a ve b için değerler nasıl doğru bir şekilde seçilir? Herhangi bir verilen çizgi için bir hata fonksiyonu tanımlanabilir ve ardından bu fonksiyonu en aza indiren çizgi seçilebilir. Error fonksiyonlarına ayrıca loss veya cost fonksiyonlarıda denir.  \n",
    "### Loss Function  \n",
    "Bu dağılım grafiğini kullanarak bir kayıp fonksiyonunu görselleştirelim. Doğrunun gözlemlere mümkün olduğunca yakın olmasını istiyoruz. Bu nedenle, uyum ve veri arasındaki dikey mesafeyi en aza indirmek istiyoruz. Bu yüzden her gözlem için , gözlem ile doğru arasındaki dikey mesafeyi hesaplıyoruz. Bu mesafeye residual denir."
   ]
  },
  {
   "cell_type": "code",
   "execution_count": 15,
   "id": "e3533458",
   "metadata": {},
   "outputs": [
    {
     "ename": "NameError",
     "evalue": "name 'Error' is not defined",
     "output_type": "error",
     "traceback": [
      "\u001b[1;31m---------------------------------------------------------------------------\u001b[0m",
      "\u001b[1;31mNameError\u001b[0m                                 Traceback (most recent call last)",
      "Input \u001b[1;32mIn [15]\u001b[0m, in \u001b[0;36m<cell line: 23>\u001b[1;34m()\u001b[0m\n\u001b[0;32m     23\u001b[0m \u001b[38;5;28;01mfor\u001b[39;00m i \u001b[38;5;129;01min\u001b[39;00m \u001b[38;5;28mrange\u001b[39m(\u001b[38;5;28mlen\u001b[39m(X)):\n\u001b[0;32m     24\u001b[0m     plt\u001b[38;5;241m.\u001b[39mplot([X[i], X[i]], [Y[i], Y_fit[i]], color\u001b[38;5;241m=\u001b[39m\u001b[38;5;124m'\u001b[39m\u001b[38;5;124mgray\u001b[39m\u001b[38;5;124m'\u001b[39m, linestyle\u001b[38;5;241m=\u001b[39m\u001b[38;5;124m'\u001b[39m\u001b[38;5;124mdotted\u001b[39m\u001b[38;5;124m'\u001b[39m)\n\u001b[1;32m---> 25\u001b[0m     \u001b[38;5;28;01mif\u001b[39;00m i \u001b[38;5;241m==\u001b[39m \u001b[38;5;241m4\u001b[39m: Error\n",
      "\u001b[1;31mNameError\u001b[0m: name 'Error' is not defined"
     ]
    },
    {
     "data": {
      "image/png": "[encoded data removed]",
      "text/plain": [
       "<Figure size 1000x600 with 1 Axes>"
      ]
     },
     "metadata": {},
     "output_type": "display_data"
    }
   ],
   "source": [
    "import numpy as np\n",
    "import matplotlib.pyplot as plt\n",
    "\n",
    "# Generate random data for the scatter plot\n",
    "np.random.seed(42)\n",
    "X = np.linspace(0, 10, 20)\n",
    "Y = 3 * X + 5 + np.random.normal(0, 3, size=len(X))\n",
    "\n",
    "# Fit a line (y = mx + c) manually\n",
    "m = 3  # slope\n",
    "c = 5  # intercept\n",
    "Y_fit = m * X + c\n",
    "\n",
    "# Calculate residuals (vertical distances between points and the line)\n",
    "residuals = Y - Y_fit\n",
    "\n",
    "# Plot the scatter plot and the fitted line\n",
    "plt.figure(figsize=(10, 6))\n",
    "plt.scatter(X, Y, color='blue', label='Data points')\n",
    "plt.plot(X, Y_fit, color='red', label='Fitted line (y = 3x + 5)')\n",
    "\n",
    "# Add vertical lines to represent residuals\n",
    "for i in range(len(X)):\n",
    "    plt.plot([X[i], X[i]], [Y[i], Y_fit[i]], color='gray', linestyle='dotted')\n",
    "    if i == 4: Error\n",
    "        \n",
    "# RSS araştır"
   ]
  },
  {
   "cell_type": "markdown",
   "id": "47067774",
   "metadata": {},
   "source": [
    "ordinary"
   ]
  },
  {
   "cell_type": "code",
   "execution_count": 16,
   "id": "4e8642eb",
   "metadata": {},
   "outputs": [
    {
     "data": {
      "image/png": "[encoded data removed]",
      "text/plain": [
       "<Figure size 1000x600 with 1 Axes>"
      ]
     },
     "metadata": {},
     "output_type": "display_data"
    }
   ],
   "source": [
    "import numpy as np\n",
    "import matplotlib.pyplot as plt\n",
    "\n",
    "# Generate random data for the scatter plot\n",
    "np.random.seed(42)\n",
    "X = np.linspace(0, 10, 20)\n",
    "Y = 3 * X + 5 + np.random.normal(0, 3, size=len(X))\n",
    "\n",
    "# Fit a line (y = mx + c) manually\n",
    "m = 3  # slope\n",
    "c = 5  # intercept\n",
    "Y_fit = m * X + c\n",
    "\n",
    "# Calculate residuals (vertical distances between points and the line)\n",
    "residuals = Y - Y_fit\n",
    "\n",
    "# Plot the scatter plot and the fitted line\n",
    "plt.figure(figsize=(10, 6))\n",
    "plt.scatter(X, Y, color='blue', label='Data points')\n",
    "plt.plot(X, Y_fit, color='red', label='Fitted line (y = 3x + 5)')\n",
    "\n",
    "# Add vertical lines to represent residuals\n",
    "for i in range(len(X)):\n",
    "    plt.plot([X[i], X[i]], [Y[i], Y_fit[i]], color='gray', linestyle='dotted')\n",
    "    if i == 4:  # Add a label to one residual line\n",
    "        plt.text(X[i], (Y[i] + Y_fit[i]) / 2, 'Residual', color='black', fontsize=10, ha='right')\n",
    "\n",
    "# Customize the plot\n",
    "plt.title('Visualizing a Loss Function: Residuals')\n",
    "plt.xlabel('X')\n",
    "plt.ylabel('Y')\n",
    "plt.legend()\n",
    "plt.grid(True)\n",
    "\n",
    "# Show the plot\n",
    "plt.show()"
   ]
  },
  {
   "cell_type": "markdown",
   "id": "f25c1353",
   "metadata": {},
   "source": [
    "### Ordinary Least Squares  \n",
    "Artıkların toplamını en aza indirmeyi deneyebiliriz , ancak o zaman her pozitif artık her negatif artığı iptal edecektir.Bundan kaçınmak için kalıntıların karesini alırız. Tüm kareli kalıntıları toplayarak kalıntı kareler toplamını veya RSS'yi hesaplarız. RSS'yi en aza indirmeyi amaçladığımız bu doğrusal regresyon türüne  Sıradan En Küçük Kareler veya OLS denir."
   ]
  },
  {
   "cell_type": "markdown",
   "id": "2b301ce9",
   "metadata": {},
   "source": [
    "### R-squared  \n",
    "Doğrusal regresyon için varsayılan metrik , özellikler tarafından açıklanan hedef değişkendeki varyans miktarını ölçen R-kare değeridir. Değerler 0 ile 1 arasında değişebilir , bir özelliklerin hedefin varyansını tamamen açıkladığı anlamına gelir. Burada sırasıyla yüksek ve düşük R-kare değerlerini görselleştiren iki grafik yer almaktadır."
   ]
  },
  {
   "cell_type": "code",
   "execution_count": 15,
   "id": "d75eda18",
   "metadata": {},
   "outputs": [
    {
     "data": {
      "text/plain": [
       "\"\\nDiyabet veri kümesindeki tüm özellikleri kullanarak kan şekeri seviyelerini tahmin etmek için doğrusal regresyon gerçekleştirelim. \\nLinearRegression'ı sklearn-dot-linear_model'den içe aktarıyoruz. Ardından verileri eğitim ve test kümelerine ayırıyoruz, modeli \\nörneklendiriyoruz, eğitim kümesine yerleştiriyoruz ve test kümesinde tahmin ediyoruz. \\nScikit-learn'deki doğrusal regresyonun kaputun altında OLS gerçekleştirdiğini unutmayın. \\n\""
      ]
     },
     "execution_count": 15,
     "metadata": {},
     "output_type": "execute_result"
    }
   ],
   "source": [
    "from sklearn.model_selection import train_test_split\n",
    "from sklearn.linear_model import LinearRegression\n",
    "\n",
    "import pandas as pd\n",
    "\n",
    "df_diabets = pd.read_csv('data/diabetes_clean.csv')\n",
    "\n",
    "df_filtered = df_diabets[(df_diabets['bmi'] == 0.0) | (df_diabets['glucose'] == 0)]\n",
    "df_diabets.drop(df_filtered.index, inplace=True)\n",
    "\n",
    "\n",
    "X = df_diabets.drop('glucose', axis=1).values\n",
    "y = df_diabets['glucose'].values\n",
    "\n",
    "\n",
    "X_train, X_test, y_train, y_test =train_test_split(X, y, test_size=0.2, random_state=42)\n",
    "\n",
    "\n",
    "model_reg = LinearRegression()\n",
    "model_reg.fit(X_train, y_train)\n",
    "\n",
    "y_pred = model_reg.predict(X_test)\n",
    "'''\n",
    "Diyabet veri kümesindeki tüm özellikleri kullanarak kan şekeri seviyelerini tahmin etmek için doğrusal regresyon gerçekleştirelim. \n",
    "LinearRegression'ı sklearn-dot-linear_model'den içe aktarıyoruz. Ardından verileri eğitim ve test kümelerine ayırıyoruz, modeli \n",
    "örneklendiriyoruz, eğitim kümesine yerleştiriyoruz ve test kümesinde tahmin ediyoruz. \n",
    "Scikit-learn'deki doğrusal regresyonun kaputun altında OLS gerçekleştirdiğini unutmayın. \n",
    "'''"
   ]
  },
  {
   "cell_type": "code",
   "execution_count": 16,
   "id": "fdd558ae",
   "metadata": {},
   "outputs": [
    {
     "data": {
      "text/plain": [
       "0.3282802627263197"
      ]
     },
     "execution_count": 16,
     "metadata": {},
     "output_type": "execute_result"
    }
   ],
   "source": [
    "model_reg.score(X_test, y_test)"
   ]
  },
  {
   "cell_type": "code",
   "execution_count": 17,
   "id": "4791b8bd",
   "metadata": {},
   "outputs": [
    {
     "data": {
      "text/plain": [
       "75.72429261281269"
      ]
     },
     "execution_count": 17,
     "metadata": {},
     "output_type": "execute_result"
    }
   ],
   "source": [
    "model_reg.intercept_"
   ]
  },
  {
   "cell_type": "code",
   "execution_count": 18,
   "id": "35d08602",
   "metadata": {},
   "outputs": [
    {
     "data": {
      "text/plain": [
       "array([-0.32654116,  0.14686555, -0.27590315,  0.08606826,  0.36160446,\n",
       "        1.8382773 ,  0.42185562, 25.08247323])"
      ]
     },
     "execution_count": 18,
     "metadata": {},
     "output_type": "execute_result"
    }
   ],
   "source": [
    "model_reg.coef_"
   ]
  },
  {
   "cell_type": "markdown",
   "id": "f016e78d",
   "metadata": {},
   "source": [
    "### Mean squared error and root mean squared error  \n",
    "Bir regresyon modelinin performansını değerlendirmenin bir başka yolu da artık kareler toplamının ortalamasını almaktır. Bu ortalama karesel hata veya MSE olarak bilinir. MSE, hedef değişkenimizin karesi cinsinden ölçülür. Örneğin , bir model bir dolar değerini tahmin ediyorsa , MSE dolar kare cinsinden olacaktır. Dolara dönüştürmek için , kök ortalama karesel hata veya RMSE olarak bilinen karekökü alabiliriz."
   ]
  },
  {
   "cell_type": "markdown",
   "id": "7df23900",
   "metadata": {},
   "source": [
    "### RMSE in scikit-learn  \n",
    "RMSE'yi hesaplamak için sklearn-dot-metrics'ten mean_Squared_error'ı içe aktarıyoruz , ardından mean_squared_error'ı çağırıyoruz. y_test ve y_pred değerlerini geçiyoruz ve squared değerini false olarak ayarlıyoruz, bu da MSE'nin karekökünü döndürüyor. Model kan şekeri seviyeleri için desilitre başına yaklaşık 25 miligramlık bir ortalama hataya sahiptir."
   ]
  },
  {
   "cell_type": "code",
   "execution_count": 19,
   "id": "b657e1d5",
   "metadata": {},
   "outputs": [
    {
     "data": {
      "text/plain": [
       "25.695203763480208"
      ]
     },
     "execution_count": 19,
     "metadata": {},
     "output_type": "execute_result"
    }
   ],
   "source": [
    "from sklearn.metrics import root_mean_squared_error\n",
    "\n",
    "root_mean_squared_error(y_test, y_pred)"
   ]
  },
  {
   "cell_type": "markdown",
   "id": "722b3956",
   "metadata": {},
   "source": [
    "# Cross-validation"
   ]
  },
  {
   "cell_type": "code",
   "execution_count": null,
   "id": "07b44801",
   "metadata": {},
   "outputs": [],
   "source": []
  },
  {
   "cell_type": "code",
   "execution_count": null,
   "id": "ab5ca10e",
   "metadata": {},
   "outputs": [],
   "source": []
  },
  {
   "cell_type": "code",
   "execution_count": null,
   "id": "8a209c12",
   "metadata": {},
   "outputs": [],
   "source": []
  }
 ],
 "metadata": {
  "kernelspec": {
   "display_name": "Python 3 (ipykernel)",
   "language": "python",
   "name": "python3"
  },
  "language_info": {
   "codemirror_mode": {
    "name": "ipython",
    "version": 3
   },
   "file_extension": ".py",
   "mimetype": "text/x-python",
   "name": "python",
   "nbconvert_exporter": "python",
   "pygments_lexer": "ipython3",
   "version": "3.12.4"
  }
 },
 "nbformat": 4,
 "nbformat_minor": 5
}
