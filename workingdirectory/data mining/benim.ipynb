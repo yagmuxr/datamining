{
 "cells": [
  {
   "cell_type": "markdown",
   "id": "54aeed63-4f1c-4223-9342-196f0d324f01",
   "metadata": {},
   "source": [
    "Bir okulda öğrencilerin sınav puanlarının ortalamasının 80 olup olmadığını test edin.\n",
    "bir grup ve oran olduğu için -> tek örneklem testi\n",
    "\n",
    "Çift yönlü test (two-tailed test), H₀ (null hipotezi) ve H₁ (alternatif hipotez)'in belirli bir değeri eşit ya da farklı olduğunu test etmek için kullanılır. Bu tür testlerde, hem daha büyük hem de daha küçük farkların anlamlı olup olmadığına bakılır.\n",
    "\n",
    "Neden Çift Yönlü Test Yapıyoruz?\n",
    "Tek örneklem t-testinin (one-sample t-test) formülünü ele alalım:\n",
    "\n",
    "H₀: Örneklem ortalaması, popülasyon ortalamasına eşittir. (µ = 80)\n",
    "H₁: Örneklem ortalaması, popülasyon ortalamasından farklıdır. (µ ≠ 80)\n",
    "Bu durumda, H₁'deki \"farklıdır\" ifadesi, iki olasılığı içerir:\n",
    "\n",
    "Örneklem ortalaması 80'den büyükse.\n",
    "Örneklem ortalaması 80'den küçükse.\n",
    "Bu yüzden, hem sağ hem de sol kuyrukları kontrol etmemiz gerekir. Yani çift yönlü test yapılır.\n",
    "\n"
   ]
  },
  {
   "cell_type": "code",
   "execution_count": 24,
   "id": "ad5f43aa-2391-4955-9849-89706627bf52",
   "metadata": {},
   "outputs": [
    {
     "data": {
      "text/plain": [
       "3.10392674421936"
      ]
     },
     "execution_count": 24,
     "metadata": {},
     "output_type": "execute_result"
    }
   ],
   "source": [
    "import numpy as np\n",
    "from scipy import stats\n",
    "alpha = 0.05\n",
    "# Öğrencilerin sınav puanları (örnek veri)\n",
    "exam_scores = [85, 90, 78, 88, 92, 77, 80, 84, 91, 89]\n",
    "ort = np.mean(exam_scores)\n",
    "n = len(exam_scores)\n",
    "hyp = 80\n",
    "s = np.std(exam_scores, ddof=1)\n",
    "payda = np.sqrt( s**2 / n)\n",
    "sonuc = (ort - hyp) / payda \n",
    "sonuc\n"
   ]
  },
  {
   "cell_type": "code",
   "execution_count": 26,
   "id": "0fd4f074-71a8-41f8-9ccf-a438b30ddd49",
   "metadata": {},
   "outputs": [
    {
     "name": "stdout",
     "output_type": "stream",
     "text": [
      "h0 red\n"
     ]
    }
   ],
   "source": [
    "degrees_of_freedom = n - 1\n",
    "#çift kuyruk testi\n",
    "t = 2 * (1 - stats.t.cdf(sonuc, df=degrees_of_freedom))\n",
    "t\n",
    "if t < alpha:\n",
    "    print(\"h0 red\")\n",
    "else:\n",
    "    print(\"h0 kabul\")\n",
    "\n"
   ]
  },
  {
   "cell_type": "markdown",
   "id": "ec92adf8-9a40-464a-8462-9bc029320435",
   "metadata": {},
   "source": [
    "Bir şehirdeki kadınlar ve erkeklerin maaşları arasında bir fark olup olmadığını test edin.\n",
    "\n",
    "\n",
    "\n",
    "\n",
    "\n",
    "\n",
    "\n"
   ]
  },
  {
   "cell_type": "code",
   "execution_count": 30,
   "id": "a2436e29-b50d-4ffc-9224-5ce3d9001e6d",
   "metadata": {},
   "outputs": [
    {
     "name": "stdout",
     "output_type": "stream",
     "text": [
      "h0 red\n"
     ]
    }
   ],
   "source": [
    "\n",
    "from scipy import stats\n",
    "\n",
    "# Kadınların maaşları (örnek veri)\n",
    "female_salaries = [5000, 5200, 5300, 5500, 4800, 5100, 5400, 5000, 5600, 5300]\n",
    "\n",
    "# Erkeklerin maaşları (örnek veri)\n",
    "male_salaries = [6000, 6300, 6200, 6100, 6400, 5900, 6500, 6600, 6300, 6200]\n",
    "\n",
    "x1 = np.mean(female_salaries)\n",
    "x2=np.mean(male_salaries)\n",
    "s1 = np.std(female_salaries, ddof=1)\n",
    "s2 = np.std(male_salaries, ddof=1)\n",
    "n1 = len(female_salaries)\n",
    "n2= len(male_salaries)\n",
    "pay = (x1 - x2)\n",
    "payda = np.sqrt((s1**2 / n1) + (s2**2 / n2))\n",
    "\n",
    "t_stat= pay / payda\n",
    "t_stat\n",
    "\n",
    "dof = n1 + n2 - 2\n",
    "\n",
    "#iki yönlü kuyruk\n",
    "\n",
    "p = s * ( 1 - stats.t.cdf(np.abs(t_stat), df=dof))\n",
    "\n",
    "if p < alpha:\n",
    "    print(\"h0 red\")\n",
    "else:\n",
    "    print(\"h0 kabul\")\n",
    "\n"
   ]
  },
  {
   "cell_type": "markdown",
   "id": "118a7eeb-0b04-461d-85c8-fd3ad665e0b7",
   "metadata": {},
   "source": [
    "Bir okulda çocukların %40'ının A+ notu aldığına dair iddiaları doğru mu? -> bunu python ile kodlayalım\n",
    "\n",
    "Bu soruda tek örneklem oran testi (One-Sample Proportion Test) kullanacağız. Çünkü burada tek bir grup (çocuklar) içerisindeki A+ notu alma oranının belirli bir değere (bu durumda %40) karşı test edilmesi isteniyor."
   ]
  },
  {
   "cell_type": "code",
   "execution_count": 43,
   "id": "8756a9a5-e0cc-428c-b988-032314d802d0",
   "metadata": {},
   "outputs": [
    {
     "name": "stdout",
     "output_type": "stream",
     "text": [
      "H0 kabul edilir: Çocukların A+ notu alma oranı %40'tır.\n"
     ]
    }
   ],
   "source": [
    "import numpy as np\n",
    "from scipy import stats\n",
    "\n",
    "alpha = 0.05\n",
    "# Örnekleme veri (örnek olarak 100 öğrenci verisi kullanalım)\n",
    "# A+ alan öğrenci sayısı\n",
    "num_A_plus = 45\n",
    "# Toplam öğrenci sayısı\n",
    "total_students = 100\n",
    "\n",
    "# Örneklem oranı\n",
    "p = num_A_plus / total_students\n",
    "\n",
    "# Popülasyon oranı\n",
    "p0 = 0.45\n",
    "\n",
    "# Standart hata (Standard Error)\n",
    "se = np.sqrt((p0 * (1 - p0)) / total_students)\n",
    "\n",
    "# Z-skoru hesaplama\n",
    "z = (p - p0) / se\n",
    "\n",
    "# Çift kuyruk testi (p-değerini hesaplama)\n",
    "sonuc = 2 * (1 - stats.norm.cdf(np.abs(z)))\n",
    "\n",
    "# Sonucu kontrol etme\n",
    "if sonuc < alpha:\n",
    "    print(\"H0 reddedilir: Çocukların A+ notu alma oranı %40'tan farklıdır.\")\n",
    "else:\n",
    "    print(\"H0 kabul edilir: Çocukların A+ notu alma oranı %40'tır.\")\n"
   ]
  },
  {
   "cell_type": "markdown",
   "id": "4c2e1511-42c1-473d-bf0f-0e8c5dfd018f",
   "metadata": {},
   "source": [
    "Öğrencilerin final sınavı puanları ile önceki sınav puanları arasındaki farkın anlamlı olup olmadığını test edin. \n",
    "bağımlı iki örneklem t-testini (paired sample t-test) kullanmamız gerekiyor. Çünkü burada aynı öğrencilerden alınan iki ölçüm (önceki sınav puanları ve final sınavı puanları) arasındaki farkı test edeceğiz."
   ]
  },
  {
   "cell_type": "code",
   "execution_count": 45,
   "id": "4e93b73d-76e9-4a62-88a6-7cf53a571d4f",
   "metadata": {},
   "outputs": [
    {
     "name": "stdout",
     "output_type": "stream",
     "text": [
      "H0 kabul edilir: Çocukların A+ notu alma oranı %40'tır.\n"
     ]
    }
   ],
   "source": [
    "import numpy as np\n",
    "from scipy import stats\n",
    "alpha = 0.05\n",
    "# Öğrencilerin önceki sınav ve final sınavı puanları (örnek veri)\n",
    "previous_scores = np.array([75, 80, 85, 90, 88, 70, 76, 82, 91, 84])\n",
    "final_scores = np.array([80, 85, 90, 95, 92, 74, 78, 86, 95, 89])\n",
    "x1 = np.mean(previous_scores)\n",
    "x2 = np.mean(final_scores)\n",
    "s1 = np.std(previous_scores, ddof=1)\n",
    "s2 = np.std(final_scores, ddof=1)\n",
    "n1 = len(previous_scores)\n",
    "n2 = len(final_scores)\n",
    "payda = np.sqrt((s1**2/n) + (s2**2/n))\n",
    "pay = x1 - x2\n",
    "t = pay / payda\n",
    "dof = n1 + n2 - 2\n",
    "#çift kuyruk\n",
    "p = 2 * ( 1 - stats.t.cdf(np.abs(t),df=dof))\n",
    "if p < alpha:\n",
    "    print(\"H0 reddedilir: Çocukların A+ notu alma oranı %40'tan farklıdır.\")\n",
    "else:\n",
    "    print(\"H0 kabul edilir: Çocukların A+ notu alma oranı %40'tır.\")\n"
   ]
  },
  {
   "cell_type": "markdown",
   "id": "01089323-81af-4041-8fff-16be537729b4",
   "metadata": {},
   "source": [
    "Bir okulda erkek ve kız öğrencilerin matematik sınavı ortalamalarını karşılaştırmak istiyoruz.\n",
    "iki grup ve sürekli değişken olduğu için iki örneklem t testi kulanılır"
   ]
  },
  {
   "cell_type": "code",
   "execution_count": 64,
   "id": "90ec4a98-6259-4958-a2d7-f82568591ace",
   "metadata": {},
   "outputs": [
    {
     "name": "stdout",
     "output_type": "stream",
     "text": [
      "Sonuç: Erkek ve kız öğrencilerin matematik sınavı ortalamaları arasında istatistiksel olarak anlamlı bir fark yok.\n",
      "0.8940893525776691\n",
      "0.3830734770927189\n"
     ]
    }
   ],
   "source": [
    "import numpy as np\n",
    "import pandas as pd\n",
    "alpha = 0.05\n",
    "erkek_puanlar = np.array([78, 85, 88, 92, 76, 81, 95, 89, 84, 91])\n",
    "kiz_puanlar = np.array([82, 79, 85, 88, 90, 83, 87, 80, 86, 78])\n",
    "\n",
    "x1 = np.mean(erkek_puanlar)\n",
    "x2 = np.mean(kiz_puanlar)\n",
    "s1 = np.std(erkek_puanlar, ddof=1)\n",
    "s2= np.std(kiz_puanlar, ddof=1)\n",
    "n1 = len(erkek_puanlar)\n",
    "n2=len(kiz_puanlar)\n",
    "pay = x1 - x2\n",
    "payda = np.sqrt( (s1**2)/n1 + (s2**2)/n2)\n",
    "t = pay/payda\n",
    "dof = n1 + n2 - 2\n",
    "#çift kuyruk testi\n",
    "from scipy import stats\n",
    "p = 2 * ( 1 - stats.t.cdf(np.abs(t), df=dof))\n",
    "\n",
    "if p < alpha:\n",
    "    print(\"Sonuç: Erkek ve kız öğrencilerin matematik sınavı ortalamaları arasında istatistiksel olarak anlamlı bir fark var.\")\n",
    "else:\n",
    "    print(\"Sonuç: Erkek ve kız öğrencilerin matematik sınavı ortalamaları arasında istatistiksel olarak anlamlı bir fark yok.\")\n",
    "\n",
    "print(t)\n",
    "print(p)"
   ]
  },
  {
   "cell_type": "code",
   "execution_count": 54,
   "id": "1b4acce0-daaa-40b4-9e4c-af1cd3b1b0d2",
   "metadata": {},
   "outputs": [
    {
     "name": "stdout",
     "output_type": "stream",
     "text": [
      "t-Statistik Değeri: 0.8940893525776693\n",
      "p-Değeri: 0.38307347709271866\n",
      "Sonuç: Erkek ve kız öğrencilerin matematik sınavı ortalamaları arasında istatistiksel olarak anlamlı bir fark yok.\n"
     ]
    }
   ],
   "source": [
    "import numpy as np\n",
    "from scipy.stats import ttest_ind\n",
    "\n",
    "# Örnek veri: Erkek ve kız öğrencilerin matematik sınavı puanları\n",
    "erkek_puanlar = np.array([78, 85, 88, 92, 76, 81, 95, 89, 84, 91])\n",
    "kiz_puanlar = np.array([82, 79, 85, 88, 90, 83, 87, 80, 86, 78])\n",
    "\n",
    "# Bağımsız t-testi\n",
    "t_stat, p_value = ttest_ind(erkek_puanlar, kiz_puanlar)\n",
    "\n",
    "# Sonuçları yazdır\n",
    "print(\"t-Statistik Değeri:\", t_stat)\n",
    "print(\"p-Değeri:\", p_value)\n",
    "\n",
    "# Karar\n",
    "alpha = 0.05  # İstatistiksel anlamlılık seviyesi\n",
    "if p_value < alpha:\n",
    "    print(\"Sonuç: Erkek ve kız öğrencilerin matematik sınavı ortalamaları arasında istatistiksel olarak anlamlı bir fark var.\")\n",
    "else:\n",
    "    print(\"Sonuç: Erkek ve kız öğrencilerin matematik sınavı ortalamaları arasında istatistiksel olarak anlamlı bir fark yok.\")\n"
   ]
  },
  {
   "cell_type": "markdown",
   "id": "a98fd082-d95e-4375-b9e0-fa0f2a425b0c",
   "metadata": {},
   "source": [
    "Stack Overflow kullanıcıları arasında 'child' kategorisinde olanların oranı gerçekten %35'twn büyük mü?\n",
    "Null Hipotezi (H0): 'child' kategorisinde olan kullanıcıların oranı %35'ten büyüktür\n",
    "#0ne sample proportion"
   ]
  },
  {
   "cell_type": "code",
   "execution_count": 66,
   "id": "6092ee66-be25-4409-bfd6-8c4463446097",
   "metadata": {},
   "outputs": [
    {
     "data": {
      "text/html": [
       "<div>\n",
       "<style scoped>\n",
       "    .dataframe tbody tr th:only-of-type {\n",
       "        vertical-align: middle;\n",
       "    }\n",
       "\n",
       "    .dataframe tbody tr th {\n",
       "        vertical-align: top;\n",
       "    }\n",
       "\n",
       "    .dataframe thead th {\n",
       "        text-align: right;\n",
       "    }\n",
       "</style>\n",
       "<table border=\"1\" class=\"dataframe\">\n",
       "  <thead>\n",
       "    <tr style=\"text-align: right;\">\n",
       "      <th></th>\n",
       "      <th>respondent</th>\n",
       "      <th>main_branch</th>\n",
       "      <th>hobbyist</th>\n",
       "      <th>age</th>\n",
       "      <th>age_1st_code</th>\n",
       "      <th>age_first_code_cut</th>\n",
       "      <th>comp_freq</th>\n",
       "      <th>comp_total</th>\n",
       "      <th>converted_comp</th>\n",
       "      <th>country</th>\n",
       "      <th>...</th>\n",
       "      <th>survey_length</th>\n",
       "      <th>trans</th>\n",
       "      <th>undergrad_major</th>\n",
       "      <th>webframe_desire_next_year</th>\n",
       "      <th>webframe_worked_with</th>\n",
       "      <th>welcome_change</th>\n",
       "      <th>work_week_hrs</th>\n",
       "      <th>years_code</th>\n",
       "      <th>years_code_pro</th>\n",
       "      <th>age_cat</th>\n",
       "    </tr>\n",
       "  </thead>\n",
       "  <tbody>\n",
       "    <tr>\n",
       "      <th>0</th>\n",
       "      <td>36.0</td>\n",
       "      <td>I am not primarily a developer, but I write co...</td>\n",
       "      <td>Yes</td>\n",
       "      <td>34.0</td>\n",
       "      <td>30.0</td>\n",
       "      <td>adult</td>\n",
       "      <td>Yearly</td>\n",
       "      <td>60000.0</td>\n",
       "      <td>77556.0</td>\n",
       "      <td>United Kingdom</td>\n",
       "      <td>...</td>\n",
       "      <td>Appropriate in length</td>\n",
       "      <td>No</td>\n",
       "      <td>Computer science, computer engineering, or sof...</td>\n",
       "      <td>Express;React.js</td>\n",
       "      <td>Express;React.js</td>\n",
       "      <td>Just as welcome now as I felt last year</td>\n",
       "      <td>40.0</td>\n",
       "      <td>4.0</td>\n",
       "      <td>3.0</td>\n",
       "      <td>At least 30</td>\n",
       "    </tr>\n",
       "    <tr>\n",
       "      <th>1</th>\n",
       "      <td>47.0</td>\n",
       "      <td>I am a developer by profession</td>\n",
       "      <td>Yes</td>\n",
       "      <td>53.0</td>\n",
       "      <td>10.0</td>\n",
       "      <td>child</td>\n",
       "      <td>Yearly</td>\n",
       "      <td>58000.0</td>\n",
       "      <td>74970.0</td>\n",
       "      <td>United Kingdom</td>\n",
       "      <td>...</td>\n",
       "      <td>Appropriate in length</td>\n",
       "      <td>No</td>\n",
       "      <td>A natural science (such as biology, chemistry,...</td>\n",
       "      <td>Flask;Spring</td>\n",
       "      <td>Flask;Spring</td>\n",
       "      <td>Just as welcome now as I felt last year</td>\n",
       "      <td>40.0</td>\n",
       "      <td>43.0</td>\n",
       "      <td>28.0</td>\n",
       "      <td>At least 30</td>\n",
       "    </tr>\n",
       "    <tr>\n",
       "      <th>2</th>\n",
       "      <td>69.0</td>\n",
       "      <td>I am a developer by profession</td>\n",
       "      <td>Yes</td>\n",
       "      <td>25.0</td>\n",
       "      <td>12.0</td>\n",
       "      <td>child</td>\n",
       "      <td>Yearly</td>\n",
       "      <td>550000.0</td>\n",
       "      <td>594539.0</td>\n",
       "      <td>France</td>\n",
       "      <td>...</td>\n",
       "      <td>Too short</td>\n",
       "      <td>No</td>\n",
       "      <td>Computer science, computer engineering, or sof...</td>\n",
       "      <td>Django;Flask</td>\n",
       "      <td>Django;Flask</td>\n",
       "      <td>Just as welcome now as I felt last year</td>\n",
       "      <td>40.0</td>\n",
       "      <td>13.0</td>\n",
       "      <td>3.0</td>\n",
       "      <td>Under 30</td>\n",
       "    </tr>\n",
       "    <tr>\n",
       "      <th>3</th>\n",
       "      <td>125.0</td>\n",
       "      <td>I am not primarily a developer, but I write co...</td>\n",
       "      <td>Yes</td>\n",
       "      <td>41.0</td>\n",
       "      <td>30.0</td>\n",
       "      <td>adult</td>\n",
       "      <td>Monthly</td>\n",
       "      <td>200000.0</td>\n",
       "      <td>2000000.0</td>\n",
       "      <td>United States</td>\n",
       "      <td>...</td>\n",
       "      <td>Appropriate in length</td>\n",
       "      <td>No</td>\n",
       "      <td>None</td>\n",
       "      <td>None</td>\n",
       "      <td>None</td>\n",
       "      <td>Just as welcome now as I felt last year</td>\n",
       "      <td>40.0</td>\n",
       "      <td>11.0</td>\n",
       "      <td>11.0</td>\n",
       "      <td>At least 30</td>\n",
       "    </tr>\n",
       "    <tr>\n",
       "      <th>4</th>\n",
       "      <td>147.0</td>\n",
       "      <td>I am not primarily a developer, but I write co...</td>\n",
       "      <td>No</td>\n",
       "      <td>28.0</td>\n",
       "      <td>15.0</td>\n",
       "      <td>adult</td>\n",
       "      <td>Yearly</td>\n",
       "      <td>50000.0</td>\n",
       "      <td>37816.0</td>\n",
       "      <td>Canada</td>\n",
       "      <td>...</td>\n",
       "      <td>Appropriate in length</td>\n",
       "      <td>No</td>\n",
       "      <td>Another engineering discipline (such as civil,...</td>\n",
       "      <td>None</td>\n",
       "      <td>Express;Flask</td>\n",
       "      <td>Just as welcome now as I felt last year</td>\n",
       "      <td>40.0</td>\n",
       "      <td>5.0</td>\n",
       "      <td>3.0</td>\n",
       "      <td>Under 30</td>\n",
       "    </tr>\n",
       "    <tr>\n",
       "      <th>...</th>\n",
       "      <td>...</td>\n",
       "      <td>...</td>\n",
       "      <td>...</td>\n",
       "      <td>...</td>\n",
       "      <td>...</td>\n",
       "      <td>...</td>\n",
       "      <td>...</td>\n",
       "      <td>...</td>\n",
       "      <td>...</td>\n",
       "      <td>...</td>\n",
       "      <td>...</td>\n",
       "      <td>...</td>\n",
       "      <td>...</td>\n",
       "      <td>...</td>\n",
       "      <td>...</td>\n",
       "      <td>...</td>\n",
       "      <td>...</td>\n",
       "      <td>...</td>\n",
       "      <td>...</td>\n",
       "      <td>...</td>\n",
       "      <td>...</td>\n",
       "    </tr>\n",
       "    <tr>\n",
       "      <th>2256</th>\n",
       "      <td>62812.0</td>\n",
       "      <td>I am a developer by profession</td>\n",
       "      <td>Yes</td>\n",
       "      <td>40.0</td>\n",
       "      <td>10.0</td>\n",
       "      <td>child</td>\n",
       "      <td>Yearly</td>\n",
       "      <td>145000.0</td>\n",
       "      <td>145000.0</td>\n",
       "      <td>United States</td>\n",
       "      <td>...</td>\n",
       "      <td>Too long</td>\n",
       "      <td>No</td>\n",
       "      <td>Computer science, computer engineering, or sof...</td>\n",
       "      <td>Flask;jQuery</td>\n",
       "      <td>Angular;Angular.js;Flask;jQuery;React.js</td>\n",
       "      <td>Somewhat less welcome now than last year</td>\n",
       "      <td>50.0</td>\n",
       "      <td>30.0</td>\n",
       "      <td>20.0</td>\n",
       "      <td>At least 30</td>\n",
       "    </tr>\n",
       "    <tr>\n",
       "      <th>2257</th>\n",
       "      <td>62835.0</td>\n",
       "      <td>I am a developer by profession</td>\n",
       "      <td>Yes</td>\n",
       "      <td>23.0</td>\n",
       "      <td>9.0</td>\n",
       "      <td>child</td>\n",
       "      <td>Monthly</td>\n",
       "      <td>180000.0</td>\n",
       "      <td>33972.0</td>\n",
       "      <td>Russian Federation</td>\n",
       "      <td>...</td>\n",
       "      <td>Too short</td>\n",
       "      <td>No</td>\n",
       "      <td>Computer science, computer engineering, or sof...</td>\n",
       "      <td>ASP.NET Core</td>\n",
       "      <td>ASP.NET Core;Flask</td>\n",
       "      <td>Just as welcome now as I felt last year</td>\n",
       "      <td>60.0</td>\n",
       "      <td>8.0</td>\n",
       "      <td>3.0</td>\n",
       "      <td>Under 30</td>\n",
       "    </tr>\n",
       "    <tr>\n",
       "      <th>2258</th>\n",
       "      <td>62837.0</td>\n",
       "      <td>I am a developer by profession</td>\n",
       "      <td>Yes</td>\n",
       "      <td>27.0</td>\n",
       "      <td>8.0</td>\n",
       "      <td>child</td>\n",
       "      <td>Monthly</td>\n",
       "      <td>7500.0</td>\n",
       "      <td>97284.0</td>\n",
       "      <td>Germany</td>\n",
       "      <td>...</td>\n",
       "      <td>Appropriate in length</td>\n",
       "      <td>No</td>\n",
       "      <td>Mathematics or statistics</td>\n",
       "      <td>None</td>\n",
       "      <td>None</td>\n",
       "      <td>Just as welcome now as I felt last year</td>\n",
       "      <td>42.0</td>\n",
       "      <td>12.0</td>\n",
       "      <td>2.0</td>\n",
       "      <td>Under 30</td>\n",
       "    </tr>\n",
       "    <tr>\n",
       "      <th>2259</th>\n",
       "      <td>62867.0</td>\n",
       "      <td>I am not primarily a developer, but I write co...</td>\n",
       "      <td>Yes</td>\n",
       "      <td>33.0</td>\n",
       "      <td>13.0</td>\n",
       "      <td>child</td>\n",
       "      <td>Monthly</td>\n",
       "      <td>6000.0</td>\n",
       "      <td>72000.0</td>\n",
       "      <td>Panama</td>\n",
       "      <td>...</td>\n",
       "      <td>Too long</td>\n",
       "      <td>No</td>\n",
       "      <td>Another engineering discipline (such as civil,...</td>\n",
       "      <td>None</td>\n",
       "      <td>Django;React.js</td>\n",
       "      <td>A lot less welcome now than last year</td>\n",
       "      <td>45.0</td>\n",
       "      <td>15.0</td>\n",
       "      <td>2.0</td>\n",
       "      <td>At least 30</td>\n",
       "    </tr>\n",
       "    <tr>\n",
       "      <th>2260</th>\n",
       "      <td>62882.0</td>\n",
       "      <td>I am a developer by profession</td>\n",
       "      <td>Yes</td>\n",
       "      <td>28.0</td>\n",
       "      <td>13.0</td>\n",
       "      <td>child</td>\n",
       "      <td>Yearly</td>\n",
       "      <td>180000.0</td>\n",
       "      <td>180000.0</td>\n",
       "      <td>United States</td>\n",
       "      <td>...</td>\n",
       "      <td>Appropriate in length</td>\n",
       "      <td>No</td>\n",
       "      <td>Computer science, computer engineering, or sof...</td>\n",
       "      <td>Angular;Express;Flask;React.js</td>\n",
       "      <td>Angular;Angular.js;Django;Drupal;Express;Flask</td>\n",
       "      <td>Just as welcome now as I felt last year</td>\n",
       "      <td>40.0</td>\n",
       "      <td>11.0</td>\n",
       "      <td>5.0</td>\n",
       "      <td>Under 30</td>\n",
       "    </tr>\n",
       "  </tbody>\n",
       "</table>\n",
       "<p>2261 rows × 63 columns</p>\n",
       "</div>"
      ],
      "text/plain": [
       "      respondent                                        main_branch hobbyist  \\\n",
       "0           36.0  I am not primarily a developer, but I write co...      Yes   \n",
       "1           47.0                     I am a developer by profession      Yes   \n",
       "2           69.0                     I am a developer by profession      Yes   \n",
       "3          125.0  I am not primarily a developer, but I write co...      Yes   \n",
       "4          147.0  I am not primarily a developer, but I write co...       No   \n",
       "...          ...                                                ...      ...   \n",
       "2256     62812.0                     I am a developer by profession      Yes   \n",
       "2257     62835.0                     I am a developer by profession      Yes   \n",
       "2258     62837.0                     I am a developer by profession      Yes   \n",
       "2259     62867.0  I am not primarily a developer, but I write co...      Yes   \n",
       "2260     62882.0                     I am a developer by profession      Yes   \n",
       "\n",
       "       age  age_1st_code age_first_code_cut comp_freq  comp_total  \\\n",
       "0     34.0          30.0              adult    Yearly     60000.0   \n",
       "1     53.0          10.0              child    Yearly     58000.0   \n",
       "2     25.0          12.0              child    Yearly    550000.0   \n",
       "3     41.0          30.0              adult   Monthly    200000.0   \n",
       "4     28.0          15.0              adult    Yearly     50000.0   \n",
       "...    ...           ...                ...       ...         ...   \n",
       "2256  40.0          10.0              child    Yearly    145000.0   \n",
       "2257  23.0           9.0              child   Monthly    180000.0   \n",
       "2258  27.0           8.0              child   Monthly      7500.0   \n",
       "2259  33.0          13.0              child   Monthly      6000.0   \n",
       "2260  28.0          13.0              child    Yearly    180000.0   \n",
       "\n",
       "      converted_comp             country  ...          survey_length trans  \\\n",
       "0            77556.0      United Kingdom  ...  Appropriate in length    No   \n",
       "1            74970.0      United Kingdom  ...  Appropriate in length    No   \n",
       "2           594539.0              France  ...              Too short    No   \n",
       "3          2000000.0       United States  ...  Appropriate in length    No   \n",
       "4            37816.0              Canada  ...  Appropriate in length    No   \n",
       "...              ...                 ...  ...                    ...   ...   \n",
       "2256        145000.0       United States  ...               Too long    No   \n",
       "2257         33972.0  Russian Federation  ...              Too short    No   \n",
       "2258         97284.0             Germany  ...  Appropriate in length    No   \n",
       "2259         72000.0              Panama  ...               Too long    No   \n",
       "2260        180000.0       United States  ...  Appropriate in length    No   \n",
       "\n",
       "                                        undergrad_major  \\\n",
       "0     Computer science, computer engineering, or sof...   \n",
       "1     A natural science (such as biology, chemistry,...   \n",
       "2     Computer science, computer engineering, or sof...   \n",
       "3                                                  None   \n",
       "4     Another engineering discipline (such as civil,...   \n",
       "...                                                 ...   \n",
       "2256  Computer science, computer engineering, or sof...   \n",
       "2257  Computer science, computer engineering, or sof...   \n",
       "2258                          Mathematics or statistics   \n",
       "2259  Another engineering discipline (such as civil,...   \n",
       "2260  Computer science, computer engineering, or sof...   \n",
       "\n",
       "           webframe_desire_next_year  \\\n",
       "0                   Express;React.js   \n",
       "1                       Flask;Spring   \n",
       "2                       Django;Flask   \n",
       "3                               None   \n",
       "4                               None   \n",
       "...                              ...   \n",
       "2256                    Flask;jQuery   \n",
       "2257                    ASP.NET Core   \n",
       "2258                            None   \n",
       "2259                            None   \n",
       "2260  Angular;Express;Flask;React.js   \n",
       "\n",
       "                                webframe_worked_with  \\\n",
       "0                                   Express;React.js   \n",
       "1                                       Flask;Spring   \n",
       "2                                       Django;Flask   \n",
       "3                                               None   \n",
       "4                                      Express;Flask   \n",
       "...                                              ...   \n",
       "2256        Angular;Angular.js;Flask;jQuery;React.js   \n",
       "2257                              ASP.NET Core;Flask   \n",
       "2258                                            None   \n",
       "2259                                 Django;React.js   \n",
       "2260  Angular;Angular.js;Django;Drupal;Express;Flask   \n",
       "\n",
       "                                welcome_change work_week_hrs years_code  \\\n",
       "0      Just as welcome now as I felt last year          40.0        4.0   \n",
       "1      Just as welcome now as I felt last year          40.0       43.0   \n",
       "2      Just as welcome now as I felt last year          40.0       13.0   \n",
       "3      Just as welcome now as I felt last year          40.0       11.0   \n",
       "4      Just as welcome now as I felt last year          40.0        5.0   \n",
       "...                                        ...           ...        ...   \n",
       "2256  Somewhat less welcome now than last year          50.0       30.0   \n",
       "2257   Just as welcome now as I felt last year          60.0        8.0   \n",
       "2258   Just as welcome now as I felt last year          42.0       12.0   \n",
       "2259     A lot less welcome now than last year          45.0       15.0   \n",
       "2260   Just as welcome now as I felt last year          40.0       11.0   \n",
       "\n",
       "     years_code_pro      age_cat  \n",
       "0               3.0  At least 30  \n",
       "1              28.0  At least 30  \n",
       "2               3.0     Under 30  \n",
       "3              11.0  At least 30  \n",
       "4               3.0     Under 30  \n",
       "...             ...          ...  \n",
       "2256           20.0  At least 30  \n",
       "2257            3.0     Under 30  \n",
       "2258            2.0     Under 30  \n",
       "2259            2.0  At least 30  \n",
       "2260            5.0     Under 30  \n",
       "\n",
       "[2261 rows x 63 columns]"
      ]
     },
     "execution_count": 66,
     "metadata": {},
     "output_type": "execute_result"
    }
   ],
   "source": [
    "df_stck = pd.read_feather(\"data/stack_overflow.feather\")\n",
    "df_stck"
   ]
  },
  {
   "cell_type": "code",
   "execution_count": 70,
   "id": "0f8f6984-44c7-4838-9061-4c6021c5f82f",
   "metadata": {},
   "outputs": [
    {
     "name": "stdout",
     "output_type": "stream",
     "text": [
      "H0 reddedilir.\n"
     ]
    }
   ],
   "source": [
    "hyp = 0.35\n",
    "alpha = 0.05\n",
    "pz = len(df_stck[df_stck['age_first_code_cut'] == 'child']) / len(df_stck)\n",
    "n = len(df_stck)\n",
    "se = np.sqrt( hyp * ( 1 - hyp ) / n)\n",
    "pay = pz - hyp \n",
    "z = pay / se\n",
    "#sağ kuyruk testi\n",
    "from scipy import stats\n",
    "sonuc = 1 - stats.norm.cdf(z)\n",
    "if sonuc < alpha:\n",
    "    print(\"H0 reddedilir.\")\n",
    "else:\n",
    "    print(\"H0 kabul edilir.\")\n"
   ]
  },
  {
   "cell_type": "markdown",
   "id": "5eb9a6db-e9fc-4780-af38-99566acfbb02",
   "metadata": {},
   "source": [
    "'adult' ve 'child' grupları arasındaki 'converted_comp' adlı değişkenin ortalamaları arasındaki farkın istatistiksel olarak anlamlı olup olmadığını test et.\n",
    "h0 = adult grubu ortalamasının child grubu ortalamasından büyüktür.\n",
    "#iki örneklem t testi kullanmalıyız"
   ]
  },
  {
   "cell_type": "code",
   "execution_count": 91,
   "id": "098356f1-5a17-46b4-90e3-fe3b5fa0a4ec",
   "metadata": {},
   "outputs": [
    {
     "name": "stdout",
     "output_type": "stream",
     "text": [
      "H0 reddedilir.\n"
     ]
    },
    {
     "data": {
      "text/plain": [
       "0.030811302165157595"
      ]
     },
     "execution_count": 91,
     "metadata": {},
     "output_type": "execute_result"
    }
   ],
   "source": [
    "alpha= 0.05\n",
    "x = df_stck.groupby('age_first_code_cut')['converted_comp'].mean()\n",
    "x1 = x.iloc[0]\n",
    "x2 = x.iloc[1]\n",
    "s = df_stck.groupby('age_first_code_cut')['converted_comp'].std()\n",
    "s1 = s.iloc[0]\n",
    "s2 = s.iloc[1]\n",
    "n = df_stck.groupby('age_first_code_cut')['converted_comp'].count()\n",
    "n1 = n.iloc[0]\n",
    "n2=n.iloc[1]\n",
    "pay = x1 - x2\n",
    "payda = np.sqrt((s1**2/n1) + (s2**2/n2))\n",
    "t_d= pay / payda\n",
    "dof = n1 + n2 - 2\n",
    "#sağ kuyruk testi\n",
    "from scipy import stats\n",
    "p = 1 - stats.t.cdf(np.abs(t_d), df=dof)\n",
    "if p < alpha:\n",
    "    print(\"H0 reddedilir.\")\n",
    "else:\n",
    "    print(\"H0 kabul edilir.\")\n",
    "p"
   ]
  },
  {
   "cell_type": "markdown",
   "id": "7e151935-0efc-4388-9e8a-42e84a7756ae",
   "metadata": {},
   "source": [
    "örneğin 2008 ve 2012 verilerinden yaratılan **`diff`** sütunu) tek bir örneklem verisi (farklar) üzerinden, “bu ortalama fark sıfır mı?” hipotezi test ediliyor.\n",
    "h0 = 2008 değerinin ort 2012 değerinin ort küçüktür.\n",
    "#tek örneklem t testi kullanılır çünkü tek veri -> diff sütunu)"
   ]
  },
  {
   "cell_type": "code",
   "execution_count": 101,
   "id": "c7624654-f2b3-4c8a-aa2d-37dd2f81e7dc",
   "metadata": {},
   "outputs": [
    {
     "name": "stdout",
     "output_type": "stream",
     "text": [
      "H0 reddedilir.\n"
     ]
    },
    {
     "data": {
      "text/plain": [
       "9.572537285063021e-08"
      ]
     },
     "execution_count": 101,
     "metadata": {},
     "output_type": "execute_result"
    }
   ],
   "source": [
    "import pandas as pd\n",
    "import numpy as np\n",
    "df_election = pd.read_feather('data/repub_votes_potus_08_12.feather')\n",
    "df_y = df_election.copy()\n",
    "df_y['diff'] = df_y['repub_percent_08'] - df_y['repub_percent_12']\n",
    "x = df_y['diff'].mean()\n",
    "m = 0\n",
    "s = np.std(df_y['diff'], ddof=1)\n",
    "n = len(df_y)\n",
    "payda = np.sqrt(s**2/n)\n",
    "pay = x - m\n",
    "t_d = pay /payda\n",
    "dof = n - 1\n",
    "#sol kuyruk\n",
    "from scipy import stats\n",
    "p = stats.t.cdf(np.abs(t_d), df=dof)\n",
    "p = 1 - stats.t.cdf(np.abs(t_d), df=dof)\n",
    "if p < alpha:\n",
    "    print(\"H0 reddedilir.\")\n",
    "else:\n",
    "    print(\"H0 kabul edilir.\")\n",
    "p"
   ]
  },
  {
   "cell_type": "code",
   "execution_count": null,
   "id": "35e008fa-28da-4ed0-9a13-8ab5afeb0637",
   "metadata": {},
   "outputs": [],
   "source": [
    "#H₀: 'job_sat' kategorisindeki grupların 'converted_comp' ortalamaları eşittir.\n",
    "#birden fazla grup olduğu için anova"
   ]
  },
  {
   "cell_type": "code",
   "execution_count": 109,
   "id": "8c1977ba-0e6c-4418-b965-1d1027ba648d",
   "metadata": {},
   "outputs": [
    {
     "data": {
      "text/html": [
       "<div>\n",
       "<style scoped>\n",
       "    .dataframe tbody tr th:only-of-type {\n",
       "        vertical-align: middle;\n",
       "    }\n",
       "\n",
       "    .dataframe tbody tr th {\n",
       "        vertical-align: top;\n",
       "    }\n",
       "\n",
       "    .dataframe thead th {\n",
       "        text-align: right;\n",
       "    }\n",
       "</style>\n",
       "<table border=\"1\" class=\"dataframe\">\n",
       "  <thead>\n",
       "    <tr style=\"text-align: right;\">\n",
       "      <th></th>\n",
       "      <th>Source</th>\n",
       "      <th>ddof1</th>\n",
       "      <th>ddof2</th>\n",
       "      <th>F</th>\n",
       "      <th>p-unc</th>\n",
       "      <th>np2</th>\n",
       "    </tr>\n",
       "  </thead>\n",
       "  <tbody>\n",
       "    <tr>\n",
       "      <th>0</th>\n",
       "      <td>job_sat</td>\n",
       "      <td>4</td>\n",
       "      <td>2256</td>\n",
       "      <td>4.480485</td>\n",
       "      <td>0.001315</td>\n",
       "      <td>0.007882</td>\n",
       "    </tr>\n",
       "  </tbody>\n",
       "</table>\n",
       "</div>"
      ],
      "text/plain": [
       "    Source  ddof1  ddof2         F     p-unc       np2\n",
       "0  job_sat      4   2256  4.480485  0.001315  0.007882"
      ]
     },
     "execution_count": 109,
     "metadata": {},
     "output_type": "execute_result"
    }
   ],
   "source": [
    "import pingouin\n",
    "pingouin.anova(data=df_stck , dv = \"converted_comp\" , between = \"job_sat\") # p değeri anlamlılık düzeyinden küçük. h0 reddedilir!"
   ]
  },
  {
   "cell_type": "markdown",
   "id": "65036cf7-4f4d-44a6-80a0-d3e0cb41d4c0",
   "metadata": {},
   "source": [
    "#Stackoverflow veri setindeki popülasyondaki kullanıcıların yarısının otuz yaşın altında olduğunu varsayalım ve bir fark olup olmadığını kontrol edelim. Anlamlılık düzeyini 0.01 olarak belirleyelim. Örneklemde , kullanıcıların yarısından biraz fazlası otuz yaşın altındadır.  \n",
    "H0 = 0.5  \n",
    "Ha != 0.5"
   ]
  },
  {
   "cell_type": "code",
   "execution_count": 137,
   "id": "0f6aadd4-fd0f-4f35-9d52-4f5349a1aa44",
   "metadata": {},
   "outputs": [
    {
     "name": "stdout",
     "output_type": "stream",
     "text": [
      "H0 reddedilir.\n"
     ]
    },
    {
     "data": {
      "text/plain": [
       "3.385911440783663"
      ]
     },
     "execution_count": 137,
     "metadata": {},
     "output_type": "execute_result"
    }
   ],
   "source": [
    "p_hat = (df_stck[\"age_cat\"] == \"Under 30\").mean()\n",
    "p_hat\n",
    "p0 = 0.5\n",
    "n=len(df_stck)\n",
    "se = np.sqrt( p0 * (1-p0) / n)\n",
    "pay = p_hat - p0\n",
    "sonuc = pay / se\n",
    "sonuc\n",
    "#çift kuyruk. çünkü küçüktür ya da byüktür diye belirtilmemiş\n",
    "from scipy import stats\n",
    "p = 2 * ( 1 - stats.norm.cdf(np.abs(sonuc)))\n",
    "if p < alpha:\n",
    "    print(\"H0 reddedilir.\")\n",
    "else:\n",
    "    print(\"H0 kabul edilir.\")\n",
    "sonuc"
   ]
  },
  {
   "cell_type": "markdown",
   "id": "f8bdeaaf-2338-4f6f-926a-3b8f3fcc6106",
   "metadata": {},
   "source": [
    "Stack Overflow anketi bir hobbyist değişkeni içermektedir. \"Evet\" değeri kullanıcının kendisini hobici olarak tanımladığı, \"Hayır\" değeri ise kendisini profesyonel olarak tanımladığı anlamına gelmektedir. Hobi sahibi kullanıcıların oranının otuz yaş altı kategorisi ile otuz yaş ve üstü kategorisi için aynı olduğu varsayılabilir, bu da iki kuyruklu bir testtir. Daha açık bir ifadeyle , boş hipotez her bir grup için popülasyon parametreleri arasındaki farkın sıfır olduğudur. Anlamlılık düzeyini 0.05 olarak belirleyelim.   \n",
    "H0 : p>=30 - p<30 =0  \n",
    "Ha : ? p>=30- p<30=! 0"
   ]
  },
  {
   "cell_type": "code",
   "execution_count": 158,
   "id": "9f82c3eb-d767-42a5-b003-3c2f250e8abb",
   "metadata": {},
   "outputs": [
    {
     "name": "stdout",
     "output_type": "stream",
     "text": [
      "H0 reddedilir.\n"
     ]
    },
    {
     "data": {
      "text/plain": [
       "2.6876347940296696e-05"
      ]
     },
     "execution_count": 158,
     "metadata": {},
     "output_type": "execute_result"
    }
   ],
   "source": [
    "p_hat = df_stck.groupby('age_cat')['hobbyist'].value_counts(normalize=True)\n",
    "otuz_buyuk = p_hat[('At least 30', 'Yes')]\n",
    "otuz_kucuk = p_hat[('Under 30', 'Yes')]\n",
    "n = df_stck.groupby('age_cat')['hobbyist'].count()\n",
    "n_30buyuk = n['At least 30']\n",
    "n_30kucuk = n['Under 30'] \n",
    "se = np.sqrt( (otuz_buyuk * ( 1 - otuz_buyuk) / n_30buyuk) + (otuz_kucuk * ( 1 - otuz_kucuk) / n_30kucuk))\n",
    "z = (otuz_buyuk - otuz_kucuk) / se\n",
    "z\n",
    "#çift kuyruk testi olmalı:\n",
    "from scipy import stats\n",
    "p = 2 * (1 - stats.norm.cdf(np.abs(z)))\n",
    "if p < alpha:\n",
    "    print(\"H0 reddedilir.\")\n",
    "else:\n",
    "    print(\"H0 kabul edilir.\")\n",
    "p"
   ]
  },
  {
   "cell_type": "markdown",
   "id": "85859114-c063-413e-8914-7c62866322a1",
   "metadata": {},
   "source": [
    "Bir telekomünikasyon şirketinin müşteri verilerine dayalı olarak, total_day_charge ve total_eve_charge değişkenlerini kullanarak, churn (hizmet iptali) durumunu tahmin etmek için bir K-Nearest Neighbors (KNN) modeli geliştirin. Modeli eğitin ve verilen yeni müşteri verileri (X_new) için hizmet iptali durumunu tahmin edin."
   ]
  },
  {
   "cell_type": "code",
   "execution_count": 164,
   "id": "f8d73b40-53ce-401c-b07c-4f1d35bf40fa",
   "metadata": {},
   "outputs": [
    {
     "name": "stderr",
     "output_type": "stream",
     "text": [
      "/opt/anaconda3/lib/python3.12/site-packages/sklearn/base.py:493: UserWarning: X does not have valid feature names, but KNeighborsClassifier was fitted with feature names\n",
      "  warnings.warn(\n"
     ]
    },
    {
     "data": {
      "text/plain": [
       "array([1, 0, 0])"
      ]
     },
     "execution_count": 164,
     "metadata": {},
     "output_type": "execute_result"
    }
   ],
   "source": [
    "import pandas as pd\n",
    "from sklearn.neighbors import KNeighborsClassifier\n",
    "import numpy as np\n",
    "X_new = np.array([\n",
    "    [56.8, 17.5],\n",
    "    [24.4, 24.1],\n",
    "    [50.1, 10.9]\n",
    "])\n",
    "df_churn = pd.read_csv(\"data/telecom_churn_clean.csv\")\n",
    "X = df_churn[['total_day_charge', 'total_eve_charge']] #bağımsız değişken\n",
    "y = df_churn['churn'] #bağımlı değişken\n",
    "model_knn = KNeighborsClassifier(n_neighbors=15)\n",
    "model_knn.fit(X,y) #model eğitimi\n",
    "predictions = model_knn.predict(X_new)\n",
    "predictions"
   ]
  },
  {
   "cell_type": "code",
   "execution_count": 329,
   "id": "570d9c29-56f8-4089-b05a-d4427a0e7606",
   "metadata": {},
   "outputs": [
    {
     "data": {
      "text/html": [
       "<div>\n",
       "<style scoped>\n",
       "    .dataframe tbody tr th:only-of-type {\n",
       "        vertical-align: middle;\n",
       "    }\n",
       "\n",
       "    .dataframe tbody tr th {\n",
       "        vertical-align: top;\n",
       "    }\n",
       "\n",
       "    .dataframe thead th {\n",
       "        text-align: right;\n",
       "    }\n",
       "</style>\n",
       "<table border=\"1\" class=\"dataframe\">\n",
       "  <thead>\n",
       "    <tr style=\"text-align: right;\">\n",
       "      <th></th>\n",
       "      <th>EmployeeID</th>\n",
       "      <th>Department</th>\n",
       "      <th>MonthlySalary</th>\n",
       "      <th>HoursWorked</th>\n",
       "      <th>RemoteWork</th>\n",
       "      <th>SatisfactionScore</th>\n",
       "    </tr>\n",
       "  </thead>\n",
       "  <tbody>\n",
       "    <tr>\n",
       "      <th>0</th>\n",
       "      <td>1</td>\n",
       "      <td>Sales</td>\n",
       "      <td>5087.05</td>\n",
       "      <td>40.07</td>\n",
       "      <td>0</td>\n",
       "      <td>3</td>\n",
       "    </tr>\n",
       "    <tr>\n",
       "      <th>1</th>\n",
       "      <td>2</td>\n",
       "      <td>Marketing</td>\n",
       "      <td>4700.99</td>\n",
       "      <td>47.27</td>\n",
       "      <td>0</td>\n",
       "      <td>5</td>\n",
       "    </tr>\n",
       "    <tr>\n",
       "      <th>2</th>\n",
       "      <td>3</td>\n",
       "      <td>HR</td>\n",
       "      <td>5091.76</td>\n",
       "      <td>38.68</td>\n",
       "      <td>0</td>\n",
       "      <td>5</td>\n",
       "    </tr>\n",
       "    <tr>\n",
       "      <th>3</th>\n",
       "      <td>4</td>\n",
       "      <td>IT</td>\n",
       "      <td>3012.43</td>\n",
       "      <td>53.60</td>\n",
       "      <td>0</td>\n",
       "      <td>2</td>\n",
       "    </tr>\n",
       "    <tr>\n",
       "      <th>4</th>\n",
       "      <td>5</td>\n",
       "      <td>Sales</td>\n",
       "      <td>4780.33</td>\n",
       "      <td>43.13</td>\n",
       "      <td>1</td>\n",
       "      <td>4</td>\n",
       "    </tr>\n",
       "    <tr>\n",
       "      <th>...</th>\n",
       "      <td>...</td>\n",
       "      <td>...</td>\n",
       "      <td>...</td>\n",
       "      <td>...</td>\n",
       "      <td>...</td>\n",
       "      <td>...</td>\n",
       "    </tr>\n",
       "    <tr>\n",
       "      <th>95</th>\n",
       "      <td>96</td>\n",
       "      <td>IT</td>\n",
       "      <td>4184.19</td>\n",
       "      <td>32.82</td>\n",
       "      <td>0</td>\n",
       "      <td>2</td>\n",
       "    </tr>\n",
       "    <tr>\n",
       "      <th>96</th>\n",
       "      <td>97</td>\n",
       "      <td>IT</td>\n",
       "      <td>4922.90</td>\n",
       "      <td>45.82</td>\n",
       "      <td>1</td>\n",
       "      <td>1</td>\n",
       "    </tr>\n",
       "    <tr>\n",
       "      <th>97</th>\n",
       "      <td>98</td>\n",
       "      <td>IT</td>\n",
       "      <td>5341.15</td>\n",
       "      <td>40.05</td>\n",
       "      <td>0</td>\n",
       "      <td>3</td>\n",
       "    </tr>\n",
       "    <tr>\n",
       "      <th>98</th>\n",
       "      <td>99</td>\n",
       "      <td>Sales</td>\n",
       "      <td>5276.69</td>\n",
       "      <td>35.09</td>\n",
       "      <td>0</td>\n",
       "      <td>1</td>\n",
       "    </tr>\n",
       "    <tr>\n",
       "      <th>99</th>\n",
       "      <td>100</td>\n",
       "      <td>Sales</td>\n",
       "      <td>5827.18</td>\n",
       "      <td>42.31</td>\n",
       "      <td>1</td>\n",
       "      <td>5</td>\n",
       "    </tr>\n",
       "  </tbody>\n",
       "</table>\n",
       "<p>100 rows × 6 columns</p>\n",
       "</div>"
      ],
      "text/plain": [
       "    EmployeeID Department  MonthlySalary  HoursWorked  RemoteWork  \\\n",
       "0            1      Sales        5087.05        40.07           0   \n",
       "1            2  Marketing        4700.99        47.27           0   \n",
       "2            3         HR        5091.76        38.68           0   \n",
       "3            4         IT        3012.43        53.60           0   \n",
       "4            5      Sales        4780.33        43.13           1   \n",
       "..         ...        ...            ...          ...         ...   \n",
       "95          96         IT        4184.19        32.82           0   \n",
       "96          97         IT        4922.90        45.82           1   \n",
       "97          98         IT        5341.15        40.05           0   \n",
       "98          99      Sales        5276.69        35.09           0   \n",
       "99         100      Sales        5827.18        42.31           1   \n",
       "\n",
       "    SatisfactionScore  \n",
       "0                   3  \n",
       "1                   5  \n",
       "2                   5  \n",
       "3                   2  \n",
       "4                   4  \n",
       "..                ...  \n",
       "95                  2  \n",
       "96                  1  \n",
       "97                  3  \n",
       "98                  1  \n",
       "99                  5  \n",
       "\n",
       "[100 rows x 6 columns]"
      ]
     },
     "execution_count": 329,
     "metadata": {},
     "output_type": "execute_result"
    }
   ],
   "source": [
    "df"
   ]
  },
  {
   "cell_type": "code",
   "execution_count": 331,
   "id": "a3651943-6776-4936-9a37-422ee33b1f5e",
   "metadata": {},
   "outputs": [
    {
     "data": {
      "text/plain": [
       "0.8560179977502812"
      ]
     },
     "execution_count": 331,
     "metadata": {},
     "output_type": "execute_result"
    }
   ],
   "source": [
    "df_churn = pd.read_csv(\"data/telecom_churn_clean.csv\")\n",
    "X = df_churn[['total_day_charge','total_eve_charge']].values\n",
    "y = df_churn['churn'].values \n",
    "X_train, X_test, y_train,y_test = train_test_split(X, y , train_size = 0.2,stratify=y)\n",
    "model = LogisticRegression()\n",
    "model.fit(X_train, y_train)\n",
    "y_pred = model.predict(X_test)\n",
    "acc = accuracy_score(y_test,y_pred)\n",
    "acc"
   ]
  },
  {
   "cell_type": "code",
   "execution_count": 353,
   "id": "13e454ab-72ee-4b2f-b921-bd365f5d1bc5",
   "metadata": {},
   "outputs": [
    {
     "name": "stdout",
     "output_type": "stream",
     "text": [
      "ho reddedilmez\n"
     ]
    }
   ],
   "source": [
    "import random\n",
    "rnd = random.sample(list(df['MonthlySalary']), 30)  \n",
    "x = np.mean(rnd)\n",
    "m = 5000\n",
    "s = np.std(rnd, ddof=1)\n",
    "n = len(rnd)\n",
    "payda = np.sqrt(s**2/n)\n",
    "t_d = (x-m) / payda\n",
    "dof = n - 1\n",
    "#çift kuyruk\n",
    "p = 2 * (1-t.cdf(np.abs(t_d), df=dof))\n",
    "if p < 0.05:\n",
    "    print(\"ho reddedilir\")\n",
    "else:\n",
    "    print(\"ho reddedilmez\")\n"
   ]
  },
  {
   "cell_type": "code",
   "execution_count": 411,
   "id": "432c1a07-7fb2-4028-9bcd-a5e22878b402",
   "metadata": {},
   "outputs": [
    {
     "name": "stdout",
     "output_type": "stream",
     "text": [
      "Model Doğruluğu: 0.35\n"
     ]
    }
   ],
   "source": [
    "from sklearn.preprocessing import LabelEncoder\n",
    "from sklearn.model_selection import train_test_split\n",
    "from sklearn.linear_model import LogisticRegression\n",
    "from sklearn.metrics import accuracy_score\n",
    "from sklearn.impute import SimpleImputer\n",
    "\n",
    "# Bağımsız değişkenler (X) ve bağımlı değişken (y) belirleme\n",
    "X = df[['HoursWorked', 'MonthlySalary', 'Department']]  # Bağımsız değişkenler\n",
    "y = df['RemoteWork']  # Bağımlı değişken (0 veya 1)\n",
    "\n",
    "# Eksik verileri doldurma\n",
    "imp = SimpleImputer(strategy='mean')\n",
    "X = imp.fit_transform(X)\n",
    "\n",
    "# Eğitim ve test verisine ayırma\n",
    "X_train, X_test, y_train, y_test = train_test_split(X, y, test_size=0.2, random_state=42)\n",
    "\n",
    "# Logistic Regression modeli\n",
    "model = LogisticRegression()\n",
    "model.fit(X_train, y_train)\n",
    "\n",
    "# Test verisi üzerinde tahmin yapma\n",
    "y_pred = model.predict(X_test)\n",
    "\n",
    "# Doğruluk skoru hesaplama\n",
    "accuracy = accuracy_score(y_test, y_pred)\n",
    "print(f\"Model Doğruluğu: {accuracy}\")\n"
   ]
  },
  {
   "cell_type": "markdown",
   "id": "ccdc1ab0-760a-4d36-8631-448faea4cdf7",
   "metadata": {},
   "source": [
    "### Sürekli Dağılım: \n",
    "Belirli bir aralıkta tüm olası değerleri alabilen ve sonsuz sayıda olası sonucu içeren dağılımlardır. \n",
    "# Normal Dağılım: Çan eğrisi şeklindedir. ( Doğal olaylar -> boy, ağırlık)\n",
    "# Uniform dağılım: Belli bir aralıkta tüm değerlerin eşit olasılıkta seçilebildiği dağılımdır. (0 - 1 arasında rastgele sayı seçmek)\n",
    "# Üstel dağılım: Olaylar arasındaki süreleri modellemek için kullanılır. (tel çağrısı süresi)\n",
    "\n",
    "### Kesikli Dağılım:\n",
    "Belli ve sayılabilir sayıda değer alabilen.\n",
    "# Binom Dağılım: Bir olayın belirli bir sayıda gerçekleşme olasılığını ifade eder.(10 kez zar atıldığında 3 kere 5 gelmesi)\n",
    "# Poisson Dağılımı: Belirli bir zaman aralığonda nadir olayların gelme olasılığı ( 2 saatte 1 müşteri gelmesi)"
   ]
  },
  {
   "cell_type": "code",
   "execution_count": 377,
   "id": "b50354ce-425c-4b08-91e8-7afdd8ae38e1",
   "metadata": {},
   "outputs": [
    {
     "name": "stdout",
     "output_type": "stream",
     "text": [
      "Chi2 İstatistiği: 32.768000000000015\n",
      "P-değeri: 1.0384026966524731e-08\n",
      "H0 reddedilir: Gözlenen ve beklenen frekanslar arasında anlamlı bir fark vardır.\n"
     ]
    }
   ],
   "source": [
    "import pandas as pd\n",
    "from scipy.stats import chisquare\n",
    "\n",
    "# Gözlenen frekansları hesapla\n",
    "rm = df['RemoteWork'].value_counts()\n",
    "rm = rm.rename_axis('RemoteWork').reset_index(name='n').sort_values('RemoteWork')\n",
    "\n",
    "# Beklenen frekansları hesapla (verilen oranlara göre)\n",
    "hyp = pd.DataFrame({\n",
    "    'RemoteWork': ['0', '1'],\n",
    "    'prop': [5/6, 1/6]  # Beklenen oranlar\n",
    "})\n",
    "\n",
    "# Toplam örneklem büyüklüğünü al\n",
    "n_total = len(df)\n",
    "\n",
    "# Beklenen frekansları hesapla\n",
    "hyp['n'] = hyp['prop'] * n_total\n",
    "\n",
    "# Chi-square testini uygula\n",
    "chi2_stat, p_value = chisquare(f_obs=rm['n'], f_exp=hyp['n'])\n",
    "\n",
    "# Sonuçları yazdır\n",
    "print(f\"Chi2 İstatistiği: {chi2_stat}\")\n",
    "print(f\"P-değeri: {p_value}\")\n",
    "\n",
    "# P-değerini yorumla\n",
    "alpha = 0.01\n",
    "if p_value < alpha:\n",
    "    print(\"H0 reddedilir: Gözlenen ve beklenen frekanslar arasında anlamlı bir fark vardır.\")\n",
    "else:\n",
    "    print(\"H0 reddedilmez: Gözlenen ve beklenen frekanslar arasında anlamlı bir fark yoktur.\")\n"
   ]
  },
  {
   "cell_type": "code",
   "execution_count": 180,
   "id": "cf974706-6018-4e12-8057-daf21393f785",
   "metadata": {},
   "outputs": [
    {
     "name": "stdout",
     "output_type": "stream",
     "text": [
      "Tahminler: [0 0 0 0 0 0 0 0 0 0 0 0 0 0 0 0 0 0 0 0 0 0 0 0 0 0 0 0 1 0 0 0 0 0 0 0 0\n",
      " 0 0 0 0 0 0 0 1 0 0 1 0 0 0 0 0 0 0 0 0 0 0 0 0 0 0 0 1 0 0 0 0 0 0 0 0 0\n",
      " 0 0 1 0 0 0 0 0 0 0 0 0 0 0 0 0 0 0 0 0 0 0 0 0 0 0 0 0 0 0 0 0 0 0 0 0 0\n",
      " 0 0 0 0 0 0 0 0 0 0 0 0 0 0 0 0 0 0 0 0 0 0 0 0 0 0 0 1 0 0 0 0 0 0 0 0 0\n",
      " 0 0 0 0 0 0 0 0 0 0 0 0 0 0 0 1 0 0 0 0 0 0 0 0 0 0 0 0 0 0 0 0 0 0 0 0 0\n",
      " 0 0 0 0 0 0 0 1 0 0 0 0 0 0 0 0 0 0 0 0 0 0 0 0 0 0 0 0 0 0 0 0 0 0 0 0 1\n",
      " 0 0 0 0 0 0 0 1 0 1 0 0 0 0 0 0 0 0 0 0 0 0 0 0 0 0 0 0 0 0 0 0 0 0 0 0 0\n",
      " 1 0 0 0 0 0 0 0 0 0 0 0 0 0 0 0 0 0 1 0 0 0 1 0 0 0 0 0 0 0 0 1 0 0 0 0 0\n",
      " 0 0 0 0 0 0 0 0 0 0 0 0 0 0 0 0 0 0 0 0 0 0 0 0 0 0 0 0 0 0 0 0 1 1 0 0 0\n",
      " 0 0 0 0 0 0 0 1 0 0 0 0 0 0 0 0 0 0 0 0 0 0 0 0 0 0 1 0 0 0 0 0 0 0 0 0 0\n",
      " 0 0 0 0 0 0 1 0 0 1 0 0 0 0 0 0 0 0 0 0 0 0 0 0 0 0 0 0 1 1 0 0 0 0 0 0 0\n",
      " 0 0 0 0 1 0 0 0 0 0 0 0 0 0 0 1 0 0 0 1 0 0 0 0 0 0 0 0 0 0 0 0 0 0 0 0 0\n",
      " 0 0 0 0 0 0 0 0 0 0 0 0 1 0 1 0 0 0 0 0 0 0 0 1 0 0 0 0 0 0 0 0 0 0 0 0 0\n",
      " 0 0 0 0 1 0 0 0 0 0 0 0 0 0 0 1 0 0 0 0 0 0 0 0 0 1 0 0 0 0 0 0 0 0 0 0 0\n",
      " 0 0 0 0 0 0 1 0 0 0 0 0 0 0 0 0 0 1 0 0 0 0 0 1 0 0 0 0 1 0 0 0 0 0 0 0 0\n",
      " 0 0 0 0 0 0 0 0 0 0 0 0 0 0 1 0 0 0 0 0 0 0 0 0 0 0 0 0 0 0 0 0 0 0 0 0 1\n",
      " 0 1 0 0 1 0 0 0 0 0 0 0 0 0 0 0 0 0 0 0 0 0 0 0 0 0 1 0 0 0 0 0 0 0 0 0 0\n",
      " 0 0 0 0 0 0 1 0 0 0 0 0 0 0 0 0 0 0 0 0 0 0 0 0 0 0 0 1 0 0 0 0 0 0 0 0 1\n",
      " 0]\n",
      "Doğruluk Skoru: 0.8605697151424287\n"
     ]
    }
   ],
   "source": [
    "from sklearn.model_selection import train_test_split\n",
    "from sklearn.neighbors import KNeighborsClassifier\n",
    "\n",
    "# Train/Test split\n",
    "X_train, X_test, y_train, y_test = train_test_split(X, y, test_size=0.2, random_state=42, stratify=y)\n",
    "\n",
    "# KNN Modeli\n",
    "knn = KNeighborsClassifier(n_neighbors=6)\n",
    "knn.fit(X_train, y_train)\n",
    "\n",
    "# Tahmin\n",
    "predictions = knn.predict(X_test)\n",
    "print(\"Tahminler:\", predictions)\n",
    "\n",
    "# Model Doğruluğu\n",
    "accuracy = knn.score(X_test, y_test)\n",
    "print(\"Doğruluk Skoru:\", accuracy)\n"
   ]
  },
  {
   "cell_type": "code",
   "execution_count": 198,
   "id": "d3064a8a-f4d6-470d-9b81-50ff36cf680f",
   "metadata": {},
   "outputs": [
    {
     "data": {
      "text/plain": [
       "Text(0.5, 0, 'Body Mass Index')"
      ]
     },
     "execution_count": 198,
     "metadata": {},
     "output_type": "execute_result"
    },
    {
     "data": {
      "image/png": "[encoded data removed]",
      "text/plain": [
       "<Figure size 640x480 with 1 Axes>"
      ]
     },
     "metadata": {},
     "output_type": "display_data"
    }
   ],
   "source": [
    "import pandas as pd\n",
    "import matplotlib.pyplot as plt\n",
    "from sklearn.linear_model import LinearRegression\n",
    "\n",
    "df_diabets = pd.read_csv('data/diabetes_clean.csv')\n",
    "df_filtered = df_diabets[(df_diabets['bmi'] == 0.0) | (df_diabets['glucose'] == 0)]\n",
    "df_diabets.drop(df_filtered.index, inplace=True)\n",
    "X = df_diabets.drop('glucose', axis=1).values #: Bu satırda, df_diabets DataFrame'inden glucose sütunu hariç diğer tüm sütunlar seçilir. drop('glucose', axis=1) ifadesi, glucose sütununu kaldırır. axis=1 parametresi, sütunları ifade eder (satırları ifade etmek için axis=0 kullanılır). Sonuçta X'te, glucose haricindeki bağımsız değişkenlerin verileri saklanır.\n",
    "y = df_diabets['glucose'].values #Bu satırda ise glucose sütunu bağımlı değişken olarak seçilir. Bu, modelin tahmin etmeye çalışacağı hedef değişkendir. X_bmi = X[:, 4] #X[:, 4]: Bu komut, X veri setinin 4. sütununu seçer. 0 tabanlı indekslemeye dikkat edilmelidir. Bu satırda, BMI sütunu X veri setinin 4. sütunu olarak seçilmiştir.\n",
    "X_bmi = X[:, 4]\n",
    "X_bmi = X_bmi.reshape(-1, 1) #1d veriyi 2d hale getirmek için\n",
    "\n",
    "\n",
    "model_reg = LinearRegression()\n",
    "model_reg.fit(X_bmi, y) #model BMI ile kan şekeri arasındaki doğrusal ilişkiyi öğrenir\n",
    "\n",
    "predictions = model_reg.predict(X_bmi) #tahmin yürütür\n",
    "\n",
    "plt.scatter(X_bmi, y)\n",
    "plt.plot(X_bmi, predictions) #tahmin, oğrusal regresyon modelinin tahmin ettiği ilişkiyi gösteren çizgidir. Model bu çizgiyi, verilen BMI değerlerine karşılık gelen kan şekeri tahminlerini yaparak çiziyor.\n",
    "plt.ylabel('Blood Glucose (mg/dl)')\n",
    "plt.xlabel('Body Mass Index')"
   ]
  },
  {
   "cell_type": "code",
   "execution_count": 208,
   "id": "543a3e82-c459-411f-9619-b42d0eda96b4",
   "metadata": {},
   "outputs": [
    {
     "data": {
      "image/png": "[encoded data removed]",
      "text/plain": [
       "<Figure size 640x480 with 1 Axes>"
      ]
     },
     "metadata": {},
     "output_type": "display_data"
    }
   ],
   "source": [
    "import pandas as pd\n",
    "import matplotlib.pyplot as plt\n",
    "from sklearn.linear_model import LinearRegression\n",
    "\n",
    "# Veri okuma\n",
    "df_diabetes = pd.read_csv('data/diabetes_clean.csv')\n",
    "\n",
    "# Eksik veya hatalı veri temizleme\n",
    "df_filtered = df_diabetes[(df_diabetes['bmi'] == 0.0) | (df_diabetes['glucose'] == 0.0)]\n",
    "df_diabetes.drop(df_filtered.index, inplace=True)\n",
    "\n",
    "# Bağımsız ve bağımlı değişkenlerin seçimi\n",
    "X = df_diabetes['bmi'].values.reshape(-1, 1)  # BMI bağımsız değişken olarak seçildi (2D hale getirildi)\n",
    "y = df_diabetes['glucose'].values  # Kan şekeri bağımlı değişken\n",
    "\n",
    "# Model eğitimi\n",
    "model_reg = LinearRegression()\n",
    "model_reg.fit(X, y)\n",
    "\n",
    "# Tahmin\n",
    "predictions = model_reg.predict(X)\n",
    "\n",
    "# Görselleştirme\n",
    "plt.scatter(X, y, label=\"Gerçek Değerler\")\n",
    "plt.plot(X, predictions, color='red', label=\"Tahmin Edilen Doğrusal Çizgi\")\n",
    "plt.xlabel('Body Mass Index (BMI)')\n",
    "plt.ylabel('Blood Glucose (mg/dl)')\n",
    "plt.title('BMI ile Blood Glucose Arasındaki İlişki')\n",
    "plt.legend()\n",
    "plt.show()\n"
   ]
  },
  {
   "cell_type": "markdown",
   "id": "b2e86c25-99c7-42cb-8e5e-ac50905943c1",
   "metadata": {},
   "source": [
    "#bu kod, **doğrusal regresyon (Linear Regression)** kullanarak **diabetes veri kümesi** üzerinde bir model oluşturuyor ve bu modelin **kan şekeri seviyelerini** tahmin etmesini sağlıyor. sonrasında ne kadar başarılı olduğunu ölç.\n"
   ]
  },
  {
   "cell_type": "code",
   "execution_count": 212,
   "id": "3f21e4f8-0df4-4d2b-959b-69752475180b",
   "metadata": {},
   "outputs": [
    {
     "data": {
      "text/plain": [
       "0.3282802627263198"
      ]
     },
     "execution_count": 212,
     "metadata": {},
     "output_type": "execute_result"
    }
   ],
   "source": [
    "import pandas as pd\n",
    "import matplotlib.pyplot as plt\n",
    "from sklearn.model_selection import train_test_split\n",
    "from sklearn.linear_model import LinearRegression\n",
    "\n",
    "# Veri okuma\n",
    "df_diabetes = pd.read_csv('data/diabetes_clean.csv')\n",
    "\n",
    "ddf_filtered = df_diabetes[(df_diabetes['bmi'] == 0.0) | (df_diabetes['glucose'] == 0)]\n",
    "df_diabetes.drop(df_filtered.index, inplace=True)\n",
    "X = df_diabets.drop('glucose', axis=1).values #bağımsız değişkenler\n",
    "y=df_diabetes['glucose'].values #bağımlı değişken\n",
    "\n",
    "X_train, X_test, y_train, y_test = train_test_split(X,y,test_size = 0.2, random_state=42)\n",
    "model_reg = LinearRegression()\n",
    "model_reg.fit(X_train,y_train) #model eğitildi\n",
    "predictions = model_reg.predict(X_test)\n",
    "model_reg.score(X_test, y_test)"
   ]
  },
  {
   "cell_type": "code",
   "execution_count": 214,
   "id": "01556109-b247-4df0-8803-2f61fc67fe4e",
   "metadata": {},
   "outputs": [
    {
     "data": {
      "text/plain": [
       "array([-0.32654116,  0.14686555, -0.27590315,  0.08606826,  0.36160446,\n",
       "        1.8382773 ,  0.42185562, 25.08247323])"
      ]
     },
     "execution_count": 214,
     "metadata": {},
     "output_type": "execute_result"
    }
   ],
   "source": [
    "model_reg.coef_\n",
    "# Bu, eğitilen doğrusal regresyon modelinin katsayılarını (coefficients) döndüren bir özelliktir.\n",
    "#Katsayılar, her bağımsız değişkenin (özelliklerin) bağımlı değişken üzerindeki etkisini gösterir. Yani, modelin öğrenmiş olduğu eğim (m) değerleridir. Örneğin, BMI gibi bir bağımsız değişkenin katsayısı, BMI'deki bir birimlik değişikliğin kan şekeri üzerindeki etkisini gösterir.\n",
    "#Eğer model birden fazla bağımsız değişken içeriyorsa, her bağımsız değişken için ayrı bir katsayı değeri olacaktır."
   ]
  },
  {
   "cell_type": "code",
   "execution_count": 218,
   "id": "51437863-d909-4959-a7fb-e99d1e35ec64",
   "metadata": {},
   "outputs": [
    {
     "data": {
      "text/plain": [
       "25.695203763480208"
      ]
     },
     "execution_count": 218,
     "metadata": {},
     "output_type": "execute_result"
    }
   ],
   "source": [
    "from sklearn.metrics import root_mean_squared_error\n",
    "\n",
    "root_mean_squared_error(y_test, predictions) #modelin tahmin ettiği değerlerle gerçek değerler arasındaki farkların karelerinin ortalamasıdır. Daha düşük MSE, modelin daha iyi olduğunu gösterir."
   ]
  },
  {
   "cell_type": "code",
   "execution_count": 222,
   "id": "955dbd5d-50ee-4d6a-96c0-31a3ccfcd203",
   "metadata": {},
   "outputs": [
    {
     "data": {
      "text/plain": [
       "array([0.31239631, 0.39992274, 0.38698031, 0.19731639, 0.32317527,\n",
       "       0.3320924 ])"
      ]
     },
     "execution_count": 222,
     "metadata": {},
     "output_type": "execute_result"
    }
   ],
   "source": [
    "import pandas as pd\n",
    "from sklearn.model_selection import cross_val_score, KFold\n",
    "from sklearn.linear_model import LinearRegression\n",
    "df_diabets = pd.read_csv('data/diabetes_clean.csv')\n",
    "\n",
    "df_filtered = df_diabets[(df_diabets['bmi'] == 0.0) | (df_diabets['glucose'] == 0)]\n",
    "df_diabets.drop(df_filtered.index, inplace=True)\n",
    "\n",
    "X = df_diabets.drop('glucose', axis=1).values\n",
    "y = df_diabets['glucose'].values\n",
    "\n",
    "kf= KFold(n_splits=6, shuffle=True, random_state=42)\n",
    "model_Reg=LinearRegression()\n",
    "cv_results = cross_val_score(model_reg, X, y, cv=kf)\n",
    "cv_results"
   ]
  },
  {
   "cell_type": "code",
   "execution_count": 224,
   "id": "07d38d3f-bbff-4e5b-a140-54320f26ec64",
   "metadata": {},
   "outputs": [
    {
     "data": {
      "text/plain": [
       "array([0, 0, 0, 0, 0, 0, 0, 0, 0, 0, 0, 0, 0, 0, 0, 0, 0, 0, 0, 0, 0, 0,\n",
       "       0, 0, 0, 0, 0, 0, 0, 0, 0, 0, 0, 0, 0, 0, 0, 0, 0, 0, 0, 0, 0, 0,\n",
       "       0, 0, 0, 0, 0, 0, 0, 0, 0, 0, 0, 0, 0, 0, 0, 0, 0, 0, 0, 0, 0, 0,\n",
       "       0, 0, 0, 0, 0, 0, 0, 0, 0, 0, 0, 0, 0, 0, 0, 0, 0, 0, 0, 0, 0, 0,\n",
       "       0, 0, 0, 0, 0, 0, 0, 0, 0, 0, 0, 0, 0, 0, 0, 0, 0, 0, 0, 0, 0, 0,\n",
       "       0, 0, 0, 0, 0, 0, 0, 0, 0, 0, 0, 0, 0, 0, 0, 0, 0, 0, 0, 0, 0, 0,\n",
       "       0, 0, 0, 0, 0, 0, 0, 0, 0, 0, 0, 0, 0, 0, 0, 0, 0, 0, 0, 0, 0, 0,\n",
       "       0, 0, 0, 0, 0, 0, 0, 0, 0, 0, 0, 0, 0, 0, 0, 0, 0, 0, 0, 0, 0, 0,\n",
       "       0, 0, 0, 0, 0, 0, 0, 0, 0, 0, 0, 0, 0, 0, 0, 0, 0, 0, 0, 0, 0, 0,\n",
       "       0, 0, 0, 0, 0, 0, 0, 0, 0, 0, 0, 0, 0, 0, 0, 0, 0, 0, 0, 0, 0, 0,\n",
       "       0, 0, 0, 0, 0, 0, 0, 0, 0, 0, 0, 0, 0, 0, 0, 0, 0, 0, 0, 0, 0, 0,\n",
       "       0, 0, 0, 0, 0, 0, 0, 0, 0, 0, 0, 0, 0, 0, 0, 0, 0, 0, 0, 0, 0, 0,\n",
       "       0, 0, 0, 0, 0, 0, 0, 0, 0, 0, 0, 0, 0, 0, 0, 0, 0, 0, 0, 0, 0, 0,\n",
       "       0, 0, 0, 0, 0, 0, 0, 0, 0, 0, 0, 0, 0, 0, 0, 0, 0, 0, 0, 0, 0, 0,\n",
       "       0, 0, 0, 0, 0, 0, 0, 0, 0, 0, 0, 0, 0, 0, 0, 0, 0, 0, 0, 0, 0, 0,\n",
       "       0, 0, 0, 0, 0, 0, 0, 0, 0, 0, 0, 0, 0, 0, 0, 0, 0, 0, 0, 0, 0, 0,\n",
       "       0, 0, 0, 0, 0, 0, 0, 0, 0, 0, 0, 0, 0, 0, 0, 0, 0, 0, 0, 0, 0, 0,\n",
       "       0, 0, 0, 0, 0, 0, 0, 0, 0, 0, 0, 0, 0, 0, 0, 0, 0, 0, 0, 0, 0, 0,\n",
       "       0, 0, 0, 0, 0, 0, 0, 0, 0, 0, 0, 0, 0, 0, 0, 0, 0, 0, 0, 0, 0, 0,\n",
       "       0, 0, 0, 0, 0, 0, 0, 0, 0, 0, 0, 0, 0, 0, 0, 0, 0, 0, 0, 0, 0, 0,\n",
       "       0, 0, 0, 0, 0, 0, 0, 0, 0, 0, 0, 0, 0, 0, 0, 0, 0, 0, 0, 0, 0, 0,\n",
       "       0, 0, 0, 0, 0, 0, 0, 0, 0, 0, 0, 0, 0, 0, 0, 0, 0, 0, 0, 0, 0, 0,\n",
       "       0, 0, 0, 0, 0, 0, 0, 0, 0, 0, 0, 0, 0, 0, 0, 0, 0, 0, 0, 0, 0, 0,\n",
       "       0, 0, 0, 0, 0, 0, 0, 0, 0, 0, 0, 0, 0, 0, 0, 0, 0, 0, 0, 0, 0, 0,\n",
       "       0, 0, 0, 0, 0, 0, 0, 0, 0, 0, 0, 0, 0, 0, 0, 0, 0, 0, 0, 0, 0, 0,\n",
       "       0, 0, 0, 0, 0, 0, 0, 0, 0, 0, 0, 0, 0, 0, 0, 0, 0, 0, 0, 0, 0, 0,\n",
       "       0, 0, 0, 0, 0, 0, 0, 0, 0, 0, 0, 0, 0, 0, 0, 0, 0, 0, 0, 0, 0, 0,\n",
       "       0, 0, 0, 0, 0, 0, 0, 0, 0, 0, 0, 0, 0, 0, 0, 0, 0, 0, 0, 0, 0, 0,\n",
       "       0, 0, 0, 0, 0, 0, 0, 0, 0, 0, 0, 0, 0, 0, 0, 0, 0, 0, 0, 0, 0, 0,\n",
       "       0, 0, 0, 0, 0, 0, 0, 0, 0, 0, 0, 0, 0, 0, 0, 0, 0, 0, 0, 0, 0, 0,\n",
       "       0, 0, 0, 0, 0, 0, 0])"
      ]
     },
     "execution_count": 224,
     "metadata": {},
     "output_type": "execute_result"
    }
   ],
   "source": [
    "# Confusion matrix in scikit-learn\n",
    "\n",
    "import pandas as pd\n",
    "from sklearn.linear_model import LogisticRegression\n",
    "from sklearn.metrics import classification_report, confusion_matrix\n",
    "from sklearn.model_selection import train_test_split\n",
    "\n",
    "df_churn = pd.read_csv(\"data/telecom_churn_clean.csv\")\n",
    "X = df_churn[['total_day_charge', 'total_eve_charge']].values #bağımsız değişkenler\n",
    "y= df_churn['churn'].values #bağımlı değişken\n",
    "\n",
    "X_train, X_test, y_train, y_test =train_test_split(X, y, test_size=0.2, random_state=42)\n",
    "\n",
    "model_log = LogisticRegression()\n",
    "model_log.fit(X_train, y_train) #model eğitildi\n",
    "\n",
    "y_predict = model_log.predict(X_test) #doğrudan tahmin. 0 ya da 1 olur.(iptal etti - etmedi)\n",
    "y_predict"
   ]
  },
  {
   "cell_type": "code",
   "execution_count": 226,
   "id": "aeb377fd-917b-4fbb-920d-ea48e8fa35bd",
   "metadata": {},
   "outputs": [
    {
     "data": {
      "text/plain": [
       "array([[0.82892316, 0.17107684],\n",
       "       [0.92986818, 0.07013182],\n",
       "       [0.98204431, 0.01795569],\n",
       "       ...,\n",
       "       [0.91093968, 0.08906032],\n",
       "       [0.92723286, 0.07276714],\n",
       "       [0.9081191 , 0.0918809 ]])"
      ]
     },
     "execution_count": 226,
     "metadata": {},
     "output_type": "execute_result"
    }
   ],
   "source": [
    "y_pred_probs = model_log.predict_proba(X_test) #modelin her örnek için her sınıfa ait olasılıkları döndürür. ilk sütun 0 olma olasılığı ikinci satır 1 olma olasılığı\n",
    "y_pred_probs"
   ]
  },
  {
   "cell_type": "code",
   "execution_count": 228,
   "id": "93cf6a23-9c43-44e9-b019-0291869daa63",
   "metadata": {},
   "outputs": [
    {
     "data": {
      "text/html": [
       "<div>\n",
       "<style scoped>\n",
       "    .dataframe tbody tr th:only-of-type {\n",
       "        vertical-align: middle;\n",
       "    }\n",
       "\n",
       "    .dataframe tbody tr th {\n",
       "        vertical-align: top;\n",
       "    }\n",
       "\n",
       "    .dataframe thead th {\n",
       "        text-align: right;\n",
       "    }\n",
       "</style>\n",
       "<table border=\"1\" class=\"dataframe\">\n",
       "  <thead>\n",
       "    <tr style=\"text-align: right;\">\n",
       "      <th></th>\n",
       "      <th>EmployeeID</th>\n",
       "      <th>Department</th>\n",
       "      <th>MonthlySalary</th>\n",
       "      <th>HoursWorked</th>\n",
       "      <th>RemoteWork</th>\n",
       "      <th>SatisfactionScore</th>\n",
       "    </tr>\n",
       "  </thead>\n",
       "  <tbody>\n",
       "    <tr>\n",
       "      <th>0</th>\n",
       "      <td>1</td>\n",
       "      <td>Sales</td>\n",
       "      <td>5087.05</td>\n",
       "      <td>40.07</td>\n",
       "      <td>0</td>\n",
       "      <td>3</td>\n",
       "    </tr>\n",
       "    <tr>\n",
       "      <th>1</th>\n",
       "      <td>2</td>\n",
       "      <td>Marketing</td>\n",
       "      <td>4700.99</td>\n",
       "      <td>47.27</td>\n",
       "      <td>0</td>\n",
       "      <td>5</td>\n",
       "    </tr>\n",
       "    <tr>\n",
       "      <th>2</th>\n",
       "      <td>3</td>\n",
       "      <td>HR</td>\n",
       "      <td>5091.76</td>\n",
       "      <td>38.68</td>\n",
       "      <td>0</td>\n",
       "      <td>5</td>\n",
       "    </tr>\n",
       "    <tr>\n",
       "      <th>3</th>\n",
       "      <td>4</td>\n",
       "      <td>IT</td>\n",
       "      <td>3012.43</td>\n",
       "      <td>53.60</td>\n",
       "      <td>0</td>\n",
       "      <td>2</td>\n",
       "    </tr>\n",
       "    <tr>\n",
       "      <th>4</th>\n",
       "      <td>5</td>\n",
       "      <td>Sales</td>\n",
       "      <td>4780.33</td>\n",
       "      <td>43.13</td>\n",
       "      <td>1</td>\n",
       "      <td>4</td>\n",
       "    </tr>\n",
       "    <tr>\n",
       "      <th>...</th>\n",
       "      <td>...</td>\n",
       "      <td>...</td>\n",
       "      <td>...</td>\n",
       "      <td>...</td>\n",
       "      <td>...</td>\n",
       "      <td>...</td>\n",
       "    </tr>\n",
       "    <tr>\n",
       "      <th>95</th>\n",
       "      <td>96</td>\n",
       "      <td>IT</td>\n",
       "      <td>4184.19</td>\n",
       "      <td>32.82</td>\n",
       "      <td>0</td>\n",
       "      <td>2</td>\n",
       "    </tr>\n",
       "    <tr>\n",
       "      <th>96</th>\n",
       "      <td>97</td>\n",
       "      <td>IT</td>\n",
       "      <td>4922.90</td>\n",
       "      <td>45.82</td>\n",
       "      <td>1</td>\n",
       "      <td>1</td>\n",
       "    </tr>\n",
       "    <tr>\n",
       "      <th>97</th>\n",
       "      <td>98</td>\n",
       "      <td>IT</td>\n",
       "      <td>5341.15</td>\n",
       "      <td>40.05</td>\n",
       "      <td>0</td>\n",
       "      <td>3</td>\n",
       "    </tr>\n",
       "    <tr>\n",
       "      <th>98</th>\n",
       "      <td>99</td>\n",
       "      <td>Sales</td>\n",
       "      <td>5276.69</td>\n",
       "      <td>35.09</td>\n",
       "      <td>0</td>\n",
       "      <td>1</td>\n",
       "    </tr>\n",
       "    <tr>\n",
       "      <th>99</th>\n",
       "      <td>100</td>\n",
       "      <td>Sales</td>\n",
       "      <td>5827.18</td>\n",
       "      <td>42.31</td>\n",
       "      <td>1</td>\n",
       "      <td>5</td>\n",
       "    </tr>\n",
       "  </tbody>\n",
       "</table>\n",
       "<p>100 rows × 6 columns</p>\n",
       "</div>"
      ],
      "text/plain": [
       "    EmployeeID Department  MonthlySalary  HoursWorked  RemoteWork  \\\n",
       "0            1      Sales        5087.05        40.07           0   \n",
       "1            2  Marketing        4700.99        47.27           0   \n",
       "2            3         HR        5091.76        38.68           0   \n",
       "3            4         IT        3012.43        53.60           0   \n",
       "4            5      Sales        4780.33        43.13           1   \n",
       "..         ...        ...            ...          ...         ...   \n",
       "95          96         IT        4184.19        32.82           0   \n",
       "96          97         IT        4922.90        45.82           1   \n",
       "97          98         IT        5341.15        40.05           0   \n",
       "98          99      Sales        5276.69        35.09           0   \n",
       "99         100      Sales        5827.18        42.31           1   \n",
       "\n",
       "    SatisfactionScore  \n",
       "0                   3  \n",
       "1                   5  \n",
       "2                   5  \n",
       "3                   2  \n",
       "4                   4  \n",
       "..                ...  \n",
       "95                  2  \n",
       "96                  1  \n",
       "97                  3  \n",
       "98                  1  \n",
       "99                  5  \n",
       "\n",
       "[100 rows x 6 columns]"
      ]
     },
     "execution_count": 228,
     "metadata": {},
     "output_type": "execute_result"
    }
   ],
   "source": [
    "import pandas as pd\n",
    "import numpy as np\n",
    "df = pd.read_csv(\"data/Generated_Employee_Data.csv\")\n",
    "df"
   ]
  },
  {
   "cell_type": "markdown",
   "id": "44a7a06c-e8bc-4a8d-999e-ebd1500b5be3",
   "metadata": {},
   "source": [
    "Bir şirkette çalışanların ortalama maaşı 5000 TL olduğuna inanılıyor. 30 çalışanın maaşları incelenerek, şirketin maaş ortalamasının 5000 TL'den farklı olup olmadığı test edilsin.\n",
    "\n",
    "Hipotezler:\n",
    "\n",
    "H0: Çalışanların maaş ortalaması 5000 TL.\n",
    "Ha: Çalışanların maaş ortalaması 5000 TL'den farklıdır.\n",
    "\n",
    "#one t testi\n"
   ]
  },
  {
   "cell_type": "code",
   "execution_count": 232,
   "id": "1685b78d-348e-45fd-bffa-0a2403eefc45",
   "metadata": {},
   "outputs": [
    {
     "name": "stdout",
     "output_type": "stream",
     "text": [
      "H0 kabul edilir.\n"
     ]
    },
    {
     "data": {
      "text/plain": [
       "3.385911440783663"
      ]
     },
     "execution_count": 232,
     "metadata": {},
     "output_type": "execute_result"
    }
   ],
   "source": [
    "sample_data= df['MonthlySalary'].sample(30, random_state=42)\n",
    "alpha = 0.05\n",
    "m = 5000\n",
    "x = np.mean(sample_data)\n",
    "s = np.std(sample_data, ddof=1)\n",
    "n = len(sample_data)\n",
    "payda = np.sqrt(s**2 / n)\n",
    "t = (x-m) / payda\n",
    "dof = n - 1\n",
    "#çift kuyruk\n",
    "from scipy import stats\n",
    "p = 2 * ( 1 - stats.t.cdf(np.abs(t), df=dof))\n",
    "if p < alpha:\n",
    "    print(\"H0 reddedilir.\")\n",
    "else:\n",
    "    print(\"H0 kabul edilir.\")\n",
    "sonuc"
   ]
  },
  {
   "cell_type": "markdown",
   "id": "c4c0a642-d001-44d5-b075-fdc0787b0b3c",
   "metadata": {},
   "source": [
    "Soru: Şirketin çalışanlarının %50'sinin uzaktan çalıştığı iddia edilmektedir. Çalışanların %50'sinin uzaktan çalışıp çalışmadığını test edelim.\n",
    "\n",
    "Hipotezler:\n",
    "\n",
    "H0: Uzaktan çalışanların oranı %50'dir.\n",
    "Ha: Uzaktan çalışanların oranı %50 değildir.\n",
    "\n",
    "#one sample pro"
   ]
  },
  {
   "cell_type": "code",
   "execution_count": 249,
   "id": "8161a424-0538-45d3-a93e-f1111836ac9f",
   "metadata": {},
   "outputs": [
    {
     "name": "stdout",
     "output_type": "stream",
     "text": [
      "H0 reddedilir.\n"
     ]
    },
    {
     "data": {
      "text/plain": [
       "0.01639507184919231"
      ]
     },
     "execution_count": 249,
     "metadata": {},
     "output_type": "execute_result"
    }
   ],
   "source": [
    "p = (df['RemoteWork'] == 1).mean()\n",
    "alpha = 0.05\n",
    "p0 = 0.5\n",
    "n=len(df)\n",
    "se = np.sqrt( p0 * ( 1 - p0 ) / n)\n",
    "z = (p - p0) / se\n",
    "#çift kuyruk testi\n",
    "from scipy import stats \n",
    "p = 2 * ( 1 - stats.norm.cdf(np.abs(z)))\n",
    "if p < alpha:\n",
    "    print(\"H0 reddedilir.\")\n",
    "else:\n",
    "    print(\"H0 kabul edilir.\")\n",
    "p"
   ]
  },
  {
   "cell_type": "markdown",
   "id": "05110063-d043-43f3-8a2f-e9af82a55a66",
   "metadata": {},
   "source": [
    "Soru: IT ve HR departmanlarının maaş ortalamaları arasında fark olup olmadığını test edelim.\n",
    "\n",
    "Hipotezler:\n",
    "\n",
    "H0: IT ve HR departmanlarının maaş ortalamaları eşittir.\n",
    "Ha: IT ve HR departmanlarının maaş ortalamaları farklıdır\n",
    "#two sample t test"
   ]
  },
  {
   "cell_type": "code",
   "execution_count": 270,
   "id": "a4bb5620-782c-4fb2-8392-64ce48bb6eae",
   "metadata": {},
   "outputs": [
    {
     "name": "stdout",
     "output_type": "stream",
     "text": [
      "H0 kabul edilir.\n"
     ]
    },
    {
     "data": {
      "text/plain": [
       "0.1270802192019016"
      ]
     },
     "execution_count": 270,
     "metadata": {},
     "output_type": "execute_result"
    }
   ],
   "source": [
    "x = df.groupby('Department')['MonthlySalary'].mean()\n",
    "x1 = x.iloc[1]\n",
    "x2 = x.iloc[0]\n",
    "s = df.groupby('Department')['MonthlySalary'].std()\n",
    "s1 = s.iloc[1]\n",
    "s2=s.iloc[2]\n",
    "n = df.groupby('Department')['MonthlySalary'].count()\n",
    "n1 = n.iloc[0]\n",
    "n2 = n.iloc[1]\n",
    "pay = x1 - x2\n",
    "payda = np.sqrt((s1**2/n1) + (s2**2/n2))\n",
    "t = pay / payda\n",
    "dof = n1 + n2 - 2\n",
    "from scipy import stats\n",
    "p = 2 * (1 - stats.t.cdf(np.abs(t), df=dof))\n",
    "if p < alpha:\n",
    "    print(\"H0 reddedilir.\")\n",
    "else:\n",
    "    print(\"H0 kabul edilir.\")\n",
    "p       "
   ]
  },
  {
   "cell_type": "code",
   "execution_count": null,
   "id": "14346433-7074-487b-a84b-16a0d14d9262",
   "metadata": {},
   "outputs": [],
   "source": [
    "# 3. İki bağımsız grup - Ortalama (sürekli)\n",
    "# Soru: IT ve HR departmanlarının maaş ortalamaları arasında fark olup olmadığını test edelim.\n",
    "# H0: IT ve HR departmanlarının maaş ortalamaları eşittir.\n",
    "# Ha: IT ve HR departmanlarının maaş ortalamaları farklıdır.\n",
    "\n",
    "# IT ve HR maaşlarını ayır\n",
    "it_salaries = employee_data.loc[employee_data['Department'] == 'IT', 'MonthlySalary']\n",
    "hr_salaries = employee_data.loc[employee_data['Department'] == 'HR', 'MonthlySalary']\n",
    "\n",
    "# Gerekli parametreleri hesapla\n",
    "mean_it = it_salaries.mean()\n",
    "mean_hr = hr_salaries.mean()\n",
    "std_it = np.std(it_salaries, ddof=1)\n",
    "std_hr = np.std(hr_salaries, ddof=1)\n",
    "n_it = len(it_salaries)\n",
    "n_hr = len(hr_salaries)\n",
    "\n",
    "# Standart hata ve T-istatistiği\n",
    "se = np.sqrt((std_it**2 / n_it) + (std_hr**2 / n_hr))\n",
    "t_stat = (mean_it - mean_hr) / se\n",
    "\n",
    "# Serbestlik derecesi\n",
    "dof = ((std_it**2 / n_it) + (std_hr**2 / n_hr))**2 / (\n",
    "    ((std_it**2 / n_it)**2 / (n_it - 1)) + ((std_hr**2 / n_hr)**2 / (n_hr - 1))\n",
    ")\n",
    "\n",
    "# P-Değeri (çift kuyruklu test)\n",
    "from scipy import stats\n",
    "p_value = 2 * (1 - stats.t.cdf(np.abs(t_stat), df=dof))\n",
    "\n",
    "# Karar\n",
    "alpha = 0.05\n",
    "if p_value < alpha:\n",
    "    result = \"H0 reddedilir. IT ve HR departmanlarının maaş ortalamaları farklıdır.\"\n",
    "else:\n",
    "    result = \"H0 reddedilemez. IT ve HR departmanlarının maaş ortalamaları eşit olabilir.\"\n",
    "\n",
    "t_stat, p_value, result\n"
   ]
  },
  {
   "cell_type": "markdown",
   "id": "723571ef-f968-45c5-9625-b7fae0506e24",
   "metadata": {},
   "source": [
    "Bir araştırmada, uzaktan çalışan ve ofiste çalışan çalışanların iş memnuniyet puanlarının farklı olup olmadığı test edilsin.\n",
    "\n",
    "Hipotezler:\n",
    "\n",
    "H0: Uzaktan çalışan ve ofiste çalışan çalışanların iş memnuniyet medyanları eşittir.\n",
    "Ha: Uzaktan çalışan ve ofiste çalışan çalışanların iş memnuniyet medyanları farklıdır.\n",
    "\n",
    "#iki bapımsız ve medyan olduğu için mann whitney\n"
   ]
  },
  {
   "cell_type": "code",
   "execution_count": 282,
   "id": "50ecf4c7-f416-4180-bbf8-da2d1763e35e",
   "metadata": {},
   "outputs": [
    {
     "data": {
      "text/html": [
       "<div>\n",
       "<style scoped>\n",
       "    .dataframe tbody tr th:only-of-type {\n",
       "        vertical-align: middle;\n",
       "    }\n",
       "\n",
       "    .dataframe tbody tr th {\n",
       "        vertical-align: top;\n",
       "    }\n",
       "\n",
       "    .dataframe thead th {\n",
       "        text-align: right;\n",
       "    }\n",
       "</style>\n",
       "<table border=\"1\" class=\"dataframe\">\n",
       "  <thead>\n",
       "    <tr style=\"text-align: right;\">\n",
       "      <th></th>\n",
       "      <th>U-val</th>\n",
       "      <th>alternative</th>\n",
       "      <th>p-val</th>\n",
       "      <th>RBC</th>\n",
       "      <th>CLES</th>\n",
       "    </tr>\n",
       "  </thead>\n",
       "  <tbody>\n",
       "    <tr>\n",
       "      <th>MWU</th>\n",
       "      <td>1047.5</td>\n",
       "      <td>two-sided</td>\n",
       "      <td>0.344867</td>\n",
       "      <td>-0.110781</td>\n",
       "      <td>0.44461</td>\n",
       "    </tr>\n",
       "  </tbody>\n",
       "</table>\n",
       "</div>"
      ],
      "text/plain": [
       "      U-val alternative     p-val       RBC     CLES\n",
       "MWU  1047.5   two-sided  0.344867 -0.110781  0.44461"
      ]
     },
     "execution_count": 282,
     "metadata": {},
     "output_type": "execute_result"
    }
   ],
   "source": [
    "import pandas as pd\n",
    "df = pd.read_csv(\"data/Generated_Employee_Data.csv\")\n",
    "uzak_vs_yakin = df[['RemoteWork', 'SatisfactionScore']]\n",
    "uzak_vs_yakin_wide = uzak_vs_yakin.pivot(columns = 'RemoteWork', values='SatisfactionScore')\n",
    "import pingouin\n",
    "pingouin.mwu(x = uzak_vs_yakin_wide[0], y=uzak_vs_yakin_wide[1], alternative='two-sided')"
   ]
  },
  {
   "cell_type": "code",
   "execution_count": null,
   "id": "bc5fc17d-d9f7-45b4-9c7e-85f2fab2962d",
   "metadata": {},
   "outputs": [],
   "source": [
    "Soru: IT ve Sales departmanlarındaki çalışanların memnuniyet skorlarının medyanları arasında fark olup olmadığını test edelim.\n",
    "\n",
    "Hipotezler:\n",
    "\n",
    "H0: IT ve Sales departmanlarının memnuniyet skorlarının medyanları eşittir.\n",
    "Ha: IT ve Sales departmanlarının memnuniyet skorlarının medyanları farklıdır."
   ]
  },
  {
   "cell_type": "code",
   "execution_count": 290,
   "id": "6a4accbd-5a2e-440f-af23-274f1a121bb4",
   "metadata": {},
   "outputs": [
    {
     "data": {
      "text/html": [
       "<div>\n",
       "<style scoped>\n",
       "    .dataframe tbody tr th:only-of-type {\n",
       "        vertical-align: middle;\n",
       "    }\n",
       "\n",
       "    .dataframe tbody tr th {\n",
       "        vertical-align: top;\n",
       "    }\n",
       "\n",
       "    .dataframe thead th {\n",
       "        text-align: right;\n",
       "    }\n",
       "</style>\n",
       "<table border=\"1\" class=\"dataframe\">\n",
       "  <thead>\n",
       "    <tr style=\"text-align: right;\">\n",
       "      <th></th>\n",
       "      <th>U-val</th>\n",
       "      <th>alternative</th>\n",
       "      <th>p-val</th>\n",
       "      <th>RBC</th>\n",
       "      <th>CLES</th>\n",
       "    </tr>\n",
       "  </thead>\n",
       "  <tbody>\n",
       "    <tr>\n",
       "      <th>MWU</th>\n",
       "      <td>560.5</td>\n",
       "      <td>two-sided</td>\n",
       "      <td>0.919236</td>\n",
       "      <td>0.015399</td>\n",
       "      <td>0.507699</td>\n",
       "    </tr>\n",
       "  </tbody>\n",
       "</table>\n",
       "</div>"
      ],
      "text/plain": [
       "     U-val alternative     p-val       RBC      CLES\n",
       "MWU  560.5   two-sided  0.919236  0.015399  0.507699"
      ]
     },
     "execution_count": 290,
     "metadata": {},
     "output_type": "execute_result"
    }
   ],
   "source": [
    "import pandas as pd\n",
    "it_vs_sales = df[['Department','SatisfactionScore']]\n",
    "it_vs_sales_wide = it_vs_sales.pivot(columns='Department', values='SatisfactionScore')\n",
    "import pingouin\n",
    "pingouin.mwu(x = it_vs_sales_wide['IT'], y= it_vs_sales_wide['Sales'], alternative='two-sided')"
   ]
  },
  {
   "cell_type": "code",
   "execution_count": null,
   "id": "b83cdae9-9c73-4f3f-bf68-faff51be665c",
   "metadata": {},
   "outputs": [],
   "source": [
    "Soru: Çalışanların ortalama maaşının 5000 TL olup olmadığını test edin.\n",
    "\n",
    "Hipotez:\n",
    "Null hipotezi (H0): Çalışanların maaşlarının ortalaması 5000 TL'dir.\n",
    "Alternatif hipotez (H1): Çalışanların maaşlarının ortalaması 5000 TL değildir."
   ]
  },
  {
   "cell_type": "code",
   "execution_count": 312,
   "id": "0e1a5959-f780-4a8d-a4da-74ad577d1a08",
   "metadata": {},
   "outputs": [
    {
     "name": "stdout",
     "output_type": "stream",
     "text": [
      "H0 kabul edilir.\n"
     ]
    },
    {
     "data": {
      "text/plain": [
       "-0.011837728780229389"
      ]
     },
     "execution_count": 312,
     "metadata": {},
     "output_type": "execute_result"
    }
   ],
   "source": [
    "import pandas as pd\n",
    "import numpy as np\n",
    "df = pd.read_csv(\"data/Generated_Employee_Data.csv\")\n",
    "m = 5000\n",
    "alpha = 0.05\n",
    "x = df['MonthlySalary'].mean()\n",
    "s = np.std(df['MonthlySalary'], ddof=1)\n",
    "n = len(df)\n",
    "payda = np.sqrt( s**2 / n)\n",
    "t = (x - m) / payda\n",
    "dof = n - 1\n",
    "#çift kuyruk\n",
    "p = 2 * ( 1 - stats.t.cdf(np.abs(t), df=dof))\n",
    "if p < alpha:\n",
    "    print(\"H0 reddedilir.\")\n",
    "else:\n",
    "    print(\"H0 kabul edilir.\")\n",
    "t"
   ]
  },
  {
   "cell_type": "code",
   "execution_count": 302,
   "id": "fc28ed32-69ce-4d3a-b838-880bafc146d8",
   "metadata": {},
   "outputs": [
    {
     "data": {
      "text/plain": [
       "(-0.011837728780229392, 0.9905789020985529)"
      ]
     },
     "execution_count": 302,
     "metadata": {},
     "output_type": "execute_result"
    }
   ],
   "source": [
    "from scipy import stats\n",
    "\n",
    "# Maaşların ortalamasının 5000 TL olup olmadığını test et\n",
    "t_stat, p_value = stats.ttest_1samp(df['MonthlySalary'], 5000)\n",
    "t_stat, p_value\n"
   ]
  },
  {
   "cell_type": "markdown",
   "id": "6a5bd2e8-72ed-4770-86b0-746e30a00d16",
   "metadata": {},
   "source": [
    "Soru: Çalışanların %60'ının uzaktan çalışıp çalışmadığını test edin.\n",
    "\n",
    "Hipotez:\n",
    "Null hipotezi (H0): Çalışanların %60'ı uzaktan çalışmaktadır.\n",
    "Alternatif hipotez (H1): Çalışanların %60'ı uzaktan çalışmamaktadır."
   ]
  },
  {
   "cell_type": "code",
   "execution_count": 328,
   "id": "cf76f42b-dbe3-4c49-839c-87031a738a8d",
   "metadata": {},
   "outputs": [
    {
     "name": "stdout",
     "output_type": "stream",
     "text": [
      "H0 reddedilir.\n"
     ]
    }
   ],
   "source": [
    "import pandas as pd\n",
    "from scipy import stats\n",
    "import numpy as np\n",
    "\n",
    "df = pd.read_csv(\"data/Generated_Employee_Data.csv\")\n",
    "\n",
    "# Beklenen oran\n",
    "p0 = 0.6\n",
    "\n",
    "# Gözlemlenen oran (uzaktan çalışanların oranı)\n",
    "p = (df['RemoteWork'] == 1).mean()\n",
    "\n",
    "# Veri sayısı\n",
    "n = len(df['RemoteWork'])\n",
    "\n",
    "# Standart hata\n",
    "payda = np.sqrt(p0 * (1 - p0) / n)\n",
    "\n",
    "# Z istatistiği\n",
    "z = (p - p0) / payda\n",
    "\n",
    "# Çift kuyruk testi için p-değeri\n",
    "p_d = 2 * (1 - stats.norm.cdf(np.abs(z)))\n",
    "\n",
    "# Anlamlılık seviyesi\n",
    "alpha = 0.05\n",
    "\n",
    "if p_d < alpha:\n",
    "    print(\"H0 reddedilir.\")\n",
    "else:\n",
    "    print(\"H0 kabul edilir.\")\n"
   ]
  },
  {
   "cell_type": "code",
   "execution_count": 330,
   "id": "7f333fa8-e95f-4d61-aaeb-befaf1c6a112",
   "metadata": {},
   "outputs": [
    {
     "name": "stdout",
     "output_type": "stream",
     "text": [
      "H0 kabul edilir.\n"
     ]
    }
   ],
   "source": [
    "import numpy as np\n",
    "from scipy import stats\n",
    "\n",
    "# Maaş ve memnuniyet puanlarını iki gruba ayırın\n",
    "high_salary = df[df['MonthlySalary'] > 5000]['SatisfactionScore']\n",
    "low_salary = df[df['MonthlySalary'] <= 5000]['SatisfactionScore']\n",
    "\n",
    "u_stat, p_value = stats.mannwhitneyu(____, ____)  # Buraya iki grup parametresini yazın\n",
    "\n",
    "alpha = 0.05\n",
    "\n",
    "if p_value < alpha:\n",
    "    print(\"H0 reddedilir.\")\n",
    "else:\n",
    "    print(\"H0 kabul edilir.\")\n"
   ]
  },
  {
   "cell_type": "code",
   "execution_count": 332,
   "id": "ab75773b-917d-474c-8627-0aa85876a01f",
   "metadata": {},
   "outputs": [
    {
     "data": {
      "text/plain": [
       "5300.754000000001"
      ]
     },
     "execution_count": 332,
     "metadata": {},
     "output_type": "execute_result"
    }
   ],
   "source": [
    "sample_data = df.sample(n=15, random_state=42)\n",
    "av = sample_data['MonthlySalary'].mean()\n",
    "av"
   ]
  },
  {
   "cell_type": "code",
   "execution_count": 340,
   "id": "7d45d284-5a4d-4177-9376-069c3d315b3c",
   "metadata": {},
   "outputs": [
    {
     "data": {
      "text/plain": [
       "2.7"
      ]
     },
     "execution_count": 340,
     "metadata": {},
     "output_type": "execute_result"
    }
   ],
   "source": [
    "sample = df.groupby('Department').sample(frac=0.1, random_state=42)\n",
    "mem = sample['SatisfactionScore'].mean()\n",
    "mem"
   ]
  },
  {
   "cell_type": "code",
   "execution_count": 352,
   "id": "3bad0927-b8d3-42f4-bb5a-ced3d30a19a3",
   "metadata": {},
   "outputs": [
    {
     "name": "stdout",
     "output_type": "stream",
     "text": [
      "39.653000000000006\n"
     ]
    }
   ],
   "source": [
    "# 1. Adım: Departmana göre gruplama ve her gruptan 5 örnek seçme (örneğin)\n",
    "clusters = df.groupby('Department').sample(n=5, random_state=42)\n",
    "\n",
    "# 2. Adım: Seçilen kümelerden 10 çalışan seçme (bu artık mümkün olacak çünkü her departmandan 5 çalışan var)\n",
    "clusters_rast = clusters.sample(n=10, random_state=42)\n",
    "\n",
    "# 3. Adım: Saatlik çalışma ortalamasını hesaplayın\n",
    "saat = clusters_rast['HoursWorked'].mean()\n",
    "print(saat)\n"
   ]
  },
  {
   "cell_type": "code",
   "execution_count": 354,
   "id": "b6573aad-2d66-4028-9d13-71436c34af74",
   "metadata": {},
   "outputs": [],
   "source": [
    "first_code_boot_distn = []\n",
    "for i in range(5000):\n",
    "    first_code_boot_distn.append(\n",
    "        np.mean(\n",
    "            (df_stck.sample(frac=1, replace=True)\n",
    "             ['age_first_code_cut'] == 'child').mean()\n",
    "        )\n",
    "    )"
   ]
  },
  {
   "cell_type": "markdown",
   "id": "a5af8a65-6412-47b3-9865-f7eea9e40329",
   "metadata": {},
   "source": [
    "Stack Overflow kullanıcıları arasında 'child' kategorisinde olanların oranı gerçekten %35'twn büyük mü?\n",
    "Null Hipotezi (H0): 'child' kategorisinde olan kullanıcıların oranı %35'ten büyüktür"
   ]
  },
  {
   "cell_type": "code",
   "execution_count": 361,
   "id": "7054fcb4-7b65-4828-987a-ea15cbd7f358",
   "metadata": {},
   "outputs": [
    {
     "name": "stdout",
     "output_type": "stream",
     "text": [
      "H0 reddedilir.\n"
     ]
    }
   ],
   "source": [
    "import numpy as np\n",
    "from scipy import stats\n",
    "\n",
    "# Gözlemlenen oranı hesapla\n",
    "p = (df_stck['age_first_code_cut'] == 'child').mean()\n",
    "\n",
    "# Beklenen oran\n",
    "hyp = 0.35\n",
    "\n",
    "# Anlamlılık seviyesi\n",
    "alpha = 0.05\n",
    "\n",
    "# Veri sayısı\n",
    "n = len(df_stck)\n",
    "\n",
    "# Standart hata (se) hesaplama\n",
    "se = np.sqrt(hyp * (1 - hyp) / n)\n",
    "\n",
    "# Z istatistiği hesaplama\n",
    "z = (p - hyp) / se\n",
    "\n",
    "# Sağ kuyruk için p-değeri\n",
    "p_value = 1 - stats.norm.cdf(np.abs(z))\n",
    "\n",
    "# Hipotez testi sonucu\n",
    "if p_value < alpha:\n",
    "    print(\"H0 reddedilir.\")\n",
    "else:\n",
    "    print(\"H0 kabul edilir.\")\n"
   ]
  },
  {
   "cell_type": "markdown",
   "id": "d5f46a6f-0dd2-42f1-afca-6ea85a958de6",
   "metadata": {},
   "source": [
    "'adult' ve 'child' grupları arasındaki 'converted_comp' adlı değişkenin ortalamaları arasındaki farkın istatistiksel olarak anlamlı olup olmadığını test et.\n",
    "h0 = adult grubu ortalamasının child grubu ortalamasından büyüktür."
   ]
  },
  {
   "cell_type": "code",
   "execution_count": 366,
   "id": "50e63949-96c4-47d9-ae08-e172b82ed470",
   "metadata": {},
   "outputs": [
    {
     "name": "stdout",
     "output_type": "stream",
     "text": [
      "H0 reddedilir.\n"
     ]
    }
   ],
   "source": [
    "alpha= 0.05\n",
    "x = df_stck.groupby('age_first_code_cut')['converted_comp'].mean()\n",
    "x1 = x.iloc[0]\n",
    "x2 = x.iloc[1]\n",
    "s = df_stck.groupby('age_first_code_cut')['converted_comp'].std()\n",
    "s1 = s.iloc[0]\n",
    "s2 = s.iloc[1]\n",
    "n = df_stck.groupby('age_first_code_cut')['converted_comp'].count()\n",
    "n1 = n.iloc[0]\n",
    "n2 = n.iloc[1]\n",
    "pay = x1 - x2\n",
    "se = np.sqrt((s1**2 / n1) + (s2**2 / n2))\n",
    "t = pay / se\n",
    "dof = n1 + n2 - 2\n",
    "#sağ kuyruk testi\n",
    "p = 1 - (stats.t.cdf(np.abs(t), df=dof))\n",
    "if p < alpha:\n",
    "    print(\"H0 reddedilir.\")\n",
    "else:\n",
    "    print(\"H0 kabul edilir.\")\n"
   ]
  },
  {
   "cell_type": "markdown",
   "id": "56cea53a-5cbc-4fa1-8cdb-a92bb9c91327",
   "metadata": {},
   "source": [
    "örneğin 2008 ve 2012 verilerinden yaratılan **`diff`** sütunu) tek bir örneklem verisi (farklar) üzerinden, “bu ortalama fark sıfır mı?” hipotezi test ediliyor.\n",
    "h0 = 2008 değerinin ort 2012 değerinin ort'ından küçüktür."
   ]
  },
  {
   "cell_type": "code",
   "execution_count": 372,
   "id": "5609a97b-41e3-4918-8ca2-a96c74d9087c",
   "metadata": {},
   "outputs": [
    {
     "ename": "KeyError",
     "evalue": "'repub_percent_08'",
     "output_type": "error",
     "traceback": [
      "\u001b[0;31m---------------------------------------------------------------------------\u001b[0m",
      "\u001b[0;31mKeyError\u001b[0m                                  Traceback (most recent call last)",
      "File \u001b[0;32m/opt/anaconda3/lib/python3.12/site-packages/pandas/core/indexes/base.py:3805\u001b[0m, in \u001b[0;36mIndex.get_loc\u001b[0;34m(self, key)\u001b[0m\n\u001b[1;32m   3804\u001b[0m \u001b[38;5;28;01mtry\u001b[39;00m:\n\u001b[0;32m-> 3805\u001b[0m     \u001b[38;5;28;01mreturn\u001b[39;00m \u001b[38;5;28mself\u001b[39m\u001b[38;5;241m.\u001b[39m_engine\u001b[38;5;241m.\u001b[39mget_loc(casted_key)\n\u001b[1;32m   3806\u001b[0m \u001b[38;5;28;01mexcept\u001b[39;00m \u001b[38;5;167;01mKeyError\u001b[39;00m \u001b[38;5;28;01mas\u001b[39;00m err:\n",
      "File \u001b[0;32mindex.pyx:167\u001b[0m, in \u001b[0;36mpandas._libs.index.IndexEngine.get_loc\u001b[0;34m()\u001b[0m\n",
      "File \u001b[0;32mindex.pyx:196\u001b[0m, in \u001b[0;36mpandas._libs.index.IndexEngine.get_loc\u001b[0;34m()\u001b[0m\n",
      "File \u001b[0;32mpandas/_libs/hashtable_class_helper.pxi:7081\u001b[0m, in \u001b[0;36mpandas._libs.hashtable.PyObjectHashTable.get_item\u001b[0;34m()\u001b[0m\n",
      "File \u001b[0;32mpandas/_libs/hashtable_class_helper.pxi:7089\u001b[0m, in \u001b[0;36mpandas._libs.hashtable.PyObjectHashTable.get_item\u001b[0;34m()\u001b[0m\n",
      "\u001b[0;31mKeyError\u001b[0m: 'repub_percent_08'",
      "\nThe above exception was the direct cause of the following exception:\n",
      "\u001b[0;31mKeyError\u001b[0m                                  Traceback (most recent call last)",
      "Cell \u001b[0;32mIn[372], line 3\u001b[0m\n\u001b[1;32m      1\u001b[0m sample_d \u001b[38;5;241m=\u001b[39m df\u001b[38;5;241m.\u001b[39mcopy()\n\u001b[1;32m      2\u001b[0m alpha \u001b[38;5;241m=\u001b[39m \u001b[38;5;241m0.05\u001b[39m\n\u001b[0;32m----> 3\u001b[0m sample_d[\u001b[38;5;124m'\u001b[39m\u001b[38;5;124mdiff\u001b[39m\u001b[38;5;124m'\u001b[39m] \u001b[38;5;241m=\u001b[39m df[\u001b[38;5;124m'\u001b[39m\u001b[38;5;124mrepub_percent_08\u001b[39m\u001b[38;5;124m'\u001b[39m] \u001b[38;5;241m-\u001b[39m df[\u001b[38;5;124m'\u001b[39m\u001b[38;5;124mrepub_percent_12\u001b[39m\u001b[38;5;124m'\u001b[39m]\n\u001b[1;32m      4\u001b[0m m \u001b[38;5;241m=\u001b[39m \u001b[38;5;241m0\u001b[39m\n\u001b[1;32m      5\u001b[0m x \u001b[38;5;241m=\u001b[39m sample_d[\u001b[38;5;124m'\u001b[39m\u001b[38;5;124mdiff\u001b[39m\u001b[38;5;124m'\u001b[39m]\u001b[38;5;241m.\u001b[39mmean()\n",
      "File \u001b[0;32m/opt/anaconda3/lib/python3.12/site-packages/pandas/core/frame.py:4102\u001b[0m, in \u001b[0;36mDataFrame.__getitem__\u001b[0;34m(self, key)\u001b[0m\n\u001b[1;32m   4100\u001b[0m \u001b[38;5;28;01mif\u001b[39;00m \u001b[38;5;28mself\u001b[39m\u001b[38;5;241m.\u001b[39mcolumns\u001b[38;5;241m.\u001b[39mnlevels \u001b[38;5;241m>\u001b[39m \u001b[38;5;241m1\u001b[39m:\n\u001b[1;32m   4101\u001b[0m     \u001b[38;5;28;01mreturn\u001b[39;00m \u001b[38;5;28mself\u001b[39m\u001b[38;5;241m.\u001b[39m_getitem_multilevel(key)\n\u001b[0;32m-> 4102\u001b[0m indexer \u001b[38;5;241m=\u001b[39m \u001b[38;5;28mself\u001b[39m\u001b[38;5;241m.\u001b[39mcolumns\u001b[38;5;241m.\u001b[39mget_loc(key)\n\u001b[1;32m   4103\u001b[0m \u001b[38;5;28;01mif\u001b[39;00m is_integer(indexer):\n\u001b[1;32m   4104\u001b[0m     indexer \u001b[38;5;241m=\u001b[39m [indexer]\n",
      "File \u001b[0;32m/opt/anaconda3/lib/python3.12/site-packages/pandas/core/indexes/base.py:3812\u001b[0m, in \u001b[0;36mIndex.get_loc\u001b[0;34m(self, key)\u001b[0m\n\u001b[1;32m   3807\u001b[0m     \u001b[38;5;28;01mif\u001b[39;00m \u001b[38;5;28misinstance\u001b[39m(casted_key, \u001b[38;5;28mslice\u001b[39m) \u001b[38;5;129;01mor\u001b[39;00m (\n\u001b[1;32m   3808\u001b[0m         \u001b[38;5;28misinstance\u001b[39m(casted_key, abc\u001b[38;5;241m.\u001b[39mIterable)\n\u001b[1;32m   3809\u001b[0m         \u001b[38;5;129;01mand\u001b[39;00m \u001b[38;5;28many\u001b[39m(\u001b[38;5;28misinstance\u001b[39m(x, \u001b[38;5;28mslice\u001b[39m) \u001b[38;5;28;01mfor\u001b[39;00m x \u001b[38;5;129;01min\u001b[39;00m casted_key)\n\u001b[1;32m   3810\u001b[0m     ):\n\u001b[1;32m   3811\u001b[0m         \u001b[38;5;28;01mraise\u001b[39;00m InvalidIndexError(key)\n\u001b[0;32m-> 3812\u001b[0m     \u001b[38;5;28;01mraise\u001b[39;00m \u001b[38;5;167;01mKeyError\u001b[39;00m(key) \u001b[38;5;28;01mfrom\u001b[39;00m \u001b[38;5;21;01merr\u001b[39;00m\n\u001b[1;32m   3813\u001b[0m \u001b[38;5;28;01mexcept\u001b[39;00m \u001b[38;5;167;01mTypeError\u001b[39;00m:\n\u001b[1;32m   3814\u001b[0m     \u001b[38;5;66;03m# If we have a listlike key, _check_indexing_error will raise\u001b[39;00m\n\u001b[1;32m   3815\u001b[0m     \u001b[38;5;66;03m#  InvalidIndexError. Otherwise we fall through and re-raise\u001b[39;00m\n\u001b[1;32m   3816\u001b[0m     \u001b[38;5;66;03m#  the TypeError.\u001b[39;00m\n\u001b[1;32m   3817\u001b[0m     \u001b[38;5;28mself\u001b[39m\u001b[38;5;241m.\u001b[39m_check_indexing_error(key)\n",
      "\u001b[0;31mKeyError\u001b[0m: 'repub_percent_08'"
     ]
    }
   ],
   "source": [
    "sample_d = df.copy()\n",
    "alpha = 0.05\n",
    "sample_d['diff'] = df['repub_percent_08'] - df['repub_percent_12']\n",
    "m = 0\n",
    "x = sample_d['diff'].mean()\n",
    "s = np.std(sample_d['diff'], ddof=1)\n",
    "n = len(df_stck)\n",
    "payda = np.sqrt(s**2 / n)\n",
    "pay = x- m\n",
    "t = pay / payda\n",
    "dof = n-1\n",
    "#sol\n",
    "stats.t.cdf(np.abs(t), df=dof)\n",
    "if p < alpha:\n",
    "    print(\"H0 reddedilir.\")\n",
    "else:\n",
    "    print(\"H0 kabul edilir.\")\n"
   ]
  },
  {
   "cell_type": "markdown",
   "id": "eb171057-6fd7-47d3-8f26-5611f0f872de",
   "metadata": {},
   "source": [
    "#Stackoverflow veri setindeki popülasyondaki kullanıcıların yarısının otuz yaşın altında olduğunu varsayalım ve bir fark olup olmadığını kontrol edelim. Anlamlılık düzeyini 0.01 olarak belirleyelim. Örneklemde , kullanıcıların yarısından biraz fazlası otuz yaşın altındadır.  \n",
    "H0 = 0.5  \n",
    "Ha != 0.5"
   ]
  },
  {
   "cell_type": "code",
   "execution_count": 385,
   "id": "e37bff51-0a92-4cd0-bfdf-e58f0682ddcc",
   "metadata": {},
   "outputs": [],
   "source": [
    "p = (df_stck['age_cat'] == 'Under 30').mean()\n",
    "n = len(df_stck)"
   ]
  },
  {
   "cell_type": "code",
   "execution_count": 387,
   "id": "69efd027-05b9-4d22-b889-ec51ca89b3b7",
   "metadata": {},
   "outputs": [
    {
     "name": "stdout",
     "output_type": "stream",
     "text": [
      "H0 reddedilir.\n"
     ]
    }
   ],
   "source": [
    "p0 = 0.5\n",
    "se = np.sqrt(p0 * ( 1 - p0 ) / n)\n",
    "z = (p - p0) / se\n",
    "#çift kuyruk testi\n",
    "p = 1 - (stats.norm.cdf(np.abs(z)))\n",
    "if p < alpha:\n",
    "    print(\"H0 reddedilir.\")\n",
    "else:\n",
    "    print(\"H0 kabul edilir.\")\n"
   ]
  },
  {
   "cell_type": "markdown",
   "id": "e63eb2ac-b87b-46e7-b770-76bcb83e81c3",
   "metadata": {},
   "source": [
    "Soru: Çalışanların 'RemoteWork' sütunundaki 1 (uzaktan çalışan) ve 0 (uzaktan çalışmayan) kategorilerindeki oran farkını test edin. H0 (Null Hipotezi): Uzaktan çalışanların oranı, uzaktan çalışmayanların oranından farklı değildir."
   ]
  },
  {
   "cell_type": "code",
   "execution_count": 415,
   "id": "d807912a-0e2d-45d8-9701-63586e7e3ee5",
   "metadata": {},
   "outputs": [
    {
     "name": "stdout",
     "output_type": "stream",
     "text": [
      "H0 reddedilir.\n"
     ]
    }
   ],
   "source": [
    "alpha = 0.05\n",
    "p_hat = df['RemoteWork'].value_counts(normalize=True)\n",
    "p0 = p_hat.iloc[0]\n",
    "p1 = p_hat.iloc[1]\n",
    "n0 = len(df[df['RemoteWork'] == 0])\n",
    "n1 = len(df[df['RemoteWork'] == 1])\n",
    "pay = p0 - p1\n",
    "se = np.sqrt( (p0*( 1-p0) / n0) + (p1 *(1-p1) / n1))\n",
    "z = pay / se\n",
    "# H0 (Null Hipotezi): Uzaktan çalışanların oranı, uzaktan çalışmayanların oranından farklı değildir. -> çift kuyruk testi yapılmalı\n",
    "p = 2 * ( 1 - stats.norm.cdf(np.abs(z)))\n",
    "if p < alpha:\n",
    "    print(\"H0 reddedilir.\")\n",
    "else:\n",
    "    print(\"H0 kabul edilir.\")\n"
   ]
  },
  {
   "cell_type": "code",
   "execution_count": 417,
   "id": "0ddf85a8-cf5e-475e-836e-6feb36e57c96",
   "metadata": {},
   "outputs": [
    {
     "name": "stdout",
     "output_type": "stream",
     "text": [
      "H0 reddedilir: Uzaktan çalışanların oranı, uzaktan çalışmayanlardan farklıdır.\n"
     ]
    }
   ],
   "source": [
    "import numpy as np\n",
    "from scipy import stats\n",
    "\n",
    "alpha = 0.05\n",
    "\n",
    "# Oranları hesapla\n",
    "p_hat = df['RemoteWork'].value_counts(normalize=True)\n",
    "p0 = p_hat.iloc[0]  # Uzaktan çalışmayanların oranı (0)\n",
    "p1 = p_hat.iloc[1]  # Uzaktan çalışanların oranı (1)\n",
    "\n",
    "# Grup büyüklüklerini hesapla\n",
    "n0 = len(df[df['RemoteWork'] == 0])  # Uzaktan çalışmayanların sayısı\n",
    "n1 = len(df[df['RemoteWork'] == 1])  # Uzaktan çalışanların sayısı\n",
    "\n",
    "# Oranlar arasındaki fark\n",
    "pay = p0 - p1\n",
    "\n",
    "# Standart hata (se)\n",
    "se = np.sqrt((p0 * (1 - p0) / n0) + (p1 * (1 - p1) / n1))\n",
    "\n",
    "# Z istatistiği\n",
    "z = pay / se\n",
    "\n",
    "# Çift kuyruklu p-değeri\n",
    "p_value = 2 * (1 - stats.norm.cdf(np.abs(z)))\n",
    "\n",
    "# Sonuçları değerlendir\n",
    "if p_value < alpha:\n",
    "    print(\"H0 reddedilir: Uzaktan çalışanların oranı, uzaktan çalışmayanlardan farklıdır.\")\n",
    "else:\n",
    "    print(\"H0 kabul edilir: Uzaktan çalışanların oranı, uzaktan çalışmayanlardan farklı değildir.\")\n"
   ]
  },
  {
   "cell_type": "markdown",
   "id": "4efa6156-f39e-4456-81b9-2fb8d7c007e5",
   "metadata": {},
   "source": [
    "\"Veri setimdeki müşteri bilgilerini kullanarak, bir müşterinin hizmet iptali (churn) yapıp yapmadığını tahmin etmek istiyorum. Bu problem için hangi modelin daha uygun olduğunu nasıl belirlerim ve hangi adımları izlemeliyim?\""
   ]
  },
  {
   "cell_type": "code",
   "execution_count": 422,
   "id": "48613335-64ae-42ef-bf11-419d1531bbfd",
   "metadata": {},
   "outputs": [
    {
     "data": {
      "text/plain": [
       "array([1, 0, 0])"
      ]
     },
     "execution_count": 422,
     "metadata": {},
     "output_type": "execute_result"
    }
   ],
   "source": [
    "import pandas as pd\n",
    "from sklearn.neighbors import KNeighborsClassifier\n",
    "\n",
    "df_churn = pd.read_csv(\"data/telecom_churn_clean.csv\")\n",
    "X = df_churn[['total_day_charge', 'total_eve_charge']].values\n",
    "y = df_churn['churn'].values\n",
    "\n",
    "model_knn = KNeighborsClassifier(n_neighbors=15)\n",
    "model_knn.fit(X,y) #model eğitimi\n",
    "X_new = np.array([\n",
    "    [56.8, 17.5],\n",
    "    [24.4, 24.1],\n",
    "    [50.1, 10.9]\n",
    "])\n",
    "model_knn.predict(X_new)"
   ]
  },
  {
   "cell_type": "code",
   "execution_count": 426,
   "id": "b5907cbb-3db6-46b6-9532-7176280bbbed",
   "metadata": {},
   "outputs": [
    {
     "data": {
      "text/plain": [
       "0.8605697151424287"
      ]
     },
     "execution_count": 426,
     "metadata": {},
     "output_type": "execute_result"
    }
   ],
   "source": [
    "from sklearn.model_selection import train_test_split\n",
    "X_train, X_test, y_train, y_test = train_test_split(X, y, test_size=0.2, random_state=42, stratify=y)\n",
    "knn = KNeighborsClassifier(n_neighbors = 6)\n",
    "knn.fit(X_train, y_train)\n",
    "knn.score(X_test, y_test)"
   ]
  },
  {
   "cell_type": "markdown",
   "id": "f1bf4c03-fff7-4e4b-8adb-ac548823d2c0",
   "metadata": {},
   "source": [
    "Aşağıdaki Python kodu ile, vücut kitle indeksi (BMI) ile kan şekeri düzeyi (glucose) arasındaki ilişkiyi incelemeye çalışan bir model oluşturulmaktadır. Bu modelin amacı, BMI'yi bağımsız değişken olarak alıp, glucose'u tahmin etmektir."
   ]
  },
  {
   "cell_type": "code",
   "execution_count": 429,
   "id": "43d01c32-06e2-4978-b23b-91ca8543f1eb",
   "metadata": {},
   "outputs": [
    {
     "name": "stdout",
     "output_type": "stream",
     "text": [
      "Katsayı (slope): [1.02801737]\n",
      "Kesim (intercept): 88.57754093395485\n"
     ]
    },
    {
     "data": {
      "image/png": "[encoded data removed]",
      "text/plain": [
       "<Figure size 640x480 with 1 Axes>"
      ]
     },
     "metadata": {},
     "output_type": "display_data"
    }
   ],
   "source": [
    "from sklearn.linear_model import LinearRegression\n",
    "import pandas as pd\n",
    "\n",
    "# Veri setini yükle\n",
    "df_diabetes = pd.read_csv('data/diabetes_clean.csv')\n",
    "\n",
    "# 'bmi' ve 'glucose' sütununda 0 değeri olan satırları filtrele ve kaldır\n",
    "df_filtered = df_diabetes[(df_diabetes['bmi'] == 0.0) | (df_diabetes['glucose'] == 0)]\n",
    "df_diabetes.drop(df_filtered.index, inplace=True)\n",
    "\n",
    "# Bağımsız değişken (X) ve bağımlı değişken (y) olarak veriyi ayır\n",
    "X = df_diabetes['bmi'].values.reshape(-1, 1)  # X'yi 2D formata dönüştür\n",
    "y = df_diabetes['glucose'].values\n",
    "\n",
    "# Linear Regression modelini oluştur ve eğit\n",
    "model_reg = LinearRegression()\n",
    "model_reg.fit(X, y)\n",
    "\n",
    "# Model ile tahmin yap (eğitim verisiyle de test yapabilirsiniz)\n",
    "predictions = model_reg.predict(X)\n",
    "\n",
    "# Modelin katsayılarını ve kesişim noktasını yazdır\n",
    "print(\"Katsayı (slope):\", model_reg.coef_)\n",
    "print(\"Kesim (intercept):\", model_reg.intercept_)\n",
    "\n",
    "# Tahmin sonuçlarını görselleştirelim\n",
    "import matplotlib.pyplot as plt\n",
    "\n",
    "plt.scatter(X, y, color='blue', label='Gerçek Veriler')\n",
    "plt.plot(X, predictions, color='red', label='Tahmin Edilen Doğru')\n",
    "plt.xlabel('BMI')\n",
    "plt.ylabel('Glucose')\n",
    "plt.legend()\n",
    "plt.show()\n"
   ]
  },
  {
   "cell_type": "markdown",
   "id": "3b3e7966-7acb-42d4-9380-ec25be800272",
   "metadata": {},
   "source": [
    " kullanarak **diabetes veri kümesi** üzerinde bir model oluşturuyor ve bu modelin **kan şekeri seviyelerini** tahmin etmesini sağlıyor\n"
   ]
  },
  {
   "cell_type": "code",
   "execution_count": 434,
   "id": "4d10c260-b8d0-496a-8bc3-db5becc87b39",
   "metadata": {},
   "outputs": [
    {
     "data": {
      "text/plain": [
       "0.3282802627263198"
      ]
     },
     "execution_count": 434,
     "metadata": {},
     "output_type": "execute_result"
    }
   ],
   "source": [
    "X = df_diabetes.drop('glucose', axis=1).values\n",
    "y = df_diabetes['glucose'].values\n",
    "X_train, X_test, y_train, y_test = train_test_split(X,y, test_size=0.2, random_state=42)\n",
    "model_l = LinearRegression()\n",
    "model_l.fit(X_train, y_train)\n",
    "pred = model_l.predict(X_test)\n",
    "model_l.score(X_test, y_test)"
   ]
  },
  {
   "cell_type": "code",
   "execution_count": 415,
   "id": "5118e3f6-2e07-48c4-a574-d34cf675ba62",
   "metadata": {},
   "outputs": [
    {
     "ename": "AttributeError",
     "evalue": "'DataFrame' object has no attribute 'kfvalues'",
     "output_type": "error",
     "traceback": [
      "\u001b[0;31m---------------------------------------------------------------------------\u001b[0m",
      "\u001b[0;31mAttributeError\u001b[0m                            Traceback (most recent call last)",
      "\u001b[0;32m/var/folders/zf/gnk755n14rj48wl97n0lv_0w0000gn/T/ipykernel_36422/1783516765.py\u001b[0m in \u001b[0;36m?\u001b[0;34m()\u001b[0m\n\u001b[1;32m      5\u001b[0m \u001b[0;34m\u001b[0m\u001b[0m\n\u001b[1;32m      6\u001b[0m \u001b[0mdf_filtered\u001b[0m \u001b[0;34m=\u001b[0m \u001b[0mdf_diabets\u001b[0m\u001b[0;34m[\u001b[0m\u001b[0;34m(\u001b[0m\u001b[0mdf_diabets\u001b[0m\u001b[0;34m[\u001b[0m\u001b[0;34m'bmi'\u001b[0m\u001b[0;34m]\u001b[0m \u001b[0;34m==\u001b[0m \u001b[0;36m0.0\u001b[0m\u001b[0;34m)\u001b[0m \u001b[0;34m|\u001b[0m \u001b[0;34m(\u001b[0m\u001b[0mdf_diabets\u001b[0m\u001b[0;34m[\u001b[0m\u001b[0;34m'glucose'\u001b[0m\u001b[0;34m]\u001b[0m \u001b[0;34m==\u001b[0m \u001b[0;36m0\u001b[0m\u001b[0;34m)\u001b[0m\u001b[0;34m]\u001b[0m\u001b[0;34m\u001b[0m\u001b[0;34m\u001b[0m\u001b[0m\n\u001b[1;32m      7\u001b[0m \u001b[0mdf_diabets\u001b[0m\u001b[0;34m.\u001b[0m\u001b[0mdrop\u001b[0m\u001b[0;34m(\u001b[0m\u001b[0mdf_filtered\u001b[0m\u001b[0;34m.\u001b[0m\u001b[0mindex\u001b[0m\u001b[0;34m,\u001b[0m \u001b[0minplace\u001b[0m\u001b[0;34m=\u001b[0m\u001b[0;32mTrue\u001b[0m\u001b[0;34m)\u001b[0m\u001b[0;34m\u001b[0m\u001b[0;34m\u001b[0m\u001b[0m\n\u001b[1;32m      8\u001b[0m \u001b[0;34m\u001b[0m\u001b[0m\n\u001b[0;32m----> 9\u001b[0;31m \u001b[0mX\u001b[0m \u001b[0;34m=\u001b[0m \u001b[0mdf_diabets\u001b[0m\u001b[0;34m.\u001b[0m\u001b[0mdrop\u001b[0m\u001b[0;34m(\u001b[0m\u001b[0;34m'glucose'\u001b[0m\u001b[0;34m,\u001b[0m \u001b[0maxis\u001b[0m\u001b[0;34m=\u001b[0m\u001b[0;36m1\u001b[0m\u001b[0;34m)\u001b[0m\u001b[0;34m.\u001b[0m\u001b[0mkfvalues\u001b[0m\u001b[0;34m\u001b[0m\u001b[0;34m\u001b[0m\u001b[0m\n\u001b[0m\u001b[1;32m     10\u001b[0m \u001b[0my\u001b[0m \u001b[0;34m=\u001b[0m \u001b[0mdf_diabets\u001b[0m\u001b[0;34m[\u001b[0m\u001b[0;34m'glucose'\u001b[0m\u001b[0;34m]\u001b[0m\u001b[0;34m.\u001b[0m\u001b[0mvalues\u001b[0m\u001b[0;34m\u001b[0m\u001b[0;34m\u001b[0m\u001b[0m\n\u001b[1;32m     11\u001b[0m \u001b[0;34m\u001b[0m\u001b[0m\n\u001b[1;32m     12\u001b[0m \u001b[0mkfold\u001b[0m \u001b[0;34m=\u001b[0m \u001b[0mKFold\u001b[0m\u001b[0;34m(\u001b[0m\u001b[0mn_splits\u001b[0m\u001b[0;34m=\u001b[0m\u001b[0;36m6\u001b[0m\u001b[0;34m,\u001b[0m \u001b[0mshuffle\u001b[0m\u001b[0;34m=\u001b[0m\u001b[0;32mTrue\u001b[0m\u001b[0;34m,\u001b[0m \u001b[0mrandom_state\u001b[0m\u001b[0;34m=\u001b[0m\u001b[0;36m42\u001b[0m\u001b[0;34m)\u001b[0m\u001b[0;34m\u001b[0m\u001b[0;34m\u001b[0m\u001b[0m\n",
      "\u001b[0;32m/opt/anaconda3/lib/python3.12/site-packages/pandas/core/generic.py\u001b[0m in \u001b[0;36m?\u001b[0;34m(self, name)\u001b[0m\n\u001b[1;32m   6295\u001b[0m             \u001b[0;32mand\u001b[0m \u001b[0mname\u001b[0m \u001b[0;32mnot\u001b[0m \u001b[0;32min\u001b[0m \u001b[0mself\u001b[0m\u001b[0;34m.\u001b[0m\u001b[0m_accessors\u001b[0m\u001b[0;34m\u001b[0m\u001b[0;34m\u001b[0m\u001b[0m\n\u001b[1;32m   6296\u001b[0m             \u001b[0;32mand\u001b[0m \u001b[0mself\u001b[0m\u001b[0;34m.\u001b[0m\u001b[0m_info_axis\u001b[0m\u001b[0;34m.\u001b[0m\u001b[0m_can_hold_identifiers_and_holds_name\u001b[0m\u001b[0;34m(\u001b[0m\u001b[0mname\u001b[0m\u001b[0;34m)\u001b[0m\u001b[0;34m\u001b[0m\u001b[0;34m\u001b[0m\u001b[0m\n\u001b[1;32m   6297\u001b[0m         \u001b[0;34m)\u001b[0m\u001b[0;34m:\u001b[0m\u001b[0;34m\u001b[0m\u001b[0;34m\u001b[0m\u001b[0m\n\u001b[1;32m   6298\u001b[0m             \u001b[0;32mreturn\u001b[0m \u001b[0mself\u001b[0m\u001b[0;34m[\u001b[0m\u001b[0mname\u001b[0m\u001b[0;34m]\u001b[0m\u001b[0;34m\u001b[0m\u001b[0;34m\u001b[0m\u001b[0m\n\u001b[0;32m-> 6299\u001b[0;31m         \u001b[0;32mreturn\u001b[0m \u001b[0mobject\u001b[0m\u001b[0;34m.\u001b[0m\u001b[0m__getattribute__\u001b[0m\u001b[0;34m(\u001b[0m\u001b[0mself\u001b[0m\u001b[0;34m,\u001b[0m \u001b[0mname\u001b[0m\u001b[0;34m)\u001b[0m\u001b[0;34m\u001b[0m\u001b[0;34m\u001b[0m\u001b[0m\n\u001b[0m",
      "\u001b[0;31mAttributeError\u001b[0m: 'DataFrame' object has no attribute 'kfvalues'"
     ]
    }
   ],
   "source": [
    "import pandas as pd\n",
    "from sklearn.model_selection import cross_val_score, KFold\n",
    "from sklearn.linear_model import LinearRegression\n",
    "df_diabets = pd.read_csv('data/diabetes_clean.csv')\n",
    "\n",
    "df_filtered = df_diabets[(df_diabets['bmi'] == 0.0) | (df_diabets['glucose'] == 0)]\n",
    "df_diabets.drop(df_filtered.index, inplace=True)\n",
    "\n",
    "X = df_diabets.drop('glucose', axis=1).kfvalues\n",
    "y = df_diabets['glucose'].values\n",
    "\n",
    "kfold = KFold(n_splits=6, shuffle=True, random_state=42)\n",
    "model_l = LinearRegression()\n",
    "res = cross_val_score(model_l, X,y,cv=kfold)\n",
    "res"
   ]
  },
  {
   "cell_type": "markdown",
   "id": "02f23bdb-e9cf-4d3b-97d2-49642a3eaf4e",
   "metadata": {},
   "source": [
    "Department ve RemoteWork arasındaki bağımsızlık ilişkisini test edin. Bu test, farklı departmanlarda uzaktan çalışma oranlarının birbirinden bağımsız olup olmadığını belirleyecektir."
   ]
  },
  {
   "cell_type": "code",
   "execution_count": 439,
   "id": "b3a41928-8fb7-4e78-90eb-0949e3b413f9",
   "metadata": {},
   "outputs": [
    {
     "name": "stderr",
     "output_type": "stream",
     "text": [
      "/opt/anaconda3/lib/python3.12/site-packages/pingouin/contingency.py:151: UserWarning: Low count on observed frequencies.\n",
      "  warnings.warn(f\"Low count on {name} frequencies.\")\n",
      "/opt/anaconda3/lib/python3.12/site-packages/pingouin/contingency.py:151: UserWarning: Low count on expected frequencies.\n",
      "  warnings.warn(f\"Low count on {name} frequencies.\")\n"
     ]
    },
    {
     "data": {
      "text/html": [
       "<div>\n",
       "<style scoped>\n",
       "    .dataframe tbody tr th:only-of-type {\n",
       "        vertical-align: middle;\n",
       "    }\n",
       "\n",
       "    .dataframe tbody tr th {\n",
       "        vertical-align: top;\n",
       "    }\n",
       "\n",
       "    .dataframe thead th {\n",
       "        text-align: right;\n",
       "    }\n",
       "</style>\n",
       "<table border=\"1\" class=\"dataframe\">\n",
       "  <thead>\n",
       "    <tr style=\"text-align: right;\">\n",
       "      <th></th>\n",
       "      <th>test</th>\n",
       "      <th>lambda</th>\n",
       "      <th>chi2</th>\n",
       "      <th>dof</th>\n",
       "      <th>pval</th>\n",
       "      <th>cramer</th>\n",
       "      <th>power</th>\n",
       "    </tr>\n",
       "  </thead>\n",
       "  <tbody>\n",
       "    <tr>\n",
       "      <th>0</th>\n",
       "      <td>pearson</td>\n",
       "      <td>1.000000</td>\n",
       "      <td>4.447889</td>\n",
       "      <td>3.0</td>\n",
       "      <td>0.216986</td>\n",
       "      <td>0.210900</td>\n",
       "      <td>0.395656</td>\n",
       "    </tr>\n",
       "    <tr>\n",
       "      <th>1</th>\n",
       "      <td>cressie-read</td>\n",
       "      <td>0.666667</td>\n",
       "      <td>4.572942</td>\n",
       "      <td>3.0</td>\n",
       "      <td>0.205876</td>\n",
       "      <td>0.213844</td>\n",
       "      <td>0.405915</td>\n",
       "    </tr>\n",
       "    <tr>\n",
       "      <th>2</th>\n",
       "      <td>log-likelihood</td>\n",
       "      <td>0.000000</td>\n",
       "      <td>4.951015</td>\n",
       "      <td>3.0</td>\n",
       "      <td>0.175419</td>\n",
       "      <td>0.222509</td>\n",
       "      <td>0.436579</td>\n",
       "    </tr>\n",
       "    <tr>\n",
       "      <th>3</th>\n",
       "      <td>freeman-tukey</td>\n",
       "      <td>-0.500000</td>\n",
       "      <td>5.387218</td>\n",
       "      <td>3.0</td>\n",
       "      <td>0.145542</td>\n",
       "      <td>0.232104</td>\n",
       "      <td>0.471176</td>\n",
       "    </tr>\n",
       "    <tr>\n",
       "      <th>4</th>\n",
       "      <td>mod-log-likelihood</td>\n",
       "      <td>-1.000000</td>\n",
       "      <td>6.012544</td>\n",
       "      <td>3.0</td>\n",
       "      <td>0.111002</td>\n",
       "      <td>0.245205</td>\n",
       "      <td>0.519016</td>\n",
       "    </tr>\n",
       "    <tr>\n",
       "      <th>5</th>\n",
       "      <td>neyman</td>\n",
       "      <td>-2.000000</td>\n",
       "      <td>8.201329</td>\n",
       "      <td>3.0</td>\n",
       "      <td>0.042029</td>\n",
       "      <td>0.286380</td>\n",
       "      <td>0.666212</td>\n",
       "    </tr>\n",
       "  </tbody>\n",
       "</table>\n",
       "</div>"
      ],
      "text/plain": [
       "                 test    lambda      chi2  dof      pval    cramer     power\n",
       "0             pearson  1.000000  4.447889  3.0  0.216986  0.210900  0.395656\n",
       "1        cressie-read  0.666667  4.572942  3.0  0.205876  0.213844  0.405915\n",
       "2      log-likelihood  0.000000  4.951015  3.0  0.175419  0.222509  0.436579\n",
       "3       freeman-tukey -0.500000  5.387218  3.0  0.145542  0.232104  0.471176\n",
       "4  mod-log-likelihood -1.000000  6.012544  3.0  0.111002  0.245205  0.519016\n",
       "5              neyman -2.000000  8.201329  3.0  0.042029  0.286380  0.666212"
      ]
     },
     "execution_count": 439,
     "metadata": {},
     "output_type": "execute_result"
    }
   ],
   "source": [
    "import pandas as pd\n",
    "import numpy as np\n",
    "df = pd.read_csv(\"data/Generated_Employee_Data.csv\")\n",
    "expected , observed, stats = pingouin.chi2_independence(data=df, x='Department', y='RemoteWork')\n",
    "stats"
   ]
  },
  {
   "cell_type": "markdown",
   "id": "2c0d536c-01ae-4684-8579-8af067449940",
   "metadata": {},
   "source": [
    "RemoteWork ve SatisfactionScore kategorik değişkenlerinin beklenen ve gözlenen frekanslarının uyumlu olup olmadığını test edin. "
   ]
  },
  {
   "cell_type": "code",
   "execution_count": 446,
   "id": "fab2809f-c83d-4c02-b81d-2ce30192bb41",
   "metadata": {},
   "outputs": [
    {
     "data": {
      "text/plain": [
       "array([1, 0, 0])"
      ]
     },
     "execution_count": 446,
     "metadata": {},
     "output_type": "execute_result"
    }
   ],
   "source": [
    "import pandas as pd\n",
    "from sklearn.neighbors import KNeighborsClassifier\n",
    "\n",
    "X= df_churn[['total_day_charge', 'total_eve_charge']].values\n",
    "y = df_churn['churn'].values\n",
    "\n",
    "model_knn = KNeighborsClassifier(n_neighbors=15)\n",
    "model_knn.fit(X,y)\n",
    "X_new = np.array([\n",
    "    [56.8, 17.5],\n",
    "    [24.4, 24.1],\n",
    "    [50.1, 10.9]\n",
    "])\n",
    "model_knn.predict(X_new)"
   ]
  },
  {
   "cell_type": "markdown",
   "id": "cdbdcddd-7124-4107-957d-5556e44bdd1c",
   "metadata": {},
   "source": [
    "Verilen veri setini kullanarak bir KNN modeli oluşturun ve çalışanların uzaktan çalışma durumunu tahmin edin"
   ]
  },
  {
   "cell_type": "code",
   "execution_count": 454,
   "id": "5889a8fd-df0b-4bad-8729-7911e1e03b30",
   "metadata": {},
   "outputs": [
    {
     "name": "stdout",
     "output_type": "stream",
     "text": [
      "Tahminler: [0 0 0 0 0 0 0 0 0 0 0 1 0 0 0 0 0 0 1 0]\n"
     ]
    },
    {
     "data": {
      "text/plain": [
       "0.7"
      ]
     },
     "execution_count": 454,
     "metadata": {},
     "output_type": "execute_result"
    }
   ],
   "source": [
    "X = df[['MonthlySalary', 'HoursWorked', 'SatisfactionScore']].values\n",
    "y = df['RemoteWork'].values\n",
    "from sklearn.model_selection import train_test_split\n",
    "from sklearn.neighbors import KNeighborsClassifier\n",
    "X_train, X_test, y_train, y_test = train_test_split(X, y, test_size=0.2, random_state=42, stratify=y)\n",
    "model_knn = KNeighborsClassifier(n_neighbors=5)\n",
    "model_knn.fit(X_train, y_train)\n",
    "y_pred = model_knn.predict(X_test)\n",
    "print(\"Tahminler:\", y_pred)\n",
    "model_knn.score(X_test, y_test)"
   ]
  },
  {
   "cell_type": "markdown",
   "id": "328f0a64-5a7a-4261-9356-0efb1aeb8779",
   "metadata": {},
   "source": [
    "Bir çalışanın çalışma saatleri (HoursWorked) ile maaşı (MonthlySalary) arasındaki doğrusal ilişkiyi incelemek için bir model oluşturun"
   ]
  },
  {
   "cell_type": "code",
   "execution_count": 466,
   "id": "197705e4-199a-4688-ada6-1c5c2935423c",
   "metadata": {},
   "outputs": [
    {
     "data": {
      "text/plain": [
       "-0.006181633738065129"
      ]
     },
     "execution_count": 466,
     "metadata": {},
     "output_type": "execute_result"
    }
   ],
   "source": [
    "from sklearn.linear_model import LinearRegression\n",
    "X = df['HoursWorked'].values.reshape(-1,1)\n",
    "y = df['MonthlySalary'].values\n",
    "from sklearn.model_selection import train_test_split\n",
    "X_train, X_test, y_train, y_test = train_test_split(X, y, test_size = 0.2)\n",
    "model_reg = LinearRegression()\n",
    "model_reg.fit(X_train,y_train)\n",
    "model_reg.predict(X_test)\n",
    "model_reg.score(X_test, y_test)"
   ]
  },
  {
   "cell_type": "code",
   "execution_count": 464,
   "id": "a9abcec7-1ea2-4157-b8bc-9cdeb57795ce",
   "metadata": {},
   "outputs": [
    {
     "name": "stdout",
     "output_type": "stream",
     "text": [
      "Tahminler: [4828.53590459 4841.70252361 5003.34378265 5198.60194133 4612.8274653\n",
      " 4830.77703123 4928.82632181 4759.62126035 4870.55702912 4934.98942008\n",
      " 4912.57815366 4864.67407169 4880.36195818 4397.39916685 4708.35548841\n",
      " 4849.26632602 4639.720985   4792.39773748 5055.44997708 4864.95421252]\n",
      "Modelin doğruluk skoru (R^2): -0.351820397734369\n"
     ]
    }
   ],
   "source": [
    "from sklearn.linear_model import LinearRegression\n",
    "from sklearn.model_selection import train_test_split\n",
    "\n",
    "# Bağımsız ve bağımlı değişkenleri ayır\n",
    "X = df['HoursWorked'].values.reshape(-1, 1)\n",
    "y = df['MonthlySalary'].values\n",
    "\n",
    "# Eğitim ve test setlerine ayır\n",
    "X_train, X_test, y_train, y_test = train_test_split(X, y, test_size=0.2, random_state=42)\n",
    "\n",
    "# Modeli oluştur ve eğit\n",
    "model_reg = LinearRegression()\n",
    "model_reg.fit(X_train, y_train)\n",
    "\n",
    "# Test seti ile tahmin yap\n",
    "y_pred = model_reg.predict(X_test)\n",
    "\n",
    "# Modelin doğruluğunu (R^2) hesapla\n",
    "score = model_reg.score(X_test, y_test)\n",
    "\n",
    "# Sonuçları yazdır\n",
    "print(\"Tahminler:\", y_pred)\n",
    "print(\"Modelin doğruluk skoru (R^2):\", score)\n"
   ]
  },
  {
   "cell_type": "markdown",
   "id": "b29977b5-d7aa-4cb7-8c2f-ca17c4d1be0a",
   "metadata": {},
   "source": [
    "Verilen veri setinde, çalışanların uzaktan çalışma durumunu tahmin etmek için bir KNN modeli oluşturun ve performansını cross-validation (çapraz doğrulama) yöntemiyle değerlendirin."
   ]
  },
  {
   "cell_type": "code",
   "execution_count": 475,
   "id": "46ad5ac4-dcdf-4b28-84de-7832b0262a55",
   "metadata": {},
   "outputs": [
    {
     "data": {
      "text/plain": [
       "0.53"
      ]
     },
     "execution_count": 475,
     "metadata": {},
     "output_type": "execute_result"
    }
   ],
   "source": [
    "from sklearn.model_selection import cross_val_score, KFold\n",
    "from sklearn.linear_model import LinearRegression\n",
    "X= df[['MonthlySalary', 'HoursWorked', 'SatisfactionScore']].values\n",
    "y = df['RemoteWork'].values\n",
    "kf = KFold(n_splits = 5, shuffle=True, random_state=42)\n",
    "model_reg=KNeighborsClassifier(n_neighbors=5)\n",
    "cv_results = cross_val_score(model_reg, X, y, cv = kf)\n",
    "cv_results.mean()"
   ]
  },
  {
   "cell_type": "code",
   "execution_count": 473,
   "id": "fd898fe2-c2d0-4594-be45-11b5d0639822",
   "metadata": {},
   "outputs": [
    {
     "name": "stdout",
     "output_type": "stream",
     "text": [
      "Fold doğruluk skorları: [0.45 0.6  0.45 0.45 0.45]\n",
      "Ortalama Doğruluk: 0.48\n"
     ]
    }
   ],
   "source": [
    "from sklearn.model_selection import cross_val_score\n",
    "from sklearn.neighbors import KNeighborsClassifier\n",
    "\n",
    "# Bağımsız ve bağımlı değişkenlerin seçimi\n",
    "X = df[['MonthlySalary', 'HoursWorked', 'SatisfactionScore']].values\n",
    "y = df['RemoteWork'].values\n",
    "\n",
    "# KNN Modeli\n",
    "model_knn = KNeighborsClassifier(n_neighbors=5)\n",
    "\n",
    "# Cross-validation\n",
    "cv_scores = cross_val_score(model_knn, X, y, cv=5)  # 5-fold cross-validation\n",
    "\n",
    "# Her bir fold için doğruluk skorlarını yazdır\n",
    "print(\"Fold doğruluk skorları:\", cv_scores)\n",
    "\n",
    "# Ortalama doğruluk\n",
    "mean_score = cv_scores.mean()\n",
    "print(f\"Ortalama Doğruluk: {mean_score:.2f}\")\n"
   ]
  },
  {
   "cell_type": "code",
   "execution_count": 417,
   "id": "1820a382-1f2a-450b-9edd-3342e5ff4ddc",
   "metadata": {},
   "outputs": [
    {
     "name": "stdout",
     "output_type": "stream",
     "text": [
      "t-istatistiği: 0.9007434376185062\n",
      "p-değeri: 0.37179962843943914\n",
      "Boş hipotezi reddetmiyoruz. Satış ve pazarlama departmanlarındaki çalışanların ortalama aylık maaşları arasında fark yoktur.\n"
     ]
    }
   ],
   "source": [
    "import pandas as pd\n",
    "from scipy.stats import ttest_ind\n",
    "\n",
    "# Verileri oku\n",
    "df = pd.read_csv(\"data/Generated_Employee_Data.csv\")\n",
    "\n",
    "# Satış ve pazarlama departmanları için maaşları al\n",
    "sales_salary = df[df[\"Department\"] == \"Sales\"][\"MonthlySalary\"]\n",
    "marketing_salary = df[df[\"Department\"] == \"Marketing\"][\"MonthlySalary\"]\n",
    "\n",
    "# Bağımsız t-testini gerçekleştir\n",
    "t_statistic, p_value = ttest_ind(sales_salary, marketing_salary)\n",
    "\n",
    "print(f\"t-istatistiği: {t_statistic}\")\n",
    "print(f\"p-değeri: {p_value}\")\n",
    "\n",
    "# Sonucu yorumla\n",
    "if p_value < 0.05:\n",
    "    print(\"Boş hipotezi reddediyoruz. Satış departmanındaki çalışanların ortalama aylık maaşı, pazarlama departmanındakilerden daha yüksektir.\")\n",
    "else:\n",
    "    print(\"Boş hipotezi reddetmiyoruz. Satış ve pazarlama departmanlarındaki çalışanların ortalama aylık maaşları arasında fark yoktur.\")"
   ]
  },
  {
   "cell_type": "code",
   "execution_count": 425,
   "id": "6c07371e-242a-45a4-b64e-7d7d05ecefd8",
   "metadata": {},
   "outputs": [
    {
     "name": "stdout",
     "output_type": "stream",
     "text": [
      "t-istatistiği: 0.9460688841130364\n",
      "p-değeri: 0.34840691868477114\n",
      "Boş hipotezi reddetmiyoruz. Satış ve pazarlama departmanlarındaki çalışanların ortalama aylık maaşları arasında fark yoktur.\n"
     ]
    }
   ],
   "source": [
    "import pandas as pd\n",
    "from scipy.stats import t\n",
    "\n",
    "# Verileri oku\n",
    "df = pd.read_csv(\"data/Generated_Employee_Data.csv\")\n",
    "\n",
    "# Satış ve pazarlama departmanları için maaşları al\n",
    "x1= (df[df[\"Department\"] == \"Sales\"][\"MonthlySalary\"]).mean()\n",
    "x2= (df[df[\"Department\"] == \"Marketing\"][\"MonthlySalary\"]).mean()\n",
    "s1 = (df[df[\"Department\"] == \"Sales\"][\"MonthlySalary\"]).std(ddof=1)\n",
    "s2 = (df[df[\"Department\"] == \"Marketing\"][\"MonthlySalary\"]).std(ddof=1)\n",
    "n1 = (df[df[\"Department\"] == \"Sales\"][\"MonthlySalary\"]).count()\n",
    "n2 = (df[df[\"Department\"] == \"Marketing\"][\"MonthlySalary\"]).count()\n",
    "dof = n1 + n2 - 2\n",
    "pay = x1 - x2\n",
    "payda = np.sqrt((s1**2/n1) + (s2**2/n2))\n",
    "t_statistic =  pay / payda\n",
    "\n",
    "p_value = 2 * ( 1- t.cdf(np.abs(t_statistic), df=dof))\n",
    "\n",
    "print(f\"t-istatistiği: {t_statistic}\")\n",
    "print(f\"p-değeri: {p_value}\")\n",
    "\n",
    "# Sonucu yorumla\n",
    "if p_value < 0.05:\n",
    "    print(\"Boş hipotezi reddediyoruz. Satış departmanındaki çalışanların ortalama aylık maaşı, pazarlama departmanındakilerden daha yüksektir.\")\n",
    "else:\n",
    "    print(\"Boş hipotezi reddetmiyoruz. Satış ve pazarlama departmanlarındaki çalışanların ortalama aylık maaşları arasında fark yoktur.\")"
   ]
  },
  {
   "cell_type": "markdown",
   "id": "e9a46681-fc50-4130-84c0-e8986a37f87d",
   "metadata": {},
   "source": [
    " Departmanlar arasında memnuniyet puanları açısından anlamlı bir fark var mıdır?"
   ]
  },
  {
   "cell_type": "code",
   "execution_count": 430,
   "id": "90a68cac-8947-484e-8abc-d888a44f7e94",
   "metadata": {},
   "outputs": [
    {
     "data": {
      "text/html": [
       "<div>\n",
       "<style scoped>\n",
       "    .dataframe tbody tr th:only-of-type {\n",
       "        vertical-align: middle;\n",
       "    }\n",
       "\n",
       "    .dataframe tbody tr th {\n",
       "        vertical-align: top;\n",
       "    }\n",
       "\n",
       "    .dataframe thead th {\n",
       "        text-align: right;\n",
       "    }\n",
       "</style>\n",
       "<table border=\"1\" class=\"dataframe\">\n",
       "  <thead>\n",
       "    <tr style=\"text-align: right;\">\n",
       "      <th></th>\n",
       "      <th>Source</th>\n",
       "      <th>ddof1</th>\n",
       "      <th>ddof2</th>\n",
       "      <th>F</th>\n",
       "      <th>p-unc</th>\n",
       "      <th>np2</th>\n",
       "    </tr>\n",
       "  </thead>\n",
       "  <tbody>\n",
       "    <tr>\n",
       "      <th>0</th>\n",
       "      <td>Department</td>\n",
       "      <td>3</td>\n",
       "      <td>96</td>\n",
       "      <td>0.353198</td>\n",
       "      <td>0.786919</td>\n",
       "      <td>0.010917</td>\n",
       "    </tr>\n",
       "  </tbody>\n",
       "</table>\n",
       "</div>"
      ],
      "text/plain": [
       "       Source  ddof1  ddof2         F     p-unc       np2\n",
       "0  Department      3     96  0.353198  0.786919  0.010917"
      ]
     },
     "execution_count": 430,
     "metadata": {},
     "output_type": "execute_result"
    }
   ],
   "source": [
    "pingouin.anova(data = df, dv='SatisfactionScore', between = 'Department')"
   ]
  },
  {
   "cell_type": "markdown",
   "id": "083d456a-0a0d-41de-9685-8b308e3ab910",
   "metadata": {},
   "source": [
    "Verilen veri setinde çalışanların uzaktan çalışma durumu (RemoteWork) yerine, çalışanların çalışma saatlerini (HoursWorked) tahmin etmek için bir Ridge regresyon modeli oluşturun ve model performansını değerlendirin."
   ]
  },
  {
   "cell_type": "code",
   "execution_count": 490,
   "id": "606dd8d7-3ade-43f3-8de0-32c74b26ea78",
   "metadata": {},
   "outputs": [
    {
     "data": {
      "text/plain": [
       "7.454046068152741"
      ]
     },
     "execution_count": 490,
     "metadata": {},
     "output_type": "execute_result"
    }
   ],
   "source": [
    "from sklearn.model_selection import train_test_split\n",
    "from sklearn.linear_model import Ridge\n",
    "from sklearn.metrics import root_mean_squared_error\n",
    "X = df[['MonthlySalary', 'RemoteWork', 'SatisfactionScore']].values\n",
    "y = df['HoursWorked'].values\n",
    "X_train, X_test, y_train, y_test = train_test_split(X,y,test_size = 0.2, random_state=42)\n",
    "ridge = Ridge(alpha=1.0)\n",
    "ridge.fit(X_train, y_train)\n",
    "y_pred = ridge.predict(X_test)\n",
    "r2 = ridge.score(X_test, y_test)\n",
    "mse = root_mean_squared_error(y_test,y_pred)\n",
    "mse"
   ]
  },
  {
   "cell_type": "code",
   "execution_count": 488,
   "id": "987c3d90-c44f-4c4f-bfaa-30665ceabe54",
   "metadata": {},
   "outputs": [
    {
     "name": "stdout",
     "output_type": "stream",
     "text": [
      "R² Skoru: -0.6101848964304173\n",
      "Ortalama Kare Hatası (MSE): 55.56280278614334\n",
      "Kök Ortalama Kare Hatası (RMSE): 7.454046068152741\n"
     ]
    }
   ],
   "source": [
    "from sklearn.model_selection import train_test_split\n",
    "from sklearn.linear_model import Ridge\n",
    "from sklearn.metrics import mean_squared_error\n",
    "import numpy as np\n",
    "\n",
    "# Bağımsız ve bağımlı değişkenler\n",
    "X = df[['MonthlySalary', 'RemoteWork', 'SatisfactionScore']].values\n",
    "y = df['HoursWorked'].values\n",
    "\n",
    "# Eğitim ve test veri setine ayırma\n",
    "X_train, X_test, y_train, y_test = train_test_split(X, y, test_size=0.2, random_state=42)\n",
    "\n",
    "# Ridge Regresyon Modeli\n",
    "ridge = Ridge(alpha=1.0)\n",
    "ridge.fit(X_train, y_train)\n",
    "\n",
    "# Tahmin\n",
    "y_pred = ridge.predict(X_test)\n",
    "\n",
    "# Performans Değerlendirme\n",
    "r2 = ridge.score(X_test, y_test)  # R² Skoru\n",
    "mse = mean_squared_error(y_test, y_pred)  # Ortalama Kare Hatası (MSE)\n",
    "rmse = np.sqrt(mse)  # Kök Ortalama Kare Hatası (RMSE)\n",
    "\n",
    "print(\"R² Skoru:\", r2)\n",
    "print(\"Ortalama Kare Hatası (MSE):\", mse)\n",
    "print(\"Kök Ortalama Kare Hatası (RMSE):\", rmse)\n"
   ]
  },
  {
   "cell_type": "markdown",
   "id": "67454c04-0423-474c-997e-aaf511453db5",
   "metadata": {},
   "source": [
    " Verilen veri setini kullanarak, çalışanların uzaktan çalışıp çalışmadığını (RemoteWork) tahmin etmek için bir sınıflandırma modeli oluşturun ve modelin performansını confusion matrix ile analiz edin."
   ]
  },
  {
   "cell_type": "code",
   "execution_count": 493,
   "id": "0c4e0e05-7ef1-4761-bc8e-573d18a1ca31",
   "metadata": {},
   "outputs": [
    {
     "data": {
      "text/plain": [
       "array([[ 7,  0],\n",
       "       [13,  0]])"
      ]
     },
     "execution_count": 493,
     "metadata": {},
     "output_type": "execute_result"
    }
   ],
   "source": [
    "from sklearn.metrics import classification_report, confusion_matrix\n",
    "X = df[['MonthlySalary', 'HoursWorked', 'SatisfactionScore']].values\n",
    "y = df['RemoteWork'].values\n",
    "X_train, X_test, y_train, y_test =train_test_split(X, y, test_size=0.2, random_state=42)\n",
    "knn=KNeighborsClassifier(n_neighbors=7)\n",
    "knn.fit(X_train, y_train)\n",
    "y_pred = knn.predict(X_test)\n",
    "confusion_matrix(y_test, y_pred)"
   ]
  },
  {
   "cell_type": "markdown",
   "id": "fd7f5e85-8453-4abe-9310-dfdc72169eaa",
   "metadata": {},
   "source": [
    "\n",
    "Logistic Regression Sorusu\n",
    "Bir sınıflandırma problemi için, çalışanların uzaktan çalışıp çalışmadığını (RemoteWork) tahmin etmek amacıyla bir Logistic Regression modeli oluşturun ve modelin performansını değerlendirin."
   ]
  },
  {
   "cell_type": "code",
   "execution_count": 498,
   "id": "4444e870-4bcc-4945-988d-5a84e4c645dc",
   "metadata": {},
   "outputs": [
    {
     "name": "stdout",
     "output_type": "stream",
     "text": [
      "Doğruluk (Accuracy): 0.35\n",
      "\n",
      "Confusion Matrix:\n",
      " [[ 7  0]\n",
      " [13  0]]\n",
      "\n",
      "Classification Report:\n",
      "               precision    recall  f1-score   support\n",
      "\n",
      "           0       0.35      1.00      0.52         7\n",
      "           1       0.00      0.00      0.00        13\n",
      "\n",
      "    accuracy                           0.35        20\n",
      "   macro avg       0.17      0.50      0.26        20\n",
      "weighted avg       0.12      0.35      0.18        20\n",
      "\n"
     ]
    },
    {
     "name": "stderr",
     "output_type": "stream",
     "text": [
      "/opt/anaconda3/lib/python3.12/site-packages/sklearn/metrics/_classification.py:1531: UndefinedMetricWarning: Precision is ill-defined and being set to 0.0 in labels with no predicted samples. Use `zero_division` parameter to control this behavior.\n",
      "  _warn_prf(average, modifier, f\"{metric.capitalize()} is\", len(result))\n",
      "/opt/anaconda3/lib/python3.12/site-packages/sklearn/metrics/_classification.py:1531: UndefinedMetricWarning: Precision is ill-defined and being set to 0.0 in labels with no predicted samples. Use `zero_division` parameter to control this behavior.\n",
      "  _warn_prf(average, modifier, f\"{metric.capitalize()} is\", len(result))\n",
      "/opt/anaconda3/lib/python3.12/site-packages/sklearn/metrics/_classification.py:1531: UndefinedMetricWarning: Precision is ill-defined and being set to 0.0 in labels with no predicted samples. Use `zero_division` parameter to control this behavior.\n",
      "  _warn_prf(average, modifier, f\"{metric.capitalize()} is\", len(result))\n"
     ]
    }
   ],
   "source": [
    "from sklearn.linear_model import LogisticRegression\n",
    "from sklearn.metrics import classification_report, confusion_matrix, accuracy_score\n",
    "\n",
    "# Bağımsız ve bağımlı değişkenler\n",
    "X = df[['MonthlySalary', 'HoursWorked', 'SatisfactionScore']].values\n",
    "y = df['RemoteWork'].values\n",
    "\n",
    "# Veri setini eğitim ve test olarak ayırma\n",
    "X_train, X_test, y_train, y_test = train_test_split(X, y, test_size=0.2, random_state=42)\n",
    "\n",
    "# Logistic Regression Modeli\n",
    "model_log = LogisticRegression()\n",
    "model_log.fit(X_train, y_train)\n",
    "\n",
    "# Tahminler\n",
    "y_pred = model_log.predict(X_test)\n",
    "\n",
    "# Performans Metrikleri\n",
    "accuracy = accuracy_score(y_test, y_pred)  # Doğruluk\n",
    "cm = confusion_matrix(y_test, y_pred)  # Confusion Matrix\n",
    "classification_rep = classification_report(y_test, y_pred)  # Precision, Recall, F1-Score\n",
    "\n",
    "# Sonuçları Yazdırma\n",
    "print(\"Doğruluk (Accuracy):\", accuracy)\n",
    "print(\"\\nConfusion Matrix:\\n\", cm)\n",
    "print(\"\\nClassification Report:\\n\", classification_rep)\n"
   ]
  },
  {
   "cell_type": "markdown",
   "id": "40bb06a5-7fe5-4d1f-855f-05052b78c7a8",
   "metadata": {},
   "source": [
    "Bir sınıflandırma problemi için, verilen veri setinde KNN (K-Nearest Neighbors) modelini optimize edin ve en iyi hiperparametreleri belirlemek için Grid Search Cross Validation (GS-CV) yöntemini kullanın.\n",
    "\n",
    "Soru:\n",
    "Hedef Model: KNN.\n",
    "Hedef:\n",
    "En iyi n_neighbors (komşu sayısı) ve weights (ağırlıklandırma metodu) parametrelerini bulmak.\n",
    "Hiperparametre Aralığı:\n",
    "n_neighbors: [3, 5, 7, 9, 11]\n",
    "weights: ['uniform', 'distance']\n",
    "Grid Search Cross Validation kullanarak en iyi kombinasyonu belirleyin.\n",
    "En iyi modelin doğruluğunu test edin.\n"
   ]
  },
  {
   "cell_type": "code",
   "execution_count": null,
   "id": "80b64c1a-a8b9-4d43-8be0-7334ff5b6e8e",
   "metadata": {},
   "outputs": [],
   "source": [
    "X = df[['MonthlySalary', 'HoursWorked', 'SatisfactionScore']].values\n",
    "y = df['RemoteWork'].values\n",
    "\n",
    "X_train, X_test, y_train, y_test = train_test_split(X, y, test_size=0.2, random_state=42)\n",
    "param_grid = {\n",
    "    'n_neighbors': [3,5,7,9,11],  # alpha parametresinin farklı değerlerini deniyoruz\n",
    "    'weights': ['uniform', 'distance']  # Ridge regresyonu için farklı çözüm yöntemleri\n",
    "}\n",
    "\n",
    "model_knn = KNeighborsClassifier()\n",
    "grid = GridSearchCV(model_knn, param_grid, cv=5)"
   ]
  },
  {
   "cell_type": "code",
   "execution_count": 503,
   "id": "cc22ef1b-44ac-4f11-8ff3-fa8c979c5c4a",
   "metadata": {},
   "outputs": [
    {
     "name": "stdout",
     "output_type": "stream",
     "text": [
      "En İyi Parametreler: {'n_neighbors': 9, 'weights': 'uniform'}\n",
      "CV Üzerindeki En İyi Doğruluk: 0.575\n",
      "Test Seti Doğruluğu: 0.55\n",
      "Classification Report:\n",
      "               precision    recall  f1-score   support\n",
      "\n",
      "           0       0.58      0.92      0.71        12\n",
      "           1       0.00      0.00      0.00         8\n",
      "\n",
      "    accuracy                           0.55        20\n",
      "   macro avg       0.29      0.46      0.35        20\n",
      "weighted avg       0.35      0.55      0.43        20\n",
      "\n"
     ]
    }
   ],
   "source": [
    "from sklearn.model_selection import GridSearchCV, train_test_split\n",
    "from sklearn.neighbors import KNeighborsClassifier\n",
    "from sklearn.metrics import accuracy_score, classification_report\n",
    "import numpy as np\n",
    "\n",
    "# Bağımsız ve bağımlı değişkenleri seçme\n",
    "X = df[['MonthlySalary', 'HoursWorked', 'SatisfactionScore']].values\n",
    "y = df['RemoteWork'].values\n",
    "\n",
    "# Eğitim ve test setine ayırma\n",
    "X_train, X_test, y_train, y_test = train_test_split(X, y, test_size=0.2, random_state=42, stratify=y)\n",
    "\n",
    "# Hiperparametre aralığı belirleme\n",
    "param_grid = {\n",
    "    'n_neighbors': [3, 5, 7, 9, 11],\n",
    "    'weights': ['uniform', 'distance']\n",
    "}\n",
    "\n",
    "# KNN Modeli\n",
    "knn = KNeighborsClassifier()\n",
    "\n",
    "# Grid Search Cross Validation\n",
    "grid_search = GridSearchCV(estimator=knn, param_grid=param_grid, cv=5, scoring='accuracy')\n",
    "grid_search.fit(X_train, y_train)\n",
    "\n",
    "# En iyi parametreler ve doğruluk\n",
    "best_params = grid_search.best_params_\n",
    "best_score = grid_search.best_score_\n",
    "\n",
    "# Test seti üzerinde performans değerlendirme\n",
    "y_pred = grid_search.best_estimator_.predict(X_test)\n",
    "test_accuracy = accuracy_score(y_test, y_pred)\n",
    "\n",
    "# Sonuçları yazdırma\n",
    "print(\"En İyi Parametreler:\", best_params)\n",
    "print(\"CV Üzerindeki En İyi Doğruluk:\", best_score)\n",
    "print(\"Test Seti Doğruluğu:\", test_accuracy)\n",
    "print(\"Classification Report:\\n\", classification_report(y_test, y_pred))\n"
   ]
  },
  {
   "cell_type": "markdown",
   "id": "b22ed8c3-ffa7-480d-99e0-fcc0a63c6398",
   "metadata": {},
   "source": [
    "Veri setinizde eksik değerleri doldurmak için Simple Imputer'ı kullanın.\n",
    "Aşağıdaki stratejilere göre eksik verileri doldurun:\n",
    "Sayısal sütunlar için ortalama (mean).\n",
    "Kategorik sütunlar için en sık kullanılan değer (most_frequent).\n",
    "Eksik veriler tamamlandıktan sonra bağımlı değişkeni tahmin etmek için bir Linear Regression modeli eğitin.\n",
    "Modelin R² ve MSE değerlerini hesaplayın."
   ]
  },
  {
   "cell_type": "code",
   "execution_count": 1,
   "id": "5848240f-b7d2-4606-9e5e-cb880f744b23",
   "metadata": {},
   "outputs": [
    {
     "ename": "NameError",
     "evalue": "name 'df' is not defined",
     "output_type": "error",
     "traceback": [
      "\u001b[0;31m---------------------------------------------------------------------------\u001b[0m",
      "\u001b[0;31mNameError\u001b[0m                                 Traceback (most recent call last)",
      "Cell \u001b[0;32mIn[1], line 9\u001b[0m\n\u001b[1;32m      6\u001b[0m \u001b[38;5;28;01mimport\u001b[39;00m \u001b[38;5;21;01mnumpy\u001b[39;00m \u001b[38;5;28;01mas\u001b[39;00m \u001b[38;5;21;01mnp\u001b[39;00m\n\u001b[1;32m      8\u001b[0m \u001b[38;5;66;03m# Kategorik ve sayısal sütunları ayırma\u001b[39;00m\n\u001b[0;32m----> 9\u001b[0m object_cols \u001b[38;5;241m=\u001b[39m \u001b[38;5;28mlist\u001b[39m(df\u001b[38;5;241m.\u001b[39mselect_dtypes(include\u001b[38;5;241m=\u001b[39m\u001b[38;5;124m'\u001b[39m\u001b[38;5;124mobject\u001b[39m\u001b[38;5;124m'\u001b[39m)\u001b[38;5;241m.\u001b[39mcolumns)  \u001b[38;5;66;03m# Kategorik sütunlar\u001b[39;00m\n\u001b[1;32m     10\u001b[0m X_cat \u001b[38;5;241m=\u001b[39m df[object_cols]\n\u001b[1;32m     11\u001b[0m X_nums \u001b[38;5;241m=\u001b[39m df\u001b[38;5;241m.\u001b[39mdrop(object_cols, axis\u001b[38;5;241m=\u001b[39m\u001b[38;5;241m1\u001b[39m)  \u001b[38;5;66;03m# Sayısal sütunlar\u001b[39;00m\n",
      "\u001b[0;31mNameError\u001b[0m: name 'df' is not defined"
     ]
    }
   ],
   "source": [
    "from sklearn.impute import SimpleImputer\n",
    "from sklearn.linear_model import LinearRegression\n",
    "from sklearn.model_selection import train_test_split\n",
    "from sklearn.metrics import mean_squared_error, r2_score\n",
    "import pandas as pd\n",
    "import numpy as np\n",
    "\n",
    "# Kategorik ve sayısal sütunları ayırma\n",
    "object_cols = list(df.select_dtypes(include='object').columns)  # Kategorik sütunlar\n",
    "X_cat = df[object_cols]\n",
    "X_nums = df.drop(object_cols, axis=1)  # Sayısal sütunlar\n",
    "\n",
    "# Kategorik sütunlardaki eksik değerleri doldurma\n",
    "cat_imputer = SimpleImputer(strategy='most_frequent')\n",
    "X_cat_imputed = pd.DataFrame(cat_imputer.fit_transform(X_cat), columns=X_cat.columns)\n",
    "\n",
    "# Sayısal sütunlardaki eksik değerleri doldurma\n",
    "num_imputer = SimpleImputer(strategy='mean')\n",
    "X_nums_imputed = pd.DataFrame(num_imputer.fit_transform(X_nums), columns=X_nums.columns)\n",
    "\n",
    "# Sayısal ve kategorik sütunları birleştirme\n",
    "X_cleaned = pd.concat([X_nums_imputed, X_cat_imputed], axis=1)\n",
    "\n",
    "# Bağımsız ve bağımlı değişkenleri ayırma\n",
    "y = X_cleaned['target_column']  # Buraya bağımlı değişken sütununuzu yazın\n",
    "X = X_cleaned.drop('target_column', axis=1)\n",
    "\n",
    "# Veri setini eğitim ve test olarak ayırma\n",
    "X_train, X_test, y_train, y_test = train_test_split(X, y, test_size=0.2, random_state=42)\n",
    "\n",
    "# Linear Regression Modeli\n",
    "model = LinearRegression()\n",
    "model.fit(X_train, y_train)\n",
    "\n",
    "# Tahminler\n",
    "y_pred = model.predict(X_test)\n",
    "\n",
    "# Performans Metrikleri\n",
    "r2 = r2_score(y_test, y_pred)\n",
    "mse = mean_squared_error(y_test, y_pred)\n",
    "\n",
    "# Sonuçları yazdırma\n",
    "print(\"R² Skoru:\", r2)\n",
    "print(\"Ortalama Kare Hatası (MSE):\", mse)\n"
   ]
  },
  {
   "cell_type": "code",
   "execution_count": 13,
   "id": "8d739ebd-3180-4f34-97e5-21e44cec83c0",
   "metadata": {},
   "outputs": [
    {
     "name": "stdout",
     "output_type": "stream",
     "text": [
      "H0 kabul edilemez: Çalışma saatleri ortalaması 40'tan büyük değildir.\n",
      "Test İstatistiği (t): 0.336270654554279\n",
      "P-Değeri: 0.3686892398897077\n"
     ]
    }
   ],
   "source": [
    "import pandas as pd\n",
    "import numpy as np\n",
    "from scipy.stats import t\n",
    "\n",
    "# Veri yükleme\n",
    "df = pd.read_csv(\"data/Generated_Employee_Data.csv\")\n",
    "\n",
    "# Parametreler\n",
    "alpha = 0.05\n",
    "x = df['HoursWorked'].mean()  # Örneklem ortalaması\n",
    "m = 40  # Hipotez edilen ortalama\n",
    "s = np.std(df['HoursWorked'], ddof=1)  # Standart sapma\n",
    "n = len(df)  # Örneklem büyüklüğü\n",
    "\n",
    "# Test istatistiği hesaplama\n",
    "payda = s / np.sqrt(n)\n",
    "t_stat = (x - m) / payda\n",
    "dof = n - 1\n",
    "\n",
    "# Sağ kuyruk testi için p-değeri\n",
    "p = 1 - t.cdf(t_stat, df=dof)\n",
    "\n",
    "# Sonuçları yorumlama\n",
    "if p < alpha:\n",
    "    print(\"H0 reddedildi: Çalışma saatleri ortalaması 40'tan büyüktür.\")\n",
    "else:\n",
    "    print(\"H0 kabul edilemez: Çalışma saatleri ortalaması 40'tan büyük değildir.\")\n",
    "\n",
    "print(\"Test İstatistiği (t):\", t_stat)\n",
    "print(\"P-Değeri:\", p)\n"
   ]
  },
  {
   "cell_type": "code",
   "execution_count": 25,
   "id": "971b7a66-05e8-47fd-8a62-cbcf4cce452b",
   "metadata": {},
   "outputs": [
    {
     "data": {
      "text/html": [
       "<div>\n",
       "<style scoped>\n",
       "    .dataframe tbody tr th:only-of-type {\n",
       "        vertical-align: middle;\n",
       "    }\n",
       "\n",
       "    .dataframe tbody tr th {\n",
       "        vertical-align: top;\n",
       "    }\n",
       "\n",
       "    .dataframe thead th {\n",
       "        text-align: right;\n",
       "    }\n",
       "</style>\n",
       "<table border=\"1\" class=\"dataframe\">\n",
       "  <thead>\n",
       "    <tr style=\"text-align: right;\">\n",
       "      <th></th>\n",
       "      <th>U-val</th>\n",
       "      <th>alternative</th>\n",
       "      <th>p-val</th>\n",
       "      <th>RBC</th>\n",
       "      <th>CLES</th>\n",
       "    </tr>\n",
       "  </thead>\n",
       "  <tbody>\n",
       "    <tr>\n",
       "      <th>MWU</th>\n",
       "      <td>124.5</td>\n",
       "      <td>two-sided</td>\n",
       "      <td>0.506977</td>\n",
       "      <td>0.152778</td>\n",
       "      <td>0.576389</td>\n",
       "    </tr>\n",
       "  </tbody>\n",
       "</table>\n",
       "</div>"
      ],
      "text/plain": [
       "     U-val alternative     p-val       RBC      CLES\n",
       "MWU  124.5   two-sided  0.506977  0.152778  0.576389"
      ]
     },
     "execution_count": 25,
     "metadata": {},
     "output_type": "execute_result"
    }
   ],
   "source": [
    "#Marketing ve IT departmanlarının memnuniyet puanlarının medyanları arasında fark olup olmadığını test edin.\n",
    "import pingouin\n",
    "df = pd.read_csv(\"data/Generated_Employee_Data.csv\")\n",
    "x1 = df[df['Department']== 'Marketing']['SatisfactionScore']\n",
    "x2 = df[df['Department']== 'IT']['SatisfactionScore']\n",
    "pingouin.mwu(x=x1, y=x2, alternative='two-sided')"
   ]
  },
  {
   "cell_type": "code",
   "execution_count": 27,
   "id": "3408f24a-3fe5-488a-80c4-e9d053c1b369",
   "metadata": {},
   "outputs": [
    {
     "data": {
      "text/html": [
       "<div>\n",
       "<style scoped>\n",
       "    .dataframe tbody tr th:only-of-type {\n",
       "        vertical-align: middle;\n",
       "    }\n",
       "\n",
       "    .dataframe tbody tr th {\n",
       "        vertical-align: top;\n",
       "    }\n",
       "\n",
       "    .dataframe thead th {\n",
       "        text-align: right;\n",
       "    }\n",
       "</style>\n",
       "<table border=\"1\" class=\"dataframe\">\n",
       "  <thead>\n",
       "    <tr style=\"text-align: right;\">\n",
       "      <th></th>\n",
       "      <th>EmployeeID</th>\n",
       "      <th>Department</th>\n",
       "      <th>MonthlySalary</th>\n",
       "      <th>HoursWorked</th>\n",
       "      <th>RemoteWork</th>\n",
       "      <th>SatisfactionScore</th>\n",
       "    </tr>\n",
       "  </thead>\n",
       "  <tbody>\n",
       "    <tr>\n",
       "      <th>0</th>\n",
       "      <td>1</td>\n",
       "      <td>Sales</td>\n",
       "      <td>5087.05</td>\n",
       "      <td>40.07</td>\n",
       "      <td>0</td>\n",
       "      <td>3</td>\n",
       "    </tr>\n",
       "    <tr>\n",
       "      <th>1</th>\n",
       "      <td>2</td>\n",
       "      <td>Marketing</td>\n",
       "      <td>4700.99</td>\n",
       "      <td>47.27</td>\n",
       "      <td>0</td>\n",
       "      <td>5</td>\n",
       "    </tr>\n",
       "    <tr>\n",
       "      <th>2</th>\n",
       "      <td>3</td>\n",
       "      <td>HR</td>\n",
       "      <td>5091.76</td>\n",
       "      <td>38.68</td>\n",
       "      <td>0</td>\n",
       "      <td>5</td>\n",
       "    </tr>\n",
       "    <tr>\n",
       "      <th>3</th>\n",
       "      <td>4</td>\n",
       "      <td>IT</td>\n",
       "      <td>3012.43</td>\n",
       "      <td>53.60</td>\n",
       "      <td>0</td>\n",
       "      <td>2</td>\n",
       "    </tr>\n",
       "    <tr>\n",
       "      <th>4</th>\n",
       "      <td>5</td>\n",
       "      <td>Sales</td>\n",
       "      <td>4780.33</td>\n",
       "      <td>43.13</td>\n",
       "      <td>1</td>\n",
       "      <td>4</td>\n",
       "    </tr>\n",
       "    <tr>\n",
       "      <th>...</th>\n",
       "      <td>...</td>\n",
       "      <td>...</td>\n",
       "      <td>...</td>\n",
       "      <td>...</td>\n",
       "      <td>...</td>\n",
       "      <td>...</td>\n",
       "    </tr>\n",
       "    <tr>\n",
       "      <th>95</th>\n",
       "      <td>96</td>\n",
       "      <td>IT</td>\n",
       "      <td>4184.19</td>\n",
       "      <td>32.82</td>\n",
       "      <td>0</td>\n",
       "      <td>2</td>\n",
       "    </tr>\n",
       "    <tr>\n",
       "      <th>96</th>\n",
       "      <td>97</td>\n",
       "      <td>IT</td>\n",
       "      <td>4922.90</td>\n",
       "      <td>45.82</td>\n",
       "      <td>1</td>\n",
       "      <td>1</td>\n",
       "    </tr>\n",
       "    <tr>\n",
       "      <th>97</th>\n",
       "      <td>98</td>\n",
       "      <td>IT</td>\n",
       "      <td>5341.15</td>\n",
       "      <td>40.05</td>\n",
       "      <td>0</td>\n",
       "      <td>3</td>\n",
       "    </tr>\n",
       "    <tr>\n",
       "      <th>98</th>\n",
       "      <td>99</td>\n",
       "      <td>Sales</td>\n",
       "      <td>5276.69</td>\n",
       "      <td>35.09</td>\n",
       "      <td>0</td>\n",
       "      <td>1</td>\n",
       "    </tr>\n",
       "    <tr>\n",
       "      <th>99</th>\n",
       "      <td>100</td>\n",
       "      <td>Sales</td>\n",
       "      <td>5827.18</td>\n",
       "      <td>42.31</td>\n",
       "      <td>1</td>\n",
       "      <td>5</td>\n",
       "    </tr>\n",
       "  </tbody>\n",
       "</table>\n",
       "<p>100 rows × 6 columns</p>\n",
       "</div>"
      ],
      "text/plain": [
       "    EmployeeID Department  MonthlySalary  HoursWorked  RemoteWork  \\\n",
       "0            1      Sales        5087.05        40.07           0   \n",
       "1            2  Marketing        4700.99        47.27           0   \n",
       "2            3         HR        5091.76        38.68           0   \n",
       "3            4         IT        3012.43        53.60           0   \n",
       "4            5      Sales        4780.33        43.13           1   \n",
       "..         ...        ...            ...          ...         ...   \n",
       "95          96         IT        4184.19        32.82           0   \n",
       "96          97         IT        4922.90        45.82           1   \n",
       "97          98         IT        5341.15        40.05           0   \n",
       "98          99      Sales        5276.69        35.09           0   \n",
       "99         100      Sales        5827.18        42.31           1   \n",
       "\n",
       "    SatisfactionScore  \n",
       "0                   3  \n",
       "1                   5  \n",
       "2                   5  \n",
       "3                   2  \n",
       "4                   4  \n",
       "..                ...  \n",
       "95                  2  \n",
       "96                  1  \n",
       "97                  3  \n",
       "98                  1  \n",
       "99                  5  \n",
       "\n",
       "[100 rows x 6 columns]"
      ]
     },
     "execution_count": 27,
     "metadata": {},
     "output_type": "execute_result"
    }
   ],
   "source": [
    "df"
   ]
  },
  {
   "cell_type": "markdown",
   "id": "d4c9f5a5-1e38-4662-baef-b5117c851abd",
   "metadata": {},
   "source": [
    "Çalışanların %30’unun uzaktan çalıştığını iddia eden hipotezi test edin."
   ]
  },
  {
   "cell_type": "code",
   "execution_count": 33,
   "id": "c6fbf39f-6486-460b-b5f7-70746c48608f",
   "metadata": {},
   "outputs": [
    {
     "name": "stdout",
     "output_type": "stream",
     "text": [
      "H0 kabul edildi: Uzaktan çalışanların oranı %30'dur.\n",
      "Z-Skoru: 1.7457431218879393\n",
      "P-Değeri: 0.0808555983700523\n"
     ]
    }
   ],
   "source": [
    "import numpy as np\n",
    "from scipy.stats import norm\n",
    "\n",
    "# Parametreler\n",
    "alpha = 0.05\n",
    "p_observed = df['RemoteWork'].mean()  # Uzaktan çalışma oranı\n",
    "p0 = 0.3  # Hipotez edilen oran\n",
    "n = len(df)  # Örneklem büyüklüğü\n",
    "\n",
    "# Standard error (SE) hesaplama\n",
    "se = np.sqrt(p0 * (1 - p0) / n)\n",
    "\n",
    "# Z-Skoru hesaplama\n",
    "z = (p_observed - p0) / se\n",
    "\n",
    "# Çift kuyruk testi için p-değeri\n",
    "p_value = 2 * (1 - norm.cdf(abs(z)))\n",
    "\n",
    "# Sonuçları değerlendirme\n",
    "if p_value < alpha:\n",
    "    print(\"H0 reddedildi: Uzaktan çalışanların oranı %30 değildir.\")\n",
    "else:\n",
    "    print(\"H0 kabul edildi: Uzaktan çalışanların oranı %30'dur.\")\n",
    "\n",
    "# Sonuçları yazdırma\n",
    "print(\"Z-Skoru:\", z)\n",
    "print(\"P-Değeri:\", p_value)\n"
   ]
  },
  {
   "cell_type": "markdown",
   "id": "79fcbc70-2a2d-447c-94d4-0e1e8459ed96",
   "metadata": {},
   "source": [
    "T departmanındaki çalışanların maaşlarının HR departmanındaki çalışanların maaşlarından farklı olup olmadığını test edin."
   ]
  },
  {
   "cell_type": "code",
   "execution_count": 41,
   "id": "45d17c02-d7b5-4300-a474-a87077973fbc",
   "metadata": {},
   "outputs": [
    {
     "name": "stdout",
     "output_type": "stream",
     "text": [
      "H0 kabul edildi: IT ve HR departmanlarının maaş ortalamaları arasında fark yoktur.\n",
      "T-İstatistiği: -1.567215009226417\n",
      "P-Değeri: 0.12439490193551639\n"
     ]
    }
   ],
   "source": [
    "import numpy as np\n",
    "from scipy.stats import t\n",
    "\n",
    "# Parametreler\n",
    "alpha = 0.05\n",
    "it_salaries = df[df['Department'] == 'IT']['MonthlySalary']\n",
    "hr_salaries = df[df['Department'] == 'HR']['MonthlySalary']\n",
    "\n",
    "# Ortalamalar, standart sapmalar ve örnek büyüklükleri\n",
    "x1 = it_salaries.mean()\n",
    "x2 = hr_salaries.mean()\n",
    "s1 = it_salaries.std()\n",
    "s2 = hr_salaries.std()\n",
    "n1 = it_salaries.count()\n",
    "n2 = hr_salaries.count()\n",
    "\n",
    "# Test istatistiği hesaplama\n",
    "pay = x1 - x2\n",
    "payda = np.sqrt((s1**2 / n1) + (s2**2 / n2))\n",
    "t_stat = pay / payda\n",
    "dof = n1 + n2 - 2\n",
    "\n",
    "# Çift kuyruklu test için p-değeri hesaplama\n",
    "p_value = 2 * (1 - t.cdf(abs(t_stat), df=dof))\n",
    "\n",
    "# Sonuçları değerlendirme\n",
    "if p_value < alpha:\n",
    "    print(\"H0 reddedildi: IT ve HR departmanlarının maaş ortalamaları arasında fark vardır.\")\n",
    "else:\n",
    "    print(\"H0 kabul edildi: IT ve HR departmanlarının maaş ortalamaları arasında fark yoktur.\")\n",
    "\n",
    "# Test istatistiği ve p-değeri yazdırma\n",
    "print(\"T-İstatistiği:\", t_stat)\n",
    "print(\"P-Değeri:\", p_value)\n"
   ]
  },
  {
   "cell_type": "markdown",
   "id": "92a38f00-505c-4304-8fb4-db7ed1d3a963",
   "metadata": {},
   "source": [
    "Çalışanların memnuniyet puanına göre uzaktan çalışıp çalışmadığını tahmin eden bir KNN modeli oluşturun."
   ]
  },
  {
   "cell_type": "code",
   "execution_count": 56,
   "id": "625fd4d4-afd7-49c9-b794-448ccb38b8f3",
   "metadata": {},
   "outputs": [
    {
     "name": "stderr",
     "output_type": "stream",
     "text": [
      "/opt/anaconda3/lib/python3.12/site-packages/sklearn/metrics/_classification.py:1531: UndefinedMetricWarning: Precision is ill-defined and being set to 0.0 in labels with no predicted samples. Use `zero_division` parameter to control this behavior.\n",
      "  _warn_prf(average, modifier, f\"{metric.capitalize()} is\", len(result))\n",
      "/opt/anaconda3/lib/python3.12/site-packages/sklearn/metrics/_classification.py:1531: UndefinedMetricWarning: Precision is ill-defined and being set to 0.0 in labels with no predicted samples. Use `zero_division` parameter to control this behavior.\n",
      "  _warn_prf(average, modifier, f\"{metric.capitalize()} is\", len(result))\n",
      "/opt/anaconda3/lib/python3.12/site-packages/sklearn/metrics/_classification.py:1531: UndefinedMetricWarning: Precision is ill-defined and being set to 0.0 in labels with no predicted samples. Use `zero_division` parameter to control this behavior.\n",
      "  _warn_prf(average, modifier, f\"{metric.capitalize()} is\", len(result))\n"
     ]
    },
    {
     "data": {
      "text/plain": [
       "'              precision    recall  f1-score   support\\n\\n           0       0.60      1.00      0.75        12\\n           1       0.00      0.00      0.00         8\\n\\n    accuracy                           0.60        20\\n   macro avg       0.30      0.50      0.38        20\\nweighted avg       0.36      0.60      0.45        20\\n'"
      ]
     },
     "execution_count": 56,
     "metadata": {},
     "output_type": "execute_result"
    }
   ],
   "source": [
    "import pandas as pd\n",
    "from sklearn.neighbors import KNeighborsClassifier\n",
    "from sklearn.model_selection import train_test_split\n",
    "from sklearn.metrics import accuracy_score, classification_report\n",
    "X = df['SatisfactionScore'].values.reshape(-1,1)\n",
    "y = df['RemoteWork'].values\n",
    "X_train , X_test, y_train, y_test = train_test_split(X, y, test_size=0.2, random_state=42, stratify=y)\n",
    "model_knn = KNeighborsClassifier(n_neighbors = 5)\n",
    "model_knn.fit(X_train, y_train)\n",
    "y_pred = model_knn.predict(X_test)\n",
    "accuracy = accuracy_score(y_test,y_pred)\n",
    "report = classification_report(y_test, y_pred)\n",
    "report"
   ]
  },
  {
   "cell_type": "code",
   "execution_count": 68,
   "id": "f3fbde03-0b69-46e2-a459-fc54d4cd52cc",
   "metadata": {},
   "outputs": [
    {
     "name": "stderr",
     "output_type": "stream",
     "text": [
      "/opt/anaconda3/lib/python3.12/site-packages/sklearn/linear_model/_logistic.py:469: ConvergenceWarning: lbfgs failed to converge (status=1):\n",
      "STOP: TOTAL NO. of ITERATIONS REACHED LIMIT.\n",
      "\n",
      "Increase the number of iterations (max_iter) or scale the data as shown in:\n",
      "    https://scikit-learn.org/stable/modules/preprocessing.html\n",
      "Please also refer to the documentation for alternative solver options:\n",
      "    https://scikit-learn.org/stable/modules/linear_model.html#logistic-regression\n",
      "  n_iter_i = _check_optimize_result(\n"
     ]
    },
    {
     "data": {
      "text/plain": [
       "array([3, 3, 3, 3, 3, 3, 3, 3, 3, 3, 3, 3, 3, 3, 3, 3, 3, 3, 3, 3],\n",
       "      dtype=int8)"
      ]
     },
     "execution_count": 68,
     "metadata": {},
     "output_type": "execute_result"
    }
   ],
   "source": [
    "import pandas as pd\n",
    "from sklearn.linear_model import LogisticRegression\n",
    "from sklearn.metrics import classification_report,confusion_matrix\n",
    "from sklearn.model_selection import train_test_split\n",
    "X = df[['MonthlySalary', 'HoursWorked']].values\n",
    "y = df['Department'].astype('category').cat.codes.values\n",
    "X_train, X_test, y_train, y_test = train_test_split(X, y, test_size=0.2, random_state=42)\n",
    "model_log=LogisticRegression()\n",
    "model_log.fit(X_train, y_train)\n",
    "y_pred = model_log.predict(X_test)\n",
    "y_pred"
   ]
  },
  {
   "cell_type": "markdown",
   "id": "f280f27c-1cac-4819-a5b8-bb86102f2df3",
   "metadata": {},
   "source": [
    "Çalışanların maaşına göre memnuniyet puanını tahmin etmek için bir Ridge Regresyon modeli oluşturun."
   ]
  },
  {
   "cell_type": "code",
   "execution_count": 75,
   "id": "5c2a4623-5d33-4b10-991e-260079a24035",
   "metadata": {},
   "outputs": [
    {
     "data": {
      "text/plain": [
       "array([3.08099233, 2.9884023 , 2.92985899, 2.95600382, 3.09172611,\n",
       "       3.05265732, 3.02899639, 3.17750855, 3.10165294, 3.03553659,\n",
       "       2.99729152, 3.17913841, 3.05229256, 3.02264616, 3.09420283,\n",
       "       3.01105515, 2.97431143, 3.04712601, 2.98630472, 3.04252297])"
      ]
     },
     "execution_count": 75,
     "metadata": {},
     "output_type": "execute_result"
    }
   ],
   "source": [
    "from sklearn.linear_model import Ridge\n",
    "from sklearn.model_selection import train_test_split\n",
    "X = df['MonthlySalary'].values.reshape(-1,1)\n",
    "y = df['SatisfactionScore'].values\n",
    "\n",
    "X_train, X_test, y_train, y_test = train_test_split(X, y, test_size=0.2, random_state=42)\n",
    "\n",
    "ridge = Ridge(alpha=1.0)\n",
    "ridge.fit(X_train, y_train)\n",
    "y_pred = ridge.predict(X_test)\n",
    "y_pred"
   ]
  },
  {
   "cell_type": "markdown",
   "id": "c63d2296-e1ec-4b7e-8caa-ac2255aa04e9",
   "metadata": {},
   "source": [
    "Çalışma saatine ve maaşa göre uzaktan çalışma durumunu (evet/hayır) tahmin eden bir KNN modeli oluşturun."
   ]
  },
  {
   "cell_type": "code",
   "execution_count": 79,
   "id": "ec238917-a421-44dd-8a98-042870d49bba",
   "metadata": {},
   "outputs": [
    {
     "name": "stdout",
     "output_type": "stream",
     "text": [
      "Doğruluk Skoru: 0.7\n",
      "Classification Report:\n",
      "               precision    recall  f1-score   support\n",
      "\n",
      "           0       0.67      1.00      0.80        12\n",
      "           1       1.00      0.25      0.40         8\n",
      "\n",
      "    accuracy                           0.70        20\n",
      "   macro avg       0.83      0.62      0.60        20\n",
      "weighted avg       0.80      0.70      0.64        20\n",
      "\n"
     ]
    }
   ],
   "source": [
    "from sklearn.model_selection import train_test_split\n",
    "from sklearn.neighbors import KNeighborsClassifier\n",
    "from sklearn.metrics import accuracy_score, classification_report\n",
    "\n",
    "# Bağımsız ve bağımlı değişkenler\n",
    "X = df[['HoursWorked', 'MonthlySalary']].values  # Çalışma saatleri ve maaş\n",
    "y = df['RemoteWork'].values  # Uzaktan çalışma durumu\n",
    "\n",
    "# Veri setini eğitim ve test olarak ayırma\n",
    "X_train, X_test, y_train, y_test = train_test_split(X, y, test_size=0.2, random_state=42, stratify=y)\n",
    "\n",
    "# KNN Modeli\n",
    "model_knn = KNeighborsClassifier(n_neighbors=5)\n",
    "model_knn.fit(X_train, y_train)\n",
    "\n",
    "# Tahminler\n",
    "y_pred = model_knn.predict(X_test)\n",
    "\n",
    "# Performans Metrikleri\n",
    "accuracy = accuracy_score(y_test, y_pred)\n",
    "report = classification_report(y_test, y_pred)\n",
    "\n",
    "# Sonuçları Yazdırma\n",
    "print(\"Doğruluk Skoru:\", accuracy)\n",
    "print(\"Classification Report:\\n\", report)\n"
   ]
  },
  {
   "cell_type": "markdown",
   "id": "3aa720d7-67de-4c42-bc70-e17836077f42",
   "metadata": {},
   "source": [
    "Çalışanların çalışma saatine göre memnuniyet puanını tahmin eden bir doğrusal regresyon modeli oluşturun"
   ]
  },
  {
   "cell_type": "code",
   "execution_count": 81,
   "id": "3f7731a3-d155-4443-935e-5e112ca02aa9",
   "metadata": {},
   "outputs": [
    {
     "data": {
      "text/plain": [
       "array([2.97053787, 3.09784881, 3.21300859, 2.92276175, 2.9865553 ,\n",
       "       2.91558153, 2.99401169, 3.13043599, 2.96059602, 2.94761638,\n",
       "       3.25553762, 3.23758705, 3.18207838, 2.97136636, 3.11138077,\n",
       "       3.13071215, 3.10171508, 2.93353209, 2.8214101 , 3.13236912])"
      ]
     },
     "execution_count": 81,
     "metadata": {},
     "output_type": "execute_result"
    }
   ],
   "source": [
    "from sklearn.linear_model import LinearRegression\n",
    "X = df['HoursWorked'].values.reshape(-1,1)\n",
    "y = df['SatisfactionScore'].values\n",
    "X_train, X_test, y_train, y_test = train_test_split(X, y, test_size=0.2, random_state=42, stratify=y)\n",
    "model_reg = LinearRegression()\n",
    "model_reg.fit(X_train, y_train)\n",
    "y_pred = model_reg.predict(X_test)\n",
    "y_pred"
   ]
  },
  {
   "cell_type": "markdown",
   "id": "a3af475c-9024-4643-a39f-457ced874a95",
   "metadata": {},
   "source": [
    "Soru: Şirketin günlük işe giriş saatlerinin ortalamasının 9:00 olduğunu varsayalım. Çalışanların giriş saatlerinin normal dağılım gösterdiğini ve standart sapmasının 15 dakika olduğunu düşünün. Giriş saatinin 8:45’ten erken olma olasılığını bulun."
   ]
  },
  {
   "cell_type": "code",
   "execution_count": 85,
   "id": "562f536e-a2ce-4b2e-ab2a-3b32968723e7",
   "metadata": {},
   "outputs": [
    {
     "data": {
      "text/plain": [
       "0.48537539345385444"
      ]
     },
     "execution_count": 85,
     "metadata": {},
     "output_type": "execute_result"
    }
   ],
   "source": [
    "norm.cdf(8.45, 9.0, 15)\n"
   ]
  },
  {
   "cell_type": "code",
   "execution_count": 83,
   "id": "ef4e5225-f72e-486a-a16d-fa21f38e804a",
   "metadata": {},
   "outputs": [
    {
     "data": {
      "text/plain": [
       "0.5186105512328761"
      ]
     },
     "execution_count": 83,
     "metadata": {},
     "output_type": "execute_result"
    }
   ],
   "source": [
    "# 12. Çalışanların 8:30'dan sonra işe gelme olasılığını bulun.\n",
    "1 - norm.cdf(8.30, 9.00, 15)"
   ]
  },
  {
   "cell_type": "code",
   "execution_count": 89,
   "id": "97e2ff92-0b00-4c9f-9052-eb2aa46f9216",
   "metadata": {},
   "outputs": [
    {
     "data": {
      "text/plain": [
       "0.06527803934815865"
      ]
     },
     "execution_count": 89,
     "metadata": {},
     "output_type": "execute_result"
    }
   ],
   "source": [
    "# 13. Bir çalışanın günde 8 müşteri görüşmesi yapma olasılığını hesaplayın \n",
    "from scipy.stats import poisson\n",
    "poisson.pmf(8,5)\n"
   ]
  },
  {
   "cell_type": "markdown",
   "id": "a43b3e67-24fd-4051-8af9-4d0decdaaca0",
   "metadata": {},
   "source": [
    "14. Öğle yemeği süresi 30 dakikadan kısa sürede bitirme olasılığını bulun"
   ]
  },
  {
   "cell_type": "code",
   "execution_count": 94,
   "id": "82bed024-3247-4428-8a26-e56f52ae1f8e",
   "metadata": {},
   "outputs": [
    {
     "data": {
      "text/plain": [
       "0.486582880967408"
      ]
     },
     "execution_count": 94,
     "metadata": {},
     "output_type": "execute_result"
    }
   ],
   "source": [
    "from scipy.stats import expon\n",
    "expon.cdf(30, scale=45)"
   ]
  },
  {
   "cell_type": "code",
   "execution_count": 98,
   "id": "eeb0d9f8-6879-478c-9439-3715b22d2a7b",
   "metadata": {},
   "outputs": [
    {
     "data": {
      "text/plain": [
       "0.1285055148387977"
      ]
     },
     "execution_count": 98,
     "metadata": {},
     "output_type": "execute_result"
    }
   ],
   "source": [
    "# 15. En fazla 15 çalışanın işten ayrılma olasılığını hesaplayın \n",
    "from scipy.stats import binom\n",
    "binom.cdf(15,100,0.2)"
   ]
  },
  {
   "cell_type": "markdown",
   "id": "7710fca9-e900-4299-8d6c-aa11d17e9c42",
   "metadata": {},
   "source": [
    " Bir çalışanın uzaktan çalışıp çalışmadığını, aylık maaşı ve çalışma saatleri üzerinden tahmin edin (KNN kullanarak)."
   ]
  },
  {
   "cell_type": "code",
   "execution_count": 102,
   "id": "894e8808-9975-44a9-ac26-40268e206e6f",
   "metadata": {},
   "outputs": [
    {
     "data": {
      "text/html": [
       "<div>\n",
       "<style scoped>\n",
       "    .dataframe tbody tr th:only-of-type {\n",
       "        vertical-align: middle;\n",
       "    }\n",
       "\n",
       "    .dataframe tbody tr th {\n",
       "        vertical-align: top;\n",
       "    }\n",
       "\n",
       "    .dataframe thead th {\n",
       "        text-align: right;\n",
       "    }\n",
       "</style>\n",
       "<table border=\"1\" class=\"dataframe\">\n",
       "  <thead>\n",
       "    <tr style=\"text-align: right;\">\n",
       "      <th></th>\n",
       "      <th>EmployeeID</th>\n",
       "      <th>Department</th>\n",
       "      <th>MonthlySalary</th>\n",
       "      <th>HoursWorked</th>\n",
       "      <th>RemoteWork</th>\n",
       "      <th>SatisfactionScore</th>\n",
       "    </tr>\n",
       "  </thead>\n",
       "  <tbody>\n",
       "    <tr>\n",
       "      <th>0</th>\n",
       "      <td>1</td>\n",
       "      <td>Sales</td>\n",
       "      <td>5087.05</td>\n",
       "      <td>40.07</td>\n",
       "      <td>0</td>\n",
       "      <td>3</td>\n",
       "    </tr>\n",
       "    <tr>\n",
       "      <th>1</th>\n",
       "      <td>2</td>\n",
       "      <td>Marketing</td>\n",
       "      <td>4700.99</td>\n",
       "      <td>47.27</td>\n",
       "      <td>0</td>\n",
       "      <td>5</td>\n",
       "    </tr>\n",
       "    <tr>\n",
       "      <th>2</th>\n",
       "      <td>3</td>\n",
       "      <td>HR</td>\n",
       "      <td>5091.76</td>\n",
       "      <td>38.68</td>\n",
       "      <td>0</td>\n",
       "      <td>5</td>\n",
       "    </tr>\n",
       "    <tr>\n",
       "      <th>3</th>\n",
       "      <td>4</td>\n",
       "      <td>IT</td>\n",
       "      <td>3012.43</td>\n",
       "      <td>53.60</td>\n",
       "      <td>0</td>\n",
       "      <td>2</td>\n",
       "    </tr>\n",
       "    <tr>\n",
       "      <th>4</th>\n",
       "      <td>5</td>\n",
       "      <td>Sales</td>\n",
       "      <td>4780.33</td>\n",
       "      <td>43.13</td>\n",
       "      <td>1</td>\n",
       "      <td>4</td>\n",
       "    </tr>\n",
       "    <tr>\n",
       "      <th>...</th>\n",
       "      <td>...</td>\n",
       "      <td>...</td>\n",
       "      <td>...</td>\n",
       "      <td>...</td>\n",
       "      <td>...</td>\n",
       "      <td>...</td>\n",
       "    </tr>\n",
       "    <tr>\n",
       "      <th>95</th>\n",
       "      <td>96</td>\n",
       "      <td>IT</td>\n",
       "      <td>4184.19</td>\n",
       "      <td>32.82</td>\n",
       "      <td>0</td>\n",
       "      <td>2</td>\n",
       "    </tr>\n",
       "    <tr>\n",
       "      <th>96</th>\n",
       "      <td>97</td>\n",
       "      <td>IT</td>\n",
       "      <td>4922.90</td>\n",
       "      <td>45.82</td>\n",
       "      <td>1</td>\n",
       "      <td>1</td>\n",
       "    </tr>\n",
       "    <tr>\n",
       "      <th>97</th>\n",
       "      <td>98</td>\n",
       "      <td>IT</td>\n",
       "      <td>5341.15</td>\n",
       "      <td>40.05</td>\n",
       "      <td>0</td>\n",
       "      <td>3</td>\n",
       "    </tr>\n",
       "    <tr>\n",
       "      <th>98</th>\n",
       "      <td>99</td>\n",
       "      <td>Sales</td>\n",
       "      <td>5276.69</td>\n",
       "      <td>35.09</td>\n",
       "      <td>0</td>\n",
       "      <td>1</td>\n",
       "    </tr>\n",
       "    <tr>\n",
       "      <th>99</th>\n",
       "      <td>100</td>\n",
       "      <td>Sales</td>\n",
       "      <td>5827.18</td>\n",
       "      <td>42.31</td>\n",
       "      <td>1</td>\n",
       "      <td>5</td>\n",
       "    </tr>\n",
       "  </tbody>\n",
       "</table>\n",
       "<p>100 rows × 6 columns</p>\n",
       "</div>"
      ],
      "text/plain": [
       "    EmployeeID Department  MonthlySalary  HoursWorked  RemoteWork  \\\n",
       "0            1      Sales        5087.05        40.07           0   \n",
       "1            2  Marketing        4700.99        47.27           0   \n",
       "2            3         HR        5091.76        38.68           0   \n",
       "3            4         IT        3012.43        53.60           0   \n",
       "4            5      Sales        4780.33        43.13           1   \n",
       "..         ...        ...            ...          ...         ...   \n",
       "95          96         IT        4184.19        32.82           0   \n",
       "96          97         IT        4922.90        45.82           1   \n",
       "97          98         IT        5341.15        40.05           0   \n",
       "98          99      Sales        5276.69        35.09           0   \n",
       "99         100      Sales        5827.18        42.31           1   \n",
       "\n",
       "    SatisfactionScore  \n",
       "0                   3  \n",
       "1                   5  \n",
       "2                   5  \n",
       "3                   2  \n",
       "4                   4  \n",
       "..                ...  \n",
       "95                  2  \n",
       "96                  1  \n",
       "97                  3  \n",
       "98                  1  \n",
       "99                  5  \n",
       "\n",
       "[100 rows x 6 columns]"
      ]
     },
     "execution_count": 102,
     "metadata": {},
     "output_type": "execute_result"
    }
   ],
   "source": [
    "df"
   ]
  },
  {
   "cell_type": "code",
   "execution_count": 116,
   "id": "52c0c2e3-0e19-4b93-8e8f-b7803ec8dfe9",
   "metadata": {},
   "outputs": [
    {
     "data": {
      "text/plain": [
       "0.7"
      ]
     },
     "execution_count": 116,
     "metadata": {},
     "output_type": "execute_result"
    }
   ],
   "source": [
    "from sklearn.neighbors import KNeighborsClassifier\n",
    "from sklearn.metrics import accuracy_score\n",
    "X = df[['MonthlySalary', 'HoursWorked']].values\n",
    "y = df['RemoteWork'].values\n",
    "X_train, X_test, y_train, y_test = train_test_split(X,y,test_size=0.2, random_state=42, stratify=y)\n",
    "\n",
    "model_knn = KNeighborsClassifier(n_neighbors=5)\n",
    "model_knn.fit(X_train, y_train)\n",
    "y_pred=model_knn.predict(X_test)\n",
    "accuracy = accuracy_score(y_test, y_pred)\n",
    "accuracy"
   ]
  },
  {
   "cell_type": "markdown",
   "id": "31aa80ec-0be3-4664-bdb4-362f7394af46",
   "metadata": {},
   "source": [
    "Çalışanların maaşı ve çalışma saatleriyle memnuniyet skorlarını tahmin eden bir model oluşturun. Modelin performansını değerlendirin.\n"
   ]
  },
  {
   "cell_type": "code",
   "execution_count": 121,
   "id": "8b3a4358-7c44-4ce8-a846-cf3185dc8b33",
   "metadata": {},
   "outputs": [
    {
     "data": {
      "text/plain": [
       "2.3415251918512787"
      ]
     },
     "execution_count": 121,
     "metadata": {},
     "output_type": "execute_result"
    }
   ],
   "source": [
    "from sklearn.model_selection import train_test_split\n",
    "from sklearn.linear_model import LinearRegression\n",
    "from sklearn.metrics import mean_squared_error\n",
    "X = df[['MonthlySalary', 'HoursWorked']].values\n",
    "y = df['SatisfactionScore'].values\n",
    "X_train, X_test, y_train, y_test = train_test_split(X,y,test_size=0.2, random_state=42, stratify=y)\n",
    "model_l = LinearRegression()\n",
    "model_l.fit(X_train, y_train)\n",
    "y_pred = model_l.predict(X_test)\n",
    "root = mean_squared_error(y_test, y_pred)\n",
    "root"
   ]
  },
  {
   "cell_type": "markdown",
   "id": "b80aa0d8-dc2d-46f3-ac09-b1d415033ecc",
   "metadata": {},
   "source": [
    "Çalışanların çalışma saatleri ve memnuniyet skorlarıyla uzaktan çalışıp çalışmadığını tahmin eden bir sınıflandırma modeli oluşturun. Model doğruluğunu hesaplayın."
   ]
  },
  {
   "cell_type": "code",
   "execution_count": 126,
   "id": "a0189dd6-d5cf-4818-afcc-6933d999b795",
   "metadata": {},
   "outputs": [
    {
     "data": {
      "text/plain": [
       "0.55"
      ]
     },
     "execution_count": 126,
     "metadata": {},
     "output_type": "execute_result"
    }
   ],
   "source": [
    "X = df[['HoursWorked', 'SatisfactionScore']].values\n",
    "y = df['RemoteWork'].values\n",
    "X_train, X_test, y_train, y_test = train_test_split(X,y,test_size=0.2, random_state=42, stratify=y)\n",
    "model_knn = KNeighborsClassifier(n_neighbors=5)\n",
    "model_knn.fit(X_train, y_train)\n",
    "y_pred = model_knn.predict(X_test)\n",
    "accuracy = accuracy_score(y_test, y_pred)\n",
    "accuracy"
   ]
  },
  {
   "cell_type": "markdown",
   "id": "d882f129-02fc-4450-8376-4fc37d0c7963",
   "metadata": {},
   "source": [
    "Çalışanların departmanlarına göre maaşlarını tahmin eden bir model oluşturun. Modelin tahmin doğruluğunu ölçün."
   ]
  },
  {
   "cell_type": "code",
   "execution_count": 138,
   "id": "c5490981-0478-4c72-84fc-78edcefbf97d",
   "metadata": {},
   "outputs": [
    {
     "data": {
      "text/plain": [
       "array([5027.04448265, 4841.22775324, 4841.22775324, 4903.16666304,\n",
       "       5027.04448265, 4903.16666304, 5027.04448265, 4841.22775324,\n",
       "       5027.04448265, 5027.04448265, 4903.16666304, 4903.16666304,\n",
       "       4841.22775324, 4965.10557284, 5027.04448265, 5027.04448265,\n",
       "       4841.22775324, 5027.04448265, 4841.22775324, 5027.04448265])"
      ]
     },
     "execution_count": 138,
     "metadata": {},
     "output_type": "execute_result"
    }
   ],
   "source": [
    "X = df['Department'].astype('category').cat.codes.values.reshape(-1, 1)\n",
    "y = df['MonthlySalary'].values\n",
    "X_train, X_test, y_train, y_test = train_test_split(X,y,test_size=0.2, random_state=42)\n",
    "model_l = LinearRegression()\n",
    "model_l.fit(X_train, y_train)\n",
    "y_pred = model_l.predict(X_test)\n",
    "y_pred"
   ]
  },
  {
   "cell_type": "markdown",
   "id": "5b02c6de-306b-4e30-8039-47bd08c70925",
   "metadata": {},
   "source": [
    "Çalışanların maaşlarına ve memnuniyet skorlarına göre hangi departmanda çalıştıklarını tahmin edin. Model performansını raporlayın."
   ]
  },
  {
   "cell_type": "code",
   "execution_count": 153,
   "id": "49dc4a12-e909-4ee2-9321-46ad62a134c9",
   "metadata": {},
   "outputs": [
    {
     "name": "stderr",
     "output_type": "stream",
     "text": [
      "/opt/anaconda3/lib/python3.12/site-packages/sklearn/linear_model/_logistic.py:469: ConvergenceWarning: lbfgs failed to converge (status=1):\n",
      "STOP: TOTAL NO. of ITERATIONS REACHED LIMIT.\n",
      "\n",
      "Increase the number of iterations (max_iter) or scale the data as shown in:\n",
      "    https://scikit-learn.org/stable/modules/preprocessing.html\n",
      "Please also refer to the documentation for alternative solver options:\n",
      "    https://scikit-learn.org/stable/modules/linear_model.html#logistic-regression\n",
      "  n_iter_i = _check_optimize_result(\n",
      "/opt/anaconda3/lib/python3.12/site-packages/sklearn/metrics/_classification.py:1531: UndefinedMetricWarning: Precision is ill-defined and being set to 0.0 in labels with no predicted samples. Use `zero_division` parameter to control this behavior.\n",
      "  _warn_prf(average, modifier, f\"{metric.capitalize()} is\", len(result))\n",
      "/opt/anaconda3/lib/python3.12/site-packages/sklearn/metrics/_classification.py:1531: UndefinedMetricWarning: Precision is ill-defined and being set to 0.0 in labels with no predicted samples. Use `zero_division` parameter to control this behavior.\n",
      "  _warn_prf(average, modifier, f\"{metric.capitalize()} is\", len(result))\n",
      "/opt/anaconda3/lib/python3.12/site-packages/sklearn/metrics/_classification.py:1531: UndefinedMetricWarning: Precision is ill-defined and being set to 0.0 in labels with no predicted samples. Use `zero_division` parameter to control this behavior.\n",
      "  _warn_prf(average, modifier, f\"{metric.capitalize()} is\", len(result))\n"
     ]
    },
    {
     "data": {
      "text/plain": [
       "'              precision    recall  f1-score   support\\n\\n           0       0.00      0.00      0.00         6\\n           1       0.00      0.00      0.00         4\\n           2       0.00      0.00      0.00         1\\n           3       0.45      1.00      0.62         9\\n\\n    accuracy                           0.45        20\\n   macro avg       0.11      0.25      0.16        20\\nweighted avg       0.20      0.45      0.28        20\\n'"
      ]
     },
     "execution_count": 153,
     "metadata": {},
     "output_type": "execute_result"
    }
   ],
   "source": [
    "from sklearn.linear_model import LogisticRegression\n",
    "X = df[['MonthlySalary', 'SatisfactionScore']].values\n",
    "y = df['Department'].astype('category').cat.codes.values\n",
    "X_train, X_test, y_train, y_test = train_test_split(X,y,test_size=0.2, random_state=42)\n",
    "model_lo = LogisticRegression()\n",
    "model_lo.fit(X_train, y_train)\n",
    "y_pred = model_lo.predict(X_test)\n",
    "classf = classification_report(y_test, y_pred)\n",
    "classf"
   ]
  },
  {
   "cell_type": "markdown",
   "id": "1809a217-891c-48b4-b1a4-4ebd96b39eed",
   "metadata": {},
   "source": [
    "Çalışanların %50'sinin maaşının 60,000'den fazla olup olmadığını test edin.\n",
    "#one prop"
   ]
  },
  {
   "cell_type": "code",
   "execution_count": 155,
   "id": "c32122f6-ee98-4b48-919a-d2aa77b150b5",
   "metadata": {},
   "outputs": [
    {
     "name": "stdout",
     "output_type": "stream",
     "text": [
      "H0 kabul edildi: Çalışanların %50'sinin maaşı 60,000'den fazladır.\n",
      "Z-Statistik: -10.0, P-Değeri: 1.0\n"
     ]
    }
   ],
   "source": [
    "import numpy as np\n",
    "from scipy.stats import norm\n",
    "\n",
    "# Veriler\n",
    "count = (df['MonthlySalary'] > 60000).sum()  # Maaşı 60,000'den fazla olanların sayısı\n",
    "n = len(df)  # Toplam çalışan sayısı\n",
    "p_hat = count / n  # Gözlemlenen oran\n",
    "p0 = 0.5  # Hipotez edilen oran\n",
    "\n",
    "# Standart Hata\n",
    "se = np.sqrt(p0 * (1 - p0) / n)\n",
    "\n",
    "# Z-Statistik\n",
    "z = (p_hat - p0) / se\n",
    "\n",
    "# Sağ kuyruk testi\n",
    "p_value = 1 - norm.cdf(z)\n",
    "\n",
    "# Sonuç\n",
    "alpha = 0.05\n",
    "if p_value < alpha:\n",
    "    print(\"H0 reddedildi: Çalışanların %50'sinin maaşı 60,000'den fazla değildir.\")\n",
    "else:\n",
    "    print(\"H0 kabul edildi: Çalışanların %50'sinin maaşı 60,000'den fazladır.\")\n",
    "\n",
    "print(f\"Z-Statistik: {z}, P-Değeri: {p_value}\")\n"
   ]
  },
  {
   "cell_type": "code",
   "execution_count": null,
   "id": "723c22e0-074c-452a-897b-0c28f738336c",
   "metadata": {},
   "outputs": [],
   "source": [
    "#Çalışma saatlerinin Marketing ve IT departmanlarında eşit olup olmadığını test edin.\n",
    "#ikili t test\n",
    "x1 = df[df['Department'] == 'Marketing']['HoursWorked'].mean()\n",
    "x2 = df[df['Department'] == 'IT']['HoursWorked'].mean()\n",
    "s1 = df[df['Department'] == 'Marketing']['HoursWorked'].std(ddof=1)\n",
    "s2 = df[df['Department'] == 'IT']['HoursWorked'].std(ddof=1)\n",
    "n1 = df[df['Department'] == 'Marketing']['HoursWorked'].count()\n",
    "n2 = df[df['Department'] == 'IT']['HoursWorked'].count()\n",
    "dof = n1+n2-2\n",
    "pay = x1-x2\n",
    "payda = np.sqrt((s1**2/n1) + (s2**2/n2))\n",
    "t_ = pay/payda\n",
    "#çift kuyruk testi\n",
    "p = 2*(1-t.cdf(np.abs(t_), df=dof))\n"
   ]
  },
  {
   "cell_type": "code",
   "execution_count": null,
   "id": "249429a2-555b-4bf7-aa31-bcbc5485e014",
   "metadata": {},
   "outputs": [],
   "source": [
    "Çalışanların memnuniyet puanlarının yaşlarına bağlı olarak(Genç: 30 yaşından küçük\n",
    "Orta Yaşlı: 30-50 yaş arası\n",
    "Yaşlı: 50 yaşından büyük\n",
    ") değişip değişmediğini test edin.\n"
   ]
  },
  {
   "cell_type": "code",
   "execution_count": 157,
   "id": "a9df3acf-7a53-4b90-82b0-4356b7adcd3f",
   "metadata": {},
   "outputs": [
    {
     "ename": "KeyError",
     "evalue": "'Age'",
     "output_type": "error",
     "traceback": [
      "\u001b[0;31m---------------------------------------------------------------------------\u001b[0m",
      "\u001b[0;31mKeyError\u001b[0m                                  Traceback (most recent call last)",
      "File \u001b[0;32m/opt/anaconda3/lib/python3.12/site-packages/pandas/core/indexes/base.py:3805\u001b[0m, in \u001b[0;36mIndex.get_loc\u001b[0;34m(self, key)\u001b[0m\n\u001b[1;32m   3804\u001b[0m \u001b[38;5;28;01mtry\u001b[39;00m:\n\u001b[0;32m-> 3805\u001b[0m     \u001b[38;5;28;01mreturn\u001b[39;00m \u001b[38;5;28mself\u001b[39m\u001b[38;5;241m.\u001b[39m_engine\u001b[38;5;241m.\u001b[39mget_loc(casted_key)\n\u001b[1;32m   3806\u001b[0m \u001b[38;5;28;01mexcept\u001b[39;00m \u001b[38;5;167;01mKeyError\u001b[39;00m \u001b[38;5;28;01mas\u001b[39;00m err:\n",
      "File \u001b[0;32mindex.pyx:167\u001b[0m, in \u001b[0;36mpandas._libs.index.IndexEngine.get_loc\u001b[0;34m()\u001b[0m\n",
      "File \u001b[0;32mindex.pyx:196\u001b[0m, in \u001b[0;36mpandas._libs.index.IndexEngine.get_loc\u001b[0;34m()\u001b[0m\n",
      "File \u001b[0;32mpandas/_libs/hashtable_class_helper.pxi:7081\u001b[0m, in \u001b[0;36mpandas._libs.hashtable.PyObjectHashTable.get_item\u001b[0;34m()\u001b[0m\n",
      "File \u001b[0;32mpandas/_libs/hashtable_class_helper.pxi:7089\u001b[0m, in \u001b[0;36mpandas._libs.hashtable.PyObjectHashTable.get_item\u001b[0;34m()\u001b[0m\n",
      "\u001b[0;31mKeyError\u001b[0m: 'Age'",
      "\nThe above exception was the direct cause of the following exception:\n",
      "\u001b[0;31mKeyError\u001b[0m                                  Traceback (most recent call last)",
      "Cell \u001b[0;32mIn[157], line 3\u001b[0m\n\u001b[1;32m      1\u001b[0m \u001b[38;5;28;01mfrom\u001b[39;00m \u001b[38;5;21;01mscipy\u001b[39;00m\u001b[38;5;21;01m.\u001b[39;00m\u001b[38;5;21;01mstats\u001b[39;00m \u001b[38;5;28;01mimport\u001b[39;00m kruskal\n\u001b[0;32m----> 3\u001b[0m young \u001b[38;5;241m=\u001b[39m df[df[\u001b[38;5;124m'\u001b[39m\u001b[38;5;124mAge\u001b[39m\u001b[38;5;124m'\u001b[39m] \u001b[38;5;241m<\u001b[39m \u001b[38;5;241m30\u001b[39m][\u001b[38;5;124m'\u001b[39m\u001b[38;5;124mSatisfactionScore\u001b[39m\u001b[38;5;124m'\u001b[39m]\n\u001b[1;32m      4\u001b[0m middle \u001b[38;5;241m=\u001b[39m df[(df[\u001b[38;5;124m'\u001b[39m\u001b[38;5;124mAge\u001b[39m\u001b[38;5;124m'\u001b[39m] \u001b[38;5;241m>\u001b[39m\u001b[38;5;241m=\u001b[39m \u001b[38;5;241m30\u001b[39m) \u001b[38;5;241m&\u001b[39m (df[\u001b[38;5;124m'\u001b[39m\u001b[38;5;124mAge\u001b[39m\u001b[38;5;124m'\u001b[39m] \u001b[38;5;241m<\u001b[39m\u001b[38;5;241m=\u001b[39m \u001b[38;5;241m50\u001b[39m)][\u001b[38;5;124m'\u001b[39m\u001b[38;5;124mSatisfactionScore\u001b[39m\u001b[38;5;124m'\u001b[39m]\n\u001b[1;32m      5\u001b[0m older \u001b[38;5;241m=\u001b[39m df[df[\u001b[38;5;124m'\u001b[39m\u001b[38;5;124mAge\u001b[39m\u001b[38;5;124m'\u001b[39m] \u001b[38;5;241m>\u001b[39m \u001b[38;5;241m50\u001b[39m][\u001b[38;5;124m'\u001b[39m\u001b[38;5;124mSatisfactionScore\u001b[39m\u001b[38;5;124m'\u001b[39m]\n",
      "File \u001b[0;32m/opt/anaconda3/lib/python3.12/site-packages/pandas/core/frame.py:4102\u001b[0m, in \u001b[0;36mDataFrame.__getitem__\u001b[0;34m(self, key)\u001b[0m\n\u001b[1;32m   4100\u001b[0m \u001b[38;5;28;01mif\u001b[39;00m \u001b[38;5;28mself\u001b[39m\u001b[38;5;241m.\u001b[39mcolumns\u001b[38;5;241m.\u001b[39mnlevels \u001b[38;5;241m>\u001b[39m \u001b[38;5;241m1\u001b[39m:\n\u001b[1;32m   4101\u001b[0m     \u001b[38;5;28;01mreturn\u001b[39;00m \u001b[38;5;28mself\u001b[39m\u001b[38;5;241m.\u001b[39m_getitem_multilevel(key)\n\u001b[0;32m-> 4102\u001b[0m indexer \u001b[38;5;241m=\u001b[39m \u001b[38;5;28mself\u001b[39m\u001b[38;5;241m.\u001b[39mcolumns\u001b[38;5;241m.\u001b[39mget_loc(key)\n\u001b[1;32m   4103\u001b[0m \u001b[38;5;28;01mif\u001b[39;00m is_integer(indexer):\n\u001b[1;32m   4104\u001b[0m     indexer \u001b[38;5;241m=\u001b[39m [indexer]\n",
      "File \u001b[0;32m/opt/anaconda3/lib/python3.12/site-packages/pandas/core/indexes/base.py:3812\u001b[0m, in \u001b[0;36mIndex.get_loc\u001b[0;34m(self, key)\u001b[0m\n\u001b[1;32m   3807\u001b[0m     \u001b[38;5;28;01mif\u001b[39;00m \u001b[38;5;28misinstance\u001b[39m(casted_key, \u001b[38;5;28mslice\u001b[39m) \u001b[38;5;129;01mor\u001b[39;00m (\n\u001b[1;32m   3808\u001b[0m         \u001b[38;5;28misinstance\u001b[39m(casted_key, abc\u001b[38;5;241m.\u001b[39mIterable)\n\u001b[1;32m   3809\u001b[0m         \u001b[38;5;129;01mand\u001b[39;00m \u001b[38;5;28many\u001b[39m(\u001b[38;5;28misinstance\u001b[39m(x, \u001b[38;5;28mslice\u001b[39m) \u001b[38;5;28;01mfor\u001b[39;00m x \u001b[38;5;129;01min\u001b[39;00m casted_key)\n\u001b[1;32m   3810\u001b[0m     ):\n\u001b[1;32m   3811\u001b[0m         \u001b[38;5;28;01mraise\u001b[39;00m InvalidIndexError(key)\n\u001b[0;32m-> 3812\u001b[0m     \u001b[38;5;28;01mraise\u001b[39;00m \u001b[38;5;167;01mKeyError\u001b[39;00m(key) \u001b[38;5;28;01mfrom\u001b[39;00m \u001b[38;5;21;01merr\u001b[39;00m\n\u001b[1;32m   3813\u001b[0m \u001b[38;5;28;01mexcept\u001b[39;00m \u001b[38;5;167;01mTypeError\u001b[39;00m:\n\u001b[1;32m   3814\u001b[0m     \u001b[38;5;66;03m# If we have a listlike key, _check_indexing_error will raise\u001b[39;00m\n\u001b[1;32m   3815\u001b[0m     \u001b[38;5;66;03m#  InvalidIndexError. Otherwise we fall through and re-raise\u001b[39;00m\n\u001b[1;32m   3816\u001b[0m     \u001b[38;5;66;03m#  the TypeError.\u001b[39;00m\n\u001b[1;32m   3817\u001b[0m     \u001b[38;5;28mself\u001b[39m\u001b[38;5;241m.\u001b[39m_check_indexing_error(key)\n",
      "\u001b[0;31mKeyError\u001b[0m: 'Age'"
     ]
    }
   ],
   "source": [
    "from scipy.stats import kruskal\n",
    "\n",
    "young = df[df['Age'] < 30]['SatisfactionScore']\n",
    "middle = df[(df['Age'] >= 30) & (df['Age'] <= 50)]['SatisfactionScore']\n",
    "older = df[df['Age'] > 50]['SatisfactionScore']\n",
    "\n",
    "stat, p_value = kruskal(young, middle, older)\n",
    "print(\"P-value:\", p_value)\n"
   ]
  },
  {
   "cell_type": "markdown",
   "id": "3e64f511-e1b4-4b57-abe9-fa2c2ccca7ba",
   "metadata": {},
   "source": [
    "HR ve Sales departmanlarının çalışanlarının ortalama maaşlarının aynı olup olmadığını test edin."
   ]
  },
  {
   "cell_type": "code",
   "execution_count": 160,
   "id": "63135ef2-aac4-44e5-91cb-16cf2e37eec9",
   "metadata": {},
   "outputs": [
    {
     "data": {
      "text/plain": [
       "1.0"
      ]
     },
     "execution_count": 160,
     "metadata": {},
     "output_type": "execute_result"
    }
   ],
   "source": [
    "ort = (df['MonthlySalary']).mean()\n",
    "ss = (df['MonthlySalary']).std(ddof=1)\n",
    "norm.cdf(50000, ort, ss)"
   ]
  },
  {
   "cell_type": "code",
   "execution_count": 162,
   "id": "e1c16257-3cc5-4a5a-b94b-dbbb9ff00dda",
   "metadata": {},
   "outputs": [
    {
     "name": "stdout",
     "output_type": "stream",
     "text": [
      "Probability: 1.0\n"
     ]
    }
   ],
   "source": [
    "from scipy.stats import norm\n",
    "\n",
    "mean = df['MonthlySalary'].mean()\n",
    "std = df['MonthlySalary'].std()\n",
    "\n",
    "prob = norm.cdf(50000, loc=mean, scale=std)\n",
    "print(\"Probability:\", prob)\n"
   ]
  },
  {
   "cell_type": "code",
   "execution_count": null,
   "id": "d65ccbd8-c486-47c6-b46c-4ede420dfb65",
   "metadata": {},
   "outputs": [],
   "source": [
    "Çalışanların günlük 8 müşteriyle görüşme yapma olasılığını hesaplayın"
   ]
  },
  {
   "cell_type": "code",
   "execution_count": 164,
   "id": "dc338e61-55c7-43e3-88d6-9e72413b7b73",
   "metadata": {},
   "outputs": [
    {
     "data": {
      "text/plain": [
       "0.5562595867082492"
      ]
     },
     "execution_count": 164,
     "metadata": {},
     "output_type": "execute_result"
    }
   ],
   "source": [
    "binom.cdf(40, 50, 0.8)"
   ]
  },
  {
   "cell_type": "markdown",
   "id": "e9debc27-2612-4655-991a-c92c8a76e55f",
   "metadata": {},
   "source": [
    "Bir ev fiyatlandırma veri setinde (AmesHousing.csv):\n",
    "\n",
    "Numerik sütunlar (örneğin: LotArea, GrLivArea) içindeki eksik değerleri ortalama (mean) ile doldurun.\n",
    "Kategorik sütunlar (örneğin: Neighborhood, HouseStyle) içindeki eksik değerleri en sık kullanılan değerle (most frequent) doldurun.\n",
    "Eksik değerlerin doldurulduktan sonra doğruluğunu kontrol edin ve veri setindeki eksik değerlerin sayısını sıfıra indirgeyin."
   ]
  },
  {
   "cell_type": "code",
   "execution_count": 167,
   "id": "b2d98c2d-e737-44e6-8bf2-0a99a6825d38",
   "metadata": {},
   "outputs": [
    {
     "name": "stdout",
     "output_type": "stream",
     "text": [
      "Eksik değerler (Önce):\n",
      " Pool QC         2917\n",
      "Misc Feature    2824\n",
      "Alley           2732\n",
      "Fence           2358\n",
      "Mas Vnr Type    1775\n",
      "                ... \n",
      "PID                0\n",
      "Central Air        0\n",
      "1st Flr SF         0\n",
      "2nd Flr SF         0\n",
      "SalePrice          0\n",
      "Length: 82, dtype: int64\n",
      "\n",
      "Eksik değerler (Sonra):\n",
      " Order             0\n",
      "Bsmt Cond         0\n",
      "Foundation        0\n",
      "Exter Cond        0\n",
      "Exter Qual        0\n",
      "                 ..\n",
      "Garage Yr Blt     0\n",
      "Fireplaces        0\n",
      "TotRms AbvGrd     0\n",
      "Kitchen AbvGr     0\n",
      "Sale Condition    0\n",
      "Length: 82, dtype: int64\n"
     ]
    }
   ],
   "source": [
    "import pandas as pd\n",
    "from sklearn.impute import SimpleImputer\n",
    "\n",
    "# Veri setini yükleme\n",
    "df = pd.read_csv(\"data/AmesHousing.csv\")\n",
    "\n",
    "# Eksik değerlerin kontrolü\n",
    "print(\"Eksik değerler (Önce):\\n\", df.isna().sum().sort_values(ascending=False))\n",
    "\n",
    "# Kategorik ve sayısal sütunları ayırma\n",
    "object_cols = list(df.select_dtypes(include='object').columns)\n",
    "X_cat = df[object_cols]  # Kategorik sütunlar\n",
    "X_num = df.drop(object_cols, axis=1)  # Sayısal sütunlar\n",
    "\n",
    "# Kategorik sütunlar için SimpleImputer\n",
    "imp_cat = SimpleImputer(strategy='most_frequent')\n",
    "X_cat = pd.DataFrame(imp_cat.fit_transform(X_cat), columns=object_cols)\n",
    "\n",
    "# Sayısal sütunlar için SimpleImputer\n",
    "imp_num = SimpleImputer(strategy='mean')\n",
    "X_num = pd.DataFrame(imp_num.fit_transform(X_num), columns=X_num.columns)\n",
    "\n",
    "# Kategorik ve sayısal sütunları tekrar birleştirme\n",
    "df_cleaned = pd.concat([X_num, X_cat], axis=1)\n",
    "\n",
    "# Eksik değerlerin doldurulup doldurulmadığını kontrol etme\n",
    "print(\"\\nEksik değerler (Sonra):\\n\", df_cleaned.isna().sum().sort_values(ascending=False))\n"
   ]
  },
  {
   "cell_type": "markdown",
   "id": "fd9dc43b-83eb-4b4f-8cd7-65af8a07e0c2",
   "metadata": {},
   "source": [
    "AmesHousing veri setini kullanarak, sayısal ve kategorik değişkenler için farklı işlem adımlarını içeren bir pipeline oluşturun. Bu pipeline'da:\n",
    "\n",
    "Sayısal değişkenler için eksik değerleri ortalama ile doldurun ve StandardScaler kullanarak standartlaştırın.\n",
    "Kategorik değişkenler için eksik değerleri \"en sık kullanılan\" ile doldurun.\n",
    "Random Forest modeli ile eğitim yapıp test setinde doğruluk skorunu raporlayın."
   ]
  },
  {
   "cell_type": "code",
   "execution_count": 180,
   "id": "66cc809b-a264-49be-87c7-b9e7d4538622",
   "metadata": {},
   "outputs": [
    {
     "ename": "ValueError",
     "evalue": "\nAll the 20 fits failed.\nIt is very likely that your model is misconfigured.\nYou can try to debug the error by setting error_score='raise'.\n\nBelow are more details about the failures:\n--------------------------------------------------------------------------------\n20 fits failed with the following error:\nTraceback (most recent call last):\n  File \"/opt/anaconda3/lib/python3.12/site-packages/sklearn/model_selection/_validation.py\", line 888, in _fit_and_score\n    estimator.fit(X_train, y_train, **fit_params)\n  File \"/opt/anaconda3/lib/python3.12/site-packages/sklearn/base.py\", line 1473, in wrapper\n    return fit_method(estimator, *args, **kwargs)\n           ^^^^^^^^^^^^^^^^^^^^^^^^^^^^^^^^^^^^^^\n  File \"/opt/anaconda3/lib/python3.12/site-packages/sklearn/pipeline.py\", line 469, in fit\n    Xt = self._fit(X, y, routed_params)\n         ^^^^^^^^^^^^^^^^^^^^^^^^^^^^^^\n  File \"/opt/anaconda3/lib/python3.12/site-packages/sklearn/pipeline.py\", line 406, in _fit\n    X, fitted_transformer = fit_transform_one_cached(\n                            ^^^^^^^^^^^^^^^^^^^^^^^^^\n  File \"/opt/anaconda3/lib/python3.12/site-packages/joblib/memory.py\", line 312, in __call__\n    return self.func(*args, **kwargs)\n           ^^^^^^^^^^^^^^^^^^^^^^^^^^\n  File \"/opt/anaconda3/lib/python3.12/site-packages/sklearn/pipeline.py\", line 1310, in _fit_transform_one\n    res = transformer.fit_transform(X, y, **params.get(\"fit_transform\", {}))\n          ^^^^^^^^^^^^^^^^^^^^^^^^^^^^^^^^^^^^^^^^^^^^^^^^^^^^^^^^^^^^^^^^^^\n  File \"/opt/anaconda3/lib/python3.12/site-packages/sklearn/utils/_set_output.py\", line 313, in wrapped\n    data_to_wrap = f(self, X, *args, **kwargs)\n                   ^^^^^^^^^^^^^^^^^^^^^^^^^^^\n  File \"/opt/anaconda3/lib/python3.12/site-packages/sklearn/base.py\", line 1101, in fit_transform\n    return self.fit(X, y, **fit_params).transform(X)\n           ^^^^^^^^^^^^^^^^^^^^^^^^^^^^\n  File \"/opt/anaconda3/lib/python3.12/site-packages/sklearn/preprocessing/_data.py\", line 878, in fit\n    return self.partial_fit(X, y, sample_weight)\n           ^^^^^^^^^^^^^^^^^^^^^^^^^^^^^^^^^^^^^\n  File \"/opt/anaconda3/lib/python3.12/site-packages/sklearn/base.py\", line 1473, in wrapper\n    return fit_method(estimator, *args, **kwargs)\n           ^^^^^^^^^^^^^^^^^^^^^^^^^^^^^^^^^^^^^^\n  File \"/opt/anaconda3/lib/python3.12/site-packages/sklearn/preprocessing/_data.py\", line 914, in partial_fit\n    X = self._validate_data(\n        ^^^^^^^^^^^^^^^^^^^^\n  File \"/opt/anaconda3/lib/python3.12/site-packages/sklearn/base.py\", line 633, in _validate_data\n    out = check_array(X, input_name=\"X\", **check_params)\n          ^^^^^^^^^^^^^^^^^^^^^^^^^^^^^^^^^^^^^^^^^^^^^^\n  File \"/opt/anaconda3/lib/python3.12/site-packages/sklearn/utils/validation.py\", line 1012, in check_array\n    array = _asarray_with_order(array, order=order, dtype=dtype, xp=xp)\n            ^^^^^^^^^^^^^^^^^^^^^^^^^^^^^^^^^^^^^^^^^^^^^^^^^^^^^^^^^^^\n  File \"/opt/anaconda3/lib/python3.12/site-packages/sklearn/utils/_array_api.py\", line 751, in _asarray_with_order\n    array = numpy.asarray(array, order=order, dtype=dtype)\n            ^^^^^^^^^^^^^^^^^^^^^^^^^^^^^^^^^^^^^^^^^^^^^^\nValueError: could not convert string to float: 'Marketing'\n",
     "output_type": "error",
     "traceback": [
      "\u001b[0;31m---------------------------------------------------------------------------\u001b[0m",
      "\u001b[0;31mValueError\u001b[0m                                Traceback (most recent call last)",
      "Cell \u001b[0;32mIn[180], line 32\u001b[0m\n\u001b[1;32m     30\u001b[0m \u001b[38;5;66;03m# GridSearchCV ile hiperparametre optimizasyonu\u001b[39;00m\n\u001b[1;32m     31\u001b[0m grid_search \u001b[38;5;241m=\u001b[39m GridSearchCV(pipeline, param_grid, cv\u001b[38;5;241m=\u001b[39m\u001b[38;5;241m5\u001b[39m, scoring\u001b[38;5;241m=\u001b[39m\u001b[38;5;124m'\u001b[39m\u001b[38;5;124maccuracy\u001b[39m\u001b[38;5;124m'\u001b[39m)\n\u001b[0;32m---> 32\u001b[0m grid_search\u001b[38;5;241m.\u001b[39mfit(X_train, y_train)\n\u001b[1;32m     34\u001b[0m \u001b[38;5;66;03m# Test setinde tahmin yap\u001b[39;00m\n\u001b[1;32m     35\u001b[0m y_pred \u001b[38;5;241m=\u001b[39m grid_search\u001b[38;5;241m.\u001b[39mpredict(X_test)\n",
      "File \u001b[0;32m/opt/anaconda3/lib/python3.12/site-packages/sklearn/base.py:1473\u001b[0m, in \u001b[0;36m_fit_context.<locals>.decorator.<locals>.wrapper\u001b[0;34m(estimator, *args, **kwargs)\u001b[0m\n\u001b[1;32m   1466\u001b[0m     estimator\u001b[38;5;241m.\u001b[39m_validate_params()\n\u001b[1;32m   1468\u001b[0m \u001b[38;5;28;01mwith\u001b[39;00m config_context(\n\u001b[1;32m   1469\u001b[0m     skip_parameter_validation\u001b[38;5;241m=\u001b[39m(\n\u001b[1;32m   1470\u001b[0m         prefer_skip_nested_validation \u001b[38;5;129;01mor\u001b[39;00m global_skip_validation\n\u001b[1;32m   1471\u001b[0m     )\n\u001b[1;32m   1472\u001b[0m ):\n\u001b[0;32m-> 1473\u001b[0m     \u001b[38;5;28;01mreturn\u001b[39;00m fit_method(estimator, \u001b[38;5;241m*\u001b[39margs, \u001b[38;5;241m*\u001b[39m\u001b[38;5;241m*\u001b[39mkwargs)\n",
      "File \u001b[0;32m/opt/anaconda3/lib/python3.12/site-packages/sklearn/model_selection/_search.py:1018\u001b[0m, in \u001b[0;36mBaseSearchCV.fit\u001b[0;34m(self, X, y, **params)\u001b[0m\n\u001b[1;32m   1012\u001b[0m     results \u001b[38;5;241m=\u001b[39m \u001b[38;5;28mself\u001b[39m\u001b[38;5;241m.\u001b[39m_format_results(\n\u001b[1;32m   1013\u001b[0m         all_candidate_params, n_splits, all_out, all_more_results\n\u001b[1;32m   1014\u001b[0m     )\n\u001b[1;32m   1016\u001b[0m     \u001b[38;5;28;01mreturn\u001b[39;00m results\n\u001b[0;32m-> 1018\u001b[0m \u001b[38;5;28mself\u001b[39m\u001b[38;5;241m.\u001b[39m_run_search(evaluate_candidates)\n\u001b[1;32m   1020\u001b[0m \u001b[38;5;66;03m# multimetric is determined here because in the case of a callable\u001b[39;00m\n\u001b[1;32m   1021\u001b[0m \u001b[38;5;66;03m# self.scoring the return type is only known after calling\u001b[39;00m\n\u001b[1;32m   1022\u001b[0m first_test_score \u001b[38;5;241m=\u001b[39m all_out[\u001b[38;5;241m0\u001b[39m][\u001b[38;5;124m\"\u001b[39m\u001b[38;5;124mtest_scores\u001b[39m\u001b[38;5;124m\"\u001b[39m]\n",
      "File \u001b[0;32m/opt/anaconda3/lib/python3.12/site-packages/sklearn/model_selection/_search.py:1572\u001b[0m, in \u001b[0;36mGridSearchCV._run_search\u001b[0;34m(self, evaluate_candidates)\u001b[0m\n\u001b[1;32m   1570\u001b[0m \u001b[38;5;28;01mdef\u001b[39;00m \u001b[38;5;21m_run_search\u001b[39m(\u001b[38;5;28mself\u001b[39m, evaluate_candidates):\n\u001b[1;32m   1571\u001b[0m \u001b[38;5;250m    \u001b[39m\u001b[38;5;124;03m\"\"\"Search all candidates in param_grid\"\"\"\u001b[39;00m\n\u001b[0;32m-> 1572\u001b[0m     evaluate_candidates(ParameterGrid(\u001b[38;5;28mself\u001b[39m\u001b[38;5;241m.\u001b[39mparam_grid))\n",
      "File \u001b[0;32m/opt/anaconda3/lib/python3.12/site-packages/sklearn/model_selection/_search.py:995\u001b[0m, in \u001b[0;36mBaseSearchCV.fit.<locals>.evaluate_candidates\u001b[0;34m(candidate_params, cv, more_results)\u001b[0m\n\u001b[1;32m    988\u001b[0m \u001b[38;5;28;01melif\u001b[39;00m \u001b[38;5;28mlen\u001b[39m(out) \u001b[38;5;241m!=\u001b[39m n_candidates \u001b[38;5;241m*\u001b[39m n_splits:\n\u001b[1;32m    989\u001b[0m     \u001b[38;5;28;01mraise\u001b[39;00m \u001b[38;5;167;01mValueError\u001b[39;00m(\n\u001b[1;32m    990\u001b[0m         \u001b[38;5;124m\"\u001b[39m\u001b[38;5;124mcv.split and cv.get_n_splits returned \u001b[39m\u001b[38;5;124m\"\u001b[39m\n\u001b[1;32m    991\u001b[0m         \u001b[38;5;124m\"\u001b[39m\u001b[38;5;124minconsistent results. Expected \u001b[39m\u001b[38;5;132;01m{}\u001b[39;00m\u001b[38;5;124m \u001b[39m\u001b[38;5;124m\"\u001b[39m\n\u001b[1;32m    992\u001b[0m         \u001b[38;5;124m\"\u001b[39m\u001b[38;5;124msplits, got \u001b[39m\u001b[38;5;132;01m{}\u001b[39;00m\u001b[38;5;124m\"\u001b[39m\u001b[38;5;241m.\u001b[39mformat(n_splits, \u001b[38;5;28mlen\u001b[39m(out) \u001b[38;5;241m/\u001b[39m\u001b[38;5;241m/\u001b[39m n_candidates)\n\u001b[1;32m    993\u001b[0m     )\n\u001b[0;32m--> 995\u001b[0m _warn_or_raise_about_fit_failures(out, \u001b[38;5;28mself\u001b[39m\u001b[38;5;241m.\u001b[39merror_score)\n\u001b[1;32m    997\u001b[0m \u001b[38;5;66;03m# For callable self.scoring, the return type is only know after\u001b[39;00m\n\u001b[1;32m    998\u001b[0m \u001b[38;5;66;03m# calling. If the return type is a dictionary, the error scores\u001b[39;00m\n\u001b[1;32m    999\u001b[0m \u001b[38;5;66;03m# can now be inserted with the correct key. The type checking\u001b[39;00m\n\u001b[1;32m   1000\u001b[0m \u001b[38;5;66;03m# of out will be done in `_insert_error_scores`.\u001b[39;00m\n\u001b[1;32m   1001\u001b[0m \u001b[38;5;28;01mif\u001b[39;00m \u001b[38;5;28mcallable\u001b[39m(\u001b[38;5;28mself\u001b[39m\u001b[38;5;241m.\u001b[39mscoring):\n",
      "File \u001b[0;32m/opt/anaconda3/lib/python3.12/site-packages/sklearn/model_selection/_validation.py:529\u001b[0m, in \u001b[0;36m_warn_or_raise_about_fit_failures\u001b[0;34m(results, error_score)\u001b[0m\n\u001b[1;32m    522\u001b[0m \u001b[38;5;28;01mif\u001b[39;00m num_failed_fits \u001b[38;5;241m==\u001b[39m num_fits:\n\u001b[1;32m    523\u001b[0m     all_fits_failed_message \u001b[38;5;241m=\u001b[39m (\n\u001b[1;32m    524\u001b[0m         \u001b[38;5;124mf\u001b[39m\u001b[38;5;124m\"\u001b[39m\u001b[38;5;130;01m\\n\u001b[39;00m\u001b[38;5;124mAll the \u001b[39m\u001b[38;5;132;01m{\u001b[39;00mnum_fits\u001b[38;5;132;01m}\u001b[39;00m\u001b[38;5;124m fits failed.\u001b[39m\u001b[38;5;130;01m\\n\u001b[39;00m\u001b[38;5;124m\"\u001b[39m\n\u001b[1;32m    525\u001b[0m         \u001b[38;5;124m\"\u001b[39m\u001b[38;5;124mIt is very likely that your model is misconfigured.\u001b[39m\u001b[38;5;130;01m\\n\u001b[39;00m\u001b[38;5;124m\"\u001b[39m\n\u001b[1;32m    526\u001b[0m         \u001b[38;5;124m\"\u001b[39m\u001b[38;5;124mYou can try to debug the error by setting error_score=\u001b[39m\u001b[38;5;124m'\u001b[39m\u001b[38;5;124mraise\u001b[39m\u001b[38;5;124m'\u001b[39m\u001b[38;5;124m.\u001b[39m\u001b[38;5;130;01m\\n\u001b[39;00m\u001b[38;5;130;01m\\n\u001b[39;00m\u001b[38;5;124m\"\u001b[39m\n\u001b[1;32m    527\u001b[0m         \u001b[38;5;124mf\u001b[39m\u001b[38;5;124m\"\u001b[39m\u001b[38;5;124mBelow are more details about the failures:\u001b[39m\u001b[38;5;130;01m\\n\u001b[39;00m\u001b[38;5;132;01m{\u001b[39;00mfit_errors_summary\u001b[38;5;132;01m}\u001b[39;00m\u001b[38;5;124m\"\u001b[39m\n\u001b[1;32m    528\u001b[0m     )\n\u001b[0;32m--> 529\u001b[0m     \u001b[38;5;28;01mraise\u001b[39;00m \u001b[38;5;167;01mValueError\u001b[39;00m(all_fits_failed_message)\n\u001b[1;32m    531\u001b[0m \u001b[38;5;28;01melse\u001b[39;00m:\n\u001b[1;32m    532\u001b[0m     some_fits_failed_message \u001b[38;5;241m=\u001b[39m (\n\u001b[1;32m    533\u001b[0m         \u001b[38;5;124mf\u001b[39m\u001b[38;5;124m\"\u001b[39m\u001b[38;5;130;01m\\n\u001b[39;00m\u001b[38;5;132;01m{\u001b[39;00mnum_failed_fits\u001b[38;5;132;01m}\u001b[39;00m\u001b[38;5;124m fits failed out of a total of \u001b[39m\u001b[38;5;132;01m{\u001b[39;00mnum_fits\u001b[38;5;132;01m}\u001b[39;00m\u001b[38;5;124m.\u001b[39m\u001b[38;5;130;01m\\n\u001b[39;00m\u001b[38;5;124m\"\u001b[39m\n\u001b[1;32m    534\u001b[0m         \u001b[38;5;124m\"\u001b[39m\u001b[38;5;124mThe score on these train-test partitions for these parameters\u001b[39m\u001b[38;5;124m\"\u001b[39m\n\u001b[0;32m   (...)\u001b[0m\n\u001b[1;32m    538\u001b[0m         \u001b[38;5;124mf\u001b[39m\u001b[38;5;124m\"\u001b[39m\u001b[38;5;124mBelow are more details about the failures:\u001b[39m\u001b[38;5;130;01m\\n\u001b[39;00m\u001b[38;5;132;01m{\u001b[39;00mfit_errors_summary\u001b[38;5;132;01m}\u001b[39;00m\u001b[38;5;124m\"\u001b[39m\n\u001b[1;32m    539\u001b[0m     )\n",
      "\u001b[0;31mValueError\u001b[0m: \nAll the 20 fits failed.\nIt is very likely that your model is misconfigured.\nYou can try to debug the error by setting error_score='raise'.\n\nBelow are more details about the failures:\n--------------------------------------------------------------------------------\n20 fits failed with the following error:\nTraceback (most recent call last):\n  File \"/opt/anaconda3/lib/python3.12/site-packages/sklearn/model_selection/_validation.py\", line 888, in _fit_and_score\n    estimator.fit(X_train, y_train, **fit_params)\n  File \"/opt/anaconda3/lib/python3.12/site-packages/sklearn/base.py\", line 1473, in wrapper\n    return fit_method(estimator, *args, **kwargs)\n           ^^^^^^^^^^^^^^^^^^^^^^^^^^^^^^^^^^^^^^\n  File \"/opt/anaconda3/lib/python3.12/site-packages/sklearn/pipeline.py\", line 469, in fit\n    Xt = self._fit(X, y, routed_params)\n         ^^^^^^^^^^^^^^^^^^^^^^^^^^^^^^\n  File \"/opt/anaconda3/lib/python3.12/site-packages/sklearn/pipeline.py\", line 406, in _fit\n    X, fitted_transformer = fit_transform_one_cached(\n                            ^^^^^^^^^^^^^^^^^^^^^^^^^\n  File \"/opt/anaconda3/lib/python3.12/site-packages/joblib/memory.py\", line 312, in __call__\n    return self.func(*args, **kwargs)\n           ^^^^^^^^^^^^^^^^^^^^^^^^^^\n  File \"/opt/anaconda3/lib/python3.12/site-packages/sklearn/pipeline.py\", line 1310, in _fit_transform_one\n    res = transformer.fit_transform(X, y, **params.get(\"fit_transform\", {}))\n          ^^^^^^^^^^^^^^^^^^^^^^^^^^^^^^^^^^^^^^^^^^^^^^^^^^^^^^^^^^^^^^^^^^\n  File \"/opt/anaconda3/lib/python3.12/site-packages/sklearn/utils/_set_output.py\", line 313, in wrapped\n    data_to_wrap = f(self, X, *args, **kwargs)\n                   ^^^^^^^^^^^^^^^^^^^^^^^^^^^\n  File \"/opt/anaconda3/lib/python3.12/site-packages/sklearn/base.py\", line 1101, in fit_transform\n    return self.fit(X, y, **fit_params).transform(X)\n           ^^^^^^^^^^^^^^^^^^^^^^^^^^^^\n  File \"/opt/anaconda3/lib/python3.12/site-packages/sklearn/preprocessing/_data.py\", line 878, in fit\n    return self.partial_fit(X, y, sample_weight)\n           ^^^^^^^^^^^^^^^^^^^^^^^^^^^^^^^^^^^^^\n  File \"/opt/anaconda3/lib/python3.12/site-packages/sklearn/base.py\", line 1473, in wrapper\n    return fit_method(estimator, *args, **kwargs)\n           ^^^^^^^^^^^^^^^^^^^^^^^^^^^^^^^^^^^^^^\n  File \"/opt/anaconda3/lib/python3.12/site-packages/sklearn/preprocessing/_data.py\", line 914, in partial_fit\n    X = self._validate_data(\n        ^^^^^^^^^^^^^^^^^^^^\n  File \"/opt/anaconda3/lib/python3.12/site-packages/sklearn/base.py\", line 633, in _validate_data\n    out = check_array(X, input_name=\"X\", **check_params)\n          ^^^^^^^^^^^^^^^^^^^^^^^^^^^^^^^^^^^^^^^^^^^^^^\n  File \"/opt/anaconda3/lib/python3.12/site-packages/sklearn/utils/validation.py\", line 1012, in check_array\n    array = _asarray_with_order(array, order=order, dtype=dtype, xp=xp)\n            ^^^^^^^^^^^^^^^^^^^^^^^^^^^^^^^^^^^^^^^^^^^^^^^^^^^^^^^^^^^\n  File \"/opt/anaconda3/lib/python3.12/site-packages/sklearn/utils/_array_api.py\", line 751, in _asarray_with_order\n    array = numpy.asarray(array, order=order, dtype=dtype)\n            ^^^^^^^^^^^^^^^^^^^^^^^^^^^^^^^^^^^^^^^^^^^^^^\nValueError: could not convert string to float: 'Marketing'\n"
     ]
    }
   ],
   "source": [
    "import pandas as pd\n",
    "from sklearn.pipeline import Pipeline\n",
    "from sklearn.model_selection import train_test_split, GridSearchCV\n",
    "from sklearn.preprocessing import StandardScaler\n",
    "from sklearn.neighbors import KNeighborsClassifier\n",
    "from sklearn.metrics import accuracy_score\n",
    "\n",
    "# Veri setini yükle\n",
    "df = pd.read_csv(\"data/Generated_Employee_Data.csv\")\n",
    "\n",
    "# Bağımsız ve bağımlı değişkenleri ayır\n",
    "X = df.drop('SatisfactionScore', axis=1).values\n",
    "y = df['SatisfactionScore'].values\n",
    "\n",
    "# Veri setini eğitim ve test olarak ayır\n",
    "X_train, X_test, y_train, y_test = train_test_split(X, y, test_size=0.2, random_state=42)\n",
    "\n",
    "# Pipeline adımları\n",
    "steps = [\n",
    "    ('scaler', StandardScaler()),  # Veriyi standartlaştır\n",
    "    ('knn', KNeighborsClassifier())  # KNN modeli\n",
    "]\n",
    "pipeline = Pipeline(steps)\n",
    "\n",
    "# Hiperparametre aralığı\n",
    "param_grid = {\n",
    "    'knn__n_neighbors': [3, 5, 7, 9]  # KNN için komşu sayısını ayarla\n",
    "}\n",
    "\n",
    "# GridSearchCV ile hiperparametre optimizasyonu\n",
    "grid_search = GridSearchCV(pipeline, param_grid, cv=5, scoring='accuracy')\n",
    "grid_search.fit(X_train, y_train)\n",
    "\n",
    "# Test setinde tahmin yap\n",
    "y_pred = grid_search.predict(X_test)\n",
    "\n",
    "# Performans ölçümü\n",
    "accuracy = accuracy_score(y_test, y_pred)\n",
    "print(\"En iyi parametreler:\", grid_search.best_params_)\n",
    "print(f\"Test seti doğruluğu: {accuracy:.2f}\")\n"
   ]
  },
  {
   "cell_type": "code",
   "execution_count": 192,
   "id": "ee315798-2540-4db4-b1bd-905de4ee6a65",
   "metadata": {},
   "outputs": [
    {
     "data": {
      "text/html": [
       "<div>\n",
       "<style scoped>\n",
       "    .dataframe tbody tr th:only-of-type {\n",
       "        vertical-align: middle;\n",
       "    }\n",
       "\n",
       "    .dataframe tbody tr th {\n",
       "        vertical-align: top;\n",
       "    }\n",
       "\n",
       "    .dataframe thead th {\n",
       "        text-align: right;\n",
       "    }\n",
       "</style>\n",
       "<table border=\"1\" class=\"dataframe\">\n",
       "  <thead>\n",
       "    <tr style=\"text-align: right;\">\n",
       "      <th></th>\n",
       "      <th>Bebek_ID</th>\n",
       "      <th>Yürüme_Yaşı</th>\n",
       "      <th>Doğum_Kilosu</th>\n",
       "      <th>Doğum_Ayı</th>\n",
       "      <th>Doğum_Yılı</th>\n",
       "      <th>Cinsiyet</th>\n",
       "      <th>Bebek_Kilosu_Bir_Yıl</th>\n",
       "    </tr>\n",
       "  </thead>\n",
       "  <tbody>\n",
       "    <tr>\n",
       "      <th>0</th>\n",
       "      <td>1</td>\n",
       "      <td>15</td>\n",
       "      <td>4262</td>\n",
       "      <td>Nisan</td>\n",
       "      <td>2020</td>\n",
       "      <td>Erkek</td>\n",
       "      <td>8559</td>\n",
       "    </tr>\n",
       "    <tr>\n",
       "      <th>1</th>\n",
       "      <td>2</td>\n",
       "      <td>12</td>\n",
       "      <td>3112</td>\n",
       "      <td>Aralık</td>\n",
       "      <td>2021</td>\n",
       "      <td>Kız</td>\n",
       "      <td>11672</td>\n",
       "    </tr>\n",
       "    <tr>\n",
       "      <th>2</th>\n",
       "      <td>3</td>\n",
       "      <td>16</td>\n",
       "      <td>4466</td>\n",
       "      <td>Temmuz</td>\n",
       "      <td>2021</td>\n",
       "      <td>Erkek</td>\n",
       "      <td>12583</td>\n",
       "    </tr>\n",
       "    <tr>\n",
       "      <th>3</th>\n",
       "      <td>4</td>\n",
       "      <td>13</td>\n",
       "      <td>3985</td>\n",
       "      <td>Şubat</td>\n",
       "      <td>2022</td>\n",
       "      <td>Kız</td>\n",
       "      <td>12992</td>\n",
       "    </tr>\n",
       "    <tr>\n",
       "      <th>4</th>\n",
       "      <td>5</td>\n",
       "      <td>15</td>\n",
       "      <td>3142</td>\n",
       "      <td>Mart</td>\n",
       "      <td>2021</td>\n",
       "      <td>Erkek</td>\n",
       "      <td>11343</td>\n",
       "    </tr>\n",
       "    <tr>\n",
       "      <th>...</th>\n",
       "      <td>...</td>\n",
       "      <td>...</td>\n",
       "      <td>...</td>\n",
       "      <td>...</td>\n",
       "      <td>...</td>\n",
       "      <td>...</td>\n",
       "      <td>...</td>\n",
       "    </tr>\n",
       "    <tr>\n",
       "      <th>95</th>\n",
       "      <td>96</td>\n",
       "      <td>11</td>\n",
       "      <td>4215</td>\n",
       "      <td>Ağustos</td>\n",
       "      <td>2022</td>\n",
       "      <td>Erkek</td>\n",
       "      <td>11146</td>\n",
       "    </tr>\n",
       "    <tr>\n",
       "      <th>96</th>\n",
       "      <td>97</td>\n",
       "      <td>16</td>\n",
       "      <td>3636</td>\n",
       "      <td>Ocak</td>\n",
       "      <td>2020</td>\n",
       "      <td>Kız</td>\n",
       "      <td>8412</td>\n",
       "    </tr>\n",
       "    <tr>\n",
       "      <th>97</th>\n",
       "      <td>98</td>\n",
       "      <td>14</td>\n",
       "      <td>4353</td>\n",
       "      <td>Ağustos</td>\n",
       "      <td>2021</td>\n",
       "      <td>Kız</td>\n",
       "      <td>8728</td>\n",
       "    </tr>\n",
       "    <tr>\n",
       "      <th>98</th>\n",
       "      <td>99</td>\n",
       "      <td>11</td>\n",
       "      <td>4020</td>\n",
       "      <td>Nisan</td>\n",
       "      <td>2022</td>\n",
       "      <td>Kız</td>\n",
       "      <td>11348</td>\n",
       "    </tr>\n",
       "    <tr>\n",
       "      <th>99</th>\n",
       "      <td>100</td>\n",
       "      <td>9</td>\n",
       "      <td>2941</td>\n",
       "      <td>Kasım</td>\n",
       "      <td>2021</td>\n",
       "      <td>Kız</td>\n",
       "      <td>10808</td>\n",
       "    </tr>\n",
       "  </tbody>\n",
       "</table>\n",
       "<p>100 rows × 7 columns</p>\n",
       "</div>"
      ],
      "text/plain": [
       "    Bebek_ID  Yürüme_Yaşı  Doğum_Kilosu Doğum_Ayı  Doğum_Yılı Cinsiyet  \\\n",
       "0          1           15          4262     Nisan        2020    Erkek   \n",
       "1          2           12          3112    Aralık        2021      Kız   \n",
       "2          3           16          4466    Temmuz        2021    Erkek   \n",
       "3          4           13          3985     Şubat        2022      Kız   \n",
       "4          5           15          3142      Mart        2021    Erkek   \n",
       "..       ...          ...           ...       ...         ...      ...   \n",
       "95        96           11          4215   Ağustos        2022    Erkek   \n",
       "96        97           16          3636      Ocak        2020      Kız   \n",
       "97        98           14          4353   Ağustos        2021      Kız   \n",
       "98        99           11          4020     Nisan        2022      Kız   \n",
       "99       100            9          2941     Kasım        2021      Kız   \n",
       "\n",
       "    Bebek_Kilosu_Bir_Yıl  \n",
       "0                   8559  \n",
       "1                  11672  \n",
       "2                  12583  \n",
       "3                  12992  \n",
       "4                  11343  \n",
       "..                   ...  \n",
       "95                 11146  \n",
       "96                  8412  \n",
       "97                  8728  \n",
       "98                 11348  \n",
       "99                 10808  \n",
       "\n",
       "[100 rows x 7 columns]"
      ]
     },
     "execution_count": 192,
     "metadata": {},
     "output_type": "execute_result"
    }
   ],
   "source": [
    "import pandas as pd\n",
    "df = pd.read_csv(\"data/Bebek_verileri.csv\")\n",
    "df"
   ]
  },
  {
   "cell_type": "code",
   "execution_count": 194,
   "id": "90e1d52c-42c7-4cb9-863a-c831673eeba6",
   "metadata": {},
   "outputs": [
    {
     "data": {
      "text/plain": [
       "13.32"
      ]
     },
     "execution_count": 194,
     "metadata": {},
     "output_type": "execute_result"
    }
   ],
   "source": [
    "#Bebeklerin yürüme yaşı, 12 ay olarak kabul edilen ortalamadan anlamlı bir şekilde farklı mı? (α = 0.05)\n",
    "#one t test\n",
    "import numpy as np\n",
    "from scipy.stats import t\n",
    "\n",
    "# Veriyi yüklediğini varsayıyorum\n",
    "# df = pd.read_csv('bebek_verisi.csv')  # Örnek veri yükleme\n",
    "\n",
    "alpha = 0.05\n",
    "x = df['Yürüme_Yaşı'].mean()  # Örneklem ortalaması\n",
    "m = 12  # Beklenen ortalama (12 ay)\n",
    "ss = np.std(df['Yürüme_Yaşı'], ddof=1)  # Standart sapma\n",
    "n = len(df)  # Örneklem büyüklüğü\n",
    "pay = x - m  # Fark\n",
    "payda = np.sqrt(ss**2 / n)  # Standart hata\n",
    "t_d = pay / payda  # t-istatistiği\n",
    "dof = n - 1  # Serbestlik derecesi\n",
    "\n",
    "# Çift kuyruklu test, yani 2 * (1 - cdf)\n",
    "p = 2 * (1 - t.cdf(np.abs(t_d), df=dof))\n",
    "\n",
    "print(\"t-istatistiği:\", t_d)\n",
    "print(\"p-değeri:\", p)\n",
    "\n",
    "# Hipotez testi\n",
    "if p < alpha:\n",
    "    print(\"H0 reddedilir, bebeklerin yürüme yaşı 12 aydan farklıdır.\")\n",
    "else:\n",
    "    print(\"H0 reddedilemez, bebeklerin yürüme yaşı 12 ayla aynıdır.\")\n"
   ]
  },
  {
   "cell_type": "code",
   "execution_count": 200,
   "id": "4e868531-5f2a-4533-9c8c-8b7b094bf9ea",
   "metadata": {},
   "outputs": [
    {
     "name": "stdout",
     "output_type": "stream",
     "text": [
      "t-istatistiği: 0.9687111162935251\n",
      "p-değeri: 0.33717358200616476\n",
      "H0 reddedilemez, yaz ve kış doğan bebeklerin doğum kilosu arasında anlamlı bir fark yoktur.\n"
     ]
    }
   ],
   "source": [
    "import numpy as np\n",
    "from scipy.stats import t\n",
    "\n",
    "# Yaz ve kış bebeklerini ayırıyoruz\n",
    "yaz_baby = df[df['Doğum_Ayı'].isin(['Haziran', 'Temmuz', 'Ağustos'])]\n",
    "kis_baby = df[df['Doğum_Ayı'].isin(['Aralık', 'Ocak', 'Şubat'])]\n",
    "\n",
    "# Yaz ve kış bebeklerinin doğum kilosu ortalama ve standart sapmaları\n",
    "x1 = yaz_baby['Doğum_Kilosu'].mean()\n",
    "x2 = kis_baby['Doğum_Kilosu'].mean()\n",
    "s1 = yaz_baby['Doğum_Kilosu'].std(ddof=1)\n",
    "s2 = kis_baby['Doğum_Kilosu'].std(ddof=1)\n",
    "n1 = yaz_baby['Doğum_Kilosu'].count()\n",
    "n2 = kis_baby['Doğum_Kilosu'].count()\n",
    "\n",
    "# t-istatistiği hesaplama\n",
    "pay = x1 - x2\n",
    "payda = np.sqrt((s1**2 / n1) + (s2**2 / n2))\n",
    "t_d = pay / payda\n",
    "\n",
    "# Serbestlik derecesi\n",
    "dof = n1 + n2 - 2\n",
    "\n",
    "# Çift kuyruklu test için p-değerini hesaplama\n",
    "p = 2 * (1 - t.cdf(np.abs(t_d), df=dof))\n",
    "\n",
    "# Sonuçları yazdırma\n",
    "print(\"t-istatistiği:\", t_d)\n",
    "print(\"p-değeri:\", p)\n",
    "\n",
    "# Hipotez testi\n",
    "if p < 0.05:\n",
    "    print(\"H0 reddedilir, yaz ve kış doğan bebeklerin doğum kilosu arasında anlamlı bir fark vardır.\")\n",
    "else:\n",
    "    print(\"H0 reddedilemez, yaz ve kış doğan bebeklerin doğum kilosu arasında anlamlı bir fark yoktur.\")\n"
   ]
  },
  {
   "cell_type": "code",
   "execution_count": 218,
   "id": "2d2324dc-f126-40c8-8fe4-68b98e542b83",
   "metadata": {},
   "outputs": [
    {
     "name": "stdout",
     "output_type": "stream",
     "text": [
      "H0 reddedilir.\n"
     ]
    }
   ],
   "source": [
    "# Verinize göre, 10 aydan önce yürümeye başlayan bebeklerin oranı %20'den farklı mı? (α = 0.05)\n",
    "# one sampl p\n",
    "x = (df['Yürüme_Yaşı'] < 10).mean()\n",
    "m = 0.2\n",
    "pay = x- m \n",
    "ss = np.std(df['Yürüme_Yaşı'], ddof=1)\n",
    "n = len(df)\n",
    "payda = np.sqrt(p0* (1 - p0) / n)\n",
    "z = pay/payda\n",
    "#çift kuyruk\n",
    "p = 2 * (1-norm.cdf(np.abs(t_d)))\n",
    "if p < 0.05:\n",
    "    print(\"H0 reddedilir.\")\n",
    "else:\n",
    "    print(\"H0 reddedilemez.\")\n",
    "       "
   ]
  },
  {
   "cell_type": "code",
   "execution_count": 220,
   "id": "d5d66c90-d4fa-464c-94b0-22f42a011e69",
   "metadata": {},
   "outputs": [
    {
     "name": "stdout",
     "output_type": "stream",
     "text": [
      "   Source  ddof1  ddof2         F     p-unc       np2\n",
      "0  Mevsim      3     96  3.018005  0.033608  0.086184\n",
      "H0 reddedilir, farklı mevsimlerde doğan bebeklerin yürüme yaşlarında anlamlı bir fark vardır.\n"
     ]
    },
    {
     "name": "stderr",
     "output_type": "stream",
     "text": [
      "/var/folders/zf/gnk755n14rj48wl97n0lv_0w0000gn/T/ipykernel_36422/3518355405.py:11: SettingWithCopyWarning: \n",
      "A value is trying to be set on a copy of a slice from a DataFrame.\n",
      "Try using .loc[row_indexer,col_indexer] = value instead\n",
      "\n",
      "See the caveats in the documentation: https://pandas.pydata.org/pandas-docs/stable/user_guide/indexing.html#returning-a-view-versus-a-copy\n",
      "  yaz_baby['Mevsim'] = 'Yaz'\n",
      "/var/folders/zf/gnk755n14rj48wl97n0lv_0w0000gn/T/ipykernel_36422/3518355405.py:12: SettingWithCopyWarning: \n",
      "A value is trying to be set on a copy of a slice from a DataFrame.\n",
      "Try using .loc[row_indexer,col_indexer] = value instead\n",
      "\n",
      "See the caveats in the documentation: https://pandas.pydata.org/pandas-docs/stable/user_guide/indexing.html#returning-a-view-versus-a-copy\n",
      "  kis_baby['Mevsim'] = 'Kış'\n",
      "/var/folders/zf/gnk755n14rj48wl97n0lv_0w0000gn/T/ipykernel_36422/3518355405.py:13: SettingWithCopyWarning: \n",
      "A value is trying to be set on a copy of a slice from a DataFrame.\n",
      "Try using .loc[row_indexer,col_indexer] = value instead\n",
      "\n",
      "See the caveats in the documentation: https://pandas.pydata.org/pandas-docs/stable/user_guide/indexing.html#returning-a-view-versus-a-copy\n",
      "  ilk_baby['Mevsim'] = 'İlkbahar'\n",
      "/var/folders/zf/gnk755n14rj48wl97n0lv_0w0000gn/T/ipykernel_36422/3518355405.py:14: SettingWithCopyWarning: \n",
      "A value is trying to be set on a copy of a slice from a DataFrame.\n",
      "Try using .loc[row_indexer,col_indexer] = value instead\n",
      "\n",
      "See the caveats in the documentation: https://pandas.pydata.org/pandas-docs/stable/user_guide/indexing.html#returning-a-view-versus-a-copy\n",
      "  son_baby['Mevsim'] = 'Sonbahar'\n"
     ]
    }
   ],
   "source": [
    "import pandas as pd\n",
    "import pingouin as pg\n",
    "\n",
    "# Mevsimlere göre gruplama\n",
    "yaz_baby = df[df['Doğum_Ayı'].isin(['Haziran', 'Temmuz', 'Ağustos'])]\n",
    "kis_baby = df[df['Doğum_Ayı'].isin(['Aralık', 'Ocak', 'Şubat'])]\n",
    "ilk_baby = df[df['Doğum_Ayı'].isin(['Mart', 'Nisan', 'Mayıs'])]\n",
    "son_baby = df[df['Doğum_Ayı'].isin(['Eylül', 'Ekim', 'Kasım'])]\n",
    "\n",
    "# Her grubun 'Mevsim' sütununu ekliyoruz\n",
    "yaz_baby['Mevsim'] = 'Yaz'\n",
    "kis_baby['Mevsim'] = 'Kış'\n",
    "ilk_baby['Mevsim'] = 'İlkbahar'\n",
    "son_baby['Mevsim'] = 'Sonbahar'\n",
    "\n",
    "# Verileri birleştiriyoruz\n",
    "merged_df = pd.concat([yaz_baby, kis_baby, ilk_baby, son_baby])\n",
    "\n",
    "# ANOVA testi\n",
    "anova_result = pg.anova(data=merged_df, dv='Yürüme_Yaşı', between='Mevsim')\n",
    "\n",
    "# Sonuçları yazdırma\n",
    "print(anova_result)\n",
    "\n",
    "# Hipotez testi\n",
    "if anova_result['p-unc'][0] < 0.05:\n",
    "    print(\"H0 reddedilir, farklı mevsimlerde doğan bebeklerin yürüme yaşlarında anlamlı bir fark vardır.\")\n",
    "else:\n",
    "    print(\"H0 reddedilemez, farklı mevsimlerde doğan bebeklerin yürüme yaşlarında anlamlı bir fark yoktur.\")\n"
   ]
  },
  {
   "cell_type": "code",
   "execution_count": 236,
   "id": "e8920136-5482-481e-8717-bbf273a30ca4",
   "metadata": {},
   "outputs": [
    {
     "name": "stdout",
     "output_type": "stream",
     "text": [
      "(Cinsiyet   Erkek   Kız\n",
      "Doğum_Ayı             \n",
      "Aralık      3.87  5.13\n",
      "Ağustos     3.44  4.56\n",
      "Ekim        1.72  2.28\n",
      "Eylül       3.01  3.99\n",
      "Haziran     3.01  3.99\n",
      "Kasım       3.87  5.13\n",
      "Mart        4.30  5.70\n",
      "Mayıs       2.58  3.42\n",
      "Nisan       4.30  5.70\n",
      "Ocak        5.59  7.41\n",
      "Temmuz      3.87  5.13\n",
      "Şubat       3.44  4.56, Cinsiyet   Erkek  Kız\n",
      "Doğum_Ayı            \n",
      "Aralık         4    5\n",
      "Ağustos        5    3\n",
      "Ekim           0    4\n",
      "Eylül          5    2\n",
      "Haziran        3    4\n",
      "Kasım          2    7\n",
      "Mart           5    5\n",
      "Mayıs          1    5\n",
      "Nisan          6    4\n",
      "Ocak           4    9\n",
      "Temmuz         4    5\n",
      "Şubat          4    4,                  test    lambda       chi2   dof      pval    cramer     power\n",
      "0             pearson  1.000000  12.197384  11.0  0.348991  0.349248  0.628587\n",
      "1        cressie-read  0.666667  12.518037  11.0  0.325989  0.353808  0.642840\n",
      "2      log-likelihood  0.000000  14.007602  11.0  0.232573  0.374267  0.704609\n",
      "3       freeman-tukey -0.500000        NaN  11.0       NaN       NaN       NaN\n",
      "4  mod-log-likelihood -1.000000        inf  11.0  0.000000       inf       NaN\n",
      "5              neyman -2.000000        NaN  11.0       NaN       NaN       NaN)\n"
     ]
    },
    {
     "name": "stderr",
     "output_type": "stream",
     "text": [
      "/opt/anaconda3/lib/python3.12/site-packages/pingouin/contingency.py:151: UserWarning: Low count on observed frequencies.\n",
      "  warnings.warn(f\"Low count on {name} frequencies.\")\n",
      "/opt/anaconda3/lib/python3.12/site-packages/pingouin/contingency.py:151: UserWarning: Low count on expected frequencies.\n",
      "  warnings.warn(f\"Low count on {name} frequencies.\")\n",
      "/opt/anaconda3/lib/python3.12/site-packages/scipy/stats/_stats_py.py:7994: RuntimeWarning: divide by zero encountered in power\n",
      "  terms = f_obs * ((f_obs / f_exp)**lambda_ - 1)\n",
      "/opt/anaconda3/lib/python3.12/site-packages/scipy/stats/_stats_py.py:7994: RuntimeWarning: invalid value encountered in multiply\n",
      "  terms = f_obs * ((f_obs / f_exp)**lambda_ - 1)\n",
      "/opt/anaconda3/lib/python3.12/site-packages/scipy/stats/_stats_py.py:7991: RuntimeWarning: divide by zero encountered in divide\n",
      "  terms = 2.0 * special.xlogy(f_exp, f_exp / f_obs)\n"
     ]
    },
    {
     "ename": "TypeError",
     "evalue": "tuple indices must be integers or slices, not str",
     "output_type": "error",
     "traceback": [
      "\u001b[0;31m---------------------------------------------------------------------------\u001b[0m",
      "\u001b[0;31mTypeError\u001b[0m                                 Traceback (most recent call last)",
      "Cell \u001b[0;32mIn[236], line 12\u001b[0m\n\u001b[1;32m      9\u001b[0m \u001b[38;5;28mprint\u001b[39m(chi2_result)\n\u001b[1;32m     11\u001b[0m \u001b[38;5;66;03m# Hipotez testi\u001b[39;00m\n\u001b[0;32m---> 12\u001b[0m \u001b[38;5;28;01mif\u001b[39;00m chi2_result[\u001b[38;5;124m'\u001b[39m\u001b[38;5;124mp-val\u001b[39m\u001b[38;5;124m'\u001b[39m][\u001b[38;5;241m0\u001b[39m] \u001b[38;5;241m<\u001b[39m \u001b[38;5;241m0.05\u001b[39m:\n\u001b[1;32m     13\u001b[0m     \u001b[38;5;28mprint\u001b[39m(\u001b[38;5;124m\"\u001b[39m\u001b[38;5;124mH0 reddedilir, bebeklerin cinsiyeti ile doğum ayları arasında ilişki vardır.\u001b[39m\u001b[38;5;124m\"\u001b[39m)\n\u001b[1;32m     14\u001b[0m \u001b[38;5;28;01melse\u001b[39;00m:\n",
      "\u001b[0;31mTypeError\u001b[0m: tuple indices must be integers or slices, not str"
     ]
    }
   ],
   "source": [
    "#Bebeklerin cinsiyeti ile doğum ayları arasında bir ilişki var mı? (α = 0.05) \n",
    "#x2ind\n",
    "import pingouin as pg\n",
    "\n",
    "# Ki-kare bağımsızlık testi\n",
    "chi2_result = pg.chi2_independence(data=df, x='Doğum_Ayı', y='Cinsiyet')\n",
    "\n",
    "# Sonuçları yazdırma\n",
    "print(chi2_result)\n",
    "\n",
    "# Hipotez testi\n",
    "if chi2_result['p-val'][0] < 0.05:\n",
    "    print(\"H0 reddedilir, bebeklerin cinsiyeti ile doğum ayları arasında ilişki vardır.\")\n",
    "else:\n",
    "    print(\"H0 reddedilemez, bebeklerin cinsiyeti ile doğum ayları arasında ilişki yoktur.\")\n"
   ]
  },
  {
   "cell_type": "markdown",
   "id": "10155ca8-df79-4d8f-ad83-b79b9242208f",
   "metadata": {},
   "source": [
    "Yürüme yaşı ile doğum kilosu arasında doğrusal bir ilişki var mı? Yürüme yaşını tahmin etmek için bir regresyon modeli oluşturun."
   ]
  },
  {
   "cell_type": "code",
   "execution_count": 239,
   "id": "12d3ae5b-85bf-4387-ad9b-b5dea0670ec5",
   "metadata": {},
   "outputs": [
    {
     "data": {
      "text/plain": [
       "array([3713.88987474, 3685.85438413, 3723.23503827, 3695.19954767,\n",
       "       3713.88987474, 3676.5092206 , 3713.88987474, 3723.23503827,\n",
       "       3695.19954767, 3685.85438413, 3723.23503827, 3723.23503827,\n",
       "       3676.5092206 , 3704.5447112 , 3695.19954767, 3667.16405706,\n",
       "       3723.23503827, 3704.5447112 , 3667.16405706, 3695.19954767,\n",
       "       3657.81889353, 3704.5447112 , 3732.58020181, 3657.81889353,\n",
       "       3676.5092206 , 3713.88987474, 3685.85438413, 3732.58020181,\n",
       "       3676.5092206 , 3695.19954767, 3676.5092206 , 3713.88987474,\n",
       "       3695.19954767, 3732.58020181, 3713.88987474, 3667.16405706,\n",
       "       3685.85438413, 3732.58020181, 3667.16405706, 3732.58020181,\n",
       "       3695.19954767, 3667.16405706, 3685.85438413, 3713.88987474,\n",
       "       3723.23503827, 3676.5092206 , 3657.81889353, 3685.85438413,\n",
       "       3667.16405706, 3723.23503827, 3685.85438413, 3667.16405706,\n",
       "       3704.5447112 , 3704.5447112 , 3685.85438413, 3704.5447112 ,\n",
       "       3667.16405706, 3667.16405706, 3685.85438413, 3723.23503827,\n",
       "       3713.88987474, 3732.58020181, 3723.23503827, 3695.19954767,\n",
       "       3667.16405706, 3695.19954767, 3723.23503827, 3732.58020181,\n",
       "       3732.58020181, 3657.81889353, 3732.58020181, 3713.88987474,\n",
       "       3732.58020181, 3723.23503827, 3657.81889353, 3723.23503827,\n",
       "       3723.23503827, 3676.5092206 , 3657.81889353, 3723.23503827,\n",
       "       3676.5092206 , 3676.5092206 , 3657.81889353, 3695.19954767,\n",
       "       3713.88987474, 3732.58020181, 3713.88987474, 3732.58020181,\n",
       "       3723.23503827, 3667.16405706, 3657.81889353, 3713.88987474,\n",
       "       3713.88987474, 3723.23503827, 3695.19954767, 3676.5092206 ,\n",
       "       3723.23503827, 3704.5447112 , 3676.5092206 , 3657.81889353])"
      ]
     },
     "execution_count": 239,
     "metadata": {},
     "output_type": "execute_result"
    }
   ],
   "source": [
    "from sklearn.linear_model import LinearRegression\n",
    "X = df['Yürüme_Yaşı'].values.reshape(-1,1)\n",
    "y = df['Doğum_Kilosu'].values\n",
    "\n",
    "model_reg = LinearRegression()\n",
    "model_reg.fit(X,y)\n",
    "y_pred = model_reg.predict(X)\n",
    "y_pred"
   ]
  },
  {
   "cell_type": "markdown",
   "id": "3ae9ee42-1d58-41cd-8191-53ad03bbe156",
   "metadata": {},
   "source": [
    "Bebeklerin cinsiyetini (erkek/kız) tahmin etmek için bir sınıflandırma modeli oluşturun. Modelin doğruluğunu değerlendirin."
   ]
  },
  {
   "cell_type": "code",
   "execution_count": 244,
   "id": "771adedc-74f1-4d3f-82d1-ef5201fb88a2",
   "metadata": {},
   "outputs": [
    {
     "name": "stdout",
     "output_type": "stream",
     "text": [
      "Model doğruluğu: 0.3\n"
     ]
    }
   ],
   "source": [
    "#bebeklerin cinsiyetini (erkek/kız) tahmin etmek için bir model oluşturun. Modelin doğruluğunu değerlendirip, cinsiyet tahmininde bulun.\n",
    "#logistic\n",
    "from sklearn.linear_model import LogisticRegression\n",
    "from sklearn.model_selection import train_test_split\n",
    "from sklearn.metrics import accuracy_score\n",
    "\n",
    "# Verileri hazırlıyoruz\n",
    "X = df[['Doğum_Kilosu', 'Yürüme_Yaşı']]  # Bağımsız değişkenler\n",
    "y = df['Cinsiyet']  # Bağımlı değişken (cinsiyet)\n",
    "\n",
    "# Eğitim ve test verilerine ayırma\n",
    "X_train, X_test, y_train, y_test = train_test_split(X, y, test_size=0.2, random_state=42)\n",
    "\n",
    "# Lojistik regresyon modeli oluşturma\n",
    "log_reg_model = LogisticRegression()\n",
    "log_reg_model.fit(X_train, y_train)\n",
    "\n",
    "# Tahmin yapma\n",
    "y_pred = log_reg_model.predict(X_test)\n",
    "\n",
    "# Modelin doğruluğunu değerlendirme\n",
    "accuracy = accuracy_score(y_test, y_pred)\n",
    "print(\"Model doğruluğu:\", accuracy)\n",
    "\n",
    "\n"
   ]
  },
  {
   "cell_type": "code",
   "execution_count": 265,
   "id": "9ee3cfb3-5d23-4514-9eb1-87d773addb10",
   "metadata": {},
   "outputs": [
    {
     "data": {
      "text/html": [
       "<div>\n",
       "<style scoped>\n",
       "    .dataframe tbody tr th:only-of-type {\n",
       "        vertical-align: middle;\n",
       "    }\n",
       "\n",
       "    .dataframe tbody tr th {\n",
       "        vertical-align: top;\n",
       "    }\n",
       "\n",
       "    .dataframe thead th {\n",
       "        text-align: right;\n",
       "    }\n",
       "</style>\n",
       "<table border=\"1\" class=\"dataframe\">\n",
       "  <thead>\n",
       "    <tr style=\"text-align: right;\">\n",
       "      <th></th>\n",
       "      <th>Age</th>\n",
       "      <th>Salary</th>\n",
       "      <th>Experience</th>\n",
       "      <th>Education</th>\n",
       "      <th>Satisfaction</th>\n",
       "    </tr>\n",
       "  </thead>\n",
       "  <tbody>\n",
       "    <tr>\n",
       "      <th>0</th>\n",
       "      <td>51</td>\n",
       "      <td>75296</td>\n",
       "      <td>10+ years</td>\n",
       "      <td>PhD</td>\n",
       "      <td>Very Dissatisfied</td>\n",
       "    </tr>\n",
       "    <tr>\n",
       "      <th>1</th>\n",
       "      <td>32</td>\n",
       "      <td>66430</td>\n",
       "      <td>6-10 years</td>\n",
       "      <td>Bachelor</td>\n",
       "      <td>Neutral</td>\n",
       "    </tr>\n",
       "    <tr>\n",
       "      <th>2</th>\n",
       "      <td>40</td>\n",
       "      <td>74444</td>\n",
       "      <td>3-5 years</td>\n",
       "      <td>PhD</td>\n",
       "      <td>Very Dissatisfied</td>\n",
       "    </tr>\n",
       "    <tr>\n",
       "      <th>3</th>\n",
       "      <td>40</td>\n",
       "      <td>34093</td>\n",
       "      <td>0-2 years</td>\n",
       "      <td>PhD</td>\n",
       "      <td>Satisfied</td>\n",
       "    </tr>\n",
       "    <tr>\n",
       "      <th>4</th>\n",
       "      <td>34</td>\n",
       "      <td>65947</td>\n",
       "      <td>0-2 years</td>\n",
       "      <td>PhD</td>\n",
       "      <td>Neutral</td>\n",
       "    </tr>\n",
       "    <tr>\n",
       "      <th>...</th>\n",
       "      <td>...</td>\n",
       "      <td>...</td>\n",
       "      <td>...</td>\n",
       "      <td>...</td>\n",
       "      <td>...</td>\n",
       "    </tr>\n",
       "    <tr>\n",
       "      <th>95</th>\n",
       "      <td>41</td>\n",
       "      <td>52275</td>\n",
       "      <td>3-5 years</td>\n",
       "      <td>Master</td>\n",
       "      <td>Dissatisfied</td>\n",
       "    </tr>\n",
       "    <tr>\n",
       "      <th>96</th>\n",
       "      <td>18</td>\n",
       "      <td>54844</td>\n",
       "      <td>0-2 years</td>\n",
       "      <td>Bachelor</td>\n",
       "      <td>Neutral</td>\n",
       "    </tr>\n",
       "    <tr>\n",
       "      <th>97</th>\n",
       "      <td>23</td>\n",
       "      <td>84388</td>\n",
       "      <td>6-10 years</td>\n",
       "      <td>PhD</td>\n",
       "      <td>Dissatisfied</td>\n",
       "    </tr>\n",
       "    <tr>\n",
       "      <th>98</th>\n",
       "      <td>38</td>\n",
       "      <td>70130</td>\n",
       "      <td>10+ years</td>\n",
       "      <td>High School</td>\n",
       "      <td>Very Dissatisfied</td>\n",
       "    </tr>\n",
       "    <tr>\n",
       "      <th>99</th>\n",
       "      <td>18</td>\n",
       "      <td>30615</td>\n",
       "      <td>3-5 years</td>\n",
       "      <td>PhD</td>\n",
       "      <td>Very Satisfied</td>\n",
       "    </tr>\n",
       "  </tbody>\n",
       "</table>\n",
       "<p>100 rows × 5 columns</p>\n",
       "</div>"
      ],
      "text/plain": [
       "    Age  Salary  Experience    Education       Satisfaction\n",
       "0    51   75296   10+ years          PhD  Very Dissatisfied\n",
       "1    32   66430  6-10 years     Bachelor            Neutral\n",
       "2    40   74444   3-5 years          PhD  Very Dissatisfied\n",
       "3    40   34093   0-2 years          PhD          Satisfied\n",
       "4    34   65947   0-2 years          PhD            Neutral\n",
       "..  ...     ...         ...          ...                ...\n",
       "95   41   52275   3-5 years       Master       Dissatisfied\n",
       "96   18   54844   0-2 years     Bachelor            Neutral\n",
       "97   23   84388  6-10 years          PhD       Dissatisfied\n",
       "98   38   70130   10+ years  High School  Very Dissatisfied\n",
       "99   18   30615   3-5 years          PhD     Very Satisfied\n",
       "\n",
       "[100 rows x 5 columns]"
      ]
     },
     "execution_count": 265,
     "metadata": {},
     "output_type": "execute_result"
    }
   ],
   "source": [
    "df"
   ]
  },
  {
   "cell_type": "code",
   "execution_count": 260,
   "id": "54cb8b58-4459-4741-b3e2-f222e695cef8",
   "metadata": {},
   "outputs": [
    {
     "name": "stdout",
     "output_type": "stream",
     "text": [
      "H0 reddedilir.\n"
     ]
    }
   ],
   "source": [
    "#\"Salary\" (Maaş) sütununda 40 yaş altı çalışanların maaş ortalamasının 50,000'den farklı olup olmadığını test edin.\n",
    "df = pd.read_csv(\"data/statistical_data.csv\")\n",
    "x = (df[df['Age'] < 40]['Salary']).mean()\n",
    "m = 50000\n",
    "s = (df[df['Age'] < 40]['Salary']).std(ddof=1)\n",
    "n = len(df)\n",
    "pay = x - m\n",
    "payda = np.sqrt(s**2/n)\n",
    "t_d = pay / payda\n",
    "dof = n-1\n",
    "#çift kuyruk testi\n",
    "p = 2 * (1-t.cdf(np.abs(t_d), df=dof))\n",
    "if p < 0.05:\n",
    "    print(\"H0 reddedilir.\")\n",
    "else:\n",
    "    print(\"H0 reddedilemez.\")\n"
   ]
  },
  {
   "cell_type": "code",
   "execution_count": 267,
   "id": "1754a4f0-f9c5-4065-bc4e-9e9f7cce95e5",
   "metadata": {},
   "outputs": [
    {
     "name": "stdout",
     "output_type": "stream",
     "text": [
      "H0 reddedilemez.\n"
     ]
    }
   ],
   "source": [
    "#Satisfaction\" (Memnuniyet) sütununda, \"Very Satisfied\" ve \"Dissatisfied\" gruplarının sayısal verilerle (örn. Salary) karşılaştırıldığında ortalamalarının eşit olup olmadığını test edin.\n",
    "x1 = (df[df['Satisfaction'] == 'Very Satisfied']['Salary']).mean()\n",
    "x2 =(df[df['Satisfaction'] == 'Dissatisfied']['Salary']).mean()\n",
    "s1 = (df[df['Satisfaction'] == 'Very Satisfied']['Salary']).std(ddof=1)\n",
    "s2 =(df[df['Satisfaction'] == 'Dissatisfied']['Salary']).std(ddof=1)\n",
    "n1 = (df[df['Satisfaction'] == 'Very Satisfied']['Salary']).count()\n",
    "n2 = (df[df['Satisfaction'] == 'Dissatisfied']['Salary']).count()\n",
    "pay = x1 - x2\n",
    "payda = np.sqrt((s1**2/n1) + (s2**2/n2))\n",
    "t_d = pay / payda\n",
    "dof = n1 + n2 - 2\n",
    "#çift kuyruk \n",
    "p = 2 * ( 1- t.cdf(np.abs(t_d), df=dof))\n",
    "if p < 0.05:\n",
    "    print(\"H0 reddedilir.\")\n",
    "else:\n",
    "    print(\"H0 reddedilemez.\")\n"
   ]
  },
  {
   "cell_type": "code",
   "execution_count": 303,
   "id": "a4a68ec6-c272-4b6d-aa27-e2c55e27e09a",
   "metadata": {},
   "outputs": [
    {
     "name": "stderr",
     "output_type": "stream",
     "text": [
      "/opt/anaconda3/lib/python3.12/site-packages/pingouin/contingency.py:151: UserWarning: Low count on observed frequencies.\n",
      "  warnings.warn(f\"Low count on {name} frequencies.\")\n",
      "/opt/anaconda3/lib/python3.12/site-packages/pingouin/contingency.py:151: UserWarning: Low count on expected frequencies.\n",
      "  warnings.warn(f\"Low count on {name} frequencies.\")\n",
      "/opt/anaconda3/lib/python3.12/site-packages/scipy/stats/_stats_py.py:7994: RuntimeWarning: divide by zero encountered in power\n",
      "  terms = f_obs * ((f_obs / f_exp)**lambda_ - 1)\n",
      "/opt/anaconda3/lib/python3.12/site-packages/scipy/stats/_stats_py.py:7994: RuntimeWarning: invalid value encountered in multiply\n",
      "  terms = f_obs * ((f_obs / f_exp)**lambda_ - 1)\n",
      "/opt/anaconda3/lib/python3.12/site-packages/scipy/stats/_stats_py.py:7991: RuntimeWarning: divide by zero encountered in divide\n",
      "  terms = 2.0 * special.xlogy(f_exp, f_exp / f_obs)\n"
     ]
    },
    {
     "ename": "ValueError",
     "evalue": "The truth value of a DataFrame is ambiguous. Use a.empty, a.bool(), a.item(), a.any() or a.all().",
     "output_type": "error",
     "traceback": [
      "\u001b[0;31m---------------------------------------------------------------------------\u001b[0m",
      "\u001b[0;31mValueError\u001b[0m                                Traceback (most recent call last)",
      "\u001b[0;32m/var/folders/zf/gnk755n14rj48wl97n0lv_0w0000gn/T/ipykernel_36422/2741901498.py\u001b[0m in \u001b[0;36m?\u001b[0;34m()\u001b[0m\n\u001b[1;32m      1\u001b[0m \u001b[0;31m#Age\" (Yaş) ve \"Salary\" (Maaş) arasındaki ilişkinin bağımsız olup olmadığını test etmek için Ki-Kare testi uygulayın.\u001b[0m\u001b[0;34m\u001b[0m\u001b[0;34m\u001b[0m\u001b[0m\n\u001b[1;32m      2\u001b[0m \u001b[0mchi2\u001b[0m \u001b[0;34m=\u001b[0m \u001b[0mpingouin\u001b[0m\u001b[0;34m.\u001b[0m\u001b[0mchi2_independence\u001b[0m\u001b[0;34m(\u001b[0m\u001b[0mdata\u001b[0m\u001b[0;34m=\u001b[0m\u001b[0mdf\u001b[0m\u001b[0;34m,\u001b[0m \u001b[0mx\u001b[0m\u001b[0;34m=\u001b[0m\u001b[0;34m'Age'\u001b[0m\u001b[0;34m,\u001b[0m \u001b[0my\u001b[0m\u001b[0;34m=\u001b[0m\u001b[0;34m'Salary'\u001b[0m\u001b[0;34m)\u001b[0m\u001b[0;34m\u001b[0m\u001b[0;34m\u001b[0m\u001b[0m\n\u001b[1;32m      3\u001b[0m \u001b[0mp\u001b[0m \u001b[0;34m=\u001b[0m \u001b[0mchi2\u001b[0m\u001b[0;34m[\u001b[0m\u001b[0;36m0\u001b[0m\u001b[0;34m]\u001b[0m\u001b[0;34m\u001b[0m\u001b[0;34m\u001b[0m\u001b[0m\n\u001b[0;32m----> 4\u001b[0;31m \u001b[0;32mif\u001b[0m \u001b[0mp\u001b[0m \u001b[0;34m<\u001b[0m \u001b[0;36m0.05\u001b[0m\u001b[0;34m:\u001b[0m\u001b[0;34m\u001b[0m\u001b[0;34m\u001b[0m\u001b[0m\n\u001b[0m\u001b[1;32m      5\u001b[0m     \u001b[0mprint\u001b[0m\u001b[0;34m(\u001b[0m\u001b[0;34m\"H0 reddedilir.\"\u001b[0m\u001b[0;34m)\u001b[0m\u001b[0;34m\u001b[0m\u001b[0;34m\u001b[0m\u001b[0m\n\u001b[1;32m      6\u001b[0m \u001b[0;32melse\u001b[0m\u001b[0;34m:\u001b[0m\u001b[0;34m\u001b[0m\u001b[0;34m\u001b[0m\u001b[0m\n\u001b[1;32m      7\u001b[0m     \u001b[0mprint\u001b[0m\u001b[0;34m(\u001b[0m\u001b[0;34m\"H0 reddedilemez.\"\u001b[0m\u001b[0;34m)\u001b[0m\u001b[0;34m\u001b[0m\u001b[0;34m\u001b[0m\u001b[0m\n",
      "\u001b[0;32m/opt/anaconda3/lib/python3.12/site-packages/pandas/core/generic.py\u001b[0m in \u001b[0;36m?\u001b[0;34m(self)\u001b[0m\n\u001b[1;32m   1575\u001b[0m     \u001b[0;34m@\u001b[0m\u001b[0mfinal\u001b[0m\u001b[0;34m\u001b[0m\u001b[0;34m\u001b[0m\u001b[0m\n\u001b[1;32m   1576\u001b[0m     \u001b[0;32mdef\u001b[0m \u001b[0m__nonzero__\u001b[0m\u001b[0;34m(\u001b[0m\u001b[0mself\u001b[0m\u001b[0;34m)\u001b[0m \u001b[0;34m->\u001b[0m \u001b[0mNoReturn\u001b[0m\u001b[0;34m:\u001b[0m\u001b[0;34m\u001b[0m\u001b[0;34m\u001b[0m\u001b[0m\n\u001b[0;32m-> 1577\u001b[0;31m         raise ValueError(\n\u001b[0m\u001b[1;32m   1578\u001b[0m             \u001b[0;34mf\"\u001b[0m\u001b[0;34mThe truth value of a \u001b[0m\u001b[0;34m{\u001b[0m\u001b[0mtype\u001b[0m\u001b[0;34m(\u001b[0m\u001b[0mself\u001b[0m\u001b[0;34m)\u001b[0m\u001b[0;34m.\u001b[0m\u001b[0m__name__\u001b[0m\u001b[0;34m}\u001b[0m\u001b[0;34m is ambiguous. \u001b[0m\u001b[0;34m\"\u001b[0m\u001b[0;34m\u001b[0m\u001b[0;34m\u001b[0m\u001b[0m\n\u001b[1;32m   1579\u001b[0m             \u001b[0;34m\"Use a.empty, a.bool(), a.item(), a.any() or a.all().\"\u001b[0m\u001b[0;34m\u001b[0m\u001b[0;34m\u001b[0m\u001b[0m\n\u001b[1;32m   1580\u001b[0m         \u001b[0;34m)\u001b[0m\u001b[0;34m\u001b[0m\u001b[0;34m\u001b[0m\u001b[0m\n",
      "\u001b[0;31mValueError\u001b[0m: The truth value of a DataFrame is ambiguous. Use a.empty, a.bool(), a.item(), a.any() or a.all()."
     ]
    }
   ],
   "source": [
    "#Age\" (Yaş) ve \"Salary\" (Maaş) arasındaki ilişkinin bağımsız olup olmadığını test etmek için Ki-Kare testi uygulayın.\n",
    "chi2 = pingouin.chi2_independence(data=df, x='Age', y='Salary')\n",
    "p = chi2[0]\n",
    "if p < 0.05:\n",
    "    print(\"H0 reddedilir.\")\n",
    "else:\n",
    "    print(\"H0 reddedilemez.\")"
   ]
  },
  {
   "cell_type": "code",
   "execution_count": 277,
   "id": "6bef2386-f570-4a8f-88d4-6536f11abb87",
   "metadata": {},
   "outputs": [
    {
     "data": {
      "text/html": [
       "<div>\n",
       "<style scoped>\n",
       "    .dataframe tbody tr th:only-of-type {\n",
       "        vertical-align: middle;\n",
       "    }\n",
       "\n",
       "    .dataframe tbody tr th {\n",
       "        vertical-align: top;\n",
       "    }\n",
       "\n",
       "    .dataframe thead th {\n",
       "        text-align: right;\n",
       "    }\n",
       "</style>\n",
       "<table border=\"1\" class=\"dataframe\">\n",
       "  <thead>\n",
       "    <tr style=\"text-align: right;\">\n",
       "      <th></th>\n",
       "      <th>Source</th>\n",
       "      <th>ddof1</th>\n",
       "      <th>ddof2</th>\n",
       "      <th>F</th>\n",
       "      <th>p-unc</th>\n",
       "      <th>np2</th>\n",
       "    </tr>\n",
       "  </thead>\n",
       "  <tbody>\n",
       "    <tr>\n",
       "      <th>0</th>\n",
       "      <td>Education</td>\n",
       "      <td>4</td>\n",
       "      <td>95</td>\n",
       "      <td>0.485595</td>\n",
       "      <td>0.746262</td>\n",
       "      <td>0.020036</td>\n",
       "    </tr>\n",
       "  </tbody>\n",
       "</table>\n",
       "</div>"
      ],
      "text/plain": [
       "      Source  ddof1  ddof2         F     p-unc       np2\n",
       "0  Education      4     95  0.485595  0.746262  0.020036"
      ]
     },
     "execution_count": 277,
     "metadata": {},
     "output_type": "execute_result"
    }
   ],
   "source": [
    "#\"Education\" (Eğitim) seviyeleri ile \"Salary\" (Maaş) arasındaki farkları test edin. H0: Tüm eğitim seviyelerinin maaşları eşittir.\n",
    "pingouin.anova(data=df, dv='Salary', between='Education')"
   ]
  },
  {
   "cell_type": "code",
   "execution_count": 279,
   "id": "50cb974e-8878-49ff-92c5-23d97520da4d",
   "metadata": {},
   "outputs": [
    {
     "data": {
      "text/plain": [
       "array([65933.88496958, 65283.08696009, 65557.10717461, 65557.10717461,\n",
       "       65351.59201372, 65077.57179919, 65385.84454053, 65865.37991595,\n",
       "       65248.83443327, 65009.06674556, 64906.30916512, 65968.13749639,\n",
       "       65351.59201372, 65385.84454053, 65591.35970142, 65351.59201372,\n",
       "       64906.30916512, 66139.40013047, 66139.40013047, 65968.13749639,\n",
       "       65591.35970142, 65762.6223355 , 65488.60212098, 65180.32937964,\n",
       "       65283.08696009, 65557.10717461, 66070.89507684, 65899.63244276,\n",
       "       66036.64255002, 65146.07685282, 65420.09706735, 66070.89507684,\n",
       "       65283.08696009, 65933.88496958, 65831.12738913, 66139.40013047,\n",
       "       65625.61222824, 65522.85464779, 65659.86475505, 64940.56169193,\n",
       "       65146.07685282, 66173.65265729, 64940.56169193, 64837.80411149,\n",
       "       65043.31927238, 65659.86475505, 65454.34959416, 64872.0566383 ,\n",
       "       65283.08696009, 65385.84454053, 65625.61222824, 65899.63244276,\n",
       "       65317.3394869 , 65865.37991595, 65659.86475505, 64837.80411149,\n",
       "       65694.11728187, 65933.88496958, 65557.10717461, 65762.6223355 ,\n",
       "       66105.14760365, 64803.55158467, 65625.61222824, 65796.87486232,\n",
       "       65077.57179919, 65557.10717461, 65899.63244276, 65591.35970142,\n",
       "       65077.57179919, 65317.3394869 , 65557.10717461, 65557.10717461,\n",
       "       64974.81421875, 65899.63244276, 65043.31927238, 66139.40013047,\n",
       "       65796.87486232, 64940.56169193, 65659.86475505, 65248.83443327,\n",
       "       65557.10717461, 65283.08696009, 65625.61222824, 65283.08696009,\n",
       "       65591.35970142, 65831.12738913, 65488.60212098, 65865.37991595,\n",
       "       65385.84454053, 65831.12738913, 65625.61222824, 64906.30916512,\n",
       "       65420.09706735, 65146.07685282, 65831.12738913, 65591.35970142,\n",
       "       64803.55158467, 64974.81421875, 65488.60212098, 64803.55158467])"
      ]
     },
     "execution_count": 279,
     "metadata": {},
     "output_type": "execute_result"
    }
   ],
   "source": [
    "#\"Salary\" (Maaş) verisini kullanarak çalışanların maaşlarını tahmin etmek için doğrusal regresyon modeli oluşturun.\n",
    "X = df['Age'].values.reshape(-1,1)\n",
    "y = df['Salary'].values\n",
    "\n",
    "model_l = LinearRegression()\n",
    "model_l.fit(X,y)\n",
    "y_pred = model_l.predict(X)\n",
    "y_pred"
   ]
  },
  {
   "cell_type": "code",
   "execution_count": null,
   "id": "ddd7c76a-39a8-4be8-876e-87c7f6a7d04e",
   "metadata": {},
   "outputs": [],
   "source": [
    "#\"Satisfaction\" (Memnuniyet) sütunu ile çalışanları \"High\" ve \"Low\" memnuniyet seviyelerine göre sınıflandıran bir sınıflandırma modeli oluşturun.\n",
    "df['Satisfaction_level'] = df[df['Satisfaction'] == 'Very Satisfied']"
   ]
  },
  {
   "cell_type": "code",
   "execution_count": 285,
   "id": "368d119f-dfe5-49bc-87ab-d79b750267fa",
   "metadata": {},
   "outputs": [
    {
     "data": {
      "text/plain": [
       "array(['Very Dissatisfied', 'Very Satisfied', 'Very Dissatisfied',\n",
       "       'Very Dissatisfied', 'Very Dissatisfied', 'Very Dissatisfied',\n",
       "       'Very Dissatisfied', 'Very Dissatisfied', 'Very Dissatisfied',\n",
       "       'Very Dissatisfied', 'Very Satisfied', 'Very Dissatisfied',\n",
       "       'Very Dissatisfied', 'Very Dissatisfied', 'Very Satisfied',\n",
       "       'Very Dissatisfied', 'Very Dissatisfied', 'Very Dissatisfied',\n",
       "       'Very Satisfied', 'Very Dissatisfied', 'Very Dissatisfied',\n",
       "       'Very Dissatisfied', 'Very Dissatisfied', 'Very Dissatisfied',\n",
       "       'Very Dissatisfied', 'Very Satisfied', 'Very Dissatisfied',\n",
       "       'Very Satisfied', 'Very Dissatisfied', 'Very Dissatisfied',\n",
       "       'Very Dissatisfied', 'Very Dissatisfied', 'Very Dissatisfied',\n",
       "       'Very Dissatisfied', 'Very Dissatisfied', 'Very Dissatisfied',\n",
       "       'Very Dissatisfied', 'Very Dissatisfied', 'Very Dissatisfied',\n",
       "       'Very Dissatisfied', 'Very Satisfied', 'Very Dissatisfied',\n",
       "       'Very Dissatisfied', 'Very Satisfied', 'Very Dissatisfied',\n",
       "       'Very Satisfied', 'Very Dissatisfied', 'Very Satisfied',\n",
       "       'Very Dissatisfied', 'Very Dissatisfied', 'Very Dissatisfied',\n",
       "       'Very Dissatisfied', 'Very Dissatisfied', 'Very Dissatisfied',\n",
       "       'Very Satisfied', 'Very Satisfied', 'Very Dissatisfied',\n",
       "       'Very Dissatisfied', 'Very Dissatisfied', 'Very Dissatisfied',\n",
       "       'Very Dissatisfied', 'Very Satisfied', 'Very Dissatisfied',\n",
       "       'Very Dissatisfied', 'Very Dissatisfied', 'Very Satisfied',\n",
       "       'Very Dissatisfied', 'Very Satisfied', 'Very Dissatisfied',\n",
       "       'Very Dissatisfied', 'Very Dissatisfied', 'Very Dissatisfied',\n",
       "       'Very Satisfied', 'Very Dissatisfied', 'Very Dissatisfied',\n",
       "       'Very Dissatisfied', 'Very Satisfied', 'Very Satisfied',\n",
       "       'Very Dissatisfied', 'Very Dissatisfied', 'Very Dissatisfied',\n",
       "       'Very Dissatisfied', 'Very Dissatisfied', 'Very Dissatisfied',\n",
       "       'Very Satisfied', 'Very Satisfied', 'Very Dissatisfied',\n",
       "       'Very Dissatisfied', 'Very Dissatisfied', 'Very Dissatisfied',\n",
       "       'Very Dissatisfied', 'Very Dissatisfied', 'Very Dissatisfied',\n",
       "       'Very Satisfied', 'Very Satisfied', 'Very Dissatisfied',\n",
       "       'Very Dissatisfied', 'Very Satisfied', 'Very Dissatisfied',\n",
       "       'Very Dissatisfied'], dtype=object)"
      ]
     },
     "execution_count": 285,
     "metadata": {},
     "output_type": "execute_result"
    }
   ],
   "source": [
    "#\"Experience\" (Deneyim) seviyelerini kullanarak, hangi deneme modelinin daha iyi sonuç verdiğini belirlemek için doğruluk ölçütü ile karşılaştırma yapın.\n",
    "X = df['Experience'].astype('category').cat.codes.values.reshape(-1,1)\n",
    "y = df['Satisfaction'].values\n",
    "\n",
    "model_l = LogisticRegression()\n",
    "model_l.fit(X,y)\n",
    "y_pred = model_l.predict(X)\n",
    "y_pred"
   ]
  },
  {
   "cell_type": "code",
   "execution_count": 291,
   "id": "1d8e74ec-21be-45ca-bc8d-9f21088ef97a",
   "metadata": {},
   "outputs": [
    {
     "data": {
      "text/plain": [
       "array([0.35294118, 0.29411765, 0.17647059, 0.05882353, 0.375     ,\n",
       "       0.25      ])"
      ]
     },
     "execution_count": 291,
     "metadata": {},
     "output_type": "execute_result"
    }
   ],
   "source": [
    "#\"Satisfaction\" (Memnuniyet) ile çalışanları sınıflandıran bir modelin doğruluğunu ölçmek için çapraz doğrulama yapın.\n",
    "from sklearn.model_selection import KFold, cross_val_score\n",
    "X = df['Experience'].astype('category').cat.codes.values.reshape(-1,1)\n",
    "y = df['Satisfaction'].values\n",
    "\n",
    "kf = KFold(n_splits=6, shuffle=True,random_state=42)\n",
    "model_l = LogisticRegression()\n",
    "cv = cross_val_score(model_l, X,y, cv=kf)\n",
    "cv"
   ]
  },
  {
   "cell_type": "code",
   "execution_count": 293,
   "id": "b97dde29-2a97-4f16-8a60-c970afa1cef1",
   "metadata": {},
   "outputs": [
    {
     "data": {
      "text/plain": [
       "0.6153260961413257"
      ]
     },
     "execution_count": 293,
     "metadata": {},
     "output_type": "execute_result"
    }
   ],
   "source": [
    "#Bir çalışanın maaşının 60,000'den fazla olma olasılığını hesaplayın.\n",
    "ort = (df['Salary']).mean()\n",
    "ss = np.std(df['Salary'], ddof=1)\n",
    "c = 1 - norm.cdf(60000, ort,ss)\n",
    "c"
   ]
  },
  {
   "cell_type": "code",
   "execution_count": 295,
   "id": "f8ed17df-781a-4536-a961-373ddaa2fbfa",
   "metadata": {},
   "outputs": [
    {
     "name": "stdout",
     "output_type": "stream",
     "text": [
      "3 rastgele çalışanın 40 yaş ve üstü olma olasılığı: 0.8894\n"
     ]
    }
   ],
   "source": [
    "#'Age\" (Yaş) verisinden rastgele seçilen 3 çalışanın 40 yaş ve üstü olma olasılığını hesaplayın.\n",
    "import pandas as pd\n",
    "import numpy as np\n",
    "from scipy.stats import binom\n",
    "\n",
    "# Veri yükleniyor\n",
    "df = pd.read_csv(\"data/statistical_data.csv\")\n",
    "\n",
    "# 40 yaş ve üstü çalışanların oranını hesaplama\n",
    "p_40_and_above = np.mean(df['Age'] >= 40)\n",
    "\n",
    "# 3 rastgele çalışanın 40 yaş ve üstü olma olasılığı\n",
    "n = 3  # Çalışan sayısı\n",
    "k = 1  # En az bir çalışanın 40 yaş ve üstü olması\n",
    "\n",
    "# Binom dağılımı kullanarak olasılığı hesaplama\n",
    "prob = 1 - binom.cdf(k-1, n, p_40_and_above)\n",
    "\n",
    "print(f\"3 rastgele çalışanın 40 yaş ve üstü olma olasılığı: {prob:.4f}\")\n"
   ]
  },
  {
   "cell_type": "code",
   "execution_count": 297,
   "id": "7541feb6-3de6-4287-b6ba-f937cd2b78d5",
   "metadata": {},
   "outputs": [
    {
     "data": {
      "text/plain": [
       "0.5764898186588567"
      ]
     },
     "execution_count": 297,
     "metadata": {},
     "output_type": "execute_result"
    }
   ],
   "source": [
    "#\"Salary\" (Maaş) verisinde 50,000 ile 80,000 arasında maaş alan bir çalışanın olma olasılığını hesaplayın.\n",
    "ort = (df['Salary']).mean()\n",
    "ss = np.std(df['Salary'], ddof=1)\n",
    "norm.cdf(80000, ort, ss) - norm.cdf(50000, ort,ss)\n"
   ]
  },
  {
   "cell_type": "code",
   "execution_count": 299,
   "id": "2d71dbc4-7d24-4ab7-bc11-e4570c1dca33",
   "metadata": {},
   "outputs": [
    {
     "name": "stdout",
     "output_type": "stream",
     "text": [
      "Bir çalışanın eğitim seviyesinin 'Bachelor' olma olasılığı: 0.1500\n"
     ]
    }
   ],
   "source": [
    "#Bir çalışanın \"Education\" (Eğitim) seviyesinin \"Bachelor\" olma olasılığını hesaplayın\n",
    "# \"Education\" seviyesinde \"Bachelor\" olma olasılığını hesaplama\n",
    "prob_bachelor = np.mean(df['Education'] == 'Bachelor')\n",
    "\n",
    "print(f\"Bir çalışanın eğitim seviyesinin 'Bachelor' olma olasılığı: {prob_bachelor:.4f}\")\n"
   ]
  },
  {
   "cell_type": "code",
   "execution_count": 301,
   "id": "c57cb641-7091-45ac-98ae-97988569bfac",
   "metadata": {},
   "outputs": [
    {
     "name": "stdout",
     "output_type": "stream",
     "text": [
      "Bir çalışanın 'Very Satisfied' olma olasılığı: 0.2300\n"
     ]
    }
   ],
   "source": [
    "# \"Satisfaction\" sütunundaki \"Very Satisfied\" olma olasılığını hesaplama\n",
    "prob_very_satisfied = np.mean(df['Satisfaction'] == 'Very Satisfied')\n",
    "\n",
    "print(f\"Bir çalışanın 'Very Satisfied' olma olasılığı: {prob_very_satisfied:.4f}\")\n"
   ]
  },
  {
   "cell_type": "code",
   "execution_count": 305,
   "id": "5888f4a5-20c7-4467-af62-f95859e73993",
   "metadata": {},
   "outputs": [
    {
     "data": {
      "text/html": [
       "<div>\n",
       "<style scoped>\n",
       "    .dataframe tbody tr th:only-of-type {\n",
       "        vertical-align: middle;\n",
       "    }\n",
       "\n",
       "    .dataframe tbody tr th {\n",
       "        vertical-align: top;\n",
       "    }\n",
       "\n",
       "    .dataframe thead th {\n",
       "        text-align: right;\n",
       "    }\n",
       "</style>\n",
       "<table border=\"1\" class=\"dataframe\">\n",
       "  <thead>\n",
       "    <tr style=\"text-align: right;\">\n",
       "      <th></th>\n",
       "      <th>EmployeeID</th>\n",
       "      <th>Department</th>\n",
       "      <th>MonthlySalary</th>\n",
       "      <th>HoursWorked</th>\n",
       "      <th>RemoteWork</th>\n",
       "      <th>SatisfactionScore</th>\n",
       "    </tr>\n",
       "  </thead>\n",
       "  <tbody>\n",
       "    <tr>\n",
       "      <th>0</th>\n",
       "      <td>1</td>\n",
       "      <td>Sales</td>\n",
       "      <td>5087.05</td>\n",
       "      <td>40.07</td>\n",
       "      <td>0</td>\n",
       "      <td>3</td>\n",
       "    </tr>\n",
       "    <tr>\n",
       "      <th>1</th>\n",
       "      <td>2</td>\n",
       "      <td>Marketing</td>\n",
       "      <td>4700.99</td>\n",
       "      <td>47.27</td>\n",
       "      <td>0</td>\n",
       "      <td>5</td>\n",
       "    </tr>\n",
       "    <tr>\n",
       "      <th>2</th>\n",
       "      <td>3</td>\n",
       "      <td>HR</td>\n",
       "      <td>5091.76</td>\n",
       "      <td>38.68</td>\n",
       "      <td>0</td>\n",
       "      <td>5</td>\n",
       "    </tr>\n",
       "    <tr>\n",
       "      <th>3</th>\n",
       "      <td>4</td>\n",
       "      <td>IT</td>\n",
       "      <td>3012.43</td>\n",
       "      <td>53.60</td>\n",
       "      <td>0</td>\n",
       "      <td>2</td>\n",
       "    </tr>\n",
       "    <tr>\n",
       "      <th>4</th>\n",
       "      <td>5</td>\n",
       "      <td>Sales</td>\n",
       "      <td>4780.33</td>\n",
       "      <td>43.13</td>\n",
       "      <td>1</td>\n",
       "      <td>4</td>\n",
       "    </tr>\n",
       "    <tr>\n",
       "      <th>...</th>\n",
       "      <td>...</td>\n",
       "      <td>...</td>\n",
       "      <td>...</td>\n",
       "      <td>...</td>\n",
       "      <td>...</td>\n",
       "      <td>...</td>\n",
       "    </tr>\n",
       "    <tr>\n",
       "      <th>95</th>\n",
       "      <td>96</td>\n",
       "      <td>IT</td>\n",
       "      <td>4184.19</td>\n",
       "      <td>32.82</td>\n",
       "      <td>0</td>\n",
       "      <td>2</td>\n",
       "    </tr>\n",
       "    <tr>\n",
       "      <th>96</th>\n",
       "      <td>97</td>\n",
       "      <td>IT</td>\n",
       "      <td>4922.90</td>\n",
       "      <td>45.82</td>\n",
       "      <td>1</td>\n",
       "      <td>1</td>\n",
       "    </tr>\n",
       "    <tr>\n",
       "      <th>97</th>\n",
       "      <td>98</td>\n",
       "      <td>IT</td>\n",
       "      <td>5341.15</td>\n",
       "      <td>40.05</td>\n",
       "      <td>0</td>\n",
       "      <td>3</td>\n",
       "    </tr>\n",
       "    <tr>\n",
       "      <th>98</th>\n",
       "      <td>99</td>\n",
       "      <td>Sales</td>\n",
       "      <td>5276.69</td>\n",
       "      <td>35.09</td>\n",
       "      <td>0</td>\n",
       "      <td>1</td>\n",
       "    </tr>\n",
       "    <tr>\n",
       "      <th>99</th>\n",
       "      <td>100</td>\n",
       "      <td>Sales</td>\n",
       "      <td>5827.18</td>\n",
       "      <td>42.31</td>\n",
       "      <td>1</td>\n",
       "      <td>5</td>\n",
       "    </tr>\n",
       "  </tbody>\n",
       "</table>\n",
       "<p>100 rows × 6 columns</p>\n",
       "</div>"
      ],
      "text/plain": [
       "    EmployeeID Department  MonthlySalary  HoursWorked  RemoteWork  \\\n",
       "0            1      Sales        5087.05        40.07           0   \n",
       "1            2  Marketing        4700.99        47.27           0   \n",
       "2            3         HR        5091.76        38.68           0   \n",
       "3            4         IT        3012.43        53.60           0   \n",
       "4            5      Sales        4780.33        43.13           1   \n",
       "..         ...        ...            ...          ...         ...   \n",
       "95          96         IT        4184.19        32.82           0   \n",
       "96          97         IT        4922.90        45.82           1   \n",
       "97          98         IT        5341.15        40.05           0   \n",
       "98          99      Sales        5276.69        35.09           0   \n",
       "99         100      Sales        5827.18        42.31           1   \n",
       "\n",
       "    SatisfactionScore  \n",
       "0                   3  \n",
       "1                   5  \n",
       "2                   5  \n",
       "3                   2  \n",
       "4                   4  \n",
       "..                ...  \n",
       "95                  2  \n",
       "96                  1  \n",
       "97                  3  \n",
       "98                  1  \n",
       "99                  5  \n",
       "\n",
       "[100 rows x 6 columns]"
      ]
     },
     "execution_count": 305,
     "metadata": {},
     "output_type": "execute_result"
    }
   ],
   "source": [
    "df = pd.read_csv(\"data/Generated_Employee_Data.csv\")\n",
    "df"
   ]
  },
  {
   "cell_type": "code",
   "execution_count": 319,
   "id": "2bfc0c51-e0fb-48eb-9f18-1b79292c8456",
   "metadata": {},
   "outputs": [
    {
     "name": "stdout",
     "output_type": "stream",
     "text": [
      "Doğruluk Skoru: 0.45\n",
      "\n",
      "Sınıflandırma Raporu:\n",
      "               precision    recall  f1-score   support\n",
      "\n",
      "         0.0       0.00      0.00      0.00         6\n",
      "         1.0       0.00      0.00      0.00         4\n",
      "         2.0       0.00      0.00      0.00         1\n",
      "         3.0       0.47      1.00      0.64         9\n",
      "\n",
      "    accuracy                           0.45        20\n",
      "   macro avg       0.12      0.25      0.16        20\n",
      "weighted avg       0.21      0.45      0.29        20\n",
      "\n"
     ]
    },
    {
     "name": "stderr",
     "output_type": "stream",
     "text": [
      "/opt/anaconda3/lib/python3.12/site-packages/sklearn/linear_model/_logistic.py:469: ConvergenceWarning: lbfgs failed to converge (status=1):\n",
      "STOP: TOTAL NO. of ITERATIONS REACHED LIMIT.\n",
      "\n",
      "Increase the number of iterations (max_iter) or scale the data as shown in:\n",
      "    https://scikit-learn.org/stable/modules/preprocessing.html\n",
      "Please also refer to the documentation for alternative solver options:\n",
      "    https://scikit-learn.org/stable/modules/linear_model.html#logistic-regression\n",
      "  n_iter_i = _check_optimize_result(\n",
      "/opt/anaconda3/lib/python3.12/site-packages/sklearn/metrics/_classification.py:1531: UndefinedMetricWarning: Precision is ill-defined and being set to 0.0 in labels with no predicted samples. Use `zero_division` parameter to control this behavior.\n",
      "  _warn_prf(average, modifier, f\"{metric.capitalize()} is\", len(result))\n",
      "/opt/anaconda3/lib/python3.12/site-packages/sklearn/metrics/_classification.py:1531: UndefinedMetricWarning: Precision is ill-defined and being set to 0.0 in labels with no predicted samples. Use `zero_division` parameter to control this behavior.\n",
      "  _warn_prf(average, modifier, f\"{metric.capitalize()} is\", len(result))\n",
      "/opt/anaconda3/lib/python3.12/site-packages/sklearn/metrics/_classification.py:1531: UndefinedMetricWarning: Precision is ill-defined and being set to 0.0 in labels with no predicted samples. Use `zero_division` parameter to control this behavior.\n",
      "  _warn_prf(average, modifier, f\"{metric.capitalize()} is\", len(result))\n"
     ]
    }
   ],
   "source": [
    "from sklearn.impute import SimpleImputer\n",
    "from sklearn.linear_model import LogisticRegression\n",
    "from sklearn.model_selection import train_test_split\n",
    "from sklearn.preprocessing import OrdinalEncoder\n",
    "from sklearn.metrics import accuracy_score, classification_report\n",
    "import pandas as pd\n",
    "\n",
    "# Veri yükleme\n",
    "df = pd.read_csv(\"data/Generated_Employee_Data.csv\")\n",
    "\n",
    "# Kategorik ve sayısal sütunları ayırma\n",
    "object_cols = list(df.select_dtypes(include='object').columns)  # Kategorik sütunlar\n",
    "X_cat = df[object_cols]\n",
    "X_nums = df.drop(object_cols, axis=1)  # Sayısal sütunlar\n",
    "\n",
    "# Kategorik sütunlardaki eksik değerleri doldurma\n",
    "cat_imputer = SimpleImputer(strategy='most_frequent')\n",
    "X_cat_imputed = pd.DataFrame(cat_imputer.fit_transform(X_cat), columns=X_cat.columns)\n",
    "\n",
    "# Sayısal sütunlardaki eksik değerleri doldurma\n",
    "num_imputer = SimpleImputer(strategy='mean')\n",
    "X_nums_imputed = pd.DataFrame(num_imputer.fit_transform(X_nums), columns=X_nums.columns)\n",
    "\n",
    "# Kategorik sütunları sayısal değerlere dönüştürme\n",
    "encoder = OrdinalEncoder()\n",
    "X_cat_encoded = pd.DataFrame(encoder.fit_transform(X_cat_imputed), columns=X_cat_imputed.columns)\n",
    "\n",
    "# Sayısal ve kategorik sütunları birleştirme\n",
    "X_cleaned = pd.concat([X_nums_imputed, X_cat_encoded], axis=1)\n",
    "\n",
    "# Bağımsız ve bağımlı değişkenleri ayırma\n",
    "X = X_cleaned.drop('Department', axis=1).values\n",
    "y = X_cleaned['Department'].values  # Kategorik bağımlı değişken\n",
    "\n",
    "# Veri setini eğitim ve test olarak ayırma\n",
    "X_train, X_test, y_train, y_test = train_test_split(X, y, test_size=0.2, random_state=42)\n",
    "\n",
    "# Logistic Regression Modeli\n",
    "model = LogisticRegression(max_iter=200)\n",
    "model.fit(X_train, y_train)\n",
    "\n",
    "# Tahminler\n",
    "y_pred = model.predict(X_test)\n",
    "\n",
    "# Performans Metrikleri\n",
    "print(\"Doğruluk Skoru:\", accuracy_score(y_test, y_pred))\n",
    "print(\"\\nSınıflandırma Raporu:\\n\", classification_report(y_test, y_pred))\n"
   ]
  },
  {
   "cell_type": "code",
   "execution_count": null,
   "id": "4b417eb7-c85b-43d4-92b3-e324b8b34cb9",
   "metadata": {},
   "outputs": [],
   "source": [
    "df_diabetes = pd.read_csv('data/diabetes_clean.csv')\n",
    "df_"
   ]
  }
 ],
 "metadata": {
  "kernelspec": {
   "display_name": "Python 3 (ipykernel)",
   "language": "python",
   "name": "python3"
  },
  "language_info": {
   "codemirror_mode": {
    "name": "ipython",
    "version": 3
   },
   "file_extension": ".py",
   "mimetype": "text/x-python",
   "name": "python",
   "nbconvert_exporter": "python",
   "pygments_lexer": "ipython3",
   "version": "3.12.4"
  }
 },
 "nbformat": 4,
 "nbformat_minor": 5
}
