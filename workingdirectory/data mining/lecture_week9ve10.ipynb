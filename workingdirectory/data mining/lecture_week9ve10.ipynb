{
 "cells": [
  {
   "cell_type": "code",
   "execution_count": 50,
   "id": "e6d85f9a-348d-4c8c-a7be-6856d2c1e174",
   "metadata": {
    "scrolled": true
   },
   "outputs": [
    {
     "data": {
      "text/html": [
       "<div>\n",
       "<style scoped>\n",
       "    .dataframe tbody tr th:only-of-type {\n",
       "        vertical-align: middle;\n",
       "    }\n",
       "\n",
       "    .dataframe tbody tr th {\n",
       "        vertical-align: top;\n",
       "    }\n",
       "\n",
       "    .dataframe thead th {\n",
       "        text-align: right;\n",
       "    }\n",
       "</style>\n",
       "<table border=\"1\" class=\"dataframe\">\n",
       "  <thead>\n",
       "    <tr style=\"text-align: right;\">\n",
       "      <th></th>\n",
       "      <th>total_cup_points</th>\n",
       "      <th>species</th>\n",
       "      <th>owner</th>\n",
       "      <th>country_of_origin</th>\n",
       "      <th>farm_name</th>\n",
       "      <th>lot_number</th>\n",
       "      <th>mill</th>\n",
       "      <th>ico_number</th>\n",
       "      <th>company</th>\n",
       "      <th>altitude</th>\n",
       "      <th>...</th>\n",
       "      <th>color</th>\n",
       "      <th>category_two_defects</th>\n",
       "      <th>expiration</th>\n",
       "      <th>certification_body</th>\n",
       "      <th>certification_address</th>\n",
       "      <th>certification_contact</th>\n",
       "      <th>unit_of_measurement</th>\n",
       "      <th>altitude_low_meters</th>\n",
       "      <th>altitude_high_meters</th>\n",
       "      <th>altitude_mean_meters</th>\n",
       "    </tr>\n",
       "  </thead>\n",
       "  <tbody>\n",
       "    <tr>\n",
       "      <th>0</th>\n",
       "      <td>90.58</td>\n",
       "      <td>Arabica</td>\n",
       "      <td>metad plc</td>\n",
       "      <td>Ethiopia</td>\n",
       "      <td>metad plc</td>\n",
       "      <td>None</td>\n",
       "      <td>metad plc</td>\n",
       "      <td>2014/2015</td>\n",
       "      <td>metad agricultural developmet plc</td>\n",
       "      <td>1950-2200</td>\n",
       "      <td>...</td>\n",
       "      <td>Green</td>\n",
       "      <td>0.0</td>\n",
       "      <td>April 3rd, 2016</td>\n",
       "      <td>METAD Agricultural Development plc</td>\n",
       "      <td>309fcf77415a3661ae83e027f7e5f05dad786e44</td>\n",
       "      <td>19fef5a731de2db57d16da10287413f5f99bc2dd</td>\n",
       "      <td>m</td>\n",
       "      <td>1950.0</td>\n",
       "      <td>2200.0</td>\n",
       "      <td>2075.0</td>\n",
       "    </tr>\n",
       "    <tr>\n",
       "      <th>1</th>\n",
       "      <td>89.92</td>\n",
       "      <td>Arabica</td>\n",
       "      <td>metad plc</td>\n",
       "      <td>Ethiopia</td>\n",
       "      <td>metad plc</td>\n",
       "      <td>None</td>\n",
       "      <td>metad plc</td>\n",
       "      <td>2014/2015</td>\n",
       "      <td>metad agricultural developmet plc</td>\n",
       "      <td>1950-2200</td>\n",
       "      <td>...</td>\n",
       "      <td>Green</td>\n",
       "      <td>1.0</td>\n",
       "      <td>April 3rd, 2016</td>\n",
       "      <td>METAD Agricultural Development plc</td>\n",
       "      <td>309fcf77415a3661ae83e027f7e5f05dad786e44</td>\n",
       "      <td>19fef5a731de2db57d16da10287413f5f99bc2dd</td>\n",
       "      <td>m</td>\n",
       "      <td>1950.0</td>\n",
       "      <td>2200.0</td>\n",
       "      <td>2075.0</td>\n",
       "    </tr>\n",
       "    <tr>\n",
       "      <th>2</th>\n",
       "      <td>89.75</td>\n",
       "      <td>Arabica</td>\n",
       "      <td>grounds for health admin</td>\n",
       "      <td>Guatemala</td>\n",
       "      <td>san marcos barrancas \"san cristobal cuch</td>\n",
       "      <td>None</td>\n",
       "      <td>None</td>\n",
       "      <td>None</td>\n",
       "      <td>None</td>\n",
       "      <td>1600 - 1800 m</td>\n",
       "      <td>...</td>\n",
       "      <td>None</td>\n",
       "      <td>0.0</td>\n",
       "      <td>May 31st, 2011</td>\n",
       "      <td>Specialty Coffee Association</td>\n",
       "      <td>36d0d00a3724338ba7937c52a378d085f2172daa</td>\n",
       "      <td>0878a7d4b9d35ddbf0fe2ce69a2062cceb45a660</td>\n",
       "      <td>m</td>\n",
       "      <td>1600.0</td>\n",
       "      <td>1800.0</td>\n",
       "      <td>1700.0</td>\n",
       "    </tr>\n",
       "    <tr>\n",
       "      <th>3</th>\n",
       "      <td>89.00</td>\n",
       "      <td>Arabica</td>\n",
       "      <td>yidnekachew dabessa</td>\n",
       "      <td>Ethiopia</td>\n",
       "      <td>yidnekachew dabessa coffee plantation</td>\n",
       "      <td>None</td>\n",
       "      <td>wolensu</td>\n",
       "      <td>None</td>\n",
       "      <td>yidnekachew debessa coffee plantation</td>\n",
       "      <td>1800-2200</td>\n",
       "      <td>...</td>\n",
       "      <td>Green</td>\n",
       "      <td>2.0</td>\n",
       "      <td>March 25th, 2016</td>\n",
       "      <td>METAD Agricultural Development plc</td>\n",
       "      <td>309fcf77415a3661ae83e027f7e5f05dad786e44</td>\n",
       "      <td>19fef5a731de2db57d16da10287413f5f99bc2dd</td>\n",
       "      <td>m</td>\n",
       "      <td>1800.0</td>\n",
       "      <td>2200.0</td>\n",
       "      <td>2000.0</td>\n",
       "    </tr>\n",
       "    <tr>\n",
       "      <th>4</th>\n",
       "      <td>88.83</td>\n",
       "      <td>Arabica</td>\n",
       "      <td>metad plc</td>\n",
       "      <td>Ethiopia</td>\n",
       "      <td>metad plc</td>\n",
       "      <td>None</td>\n",
       "      <td>metad plc</td>\n",
       "      <td>2014/2015</td>\n",
       "      <td>metad agricultural developmet plc</td>\n",
       "      <td>1950-2200</td>\n",
       "      <td>...</td>\n",
       "      <td>Green</td>\n",
       "      <td>2.0</td>\n",
       "      <td>April 3rd, 2016</td>\n",
       "      <td>METAD Agricultural Development plc</td>\n",
       "      <td>309fcf77415a3661ae83e027f7e5f05dad786e44</td>\n",
       "      <td>19fef5a731de2db57d16da10287413f5f99bc2dd</td>\n",
       "      <td>m</td>\n",
       "      <td>1950.0</td>\n",
       "      <td>2200.0</td>\n",
       "      <td>2075.0</td>\n",
       "    </tr>\n",
       "    <tr>\n",
       "      <th>...</th>\n",
       "      <td>...</td>\n",
       "      <td>...</td>\n",
       "      <td>...</td>\n",
       "      <td>...</td>\n",
       "      <td>...</td>\n",
       "      <td>...</td>\n",
       "      <td>...</td>\n",
       "      <td>...</td>\n",
       "      <td>...</td>\n",
       "      <td>...</td>\n",
       "      <td>...</td>\n",
       "      <td>...</td>\n",
       "      <td>...</td>\n",
       "      <td>...</td>\n",
       "      <td>...</td>\n",
       "      <td>...</td>\n",
       "      <td>...</td>\n",
       "      <td>...</td>\n",
       "      <td>...</td>\n",
       "      <td>...</td>\n",
       "      <td>...</td>\n",
       "    </tr>\n",
       "    <tr>\n",
       "      <th>1333</th>\n",
       "      <td>78.75</td>\n",
       "      <td>Robusta</td>\n",
       "      <td>luis robles</td>\n",
       "      <td>Ecuador</td>\n",
       "      <td>robustasa</td>\n",
       "      <td>Lavado 1</td>\n",
       "      <td>our own lab</td>\n",
       "      <td>None</td>\n",
       "      <td>robustasa</td>\n",
       "      <td>None</td>\n",
       "      <td>...</td>\n",
       "      <td>Blue-Green</td>\n",
       "      <td>1.0</td>\n",
       "      <td>January 18th, 2017</td>\n",
       "      <td>Specialty Coffee Association</td>\n",
       "      <td>ff7c18ad303d4b603ac3f8cff7e611ffc735e720</td>\n",
       "      <td>352d0cf7f3e9be14dad7df644ad65efc27605ae2</td>\n",
       "      <td>m</td>\n",
       "      <td>NaN</td>\n",
       "      <td>NaN</td>\n",
       "      <td>NaN</td>\n",
       "    </tr>\n",
       "    <tr>\n",
       "      <th>1334</th>\n",
       "      <td>78.08</td>\n",
       "      <td>Robusta</td>\n",
       "      <td>luis robles</td>\n",
       "      <td>Ecuador</td>\n",
       "      <td>robustasa</td>\n",
       "      <td>Lavado 3</td>\n",
       "      <td>own laboratory</td>\n",
       "      <td>None</td>\n",
       "      <td>robustasa</td>\n",
       "      <td>40</td>\n",
       "      <td>...</td>\n",
       "      <td>Blue-Green</td>\n",
       "      <td>0.0</td>\n",
       "      <td>January 18th, 2017</td>\n",
       "      <td>Specialty Coffee Association</td>\n",
       "      <td>ff7c18ad303d4b603ac3f8cff7e611ffc735e720</td>\n",
       "      <td>352d0cf7f3e9be14dad7df644ad65efc27605ae2</td>\n",
       "      <td>m</td>\n",
       "      <td>40.0</td>\n",
       "      <td>40.0</td>\n",
       "      <td>40.0</td>\n",
       "    </tr>\n",
       "    <tr>\n",
       "      <th>1335</th>\n",
       "      <td>77.17</td>\n",
       "      <td>Robusta</td>\n",
       "      <td>james moore</td>\n",
       "      <td>United States</td>\n",
       "      <td>fazenda cazengo</td>\n",
       "      <td>None</td>\n",
       "      <td>cafe cazengo</td>\n",
       "      <td>None</td>\n",
       "      <td>global opportunity fund</td>\n",
       "      <td>795 meters</td>\n",
       "      <td>...</td>\n",
       "      <td>None</td>\n",
       "      <td>6.0</td>\n",
       "      <td>December 23rd, 2015</td>\n",
       "      <td>Specialty Coffee Association</td>\n",
       "      <td>ff7c18ad303d4b603ac3f8cff7e611ffc735e720</td>\n",
       "      <td>352d0cf7f3e9be14dad7df644ad65efc27605ae2</td>\n",
       "      <td>m</td>\n",
       "      <td>795.0</td>\n",
       "      <td>795.0</td>\n",
       "      <td>795.0</td>\n",
       "    </tr>\n",
       "    <tr>\n",
       "      <th>1336</th>\n",
       "      <td>75.08</td>\n",
       "      <td>Robusta</td>\n",
       "      <td>cafe politico</td>\n",
       "      <td>India</td>\n",
       "      <td>None</td>\n",
       "      <td>None</td>\n",
       "      <td>None</td>\n",
       "      <td>14-1118-2014-0087</td>\n",
       "      <td>cafe politico</td>\n",
       "      <td>None</td>\n",
       "      <td>...</td>\n",
       "      <td>Green</td>\n",
       "      <td>1.0</td>\n",
       "      <td>August 25th, 2015</td>\n",
       "      <td>Specialty Coffee Association</td>\n",
       "      <td>ff7c18ad303d4b603ac3f8cff7e611ffc735e720</td>\n",
       "      <td>352d0cf7f3e9be14dad7df644ad65efc27605ae2</td>\n",
       "      <td>m</td>\n",
       "      <td>NaN</td>\n",
       "      <td>NaN</td>\n",
       "      <td>NaN</td>\n",
       "    </tr>\n",
       "    <tr>\n",
       "      <th>1337</th>\n",
       "      <td>73.75</td>\n",
       "      <td>Robusta</td>\n",
       "      <td>cafe politico</td>\n",
       "      <td>Vietnam</td>\n",
       "      <td>None</td>\n",
       "      <td>None</td>\n",
       "      <td>None</td>\n",
       "      <td>n/a</td>\n",
       "      <td>cafe politico</td>\n",
       "      <td>None</td>\n",
       "      <td>...</td>\n",
       "      <td>None</td>\n",
       "      <td>9.0</td>\n",
       "      <td>August 25th, 2015</td>\n",
       "      <td>Specialty Coffee Association</td>\n",
       "      <td>ff7c18ad303d4b603ac3f8cff7e611ffc735e720</td>\n",
       "      <td>352d0cf7f3e9be14dad7df644ad65efc27605ae2</td>\n",
       "      <td>m</td>\n",
       "      <td>NaN</td>\n",
       "      <td>NaN</td>\n",
       "      <td>NaN</td>\n",
       "    </tr>\n",
       "  </tbody>\n",
       "</table>\n",
       "<p>1338 rows × 43 columns</p>\n",
       "</div>"
      ],
      "text/plain": [
       "      total_cup_points  species                     owner country_of_origin  \\\n",
       "0                90.58  Arabica                 metad plc          Ethiopia   \n",
       "1                89.92  Arabica                 metad plc          Ethiopia   \n",
       "2                89.75  Arabica  grounds for health admin         Guatemala   \n",
       "3                89.00  Arabica       yidnekachew dabessa          Ethiopia   \n",
       "4                88.83  Arabica                 metad plc          Ethiopia   \n",
       "...                ...      ...                       ...               ...   \n",
       "1333             78.75  Robusta               luis robles           Ecuador   \n",
       "1334             78.08  Robusta               luis robles           Ecuador   \n",
       "1335             77.17  Robusta               james moore     United States   \n",
       "1336             75.08  Robusta             cafe politico             India   \n",
       "1337             73.75  Robusta             cafe politico           Vietnam   \n",
       "\n",
       "                                     farm_name lot_number            mill  \\\n",
       "0                                    metad plc       None       metad plc   \n",
       "1                                    metad plc       None       metad plc   \n",
       "2     san marcos barrancas \"san cristobal cuch       None            None   \n",
       "3        yidnekachew dabessa coffee plantation       None         wolensu   \n",
       "4                                    metad plc       None       metad plc   \n",
       "...                                        ...        ...             ...   \n",
       "1333                                 robustasa   Lavado 1     our own lab   \n",
       "1334                                 robustasa   Lavado 3  own laboratory   \n",
       "1335                           fazenda cazengo       None    cafe cazengo   \n",
       "1336                                      None       None            None   \n",
       "1337                                      None       None            None   \n",
       "\n",
       "             ico_number                                company       altitude  \\\n",
       "0             2014/2015      metad agricultural developmet plc      1950-2200   \n",
       "1             2014/2015      metad agricultural developmet plc      1950-2200   \n",
       "2                  None                                   None  1600 - 1800 m   \n",
       "3                  None  yidnekachew debessa coffee plantation      1800-2200   \n",
       "4             2014/2015      metad agricultural developmet plc      1950-2200   \n",
       "...                 ...                                    ...            ...   \n",
       "1333               None                              robustasa           None   \n",
       "1334               None                              robustasa             40   \n",
       "1335               None                global opportunity fund     795 meters   \n",
       "1336  14-1118-2014-0087                          cafe politico           None   \n",
       "1337                n/a                          cafe politico           None   \n",
       "\n",
       "      ...       color category_two_defects           expiration  \\\n",
       "0     ...       Green                  0.0      April 3rd, 2016   \n",
       "1     ...       Green                  1.0      April 3rd, 2016   \n",
       "2     ...        None                  0.0       May 31st, 2011   \n",
       "3     ...       Green                  2.0     March 25th, 2016   \n",
       "4     ...       Green                  2.0      April 3rd, 2016   \n",
       "...   ...         ...                  ...                  ...   \n",
       "1333  ...  Blue-Green                  1.0   January 18th, 2017   \n",
       "1334  ...  Blue-Green                  0.0   January 18th, 2017   \n",
       "1335  ...        None                  6.0  December 23rd, 2015   \n",
       "1336  ...       Green                  1.0    August 25th, 2015   \n",
       "1337  ...        None                  9.0    August 25th, 2015   \n",
       "\n",
       "                      certification_body  \\\n",
       "0     METAD Agricultural Development plc   \n",
       "1     METAD Agricultural Development plc   \n",
       "2           Specialty Coffee Association   \n",
       "3     METAD Agricultural Development plc   \n",
       "4     METAD Agricultural Development plc   \n",
       "...                                  ...   \n",
       "1333        Specialty Coffee Association   \n",
       "1334        Specialty Coffee Association   \n",
       "1335        Specialty Coffee Association   \n",
       "1336        Specialty Coffee Association   \n",
       "1337        Specialty Coffee Association   \n",
       "\n",
       "                         certification_address  \\\n",
       "0     309fcf77415a3661ae83e027f7e5f05dad786e44   \n",
       "1     309fcf77415a3661ae83e027f7e5f05dad786e44   \n",
       "2     36d0d00a3724338ba7937c52a378d085f2172daa   \n",
       "3     309fcf77415a3661ae83e027f7e5f05dad786e44   \n",
       "4     309fcf77415a3661ae83e027f7e5f05dad786e44   \n",
       "...                                        ...   \n",
       "1333  ff7c18ad303d4b603ac3f8cff7e611ffc735e720   \n",
       "1334  ff7c18ad303d4b603ac3f8cff7e611ffc735e720   \n",
       "1335  ff7c18ad303d4b603ac3f8cff7e611ffc735e720   \n",
       "1336  ff7c18ad303d4b603ac3f8cff7e611ffc735e720   \n",
       "1337  ff7c18ad303d4b603ac3f8cff7e611ffc735e720   \n",
       "\n",
       "                         certification_contact unit_of_measurement  \\\n",
       "0     19fef5a731de2db57d16da10287413f5f99bc2dd                   m   \n",
       "1     19fef5a731de2db57d16da10287413f5f99bc2dd                   m   \n",
       "2     0878a7d4b9d35ddbf0fe2ce69a2062cceb45a660                   m   \n",
       "3     19fef5a731de2db57d16da10287413f5f99bc2dd                   m   \n",
       "4     19fef5a731de2db57d16da10287413f5f99bc2dd                   m   \n",
       "...                                        ...                 ...   \n",
       "1333  352d0cf7f3e9be14dad7df644ad65efc27605ae2                   m   \n",
       "1334  352d0cf7f3e9be14dad7df644ad65efc27605ae2                   m   \n",
       "1335  352d0cf7f3e9be14dad7df644ad65efc27605ae2                   m   \n",
       "1336  352d0cf7f3e9be14dad7df644ad65efc27605ae2                   m   \n",
       "1337  352d0cf7f3e9be14dad7df644ad65efc27605ae2                   m   \n",
       "\n",
       "     altitude_low_meters altitude_high_meters altitude_mean_meters  \n",
       "0                 1950.0               2200.0               2075.0  \n",
       "1                 1950.0               2200.0               2075.0  \n",
       "2                 1600.0               1800.0               1700.0  \n",
       "3                 1800.0               2200.0               2000.0  \n",
       "4                 1950.0               2200.0               2075.0  \n",
       "...                  ...                  ...                  ...  \n",
       "1333                 NaN                  NaN                  NaN  \n",
       "1334                40.0                 40.0                 40.0  \n",
       "1335               795.0                795.0                795.0  \n",
       "1336                 NaN                  NaN                  NaN  \n",
       "1337                 NaN                  NaN                  NaN  \n",
       "\n",
       "[1338 rows x 43 columns]"
      ]
     },
     "execution_count": 50,
     "metadata": {},
     "output_type": "execute_result"
    }
   ],
   "source": [
    "import pandas as pd\n",
    "\n",
    "df_coffee = pd.read_feather('data/coffee_ratings_full.feather')\n",
    "df_coffee\n"
   ]
  },
  {
   "cell_type": "code",
   "execution_count": 52,
   "id": "2df5673c-22dd-4fad-b52a-64d37091006d",
   "metadata": {},
   "outputs": [
    {
     "data": {
      "text/html": [
       "<div>\n",
       "<style scoped>\n",
       "    .dataframe tbody tr th:only-of-type {\n",
       "        vertical-align: middle;\n",
       "    }\n",
       "\n",
       "    .dataframe tbody tr th {\n",
       "        vertical-align: top;\n",
       "    }\n",
       "\n",
       "    .dataframe thead th {\n",
       "        text-align: right;\n",
       "    }\n",
       "</style>\n",
       "<table border=\"1\" class=\"dataframe\">\n",
       "  <thead>\n",
       "    <tr style=\"text-align: right;\">\n",
       "      <th></th>\n",
       "      <th>index</th>\n",
       "      <th>variety</th>\n",
       "      <th>country_of_origin</th>\n",
       "      <th>flavor</th>\n",
       "    </tr>\n",
       "  </thead>\n",
       "  <tbody>\n",
       "    <tr>\n",
       "      <th>0</th>\n",
       "      <td>0</td>\n",
       "      <td>None</td>\n",
       "      <td>Ethiopia</td>\n",
       "      <td>8.83</td>\n",
       "    </tr>\n",
       "    <tr>\n",
       "      <th>1</th>\n",
       "      <td>1</td>\n",
       "      <td>Other</td>\n",
       "      <td>Ethiopia</td>\n",
       "      <td>8.67</td>\n",
       "    </tr>\n",
       "    <tr>\n",
       "      <th>2</th>\n",
       "      <td>2</td>\n",
       "      <td>Bourbon</td>\n",
       "      <td>Guatemala</td>\n",
       "      <td>8.50</td>\n",
       "    </tr>\n",
       "    <tr>\n",
       "      <th>3</th>\n",
       "      <td>3</td>\n",
       "      <td>None</td>\n",
       "      <td>Ethiopia</td>\n",
       "      <td>8.58</td>\n",
       "    </tr>\n",
       "    <tr>\n",
       "      <th>4</th>\n",
       "      <td>4</td>\n",
       "      <td>Other</td>\n",
       "      <td>Ethiopia</td>\n",
       "      <td>8.50</td>\n",
       "    </tr>\n",
       "    <tr>\n",
       "      <th>...</th>\n",
       "      <td>...</td>\n",
       "      <td>...</td>\n",
       "      <td>...</td>\n",
       "      <td>...</td>\n",
       "    </tr>\n",
       "    <tr>\n",
       "      <th>1333</th>\n",
       "      <td>1333</td>\n",
       "      <td>None</td>\n",
       "      <td>Ecuador</td>\n",
       "      <td>7.58</td>\n",
       "    </tr>\n",
       "    <tr>\n",
       "      <th>1334</th>\n",
       "      <td>1334</td>\n",
       "      <td>None</td>\n",
       "      <td>Ecuador</td>\n",
       "      <td>7.67</td>\n",
       "    </tr>\n",
       "    <tr>\n",
       "      <th>1335</th>\n",
       "      <td>1335</td>\n",
       "      <td>None</td>\n",
       "      <td>United States</td>\n",
       "      <td>7.33</td>\n",
       "    </tr>\n",
       "    <tr>\n",
       "      <th>1336</th>\n",
       "      <td>1336</td>\n",
       "      <td>None</td>\n",
       "      <td>India</td>\n",
       "      <td>6.83</td>\n",
       "    </tr>\n",
       "    <tr>\n",
       "      <th>1337</th>\n",
       "      <td>1337</td>\n",
       "      <td>None</td>\n",
       "      <td>Vietnam</td>\n",
       "      <td>6.67</td>\n",
       "    </tr>\n",
       "  </tbody>\n",
       "</table>\n",
       "<p>1338 rows × 4 columns</p>\n",
       "</div>"
      ],
      "text/plain": [
       "      index  variety country_of_origin  flavor\n",
       "0         0     None          Ethiopia    8.83\n",
       "1         1    Other          Ethiopia    8.67\n",
       "2         2  Bourbon         Guatemala    8.50\n",
       "3         3     None          Ethiopia    8.58\n",
       "4         4    Other          Ethiopia    8.50\n",
       "...     ...      ...               ...     ...\n",
       "1333   1333     None           Ecuador    7.58\n",
       "1334   1334     None           Ecuador    7.67\n",
       "1335   1335     None     United States    7.33\n",
       "1336   1336     None             India    6.83\n",
       "1337   1337     None           Vietnam    6.67\n",
       "\n",
       "[1338 rows x 4 columns]"
      ]
     },
     "execution_count": 52,
     "metadata": {},
     "output_type": "execute_result"
    }
   ],
   "source": [
    "coffee_focus = df_coffee[['variety','country_of_origin','flavor']]\n",
    "coffee_focus = coffee_focus.reset_index() #reset_index() fonksiyonu, satırların eski indeksini sıfırlar ve bu indeks yeni bir sütun olarak 'index' adıyla eklenir. Yani, eski indeks değerleri coffee_focus DataFrame'inde index adlı bir sütun olarak bulunur.\n",
    "coffee_focus"
   ]
  },
  {
   "cell_type": "code",
   "execution_count": 54,
   "id": "c388afaa-a71b-431f-9cfd-51078b04e2af",
   "metadata": {},
   "outputs": [
    {
     "data": {
      "text/html": [
       "<div>\n",
       "<style scoped>\n",
       "    .dataframe tbody tr th:only-of-type {\n",
       "        vertical-align: middle;\n",
       "    }\n",
       "\n",
       "    .dataframe tbody tr th {\n",
       "        vertical-align: top;\n",
       "    }\n",
       "\n",
       "    .dataframe thead th {\n",
       "        text-align: right;\n",
       "    }\n",
       "</style>\n",
       "<table border=\"1\" class=\"dataframe\">\n",
       "  <thead>\n",
       "    <tr style=\"text-align: right;\">\n",
       "      <th></th>\n",
       "      <th>index</th>\n",
       "      <th>variety</th>\n",
       "      <th>country_of_origin</th>\n",
       "      <th>flavor</th>\n",
       "    </tr>\n",
       "  </thead>\n",
       "  <tbody>\n",
       "    <tr>\n",
       "      <th>1263</th>\n",
       "      <td>1263</td>\n",
       "      <td>Typica</td>\n",
       "      <td>Mexico</td>\n",
       "      <td>6.58</td>\n",
       "    </tr>\n",
       "    <tr>\n",
       "      <th>376</th>\n",
       "      <td>376</td>\n",
       "      <td>Bourbon</td>\n",
       "      <td>Guatemala</td>\n",
       "      <td>7.75</td>\n",
       "    </tr>\n",
       "    <tr>\n",
       "      <th>520</th>\n",
       "      <td>520</td>\n",
       "      <td>Bourbon</td>\n",
       "      <td>Mexico</td>\n",
       "      <td>7.67</td>\n",
       "    </tr>\n",
       "    <tr>\n",
       "      <th>1042</th>\n",
       "      <td>1042</td>\n",
       "      <td>Caturra</td>\n",
       "      <td>Panama</td>\n",
       "      <td>7.33</td>\n",
       "    </tr>\n",
       "    <tr>\n",
       "      <th>422</th>\n",
       "      <td>422</td>\n",
       "      <td>Caturra</td>\n",
       "      <td>Colombia</td>\n",
       "      <td>7.67</td>\n",
       "    </tr>\n",
       "    <tr>\n",
       "      <th>...</th>\n",
       "      <td>...</td>\n",
       "      <td>...</td>\n",
       "      <td>...</td>\n",
       "      <td>...</td>\n",
       "    </tr>\n",
       "    <tr>\n",
       "      <th>53</th>\n",
       "      <td>53</td>\n",
       "      <td>SL14</td>\n",
       "      <td>Uganda</td>\n",
       "      <td>8.17</td>\n",
       "    </tr>\n",
       "    <tr>\n",
       "      <th>627</th>\n",
       "      <td>627</td>\n",
       "      <td>Typica</td>\n",
       "      <td>Mexico</td>\n",
       "      <td>7.58</td>\n",
       "    </tr>\n",
       "    <tr>\n",
       "      <th>199</th>\n",
       "      <td>199</td>\n",
       "      <td>Other</td>\n",
       "      <td>Colombia</td>\n",
       "      <td>7.75</td>\n",
       "    </tr>\n",
       "    <tr>\n",
       "      <th>267</th>\n",
       "      <td>267</td>\n",
       "      <td>None</td>\n",
       "      <td>Colombia</td>\n",
       "      <td>7.75</td>\n",
       "    </tr>\n",
       "    <tr>\n",
       "      <th>1167</th>\n",
       "      <td>1167</td>\n",
       "      <td>None</td>\n",
       "      <td>Colombia</td>\n",
       "      <td>7.17</td>\n",
       "    </tr>\n",
       "  </tbody>\n",
       "</table>\n",
       "<p>1338 rows × 4 columns</p>\n",
       "</div>"
      ],
      "text/plain": [
       "      index  variety country_of_origin  flavor\n",
       "1263   1263   Typica            Mexico    6.58\n",
       "376     376  Bourbon         Guatemala    7.75\n",
       "520     520  Bourbon            Mexico    7.67\n",
       "1042   1042  Caturra            Panama    7.33\n",
       "422     422  Caturra          Colombia    7.67\n",
       "...     ...      ...               ...     ...\n",
       "53       53     SL14            Uganda    8.17\n",
       "627     627   Typica            Mexico    7.58\n",
       "199     199    Other          Colombia    7.75\n",
       "267     267     None          Colombia    7.75\n",
       "1167   1167     None          Colombia    7.17\n",
       "\n",
       "[1338 rows x 4 columns]"
      ]
     },
     "execution_count": 54,
     "metadata": {},
     "output_type": "execute_result"
    }
   ],
   "source": [
    "coffee_resamp = coffee_focus.sample(frac=1, replace=True)\n",
    "coffee_resamp"
   ]
  },
  {
   "cell_type": "code",
   "execution_count": 56,
   "id": "8169836d-fc0e-4b05-9f11-3af794025fe0",
   "metadata": {},
   "outputs": [
    {
     "data": {
      "text/plain": [
       "index\n",
       "0       1\n",
       "898     1\n",
       "896     1\n",
       "895     1\n",
       "894     1\n",
       "       ..\n",
       "445     1\n",
       "444     1\n",
       "443     1\n",
       "442     1\n",
       "1337    1\n",
       "Name: count, Length: 1338, dtype: int64"
      ]
     },
     "execution_count": 56,
     "metadata": {},
     "output_type": "execute_result"
    }
   ],
   "source": [
    "coffee_focus['index'].value_counts()"
   ]
  },
  {
   "cell_type": "code",
   "execution_count": 58,
   "id": "3a622f3e-3294-434b-a4f2-f57a8a3e1bdb",
   "metadata": {},
   "outputs": [
    {
     "data": {
      "text/plain": [
       "862"
      ]
     },
     "execution_count": 58,
     "metadata": {},
     "output_type": "execute_result"
    }
   ],
   "source": [
    "num_unique_coffees = len(coffee_resamp.drop_duplicates(subset='index'))\n",
    "num_unique_coffees"
   ]
  },
  {
   "cell_type": "code",
   "execution_count": 60,
   "id": "28a36666-fe6d-47c8-b087-2b87b9481cc5",
   "metadata": {},
   "outputs": [],
   "source": [
    "import numpy as np\n",
    "\n",
    "mean_flavors_1000 = []\n",
    "\n",
    "for i in range(1000):\n",
    "    mean_flavors_1000.append(np.mean(\n",
    "        coffee_focus.sample(frac=1, replace=True)['flavor']))"
   ]
  },
  {
   "cell_type": "code",
   "execution_count": 62,
   "id": "5045660b-fbf6-42f2-a327-665737f5bed8",
   "metadata": {},
   "outputs": [
    {
     "data": {
      "text/plain": [
       "(array([  5.,  17.,  71., 138., 226., 252., 173.,  74.,  31.,  13.]),\n",
       " array([7.49721226, 7.50272945, 7.50824664, 7.51376383, 7.51928102,\n",
       "        7.52479821, 7.5303154 , 7.53583259, 7.54134978, 7.54686697,\n",
       "        7.55238416]),\n",
       " <BarContainer object of 10 artists>)"
      ]
     },
     "execution_count": 62,
     "metadata": {},
     "output_type": "execute_result"
    },
    {
     "data": {
      "image/png": "[encoded data removed]",
      "text/plain": [
       "<Figure size 640x480 with 1 Axes>"
      ]
     },
     "metadata": {},
     "output_type": "display_data"
    }
   ],
   "source": [
    "import matplotlib.pyplot as plt\n",
    "\n",
    "plt.hist(mean_flavors_1000)"
   ]
  },
  {
   "cell_type": "code",
   "execution_count": 64,
   "id": "e6da9aa4-3db4-4d49-abf6-1a474815f075",
   "metadata": {},
   "outputs": [
    {
     "data": {
      "text/html": [
       "<div>\n",
       "<style scoped>\n",
       "    .dataframe tbody tr th:only-of-type {\n",
       "        vertical-align: middle;\n",
       "    }\n",
       "\n",
       "    .dataframe tbody tr th {\n",
       "        vertical-align: top;\n",
       "    }\n",
       "\n",
       "    .dataframe thead th {\n",
       "        text-align: right;\n",
       "    }\n",
       "</style>\n",
       "<table border=\"1\" class=\"dataframe\">\n",
       "  <thead>\n",
       "    <tr style=\"text-align: right;\">\n",
       "      <th></th>\n",
       "      <th>index</th>\n",
       "      <th>variety</th>\n",
       "      <th>country_of_origin</th>\n",
       "      <th>flavor</th>\n",
       "    </tr>\n",
       "  </thead>\n",
       "  <tbody>\n",
       "    <tr>\n",
       "      <th>903</th>\n",
       "      <td>903</td>\n",
       "      <td>Bourbon</td>\n",
       "      <td>Guatemala</td>\n",
       "      <td>7.33</td>\n",
       "    </tr>\n",
       "    <tr>\n",
       "      <th>359</th>\n",
       "      <td>359</td>\n",
       "      <td>None</td>\n",
       "      <td>Ethiopia</td>\n",
       "      <td>7.75</td>\n",
       "    </tr>\n",
       "    <tr>\n",
       "      <th>398</th>\n",
       "      <td>398</td>\n",
       "      <td>Caturra</td>\n",
       "      <td>Colombia</td>\n",
       "      <td>7.58</td>\n",
       "    </tr>\n",
       "    <tr>\n",
       "      <th>1293</th>\n",
       "      <td>1293</td>\n",
       "      <td>Pacas</td>\n",
       "      <td>Honduras</td>\n",
       "      <td>7.17</td>\n",
       "    </tr>\n",
       "    <tr>\n",
       "      <th>897</th>\n",
       "      <td>897</td>\n",
       "      <td>Typica</td>\n",
       "      <td>Taiwan</td>\n",
       "      <td>7.42</td>\n",
       "    </tr>\n",
       "    <tr>\n",
       "      <th>...</th>\n",
       "      <td>...</td>\n",
       "      <td>...</td>\n",
       "      <td>...</td>\n",
       "      <td>...</td>\n",
       "    </tr>\n",
       "    <tr>\n",
       "      <th>768</th>\n",
       "      <td>768</td>\n",
       "      <td>Other</td>\n",
       "      <td>Mexico</td>\n",
       "      <td>7.50</td>\n",
       "    </tr>\n",
       "    <tr>\n",
       "      <th>752</th>\n",
       "      <td>752</td>\n",
       "      <td>Caturra</td>\n",
       "      <td>Colombia</td>\n",
       "      <td>7.42</td>\n",
       "    </tr>\n",
       "    <tr>\n",
       "      <th>417</th>\n",
       "      <td>417</td>\n",
       "      <td>Catuai</td>\n",
       "      <td>Costa Rica</td>\n",
       "      <td>7.50</td>\n",
       "    </tr>\n",
       "    <tr>\n",
       "      <th>669</th>\n",
       "      <td>669</td>\n",
       "      <td>Caturra</td>\n",
       "      <td>Guatemala</td>\n",
       "      <td>7.33</td>\n",
       "    </tr>\n",
       "    <tr>\n",
       "      <th>1019</th>\n",
       "      <td>1019</td>\n",
       "      <td>Other</td>\n",
       "      <td>Tanzania, United Republic Of</td>\n",
       "      <td>7.17</td>\n",
       "    </tr>\n",
       "  </tbody>\n",
       "</table>\n",
       "<p>500 rows × 4 columns</p>\n",
       "</div>"
      ],
      "text/plain": [
       "      index  variety             country_of_origin  flavor\n",
       "903     903  Bourbon                     Guatemala    7.33\n",
       "359     359     None                      Ethiopia    7.75\n",
       "398     398  Caturra                      Colombia    7.58\n",
       "1293   1293    Pacas                      Honduras    7.17\n",
       "897     897   Typica                        Taiwan    7.42\n",
       "...     ...      ...                           ...     ...\n",
       "768     768    Other                        Mexico    7.50\n",
       "752     752  Caturra                      Colombia    7.42\n",
       "417     417   Catuai                    Costa Rica    7.50\n",
       "669     669  Caturra                     Guatemala    7.33\n",
       "1019   1019    Other  Tanzania, United Republic Of    7.17\n",
       "\n",
       "[500 rows x 4 columns]"
      ]
     },
     "execution_count": 64,
     "metadata": {},
     "output_type": "execute_result"
    }
   ],
   "source": [
    "coffee_sample = df_coffee[['variety', 'country_of_origin', 'flavor']].\\\n",
    "reset_index().sample(n=500)\n",
    "coffee_sample"
   ]
  },
  {
   "cell_type": "markdown",
   "id": "d8e255cc-5375-4f09-9cb8-abec61d2e3d1",
   "metadata": {},
   "source": [
    "#The bootstrap of mean coffee flavors: Bootstrap, örneklem büyüklüğünü artırmadan, mevcut veri üzerinden birçok yeniden örnekleme (resampling) yaparak, istatistiksel belirsizliği ve güven aralıklarını tahmin etmek için kullanılan bir yöntemdir. Temelde, mevcut veri kümesinden rastgele örneklem almak ve her örneklem için istatistiksel bir hesaplama yapmak anlamına gelir."
   ]
  },
  {
   "cell_type": "code",
   "execution_count": 67,
   "id": "07c3dbec-76e8-468b-b5ea-129c7943a621",
   "metadata": {},
   "outputs": [],
   "source": [
    "import numpy as np\n",
    "\n",
    "mean_flavors_5000 = []\n",
    "\n",
    "for i in range(5000):\n",
    "    mean_flavors_5000.append(\n",
    "        np.mean(coffee_sample.sample(frac=1, replace=True)['flavor']))"
   ]
  },
  {
   "cell_type": "code",
   "execution_count": 68,
   "id": "a8253d42-ed02-4847-a8e2-f801db37ce55",
   "metadata": {},
   "outputs": [
    {
     "data": {
      "text/plain": [
       "(array([   4.,   25.,  183.,  661., 1320., 1450.,  895.,  374.,   81.,\n",
       "           7.]),\n",
       " array([7.46104 , 7.472676, 7.484312, 7.495948, 7.507584, 7.51922 ,\n",
       "        7.530856, 7.542492, 7.554128, 7.565764, 7.5774  ]),\n",
       " <BarContainer object of 10 artists>)"
      ]
     },
     "execution_count": 68,
     "metadata": {},
     "output_type": "execute_result"
    },
    {
     "data": {
      "image/png": "[encoded data removed]",
      "text/plain": [
       "<Figure size 640x480 with 1 Axes>"
      ]
     },
     "metadata": {},
     "output_type": "display_data"
    }
   ],
   "source": [
    "import matplotlib.pyplot as plt\n",
    "\n",
    "plt.hist(mean_flavors_5000)"
   ]
  },
  {
   "cell_type": "code",
   "execution_count": 70,
   "id": "56a1fa2f-f603-4354-93b0-623f8a36d55d",
   "metadata": {},
   "outputs": [
    {
     "data": {
      "text/plain": [
       "7.5215"
      ]
     },
     "execution_count": 70,
     "metadata": {},
     "output_type": "execute_result"
    }
   ],
   "source": [
    "coffee_sample['flavor'].mean()"
   ]
  },
  {
   "cell_type": "code",
   "execution_count": 73,
   "id": "a3d6430d-031a-48ad-b4c5-0575e731d231",
   "metadata": {},
   "outputs": [
    {
     "data": {
      "text/plain": [
       "7.521865335999999"
      ]
     },
     "execution_count": 73,
     "metadata": {},
     "output_type": "execute_result"
    }
   ],
   "source": [
    "np.mean(mean_flavors_5000)"
   ]
  },
  {
   "cell_type": "code",
   "execution_count": 75,
   "id": "de5c85e9-0c38-439b-be4f-a5502408c149",
   "metadata": {},
   "outputs": [
    {
     "data": {
      "text/plain": [
       "7.526046337817639"
      ]
     },
     "execution_count": 75,
     "metadata": {},
     "output_type": "execute_result"
    }
   ],
   "source": [
    "df_coffee['flavor'].mean()"
   ]
  },
  {
   "cell_type": "code",
   "execution_count": 77,
   "id": "1a1312d6-bfef-4f71-87ff-c8e326ffb19a",
   "metadata": {},
   "outputs": [
    {
     "data": {
      "text/plain": [
       "0.33973812560261185"
      ]
     },
     "execution_count": 77,
     "metadata": {},
     "output_type": "execute_result"
    }
   ],
   "source": [
    "coffee_sample['flavor'].std()"
   ]
  },
  {
   "cell_type": "code",
   "execution_count": 79,
   "id": "2876a4bd-ae98-4ce0-a30d-bc0cb6946698",
   "metadata": {},
   "outputs": [
    {
     "data": {
      "text/plain": [
       "0.015113079402984425"
      ]
     },
     "execution_count": 79,
     "metadata": {},
     "output_type": "execute_result"
    }
   ],
   "source": [
    "#bootstrap'in standart sapma\n",
    "np.std(mean_flavors_5000,ddof=1)"
   ]
  },
  {
   "cell_type": "code",
   "execution_count": 81,
   "id": "9882add4-8f24-41cc-8f8b-fb2ce75835fb",
   "metadata": {},
   "outputs": [
    {
     "data": {
      "text/plain": [
       "0.33793872894425114"
      ]
     },
     "execution_count": 81,
     "metadata": {},
     "output_type": "execute_result"
    }
   ],
   "source": [
    "#bootstrap örneklem standart hatası\n",
    "np.std(mean_flavors_5000, ddof=1) * np.sqrt(500)"
   ]
  },
  {
   "cell_type": "code",
   "execution_count": 85,
   "id": "0d609527-e8fd-4e04-b227-89b8c73ad1c7",
   "metadata": {},
   "outputs": [
    {
     "data": {
      "text/plain": [
       "(array([   4.,   25.,  183.,  661., 1320., 1450.,  895.,  374.,   81.,\n",
       "           7.]),\n",
       " array([7.46104 , 7.472676, 7.484312, 7.495948, 7.507584, 7.51922 ,\n",
       "        7.530856, 7.542492, 7.554128, 7.565764, 7.5774  ]),\n",
       " <BarContainer object of 10 artists>)"
      ]
     },
     "execution_count": 85,
     "metadata": {},
     "output_type": "execute_result"
    },
    {
     "data": {
      "image/png": "[encoded data removed]",
      "text/plain": [
       "<Figure size 640x480 with 1 Axes>"
      ]
     },
     "metadata": {},
     "output_type": "display_data"
    }
   ],
   "source": [
    "plt.hist(mean_flavors_5000)"
   ]
  },
  {
   "cell_type": "code",
   "execution_count": 87,
   "id": "a7ab3c75-606d-497b-8f00-761f4a7d9987",
   "metadata": {},
   "outputs": [
    {
     "data": {
      "text/plain": [
       "<matplotlib.legend.Legend at 0x175581130>"
      ]
     },
     "execution_count": 87,
     "metadata": {},
     "output_type": "execute_result"
    },
    {
     "data": {
      "image/png": "[encoded data removed]",
      "text/plain": [
       "<Figure size 640x480 with 1 Axes>"
      ]
     },
     "metadata": {},
     "output_type": "display_data"
    }
   ],
   "source": [
    "plt.hist(mean_flavors_5000);\n",
    "plt.axvline(np.mean(mean_flavors_5000), color='red', linestyle='dashed', \n",
    "            linewidth=2, label=f'Mean: {np.mean(mean_flavors_5000):.2f}')\n",
    "plt.legend()"
   ]
  },
  {
   "cell_type": "markdown",
   "id": "e46ee182-46e2-403b-be85-e42adfda2df3",
   "metadata": {},
   "source": [
    "#plt.axvline(): Bu fonksiyon, bir dikey çizgi çizer. Çizgi, histogram üzerinde x eksenine paralel bir çizgi olacak şekilde yerleştirilir.\n",
    "np.mean(mean_flavors_5000): Bu kısım, mean_flavors_5000 listesinde yer alan 5000 örneklem ortalamasının ortalamasını hesaplar.\n",
    "color='red': Çizginin rengini kırmızı yapar.\n",
    "linestyle='dashed': Çizginin tarzını kesikli yapar.\n",
    "linewidth=2: Çizginin kalınlığını belirler (bu durumda 2 birim).\n",
    "label=f'Mean: {np.mean(mean_flavors_5000):.2f}': Çizginin yanına, ortalamayı gösteren bir etiket ekler. Bu etiket kırmızı çizgiyi tanımlar ve ortalama değeri (2 ondalıklı) gösterir."
   ]
  },
  {
   "cell_type": "code",
   "execution_count": 90,
   "id": "9581c727-4532-4193-9d01-a4bc2860c891",
   "metadata": {},
   "outputs": [
    {
     "data": {
      "text/plain": [
       "<matplotlib.legend.Legend at 0x1755c6150>"
      ]
     },
     "execution_count": 90,
     "metadata": {},
     "output_type": "execute_result"
    },
    {
     "data": {
      "image/png": "[encoded data removed]",
      "text/plain": [
       "<Figure size 640x480 with 1 Axes>"
      ]
     },
     "metadata": {},
     "output_type": "display_data"
    }
   ],
   "source": [
    "mean = np.mean(mean_flavors_5000)\n",
    "plus_one_std = mean + np.std(mean_flavors_5000, ddof=1)\n",
    "minus_one_std = mean - np.std(mean_flavors_5000, ddof=1)\n",
    "\n",
    "plt.hist(mean_flavors_5000);\n",
    "\n",
    "plt.axvline(mean, color='black', linestyle='dashed', linewidth=2, label=f'Mean: {mean:.2f}')\n",
    "\n",
    "plt.axvline(plus_one_std, color='red', linestyle='dashed', linewidth=2, label=f'mean + std: {plus_one_std:.2f}')\n",
    "\n",
    "plt.axvline(minus_one_std, color='yellow', linestyle='dashed', linewidth=2, label=f'mean - std: {minus_one_std:.2f}')\n",
    "\n",
    "plt.legend()\n"
   ]
  },
  {
   "cell_type": "markdown",
   "id": "676bab11-8202-42fc-8e5d-c6cfcf664797",
   "metadata": {},
   "source": [
    "\n",
    "#plus_one_std: Bu satır, ortalamaya bir standart sapma ekler. Yani, ortalamanın sağındaki 1 standart sapmayı temsil eder.\n",
    "np.std(mean_flavors_5000, ddof=1): Bu, mean_flavors_5000 listesinde yer alan 5000 örneklem ortalamasının standart sapmasını hesaplar.\n",
    "minus_one_std: Bu satır, ortalamadan bir standart sapma çıkarır. Yani, ortalamanın solundaki 1 standart sapmayı temsil eder."
   ]
  },
  {
   "cell_type": "code",
   "execution_count": 93,
   "id": "7b3d29e4-2612-4890-9196-e4dbc95170c3",
   "metadata": {},
   "outputs": [
    {
     "data": {
      "text/plain": [
       "<matplotlib.legend.Legend at 0x17569dca0>"
      ]
     },
     "execution_count": 93,
     "metadata": {},
     "output_type": "execute_result"
    },
    {
     "data": {
      "image/png": "[encoded data removed]",
      "text/plain": [
       "<Figure size 640x480 with 1 Axes>"
      ]
     },
     "metadata": {},
     "output_type": "display_data"
    }
   ],
   "source": [
    "quantile_lower = np.quantile(mean_flavors_5000, 0.025)\n",
    "quantile_upper = np.quantile(mean_flavors_5000, 0.975)\n",
    "\n",
    "plt.hist(mean_flavors_5000);\n",
    "\n",
    "plt.axvline(mean, color='black', linestyle='dashed', linewidth=2, label=f'Mean: {mean:.2f}')\n",
    "\n",
    "plt.axvline(quantile_lower, color='red', linestyle='dashed', linewidth=2, label=f'quantile_lower: {quantile_lower:.2f}')\n",
    "\n",
    "plt.axvline(quantile_upper, color='yellow', linestyle='dashed', linewidth=2, label=f'quantile_upper: {quantile_upper:.2f}')\n",
    "\n",
    "plt.legend()"
   ]
  },
  {
   "cell_type": "code",
   "execution_count": 95,
   "id": "e0cc2e94-3eb2-4447-a3e7-cfbfa6bd4ce5",
   "metadata": {},
   "outputs": [
    {
     "data": {
      "text/plain": [
       "<matplotlib.legend.Legend at 0x1756c68a0>"
      ]
     },
     "execution_count": 95,
     "metadata": {},
     "output_type": "execute_result"
    },
    {
     "data": {
      "image/png": "[encoded data removed]",
      "text/plain": [
       "<Figure size 640x480 with 1 Axes>"
      ]
     },
     "metadata": {},
     "output_type": "display_data"
    }
   ],
   "source": [
    "mean = np.mean(mean_flavors_5000)\n",
    "plus_one_std = mean + 3 * np.std(mean_flavors_5000, ddof=1)\n",
    "minus_one_std = mean - 3 * np.std(mean_flavors_5000, ddof=1)\n",
    "\n",
    "plt.hist(mean_flavors_5000);\n",
    "\n",
    "plt.axvline(mean, color='black', linestyle='dashed', linewidth=2, label=f'Mean: {mean:.2f}')\n",
    "\n",
    "plt.axvline(plus_one_std, color='red', linestyle='dashed', linewidth=2, label=f'mean + std: {plus_one_std:.2f}')\n",
    "\n",
    "plt.axvline(minus_one_std, color='yellow', linestyle='dashed', linewidth=2, label=f'mean - std: {minus_one_std:.2f}')\n",
    "\n",
    "plt.legend()"
   ]
  },
  {
   "cell_type": "code",
   "execution_count": 97,
   "id": "a8214b14-97b0-46aa-9508-70f873d0b2ad",
   "metadata": {},
   "outputs": [
    {
     "data": {
      "image/png": "[encoded data removed]",
      "text/plain": [
       "<Figure size 640x480 with 1 Axes>"
      ]
     },
     "metadata": {},
     "output_type": "display_data"
    }
   ],
   "source": [
    "from scipy.stats import norm\n",
    "\n",
    "p_values = np.linspace(0, 1, 100)\n",
    "\n",
    "quantiles = norm.ppf(p_values, loc=0, scale=1) #verilen olasılık değerlerine karşılık gelen kuantil (quantile) değerlerini hesaplar. Burada loc=0 ve scale=1 parametreleri, standart normal dağılım (ortalama 0, standart sapma 1) kullanılarak hesaplama yapılmasını sağlar.quantiles listesi, her bir olasılık değeri için karşılık gelen normal dağılımdaki kuantil değerlerini tutar.\n",
    "\n",
    "plt.plot(p_values, quantiles, label=\"Inverse CDF (Normal Distribution)\")\n",
    "\n",
    "p1, p2 = 0.025, 0.975\n",
    "quantile_025 = norm.ppf(p1)\n",
    "quantile_975 = norm.ppf(p2)\n",
    "\n",
    "plt.scatter([p1, p2], [quantile_025, quantile_975], color='red')  # Noktaları çiz\n",
    "plt.axvline(p1, color='red', linestyle='dashed', linewidth=1)  # p1 için dikey çizgi\n",
    "plt.axvline(p2, color='red', linestyle='dashed', linewidth=1)  # p2 için dikey çizgi\n",
    "\n",
    "# X ve Y değerlerini grafikte gösterelim\n",
    "plt.text(p1, quantile_025, f'({p1:.3f}, {quantile_025:.2f})', color='red', fontsize=10, ha='right')\n",
    "plt.text(p2, quantile_975, f'({p2:.3f}, {quantile_975:.2f})', color='red', fontsize=10, ha='right')\n",
    "\n",
    "\n",
    "\n",
    "plt.xlabel(\"Probability (p)\")\n",
    "plt.ylabel(\"Quantile (x)\")\n",
    "plt.title(\"Inverse Cumulative Distribution Function (Normal)\")\n",
    "plt.grid(True)\n",
    "plt.legend()\n",
    "plt.show()\n",
    "\n",
    "\n"
   ]
  },
  {
   "cell_type": "markdown",
   "id": "ea826214-16b5-4ad6-b4fc-3ea32829b134",
   "metadata": {},
   "source": [
    "Normal Dağılımın Ters Kümülatif Dağılım Fonksiyonu (Inverse CDF):\n",
    "\n",
    "Grafikteki eğri, verilen bir olasılık değeri için normal dağılımdan elde edilen değerin nasıl değiştiğini gösterir. Bu, normal dağılımın kümülatif dağılım fonksiyonunun tersidir.\n",
    "Örneğin, belirli bir olasılık değeri (p = 0.025 veya p = 0.975) verildiğinde, bu olasılığa karşılık gelen x değeri (kuantil) hesaplanır. Bu, normal dağılımın alt ve üst uçlarını (yani, güven aralığının sınırlarını) gösterir.\n",
    "%95 Güven Aralığı:\n",
    "\n",
    "p1 = 0.025 ve p2 = 0.975 noktaları %95 güven aralığının alt ve üst sınırlarını temsil eder. Bu değerler, %95 olasılıkla, normal dağılımdan alınan verilerin bu aralık içinde yer alacağını belirtir.\n",
    "Kırmızı çizgiler ve kırmızı noktalar, %95 güven aralığının sınırlarını işaret eder. Bu, örneklemlerden elde edilen istatistiklerin bu aralık içinde yer almasının olasılığını gösterir.\n",
    "Grafiğin Ne Gösterdiği ve Neyi Kanıtladığı:\n",
    "Olasılık ve Değer Arasındaki İlişkiyi Gösterir: Grafik, belirli olasılık değerlerinin normal dağılımdaki karşılık gelen kuantil değerlerine nasıl dönüştüğünü gösterir. Yani, belirli bir olasılık için, bu olasılığa denk gelen normal dağılımdaki değeri (x değeri) hesaplar.\n",
    "Güven Aralığının Görselleştirilmesi: %95 güven aralığını ve kuantilleri göstererek, örneklemden elde edilen verilerin popülasyon parametrelerine ne kadar yakın olduğunu anlamamıza yardımcı olur. %95'lik bir güvenle, verilerin bu aralık içinde yer alacağını öngörebiliriz."
   ]
  },
  {
   "cell_type": "code",
   "execution_count": 100,
   "id": "7c3711de-e7d4-4274-a996-13499638c435",
   "metadata": {},
   "outputs": [
    {
     "data": {
      "text/html": [
       "<div>\n",
       "<style scoped>\n",
       "    .dataframe tbody tr th:only-of-type {\n",
       "        vertical-align: middle;\n",
       "    }\n",
       "\n",
       "    .dataframe tbody tr th {\n",
       "        vertical-align: top;\n",
       "    }\n",
       "\n",
       "    .dataframe thead th {\n",
       "        text-align: right;\n",
       "    }\n",
       "</style>\n",
       "<table border=\"1\" class=\"dataframe\">\n",
       "  <thead>\n",
       "    <tr style=\"text-align: right;\">\n",
       "      <th></th>\n",
       "      <th>respondent</th>\n",
       "      <th>main_branch</th>\n",
       "      <th>hobbyist</th>\n",
       "      <th>age</th>\n",
       "      <th>age_1st_code</th>\n",
       "      <th>age_first_code_cut</th>\n",
       "      <th>comp_freq</th>\n",
       "      <th>comp_total</th>\n",
       "      <th>converted_comp</th>\n",
       "      <th>country</th>\n",
       "      <th>...</th>\n",
       "      <th>survey_length</th>\n",
       "      <th>trans</th>\n",
       "      <th>undergrad_major</th>\n",
       "      <th>webframe_desire_next_year</th>\n",
       "      <th>webframe_worked_with</th>\n",
       "      <th>welcome_change</th>\n",
       "      <th>work_week_hrs</th>\n",
       "      <th>years_code</th>\n",
       "      <th>years_code_pro</th>\n",
       "      <th>age_cat</th>\n",
       "    </tr>\n",
       "  </thead>\n",
       "  <tbody>\n",
       "    <tr>\n",
       "      <th>0</th>\n",
       "      <td>36.0</td>\n",
       "      <td>I am not primarily a developer, but I write co...</td>\n",
       "      <td>Yes</td>\n",
       "      <td>34.0</td>\n",
       "      <td>30.0</td>\n",
       "      <td>adult</td>\n",
       "      <td>Yearly</td>\n",
       "      <td>60000.0</td>\n",
       "      <td>77556.0</td>\n",
       "      <td>United Kingdom</td>\n",
       "      <td>...</td>\n",
       "      <td>Appropriate in length</td>\n",
       "      <td>No</td>\n",
       "      <td>Computer science, computer engineering, or sof...</td>\n",
       "      <td>Express;React.js</td>\n",
       "      <td>Express;React.js</td>\n",
       "      <td>Just as welcome now as I felt last year</td>\n",
       "      <td>40.0</td>\n",
       "      <td>4.0</td>\n",
       "      <td>3.0</td>\n",
       "      <td>At least 30</td>\n",
       "    </tr>\n",
       "    <tr>\n",
       "      <th>1</th>\n",
       "      <td>47.0</td>\n",
       "      <td>I am a developer by profession</td>\n",
       "      <td>Yes</td>\n",
       "      <td>53.0</td>\n",
       "      <td>10.0</td>\n",
       "      <td>child</td>\n",
       "      <td>Yearly</td>\n",
       "      <td>58000.0</td>\n",
       "      <td>74970.0</td>\n",
       "      <td>United Kingdom</td>\n",
       "      <td>...</td>\n",
       "      <td>Appropriate in length</td>\n",
       "      <td>No</td>\n",
       "      <td>A natural science (such as biology, chemistry,...</td>\n",
       "      <td>Flask;Spring</td>\n",
       "      <td>Flask;Spring</td>\n",
       "      <td>Just as welcome now as I felt last year</td>\n",
       "      <td>40.0</td>\n",
       "      <td>43.0</td>\n",
       "      <td>28.0</td>\n",
       "      <td>At least 30</td>\n",
       "    </tr>\n",
       "    <tr>\n",
       "      <th>2</th>\n",
       "      <td>69.0</td>\n",
       "      <td>I am a developer by profession</td>\n",
       "      <td>Yes</td>\n",
       "      <td>25.0</td>\n",
       "      <td>12.0</td>\n",
       "      <td>child</td>\n",
       "      <td>Yearly</td>\n",
       "      <td>550000.0</td>\n",
       "      <td>594539.0</td>\n",
       "      <td>France</td>\n",
       "      <td>...</td>\n",
       "      <td>Too short</td>\n",
       "      <td>No</td>\n",
       "      <td>Computer science, computer engineering, or sof...</td>\n",
       "      <td>Django;Flask</td>\n",
       "      <td>Django;Flask</td>\n",
       "      <td>Just as welcome now as I felt last year</td>\n",
       "      <td>40.0</td>\n",
       "      <td>13.0</td>\n",
       "      <td>3.0</td>\n",
       "      <td>Under 30</td>\n",
       "    </tr>\n",
       "    <tr>\n",
       "      <th>3</th>\n",
       "      <td>125.0</td>\n",
       "      <td>I am not primarily a developer, but I write co...</td>\n",
       "      <td>Yes</td>\n",
       "      <td>41.0</td>\n",
       "      <td>30.0</td>\n",
       "      <td>adult</td>\n",
       "      <td>Monthly</td>\n",
       "      <td>200000.0</td>\n",
       "      <td>2000000.0</td>\n",
       "      <td>United States</td>\n",
       "      <td>...</td>\n",
       "      <td>Appropriate in length</td>\n",
       "      <td>No</td>\n",
       "      <td>None</td>\n",
       "      <td>None</td>\n",
       "      <td>None</td>\n",
       "      <td>Just as welcome now as I felt last year</td>\n",
       "      <td>40.0</td>\n",
       "      <td>11.0</td>\n",
       "      <td>11.0</td>\n",
       "      <td>At least 30</td>\n",
       "    </tr>\n",
       "    <tr>\n",
       "      <th>4</th>\n",
       "      <td>147.0</td>\n",
       "      <td>I am not primarily a developer, but I write co...</td>\n",
       "      <td>No</td>\n",
       "      <td>28.0</td>\n",
       "      <td>15.0</td>\n",
       "      <td>adult</td>\n",
       "      <td>Yearly</td>\n",
       "      <td>50000.0</td>\n",
       "      <td>37816.0</td>\n",
       "      <td>Canada</td>\n",
       "      <td>...</td>\n",
       "      <td>Appropriate in length</td>\n",
       "      <td>No</td>\n",
       "      <td>Another engineering discipline (such as civil,...</td>\n",
       "      <td>None</td>\n",
       "      <td>Express;Flask</td>\n",
       "      <td>Just as welcome now as I felt last year</td>\n",
       "      <td>40.0</td>\n",
       "      <td>5.0</td>\n",
       "      <td>3.0</td>\n",
       "      <td>Under 30</td>\n",
       "    </tr>\n",
       "    <tr>\n",
       "      <th>...</th>\n",
       "      <td>...</td>\n",
       "      <td>...</td>\n",
       "      <td>...</td>\n",
       "      <td>...</td>\n",
       "      <td>...</td>\n",
       "      <td>...</td>\n",
       "      <td>...</td>\n",
       "      <td>...</td>\n",
       "      <td>...</td>\n",
       "      <td>...</td>\n",
       "      <td>...</td>\n",
       "      <td>...</td>\n",
       "      <td>...</td>\n",
       "      <td>...</td>\n",
       "      <td>...</td>\n",
       "      <td>...</td>\n",
       "      <td>...</td>\n",
       "      <td>...</td>\n",
       "      <td>...</td>\n",
       "      <td>...</td>\n",
       "      <td>...</td>\n",
       "    </tr>\n",
       "    <tr>\n",
       "      <th>2256</th>\n",
       "      <td>62812.0</td>\n",
       "      <td>I am a developer by profession</td>\n",
       "      <td>Yes</td>\n",
       "      <td>40.0</td>\n",
       "      <td>10.0</td>\n",
       "      <td>child</td>\n",
       "      <td>Yearly</td>\n",
       "      <td>145000.0</td>\n",
       "      <td>145000.0</td>\n",
       "      <td>United States</td>\n",
       "      <td>...</td>\n",
       "      <td>Too long</td>\n",
       "      <td>No</td>\n",
       "      <td>Computer science, computer engineering, or sof...</td>\n",
       "      <td>Flask;jQuery</td>\n",
       "      <td>Angular;Angular.js;Flask;jQuery;React.js</td>\n",
       "      <td>Somewhat less welcome now than last year</td>\n",
       "      <td>50.0</td>\n",
       "      <td>30.0</td>\n",
       "      <td>20.0</td>\n",
       "      <td>At least 30</td>\n",
       "    </tr>\n",
       "    <tr>\n",
       "      <th>2257</th>\n",
       "      <td>62835.0</td>\n",
       "      <td>I am a developer by profession</td>\n",
       "      <td>Yes</td>\n",
       "      <td>23.0</td>\n",
       "      <td>9.0</td>\n",
       "      <td>child</td>\n",
       "      <td>Monthly</td>\n",
       "      <td>180000.0</td>\n",
       "      <td>33972.0</td>\n",
       "      <td>Russian Federation</td>\n",
       "      <td>...</td>\n",
       "      <td>Too short</td>\n",
       "      <td>No</td>\n",
       "      <td>Computer science, computer engineering, or sof...</td>\n",
       "      <td>ASP.NET Core</td>\n",
       "      <td>ASP.NET Core;Flask</td>\n",
       "      <td>Just as welcome now as I felt last year</td>\n",
       "      <td>60.0</td>\n",
       "      <td>8.0</td>\n",
       "      <td>3.0</td>\n",
       "      <td>Under 30</td>\n",
       "    </tr>\n",
       "    <tr>\n",
       "      <th>2258</th>\n",
       "      <td>62837.0</td>\n",
       "      <td>I am a developer by profession</td>\n",
       "      <td>Yes</td>\n",
       "      <td>27.0</td>\n",
       "      <td>8.0</td>\n",
       "      <td>child</td>\n",
       "      <td>Monthly</td>\n",
       "      <td>7500.0</td>\n",
       "      <td>97284.0</td>\n",
       "      <td>Germany</td>\n",
       "      <td>...</td>\n",
       "      <td>Appropriate in length</td>\n",
       "      <td>No</td>\n",
       "      <td>Mathematics or statistics</td>\n",
       "      <td>None</td>\n",
       "      <td>None</td>\n",
       "      <td>Just as welcome now as I felt last year</td>\n",
       "      <td>42.0</td>\n",
       "      <td>12.0</td>\n",
       "      <td>2.0</td>\n",
       "      <td>Under 30</td>\n",
       "    </tr>\n",
       "    <tr>\n",
       "      <th>2259</th>\n",
       "      <td>62867.0</td>\n",
       "      <td>I am not primarily a developer, but I write co...</td>\n",
       "      <td>Yes</td>\n",
       "      <td>33.0</td>\n",
       "      <td>13.0</td>\n",
       "      <td>child</td>\n",
       "      <td>Monthly</td>\n",
       "      <td>6000.0</td>\n",
       "      <td>72000.0</td>\n",
       "      <td>Panama</td>\n",
       "      <td>...</td>\n",
       "      <td>Too long</td>\n",
       "      <td>No</td>\n",
       "      <td>Another engineering discipline (such as civil,...</td>\n",
       "      <td>None</td>\n",
       "      <td>Django;React.js</td>\n",
       "      <td>A lot less welcome now than last year</td>\n",
       "      <td>45.0</td>\n",
       "      <td>15.0</td>\n",
       "      <td>2.0</td>\n",
       "      <td>At least 30</td>\n",
       "    </tr>\n",
       "    <tr>\n",
       "      <th>2260</th>\n",
       "      <td>62882.0</td>\n",
       "      <td>I am a developer by profession</td>\n",
       "      <td>Yes</td>\n",
       "      <td>28.0</td>\n",
       "      <td>13.0</td>\n",
       "      <td>child</td>\n",
       "      <td>Yearly</td>\n",
       "      <td>180000.0</td>\n",
       "      <td>180000.0</td>\n",
       "      <td>United States</td>\n",
       "      <td>...</td>\n",
       "      <td>Appropriate in length</td>\n",
       "      <td>No</td>\n",
       "      <td>Computer science, computer engineering, or sof...</td>\n",
       "      <td>Angular;Express;Flask;React.js</td>\n",
       "      <td>Angular;Angular.js;Django;Drupal;Express;Flask</td>\n",
       "      <td>Just as welcome now as I felt last year</td>\n",
       "      <td>40.0</td>\n",
       "      <td>11.0</td>\n",
       "      <td>5.0</td>\n",
       "      <td>Under 30</td>\n",
       "    </tr>\n",
       "  </tbody>\n",
       "</table>\n",
       "<p>2261 rows × 63 columns</p>\n",
       "</div>"
      ],
      "text/plain": [
       "      respondent                                        main_branch hobbyist  \\\n",
       "0           36.0  I am not primarily a developer, but I write co...      Yes   \n",
       "1           47.0                     I am a developer by profession      Yes   \n",
       "2           69.0                     I am a developer by profession      Yes   \n",
       "3          125.0  I am not primarily a developer, but I write co...      Yes   \n",
       "4          147.0  I am not primarily a developer, but I write co...       No   \n",
       "...          ...                                                ...      ...   \n",
       "2256     62812.0                     I am a developer by profession      Yes   \n",
       "2257     62835.0                     I am a developer by profession      Yes   \n",
       "2258     62837.0                     I am a developer by profession      Yes   \n",
       "2259     62867.0  I am not primarily a developer, but I write co...      Yes   \n",
       "2260     62882.0                     I am a developer by profession      Yes   \n",
       "\n",
       "       age  age_1st_code age_first_code_cut comp_freq  comp_total  \\\n",
       "0     34.0          30.0              adult    Yearly     60000.0   \n",
       "1     53.0          10.0              child    Yearly     58000.0   \n",
       "2     25.0          12.0              child    Yearly    550000.0   \n",
       "3     41.0          30.0              adult   Monthly    200000.0   \n",
       "4     28.0          15.0              adult    Yearly     50000.0   \n",
       "...    ...           ...                ...       ...         ...   \n",
       "2256  40.0          10.0              child    Yearly    145000.0   \n",
       "2257  23.0           9.0              child   Monthly    180000.0   \n",
       "2258  27.0           8.0              child   Monthly      7500.0   \n",
       "2259  33.0          13.0              child   Monthly      6000.0   \n",
       "2260  28.0          13.0              child    Yearly    180000.0   \n",
       "\n",
       "      converted_comp             country  ...          survey_length trans  \\\n",
       "0            77556.0      United Kingdom  ...  Appropriate in length    No   \n",
       "1            74970.0      United Kingdom  ...  Appropriate in length    No   \n",
       "2           594539.0              France  ...              Too short    No   \n",
       "3          2000000.0       United States  ...  Appropriate in length    No   \n",
       "4            37816.0              Canada  ...  Appropriate in length    No   \n",
       "...              ...                 ...  ...                    ...   ...   \n",
       "2256        145000.0       United States  ...               Too long    No   \n",
       "2257         33972.0  Russian Federation  ...              Too short    No   \n",
       "2258         97284.0             Germany  ...  Appropriate in length    No   \n",
       "2259         72000.0              Panama  ...               Too long    No   \n",
       "2260        180000.0       United States  ...  Appropriate in length    No   \n",
       "\n",
       "                                        undergrad_major  \\\n",
       "0     Computer science, computer engineering, or sof...   \n",
       "1     A natural science (such as biology, chemistry,...   \n",
       "2     Computer science, computer engineering, or sof...   \n",
       "3                                                  None   \n",
       "4     Another engineering discipline (such as civil,...   \n",
       "...                                                 ...   \n",
       "2256  Computer science, computer engineering, or sof...   \n",
       "2257  Computer science, computer engineering, or sof...   \n",
       "2258                          Mathematics or statistics   \n",
       "2259  Another engineering discipline (such as civil,...   \n",
       "2260  Computer science, computer engineering, or sof...   \n",
       "\n",
       "           webframe_desire_next_year  \\\n",
       "0                   Express;React.js   \n",
       "1                       Flask;Spring   \n",
       "2                       Django;Flask   \n",
       "3                               None   \n",
       "4                               None   \n",
       "...                              ...   \n",
       "2256                    Flask;jQuery   \n",
       "2257                    ASP.NET Core   \n",
       "2258                            None   \n",
       "2259                            None   \n",
       "2260  Angular;Express;Flask;React.js   \n",
       "\n",
       "                                webframe_worked_with  \\\n",
       "0                                   Express;React.js   \n",
       "1                                       Flask;Spring   \n",
       "2                                       Django;Flask   \n",
       "3                                               None   \n",
       "4                                      Express;Flask   \n",
       "...                                              ...   \n",
       "2256        Angular;Angular.js;Flask;jQuery;React.js   \n",
       "2257                              ASP.NET Core;Flask   \n",
       "2258                                            None   \n",
       "2259                                 Django;React.js   \n",
       "2260  Angular;Angular.js;Django;Drupal;Express;Flask   \n",
       "\n",
       "                                welcome_change work_week_hrs years_code  \\\n",
       "0      Just as welcome now as I felt last year          40.0        4.0   \n",
       "1      Just as welcome now as I felt last year          40.0       43.0   \n",
       "2      Just as welcome now as I felt last year          40.0       13.0   \n",
       "3      Just as welcome now as I felt last year          40.0       11.0   \n",
       "4      Just as welcome now as I felt last year          40.0        5.0   \n",
       "...                                        ...           ...        ...   \n",
       "2256  Somewhat less welcome now than last year          50.0       30.0   \n",
       "2257   Just as welcome now as I felt last year          60.0        8.0   \n",
       "2258   Just as welcome now as I felt last year          42.0       12.0   \n",
       "2259     A lot less welcome now than last year          45.0       15.0   \n",
       "2260   Just as welcome now as I felt last year          40.0       11.0   \n",
       "\n",
       "     years_code_pro      age_cat  \n",
       "0               3.0  At least 30  \n",
       "1              28.0  At least 30  \n",
       "2               3.0     Under 30  \n",
       "3              11.0  At least 30  \n",
       "4               3.0     Under 30  \n",
       "...             ...          ...  \n",
       "2256           20.0  At least 30  \n",
       "2257            3.0     Under 30  \n",
       "2258            2.0     Under 30  \n",
       "2259            2.0  At least 30  \n",
       "2260            5.0     Under 30  \n",
       "\n",
       "[2261 rows x 63 columns]"
      ]
     },
     "execution_count": 100,
     "metadata": {},
     "output_type": "execute_result"
    }
   ],
   "source": [
    "df_stck = pd.read_feather(\"data/stack_overflow.feather\")\n",
    "df_stck"
   ]
  },
  {
   "cell_type": "code",
   "execution_count": 104,
   "id": "0c9df5c8-85ae-4cf6-babb-b11e51510351",
   "metadata": {},
   "outputs": [
    {
     "name": "stdout",
     "output_type": "stream",
     "text": [
      "-1.9599639845400545 1.959963984540054\n"
     ]
    }
   ],
   "source": [
    "from scipy.stats import norm\n",
    "\n",
    "lower = norm.ppf(0.025) #bu satır %2.5 olasılığına karşılık gelen değeri, yani güven aralığının alt sınırını hesaplar.\n",
    "upper = norm.ppf(0.975) #güven aralığının üst sınırını verir\n",
    "\n",
    "print(lower,upper)\n"
   ]
  },
  {
   "cell_type": "code",
   "execution_count": 51,
   "id": "fc2461e3-ef68-4570-85e1-43e2f39183b8",
   "metadata": {},
   "outputs": [
    {
     "data": {
      "text/plain": [
       "119574.71738168952"
      ]
     },
     "execution_count": 51,
     "metadata": {},
     "output_type": "execute_result"
    }
   ],
   "source": [
    "mean_comp_samp = df_stck['converted_comp'].mean()\n",
    "mean_comp_samp"
   ]
  },
  {
   "cell_type": "code",
   "execution_count": 102,
   "id": "ac2e0201-650a-4d80-a4c5-042683d5efb2",
   "metadata": {},
   "outputs": [],
   "source": [
    "import numpy as np\n",
    "\n",
    "so_boot_distn = []\n",
    "\n",
    "for i in range(5000):\n",
    "    so_boot_distn.append(\n",
    "        np.mean(\n",
    "            df_stck.sample(frac=1, replace=True)['converted_comp']))"
   ]
  },
  {
   "cell_type": "code",
   "execution_count": 103,
   "id": "b0944a94-62b0-4c05-a5a0-11c0d60b607d",
   "metadata": {},
   "outputs": [
    {
     "data": {
      "text/plain": [
       "(array([  1.,   0.,   1.,   0.,   0.,   5.,   3.,   8.,   6.,  13.,   8.,\n",
       "         26.,  26.,  49.,  83.,  96., 124., 144., 181., 215., 225., 260.,\n",
       "        274., 277., 289., 294., 291., 275., 290., 290., 229., 222., 162.,\n",
       "        126., 126.,  85.,  81.,  55.,  44.,  34.,  25.,  18.,   9.,  14.,\n",
       "          7.,   6.,   1.,   1.,   0.,   1.]),\n",
       " array([ 97548.26448474,  98404.93944272,  99261.61440071, 100118.28935869,\n",
       "        100974.96431667, 101831.63927466, 102688.31423264, 103544.98919062,\n",
       "        104401.66414861, 105258.33910659, 106115.01406457, 106971.68902256,\n",
       "        107828.36398054, 108685.03893852, 109541.71389651, 110398.38885449,\n",
       "        111255.06381247, 112111.73877046, 112968.41372844, 113825.08868642,\n",
       "        114681.76364441, 115538.43860239, 116395.11356037, 117251.78851835,\n",
       "        118108.46347634, 118965.13843432, 119821.8133923 , 120678.48835029,\n",
       "        121535.16330827, 122391.83826625, 123248.51322424, 124105.18818222,\n",
       "        124961.8631402 , 125818.53809819, 126675.21305617, 127531.88801415,\n",
       "        128388.56297214, 129245.23793012, 130101.9128881 , 130958.58784609,\n",
       "        131815.26280407, 132671.93776205, 133528.61272004, 134385.28767802,\n",
       "        135241.962636  , 136098.63759398, 136955.31255197, 137811.98750995,\n",
       "        138668.66246793, 139525.33742592, 140382.0123839 ]),\n",
       " <BarContainer object of 50 artists>)"
      ]
     },
     "execution_count": 103,
     "metadata": {},
     "output_type": "execute_result"
    },
    {
     "data": {
      "image/png": "[encoded data removed]",
      "text/plain": [
       "<Figure size 640x480 with 1 Axes>"
      ]
     },
     "metadata": {},
     "output_type": "display_data"
    }
   ],
   "source": [
    "import matplotlib.pyplot as plt\n",
    "\n",
    "plt.hist(so_boot_distn,bins=50)"
   ]
  },
  {
   "cell_type": "code",
   "execution_count": 104,
   "id": "de0686b1-9cbc-4c42-9e83-0b7faf975654",
   "metadata": {},
   "outputs": [
    {
     "data": {
      "text/plain": [
       "5575.344959960513"
      ]
     },
     "execution_count": 104,
     "metadata": {},
     "output_type": "execute_result"
    }
   ],
   "source": [
    "std_error = np.std(so_boot_distn, ddof=1)\n",
    "std_error\n",
    "#Bu satırda hesaplanan standart hata, so_boot_distn içindeki örneklem ortalamalarının dağılımının yayılmasını ölçer. Başka bir deyişle, bu değer, bootstrap dağılımının ne kadar yayılmış olduğunu gösterir.\n",
    "Standart hata, genellikle bir parametrenin tahmininin güvenilirliğini değerlendirmek için kullanılır. Bootstrap yöntemi ile hesaplanan standart hata, veri kümesinin ortalama değeri hakkında ne kadar belirsizlik olduğunu gösterir."
   ]
  },
  {
   "cell_type": "code",
   "execution_count": 105,
   "id": "06ec05bc-a022-4b92-b751-9ae9e2bcee4c",
   "metadata": {},
   "outputs": [],
   "source": [
    "mean_comp_hyp = 110000"
   ]
  },
  {
   "cell_type": "code",
   "execution_count": 106,
   "id": "4d73d292-28ff-4340-8655-1f1f6428024a",
   "metadata": {},
   "outputs": [
    {
     "data": {
      "text/plain": [
       "1.7173318333575067"
      ]
     },
     "execution_count": 106,
     "metadata": {},
     "output_type": "execute_result"
    }
   ],
   "source": [
    "z_score = (mean_comp_samp - mean_comp_hyp) / std_error\n",
    "z_score"
   ]
  },
  {
   "cell_type": "markdown",
   "id": "7bb3ddad-8048-44d2-b64d-69a130a63008",
   "metadata": {},
   "source": [
    "## Z-skoru,\n",
    "bir örneklem ortalamasının (veya herhangi bir değerin) normal dağılımdaki beklenen değere (hipotez değeri) ne kadar uzak olduğunu ölçen bir standartlaştırılmış değerdir. \n",
    " Bu formülde, örneklem ortalaması ile beklenen değer arasındaki fark, standart hata ile bölünür. Bu, örneklem ortalamasının, beklenen (hipotez) değere ne kadar uzak olduğunu standart hata cinsinden gösterir.\n",
    "\n",
    "# Z-skoru genellikle şunu gösterir:\n",
    "\n",
    "Eğer z-skoru büyükse, örneklem ortalaması beklenen değerden oldukça uzak demektir.\n",
    "Eğer z-skoru küçükse, örneklem ortalaması beklenen değere çok yakın demektir.\n",
    "Z-skoru > 2 genellikle anlamlı bir farkı gösterir (özellikle %95 güven aralığında).\n",
    "\n",
    "Z-skoru < -2 de aynı şekilde anlamlı bir farkı gösterir.\n",
    "\n",
    "Eğer z-skoru 0'a yakınsa, bu, örneklem ortalamasının beklenen değere yakın olduğunu gösterir.\n",
    "\n",
    "## Z-Skorunun Yorumlanması:\n",
    "Z-skoru 0'dan büyük olduğunda, örneklem ortalaması beklenen değerden pozitif yönde uzaklaşmış demektir.\n",
    "Bu durumda z-skoru 1.7173 olduğu için, örneklem ortalaması beklenen değerden 1.7173 standart hata uzaklıkta demektir.\n",
    "Bu değeri %95 güven aralığı ile değerlendirdiğimizde, z-skorunun genellikle -1.96 ile +1.96 arasında olması gerektiği kabul edilir. Yani, 1.7173, bu aralığa yakın bir değerdir, ancak bu durumda hipotez testi yapılırsa, hipotezi reddetmek için yeterli bir fark oluşmaz. Bu durumda hipotez reddedilmez çünkü fark çok büyük değil.\n",
    "\n",
    "Sonuç:\n",
    "Bu z-skoru, beklenen değerden çok büyük bir sapma olmadığını ve örneklem ortalamasının beklenen değere yakın olduğunu gösterir.\n",
    "Genelde, z-skoru 2'nin üzerinde olduğunda, örneklem ortalaması ve beklenen değer arasında önemli bir fark olduğu kabul edilir, ancak burada fark o kadar büyük değil.\n",
    "Bu durumda z-skorunun bu değeri gösterdiği, örneklemin beklenen değere yakın olduğunu ve hipotezin reddedilmeyeceğini düşündürmektedir."
   ]
  },
  {
   "cell_type": "code",
   "execution_count": 107,
   "id": "b905a2d1-3c80-452e-9ebd-ea0092162529",
   "metadata": {},
   "outputs": [
    {
     "data": {
      "text/plain": [
       "[<matplotlib.lines.Line2D at 0x1747f0620>]"
      ]
     },
     "execution_count": 107,
     "metadata": {},
     "output_type": "execute_result"
    },
    {
     "data": {
      "image/png": "[encoded data removed]",
      "text/plain": [
       "<Figure size 640x480 with 1 Axes>"
      ]
     },
     "metadata": {},
     "output_type": "display_data"
    }
   ],
   "source": [
    "#z ortalaması 0 sapması 1 olan bir dağılımdır\n",
    "from scipy.stats import norm\n",
    "z_data = np.arange(-4, 4, 0.1)\n",
    "plt.plot(z_data, norm.pdf(z_data, loc = 0, scale = 1))"
   ]
  },
  {
   "cell_type": "markdown",
   "id": "0015b4ac-f635-4cbe-8d36-cd401d0c357a",
   "metadata": {},
   "source": [
    "plt.plot(z_data, norm.pdf(z_data, loc = 0, scale = 1)):\n",
    "\n",
    "norm.pdf() fonksiyonu, verilen z_data değerleri için standart normal dağılımın olasılık yoğunluk fonksiyonunu hesaplar. loc=0 ve scale=1 parametreleri, standart normal dağılımın ortalamasının 0 ve standart sapmasının 1 olduğunu belirtir.\n",
    "plt.plot() fonksiyonu, z_data (x ekseni) ve norm.pdf() (y ekseni) kullanarak bir çizgi grafiği oluşturur.\n",
    "\n",
    "Bu grafik, standart normal dağılımı görselleştirir. Grafikte x ekseni z-değerlerini (standart normal dağılımdaki herhangi bir değeri) temsil ederken, y ekseni bu z-değerlerinin olasılık yoğunluklarını (PDF) temsil eder.\n",
    "\n",
    "Grafik, z-değeri 0'da maksimum olur ve her iki tarafta simetrik olarak azalır.\n",
    "Bu, standart normal dağılımın tipik çan eğrisini gösterir.\n",
    "\n",
    "\n",
    "\n",
    "\n",
    "\n"
   ]
  },
  {
   "cell_type": "code",
   "execution_count": 108,
   "id": "64ce44bf-0904-4990-9cbf-95a46e25147f",
   "metadata": {},
   "outputs": [],
   "source": [
    "#z skoru hesaplanırken p değerleri 0 hipotezi için desteğin gücünü öölçer. \n",
    "first_code_boot_distn = []\n",
    "for i in range(5000):\n",
    "    first_code_boot_distn.append(\n",
    "        np.mean(\n",
    "            (df_stck.sample(frac=1, replace=True)\n",
    "             ['age_first_code_cut'] == 'child').mean()\n",
    "        )\n",
    "    )\n",
    "    #Kodda, z-skoru hesaplanırken p-değerleri 0 hipotezi (null hypothesis) için desteğin gücünü ölçer.\n",
    "Bootstrap dağılımı ile elde edilen 'child' oranları üzerinden, hipotez testi yapılabilir ve z-skoru kullanılarak örneklem oranının beklenen değerden ne kadar uzak olduğu hesaplanabilir.\n"
   ]
  },
  {
   "cell_type": "code",
   "execution_count": 117,
   "id": "4aeca49e-496c-4c87-ab81-f065ef66cd61",
   "metadata": {},
   "outputs": [
    {
     "data": {
      "text/plain": [
       "0.39141972578505085"
      ]
     },
     "execution_count": 117,
     "metadata": {},
     "output_type": "execute_result"
    }
   ],
   "source": [
    "prop_child_samp = (df_stck['age_first_code_cut'] == 'child').mean()\n",
    "prop_child_samp"
   ]
  },
  {
   "cell_type": "code",
   "execution_count": 119,
   "id": "14d5e9ca-5ca7-4c6d-b4ac-5f65b05ac56f",
   "metadata": {},
   "outputs": [],
   "source": [
    "prop_child_hyp = 0.35"
   ]
  },
  {
   "cell_type": "code",
   "execution_count": 121,
   "id": "7678dcfe-ccb2-4185-8b11-96453d862151",
   "metadata": {},
   "outputs": [
    {
     "data": {
      "text/plain": [
       "0.010287467713481485"
      ]
     },
     "execution_count": 121,
     "metadata": {},
     "output_type": "execute_result"
    }
   ],
   "source": [
    "std_err = np.std(first_code_boot_distn, ddof=1)\n",
    "std_err "
   ]
  },
  {
   "cell_type": "code",
   "execution_count": 123,
   "id": "5a73db35-103b-416c-b885-1916b69598e1",
   "metadata": {},
   "outputs": [
    {
     "data": {
      "text/plain": [
       "4.02623142435444"
      ]
     },
     "execution_count": 123,
     "metadata": {},
     "output_type": "execute_result"
    }
   ],
   "source": [
    "z_score = (prop_child_samp - prop_child_hyp) / std_err\n",
    "z_score #ort 0 std 1 z dağılımı denir"
   ]
  },
  {
   "cell_type": "code",
   "execution_count": null,
   "id": "c992bbaa-27de-4e2d-9a12-d1a975a88e22",
   "metadata": {},
   "outputs": [],
   "source": [
    "prop_child_samp: 'child' olan değerlerin örneklemdeki oranı.\n",
    "prop_child_hyp: Hipotez edilen oran (beklenen oran, burada %35).\n",
    "std_err: Standart hata, bootstrap örneklem dağılımındaki oranların yayılmasını ölçer.\n",
    "z_score: Z-skoru, örneklem oranının hipotez oranından ne kadar uzak olduğunu standart hata cinsinden ölçer. Buradaki z-skoru değeri 4.026 oldukça büyük olduğu için istatiksel olarak anlamlı bir fark olduğunu gösterir."
   ]
  },
  {
   "cell_type": "code",
   "execution_count": 127,
   "id": "db4c3a40-f6cb-45e2-94fd-7c26fba8355a",
   "metadata": {},
   "outputs": [
    {
     "data": {
      "text/plain": [
       "2.8338954363160695e-05"
      ]
     },
     "execution_count": 127,
     "metadata": {},
     "output_type": "execute_result"
    }
   ],
   "source": [
    "#sağ kuyruk testi olsuğu için 1 den çıkarılır\n",
    "from scipy.stats import norm\n",
    "\n",
    "1- norm.cdf(z_score, loc=0, scale=1) #h0 reddedilir küçük çıkıyor!"
   ]
  },
  {
   "cell_type": "code",
   "execution_count": null,
   "id": "408afd52-7f1d-4e83-aad2-1f61e4270360",
   "metadata": {},
   "outputs": [],
   "source": [
    "Z-skoru 4.026 olduğu için, p-değeri genellikle çok küçük olacaktır (çok düşük bir olasılık). Bu, hipotez testinde null hipotezini reddetmek anlamına gelir.\n",
    "\n",
    "Özet:\n",
    "norm.cdf(z_score): Z-skorunun solundaki alanı hesaplar (olasılık).\n",
    "1 - norm.cdf(z_score): Z-skorunun sağındaki alanı hesaplar (p-değeri).\n",
    "Sağ kuyruk testi için kullanılır; p-değeri küçükse mesela 0.05ten, null hipotezi reddedilir."
   ]
  },
  {
   "cell_type": "code",
   "execution_count": 129,
   "id": "15b9c8b2-b625-4aed-b418-b61fd174da32",
   "metadata": {},
   "outputs": [
    {
     "data": {
      "text/plain": [
       "2.8338954363160695e-05"
      ]
     },
     "execution_count": 129,
     "metadata": {},
     "output_type": "execute_result"
    }
   ],
   "source": [
    "from scipy.stats import norm\n",
    "\n",
    "alpha = 0.05  # Anlamlılık seviyesi (genellikle %5)\n",
    "prop_child_samp = (df_stck['age_first_code_cut'] == 'child').mean()  # Örneklemdeki 'child' oranı\n",
    "prop_child_hyp = 0.35  # Hipotez edilen çocuk oranı (null hipotezi)\n",
    "\n",
    "std_err = np.std(first_code_boot_distn, ddof=1)  # Standart hata (bootstrap dağılımından)\n",
    "z_score = (prop_child_samp - prop_child_hyp) / std_err  # Z-skoru hesaplama\n",
    "\n",
    "p_value = 1 - norm.cdf(z_score, loc=0, scale=1)  # Sağ kuyruk testi ile p-değeri hesaplama\n",
    "p_value  # p-değerini yazdırma\n"
   ]
  },
  {
   "cell_type": "markdown",
   "id": "546e4704-c84d-4d97-a0a0-295027644159",
   "metadata": {},
   "source": [
    "Bu satırda, anlamlılık seviyesi (genellikle %5) belirlenmiştir. Bu, p-değerinin 0.05'ten küçük olup olmadığını test edeceğimiz sınırdır. Eğer p-değeri 0.05'ten küçükse, null hipotezi reddedilir.\n",
    "prop_child_samp = (df_stck['age_first_code_cut'] == 'child').mean():\n",
    "\n",
    "Bu satır, df_stck veri çerçevesindeki 'age_first_code_cut' sütununda 'child' olan oranı hesaplar.\n",
    "df_stck['age_first_code_cut'] == 'child' ifadesi, 'child' olan her değeri True yapar, diğerlerini False yapar.\n",
    ".mean() bu True/False değerlerinin ortalamasını alır ve 'child' oranını verir. Sonuç prop_child_samp olarak saklanır.\n",
    "prop_child_hyp = 0.35:\n",
    "\n",
    "Bu satırda, hipotez edilen oran yani null hipotezi oranı belirlenir. Burada 0.35 (yani %35) çocuk oranı hipotez olarak kabul edilmiştir.\n",
    "std_err = np.std(first_code_boot_distn, ddof=1):\n",
    "\n",
    "Bu satırda, standart hata hesaplanır. first_code_boot_distn bootstrap örneklem dağılımındaki çocuk oranlarının dağılımını tutar.\n",
    "np.std(..., ddof=1) fonksiyonu, bu dağılımdaki örneklemdeki standart sapmayı Bessel düzeltmesi ile hesaplar. Bu, daha güvenilir bir standart hata tahmini sağlar.\n",
    "z_score = (prop_child_samp - prop_child_hyp) / std_err:\n",
    "\n",
    "Bu satırda z-skoru hesaplanır. Z-skoru, örneklem oranı ile hipotez oranı arasındaki farkı standart hata ile böler.\n",
    "Z-skoru, örneklem oranının hipotez oranından ne kadar uzaklaştığını ve bu farkın standart hata cinsinden ne kadar büyük olduğunu gösterir.\n",
    "p_value = 1 - norm.cdf(z_score, loc=0, scale=1):\n",
    "\n",
    "norm.cdf(z_score): Bu fonksiyon, z-skorunun solundaki alanı (olasılığı) hesaplar. Yani, z-skoru kadar olan toplam olasılığı hesaplar.\n",
    "1 - norm.cdf(z_score): Sağ kuyruk testi yapıldığı için, z-skorunun sağındaki alanı (p-değeri) hesaplamak için 1 - CDF yapılır. Bu, p-değerini verir.\n",
    "Eğer z-skoru pozitifse, sağdaki alan daha küçük olur ve bu, hipotez testinin anlamlılık seviyesini belirler.\n",
    "p_value:\n",
    "\n",
    "Bu, p-değerini yazdırır. Eğer p-değeri 0.05'ten küçükse, null hipotezi reddedilir ve örneklem oranının hipotez oranından istatistiksel olarak anlamlı bir farkı olduğu kabul edilir.\n",
    "Örnek:\n",
    "Diyelim ki prop_child_samp = 0.3914 (örneklemdeki 'child' oranı) ve prop_child_hyp = 0.35 (beklenen oran).\n",
    "\n",
    "Z-skoru hesaplanır ve sonra sağ kuyruk testi yapılır.\n",
    "p-değeri hesaplanır. Eğer p-değeri 0.05'ten küçükse, null hipotezi reddedilir.\n",
    "Özet:\n",
    "Bu kod, proportion test kullanarak bootstrap örneklem oranı ile hipotez edilen oranı karşılaştırır ve sağ kuyruk testi ile p-değeri hesaplar. P-değeri, örneklem oranının hipotez oranından ne kadar uzak olduğunu ve bunun istatistiksel olarak anlamlı olup olmadığını belirler."
   ]
  },
  {
   "cell_type": "code",
   "execution_count": 131,
   "id": "2e4d7fa3-dff7-4eeb-ae9b-e16c952ad3a7",
   "metadata": {},
   "outputs": [
    {
     "data": {
      "text/plain": [
       "True"
      ]
     },
     "execution_count": 131,
     "metadata": {},
     "output_type": "execute_result"
    }
   ],
   "source": [
    "p_value <= alpha "
   ]
  },
  {
   "cell_type": "code",
   "execution_count": 141,
   "id": "8f48168d-0bb5-4735-a0b3-8412b890aad8",
   "metadata": {},
   "outputs": [
    {
     "data": {
      "text/plain": [
       "(0.3715170278637771, 0.4117647058823529)"
      ]
     },
     "execution_count": 141,
     "metadata": {},
     "output_type": "execute_result"
    }
   ],
   "source": [
    "#güven aralıkları kantiller kullanılrak yapılabilir\n",
    "from scipy.stats import norm\n",
    "\n",
    "lower = np.quantile(first_code_boot_distn, 0.025)\n",
    "upper = np.quantile(first_code_boot_distn, 0.975)\n",
    "\n",
    "(lower,upper)\n",
    "#Güven Aralığının Yorumlanması:\n",
    "%95 güven aralığı genellikle %2.5 ve %97.5 kantilleri arasında yer alır. Yani, güven aralığı, bu kantiller arasında bulunan değerlerin %95'inin doğru parametreyi (örneğin, popülasyon oranını) kapsadığı varsayılır.\n",
    "Örneğin, eğer lower = 0.30 ve upper = 0.40 ise, bu, popülasyon oranının %95 güvenle %30 ile %40 arasında olduğu anlamına gelir.\n",
    "#Bu kod, bootstrap örneklem dağılımından %2.5 ve %97.5 kantillerini kullanarak, %95 güven aralığını hesaplar. Bu, verinizin güven aralığını anlamak için yaygın bir yöntemdir ve verinin merkezi eğilim ve belirsizliğini gösterir.\n"
   ]
  },
  {
   "cell_type": "code",
   "execution_count": 143,
   "id": "b21d0d51-f69c-4fc4-93c0-98a3bdc4019b",
   "metadata": {},
   "outputs": [
    {
     "data": {
      "text/plain": [
       "age_first_code_cut\n",
       "adult    111313.311047\n",
       "child    132419.570621\n",
       "Name: converted_comp, dtype: float64"
      ]
     },
     "execution_count": 143,
     "metadata": {},
     "output_type": "execute_result"
    }
   ],
   "source": [
    "#iki örneklemli problemler. t istatiği:\n",
    "df_stck.groupby('age_first_code_cut')['converted_comp'].mean()\n",
    "\n",
    "#Bu kod, iki grup arasındaki farkı (örneğin, 'adult' ve 'child' grupları arasında) istatistiksel olarak test etmek için kullanılır.\n",
    "#Hesaplanan t-istatistiği, iki grup arasındaki farkın anlamlı olup olmadığını test eder.\n",
    "\n",
    "#T-istatistiği çok büyükse, gruplar arasında istatistiksel olarak anlamlı bir fark olduğu kabul edilir.\n",
    "#Bu test, özellikle iki bağımsız grubun ortalamalarını karşılaştırmak için kullanılır.\n"
   ]
  },
  {
   "cell_type": "markdown",
   "id": "913669c7-a616-4950-8816-eae71191a1b2",
   "metadata": {},
   "source": [
    "### t-İstatistiği ve Hesaplama\n",
    "\n",
    "**t-İstatistiği**, iki örneklem arasındaki ortalama farkının anlamlı olup olmadığını test etmek için kullanılan bir istatistiksel testtir. Bu test, iki grup arasındaki farkın örneklem varyansı ile karşılaştırılmasını sağlar. Özellikle **iki bağımsız grup** için, örneklem büyüklükleri ve standart sapmaları göz önünde bulundurularak hesaplanır.\n",
    "\n",
    "#### **Formül:**\n",
    "\n",
    "İki bağımsız örneklem için t-istatistiği şu formülle hesaplanır:\n",
    "\n",
    "$$\n",
    "t = \\frac{\\bar{x}_1 - \\bar{x}_2}{\\sqrt{\\frac{s_1^2}{n_1} + \\frac{s_2^2}{n_2}}}\n",
    "$$\n",
    "\n",
    "- **$\\bar{x}_1$** ve **$\\bar{x}_2$**: İlk ve ikinci örneklemin ortalamaları  \n",
    "- **$s_1$** ve **$s_2$**: İlk ve ikinci örneklemin standart sapmaları  \n",
    "- **$n_1$** ve **$n_2$**: İlk ve ikinci örneklemin büyüklükleri  \n",
    "\n",
    "#### **Hesaplama Aşamaları:**\n",
    "\n",
    "1. **Örneklem Ortalamaları:**\n",
    "   - `adult` grubu: 111313.311047  \n",
    "   - `child` grubu: 132419.570621  \n",
    "\n",
    "2. **Standart Sapmalar:**\n",
    "   - `adult` grubu: 271546.521729  \n",
    "   - `child` grubu: 255585.240115  \n",
    "\n",
    "3. **Örneklem Büyüklükleri:**\n",
    "   - `adult` grubu: 1376  \n",
    "   - `child` grubu: 885  \n",
    "\n",
    "4. **t-İstatistiği Hesaplama:**\n",
    "   - Formülde belirtilen verilerle t-istatistiği hesaplanır.\n",
    "\n",
    "#### **t-İstatistiği Sonucu:**\n",
    "\n",
    "Sonuç şu şekilde hesaplanmıştır:\n",
    "\n",
    "$$\n",
    "t = 1.8699313316221844\n",
    "$$\n",
    "\n",
    "#### **Sonuç Yorumlanması:**\n",
    "\n",
    "- Hesaplanan t-değeri **1.87**'dir.\n",
    "- Bu değeri anlamlılık seviyeleriyle karşılaştırarak gruplar arasındaki farkın anlamlı olup olmadığını test edebiliriz.\n",
    "  - Eğer **t-değeri** kritik değerden (örneğin, 1.96) küçükse, null hipotezi reddedemeyiz ve iki grup arasındaki fark anlamlı değildir.\n",
    "  - Eğer **t-değeri** büyükse, null hipotezini reddederiz ve iki grup arasında anlamlı bir fark olduğunu kabul ederiz.\n",
    "  \n",
    "Bu durumda, **1.87**'lik t-değeri **1.96’dan küçük** olduğu için, bu iki grup arasındaki farkın istatistiksel olarak anlamlı olmadığı sonucuna varılır.\n",
    "\n",
    "\n",
    "Hayır, kritik değer ve anlamlılık düzeyi birbirinden farklı ama birbiriyle ilişkili kavramlardır:\n",
    "\n",
    "Anlamlılık düzeyi (\n",
    "𝛼\n",
    "α): İstatistiksel testte kabul edilebilir maksimum hata (yanlış pozitif) olasılığını gösterir. En yaygın kullanılan değerler, \n",
    "𝛼\n",
    "=\n",
    "0.05\n",
    "α=0.05, \n",
    "𝛼\n",
    "=\n",
    "0.01\n",
    "α=0.01 veya \n",
    "𝛼\n",
    "=\n",
    "0.001\n",
    "α=0.001 gibi düzeylerdir.\n",
    "\n",
    "Kritik değer: Seçilen anlamlılık düzeyine ve testin tipine (tek yönlü veya çift yönlü test) göre, istatistiksel dağılımdan (t-dağılımı, Z-dağılımı vb.) elde edilen bir eşik değeridir. Bu değerin ötesinde kalan test istatistiği değerleri, “istatistiksel olarak anlamlı” sonuçları gösterir.\n",
    "\n",
    "Dolayısıyla, kritik değer hesaplanırken veya tablolarından okunurken, anlamlılık düzeyi (\n",
    "𝛼\n",
    "α) ve serbestlik derecesi (degrees of freedom) birlikte kullanılır.\n"
   ]
  },
  {
   "cell_type": "code",
   "execution_count": 145,
   "id": "6c4ee778-4021-40c9-9a43-ecda576707e7",
   "metadata": {},
   "outputs": [
    {
     "data": {
      "text/plain": [
       "age_first_code_cut\n",
       "adult    111313.311047\n",
       "child    132419.570621\n",
       "Name: converted_comp, dtype: float64"
      ]
     },
     "execution_count": 145,
     "metadata": {},
     "output_type": "execute_result"
    }
   ],
   "source": [
    "#formülü kullanıyoruz:\n",
    "xbar = df_stck.groupby('age_first_code_cut')['converted_comp'].mean()\n",
    "xbar"
   ]
  },
  {
   "cell_type": "code",
   "execution_count": 147,
   "id": "1bf03db2-a71b-4816-b922-8619e201552f",
   "metadata": {},
   "outputs": [
    {
     "data": {
      "text/plain": [
       "age_first_code_cut\n",
       "adult    271546.521729\n",
       "child    255585.240115\n",
       "Name: converted_comp, dtype: float64"
      ]
     },
     "execution_count": 147,
     "metadata": {},
     "output_type": "execute_result"
    }
   ],
   "source": [
    "s = df_stck.groupby('age_first_code_cut')['converted_comp'].std()\n",
    "s"
   ]
  },
  {
   "cell_type": "code",
   "execution_count": 149,
   "id": "fda4a9d3-171e-41a4-892d-622d0f6246bb",
   "metadata": {},
   "outputs": [
    {
     "data": {
      "text/plain": [
       "age_first_code_cut\n",
       "adult    1376\n",
       "child     885\n",
       "Name: converted_comp, dtype: int64"
      ]
     },
     "execution_count": 149,
     "metadata": {},
     "output_type": "execute_result"
    }
   ],
   "source": [
    "n = df_stck.groupby('age_first_code_cut')['converted_comp'].count()\n",
    "n"
   ]
  },
  {
   "cell_type": "code",
   "execution_count": 151,
   "id": "c7639481-2596-42a2-b30b-348e247c6629",
   "metadata": {},
   "outputs": [
    {
     "data": {
      "text/html": [
       "<div>\n",
       "<style scoped>\n",
       "    .dataframe tbody tr th:only-of-type {\n",
       "        vertical-align: middle;\n",
       "    }\n",
       "\n",
       "    .dataframe tbody tr th {\n",
       "        vertical-align: top;\n",
       "    }\n",
       "\n",
       "    .dataframe thead th {\n",
       "        text-align: right;\n",
       "    }\n",
       "</style>\n",
       "<table border=\"1\" class=\"dataframe\">\n",
       "  <thead>\n",
       "    <tr style=\"text-align: right;\">\n",
       "      <th></th>\n",
       "      <th>mean</th>\n",
       "      <th>std</th>\n",
       "      <th>count</th>\n",
       "    </tr>\n",
       "    <tr>\n",
       "      <th>age_first_code_cut</th>\n",
       "      <th></th>\n",
       "      <th></th>\n",
       "      <th></th>\n",
       "    </tr>\n",
       "  </thead>\n",
       "  <tbody>\n",
       "    <tr>\n",
       "      <th>adult</th>\n",
       "      <td>111313.311047</td>\n",
       "      <td>271546.521729</td>\n",
       "      <td>1376</td>\n",
       "    </tr>\n",
       "    <tr>\n",
       "      <th>child</th>\n",
       "      <td>132419.570621</td>\n",
       "      <td>255585.240115</td>\n",
       "      <td>885</td>\n",
       "    </tr>\n",
       "  </tbody>\n",
       "</table>\n",
       "</div>"
      ],
      "text/plain": [
       "                             mean            std  count\n",
       "age_first_code_cut                                     \n",
       "adult               111313.311047  271546.521729   1376\n",
       "child               132419.570621  255585.240115    885"
      ]
     },
     "execution_count": 151,
     "metadata": {},
     "output_type": "execute_result"
    }
   ],
   "source": [
    "# \n",
    "df_stck.groupby('age_first_code_cut')['converted_comp'].agg(['mean', 'std', 'count']) #biri seri bir df veriyor. bu df verir!"
   ]
  },
  {
   "cell_type": "code",
   "execution_count": 153,
   "id": "5a30bf80-d36d-4c07-8632-974a3f4715fb",
   "metadata": {},
   "outputs": [
    {
     "data": {
      "text/plain": [
       "1.8699313316221844"
      ]
     },
     "execution_count": 153,
     "metadata": {},
     "output_type": "execute_result"
    }
   ],
   "source": [
    "import numpy as np\n",
    "pay = xbar.iloc[1] - xbar.iloc[0]\n",
    "payda = np.sqrt(s.iloc[1]**2 / n.iloc[1] + s.iloc[0]**2 / n.iloc[0])\n",
    "t_stat = pay /payda\n",
    "t_stat"
   ]
  },
  {
   "cell_type": "code",
   "execution_count": 155,
   "id": "d8cc9521-322e-4525-8afc-d7a78d9cef18",
   "metadata": {},
   "outputs": [
    {
     "data": {
      "text/plain": [
       "Text(0, 0.5, 'PDF(x)')"
      ]
     },
     "execution_count": 155,
     "metadata": {},
     "output_type": "execute_result"
    },
    {
     "data": {
      "image/png": "[encoded data removed]",
      "text/plain": [
       "<Figure size 640x480 with 1 Axes>"
      ]
     },
     "metadata": {},
     "output_type": "display_data"
    }
   ],
   "source": [
    "import numpy as np\n",
    "import matplotlib.pyplot as plt\n",
    "import scipy.stats as stats\n",
    "\n",
    "x = np.linspace(-4, 4, 100)  # -4 ile 4 arasında 100 eşit aralıklı değerler oluşturuyoruz.\n",
    "plt.plot(x, stats.norm.pdf(x), label='Normal', linestyle='--', color='blue')  # Normal dağılımın PDF'ini çiziyoruz.\n",
    "plt.plot(x, stats.t.pdf(x, 1), label='t:df=1', color='yellow')  # t dağılımının PDF'ini çiziyoruz, df=1.\n",
    "plt.legend()  # Grafik için açıklama ekliyoruz.\n",
    "plt.xlabel('x')  # x eksenini etiketliyoruz.\n",
    "plt.ylabel('PDF(x)')  # y eksenini etiketliyoruz.\n",
    "#Kod, normal dağılım ve t dağılımının grafiklerini çiziyor.\n",
    "Normal dağılım sabit bir şekle sahiptir ve t dağılımı, serbestlik derecesine bağlı olarak farklılık gösterir.\n",
    "df=1 ile çizilen t dağılımı, normal dağılımdan daha geniş ve daha kısa kuyruklara sahiptir.\n",
    "Serbestlik derecesi arttıkça, t dağılımı normal dağılıma yaklaşır.\n",
    "Grafiğin Yorumlanması:\n",
    "t dağılımı, küçük serbestlik dereceleri (örneğin df=1) ile daha geniş kuyruklara sahipken, serbestlik derecesi arttıkça (örneğin df=30 veya df=100) normal dağılıma yaklaşır.\n",
    "Bu, normal dağılımın bir limit hali olarak t dağılımının daha küçük serbestlik derecelerinde farklılıklar gösterdiğini ve büyük serbestlik derecelerinde normal dağılıma yakınsadığını gösterir.\n",
    "Özet:\n",
    "Bu kod, normal dağılım ve t dağılımını karşılaştıran bir grafik çizer. t dağılımı, serbestlik derecesi küçük olduğunda normal dağılımdan daha geniş kuyruklara sahiptir ve serbestlik derecesi arttıkça normal dağılıma yaklaşır.\n"
   ]
  },
  {
   "cell_type": "code",
   "execution_count": 159,
   "id": "29ea6f72-2973-4686-b22e-e6e9d658e319",
   "metadata": {},
   "outputs": [
    {
     "data": {
      "image/png": "[encoded data removed]",
      "text/plain": [
       "<Figure size 640x480 with 1 Axes>"
      ]
     },
     "metadata": {},
     "output_type": "display_data"
    }
   ],
   "source": [
    "import numpy as np\n",
    "import matplotlib.pyplot as plt\n",
    "import scipy.stats as stats\n",
    "\n",
    "x = np.linspace(-4, 4, 100)  # -4 ile 4 arasında 100 eşit aralıklı değerler oluşturuyoruz.\n",
    "\n",
    "# Farklı serbestlik dereceleri için t dağılımını çiziyoruz\n",
    "for df in [1, 2, 4, 8]:\n",
    "    plt.plot(x, stats.t.pdf(x, df), label=f'df={df}')\n",
    "\n",
    "# Normal dağılımı çiziyoruz\n",
    "plt.plot(x, stats.norm.pdf(x), label='Normal', linestyle='--')\n",
    "\n",
    "plt.legend()  # Grafik için açıklama ekliyoruz.\n",
    "plt.title('t-distribution with different degrees of freedom')  # Başlık ekliyoruz.\n",
    "plt.xlabel('x')  # x eksenini etiketliyoruz.\n",
    "plt.ylabel('PDF(x)')  # y eksenini etiketliyoruz.\n",
    "plt.show()  # Grafiği gösteriyoruz.\n",
    "\n",
    "\n",
    "\n",
    "# t dağılımı ve normal dağılım grafikleri karşılaştırıldığında:\n",
    "Serbestlik derecesi düşük olduğunda (df=1, 2), t dağılımı daha geniş kuyruklara sahip olur. Yani, daha fazla ağırlık uç değerlerde bulunur.\n",
    "Serbestlik derecesi arttıkça (df=4, 8), t dağılımı normal dağılıma daha çok benzer hale gelir.\n",
    "Normal dağılım, serbestlik derecesi yüksek olan t dağılımına yaklaşır."
   ]
  },
  {
   "cell_type": "code",
   "execution_count": 161,
   "id": "5462bb7d-9242-4eed-b56b-a92d04db6adc",
   "metadata": {},
   "outputs": [
    {
     "data": {
      "text/plain": [
       "2259"
      ]
     },
     "execution_count": 161,
     "metadata": {},
     "output_type": "execute_result"
    }
   ],
   "source": [
    "degrees_of_freedom = n.iloc[0] + n.iloc[1] - 2\n",
    "degrees_of_freedom\n",
    "#n.iloc[0] = 1376 (adult grubu için),\n",
    "#n.iloc[1] = 885 (child grubu için),"
   ]
  },
  {
   "cell_type": "code",
   "execution_count": 163,
   "id": "354fc633-4e2a-4f86-ac14-2645533599a6",
   "metadata": {},
   "outputs": [
    {
     "data": {
      "text/plain": [
       "0.030811302165157595"
      ]
     },
     "execution_count": 163,
     "metadata": {},
     "output_type": "execute_result"
    }
   ],
   "source": [
    "from scipy.stats import t #reddedilir!\n",
    "1 - t.cdf(t_stat, df=degrees_of_freedom)\n",
    "\n",
    "#Bu kod, sağ kuyruk testi kullanarak p-değerini hesaplar. t.cdf() fonksiyonu ile t-istatistiği için solundaki alan hesaplanır ve 1 - CDF ile sağdaki alan (p-değeri) bulunur. p-değeri, hipotez testinde null hipotezinin reddedilip reddedilmeyeceğini belirler. Eğer p-değeri 0.05'ten küçükse, null hipotezini reddederiz."
   ]
  },
  {
   "cell_type": "markdown",
   "id": "6d3d0db3-cc0f-40b2-84d1-ab7d5a87f242",
   "metadata": {},
   "source": [
    "### Kod Parçasının Açıklaması\n",
    "\n",
    "1. **`n = df_stck.groupby('age_first_code_cut')['converted_comp'].count()`**  \n",
    "   - `df_stck` isimli DataFrame’de, `'age_first_code_cut'` değişkenine göre gruplama yaparak, her gruptaki (`adult`, `child`) gözlem sayısını (`count()`) bulur. Bu sonuç **n** değişkenine atanır.  \n",
    "   - Örneğin:  \n",
    "     - `n.iloc[0] = 1376` → `adult` grubundaki gözlem sayısı  \n",
    "     - `n.iloc[1] = 885` → `child` grubundaki gözlem sayısı  \n",
    "\n",
    "2. **`degrees_of_freedom = n.iloc[0] + n.iloc[1] - 2`**  \n",
    "   - İki bağımsız örneklem için kullanılan, klasik t-testindeki **serbestlik derecesi** (degrees of freedom) yaklaşık olarak şu formülle hesaplanır:  \n",
    "     $$\n",
    "     df = n_1 + n_2 - 2\n",
    "     $$  \n",
    "   - Bu örnekte, $1376 + 885 - 2 = 2259$ olarak bulunur.\n",
    "\n",
    "3. **`from scipy.stats import t`**  \n",
    "   - `scipy.stats` kütüphanesinden `t` (Student’s t dağılımı) import edilir. Bu kütüphane, t dağılımına dair olasılık hesaplamalarını yapabilmemizi sağlar.\n",
    "\n",
    "4. **`1 - t.cdf(t_stat, df=degrees_of_freedom)`**  \n",
    "   - `t.cdf(x, df)` fonksiyonu, t-dağılımının belirli bir **df** (serbestlik derecesi) için, **x** değerinin solunda kalan alanı (kümülatif olasılığı) döndürür.\n",
    "   - `t_stat`, önceki adımlarda hesaplanmış olan **t-istatistiğidir**.\n",
    "   - **`1 - t.cdf(t_stat, df=degrees_of_freedom)`** ifadesi ise **t_stat** değerinin sağında kalan alanı verir:  \n",
    "     $$\n",
    "     p\\text{-değeri} = P(T > t_\\text{stat})\n",
    "     $$\n",
    "   - Bu, **sağ kuyruk testi** (right-tailed test) için **p-değerini** ifade eder.\n",
    "\n",
    "5. **p-Değerine Göre Karar Verme**  \n",
    "   - Eğer bulunan p-değer, önceden belirlenen anlamlılık düzeyinden (genellikle 0.05) küçükse, **null hipotezi reddedilir** ve sonuç istatistiksel olarak anlamlı bulunur.  \n",
    "   - Eğer p-değer 0.05’ten büyükse, null hipotezini reddetmek için yeterli kanıt olmadığı sonucuna varılır.\n",
    "\n",
    "**Kısaca:**  \n",
    "Bu kod parçası, hesaplanmış olan **t_stat** değeri için sağ taraftaki olasılığı (p-değerini) t-dağılımı üzerinden elde eder. Sonrasında, p-değeri 0.05 gibi bir anlamlılık düzeyiyle karşılaştırılarak, hipotezin reddedilip reddedilmeyeceğine karar verilir.\n"
   ]
  },
  {
   "cell_type": "code",
   "execution_count": 165,
   "id": "f39f5f1c-74ed-40c2-9add-6b4308bb2dd6",
   "metadata": {},
   "outputs": [
    {
     "data": {
      "text/html": [
       "<div>\n",
       "<style scoped>\n",
       "    .dataframe tbody tr th:only-of-type {\n",
       "        vertical-align: middle;\n",
       "    }\n",
       "\n",
       "    .dataframe tbody tr th {\n",
       "        vertical-align: top;\n",
       "    }\n",
       "\n",
       "    .dataframe thead th {\n",
       "        text-align: right;\n",
       "    }\n",
       "</style>\n",
       "<table border=\"1\" class=\"dataframe\">\n",
       "  <thead>\n",
       "    <tr style=\"text-align: right;\">\n",
       "      <th></th>\n",
       "      <th>state</th>\n",
       "      <th>county</th>\n",
       "      <th>repub_percent_08</th>\n",
       "      <th>repub_percent_12</th>\n",
       "    </tr>\n",
       "  </thead>\n",
       "  <tbody>\n",
       "    <tr>\n",
       "      <th>0</th>\n",
       "      <td>Alabama</td>\n",
       "      <td>Hale</td>\n",
       "      <td>38.957877</td>\n",
       "      <td>37.139882</td>\n",
       "    </tr>\n",
       "    <tr>\n",
       "      <th>1</th>\n",
       "      <td>Arkansas</td>\n",
       "      <td>Nevada</td>\n",
       "      <td>56.726272</td>\n",
       "      <td>58.983452</td>\n",
       "    </tr>\n",
       "    <tr>\n",
       "      <th>2</th>\n",
       "      <td>California</td>\n",
       "      <td>Lake</td>\n",
       "      <td>38.896719</td>\n",
       "      <td>39.331367</td>\n",
       "    </tr>\n",
       "    <tr>\n",
       "      <th>3</th>\n",
       "      <td>California</td>\n",
       "      <td>Ventura</td>\n",
       "      <td>42.923190</td>\n",
       "      <td>45.250693</td>\n",
       "    </tr>\n",
       "    <tr>\n",
       "      <th>4</th>\n",
       "      <td>Colorado</td>\n",
       "      <td>Lincoln</td>\n",
       "      <td>74.522569</td>\n",
       "      <td>73.764757</td>\n",
       "    </tr>\n",
       "    <tr>\n",
       "      <th>...</th>\n",
       "      <td>...</td>\n",
       "      <td>...</td>\n",
       "      <td>...</td>\n",
       "      <td>...</td>\n",
       "    </tr>\n",
       "    <tr>\n",
       "      <th>95</th>\n",
       "      <td>Wisconsin</td>\n",
       "      <td>Burnett</td>\n",
       "      <td>48.342541</td>\n",
       "      <td>52.437478</td>\n",
       "    </tr>\n",
       "    <tr>\n",
       "      <th>96</th>\n",
       "      <td>Wisconsin</td>\n",
       "      <td>La Crosse</td>\n",
       "      <td>37.490904</td>\n",
       "      <td>40.577038</td>\n",
       "    </tr>\n",
       "    <tr>\n",
       "      <th>97</th>\n",
       "      <td>Wisconsin</td>\n",
       "      <td>Lafayette</td>\n",
       "      <td>38.104967</td>\n",
       "      <td>41.675050</td>\n",
       "    </tr>\n",
       "    <tr>\n",
       "      <th>98</th>\n",
       "      <td>Wyoming</td>\n",
       "      <td>Weston</td>\n",
       "      <td>76.684241</td>\n",
       "      <td>83.983328</td>\n",
       "    </tr>\n",
       "    <tr>\n",
       "      <th>99</th>\n",
       "      <td>Alaska</td>\n",
       "      <td>District 34</td>\n",
       "      <td>77.063259</td>\n",
       "      <td>40.789626</td>\n",
       "    </tr>\n",
       "  </tbody>\n",
       "</table>\n",
       "<p>100 rows × 4 columns</p>\n",
       "</div>"
      ],
      "text/plain": [
       "         state       county  repub_percent_08  repub_percent_12\n",
       "0      Alabama         Hale         38.957877         37.139882\n",
       "1     Arkansas       Nevada         56.726272         58.983452\n",
       "2   California         Lake         38.896719         39.331367\n",
       "3   California      Ventura         42.923190         45.250693\n",
       "4     Colorado      Lincoln         74.522569         73.764757\n",
       "..         ...          ...               ...               ...\n",
       "95   Wisconsin      Burnett         48.342541         52.437478\n",
       "96   Wisconsin    La Crosse         37.490904         40.577038\n",
       "97   Wisconsin    Lafayette         38.104967         41.675050\n",
       "98     Wyoming       Weston         76.684241         83.983328\n",
       "99      Alaska  District 34         77.063259         40.789626\n",
       "\n",
       "[100 rows x 4 columns]"
      ]
     },
     "execution_count": 165,
     "metadata": {},
     "output_type": "execute_result"
    }
   ],
   "source": [
    "import pandas as pd\n",
    "\n",
    "df_election = pd.read_feather('data/repub_votes_potus_08_12.feather')\n",
    "\n",
    "df_election"
   ]
  },
  {
   "cell_type": "code",
   "execution_count": 167,
   "id": "d1fe8957-9505-4ff3-8011-b882ae4599ba",
   "metadata": {},
   "outputs": [
    {
     "data": {
      "text/html": [
       "<div>\n",
       "<style scoped>\n",
       "    .dataframe tbody tr th:only-of-type {\n",
       "        vertical-align: middle;\n",
       "    }\n",
       "\n",
       "    .dataframe tbody tr th {\n",
       "        vertical-align: top;\n",
       "    }\n",
       "\n",
       "    .dataframe thead th {\n",
       "        text-align: right;\n",
       "    }\n",
       "</style>\n",
       "<table border=\"1\" class=\"dataframe\">\n",
       "  <thead>\n",
       "    <tr style=\"text-align: right;\">\n",
       "      <th></th>\n",
       "      <th>state</th>\n",
       "      <th>county</th>\n",
       "      <th>repub_percent_08</th>\n",
       "      <th>repub_percent_12</th>\n",
       "      <th>diff</th>\n",
       "    </tr>\n",
       "  </thead>\n",
       "  <tbody>\n",
       "    <tr>\n",
       "      <th>0</th>\n",
       "      <td>Alabama</td>\n",
       "      <td>Hale</td>\n",
       "      <td>38.957877</td>\n",
       "      <td>37.139882</td>\n",
       "      <td>1.817995</td>\n",
       "    </tr>\n",
       "    <tr>\n",
       "      <th>1</th>\n",
       "      <td>Arkansas</td>\n",
       "      <td>Nevada</td>\n",
       "      <td>56.726272</td>\n",
       "      <td>58.983452</td>\n",
       "      <td>-2.257179</td>\n",
       "    </tr>\n",
       "    <tr>\n",
       "      <th>2</th>\n",
       "      <td>California</td>\n",
       "      <td>Lake</td>\n",
       "      <td>38.896719</td>\n",
       "      <td>39.331367</td>\n",
       "      <td>-0.434648</td>\n",
       "    </tr>\n",
       "    <tr>\n",
       "      <th>3</th>\n",
       "      <td>California</td>\n",
       "      <td>Ventura</td>\n",
       "      <td>42.923190</td>\n",
       "      <td>45.250693</td>\n",
       "      <td>-2.327503</td>\n",
       "    </tr>\n",
       "    <tr>\n",
       "      <th>4</th>\n",
       "      <td>Colorado</td>\n",
       "      <td>Lincoln</td>\n",
       "      <td>74.522569</td>\n",
       "      <td>73.764757</td>\n",
       "      <td>0.757812</td>\n",
       "    </tr>\n",
       "    <tr>\n",
       "      <th>...</th>\n",
       "      <td>...</td>\n",
       "      <td>...</td>\n",
       "      <td>...</td>\n",
       "      <td>...</td>\n",
       "      <td>...</td>\n",
       "    </tr>\n",
       "    <tr>\n",
       "      <th>95</th>\n",
       "      <td>Wisconsin</td>\n",
       "      <td>Burnett</td>\n",
       "      <td>48.342541</td>\n",
       "      <td>52.437478</td>\n",
       "      <td>-4.094937</td>\n",
       "    </tr>\n",
       "    <tr>\n",
       "      <th>96</th>\n",
       "      <td>Wisconsin</td>\n",
       "      <td>La Crosse</td>\n",
       "      <td>37.490904</td>\n",
       "      <td>40.577038</td>\n",
       "      <td>-3.086134</td>\n",
       "    </tr>\n",
       "    <tr>\n",
       "      <th>97</th>\n",
       "      <td>Wisconsin</td>\n",
       "      <td>Lafayette</td>\n",
       "      <td>38.104967</td>\n",
       "      <td>41.675050</td>\n",
       "      <td>-3.570083</td>\n",
       "    </tr>\n",
       "    <tr>\n",
       "      <th>98</th>\n",
       "      <td>Wyoming</td>\n",
       "      <td>Weston</td>\n",
       "      <td>76.684241</td>\n",
       "      <td>83.983328</td>\n",
       "      <td>-7.299087</td>\n",
       "    </tr>\n",
       "    <tr>\n",
       "      <th>99</th>\n",
       "      <td>Alaska</td>\n",
       "      <td>District 34</td>\n",
       "      <td>77.063259</td>\n",
       "      <td>40.789626</td>\n",
       "      <td>36.273633</td>\n",
       "    </tr>\n",
       "  </tbody>\n",
       "</table>\n",
       "<p>100 rows × 5 columns</p>\n",
       "</div>"
      ],
      "text/plain": [
       "         state       county  repub_percent_08  repub_percent_12       diff\n",
       "0      Alabama         Hale         38.957877         37.139882   1.817995\n",
       "1     Arkansas       Nevada         56.726272         58.983452  -2.257179\n",
       "2   California         Lake         38.896719         39.331367  -0.434648\n",
       "3   California      Ventura         42.923190         45.250693  -2.327503\n",
       "4     Colorado      Lincoln         74.522569         73.764757   0.757812\n",
       "..         ...          ...               ...               ...        ...\n",
       "95   Wisconsin      Burnett         48.342541         52.437478  -4.094937\n",
       "96   Wisconsin    La Crosse         37.490904         40.577038  -3.086134\n",
       "97   Wisconsin    Lafayette         38.104967         41.675050  -3.570083\n",
       "98     Wyoming       Weston         76.684241         83.983328  -7.299087\n",
       "99      Alaska  District 34         77.063259         40.789626  36.273633\n",
       "\n",
       "[100 rows x 5 columns]"
      ]
     },
     "execution_count": 167,
     "metadata": {},
     "output_type": "execute_result"
    }
   ],
   "source": [
    "sample_data = df_election.copy()\n",
    "sample_data['diff'] = sample_data['repub_percent_08'] - sample_data['repub_percent_12']\n",
    "sample_data"
   ]
  },
  {
   "cell_type": "code",
   "execution_count": 169,
   "id": "e5c51333-0dde-4dd4-8f75-0369ce0d08e8",
   "metadata": {},
   "outputs": [
    {
     "data": {
      "text/plain": [
       "(array([ 1.,  1.,  3., 12., 29., 28., 21.,  4.,  0.,  0.,  0.,  0.,  0.,\n",
       "         0.,  0.,  0.,  0.,  0.,  0.,  1.]),\n",
       " array([-16.73039829, -14.08019672, -11.42999514,  -8.77979356,\n",
       "         -6.12959198,  -3.4793904 ,  -0.82918882,   1.82101276,\n",
       "          4.47121434,   7.12141592,   9.7716175 ,  12.42181908,\n",
       "         15.07202066,  17.72222224,  20.37242382,  23.0226254 ,\n",
       "         25.67282698,  28.32302856,  30.97323013,  33.62343171,\n",
       "         36.27363329]),\n",
       " <BarContainer object of 20 artists>)"
      ]
     },
     "execution_count": 169,
     "metadata": {},
     "output_type": "execute_result"
    },
    {
     "data": {
      "image/png": "[encoded data removed]",
      "text/plain": [
       "<Figure size 640x480 with 1 Axes>"
      ]
     },
     "metadata": {},
     "output_type": "display_data"
    }
   ],
   "source": [
    "import matplotlib.pyplot as plt\n",
    "plt.hist(sample_data['diff'], bins=20)"
   ]
  },
  {
   "cell_type": "code",
   "execution_count": 171,
   "id": "e65650a8-935e-47bd-9a85-fe07a7e80d75",
   "metadata": {},
   "outputs": [
    {
     "data": {
      "text/plain": [
       "-2.877109041242944"
      ]
     },
     "execution_count": 171,
     "metadata": {},
     "output_type": "execute_result"
    }
   ],
   "source": [
    "x_bar_diff = sample_data['diff'].mean()\n",
    "x_bar_diff"
   ]
  },
  {
   "cell_type": "code",
   "execution_count": 179,
   "id": "b1af23ad-1e23-4e14-9c50-2d233485b775",
   "metadata": {},
   "outputs": [
    {
     "data": {
      "text/plain": [
       "-5.601043121928489"
      ]
     },
     "execution_count": 179,
     "metadata": {},
     "output_type": "execute_result"
    }
   ],
   "source": [
    "#formülü kullanalım: tek örneklem t istatistiği\n",
    "import numpy as np\n",
    "\n",
    "n_diff = len(sample_data) \n",
    "s_diff = sample_data['diff'].std()\n",
    "t_stat = (x_bar_diff - 0) / np.sqrt(s_diff**2 / n_diff)\n",
    "t_stat"
   ]
  },
  {
   "cell_type": "markdown",
   "id": "6b6f6484-00ee-47e5-bcec-25bd4164f249",
   "metadata": {},
   "source": [
    "### Tek Örneklem T-Testi ile İki Örneklem T-Testi Arasındaki Fark\n",
    "\n",
    "#### 1. Tek Örneklem T-Testi Nedir?\n",
    "\n",
    "- **Tanım**: Tek örneklem t-testi, bir örneklemin ortalamasının belirli bir teorik veya beklenen değerden (genellikle 0, 100 vb.) anlamlı şekilde farklı olup olmadığını test etmek için kullanılır.  \n",
    "- **Formül** (basit hali):  \n",
    "  $$\n",
    "  t = \\frac{\\bar{x} - \\mu_0}{\\sqrt{\\frac{s^2}{n}}}\n",
    "  $$\n",
    "  - \\(\\bar{x}\\): Örneklem ortalaması  \n",
    "  - \\(\\mu_0\\): Beklenen/popülasyon ortalaması (hipotezdeki ortalama)  \n",
    "  - \\(s\\): Örneklemin standart sapması  \n",
    "  - \\(n\\): Örneklem büyüklüğü  \n",
    "\n",
    "Bu kod parçasında (örneğin 2008 ve 2012 verilerinden yaratılan **`diff`** sütunu) tek bir örneklem verisi (farklar) üzerinden, “bu ortalama fark sıfır mı?” hipotezi test ediliyor. Dolayısıyla **tek örneklem t-testi** yapılıyor.\n",
    "\n",
    "---\n",
    "\n",
    "#### 2. İki Örneklem T-Testi Nedir?\n",
    "\n",
    "- **Tanım**: İki farklı örneklemin (örneğin, iki grubun) ortalamalarının birbirine eşit olup olmadığını test etmek için kullanılır.  \n",
    "- **Formül** (bağımsız iki örneklem için):  \n",
    "  $$\n",
    "  t = \\frac{\\bar{x}_1 - \\bar{x}_2}{\\sqrt{\\frac{s_1^2}{n_1} + \\frac{s_2^2}{n_2}}}\n",
    "  $$\n",
    "  - \\(\\bar{x}_1, \\bar{x}_2\\): İki örneklemin ortalamaları  \n",
    "  - \\(s_1, s_2\\): İki örneklemin standart sapmaları  \n",
    "  - \\(n_1, n_2\\): İki örneklem büyüklükleri  \n",
    "\n",
    "Bu testte, iki ayrı grup (örneğin **adult** vs. **child**) için elde edilen ölçümler var ve **iki farklı ortalama** karşılaştırılıyor.\n",
    "\n",
    "---\n",
    "\n",
    "### Neden Tek Örneklem T-İstatistiği?\n",
    "\n",
    "Kod parçasında bir *tek örneklem* t-testinin formülü görmemizin nedeni:\n",
    "\n",
    "1. **Veri Yapısı**: Yalnızca **tek bir sütunda** (diff) değerler var. Bu sütun 2008 ve 2012 verilerinin farkı. Burada “tek bir örnek” olarak farklar ele alınıyor.  \n",
    "2. **Test Edilen Hipotez**: “Bu **fark** ortalaması sıfır mı?” Yani \\(\\mu_0 = 0\\).\n",
    "\n",
    "Dolayısıyla, iki ayrı grup ortalaması yerine, **tek bir dağılım** (farklar dağılımı) üzerinden bir hedef değerden (0) sapma sorgulandığı için **tek örneklem t-testi** söz konusudur.\n",
    "\n",
    "Bir önceki örnekte ise:\n",
    "\n",
    "- İki ayrı grup (örneğin **adult** ve **child**) vardı. Her grubun kendi ortalaması ve kendi standart sapması bulunup, **iki bağımsız örneklem t-testi** (bağımsız iki örneklem ortalaması karşılaştırması) uygulanıyordu.\n",
    "\n",
    "Bu iki testin **temel farkı**:  \n",
    "- *Tek örneklemde*, aynı sütundan gelen değerlere karşılık bir teorik (sabit) ortalama kıyaslanır.  \n",
    "- *İki örneklemde*, iki ayrı grubun ortalaması kıyaslanır.\n"
   ]
  },
  {
   "cell_type": "code",
   "execution_count": 185,
   "id": "90a0dc69-5cb3-4f24-a7ee-659cf0cc512a",
   "metadata": {},
   "outputs": [
    {
     "data": {
      "text/plain": [
       "9.572537285272413e-08"
      ]
     },
     "execution_count": 185,
     "metadata": {},
     "output_type": "execute_result"
    }
   ],
   "source": [
    "from scipy.stats import t\n",
    "degrees_of_freedom = n_diff -1\n",
    "p_value = t.cdf(t_stat, df=degrees_of_freedom)\n",
    "p_value #reddedilir küçük oldupu için.08 12'den küçüktür. oy oranları düşmüş"
   ]
  },
  {
   "cell_type": "code",
   "execution_count": 195,
   "id": "29102108-a8f5-4eb3-ba1a-946ebe6e5e21",
   "metadata": {},
   "outputs": [
    {
     "data": {
      "text/html": [
       "<div>\n",
       "<style scoped>\n",
       "    .dataframe tbody tr th:only-of-type {\n",
       "        vertical-align: middle;\n",
       "    }\n",
       "\n",
       "    .dataframe tbody tr th {\n",
       "        vertical-align: top;\n",
       "    }\n",
       "\n",
       "    .dataframe thead th {\n",
       "        text-align: right;\n",
       "    }\n",
       "</style>\n",
       "<table border=\"1\" class=\"dataframe\">\n",
       "  <thead>\n",
       "    <tr style=\"text-align: right;\">\n",
       "      <th></th>\n",
       "      <th>T</th>\n",
       "      <th>dof</th>\n",
       "      <th>alternative</th>\n",
       "      <th>p-val</th>\n",
       "      <th>CI95%</th>\n",
       "      <th>cohen-d</th>\n",
       "      <th>BF10</th>\n",
       "      <th>power</th>\n",
       "    </tr>\n",
       "  </thead>\n",
       "  <tbody>\n",
       "    <tr>\n",
       "      <th>T-test</th>\n",
       "      <td>-5.601043</td>\n",
       "      <td>99</td>\n",
       "      <td>less</td>\n",
       "      <td>9.572537e-08</td>\n",
       "      <td>[-inf, -2.02]</td>\n",
       "      <td>0.560104</td>\n",
       "      <td>1.323e+05</td>\n",
       "      <td>0.999955</td>\n",
       "    </tr>\n",
       "  </tbody>\n",
       "</table>\n",
       "</div>"
      ],
      "text/plain": [
       "               T  dof alternative         p-val          CI95%   cohen-d  \\\n",
       "T-test -5.601043   99        less  9.572537e-08  [-inf, -2.02]  0.560104   \n",
       "\n",
       "             BF10     power  \n",
       "T-test  1.323e+05  0.999955  "
      ]
     },
     "execution_count": 195,
     "metadata": {},
     "output_type": "execute_result"
    }
   ],
   "source": [
    "import pingouin\n",
    "\n",
    "pingouin.ttest(sample_data['diff'], y=0, alternative='less')"
   ]
  },
  {
   "cell_type": "markdown",
   "id": "20a97378-d263-4ae5-be77-6fceb21c3009",
   "metadata": {},
   "source": [
    "pingouin.ttest(sample_data['diff'], y=0, alternative='less'):\n",
    "pingouin.ttest() fonksiyonu, t-test yapmak için kullanılır. Bu fonksiyon tek örneklem t-testi, bağımsız iki örneklem t-testi veya eşleşmiş iki örneklem t-testi gibi testleri gerçekleştirebilir.\n",
    "\n",
    "sample_data['diff']: Bu, testin uygulanacağı örneklem verisi. Burada 'diff' sütunu, örneklem farklarını (muhtemelen bir grup ile beklenen değer arasındaki farklar) içeriyor olabilir. Yani, testin yapılacağı veri, 'diff' değerlerinin bir listesidir.\n",
    "\n",
    "y=0: Bu parametre, testin karşılaştırılacağı beklenen değeri belirtir. Burada, 0 ile karşılaştırma yapılıyor, yani örneklem verisinin 0'a karşı test edilmesi bekleniyor. Bu, tek örneklem t-testinin hipotez testidir. Yani, 'diff' değerlerinin 0'a karşı istatistiksel olarak anlamlı bir fark olup olmadığını test ederiz.\n",
    "\n",
    "alternative='less': Bu parametre, testin alternatif hipotezini belirtir.\n",
    "\n",
    "'less' değeri, tek yönlü bir test olduğunu gösterir ve beklenen değerin daha küçük olup olmadığını test eder. Yani, alternatif hipotez 'diff' değerlerinin 0'dan küçük olduğunu öne sürer.\n",
    "Alternatif hipotez şu şekilde ifade edilir: H1: μ < 0.\n",
    "Ne Yapılıyor?\n",
    "Bu kod, tek örneklem t-testini gerçekleştiriyor. Testin hipotezi, örneklem verisinin 0'dan küçük olup olmadığını test eder. Yani, 'diff' verilerinin 0'dan anlamlı şekilde küçük olup olmadığını inceler.\n",
    "\n",
    "Alternatif hipotez şudur:\n",
    "\n",
    "H0 (Null Hipotezi): Örneklem ortalaması 0'a eşittir (yani, fark yoktur).\n",
    "H1 (Alternatif Hipotez): Örneklem ortalaması 0'dan küçüktür.\n",
    "\n",
    " **p-val (p-değeri)**\n",
    "- **p-val = 9.572537e-08 \\(\\approx 0.0000000957\\)**  \n",
    "  Oldukça küçük bir p-değer olup, genellikle 0.05 anlamlılık düzeyinden çok daha küçüktür. Bu nedenle, **null hipotez** (fark = 0) güçlü bir şekilde reddedilir ve farkın 0’dan küçük olduğu sonucuna varılır.\n"
   ]
  },
  {
   "cell_type": "code",
   "execution_count": 197,
   "id": "1be0d949-2fe8-4b87-9188-55717935d45b",
   "metadata": {},
   "outputs": [
    {
     "data": {
      "text/html": [
       "<div>\n",
       "<style scoped>\n",
       "    .dataframe tbody tr th:only-of-type {\n",
       "        vertical-align: middle;\n",
       "    }\n",
       "\n",
       "    .dataframe tbody tr th {\n",
       "        vertical-align: top;\n",
       "    }\n",
       "\n",
       "    .dataframe thead th {\n",
       "        text-align: right;\n",
       "    }\n",
       "</style>\n",
       "<table border=\"1\" class=\"dataframe\">\n",
       "  <thead>\n",
       "    <tr style=\"text-align: right;\">\n",
       "      <th></th>\n",
       "      <th>T</th>\n",
       "      <th>dof</th>\n",
       "      <th>alternative</th>\n",
       "      <th>p-val</th>\n",
       "      <th>CI95%</th>\n",
       "      <th>cohen-d</th>\n",
       "      <th>BF10</th>\n",
       "      <th>power</th>\n",
       "    </tr>\n",
       "  </thead>\n",
       "  <tbody>\n",
       "    <tr>\n",
       "      <th>T-test</th>\n",
       "      <td>-5.601043</td>\n",
       "      <td>99</td>\n",
       "      <td>less</td>\n",
       "      <td>9.572537e-08</td>\n",
       "      <td>[-inf, -2.02]</td>\n",
       "      <td>0.217364</td>\n",
       "      <td>1.323e+05</td>\n",
       "      <td>0.696338</td>\n",
       "    </tr>\n",
       "  </tbody>\n",
       "</table>\n",
       "</div>"
      ],
      "text/plain": [
       "               T  dof alternative         p-val          CI95%   cohen-d  \\\n",
       "T-test -5.601043   99        less  9.572537e-08  [-inf, -2.02]  0.217364   \n",
       "\n",
       "             BF10     power  \n",
       "T-test  1.323e+05  0.696338  "
      ]
     },
     "execution_count": 197,
     "metadata": {},
     "output_type": "execute_result"
    }
   ],
   "source": [
    "pingouin.ttest(x=sample_data['repub_percent_08'], \n",
    "               y=sample_data['repub_percent_12'], paired=True, \n",
    "               alternative='less')"
   ]
  },
  {
   "cell_type": "markdown",
   "id": "7ddc13b6-5823-40ea-8f5b-790aeac863d4",
   "metadata": {},
   "source": [
    "pingouin.ttest() fonksiyonu, iki örneklem arasındaki farkları test etmek için kullanılan t-test fonksiyonudur. Burada, eşleşmiş iki örneklem t-testi (paired t-test) yapılacaktır.\n",
    "\n",
    "2. x=sample_data['repub_percent_08']:\n",
    "x parametresi, ilk örneklemi temsil eder. Burada sample_data['repub_percent_08'], 2008 yılında Cumhuriyetçi Partinin oy oranlarını içeren veri sütunudur.\n",
    "\n",
    "3. y=sample_data['repub_percent_12']:\n",
    "y parametresi, ikinci örneklemi temsil eder. Burada sample_data['repub_percent_12'], 2012 yılında Cumhuriyetçi Partinin oy oranlarını içeren veri sütunudur.\n",
    "\n",
    "4. paired=True:\n",
    "paired=True ifadesi, eşleşmiş iki örneklem t-testinin yapılacağını belirtir. Bu, her bir gözlemin bir eşleşmiş çift oluşturduğunu ifade eder. Yani, 2008'deki oy oranı ile 2012'deki oy oranı birbirine bağlıdır ve aynı birimler (örneğin, aynı eyalet ya da bölge) için karşılaştırılmaktadır.\n",
    "\n",
    "5. alternative='less':\n",
    "alternative='less' parametresi, tek yönlü bir test yapılacağını belirtir. Yani, 2012 oy oranının 2008'den daha düşük olup olmadığını test ederiz.\n",
    "Alternatif hipotez: 2012 oy oranı 2008'den daha düşük.\n",
    "Null hipotez: 2012 oy oranı 2008'le aynı veya daha yüksek."
   ]
  },
  {
   "cell_type": "code",
   "execution_count": 193,
   "id": "1ce74273-d98b-4f96-8f02-6102a6d6676f",
   "metadata": {},
   "outputs": [
    {
     "data": {
      "text/html": [
       "<div>\n",
       "<style scoped>\n",
       "    .dataframe tbody tr th:only-of-type {\n",
       "        vertical-align: middle;\n",
       "    }\n",
       "\n",
       "    .dataframe tbody tr th {\n",
       "        vertical-align: top;\n",
       "    }\n",
       "\n",
       "    .dataframe thead th {\n",
       "        text-align: right;\n",
       "    }\n",
       "</style>\n",
       "<table border=\"1\" class=\"dataframe\">\n",
       "  <thead>\n",
       "    <tr style=\"text-align: right;\">\n",
       "      <th></th>\n",
       "      <th>T</th>\n",
       "      <th>dof</th>\n",
       "      <th>alternative</th>\n",
       "      <th>p-val</th>\n",
       "      <th>CI95%</th>\n",
       "      <th>cohen-d</th>\n",
       "      <th>BF10</th>\n",
       "      <th>power</th>\n",
       "    </tr>\n",
       "  </thead>\n",
       "  <tbody>\n",
       "    <tr>\n",
       "      <th>T-test</th>\n",
       "      <td>-1.536997</td>\n",
       "      <td>198</td>\n",
       "      <td>less</td>\n",
       "      <td>0.062945</td>\n",
       "      <td>[-inf, 0.22]</td>\n",
       "      <td>0.217364</td>\n",
       "      <td>0.927</td>\n",
       "      <td>0.454972</td>\n",
       "    </tr>\n",
       "  </tbody>\n",
       "</table>\n",
       "</div>"
      ],
      "text/plain": [
       "               T  dof alternative     p-val         CI95%   cohen-d   BF10  \\\n",
       "T-test -1.536997  198        less  0.062945  [-inf, 0.22]  0.217364  0.927   \n",
       "\n",
       "           power  \n",
       "T-test  0.454972  "
      ]
     },
     "execution_count": 193,
     "metadata": {},
     "output_type": "execute_result"
    }
   ],
   "source": [
    "pingouin.ttest(x=sample_data['repub_percent_08'], \n",
    "               y=sample_data['repub_percent_12'], \n",
    "               paired=False, alternative='less')\n",
    "\n",
    "\n",
    "\n",
    "\n",
    "\n",
    "#x=sample_data['repub_percent_08']:\n",
    "x parametresi, ilk örneklem verisini temsil eder. Burada sample_data['repub_percent_08'], 2008 yılında Cumhuriyetçi Partinin oy oranlarını içeren veri sütunudur.\n",
    "3. y=sample_data['repub_percent_12']:\n",
    "y parametresi, ikinci örneklem verisini temsil eder. Burada sample_data['repub_percent_12'], 2012 yılında Cumhuriyetçi Partinin oy oranlarını içeren veri sütunudur.\n",
    "4. paired=False:\n",
    "paired=False ifadesi, bu testin bağımsız iki örneklem t-testi olduğunu belirtir. Yani, 2008 ve 2012 yıllarındaki oy oranları arasında bağımsız bir karşılaştırma yapılır. Bu, eşleşmiş t-test (paired t-test) yerine, bağımsız örneklem t-testi yapılacağı anlamına gelir.\n",
    "Örneğin, 2008 ve 2012'deki veriler, aynı eyalet veya bölgeye ait olabilir, ancak bu testte veriler bağımsız kabul edilir.\n",
    "5. alternative='less':\n",
    "alternative='less' parametresi, testin tek yönlü (right-tailed) olduğunu belirtir. Yani, alternatif hipotez, 2012 oy oranının 2008'den daha düşük olduğunu öne sürer.\n",
    "Alternatif hipotez: 2012 oy oranı 2008'den daha düşük.\n",
    "Null hipotez: 2012 oy oranı 2008'le aynı veya daha yüksek.\n",
    "Ne Yapılıyor?\n",
    "Bu kod, bağımsız iki örneklem t-testini yaparak, 2008 ve 2012 yıllarındaki Cumhuriyetçi Parti'nin oy oranları arasındaki farkın istatistiksel olarak anlamlı olup olmadığını test eder. Alternatif hipotez, 2012 oy oranının 2008'den daha düşük olduğunu öne sürer.\n",
    "\n"
   ]
  },
  {
   "cell_type": "markdown",
   "id": "6ab9ae44-7da2-4259-be9f-51d9ebc1d4cf",
   "metadata": {},
   "source": [
    "### `paired=True` ile `paired=False` Arasındaki Fark\n",
    "\n",
    "#### 1. **Eşleştirilmiş (Paired) T-Test (`paired=True`)**\n",
    "- **Amaç**: Aynı gözlemlerin (ya da aynı birimlerin) iki farklı zamanda veya iki farklı koşuldaki ölçümlerini karşılaştırmak.  \n",
    "  - Örneğin, **aynı ilçede** 2008 seçimlerindeki Cumhuriyetçi oy yüzdesi ile **aynı ilçede** 2012 seçimlerindeki Cumhuriyetçi oy yüzdesi.  \n",
    "- **Özelliği**: Her satır (örnek) için, “önceki” ve “sonraki” ölçüm birbiriyle **eşleştirilmiştir**.  \n",
    "- **İstatistiksel Mantık**: Veriler arasındaki farklar üzerinden tek bir örneklem analizi yapılır ve bu farkın ortalamasının sıfırdan farklı olup olmadığı test edilir.  \n",
    "- **Serbestlik Derecesi (dof)**: Genellikle \\(n - 1\\) (burada \\(n\\) eşleştirilmiş gözlem sayısıdır).  \n",
    "\n",
    "#### 2. **Bağımsız (Unpaired) İki Örneklem T-Test (`paired=False`)**\n",
    "- **Amaç**: İki **bağımsız** örneklemin (grubun) ortalamalarını karşılaştırmak.  \n",
    "  - Örneğin, **farklı ilçelerde** (ya da tamamen farklı katılımcılarda) 2008 seçimleri ile 2012 seçimlerini ayrı ayrı ele aldığınızda ve bunların ortalamalarını karşılaştırdığınızda, aslında iki bağımsız topluluk/örneklem kullanırsınız.  \n",
    "- **Özelliği**: `x` ve `y` dizileri **aynı birimlere** ait değildir, ölçümler bağımsızdır.  \n",
    "- **İstatistiksel Mantık**: Her grubun (x ve y) ortalaması ve varyansı hesaplanır, iki ortalama arasındaki farkın anlamlılığı test edilir.  \n",
    "- **Serbestlik Derecesi (dof)**: \\(n_x + n_y - 2\\) (kaba formül).  \n",
    "\n",
    "---\n",
    "\n",
    "### Hangi Durumda Hangisi Kullanılır?\n",
    "\n",
    "- **`paired=True` (eşleştirilmiş t-testi)**:  \n",
    "  İki ölçümün **aynı birimlerden** (katılımcı, ilçe, hasta vs.) geldiği durumda tercih edilir. Tek bir birimin iki farklı zaman ya da iki farklı koşuldaki ölçümleri söz konusudur.\n",
    "\n",
    "- **`paired=False` (bağımsız iki örneklem t-testi)**:  \n",
    "  İki **farklı** grup (farklı insanlar, farklı ilçeler vs.) karşılaştırılıyorsa, ölçümler arasında eşleştirme ya da tekrar ölçüm yoksa kullanılır.\n",
    "\n",
    "Özetle, **aynı veri setinde** 2008 ve 2012 oy yüzdeleri gerçekten **aynı ilçeye ait** ise, **eşleştirilmiş t-testi** (`paired=True`) uygun olacaktır. Eğer iki bağımsız grup (hiçbir şekilde eşleştirilmemiş) varsa, **bağımsız t-testi** (`paired=False`) kullanılır.\n"
   ]
  },
  {
   "cell_type": "code",
   "execution_count": null,
   "id": "e52b390b-03e5-4cd0-b219-7425eb98fdf4",
   "metadata": {},
   "outputs": [],
   "source": []
  }
 ],
 "metadata": {
  "kernelspec": {
   "display_name": "Python 3 (ipykernel)",
   "language": "python",
   "name": "python3"
  },
  "language_info": {
   "codemirror_mode": {
    "name": "ipython",
    "version": 3
   },
   "file_extension": ".py",
   "mimetype": "text/x-python",
   "name": "python",
   "nbconvert_exporter": "python",
   "pygments_lexer": "ipython3",
   "version": "3.12.4"
  }
 },
 "nbformat": 4,
 "nbformat_minor": 5
}
