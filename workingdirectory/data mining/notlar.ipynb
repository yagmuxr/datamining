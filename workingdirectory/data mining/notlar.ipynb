{
 "cells": [
  {
   "cell_type": "markdown",
   "id": "59f36cbf-2432-4162-a9ed-14d4a41ac649",
   "metadata": {},
   "source": [
    "### 1. **Basit Rastgele Örnekleme (Simple Random Sampling)**:\n",
    "Bu yöntem, popülasyondan tamamen **rastgele** örnekler alır ve her birimin seçilme olasılığı eşittir.\n",
    "\n",
    "#### **Ne Zaman Kullanılır?**\n",
    "- Eğer popülasyonun her biriminden eşit bir şekilde temsil almak istiyorsanız, bu yöntemi kullanabilirsiniz.\n",
    "- Örneğin, bir okuldaki tüm öğrencilerden rastgele bir grup seçmek isterseniz, her öğrenciye eşit bir seçilme şansı verirseniz, bu basit rastgele örneklemedir.\n",
    "\n",
    "#### **Avantajları**:\n",
    "- Kolay uygulanabilir.\n",
    "- Bütün popülasyonun eşit şekilde temsil edilmesini sağlar.\n",
    "\n",
    "#### **Dezavantajları**:\n",
    "- Büyük bir popülasyona sahipseniz, örneklem almak zorlaşabilir.\n",
    "- Popülasyona tüm veriye ulaşmanın mümkün olmadığı durumlarda, bazı grupların temsili düşük olabilir.\n",
    "\n",
    "#### **Python Örneği**:\n",
    "```python\n",
    "import pandas as pd\n",
    "\n",
    "# %10 oranında rastgele örnekleme\n",
    "simple_random_sample = df_coffee.sample(frac=0.1, random_state=2021)\n",
    "\n",
    "# Sonuçları görüntüleme\n",
    "print(simple_random_sample.head())\n",
    "```\n",
    "Bu örnek, **df_coffee** veri çerçevesinden **%10** oranında tamamen **rastgele** bir örnek alır.\n",
    "\n",
    "---\n",
    "\n",
    "### 2. **Tabakalı Örnekleme (Stratified Sampling)**:\n",
    "Bu yöntemde, popülasyon belirli gruplara veya **katmanlara (tabakalara)** ayrılır ve her gruptan belirli oranda örnek alınır. Her grup homojen olmalı ve belirli bir özelliğe göre gruplandırılmalıdır.\n",
    "\n",
    "#### **Ne Zaman Kullanılır?**\n",
    "- Eğer belirli bir grubun **eşit temsili** gerektiği durumlarda kullanılır. Örneğin, ülkeler arasındaki dengeli bir dağılım sağlamak için kullanılabilir.\n",
    "\n",
    "#### **Avantajları**:\n",
    "- Her grup homojen şekilde temsil edilir, böylece her grup hakkında daha doğru sonuçlar elde edilir.\n",
    "- Düşük varyans sağlar ve daha güvenilir sonuçlar elde edilebilir.\n",
    "\n",
    "#### **Dezavantajları**:\n",
    "- Grupların nasıl tanımlanacağı ve her grup için ne kadar örnek alınacağı gibi kararlar karmaşık olabilir.\n",
    "\n",
    "#### **Python Örneği**:\n",
    "```python\n",
    "# Veri setini ülkelere göre tabakalara ayırıp, her ülkeden %10 oranında rastgele örnek alıyoruz\n",
    "stratified_sample = df_coffee.groupby('country_of_origin').sample(frac=0.1, random_state=2021)\n",
    "\n",
    "# Sonuçları görüntüleme\n",
    "print(stratified_sample['country_of_origin'].value_counts())\n",
    "```\n",
    "Bu kod, **country_of_origin** sütununa göre **gruplama** yapar ve her gruptan **%10** oranında rastgele örnekler alır. Bu yöntem, her bir ülkenin eşit temsil edilmesini sağlar.\n",
    "\n",
    "---\n",
    "\n",
    "### 3. **Kümeleme Örneklemesi (Cluster Sampling)**:\n",
    "Kümeleme örneklemesinde, popülasyon **küme** adı verilen küçük gruplara ayrılır ve bu kümelerden bazıları rastgele seçilir. Seçilen kümelerdeki **tüm veriler** analiz edilir. Yani, örnekleme bir kümeyle sınırlıdır.\n",
    "\n",
    "#### **Ne Zaman Kullanılır?**\n",
    "- Eğer tüm popülasyonu incelemek yerine, popülasyonu küçük kümelere ayırarak bazı kümeler üzerinden analiz yapmayı tercih ediyorsanız kullanılır.\n",
    "- Büyük ve dağıtık popülasyonlarda maliyet ve zaman tasarrufu sağlamak için ideal bir yöntemdir.\n",
    "\n",
    "#### **Avantajları**:\n",
    "- Kümeleme örneklemesi, maliyet ve zaman tasarrufu sağlar.\n",
    "- Özellikle büyük veri kümelerinde daha verimli olabilir.\n",
    "\n",
    "#### **Dezavantajları**:\n",
    "- Eğer kümeler **homojen değilse**, temsil gücü azalabilir. Yani, kümeler arasında büyük farklar varsa, bazı kümeler yeterince iyi temsil etmeyebilir.\n",
    "  \n",
    "#### **Python Örneği**:\n",
    "```python\n",
    "import random\n",
    "\n",
    "# Kahve çeşitleri arasından rastgele 3 çeşit seçiyoruz\n",
    "varieties = df_coffee['variety'].unique()\n",
    "selected_varieties = random.sample(list(varieties), k=3)\n",
    "\n",
    "# Sadece seçilen kümelere ait verileri filtreliyoruz\n",
    "cluster_sample = df_coffee[df_coffee['variety'].isin(selected_varieties)]\n",
    "\n",
    "# Sonuçları görüntüleme\n",
    "print(\"Seçilen çeşitler:\", selected_varieties)\n",
    "print(cluster_sample.head())\n",
    "```\n",
    "Bu örnek, **variety** sütunundaki **benzersiz çeşitleri** rastgele seçer ve sadece seçilen kümelerdeki (çeşitlerdeki) tüm verileri alır.\n",
    "\n",
    "---\n",
    "\n",
    "### **Özet Karşılaştırma**:\n",
    "\n",
    "| Örnekleme Türü        | Ne Zaman Kullanılır?                            | Avantajları                       | Dezavantajları                                  |\n",
    "|-----------------------|------------------------------------------------|-----------------------------------|-------------------------------------------------|\n",
    "| **Basit Rastgele Örnekleme**  | Popülasyonun rastgele seçildiği durumlar  | Kolay, her birime eşit şans    | Büyük popülasyonlar için zor olabilir, temsili düşük olabilir |\n",
    "| **Tabakalı Örnekleme** | Grupların eşit temsil edilmesi gerektiğinde  | Her gruptan orantılı örnek alınır | Grupları tanımlamak ve eşit dağılım zor olabilir  |\n",
    "| **Kümeleme Örneklemesi** | Tüm popülasyon yerine bazı gruplar üzerinden çalışmak istendiğinde | Maliyet ve zaman tasarrufu sağlar | Küme homojen değilse temsil gücü azalabilir  |\n",
    "\n",
    "---\n",
    "\n",
    "### **Özetle**:\n",
    "- **Basit Rastgele Örnekleme**, **tüm popülasyonu rastgele seçmek** için kullanılır ve en basit yöntemdir.\n",
    "- **Tabakalı Örnekleme**, belirli **grupların eşit temsilini sağlamak** için kullanılır.\n",
    "- **Kümeleme Örneklemesi**, **gruplar üzerinden çalışmak** isteyen durumlarda tercih edilir, genellikle **zaman ve maliyet tasarrufu** sağlar.\n",
    "\n",
    "Her üç yöntem de farklı veri analizleri ve araştırmalar için avantajlı olabilir, hangi yöntemi kullanacağınız ise araştırma sorunuza ve veri kümenizin yapısına bağlıdır."
   ]
  },
  {
   "cell_type": "markdown",
   "id": "8ba23b73-026f-43d5-b483-f47650a0fbc9",
   "metadata": {},
   "source": [
    "## Standart Hata Nedir?\n",
    "\n",
    "**Standart hata** (Standard Error, SE), bir örneklem ortalamasının popülasyon ortalamasına ne kadar yakın olduğunu gösteren bir ölçüdür. Başka bir deyişle, örneklemden elde edilen ortalamaların **popülasyon ortalamasına ne kadar yakın** olduğunu gösterir. Bu, örneklem verilerinin ne kadar tutarlı ve güvenilir olduğunu anlamamıza yardımcı olur.\n",
    "\n",
    "Standart hata, **örneklem ortalamalarının** **standart sapması** olarak da düşünülebilir ve genellikle şu formülle hesaplanır:\n",
    "\n",
    "$$\n",
    "SE = \\frac{\\sigma}{\\sqrt{n}}\n",
    "$$\n",
    "\n",
    "- **\\(\\sigma\\)**: Popülasyonun standart sapması (veya örneklemdeki veriler için örneklem standart sapması).\n",
    "- **\\(n\\)**: Örneklem büyüklüğü.\n",
    "\n",
    "Standart hata, örneklem büyüklüğüyle ters orantılıdır. Yani, örneklem büyüklüğü arttıkça, standart hata azalır, çünkü daha büyük örneklemler daha güvenilir ortalamalar sağlar. \n",
    "\n",
    "**Özetle:** Standart hata, örneklemden elde edilen ortalamaların ne kadar değişken olduğunu ve popülasyon ortalamasına ne kadar yakın olduğunu ölçer.\n",
    "\n",
    "---\n",
    "\n",
    "## Göreli Hata Nedir?\n",
    "\n",
    "**Göreli hata** (Relative Error), bir ölçümdeki hatanın, gerçek (doğru) değere oranıdır. Bu, hatanın büyüklüğünün doğru değere ne kadar yakın olduğunu gösteren bir oran veya yüzde değeridir. Göreli hata, genellikle **hatayı doğru değere böler** ve yüzde olarak ifade edilir.\n",
    "\n",
    "Göreli hata şu şekilde hesaplanır:\n",
    "\n",
    "$$\n",
    "\\text{Göreli Hata} = \\frac{\\left| \\text{Gerçek Değer} - \\text{Ölçülen Değer} \\right|}{\\left| \\text{Gerçek Değer} \\right|}\n",
    "$$\n",
    "\n",
    "Burada:\n",
    "- **Gerçek Değer**: Doğru kabul edilen değer (örneğin, popülasyon ortalaması).\n",
    "- **Ölçülen Değer**: Elde edilen örnekleme göre ölçülen değer (örneğin, örneklem ortalaması).\n",
    "\n",
    "**Özetle:** Göreli hata, hatanın büyüklüğünü, gerçek değere göre ne kadar büyük olduğunu gösteren bir orandır. Bu oran, genellikle yüzde olarak ifade edilir.\n",
    "\n",
    "---\n",
    "\n",
    "## Standart Hata ve Göreli Hata Arasındaki Farklar:\n",
    "\n",
    "| **Özellik**                  | **Standart Hata (SE)**                                    | **Göreli Hata**                                                |\n",
    "|------------------------------|-----------------------------------------------------------|---------------------------------------------------------------|\n",
    "| **Tanım**                    | Bir örneklem ortalamasının popülasyon ortalamasına ne kadar yakın olduğunu gösterir. | Ölçülen değerin, gerçek değere göre ne kadar uzak olduğunu gösterir. |\n",
    "| **Hesaplama**                 | $$ \\frac{\\sigma}{\\sqrt{n}} $$ (popülasyon standart sapması bölü karekök örneklem büyüklüğü) | $$ \\frac{\\left| \\text{Gerçek Değer} - \\text{Ölçülen Değer} \\right|}{\\left| \\text{Gerçek Değer} \\right|} $$ |\n",
    "| **Kullanım Alanı**            | Örneklemden elde edilen sonuçların güvenilirliğini gösterir. | Hata oranını ve ölçüm doğruluğunu gösterir.                    |\n",
    "| **Birim**                     | Aynı birime sahiptir (örneğin, kilogram, metre, vb.).     | Genellikle bir oran ya da yüzde (%) olarak ifade edilir.       |\n",
    "| **Bağlantılı Olduğu Faktörler** | Örneklem büyüklüğü (büyüdükçe standart hata azalır).      | Gerçek ve ölçülen değer arasındaki fark.                       |\n",
    "\n",
    "---\n",
    "\n",
    "## Özet:\n",
    "\n",
    "- **Standart hata**, bir örneklem ortalamasının ne kadar değişken olduğunu ve popülasyon ortalamasına ne kadar yakın olduğunu gösterir.\n",
    "- **Göreli hata**, ölçülen bir değerin, gerçek değere olan oranını ifade eder ve hatanın büyüklüğünü anlamamıza yardımcı olur.\n",
    "\n",
    "Genel olarak, standart hata örneklem büyüklüğü ve verinin dağılımıyla ilgilidir, göreli hata ise ölçümün doğruluğu ve hatasının gerçek değere oranıyla ilgilidir.\n"
   ]
  },
  {
   "cell_type": "code",
   "execution_count": 501,
   "id": "ac1218aa-3c5e-422d-a295-aa661aec4d15",
   "metadata": {},
   "outputs": [
    {
     "data": {
      "image/png": "[encoded data removed]",
      "text/plain": [
       "<Figure size 640x480 with 1 Axes>"
      ]
     },
     "metadata": {},
     "output_type": "display_data"
    }
   ],
   "source": [
    "from scipy.stats import norm\n",
    "\n",
    "p_values = np.linspace(0, 1, 100)\n",
    "\n",
    "quantiles = norm.ppf(p_values, loc=0, scale=1) #verilen olasılık değerlerine karşılık gelen kuantil (quantile) değerlerini hesaplar. Burada loc=0 ve scale=1 parametreleri, standart normal dağılım (ortalama 0, standart sapma 1) kullanılarak hesaplama yapılmasını sağlar.quantiles listesi, her bir olasılık değeri için karşılık gelen normal dağılımdaki kuantil değerlerini tutar.\n",
    "\n",
    "plt.plot(p_values, quantiles, label=\"Inverse CDF (Normal Distribution)\")\n",
    "\n",
    "p1, p2 = 0.025, 0.975\n",
    "quantile_025 = norm.ppf(p1)\n",
    "quantile_975 = norm.ppf(p2)\n",
    "\n",
    "plt.scatter([p1, p2], [quantile_025, quantile_975], color='red')  # Noktaları çiz\n",
    "plt.axvline(p1, color='red', linestyle='dashed', linewidth=1)  # p1 için dikey çizgi\n",
    "plt.axvline(p2, color='red', linestyle='dashed', linewidth=1)  # p2 için dikey çizgi\n",
    "\n",
    "# X ve Y değerlerini grafikte gösterelim\n",
    "plt.text(p1, quantile_025, f'({p1:.3f}, {quantile_025:.2f})', color='red', fontsize=10, ha='right')\n",
    "plt.text(p2, quantile_975, f'({p2:.3f}, {quantile_975:.2f})', color='red', fontsize=10, ha='right')\n",
    "\n",
    "\n",
    "\n",
    "plt.xlabel(\"Probability (p)\")\n",
    "plt.ylabel(\"Quantile (x)\")\n",
    "plt.title(\"Inverse Cumulative Distribution Function (Normal)\")\n",
    "plt.grid(True)\n",
    "plt.legend()\n",
    "plt.show()\n",
    "\n",
    "\n"
   ]
  },
  {
   "cell_type": "markdown",
   "id": "e551cd90-870e-49a8-88b8-008cbc563143",
   "metadata": {},
   "source": [
    "Bu tür hipotez testlerini seçerken hangi testin kullanılacağını anlamak için **bağımlı ve bağımsız değişkenlerin türünü** ve **veri tipini** dikkate almak önemlidir. İşte bu testleri nasıl seçeceğinize dair bazı kısa yollar:\n",
    "\n",
    "### **1. T-Testi (T-Statistiği)**:\n",
    "- **Kullanım Durumu**: İki bağımsız grup arasında **sürekli** bir değişkenin **ortalama farkı** olup olmadığını test etmek için kullanılır.\n",
    "- **Durum**: Bağımlı değişken **sürekli**, bağımsız değişken **iki grup** (kategorik) olmalı.\n",
    "- **Örnek**: Erkekler ve kadınlar arasındaki maaş farkı. ünkü burada aynı öğrencilerden alınan iki ölçüm (önceki sınav puanları ve final sınavı puanları) arasındaki farkı test edeceğiz.\n",
    "  \n",
    "  **Alternatif**: Eğer verileriniz normal dağılmıyorsa, **Mann-Whitney U testi** kullanılabilir.\n",
    "\n",
    "### **2. ANOVA (Varyans Analizi)**:\n",
    "- **Kullanım Durumu**: Üç veya daha fazla grubun ortalama farklarını test etmek için kullanılır.\n",
    "- **Durum**: Bağımlı değişken **sürekli**, bağımsız değişken **iki veya daha fazla grup** (kategorik) olmalı.\n",
    "- **Örnek**: Farklı eğitim yöntemlerinin öğrenci başarısı üzerindeki etkisi.\n",
    "\n",
    "  **Alternatif**: Eğer verileriniz normal dağılmıyorsa, **Kruskal-Wallis testi** kullanılabilir.\n",
    "\n",
    "### **3. Pairwise Test (Çiftli Karşılaştırma Testi)**:\n",
    "- **Kullanım Durumu**: Gruplar arası **ikili karşılaştırmalar** yapmak için kullanılır.\n",
    "- **Durum**: ANOVA testinden sonra, eğer ANOVA **farklılık gösterdiyse**, hangi grupların farklı olduğunu görmek için kullanılır.\n",
    "- **Örnek**: Üç eğitim yöntemi arasında hangi ikisinin daha başarılı olduğunu test etmek.\n",
    "\n",
    "### **4. Bonferroni Düzeltmesi (Bonferroni Correction)**:\n",
    "- **Kullanım Durumu**: Birden fazla karşılaştırma yaparken **tip I hata** riskini azaltmak için kullanılır.\n",
    "- **Durum**: Çiftli karşılaştırmalar yapıyorsanız ve p-değeri çok küçükse, **Bonferroni düzeltmesi** uygulanabilir.\n",
    "- **Örnek**: Birden fazla grup arasındaki farkları test etmek (ANOVA sonrası).\n",
    "\n",
    "### **5. One-Sample Proportion Test (Tek Örneklem Oranı Testi)**:\n",
    "- **Kullanım Durumu**: Bir popülasyonun oranının belirli bir değere eşit olup olmadığını test eder.\n",
    "- **Durum**: Bağımlı değişken **kategorik**, örneklem oranını test ediyoruz.\n",
    "- **Örnek**: Bir anketin sonucunda, katılımcıların %70'inin belirli bir görüşü benimsediğini test etmek.\n",
    "\n",
    "### **6. Two-Sample Proportion Test (İki Örneklem Oranı Testi)**:\n",
    "- **Kullanım Durumu**: İki bağımsız grup arasındaki oran farklarını test eder.\n",
    "- **Durum**: Bağımlı değişken **kategorik**, bağımsız değişken **iki grup** (örneğin erkek ve kadın).\n",
    "- **Örnek**: Kadınlar ve erkekler arasındaki bir görüş oran farkını test etmek.\n",
    "\n",
    "### **7. Ki-Kare Testi (Chi-Square Test)**:\n",
    "- **Kullanım Durumu**: **Kategorik verilerde** **bağımsızlık** veya **beklenen dağılımla gözlemlenen dağılım arasındaki farkı** test etmek için kullanılır.\n",
    "- **Durum**: Bağımlı ve bağımsız değişkenler **kategorik** olmalı.\n",
    "- **Örnek**: Eğitim seviyesi ve iş tatmini arasındaki ilişkiyi test etmek.\n",
    "\n",
    "### **8. Ki-Kare İyi Uyum Testi (Chi-Square Goodness of Fit Test)**:\n",
    "- **Kullanım Durumu**: Gözlemlenen frekansların, beklenen frekanslarla uyumunu test eder.\n",
    "- **Durum**: Tek bir kategorik değişkenin, beklenen dağılımla ne kadar uyumlu olduğunu test ederiz.\n",
    "- **Örnek**: Eşit oranlarla dört farklı yanıtın dağılımı.\n",
    "\n",
    "### **9. Wilcoxon Testi**:\n",
    "- **Kullanım Durumu**: İki bağımlı grup arasındaki farkı **non-parametrik** olarak test etmek için kullanılır. Bu test, **verilerin normal dağılmadığı durumlarda** kullanılır.\n",
    "- **Durum**: Bağımlı değişken **sürekli** ve **bağımsız örneklem** ya da **bağımlı örneklem** olmalı.\n",
    "- **Örnek**: Aynı grup için **önce** ve **sonra** ölçülen değerlerin karşılaştırılması.\n",
    "\n",
    "### **10. Mann-Whitney U Testi**:\n",
    "- **Kullanım Durumu**: İki bağımsız grup arasındaki farkı **non-parametrik** olarak test eder.\n",
    "- **Durum**: Bağımlı değişken **sürekli**, bağımsız değişken **iki grup** (kategorik).\n",
    "- **Örnek**: Erkekler ve kadınlar arasındaki maaş farkı.\n",
    "\n",
    "### **11. Kruskal-Wallis Testi**:\n",
    "- **Kullanım Durumu**: Üç veya daha fazla bağımsız grup arasındaki farkları **non-parametrik** olarak test eder.\n",
    "- **Durum**: Bağımlı değişken **sürekli**, bağımsız değişken **kategorik** olmalı.\n",
    "- **Örnek**: Üç farklı eğitim yönteminin başarıya etkisini test etmek.\n",
    "\n",
    "---\n",
    "\n",
    "### **Kısa Yol Seçimi**:\n",
    "\n",
    "- **Bir grup (sürekli değişken)**: **T-Testi** veya **One-Sample Proportion Testi**.\n",
    "- **İki grup karşılaştırması (sürekli değişken)**: **T-Testi (bağımsız)** veya **Mann-Whitney U Testi**.\n",
    "- **İki grup karşılaştırması (oran)**: **Two-Sample Proportion Testi**.\n",
    "- **Birden fazla grup karşılaştırması (sürekli değişken)**: **ANOVA** veya **Kruskal-Wallis** (veriler normal dağılmıyorsa).\n",
    "- **Birden fazla grup karşılaştırması (oran)**: **Ki-Kare Testi (bağımsızlık)**.\n",
    "- **Veri normal dağılmıyorsa**: **Mann-Whitney U Testi**, **Wilcoxon Testi**, **Kruskal-Wallis Testi**.\n",
    "\n",
    "Bu şekilde, test seçimi yaparken hangi testin uygulanacağını belirlemek çok daha kolay olur.\n",
    "\n",
    "### **Test Seçim Rehberi**:\n",
    "\n",
    "- **İki grup karşılaştırması (sürekli değişken)**:  \n",
    "  - **T-Testi**: Veriler normal dağılım gösteriyorsa.  \n",
    "  - **Mann-Whitney U Testi**: Veriler normal dağılmıyorsa veya ordinal ölçek kullanılıyorsa.  \n",
    "\n",
    "- **Bir grup karşılaştırması (oran)**:  \n",
    "  - **One-Sample Proportion Testi**: Bir grubun belirli bir orandan farklı olup olmadığını test etmek için.  \n",
    "\n",
    "- **İki grup karşılaştırması (oran)**:  \n",
    "  - **Two-Sample Proportion Testi**: İki farklı grubun oranlarını karşılaştırmak için.  \n",
    "\n",
    "- **Birden fazla grup karşılaştırması (sürekli değişken)**:  \n",
    "  - **ANOVA**: Veriler normal dağılım gösteriyorsa.  \n",
    "  - **Kruskal-Wallis Testi**: Veriler normal dağılmıyorsa veya ordinal ölçek kullanılıyorsa.  \n",
    "\n",
    "- **Ki-Kare Testi (Kategorik Veriler)**:  \n",
    "  - **Bağımsızlık Testi**: İki kategorik değişken arasındaki ilişkinin bağımsız olup olmadığını test etmek için.  \n",
    "  - **Uyum Testi**: Gözlemlenen frekansların beklenen frekanslarla uyumunu test etmek için.  \n",
    "\n",
    "- **Bir grup karşılaştırması (sürekli değişken)**:  \n",
    "  - **One-Sample T-Test**: Bir grubun ortalamasının bilinen bir değerden farklı olup olmadığını test etmek için.  \n",
    "\n",
    "- **İki grup karşılaştırması (aynı grubun farklı zamanlardaki ölçümleri)**:  \n",
    "  - **Paired T-Test**: Veriler normal dağılım gösteriyorsa.  \n",
    "  - **Wilcoxon İşaretli Sıra Testi**: Veriler normal dağılmıyorsa.  \n",
    "\n",
    "Bu rehber, hangi testi kullanmanız gerektiğine hızlıca karar vermenizi sağlar! 😊\n",
    "\n",
    "Bu testlerin nasıl seçileceğine dair bir rehber sundum. Bu sayede sınavda hangi testi kullanmanız gerektiğini rahatça belirleyebilirsiniz!\n",
    "\n",
    "Bağımsız t-testi (Independent t-test): İki bağımsız grubun ortalamalarını karşılaştırmak için kullanılır. Örneğin, erkek ve kız öğrencilerin sınav notlarını karşılaştırmak.\n",
    "\n",
    "Eşleştirilmiş t-testi (Paired t-test): Aynı grubun farklı zamanlardaki ölçümlerini karşılaştırmak için kullanılır. Örneğin, tedavi öncesi ve sonrası kan basıncı ölçümleri.\n",
    "\n",
    "Tek örneklem t-testi (One-sample t-test): Bir grubun ortalamasının bilinen bir değerden farklı olup olmadığını test etmek için kullanılır.\n",
    "\n",
    "ANOVA (Analysis of Variance): Üç veya daha fazla grubun ortalamalarını karşılaştırmak için kullanılır. Örneğin, üç farklı öğretim yönteminin etkilerini karşılaştırmak.\n",
    "Tek örneklem oran testi (One-sample proportion test): Bir grubun belirli bir oranın beklendiğinden farklı olup olmadığını test etmek için kullanılır. Örneğin, bir okulda öğrencilerin yüzde 70’inin sınavı geçmesini beklerken, gerçek geçme oranının bu değerden farklı olup olmadığını test etmek.\n",
    "\n",
    "İki örneklem oran testi (Two-sample proportion test): İki farklı grubun oranlarını karşılaştırmak için kullanılır. Örneğin, erkek ve kız öğrenciler arasında sınav geçme oranlarını karşılaştırmak.\n",
    "\n",
    "Ki-kare testi (Chi-square test): Kategorik veriler arasındaki ilişkiyi veya frekansların beklenen değerlerle uyumunu test etmek için kullanılır.\n",
    "\n",
    "Ki-kare bağımsızlık testi (Chi-square test for independence): İki kategorik değişken arasındaki ilişkinin bağımsız olup olmadığını test etmek için kullanılır. Örneğin, sigara içme alışkanlığı ile yaş grupları arasındaki ilişkiyi test etmek.\n",
    "Ki-kare iyilik uyum testi (Chi-square goodness-of-fit test): Gözlemlenen frekansların beklenen frekanslara uyumunu test eder. Örneğin, bir zarın adil olup olmadığını test etmek.\n",
    "Mann-Whitney U testi: İki bağımsız grubun medyanlarını karşılaştırmak için kullanılır. Veriler normal dağılmıyorsa ya da ölçek ordinal ise tercih edilir. Örneğin, tedavi ve kontrol gruplarının iyileşme sürelerini karşılaştırmak.\n",
    "\n",
    "Wilcoxon işaretli sıra testi (Wilcoxon signed-rank test): Aynı grubun farklı zamanlardaki ölçümlerini karşılaştırmak için kullanılır (paired t-test'in parametrik olmayan eşdeğeri). Örneğin, tedavi öncesi ve sonrası ağrı skorlarını karşılaştırmak.\n",
    "\n",
    "Kruskal-Wallis testi: Üç veya daha fazla bağımsız grubun medyanlarını karşılaştırmak için kullanılır. ANOVA’nın parametrik olmayan eşdeğeridir. Örneğin, üç farklı tedavi yönteminin iyileşme süresine etkisini test etmek.\n",
    "### **İstatistiksel Test Seçim Rehberi**\n",
    "\n",
    "Bu rehber, hangi testi kullanmanız gerektiğini hızlıca anlamanıza yardımcı olur. Verilerinizin **grup sayısı**, **değişken tipi** ve **bağımlılık durumu** gibi özelliklerine göre seçim yapabilirsiniz.\n",
    "\n",
    "---\n",
    "\n",
    "#### **1. Tek Grup Karşılaştırması**\n",
    "- **Sürekli değişken (ortalama) bilinen bir değerden farklı mı?**\n",
    "  - **One-Sample T-Test**: Bir grubun ortalamasını sabit bir değere karşılaştırmak için.\n",
    "    - Örnek: \"Bir sınıfın sınav ortalaması 70 mi?\"\n",
    "\n",
    "- **Kategorik değişken (oran) bilinen bir orandan farklı mı?**\n",
    "  - **One-Sample Proportion Test**: Bir grubun belirli bir orandan farklı olup olmadığını test etmek için.\n",
    "    - Örnek: \"Bir okulda sınavı geçenlerin oranı %80 mi?\"\n",
    "\n",
    "---\n",
    "\n",
    "#### **2. İki Grup Karşılaştırması**\n",
    "- **İki bağımsız grubun sürekli değişken ortalamalarını karşılaştırmak:**\n",
    "  - **Two-Sample T-Test (Independent T-Test)**: Gruplar bağımsız ve veri sürekli ise.\n",
    "    - Örnek: \"Erkek ve kız öğrencilerin matematik sınavı ortalamaları farklı mı?\"\n",
    "\n",
    "- **İki bağımsız grubun medyanlarını karşılaştırmak:**\n",
    "  - **Mann-Whitney U Test (Wilcoxon Rank-Sum Test)**: Veriler normal dağılmıyorsa veya ordinal ise.\n",
    "    - Örnek: \"İki farklı mağazanın müşteri memnuniyeti farklı mı?\"\n",
    "\n",
    "- **İki bağımlı (eşleştirilmiş) ölçümün sürekli değişken ortalamalarını karşılaştırmak:**\n",
    "  - **Paired T-Test**: Aynı gruptan iki farklı durumda ölçülen veriler.\n",
    "    - Örnek: \"Öğrencilerin ders öncesi ve sonrası stres seviyeleri farklı mı?\"\n",
    "\n",
    "- **İki bağımlı ölçümün medyanlarını karşılaştırmak:**\n",
    "  - **Wilcoxon Signed-Rank Test**: Veriler normal dağılmıyorsa.\n",
    "    - Örnek: \"Tedavi öncesi ve sonrası ağrı skorları farklı mı?\"\n",
    "\n",
    "- **İki bağımsız grubun kategorik değişken oranlarını karşılaştırmak:**\n",
    "  - **Two-Sample Proportion Test**: İki grubun oranları karşılaştırılır.\n",
    "    - Örnek: \"Erkek ve kız öğrencilerin sınavı geçme oranları farklı mı?\"\n",
    "\n",
    "---\n",
    "\n",
    "#### **3. Üç veya Daha Fazla Grup Karşılaştırması**\n",
    "- **Üç veya daha fazla bağımsız grubun sürekli değişken ortalamalarını karşılaştırmak:**\n",
    "  - **ANOVA (Analysis of Variance)**: Veriler normal dağılım gösteriyorsa.\n",
    "    - Örnek: \"Üç farklı öğretim yönteminin başarı üzerindeki etkisi farklı mı?\"\n",
    "\n",
    "- **Üç veya daha fazla bağımsız grubun medyanlarını karşılaştırmak:**\n",
    "  - **Kruskal-Wallis Test**: Veriler normal dağılmıyorsa veya ordinal ise.\n",
    "    - Örnek: \"Üç farklı maaş grubunun iş memnuniyeti farklı mı?\"\n",
    "\n",
    "---\n",
    "\n",
    "#### **4. Kategorik Veri Karşılaştırmaları**\n",
    "- **Kategorik veriler arasındaki ilişkiyi test etmek:**\n",
    "  - **Chi-Square Test for Independence (Ki-Kare Bağımsızlık Testi)**: İki kategorik değişken bağımsız mı?\n",
    "    - Örnek: \"Sigara içme durumu ile yaş grubu arasında ilişki var mı?\"\n",
    "\n",
    "- **Kategorik verilerin belirli bir dağılıma uyup uymadığını test etmek:**\n",
    "  - **Chi-Square Goodness-of-Fit Test (Ki-Kare İyilik Uyum Testi)**: Gözlemlenen ve beklenen frekanslar arasında fark var mı?\n",
    "    - Örnek: \"Bir zar adil mi?\"\n",
    "\n",
    "---\n",
    "\n",
    "### **Özet Tablo**\n",
    "\n",
    "| **Durum**                                    | **Test**                              |\n",
    "|----------------------------------------------|---------------------------------------|\n",
    "| **Tek grup - Ortalama (sürekli)**            | One T-Test                    |\n",
    "| **Tek grup - Oran (kategorik)**              | One-Sample Proportion Test           |\n",
    "| **İki bağımsız grup - Ortalama (sürekli, oran)**   | Two-Sample T-Test                    |\n",
    "| **İki bağımsız grup - Medyan (ordinal)**     | Mann-Whitney U Test                  |\n",
    "| **İki bağımlı grup - Ortalama (sürekli)**    | ikili T-Test                        |\n",
    "| **İki bağımlı grup - Medyan (ordinal)**      | Wilcoxon Signed-Rank Test            |\n",
    "| **İki bağımsız grup - Oran (kategorik)**     | Two-Sample Proportion Test           |\n",
    "| **Üç veya daha fazla grup - Ortalama**       | ANOVA                                |\n",
    "| **Üç veya daha fazla grup - Medyan(ordinal)**         | Kruskal-Wallis Test                  |\n",
    "| **İki kategorik değişken ilişkisi**          | Chi-Square Independence Test         |\n",
    "| **Kategorik veri uyumu**                     | Chi-Square Goodness-of-Fit Test      |\n",
    "\n",
    "Bu rehber ile doğru testi seçmek artık çok daha kolay! 😊"
   ]
  },
  {
   "cell_type": "code",
   "execution_count": null,
   "id": "a60b546d-b8be-46a0-ac8c-49cad9bf28f2",
   "metadata": {},
   "outputs": [],
   "source": [
    "-> çıktı verileri sayısal ise regresyon kullanılır! doğru çizebilmeye çalışıyorsun örneklere en yakın doğruyu çizmek\n",
    "-> çıktıda kategorik değerler varsa sınıflandırma kullanılır. kategorik değerleri en iyi şekilde birbirinden ayırabilen modeli çizmeyi çalışır"
   ]
  },
  {
   "cell_type": "markdown",
   "id": "c8a84672-cf5a-4d9a-8b67-034cd4ac434e",
   "metadata": {},
   "source": [
    "### Z SKORU:\n",
    "Z-skoru, verinin ortalama değerden ne kadar uzak olduğunu gösterir. #z ortalaması 0 sapması 1 olan bir dağılımdır"
   ]
  },
  {
   "cell_type": "markdown",
   "id": "ccd66181-aade-4fde-865d-b83c03151f77",
   "metadata": {},
   "source": [
    "$$\n",
    "   \\[\n",
    "   z = \\frac{(\\mu - X)}{\\sigma}\n",
    "   \\]\n",
    "\\(X\\) : Gözlemlenen değer\n",
    "    \\(\\mu\\) : Ortalama\n",
    "    \\(\\sigma\\) : Standart sapma\n",
    "$$\n",
    "\n",
    "### **Z-Skoru Sonuçlarının Yorumlanması**:\n",
    "- Z-skoru, verinin ortalama değerden ne kadar uzak olduğunu gösterir.\n",
    "- Z-skoru **0** ise, veri ortalama ile tam olarak örtüşüyor demektir.\n",
    "- Z-skoru **pozitif** ise, veri ortalamadan **büyük** demektir.\n",
    "- Z-skoru **negatif** ise, veri ortalamadan **küçük** demektir.\n"
   ]
  },
  {
   "cell_type": "code",
   "execution_count": 17,
   "id": "9e12323b-bf2a-49c6-bdc6-9ec1f8cc0efd",
   "metadata": {},
   "outputs": [
    {
     "data": {
      "text/plain": [
       "97.0"
      ]
     },
     "execution_count": 17,
     "metadata": {},
     "output_type": "execute_result"
    }
   ],
   "source": [
    "import numpy as np\n",
    "scores = [70, 80, 85, 90, 95, 100, 105, 110, 115, 120]\n",
    "beklenen_deger= 95\n",
    "mean_scores = np.mean(scores) #EĞER LİSTE ŞEKLİNDE VERİLİRSE NUMPY İLE MEAN HESAPLAMAK ZORUNDASIN!\n",
    "mean_scores\n",
    "#mean_scores2 = scores.mean()\n",
    "#mean_scores2"
   ]
  },
  {
   "cell_type": "code",
   "execution_count": 19,
   "id": "44f26225-205f-4cb4-988a-0dec89d0974d",
   "metadata": {},
   "outputs": [
    {
     "data": {
      "text/plain": [
       "15.198684153570664"
      ]
     },
     "execution_count": 19,
     "metadata": {},
     "output_type": "execute_result"
    }
   ],
   "source": [
    "ss = np.std(scores)\n",
    "ss"
   ]
  },
  {
   "cell_type": "code",
   "execution_count": 23,
   "id": "6a59a447-5c83-4474-beba-810653ddd10f",
   "metadata": {},
   "outputs": [
    {
     "data": {
      "text/plain": [
       "-0.1315903389919538"
      ]
     },
     "execution_count": 23,
     "metadata": {},
     "output_type": "execute_result"
    }
   ],
   "source": [
    "z_score = (beklenen_deger - mean_scores) / ss\n",
    "z_score"
   ]
  },
  {
   "cell_type": "code",
   "execution_count": 41,
   "id": "88b2f22d-071b-4929-98d2-924923e47eea",
   "metadata": {},
   "outputs": [
    {
     "data": {
      "text/plain": [
       "-0.12483755678647183"
      ]
     },
     "execution_count": 41,
     "metadata": {},
     "output_type": "execute_result"
    }
   ],
   "source": [
    "import pandas as pd\n",
    "import numpy as np\n",
    "data = {'Scores': [70, 80, 85, 90, 95, 100, 105, 110, 115, 120]}\n",
    "df = pd.DataFrame(data)\n",
    "beklenen_deger= 95\n",
    "meanss = df['Scores'].mean()\n",
    "std_dev = df['Scores'].std()\n",
    "z_score2 = (beklenen_deger - meanss) / std_dev\n",
    "z_score2"
   ]
  },
  {
   "cell_type": "code",
   "execution_count": 53,
   "id": "9208a2ed-33c5-4b37-9079-92d6f335865f",
   "metadata": {},
   "outputs": [
    {
     "data": {
      "text/plain": [
       "0.12483755678647183"
      ]
     },
     "execution_count": 53,
     "metadata": {},
     "output_type": "execute_result"
    }
   ],
   "source": [
    "import pandas as pd\n",
    "import numpy as np\n",
    "data = {'Scores': [70, 80, 85, 90, 95, 100, 105, 110, 115, 120]}\n",
    "df = pd.DataFrame(data)\n",
    "scores2 = df['Scores']\n",
    "beklenen_deger= 95\n",
    "meanss = df['Scores'].mean()\n",
    "std_dev = np.std(scores2, ddof=1) #burası önemli!! hepsinin alnacağını belirtmek için numpy ile olduğunda ddof = 1 olmalı\n",
    "z_score2 = (meanss - beklenen_deger) / std_dev\n",
    "z_score2"
   ]
  },
  {
   "cell_type": "code",
   "execution_count": 43,
   "id": "c44f31a0-3253-47b2-84a5-f2369bc88558",
   "metadata": {
    "scrolled": true
   },
   "outputs": [
    {
     "data": {
      "text/html": [
       "<div>\n",
       "<style scoped>\n",
       "    .dataframe tbody tr th:only-of-type {\n",
       "        vertical-align: middle;\n",
       "    }\n",
       "\n",
       "    .dataframe tbody tr th {\n",
       "        vertical-align: top;\n",
       "    }\n",
       "\n",
       "    .dataframe thead th {\n",
       "        text-align: right;\n",
       "    }\n",
       "</style>\n",
       "<table border=\"1\" class=\"dataframe\">\n",
       "  <thead>\n",
       "    <tr style=\"text-align: right;\">\n",
       "      <th></th>\n",
       "      <th>respondent</th>\n",
       "      <th>main_branch</th>\n",
       "      <th>hobbyist</th>\n",
       "      <th>age</th>\n",
       "      <th>age_1st_code</th>\n",
       "      <th>age_first_code_cut</th>\n",
       "      <th>comp_freq</th>\n",
       "      <th>comp_total</th>\n",
       "      <th>converted_comp</th>\n",
       "      <th>country</th>\n",
       "      <th>...</th>\n",
       "      <th>survey_length</th>\n",
       "      <th>trans</th>\n",
       "      <th>undergrad_major</th>\n",
       "      <th>webframe_desire_next_year</th>\n",
       "      <th>webframe_worked_with</th>\n",
       "      <th>welcome_change</th>\n",
       "      <th>work_week_hrs</th>\n",
       "      <th>years_code</th>\n",
       "      <th>years_code_pro</th>\n",
       "      <th>age_cat</th>\n",
       "    </tr>\n",
       "  </thead>\n",
       "  <tbody>\n",
       "    <tr>\n",
       "      <th>0</th>\n",
       "      <td>36.0</td>\n",
       "      <td>I am not primarily a developer, but I write co...</td>\n",
       "      <td>Yes</td>\n",
       "      <td>34.0</td>\n",
       "      <td>30.0</td>\n",
       "      <td>adult</td>\n",
       "      <td>Yearly</td>\n",
       "      <td>60000.0</td>\n",
       "      <td>77556.0</td>\n",
       "      <td>United Kingdom</td>\n",
       "      <td>...</td>\n",
       "      <td>Appropriate in length</td>\n",
       "      <td>No</td>\n",
       "      <td>Computer science, computer engineering, or sof...</td>\n",
       "      <td>Express;React.js</td>\n",
       "      <td>Express;React.js</td>\n",
       "      <td>Just as welcome now as I felt last year</td>\n",
       "      <td>40.0</td>\n",
       "      <td>4.0</td>\n",
       "      <td>3.0</td>\n",
       "      <td>At least 30</td>\n",
       "    </tr>\n",
       "    <tr>\n",
       "      <th>1</th>\n",
       "      <td>47.0</td>\n",
       "      <td>I am a developer by profession</td>\n",
       "      <td>Yes</td>\n",
       "      <td>53.0</td>\n",
       "      <td>10.0</td>\n",
       "      <td>child</td>\n",
       "      <td>Yearly</td>\n",
       "      <td>58000.0</td>\n",
       "      <td>74970.0</td>\n",
       "      <td>United Kingdom</td>\n",
       "      <td>...</td>\n",
       "      <td>Appropriate in length</td>\n",
       "      <td>No</td>\n",
       "      <td>A natural science (such as biology, chemistry,...</td>\n",
       "      <td>Flask;Spring</td>\n",
       "      <td>Flask;Spring</td>\n",
       "      <td>Just as welcome now as I felt last year</td>\n",
       "      <td>40.0</td>\n",
       "      <td>43.0</td>\n",
       "      <td>28.0</td>\n",
       "      <td>At least 30</td>\n",
       "    </tr>\n",
       "    <tr>\n",
       "      <th>2</th>\n",
       "      <td>69.0</td>\n",
       "      <td>I am a developer by profession</td>\n",
       "      <td>Yes</td>\n",
       "      <td>25.0</td>\n",
       "      <td>12.0</td>\n",
       "      <td>child</td>\n",
       "      <td>Yearly</td>\n",
       "      <td>550000.0</td>\n",
       "      <td>594539.0</td>\n",
       "      <td>France</td>\n",
       "      <td>...</td>\n",
       "      <td>Too short</td>\n",
       "      <td>No</td>\n",
       "      <td>Computer science, computer engineering, or sof...</td>\n",
       "      <td>Django;Flask</td>\n",
       "      <td>Django;Flask</td>\n",
       "      <td>Just as welcome now as I felt last year</td>\n",
       "      <td>40.0</td>\n",
       "      <td>13.0</td>\n",
       "      <td>3.0</td>\n",
       "      <td>Under 30</td>\n",
       "    </tr>\n",
       "    <tr>\n",
       "      <th>3</th>\n",
       "      <td>125.0</td>\n",
       "      <td>I am not primarily a developer, but I write co...</td>\n",
       "      <td>Yes</td>\n",
       "      <td>41.0</td>\n",
       "      <td>30.0</td>\n",
       "      <td>adult</td>\n",
       "      <td>Monthly</td>\n",
       "      <td>200000.0</td>\n",
       "      <td>2000000.0</td>\n",
       "      <td>United States</td>\n",
       "      <td>...</td>\n",
       "      <td>Appropriate in length</td>\n",
       "      <td>No</td>\n",
       "      <td>None</td>\n",
       "      <td>None</td>\n",
       "      <td>None</td>\n",
       "      <td>Just as welcome now as I felt last year</td>\n",
       "      <td>40.0</td>\n",
       "      <td>11.0</td>\n",
       "      <td>11.0</td>\n",
       "      <td>At least 30</td>\n",
       "    </tr>\n",
       "    <tr>\n",
       "      <th>4</th>\n",
       "      <td>147.0</td>\n",
       "      <td>I am not primarily a developer, but I write co...</td>\n",
       "      <td>No</td>\n",
       "      <td>28.0</td>\n",
       "      <td>15.0</td>\n",
       "      <td>adult</td>\n",
       "      <td>Yearly</td>\n",
       "      <td>50000.0</td>\n",
       "      <td>37816.0</td>\n",
       "      <td>Canada</td>\n",
       "      <td>...</td>\n",
       "      <td>Appropriate in length</td>\n",
       "      <td>No</td>\n",
       "      <td>Another engineering discipline (such as civil,...</td>\n",
       "      <td>None</td>\n",
       "      <td>Express;Flask</td>\n",
       "      <td>Just as welcome now as I felt last year</td>\n",
       "      <td>40.0</td>\n",
       "      <td>5.0</td>\n",
       "      <td>3.0</td>\n",
       "      <td>Under 30</td>\n",
       "    </tr>\n",
       "    <tr>\n",
       "      <th>...</th>\n",
       "      <td>...</td>\n",
       "      <td>...</td>\n",
       "      <td>...</td>\n",
       "      <td>...</td>\n",
       "      <td>...</td>\n",
       "      <td>...</td>\n",
       "      <td>...</td>\n",
       "      <td>...</td>\n",
       "      <td>...</td>\n",
       "      <td>...</td>\n",
       "      <td>...</td>\n",
       "      <td>...</td>\n",
       "      <td>...</td>\n",
       "      <td>...</td>\n",
       "      <td>...</td>\n",
       "      <td>...</td>\n",
       "      <td>...</td>\n",
       "      <td>...</td>\n",
       "      <td>...</td>\n",
       "      <td>...</td>\n",
       "      <td>...</td>\n",
       "    </tr>\n",
       "    <tr>\n",
       "      <th>2256</th>\n",
       "      <td>62812.0</td>\n",
       "      <td>I am a developer by profession</td>\n",
       "      <td>Yes</td>\n",
       "      <td>40.0</td>\n",
       "      <td>10.0</td>\n",
       "      <td>child</td>\n",
       "      <td>Yearly</td>\n",
       "      <td>145000.0</td>\n",
       "      <td>145000.0</td>\n",
       "      <td>United States</td>\n",
       "      <td>...</td>\n",
       "      <td>Too long</td>\n",
       "      <td>No</td>\n",
       "      <td>Computer science, computer engineering, or sof...</td>\n",
       "      <td>Flask;jQuery</td>\n",
       "      <td>Angular;Angular.js;Flask;jQuery;React.js</td>\n",
       "      <td>Somewhat less welcome now than last year</td>\n",
       "      <td>50.0</td>\n",
       "      <td>30.0</td>\n",
       "      <td>20.0</td>\n",
       "      <td>At least 30</td>\n",
       "    </tr>\n",
       "    <tr>\n",
       "      <th>2257</th>\n",
       "      <td>62835.0</td>\n",
       "      <td>I am a developer by profession</td>\n",
       "      <td>Yes</td>\n",
       "      <td>23.0</td>\n",
       "      <td>9.0</td>\n",
       "      <td>child</td>\n",
       "      <td>Monthly</td>\n",
       "      <td>180000.0</td>\n",
       "      <td>33972.0</td>\n",
       "      <td>Russian Federation</td>\n",
       "      <td>...</td>\n",
       "      <td>Too short</td>\n",
       "      <td>No</td>\n",
       "      <td>Computer science, computer engineering, or sof...</td>\n",
       "      <td>ASP.NET Core</td>\n",
       "      <td>ASP.NET Core;Flask</td>\n",
       "      <td>Just as welcome now as I felt last year</td>\n",
       "      <td>60.0</td>\n",
       "      <td>8.0</td>\n",
       "      <td>3.0</td>\n",
       "      <td>Under 30</td>\n",
       "    </tr>\n",
       "    <tr>\n",
       "      <th>2258</th>\n",
       "      <td>62837.0</td>\n",
       "      <td>I am a developer by profession</td>\n",
       "      <td>Yes</td>\n",
       "      <td>27.0</td>\n",
       "      <td>8.0</td>\n",
       "      <td>child</td>\n",
       "      <td>Monthly</td>\n",
       "      <td>7500.0</td>\n",
       "      <td>97284.0</td>\n",
       "      <td>Germany</td>\n",
       "      <td>...</td>\n",
       "      <td>Appropriate in length</td>\n",
       "      <td>No</td>\n",
       "      <td>Mathematics or statistics</td>\n",
       "      <td>None</td>\n",
       "      <td>None</td>\n",
       "      <td>Just as welcome now as I felt last year</td>\n",
       "      <td>42.0</td>\n",
       "      <td>12.0</td>\n",
       "      <td>2.0</td>\n",
       "      <td>Under 30</td>\n",
       "    </tr>\n",
       "    <tr>\n",
       "      <th>2259</th>\n",
       "      <td>62867.0</td>\n",
       "      <td>I am not primarily a developer, but I write co...</td>\n",
       "      <td>Yes</td>\n",
       "      <td>33.0</td>\n",
       "      <td>13.0</td>\n",
       "      <td>child</td>\n",
       "      <td>Monthly</td>\n",
       "      <td>6000.0</td>\n",
       "      <td>72000.0</td>\n",
       "      <td>Panama</td>\n",
       "      <td>...</td>\n",
       "      <td>Too long</td>\n",
       "      <td>No</td>\n",
       "      <td>Another engineering discipline (such as civil,...</td>\n",
       "      <td>None</td>\n",
       "      <td>Django;React.js</td>\n",
       "      <td>A lot less welcome now than last year</td>\n",
       "      <td>45.0</td>\n",
       "      <td>15.0</td>\n",
       "      <td>2.0</td>\n",
       "      <td>At least 30</td>\n",
       "    </tr>\n",
       "    <tr>\n",
       "      <th>2260</th>\n",
       "      <td>62882.0</td>\n",
       "      <td>I am a developer by profession</td>\n",
       "      <td>Yes</td>\n",
       "      <td>28.0</td>\n",
       "      <td>13.0</td>\n",
       "      <td>child</td>\n",
       "      <td>Yearly</td>\n",
       "      <td>180000.0</td>\n",
       "      <td>180000.0</td>\n",
       "      <td>United States</td>\n",
       "      <td>...</td>\n",
       "      <td>Appropriate in length</td>\n",
       "      <td>No</td>\n",
       "      <td>Computer science, computer engineering, or sof...</td>\n",
       "      <td>Angular;Express;Flask;React.js</td>\n",
       "      <td>Angular;Angular.js;Django;Drupal;Express;Flask</td>\n",
       "      <td>Just as welcome now as I felt last year</td>\n",
       "      <td>40.0</td>\n",
       "      <td>11.0</td>\n",
       "      <td>5.0</td>\n",
       "      <td>Under 30</td>\n",
       "    </tr>\n",
       "  </tbody>\n",
       "</table>\n",
       "<p>2261 rows × 63 columns</p>\n",
       "</div>"
      ],
      "text/plain": [
       "      respondent                                        main_branch hobbyist  \\\n",
       "0           36.0  I am not primarily a developer, but I write co...      Yes   \n",
       "1           47.0                     I am a developer by profession      Yes   \n",
       "2           69.0                     I am a developer by profession      Yes   \n",
       "3          125.0  I am not primarily a developer, but I write co...      Yes   \n",
       "4          147.0  I am not primarily a developer, but I write co...       No   \n",
       "...          ...                                                ...      ...   \n",
       "2256     62812.0                     I am a developer by profession      Yes   \n",
       "2257     62835.0                     I am a developer by profession      Yes   \n",
       "2258     62837.0                     I am a developer by profession      Yes   \n",
       "2259     62867.0  I am not primarily a developer, but I write co...      Yes   \n",
       "2260     62882.0                     I am a developer by profession      Yes   \n",
       "\n",
       "       age  age_1st_code age_first_code_cut comp_freq  comp_total  \\\n",
       "0     34.0          30.0              adult    Yearly     60000.0   \n",
       "1     53.0          10.0              child    Yearly     58000.0   \n",
       "2     25.0          12.0              child    Yearly    550000.0   \n",
       "3     41.0          30.0              adult   Monthly    200000.0   \n",
       "4     28.0          15.0              adult    Yearly     50000.0   \n",
       "...    ...           ...                ...       ...         ...   \n",
       "2256  40.0          10.0              child    Yearly    145000.0   \n",
       "2257  23.0           9.0              child   Monthly    180000.0   \n",
       "2258  27.0           8.0              child   Monthly      7500.0   \n",
       "2259  33.0          13.0              child   Monthly      6000.0   \n",
       "2260  28.0          13.0              child    Yearly    180000.0   \n",
       "\n",
       "      converted_comp             country  ...          survey_length trans  \\\n",
       "0            77556.0      United Kingdom  ...  Appropriate in length    No   \n",
       "1            74970.0      United Kingdom  ...  Appropriate in length    No   \n",
       "2           594539.0              France  ...              Too short    No   \n",
       "3          2000000.0       United States  ...  Appropriate in length    No   \n",
       "4            37816.0              Canada  ...  Appropriate in length    No   \n",
       "...              ...                 ...  ...                    ...   ...   \n",
       "2256        145000.0       United States  ...               Too long    No   \n",
       "2257         33972.0  Russian Federation  ...              Too short    No   \n",
       "2258         97284.0             Germany  ...  Appropriate in length    No   \n",
       "2259         72000.0              Panama  ...               Too long    No   \n",
       "2260        180000.0       United States  ...  Appropriate in length    No   \n",
       "\n",
       "                                        undergrad_major  \\\n",
       "0     Computer science, computer engineering, or sof...   \n",
       "1     A natural science (such as biology, chemistry,...   \n",
       "2     Computer science, computer engineering, or sof...   \n",
       "3                                                  None   \n",
       "4     Another engineering discipline (such as civil,...   \n",
       "...                                                 ...   \n",
       "2256  Computer science, computer engineering, or sof...   \n",
       "2257  Computer science, computer engineering, or sof...   \n",
       "2258                          Mathematics or statistics   \n",
       "2259  Another engineering discipline (such as civil,...   \n",
       "2260  Computer science, computer engineering, or sof...   \n",
       "\n",
       "           webframe_desire_next_year  \\\n",
       "0                   Express;React.js   \n",
       "1                       Flask;Spring   \n",
       "2                       Django;Flask   \n",
       "3                               None   \n",
       "4                               None   \n",
       "...                              ...   \n",
       "2256                    Flask;jQuery   \n",
       "2257                    ASP.NET Core   \n",
       "2258                            None   \n",
       "2259                            None   \n",
       "2260  Angular;Express;Flask;React.js   \n",
       "\n",
       "                                webframe_worked_with  \\\n",
       "0                                   Express;React.js   \n",
       "1                                       Flask;Spring   \n",
       "2                                       Django;Flask   \n",
       "3                                               None   \n",
       "4                                      Express;Flask   \n",
       "...                                              ...   \n",
       "2256        Angular;Angular.js;Flask;jQuery;React.js   \n",
       "2257                              ASP.NET Core;Flask   \n",
       "2258                                            None   \n",
       "2259                                 Django;React.js   \n",
       "2260  Angular;Angular.js;Django;Drupal;Express;Flask   \n",
       "\n",
       "                                welcome_change work_week_hrs years_code  \\\n",
       "0      Just as welcome now as I felt last year          40.0        4.0   \n",
       "1      Just as welcome now as I felt last year          40.0       43.0   \n",
       "2      Just as welcome now as I felt last year          40.0       13.0   \n",
       "3      Just as welcome now as I felt last year          40.0       11.0   \n",
       "4      Just as welcome now as I felt last year          40.0        5.0   \n",
       "...                                        ...           ...        ...   \n",
       "2256  Somewhat less welcome now than last year          50.0       30.0   \n",
       "2257   Just as welcome now as I felt last year          60.0        8.0   \n",
       "2258   Just as welcome now as I felt last year          42.0       12.0   \n",
       "2259     A lot less welcome now than last year          45.0       15.0   \n",
       "2260   Just as welcome now as I felt last year          40.0       11.0   \n",
       "\n",
       "     years_code_pro      age_cat  \n",
       "0               3.0  At least 30  \n",
       "1              28.0  At least 30  \n",
       "2               3.0     Under 30  \n",
       "3              11.0  At least 30  \n",
       "4               3.0     Under 30  \n",
       "...             ...          ...  \n",
       "2256           20.0  At least 30  \n",
       "2257            3.0     Under 30  \n",
       "2258            2.0     Under 30  \n",
       "2259            2.0  At least 30  \n",
       "2260            5.0     Under 30  \n",
       "\n",
       "[2261 rows x 63 columns]"
      ]
     },
     "execution_count": 43,
     "metadata": {},
     "output_type": "execute_result"
    }
   ],
   "source": [
    "df_stck = pd.read_feather(\"data/stack_overflow.feather\")\n",
    "df_stck"
   ]
  },
  {
   "cell_type": "markdown",
   "id": "879abfd6-cd54-48a8-8f1e-b3ea477edcb9",
   "metadata": {},
   "source": [
    "Stack Overflow kullanıcıları arasında 'child' kategorisinde olanların oranı gerçekten %35'twn büyük mü?\n",
    "Null Hipotezi (H0): 'child' kategorisinde olan kullanıcıların oranı %35'ten büyüktür"
   ]
  },
  {
   "cell_type": "code",
   "execution_count": 58,
   "id": "befefc2d-c565-443c-9b8b-d2f3bf47b087",
   "metadata": {},
   "outputs": [],
   "source": [
    "first_code_boot_distn = []\n",
    "for i in range(5000):\n",
    "    first_code_boot_distn.append(\n",
    "        np.mean(\n",
    "            (df_stck.sample(frac=1, replace=True)\n",
    "             ['age_first_code_cut'] == 'child').mean()\n",
    "        )\n",
    "    )"
   ]
  },
  {
   "cell_type": "code",
   "execution_count": 59,
   "id": "c39bb63f-d35d-4824-b697-75d6efdb7796",
   "metadata": {},
   "outputs": [
    {
     "data": {
      "text/plain": [
       "4.059655896408994"
      ]
     },
     "execution_count": 59,
     "metadata": {},
     "output_type": "execute_result"
    }
   ],
   "source": [
    "sample_means = (df_stck['age_first_code_cut'] == 'child').mean()\n",
    "hyp = 0.35\n",
    "ss = np.std(first_code_boot_distn, ddof=1)\n",
    "z_score3 = (sample_means - hyp) / ss\n",
    "z_score3"
   ]
  },
  {
   "cell_type": "code",
   "execution_count": 63,
   "id": "0b1aec27-4574-484c-b15b-7868f3bf9c0f",
   "metadata": {},
   "outputs": [
    {
     "data": {
      "text/plain": [
       "2.457254345189508e-05"
      ]
     },
     "execution_count": 63,
     "metadata": {},
     "output_type": "execute_result"
    }
   ],
   "source": [
    "#büyüktür dediği için sağ kuyruk testi yapılır\n",
    "from scipy.stats import norm\n",
    "\n",
    "pvalue= 1- norm.cdf(z_score3)\n",
    "pvalue #h0 reddedilir"
   ]
  },
  {
   "cell_type": "markdown",
   "id": "2d5ed4db-ea30-43fb-9d15-4ffc33a5b3ba",
   "metadata": {},
   "source": [
    "# T İSTATİSTİĞİ: \n",
    "iki örneklem arasındaki ortalama farkının anlamlı olup olmadığını test etmek için kullanılan bir istatistiksel testtir. Bu test, iki grup arasındaki farkın örneklem varyansı ile karşılaştırılmasını sağlar. Özellikle **iki bağımsız grup** için, örneklem büyüklükleri ve standart sapmaları göz önünde bulundurularak hesaplanır.\n",
    "#### **Formül:**\n",
    "\n",
    "İki bağımsız örneklem için t-istatistiği şu formülle hesaplanır:\n",
    "\n",
    "$$\n",
    "t = \\frac{\\bar{x}_1 - \\bar{x}_2}{\\sqrt{\\frac{s_1^2}{n_1} + \\frac{s_2^2}{n_2}}}\n",
    "$$\n",
    "\n",
    "- **$\\bar{x}_1$** ve **$\\bar{x}_2$**: İlk ve ikinci örneklemin ortalamaları  \n",
    "- **$s_1$** ve **$s_2$**: İlk ve ikinci örneklemin standart sapmaları  \n",
    "- **$n_1$** ve **$n_2$**: İlk ve ikinci örneklemin büyüklükleri\n",
    "İki bağımsız örneklem için kullanılan, klasik t-testindeki **serbestlik derecesi** (degrees of freedom) yaklaşık olarak şu formülle hesaplanır:  \n",
    "Serbestlik derecesi düşük olduğunda (df=1, 2), t dağılımı daha geniş kuyruklara sahip olur. Yani, daha fazla ağırlık uç değerlerde bulunur.\n",
    "Serbestlik derecesi arttıkça (df=4, 8), t dağılımı normal dağılıma daha çok benzer hale gelir.\n",
    "Normal dağılım, serbestlik derecesi yüksek olan t dağılımına yaklaşır.\n",
    "     $$\n",
    "     df = n_1 + n_2 - 2\n",
    "     $$  "
   ]
  },
  {
   "cell_type": "markdown",
   "id": "7b876a43-a6ab-43bb-8e8f-3381e7938663",
   "metadata": {},
   "source": [
    "'adult' ve 'child' grupları arasındaki 'converted_comp' adlı değişkenin ortalamaları arasındaki farkın istatistiksel olarak anlamlı olup olmadığını test et.\n",
    "h0 = adult grubu ortalamasının child grubu ortalamasından büyüktür."
   ]
  },
  {
   "cell_type": "code",
   "execution_count": 68,
   "id": "25efbb38-8e97-4363-b6ad-87004aa8e7bd",
   "metadata": {},
   "outputs": [
    {
     "data": {
      "text/plain": [
       "age_first_code_cut\n",
       "adult    111313.311047\n",
       "child    132419.570621\n",
       "Name: converted_comp, dtype: float64"
      ]
     },
     "execution_count": 68,
     "metadata": {},
     "output_type": "execute_result"
    }
   ],
   "source": [
    "ort = df_stck.groupby('age_first_code_cut')['converted_comp'].mean()\n",
    "ort"
   ]
  },
  {
   "cell_type": "code",
   "execution_count": 70,
   "id": "31af71a4-2006-4be8-881d-645ac3b6ad79",
   "metadata": {},
   "outputs": [
    {
     "data": {
      "text/plain": [
       "age_first_code_cut\n",
       "adult    271546.521729\n",
       "child    255585.240115\n",
       "Name: converted_comp, dtype: float64"
      ]
     },
     "execution_count": 70,
     "metadata": {},
     "output_type": "execute_result"
    }
   ],
   "source": [
    "st = df_stck.groupby('age_first_code_cut')['converted_comp'].std()\n",
    "st"
   ]
  },
  {
   "cell_type": "code",
   "execution_count": 72,
   "id": "f8bc45e3-7974-422b-b415-5106120e2dbc",
   "metadata": {},
   "outputs": [
    {
     "data": {
      "text/plain": [
       "age_first_code_cut\n",
       "adult    1376\n",
       "child     885\n",
       "Name: converted_comp, dtype: int64"
      ]
     },
     "execution_count": 72,
     "metadata": {},
     "output_type": "execute_result"
    }
   ],
   "source": [
    "n = df_stck.groupby('age_first_code_cut')['converted_comp'].count()\n",
    "n"
   ]
  },
  {
   "cell_type": "code",
   "execution_count": 78,
   "id": "a62d2ad7-ff01-4e11-9118-fae8bad96595",
   "metadata": {},
   "outputs": [
    {
     "data": {
      "text/plain": [
       "1.8699313316221844"
      ]
     },
     "execution_count": 78,
     "metadata": {},
     "output_type": "execute_result"
    }
   ],
   "source": [
    "import numpy as np\n",
    "pay = ort.iloc[1] - ort.iloc[0]\n",
    "payda = np.sqrt(st.iloc[1]**2 / n.iloc[1] + st.iloc[0]**2 / n.iloc[0])\n",
    "t_stat = pay /payda\n",
    "t_stat"
   ]
  },
  {
   "cell_type": "code",
   "execution_count": 82,
   "id": "e61f3da7-0e6b-480b-8935-435c2143cd84",
   "metadata": {},
   "outputs": [
    {
     "data": {
      "text/plain": [
       "2259"
      ]
     },
     "execution_count": 82,
     "metadata": {},
     "output_type": "execute_result"
    }
   ],
   "source": [
    "degrees_of_freedom = n.iloc[1] + n.iloc[0] - 2\n",
    "degrees_of_freedom"
   ]
  },
  {
   "cell_type": "code",
   "execution_count": 84,
   "id": "ac5cfa41-6e5e-475a-b58a-ac50a07be8a1",
   "metadata": {},
   "outputs": [
    {
     "data": {
      "text/plain": [
       "0.030811302165157595"
      ]
     },
     "execution_count": 84,
     "metadata": {},
     "output_type": "execute_result"
    }
   ],
   "source": [
    "from scipy.stats import t \n",
    "p_deger = 1- t.cdf(t_stat , df=degrees_of_freedom)\n",
    "p_deger #reddedilir h0i çünkü 0.05 yani alpha değerinden küçüktür."
   ]
  },
  {
   "cell_type": "markdown",
   "id": "cef6d2ca-2227-47bc-8f31-a8da8dbf38d7",
   "metadata": {},
   "source": [
    "## Tek Örneklem T-Testi\n",
    "\n",
    "- **Tanım**: Tek örneklem t-testi, bir örneklemin ortalamasının belirli bir teorik veya beklenen değerden (genellikle 0, 100 vb.) anlamlı şekilde farklı olup olmadığını test etmek için kullanılır.  \n",
    "- **Formül** (basit hali):  \n",
    "  $$\n",
    "  t = \\frac{\\bar{x} - \\mu_0}{\\sqrt{\\frac{s^2}{n}}}\n",
    "  $$\n",
    "  - \\(\\bar{x}\\): Örneklem ortalaması  \n",
    "  - \\(\\mu_0\\): Beklenen/popülasyon ortalaması (hipotezdeki ortalama)  \n",
    "  - \\(s\\): Örneklemin standart sapması  \n",
    "  - \\(n\\): Örneklem büyüklüğü\n",
    "\n",
    "Bunda degrees_of_freedom n-1'dir!!!\n",
    "sonrasında sağ ya da sol kuyruk testi yapılır!!"
   ]
  },
  {
   "cell_type": "markdown",
   "id": "391758f9-d315-4c14-a101-8cb676818083",
   "metadata": {},
   "source": [
    "örneğin 2008 ve 2012 verilerinden yaratılan **`diff`** sütunu) tek bir örneklem verisi (farklar) üzerinden, “bu ortalama fark sıfır mı?” hipotezi test ediliyor.\n",
    "h0 = 2008 değerinin ort 2012 değerinin ort'ından eşit ya da küçüktür."
   ]
  },
  {
   "cell_type": "code",
   "execution_count": 93,
   "id": "ef1aeab4-36f4-461f-a2cd-600bab8ba152",
   "metadata": {},
   "outputs": [
    {
     "data": {
      "text/html": [
       "<div>\n",
       "<style scoped>\n",
       "    .dataframe tbody tr th:only-of-type {\n",
       "        vertical-align: middle;\n",
       "    }\n",
       "\n",
       "    .dataframe tbody tr th {\n",
       "        vertical-align: top;\n",
       "    }\n",
       "\n",
       "    .dataframe thead th {\n",
       "        text-align: right;\n",
       "    }\n",
       "</style>\n",
       "<table border=\"1\" class=\"dataframe\">\n",
       "  <thead>\n",
       "    <tr style=\"text-align: right;\">\n",
       "      <th></th>\n",
       "      <th>state</th>\n",
       "      <th>county</th>\n",
       "      <th>repub_percent_08</th>\n",
       "      <th>repub_percent_12</th>\n",
       "      <th>diff</th>\n",
       "    </tr>\n",
       "  </thead>\n",
       "  <tbody>\n",
       "    <tr>\n",
       "      <th>0</th>\n",
       "      <td>Alabama</td>\n",
       "      <td>Hale</td>\n",
       "      <td>38.957877</td>\n",
       "      <td>37.139882</td>\n",
       "      <td>1.817995</td>\n",
       "    </tr>\n",
       "    <tr>\n",
       "      <th>1</th>\n",
       "      <td>Arkansas</td>\n",
       "      <td>Nevada</td>\n",
       "      <td>56.726272</td>\n",
       "      <td>58.983452</td>\n",
       "      <td>-2.257179</td>\n",
       "    </tr>\n",
       "    <tr>\n",
       "      <th>2</th>\n",
       "      <td>California</td>\n",
       "      <td>Lake</td>\n",
       "      <td>38.896719</td>\n",
       "      <td>39.331367</td>\n",
       "      <td>-0.434648</td>\n",
       "    </tr>\n",
       "    <tr>\n",
       "      <th>3</th>\n",
       "      <td>California</td>\n",
       "      <td>Ventura</td>\n",
       "      <td>42.923190</td>\n",
       "      <td>45.250693</td>\n",
       "      <td>-2.327503</td>\n",
       "    </tr>\n",
       "    <tr>\n",
       "      <th>4</th>\n",
       "      <td>Colorado</td>\n",
       "      <td>Lincoln</td>\n",
       "      <td>74.522569</td>\n",
       "      <td>73.764757</td>\n",
       "      <td>0.757812</td>\n",
       "    </tr>\n",
       "    <tr>\n",
       "      <th>...</th>\n",
       "      <td>...</td>\n",
       "      <td>...</td>\n",
       "      <td>...</td>\n",
       "      <td>...</td>\n",
       "      <td>...</td>\n",
       "    </tr>\n",
       "    <tr>\n",
       "      <th>95</th>\n",
       "      <td>Wisconsin</td>\n",
       "      <td>Burnett</td>\n",
       "      <td>48.342541</td>\n",
       "      <td>52.437478</td>\n",
       "      <td>-4.094937</td>\n",
       "    </tr>\n",
       "    <tr>\n",
       "      <th>96</th>\n",
       "      <td>Wisconsin</td>\n",
       "      <td>La Crosse</td>\n",
       "      <td>37.490904</td>\n",
       "      <td>40.577038</td>\n",
       "      <td>-3.086134</td>\n",
       "    </tr>\n",
       "    <tr>\n",
       "      <th>97</th>\n",
       "      <td>Wisconsin</td>\n",
       "      <td>Lafayette</td>\n",
       "      <td>38.104967</td>\n",
       "      <td>41.675050</td>\n",
       "      <td>-3.570083</td>\n",
       "    </tr>\n",
       "    <tr>\n",
       "      <th>98</th>\n",
       "      <td>Wyoming</td>\n",
       "      <td>Weston</td>\n",
       "      <td>76.684241</td>\n",
       "      <td>83.983328</td>\n",
       "      <td>-7.299087</td>\n",
       "    </tr>\n",
       "    <tr>\n",
       "      <th>99</th>\n",
       "      <td>Alaska</td>\n",
       "      <td>District 34</td>\n",
       "      <td>77.063259</td>\n",
       "      <td>40.789626</td>\n",
       "      <td>36.273633</td>\n",
       "    </tr>\n",
       "  </tbody>\n",
       "</table>\n",
       "<p>100 rows × 5 columns</p>\n",
       "</div>"
      ],
      "text/plain": [
       "         state       county  repub_percent_08  repub_percent_12       diff\n",
       "0      Alabama         Hale         38.957877         37.139882   1.817995\n",
       "1     Arkansas       Nevada         56.726272         58.983452  -2.257179\n",
       "2   California         Lake         38.896719         39.331367  -0.434648\n",
       "3   California      Ventura         42.923190         45.250693  -2.327503\n",
       "4     Colorado      Lincoln         74.522569         73.764757   0.757812\n",
       "..         ...          ...               ...               ...        ...\n",
       "95   Wisconsin      Burnett         48.342541         52.437478  -4.094937\n",
       "96   Wisconsin    La Crosse         37.490904         40.577038  -3.086134\n",
       "97   Wisconsin    Lafayette         38.104967         41.675050  -3.570083\n",
       "98     Wyoming       Weston         76.684241         83.983328  -7.299087\n",
       "99      Alaska  District 34         77.063259         40.789626  36.273633\n",
       "\n",
       "[100 rows x 5 columns]"
      ]
     },
     "execution_count": 93,
     "metadata": {},
     "output_type": "execute_result"
    }
   ],
   "source": [
    "import pandas as pd\n",
    "\n",
    "df_election = pd.read_feather('data/repub_votes_potus_08_12.feather')\n",
    "sample_data = df_election.copy()\n",
    "sample_data['diff'] = sample_data['repub_percent_08'] - sample_data['repub_percent_12']\n",
    "sample_data"
   ]
  },
  {
   "cell_type": "code",
   "execution_count": 103,
   "id": "67ef348a-c8c1-4f54-8842-8b55fa9cc077",
   "metadata": {},
   "outputs": [
    {
     "data": {
      "text/plain": [
       "100"
      ]
     },
     "execution_count": 103,
     "metadata": {},
     "output_type": "execute_result"
    }
   ],
   "source": [
    "xbar = sample_data['diff'].mean()\n",
    "mu = 0\n",
    "s2 = sample_data['diff'].std()\n",
    "n_diff = len(sample_data) #count değil len kullanılmalı!!!!\n",
    "n_diff"
   ]
  },
  {
   "cell_type": "code",
   "execution_count": 105,
   "id": "9e7e6c32-46da-47b2-a640-025ef3bb914b",
   "metadata": {},
   "outputs": [
    {
     "data": {
      "text/plain": [
       "-5.601043121928489"
      ]
     },
     "execution_count": 105,
     "metadata": {},
     "output_type": "execute_result"
    }
   ],
   "source": [
    "pay = xbar - mu \n",
    "payda = np.sqrt(s2**2 / n_diff)\n",
    "cevap = pay / payda\n",
    "cevap"
   ]
  },
  {
   "cell_type": "code",
   "execution_count": 109,
   "id": "41acaf2f-7d79-4488-a3e6-6dfb841ebbad",
   "metadata": {},
   "outputs": [
    {
     "data": {
      "text/plain": [
       "9.572537285272413e-08"
      ]
     },
     "execution_count": 109,
     "metadata": {},
     "output_type": "execute_result"
    }
   ],
   "source": [
    "from scipy.stats import t \n",
    "degrees_of_fre = n_diff - 1\n",
    "t.cdf(cevap, df= degrees_of_fre) #alpha değerinden küçük olduğu için h0 reddedilir! "
   ]
  },
  {
   "cell_type": "code",
   "execution_count": 112,
   "id": "1e23ad63-dd14-4ef4-8af0-57ee9bf87e62",
   "metadata": {},
   "outputs": [
    {
     "data": {
      "text/html": [
       "<div>\n",
       "<style scoped>\n",
       "    .dataframe tbody tr th:only-of-type {\n",
       "        vertical-align: middle;\n",
       "    }\n",
       "\n",
       "    .dataframe tbody tr th {\n",
       "        vertical-align: top;\n",
       "    }\n",
       "\n",
       "    .dataframe thead th {\n",
       "        text-align: right;\n",
       "    }\n",
       "</style>\n",
       "<table border=\"1\" class=\"dataframe\">\n",
       "  <thead>\n",
       "    <tr style=\"text-align: right;\">\n",
       "      <th></th>\n",
       "      <th>T</th>\n",
       "      <th>dof</th>\n",
       "      <th>alternative</th>\n",
       "      <th>p-val</th>\n",
       "      <th>CI95%</th>\n",
       "      <th>cohen-d</th>\n",
       "      <th>BF10</th>\n",
       "      <th>power</th>\n",
       "    </tr>\n",
       "  </thead>\n",
       "  <tbody>\n",
       "    <tr>\n",
       "      <th>T-test</th>\n",
       "      <td>-5.601043</td>\n",
       "      <td>99</td>\n",
       "      <td>less</td>\n",
       "      <td>9.572537e-08</td>\n",
       "      <td>[-inf, -2.02]</td>\n",
       "      <td>0.560104</td>\n",
       "      <td>1.323e+05</td>\n",
       "      <td>0.999955</td>\n",
       "    </tr>\n",
       "  </tbody>\n",
       "</table>\n",
       "</div>"
      ],
      "text/plain": [
       "               T  dof alternative         p-val          CI95%   cohen-d  \\\n",
       "T-test -5.601043   99        less  9.572537e-08  [-inf, -2.02]  0.560104   \n",
       "\n",
       "             BF10     power  \n",
       "T-test  1.323e+05  0.999955  "
      ]
     },
     "execution_count": 112,
     "metadata": {},
     "output_type": "execute_result"
    }
   ],
   "source": [
    "# KISA YOL :\n",
    "import pingouin\n",
    "\n",
    "pingouin.ttest(sample_data['diff'], y=0, alternative='less')"
   ]
  },
  {
   "cell_type": "markdown",
   "id": "bc357f64-a9a3-4155-950c-89995ee55782",
   "metadata": {},
   "source": [
    "### ANOVA :\n",
    "ANOVA (Analysis of Variance), bir veya daha fazla bağımsız değişkenin, bir bağımlı değişken üzerindeki etkilerini test etmek için kullanılan istatistiksel bir yöntemdir.ANOVA'nın amacı, gruplar arasındaki ortalamaların birbirinden anlamlı bir şekilde farklı olup olmadığını belirlemektir. Bu test, özellikle çoklu gruplar arasında karşılaştırmalar yapmak için kullanılır.\n",
    "\n",
    "Anlamlılık düzeyi: 0.2\n"
   ]
  },
  {
   "cell_type": "code",
   "execution_count": 131,
   "id": "3e0ba4e4-0b85-4cb1-b365-94eb892d7cc3",
   "metadata": {},
   "outputs": [
    {
     "data": {
      "text/html": [
       "<div>\n",
       "<style scoped>\n",
       "    .dataframe tbody tr th:only-of-type {\n",
       "        vertical-align: middle;\n",
       "    }\n",
       "\n",
       "    .dataframe tbody tr th {\n",
       "        vertical-align: top;\n",
       "    }\n",
       "\n",
       "    .dataframe thead th {\n",
       "        text-align: right;\n",
       "    }\n",
       "</style>\n",
       "<table border=\"1\" class=\"dataframe\">\n",
       "  <thead>\n",
       "    <tr style=\"text-align: right;\">\n",
       "      <th></th>\n",
       "      <th>Source</th>\n",
       "      <th>ddof1</th>\n",
       "      <th>ddof2</th>\n",
       "      <th>F</th>\n",
       "      <th>p-unc</th>\n",
       "      <th>np2</th>\n",
       "    </tr>\n",
       "  </thead>\n",
       "  <tbody>\n",
       "    <tr>\n",
       "      <th>0</th>\n",
       "      <td>job_sat</td>\n",
       "      <td>4</td>\n",
       "      <td>2256</td>\n",
       "      <td>4.480485</td>\n",
       "      <td>0.001315</td>\n",
       "      <td>0.007882</td>\n",
       "    </tr>\n",
       "  </tbody>\n",
       "</table>\n",
       "</div>"
      ],
      "text/plain": [
       "    Source  ddof1  ddof2         F     p-unc       np2\n",
       "0  job_sat      4   2256  4.480485  0.001315  0.007882"
      ]
     },
     "execution_count": 131,
     "metadata": {},
     "output_type": "execute_result"
    }
   ],
   "source": [
    "#H₀: 'job_sat' kategorisindeki grupların 'converted_comp' ortalamaları eşittir.\n",
    "#Bu test, \"job_sat\" (iş tatmini) gibi bağımsız bir değişkenin, \"converted_comp\" (ücret düzeyi) gibi bağımlı değişken üzerindeki etkilerini incelemeye yarar\n",
    "import pingouin\n",
    "pingouin.anova(data=df_stck , dv = \"converted_comp\" , between = \"job_sat\") # p değeri anlamlılık düzeyinden küçük. h0 reddedilir!"
   ]
  },
  {
   "cell_type": "markdown",
   "id": "ec73f298-92cc-428f-800a-ea99978a6f60",
   "metadata": {},
   "source": [
    "### Pairwise tests  \n"
   ]
  },
  {
   "cell_type": "code",
   "execution_count": 139,
   "id": "554ba75a-9963-4dd6-9ce4-fc989f97dafb",
   "metadata": {},
   "outputs": [
    {
     "data": {
      "text/html": [
       "<div>\n",
       "<style scoped>\n",
       "    .dataframe tbody tr th:only-of-type {\n",
       "        vertical-align: middle;\n",
       "    }\n",
       "\n",
       "    .dataframe tbody tr th {\n",
       "        vertical-align: top;\n",
       "    }\n",
       "\n",
       "    .dataframe thead th {\n",
       "        text-align: right;\n",
       "    }\n",
       "</style>\n",
       "<table border=\"1\" class=\"dataframe\">\n",
       "  <thead>\n",
       "    <tr style=\"text-align: right;\">\n",
       "      <th></th>\n",
       "      <th>Contrast</th>\n",
       "      <th>A</th>\n",
       "      <th>B</th>\n",
       "      <th>Paired</th>\n",
       "      <th>Parametric</th>\n",
       "      <th>T</th>\n",
       "      <th>dof</th>\n",
       "      <th>alternative</th>\n",
       "      <th>p-unc</th>\n",
       "      <th>BF10</th>\n",
       "      <th>hedges</th>\n",
       "    </tr>\n",
       "  </thead>\n",
       "  <tbody>\n",
       "    <tr>\n",
       "      <th>0</th>\n",
       "      <td>job_sat</td>\n",
       "      <td>Very dissatisfied</td>\n",
       "      <td>Slightly dissatisfied</td>\n",
       "      <td>False</td>\n",
       "      <td>True</td>\n",
       "      <td>1.129951</td>\n",
       "      <td>247.570187</td>\n",
       "      <td>two-sided</td>\n",
       "      <td>0.259590</td>\n",
       "      <td>0.197</td>\n",
       "      <td>0.119131</td>\n",
       "    </tr>\n",
       "    <tr>\n",
       "      <th>1</th>\n",
       "      <td>job_sat</td>\n",
       "      <td>Very dissatisfied</td>\n",
       "      <td>Neither</td>\n",
       "      <td>False</td>\n",
       "      <td>True</td>\n",
       "      <td>0.545948</td>\n",
       "      <td>321.165726</td>\n",
       "      <td>two-sided</td>\n",
       "      <td>0.585481</td>\n",
       "      <td>0.135</td>\n",
       "      <td>0.058537</td>\n",
       "    </tr>\n",
       "    <tr>\n",
       "      <th>2</th>\n",
       "      <td>job_sat</td>\n",
       "      <td>Very dissatisfied</td>\n",
       "      <td>Slightly satisfied</td>\n",
       "      <td>False</td>\n",
       "      <td>True</td>\n",
       "      <td>1.243665</td>\n",
       "      <td>187.153329</td>\n",
       "      <td>two-sided</td>\n",
       "      <td>0.215179</td>\n",
       "      <td>0.208</td>\n",
       "      <td>0.145624</td>\n",
       "    </tr>\n",
       "    <tr>\n",
       "      <th>3</th>\n",
       "      <td>job_sat</td>\n",
       "      <td>Very dissatisfied</td>\n",
       "      <td>Very satisfied</td>\n",
       "      <td>False</td>\n",
       "      <td>True</td>\n",
       "      <td>-0.747379</td>\n",
       "      <td>221.666205</td>\n",
       "      <td>two-sided</td>\n",
       "      <td>0.455627</td>\n",
       "      <td>0.126</td>\n",
       "      <td>-0.063479</td>\n",
       "    </tr>\n",
       "    <tr>\n",
       "      <th>4</th>\n",
       "      <td>job_sat</td>\n",
       "      <td>Slightly dissatisfied</td>\n",
       "      <td>Neither</td>\n",
       "      <td>False</td>\n",
       "      <td>True</td>\n",
       "      <td>-0.602209</td>\n",
       "      <td>367.730081</td>\n",
       "      <td>two-sided</td>\n",
       "      <td>0.547406</td>\n",
       "      <td>0.118</td>\n",
       "      <td>-0.055707</td>\n",
       "    </tr>\n",
       "    <tr>\n",
       "      <th>5</th>\n",
       "      <td>job_sat</td>\n",
       "      <td>Slightly dissatisfied</td>\n",
       "      <td>Slightly satisfied</td>\n",
       "      <td>False</td>\n",
       "      <td>True</td>\n",
       "      <td>0.038264</td>\n",
       "      <td>569.926329</td>\n",
       "      <td>two-sided</td>\n",
       "      <td>0.969491</td>\n",
       "      <td>0.074</td>\n",
       "      <td>0.002719</td>\n",
       "    </tr>\n",
       "    <tr>\n",
       "      <th>6</th>\n",
       "      <td>job_sat</td>\n",
       "      <td>Slightly dissatisfied</td>\n",
       "      <td>Very satisfied</td>\n",
       "      <td>False</td>\n",
       "      <td>True</td>\n",
       "      <td>-3.076222</td>\n",
       "      <td>821.303063</td>\n",
       "      <td>two-sided</td>\n",
       "      <td>0.002166</td>\n",
       "      <td>7.43</td>\n",
       "      <td>-0.173247</td>\n",
       "    </tr>\n",
       "    <tr>\n",
       "      <th>7</th>\n",
       "      <td>job_sat</td>\n",
       "      <td>Neither</td>\n",
       "      <td>Slightly satisfied</td>\n",
       "      <td>False</td>\n",
       "      <td>True</td>\n",
       "      <td>0.700752</td>\n",
       "      <td>258.204546</td>\n",
       "      <td>two-sided</td>\n",
       "      <td>0.484088</td>\n",
       "      <td>0.114</td>\n",
       "      <td>0.068513</td>\n",
       "    </tr>\n",
       "    <tr>\n",
       "      <th>8</th>\n",
       "      <td>job_sat</td>\n",
       "      <td>Neither</td>\n",
       "      <td>Very satisfied</td>\n",
       "      <td>False</td>\n",
       "      <td>True</td>\n",
       "      <td>-1.662901</td>\n",
       "      <td>328.326639</td>\n",
       "      <td>two-sided</td>\n",
       "      <td>0.097286</td>\n",
       "      <td>0.337</td>\n",
       "      <td>-0.120115</td>\n",
       "    </tr>\n",
       "    <tr>\n",
       "      <th>9</th>\n",
       "      <td>job_sat</td>\n",
       "      <td>Slightly satisfied</td>\n",
       "      <td>Very satisfied</td>\n",
       "      <td>False</td>\n",
       "      <td>True</td>\n",
       "      <td>-4.009935</td>\n",
       "      <td>1478.622799</td>\n",
       "      <td>two-sided</td>\n",
       "      <td>0.000064</td>\n",
       "      <td>158.564</td>\n",
       "      <td>-0.192931</td>\n",
       "    </tr>\n",
       "  </tbody>\n",
       "</table>\n",
       "</div>"
      ],
      "text/plain": [
       "  Contrast                      A                      B  Paired  Parametric  \\\n",
       "0  job_sat      Very dissatisfied  Slightly dissatisfied   False        True   \n",
       "1  job_sat      Very dissatisfied                Neither   False        True   \n",
       "2  job_sat      Very dissatisfied     Slightly satisfied   False        True   \n",
       "3  job_sat      Very dissatisfied         Very satisfied   False        True   \n",
       "4  job_sat  Slightly dissatisfied                Neither   False        True   \n",
       "5  job_sat  Slightly dissatisfied     Slightly satisfied   False        True   \n",
       "6  job_sat  Slightly dissatisfied         Very satisfied   False        True   \n",
       "7  job_sat                Neither     Slightly satisfied   False        True   \n",
       "8  job_sat                Neither         Very satisfied   False        True   \n",
       "9  job_sat     Slightly satisfied         Very satisfied   False        True   \n",
       "\n",
       "          T          dof alternative     p-unc     BF10    hedges  \n",
       "0  1.129951   247.570187   two-sided  0.259590    0.197  0.119131  \n",
       "1  0.545948   321.165726   two-sided  0.585481    0.135  0.058537  \n",
       "2  1.243665   187.153329   two-sided  0.215179    0.208  0.145624  \n",
       "3 -0.747379   221.666205   two-sided  0.455627    0.126 -0.063479  \n",
       "4 -0.602209   367.730081   two-sided  0.547406    0.118 -0.055707  \n",
       "5  0.038264   569.926329   two-sided  0.969491    0.074  0.002719  \n",
       "6 -3.076222   821.303063   two-sided  0.002166     7.43 -0.173247  \n",
       "7  0.700752   258.204546   two-sided  0.484088    0.114  0.068513  \n",
       "8 -1.662901   328.326639   two-sided  0.097286    0.337 -0.120115  \n",
       "9 -4.009935  1478.622799   two-sided  0.000064  158.564 -0.192931  "
      ]
     },
     "execution_count": 139,
     "metadata": {},
     "output_type": "execute_result"
    }
   ],
   "source": [
    "import pingouin\n",
    "pingouin.pairwise_tests(data=df_stck , dv=\"converted_comp\" , between = \"job_sat\" , padjust=\"none\")"
   ]
  },
  {
   "cell_type": "markdown",
   "id": "84524016-9cb5-4452-a1bb-2c24651c400d",
   "metadata": {},
   "source": [
    "### Bonferroni correction  \n",
    "Bonferroni düzeltmesi (Bonferroni correction), çoklu karşılaştırmalar (multiple comparisons) yapıldığında, tip I hata oranını (false positive risk) kontrol altına almak için kullanılan bir yöntemdir. Çoklu karşılaştırma, aynı veri seti üzerinde birden fazla istatistiksel test yapmayı ifade eder ve bu da tip I hata oranını arttırabilir.\n",
    "\n",
    "Diyelim ki, 5 bağımsız test yapıyorsunuz ve her bir testin p-değeri 0.05. Bonferroni düzeltmesi ile bu testlerin her birinin p-değerini şu şekilde düzeltebilirsiniz:\n",
    "\n",
    "Düzeltmiş p-değeri = 0.05 × 5 = 0.25\n",
    "Bu durumda, 0.25'ten küçük p-değerleri anlamlı kabul edilir. Yani, 5 testten her birinin p-değeri 0.25'ten küçükse, farklar anlamlıdır."
   ]
  },
  {
   "cell_type": "code",
   "execution_count": 150,
   "id": "c49fb734-c6c2-4e8f-94f3-0bdcbaa8905c",
   "metadata": {},
   "outputs": [
    {
     "data": {
      "text/html": [
       "<div>\n",
       "<style scoped>\n",
       "    .dataframe tbody tr th:only-of-type {\n",
       "        vertical-align: middle;\n",
       "    }\n",
       "\n",
       "    .dataframe tbody tr th {\n",
       "        vertical-align: top;\n",
       "    }\n",
       "\n",
       "    .dataframe thead th {\n",
       "        text-align: right;\n",
       "    }\n",
       "</style>\n",
       "<table border=\"1\" class=\"dataframe\">\n",
       "  <thead>\n",
       "    <tr style=\"text-align: right;\">\n",
       "      <th></th>\n",
       "      <th>Contrast</th>\n",
       "      <th>A</th>\n",
       "      <th>B</th>\n",
       "      <th>Paired</th>\n",
       "      <th>Parametric</th>\n",
       "      <th>T</th>\n",
       "      <th>dof</th>\n",
       "      <th>alternative</th>\n",
       "      <th>p-unc</th>\n",
       "      <th>p-corr</th>\n",
       "      <th>p-adjust</th>\n",
       "      <th>BF10</th>\n",
       "      <th>hedges</th>\n",
       "    </tr>\n",
       "  </thead>\n",
       "  <tbody>\n",
       "    <tr>\n",
       "      <th>0</th>\n",
       "      <td>job_sat</td>\n",
       "      <td>Very dissatisfied</td>\n",
       "      <td>Slightly dissatisfied</td>\n",
       "      <td>False</td>\n",
       "      <td>True</td>\n",
       "      <td>1.129951</td>\n",
       "      <td>247.570187</td>\n",
       "      <td>two-sided</td>\n",
       "      <td>0.259590</td>\n",
       "      <td>1.000000</td>\n",
       "      <td>bonf</td>\n",
       "      <td>0.197</td>\n",
       "      <td>0.119131</td>\n",
       "    </tr>\n",
       "    <tr>\n",
       "      <th>1</th>\n",
       "      <td>job_sat</td>\n",
       "      <td>Very dissatisfied</td>\n",
       "      <td>Neither</td>\n",
       "      <td>False</td>\n",
       "      <td>True</td>\n",
       "      <td>0.545948</td>\n",
       "      <td>321.165726</td>\n",
       "      <td>two-sided</td>\n",
       "      <td>0.585481</td>\n",
       "      <td>1.000000</td>\n",
       "      <td>bonf</td>\n",
       "      <td>0.135</td>\n",
       "      <td>0.058537</td>\n",
       "    </tr>\n",
       "    <tr>\n",
       "      <th>2</th>\n",
       "      <td>job_sat</td>\n",
       "      <td>Very dissatisfied</td>\n",
       "      <td>Slightly satisfied</td>\n",
       "      <td>False</td>\n",
       "      <td>True</td>\n",
       "      <td>1.243665</td>\n",
       "      <td>187.153329</td>\n",
       "      <td>two-sided</td>\n",
       "      <td>0.215179</td>\n",
       "      <td>1.000000</td>\n",
       "      <td>bonf</td>\n",
       "      <td>0.208</td>\n",
       "      <td>0.145624</td>\n",
       "    </tr>\n",
       "    <tr>\n",
       "      <th>3</th>\n",
       "      <td>job_sat</td>\n",
       "      <td>Very dissatisfied</td>\n",
       "      <td>Very satisfied</td>\n",
       "      <td>False</td>\n",
       "      <td>True</td>\n",
       "      <td>-0.747379</td>\n",
       "      <td>221.666205</td>\n",
       "      <td>two-sided</td>\n",
       "      <td>0.455627</td>\n",
       "      <td>1.000000</td>\n",
       "      <td>bonf</td>\n",
       "      <td>0.126</td>\n",
       "      <td>-0.063479</td>\n",
       "    </tr>\n",
       "    <tr>\n",
       "      <th>4</th>\n",
       "      <td>job_sat</td>\n",
       "      <td>Slightly dissatisfied</td>\n",
       "      <td>Neither</td>\n",
       "      <td>False</td>\n",
       "      <td>True</td>\n",
       "      <td>-0.602209</td>\n",
       "      <td>367.730081</td>\n",
       "      <td>two-sided</td>\n",
       "      <td>0.547406</td>\n",
       "      <td>1.000000</td>\n",
       "      <td>bonf</td>\n",
       "      <td>0.118</td>\n",
       "      <td>-0.055707</td>\n",
       "    </tr>\n",
       "    <tr>\n",
       "      <th>5</th>\n",
       "      <td>job_sat</td>\n",
       "      <td>Slightly dissatisfied</td>\n",
       "      <td>Slightly satisfied</td>\n",
       "      <td>False</td>\n",
       "      <td>True</td>\n",
       "      <td>0.038264</td>\n",
       "      <td>569.926329</td>\n",
       "      <td>two-sided</td>\n",
       "      <td>0.969491</td>\n",
       "      <td>1.000000</td>\n",
       "      <td>bonf</td>\n",
       "      <td>0.074</td>\n",
       "      <td>0.002719</td>\n",
       "    </tr>\n",
       "    <tr>\n",
       "      <th>6</th>\n",
       "      <td>job_sat</td>\n",
       "      <td>Slightly dissatisfied</td>\n",
       "      <td>Very satisfied</td>\n",
       "      <td>False</td>\n",
       "      <td>True</td>\n",
       "      <td>-3.076222</td>\n",
       "      <td>821.303063</td>\n",
       "      <td>two-sided</td>\n",
       "      <td>0.002166</td>\n",
       "      <td>0.021659</td>\n",
       "      <td>bonf</td>\n",
       "      <td>7.43</td>\n",
       "      <td>-0.173247</td>\n",
       "    </tr>\n",
       "    <tr>\n",
       "      <th>7</th>\n",
       "      <td>job_sat</td>\n",
       "      <td>Neither</td>\n",
       "      <td>Slightly satisfied</td>\n",
       "      <td>False</td>\n",
       "      <td>True</td>\n",
       "      <td>0.700752</td>\n",
       "      <td>258.204546</td>\n",
       "      <td>two-sided</td>\n",
       "      <td>0.484088</td>\n",
       "      <td>1.000000</td>\n",
       "      <td>bonf</td>\n",
       "      <td>0.114</td>\n",
       "      <td>0.068513</td>\n",
       "    </tr>\n",
       "    <tr>\n",
       "      <th>8</th>\n",
       "      <td>job_sat</td>\n",
       "      <td>Neither</td>\n",
       "      <td>Very satisfied</td>\n",
       "      <td>False</td>\n",
       "      <td>True</td>\n",
       "      <td>-1.662901</td>\n",
       "      <td>328.326639</td>\n",
       "      <td>two-sided</td>\n",
       "      <td>0.097286</td>\n",
       "      <td>0.972864</td>\n",
       "      <td>bonf</td>\n",
       "      <td>0.337</td>\n",
       "      <td>-0.120115</td>\n",
       "    </tr>\n",
       "    <tr>\n",
       "      <th>9</th>\n",
       "      <td>job_sat</td>\n",
       "      <td>Slightly satisfied</td>\n",
       "      <td>Very satisfied</td>\n",
       "      <td>False</td>\n",
       "      <td>True</td>\n",
       "      <td>-4.009935</td>\n",
       "      <td>1478.622799</td>\n",
       "      <td>two-sided</td>\n",
       "      <td>0.000064</td>\n",
       "      <td>0.000638</td>\n",
       "      <td>bonf</td>\n",
       "      <td>158.564</td>\n",
       "      <td>-0.192931</td>\n",
       "    </tr>\n",
       "  </tbody>\n",
       "</table>\n",
       "</div>"
      ],
      "text/plain": [
       "  Contrast                      A                      B  Paired  Parametric  \\\n",
       "0  job_sat      Very dissatisfied  Slightly dissatisfied   False        True   \n",
       "1  job_sat      Very dissatisfied                Neither   False        True   \n",
       "2  job_sat      Very dissatisfied     Slightly satisfied   False        True   \n",
       "3  job_sat      Very dissatisfied         Very satisfied   False        True   \n",
       "4  job_sat  Slightly dissatisfied                Neither   False        True   \n",
       "5  job_sat  Slightly dissatisfied     Slightly satisfied   False        True   \n",
       "6  job_sat  Slightly dissatisfied         Very satisfied   False        True   \n",
       "7  job_sat                Neither     Slightly satisfied   False        True   \n",
       "8  job_sat                Neither         Very satisfied   False        True   \n",
       "9  job_sat     Slightly satisfied         Very satisfied   False        True   \n",
       "\n",
       "          T          dof alternative     p-unc    p-corr p-adjust     BF10  \\\n",
       "0  1.129951   247.570187   two-sided  0.259590  1.000000     bonf    0.197   \n",
       "1  0.545948   321.165726   two-sided  0.585481  1.000000     bonf    0.135   \n",
       "2  1.243665   187.153329   two-sided  0.215179  1.000000     bonf    0.208   \n",
       "3 -0.747379   221.666205   two-sided  0.455627  1.000000     bonf    0.126   \n",
       "4 -0.602209   367.730081   two-sided  0.547406  1.000000     bonf    0.118   \n",
       "5  0.038264   569.926329   two-sided  0.969491  1.000000     bonf    0.074   \n",
       "6 -3.076222   821.303063   two-sided  0.002166  0.021659     bonf     7.43   \n",
       "7  0.700752   258.204546   two-sided  0.484088  1.000000     bonf    0.114   \n",
       "8 -1.662901   328.326639   two-sided  0.097286  0.972864     bonf    0.337   \n",
       "9 -4.009935  1478.622799   two-sided  0.000064  0.000638     bonf  158.564   \n",
       "\n",
       "     hedges  \n",
       "0  0.119131  \n",
       "1  0.058537  \n",
       "2  0.145624  \n",
       "3 -0.063479  \n",
       "4 -0.055707  \n",
       "5  0.002719  \n",
       "6 -0.173247  \n",
       "7  0.068513  \n",
       "8 -0.120115  \n",
       "9 -0.192931  "
      ]
     },
     "execution_count": 150,
     "metadata": {},
     "output_type": "execute_result"
    }
   ],
   "source": [
    "import pingouin\n",
    "pingouin.pairwise_tests(data=df_stck , dv=\"converted_comp\" , between = \"job_sat\" , padjust=\"bonf\")"
   ]
  },
  {
   "cell_type": "markdown",
   "id": "cf755cd9-f39b-4ba5-bcf5-77e7b2137e00",
   "metadata": {},
   "source": [
    "### One-Sample Proportion Testi\n",
    "belirli bir popülasyon oranının **beklenen bir değere** eşit olup olmadığını test etmek için kullanılan istatistiksel bir yöntemdir. Bu test, örneklemdeki oranı kullanarak, popülasyon oranının belirli bir değere sahip olup olmadığını anlamaya çalışır.\n",
    "Z-skoru şu şekilde hesaplanır:\n",
    "$$\n",
    "z = \\frac{\\hat{p} - p_0}{\\text{SE}}\n",
    "$$\n",
    "- \\(\\hat{p}\\): Örneklemdeki istenen şeyin ort\n",
    "- \\(p_0\\): Popülasyondaki beklenen oran (null hipotezdeki oran)\n",
    "- **SE** (Standart Hata): Örneklem oranının standart hatası\n",
    "\n",
    "Standart hata (SE), örneklem büyüklüğüne ve popülasyon oranına bağlı olarak hesaplanır:\n",
    "$$\n",
    "SE = \\sqrt{\\frac{p_0(1 - p_0)}{n}}\n",
    "$$\n",
    "- \\(p_0\\): Popülasyon oranı (null hipotezdeki oran)\n",
    "- \\(n\\):  büyüklük\n",
    "  \n"
   ]
  },
  {
   "cell_type": "markdown",
   "id": "f0fd5dc9-ba70-451c-aead-e28d7fe102e7",
   "metadata": {},
   "source": [
    "#Stackoverflow veri setindeki popülasyondaki kullanıcıların yarısının otuz yaşın altında olduğunu varsayalım ve bir fark olup olmadığını kontrol edelim. Anlamlılık düzeyini 0.01 olarak belirleyelim. Örneklemde , kullanıcıların yarısından biraz fazlası otuz yaşın altındadır.  \n",
    "H0 = 0.5  \n",
    "Ha != 0.5"
   ]
  },
  {
   "cell_type": "code",
   "execution_count": 164,
   "id": "2c9b23c7-a4f6-4f40-8022-61d2892868c9",
   "metadata": {},
   "outputs": [
    {
     "data": {
      "text/plain": [
       "age_cat\n",
       "Under 30       1211\n",
       "At least 30    1050\n",
       "Name: count, dtype: int64"
      ]
     },
     "execution_count": 164,
     "metadata": {},
     "output_type": "execute_result"
    }
   ],
   "source": [
    "alpha = 0.01\n",
    "df_stck[\"age_cat\"].value_counts()"
   ]
  },
  {
   "cell_type": "code",
   "execution_count": 167,
   "id": "7c0826b9-ce6b-4abb-a11f-0f7e3b8c134d",
   "metadata": {},
   "outputs": [
    {
     "data": {
      "text/plain": [
       "0.5356037151702786"
      ]
     },
     "execution_count": 167,
     "metadata": {},
     "output_type": "execute_result"
    }
   ],
   "source": [
    "p_hat = (df_stck[\"age_cat\"] == \"Under 30\").mean()\n",
    "p_hat"
   ]
  },
  {
   "cell_type": "code",
   "execution_count": 169,
   "id": "446cd42e-ef21-4df6-bbcd-6f8b938d7885",
   "metadata": {},
   "outputs": [
    {
     "data": {
      "text/plain": [
       "3.385911440783663"
      ]
     },
     "execution_count": 169,
     "metadata": {},
     "output_type": "execute_result"
    }
   ],
   "source": [
    "p0 = 0.5\n",
    "n=len(df_stck)\n",
    "se = np.sqrt( p0 * (1-p0) / n)\n",
    "pay = p_hat - p0\n",
    "sonuc = pay / se\n",
    "sonuc"
   ]
  },
  {
   "cell_type": "markdown",
   "id": "dd659365-8699-4f46-ba27-015aa6cb5356",
   "metadata": {},
   "source": [
    "### Calculating the p-value  \n",
    "Sol kuyruklu alternatif hipotezler için norm.cdf kullanarak z-skoru p-değerine dönüştürülür. Sağ kuyruklu alternatif hipotezler için norm.cdf sonucu birden çıkarılır. İki kuyruklu alternatif hipotezler için, test istatistiğinin her iki kuyrukta da yer alıp almadığı kontrol edilir, dolayısıyla p-değeri bu iki değerin toplamıdır: biri z-skoruna, diğeri de dağılımın diğer tarafındaki negatifine karşılık gelir. Normal dağılım PDF'si simetrik olduğundan, z-skoru pozitif olduğu için bu , sağ kuyruklu p-değerinin iki katı olarak basitleştirilir. Burada , p-değeri sıfır-bir noktasının anlamlılık düzeyinden küçüktür, bu nedenle sıfır hipotezini reddererek otuz yaşın altındaki kullanıcıların oranının beş noktasına eşit olmadığı sonucuna varılır."
   ]
  },
  {
   "cell_type": "code",
   "execution_count": 175,
   "id": "2f26e026-3246-4e6f-8750-650eef4dc3e0",
   "metadata": {},
   "outputs": [
    {
     "data": {
      "text/plain": [
       "0.999645288631595"
      ]
     },
     "execution_count": 175,
     "metadata": {},
     "output_type": "execute_result"
    }
   ],
   "source": [
    "from scipy.stats import norm\n",
    "#sol kuyruk\n",
    "p_value = norm.cdf(sonuc)\n",
    "p_value"
   ]
  },
  {
   "cell_type": "code",
   "execution_count": 179,
   "id": "16723623-469e-4038-913f-f66910cd987d",
   "metadata": {},
   "outputs": [
    {
     "data": {
      "text/plain": [
       "0.00035471136840503625"
      ]
     },
     "execution_count": 179,
     "metadata": {},
     "output_type": "execute_result"
    }
   ],
   "source": [
    "#sağ kuyruk\n",
    "p_value = 1- norm.cdf(sonuc)\n",
    "p_value"
   ]
  },
  {
   "cell_type": "code",
   "execution_count": 181,
   "id": "58bfd720-0139-4bb7-82bc-fbbd019137ae",
   "metadata": {},
   "outputs": [
    {
     "data": {
      "text/plain": [
       "0.0007094227368100725"
      ]
     },
     "execution_count": 181,
     "metadata": {},
     "output_type": "execute_result"
    }
   ],
   "source": [
    "#iki kuyruk\n",
    "p_value= norm.cdf(-sonuc) + 1-norm.cdf(sonuc)\n",
    "p_value"
   ]
  },
  {
   "cell_type": "code",
   "execution_count": 185,
   "id": "bf2be6d6-d867-4427-afe4-85983e913556",
   "metadata": {},
   "outputs": [
    {
     "data": {
      "text/plain": [
       "0.0007094227368100725"
      ]
     },
     "execution_count": 185,
     "metadata": {},
     "output_type": "execute_result"
    }
   ],
   "source": [
    "p_value = 2* (1-norm.cdf(sonuc))\n",
    "p_value"
   ]
  },
  {
   "cell_type": "code",
   "execution_count": 187,
   "id": "8f55a045-68ba-451f-a9ee-eae47e1f54f9",
   "metadata": {},
   "outputs": [
    {
     "data": {
      "text/plain": [
       "True"
      ]
     },
     "execution_count": 187,
     "metadata": {},
     "output_type": "execute_result"
    }
   ],
   "source": [
    "p_value<alpha"
   ]
  },
  {
   "cell_type": "markdown",
   "id": "d32c1bc1-1f56-4cf3-85b9-e1d26087fcb5",
   "metadata": {},
   "source": [
    "### Two-sample proportion test  \n",
    "İki örneklem oranı testi, iki farklı popülasyondan alınan örneklemlerdeki oranların birbirinden anlamlı derecede farklı olup olmadığını test etmek için kullanılır."
   ]
  },
  {
   "cell_type": "markdown",
   "id": "53022132-3bbb-4e0c-922f-d7b55c5b7a1e",
   "metadata": {},
   "source": [
    "Stack Overflow anketi bir hobbyist değişkeni içermektedir. \"Evet\" değeri kullanıcının kendisini hobici olarak tanımladığı, \"Hayır\" değeri ise kendisini profesyonel olarak tanımladığı anlamına gelmektedir. Hobi sahibi kullanıcıların oranının otuz yaş altı kategorisi ile otuz yaş ve üstü kategorisi için aynı olduğu varsayılabilir, bu da iki kuyruklu bir testtir. Daha açık bir ifadeyle , boş hipotez her bir grup için popülasyon parametreleri arasındaki farkın sıfır olduğudur. Anlamlılık düzeyini 0.05 olarak belirleyelim.   \n",
    "H0 : p>=30 - p<30 =0  \n",
    "Ha : ? p>=30- p<30=! 0"
   ]
  },
  {
   "cell_type": "markdown",
   "id": "f50280da-08b9-4af6-a829-2ec50d670a31",
   "metadata": {},
   "source": [
    "Z-skoru şu şekilde hesaplanır:\n",
    "$$\n",
    "z = \\frac{p_{\\geq 30} - p_{\\text{altı 30}}}{\\text{SE}}\n",
    "$$\n",
    "- \\( p_{\\geq 30} \\): Otuz yaş ve üstü kullanıcıların hobi sahibi olma oranı.\n",
    "- \\( p_{\\text{altı 30}} \\): Otuz yaş altı kullanıcıların hobi sahibi olma oranı.\n",
    "- **SE** (Standart Hata): İki oran arasındaki farkın standart hatasıdır.\n",
    "\n",
    "Standart hata (SE) şu şekilde hesaplanır:\n",
    "$$\n",
    "SE = \\sqrt{\\frac{p_{\\geq 30}(1 - p_{\\geq 30})}{n_{\\geq 30}} + \\frac{p_{\\text{altı 30}}(1 - p_{\\text{altı 30}})}{n_{\\text{altı 30}}}}\n",
    "$$\n",
    "- \\( p_{\\geq 30} \\): Otuz yaş ve üstü oranı.\n",
    "- \\( p_{\\text{altı 30}} \\): Otuz yaş altı oranı.\n",
    "- \\( n_{\\geq 30} \\): Otuz yaş ve üstü kullanıcı sayısı.\n",
    "- \\( n_{\\text{altı 30}} \\): Otuz yaş altı kullanıcı sayısı."
   ]
  },
  {
   "cell_type": "code",
   "execution_count": 194,
   "id": "e0e0c355-c906-4bbd-92da-e075af9ac519",
   "metadata": {},
   "outputs": [
    {
     "data": {
      "text/plain": [
       "age_cat      hobbyist\n",
       "At least 30  Yes         0.773333\n",
       "             No          0.226667\n",
       "Under 30     Yes         0.843105\n",
       "             No          0.156895\n",
       "Name: proportion, dtype: float64"
      ]
     },
     "execution_count": 194,
     "metadata": {},
     "output_type": "execute_result"
    }
   ],
   "source": [
    "alpha= 0.05\n",
    "p_hat = df_stck.groupby('age_cat')['hobbyist'].value_counts(normalize=True)\n",
    "p_hat"
   ]
  },
  {
   "cell_type": "code",
   "execution_count": 196,
   "id": "521f0633-7878-4742-b297-55ace0ba9c27",
   "metadata": {},
   "outputs": [
    {
     "data": {
      "text/plain": [
       "age_cat\n",
       "At least 30    1050\n",
       "Under 30       1211\n",
       "Name: hobbyist, dtype: int64"
      ]
     },
     "execution_count": 196,
     "metadata": {},
     "output_type": "execute_result"
    }
   ],
   "source": [
    "n = df_stck.groupby('age_cat')['hobbyist'].count()\n",
    "n"
   ]
  },
  {
   "cell_type": "code",
   "execution_count": 200,
   "id": "53500920-4095-4692-b189-815df33a55d0",
   "metadata": {},
   "outputs": [
    {
     "data": {
      "text/plain": [
       "0.8431048720066061"
      ]
     },
     "execution_count": 200,
     "metadata": {},
     "output_type": "execute_result"
    }
   ],
   "source": [
    "otuz_buyuk = p_hat[('At least 30', 'Yes')]\n",
    "otuz_kucuk = p_hat[('Under 30', 'Yes')]\n",
    "otuz_kucuk"
   ]
  },
  {
   "cell_type": "code",
   "execution_count": 206,
   "id": "a282ff6a-f8dd-4968-bb3b-3bede617e2f5",
   "metadata": {},
   "outputs": [],
   "source": [
    "n_at_least_30 = n['At least 30']\n",
    "n_at_under_30 = n['Under 30']"
   ]
  },
  {
   "cell_type": "code",
   "execution_count": 218,
   "id": "700fea0d-f5cd-43f6-b5ea-05a841202c68",
   "metadata": {},
   "outputs": [
    {
     "data": {
      "text/plain": [
       "-4.1984371024335285"
      ]
     },
     "execution_count": 218,
     "metadata": {},
     "output_type": "execute_result"
    }
   ],
   "source": [
    "pay = (otuz_buyuk - otuz_kucuk)\n",
    "payda = np.sqrt((otuz_buyuk * (1 - otuz_buyuk)) / n_at_least_30 + (otuz_kucuk * (1 - otuz_kucuk) / n_at_under_30))\n",
    "z_score = pay / payda\n",
    "z_score #bu neden yanlış anlamadım!!"
   ]
  },
  {
   "cell_type": "code",
   "execution_count": 220,
   "id": "650403b9-464d-499a-b175-5cef92319413",
   "metadata": {},
   "outputs": [
    {
     "data": {
      "text/plain": [
       "-4.223691463320559"
      ]
     },
     "execution_count": 220,
     "metadata": {},
     "output_type": "execute_result"
    }
   ],
   "source": [
    "import numpy as np\n",
    "p_hat = df_stck.groupby(\"age_cat\")[\"hobbyist\"].value_counts(normalize=True)\n",
    "n = df_stck.groupby(\"age_cat\")[\"hobbyist\"].count()\n",
    "p_hat_at_least_30 = p_hat[('At least 30', 'Yes')]\n",
    "p_hat_at_under_30 = p_hat[('Under 30', 'Yes')]\n",
    "n_at_least_30 = n['At least 30']\n",
    "n_at_under_30 = n['Under 30']\n",
    "\n",
    "p_hat = (n_at_least_30 * p_hat_at_least_30 + n_at_under_30 * p_hat_at_under_30) / (n_at_least_30 + n_at_under_30)\n",
    "\n",
    "std_error = np.sqrt(p_hat * (1 - p_hat) / n_at_least_30 +\n",
    "                    p_hat * (1 - p_hat) / n_at_under_30)\n",
    "\n",
    "z_score = (p_hat_at_least_30 - p_hat_at_under_30) / std_error\n",
    "\n",
    "z_score"
   ]
  },
  {
   "cell_type": "code",
   "execution_count": 222,
   "id": "f545ce41-f116-4b0f-ad78-89e768193b27",
   "metadata": {},
   "outputs": [
    {
     "data": {
      "text/plain": [
       "(-4.223691463320559, 2.4033301426850675e-05)"
      ]
     },
     "execution_count": 222,
     "metadata": {},
     "output_type": "execute_result"
    }
   ],
   "source": [
    "# n_hobbyist = np.array([812, 1021])\n",
    "# Hobi sahibi kullanıcıları saymak (her bir grupta 'Yes' yanıtı verenler)\n",
    "n_hobbyist = df_stck[df_stck['hobbyist'] == 'Yes'].groupby('age_cat').size().values\n",
    "# Her bir grup için toplam kullanıcı sayısını hesaplamak\n",
    "n_rows = df_stck.groupby('age_cat').size().values\n",
    "#n_rows = np.array([812 + 238, 1021 + 190])\n",
    "\n",
    "from statsmodels.stats.proportion import proportions_ztest\n",
    "\n",
    "z_score, p_value = proportions_ztest(count=n_hobbyist, nobs=n_rows, \n",
    "                                     alternative='two-sided')\n",
    "\n",
    "(z_score, p_value)\n",
    "\n",
    "# h0 red "
   ]
  },
  {
   "cell_type": "markdown",
   "id": "fbea5d92-41ed-4dc2-9768-7ceae74dbe62",
   "metadata": {},
   "source": [
    "## Bağımsızlık Testi: Ki-Kare Testi (χ² Testi)\n",
    "\n",
    "**Ki-kare testi**, iki kategorik değişkenin bağımsız olup olmadığını test etmek için kullanılır. Bu testin amacı, **gözlemlenen frekanslarla** beklenen frekanslar arasındaki farkı ölçmektir. Eğer gözlemlenen ve beklenen frekanslar arasında **büyük bir fark varsa**, bağımsızlık hipotezini reddederiz.\n",
    "Ki-kare testini değişkenler yer değiştirmiş olarak çalıştırırsak , sonuçlar aynı olacaktır. Bu nedenle , sorularımızı \"X değişkeni Y değişkeninden bağımsız mı?\" yerine \" X ve Y değişkenleri bağımsız mı?\" şeklinde ifade ediyoruz, çünkü sıralama önemli değil.\n",
    "\n",
    "Bu değişkenlerin bağımsızlığını test etmek için hipotezler beyan edebiliriz. Burada yaş kategorisi yanıt(bağımlı) değişkeni, iş tatmini ise açıklayıcı(bağımsız) değişkendir: Boş hipotez, bağımsızlığın gerçekleştiğidir. 0.1'lik anlamlılık düzeyi kullanalım.Test istatistiği ki-kare(χ²) olarak gösterilir. Bağımsızlığın doğru olması durumunda gözlenen sonuçların beklenen değerlerden ne kadar uzak olduğunu ölçer.  \n",
    "H0 : Yaş kategorileri iş tatmini düzeylerinden bağımsızdır.  \n",
    "Ha : Yaş kategorileri iş tatmini düzeylerinden bağımsız değildir."
   ]
  },
  {
   "cell_type": "code",
   "execution_count": 227,
   "id": "2eda59f5-6eab-4f7a-a75c-cf6610301264",
   "metadata": {},
   "outputs": [
    {
     "name": "stderr",
     "output_type": "stream",
     "text": [
      "/var/folders/zf/gnk755n14rj48wl97n0lv_0w0000gn/T/ipykernel_1908/384739958.py:1: FutureWarning: The default of observed=False is deprecated and will be changed to True in a future version of pandas. Pass observed=False to retain current behavior or observed=True to adopt the future default and silence this warning.\n",
      "  props = df_stck.groupby('job_sat')['age_cat'].value_counts(normalize=True)\n"
     ]
    },
    {
     "data": {
      "text/plain": [
       "job_sat                age_cat    \n",
       "Very dissatisfied      Under 30       0.509434\n",
       "                       At least 30    0.490566\n",
       "Slightly dissatisfied  Under 30       0.532164\n",
       "                       At least 30    0.467836\n",
       "Neither                Under 30       0.567164\n",
       "                       At least 30    0.432836\n",
       "Slightly satisfied     Under 30       0.564706\n",
       "                       At least 30    0.435294\n",
       "Very satisfied         Under 30       0.511945\n",
       "                       At least 30    0.488055\n",
       "Name: proportion, dtype: float64"
      ]
     },
     "execution_count": 227,
     "metadata": {},
     "output_type": "execute_result"
    }
   ],
   "source": [
    "props = df_stck.groupby('job_sat')['age_cat'].value_counts(normalize=True)\n",
    "props"
   ]
  },
  {
   "cell_type": "code",
   "execution_count": 229,
   "id": "8732e186-f4da-4441-b5d8-573c72db0996",
   "metadata": {},
   "outputs": [
    {
     "data": {
      "text/html": [
       "<div>\n",
       "<style scoped>\n",
       "    .dataframe tbody tr th:only-of-type {\n",
       "        vertical-align: middle;\n",
       "    }\n",
       "\n",
       "    .dataframe tbody tr th {\n",
       "        vertical-align: top;\n",
       "    }\n",
       "\n",
       "    .dataframe thead th {\n",
       "        text-align: right;\n",
       "    }\n",
       "</style>\n",
       "<table border=\"1\" class=\"dataframe\">\n",
       "  <thead>\n",
       "    <tr style=\"text-align: right;\">\n",
       "      <th>age_cat</th>\n",
       "      <th>At least 30</th>\n",
       "      <th>Under 30</th>\n",
       "    </tr>\n",
       "    <tr>\n",
       "      <th>job_sat</th>\n",
       "      <th></th>\n",
       "      <th></th>\n",
       "    </tr>\n",
       "  </thead>\n",
       "  <tbody>\n",
       "    <tr>\n",
       "      <th>Very dissatisfied</th>\n",
       "      <td>0.490566</td>\n",
       "      <td>0.509434</td>\n",
       "    </tr>\n",
       "    <tr>\n",
       "      <th>Slightly dissatisfied</th>\n",
       "      <td>0.467836</td>\n",
       "      <td>0.532164</td>\n",
       "    </tr>\n",
       "    <tr>\n",
       "      <th>Neither</th>\n",
       "      <td>0.432836</td>\n",
       "      <td>0.567164</td>\n",
       "    </tr>\n",
       "    <tr>\n",
       "      <th>Slightly satisfied</th>\n",
       "      <td>0.435294</td>\n",
       "      <td>0.564706</td>\n",
       "    </tr>\n",
       "    <tr>\n",
       "      <th>Very satisfied</th>\n",
       "      <td>0.488055</td>\n",
       "      <td>0.511945</td>\n",
       "    </tr>\n",
       "  </tbody>\n",
       "</table>\n",
       "</div>"
      ],
      "text/plain": [
       "age_cat                At least 30  Under 30\n",
       "job_sat                                     \n",
       "Very dissatisfied         0.490566  0.509434\n",
       "Slightly dissatisfied     0.467836  0.532164\n",
       "Neither                   0.432836  0.567164\n",
       "Slightly satisfied        0.435294  0.564706\n",
       "Very satisfied            0.488055  0.511945"
      ]
     },
     "execution_count": 229,
     "metadata": {},
     "output_type": "execute_result"
    }
   ],
   "source": [
    "wide_props = props.unstack() #age_cat değerlerinin iş tatmini kategorilerine göre sütunlara dönüştürülmesini sağlar. Bu işlem, Seri'yi DataFrame'e dönüştürür. \n",
    "wide_props"
   ]
  },
  {
   "cell_type": "code",
   "execution_count": 235,
   "id": "3823aa84-8b05-45be-97c0-881d9eddea00",
   "metadata": {},
   "outputs": [
    {
     "data": {
      "text/plain": [
       "<Axes: xlabel='job_sat'>"
      ]
     },
     "execution_count": 235,
     "metadata": {},
     "output_type": "execute_result"
    },
    {
     "data": {
      "image/png": "[encoded data removed]",
      "text/plain": [
       "<Figure size 640x480 with 1 Axes>"
      ]
     },
     "metadata": {},
     "output_type": "display_data"
    }
   ],
   "source": [
    "wide_props.plot(kind='bar', stacked=True)"
   ]
  },
  {
   "cell_type": "code",
   "execution_count": 231,
   "id": "2bb7d518-0696-46f1-82b9-c126e1957d7f",
   "metadata": {},
   "outputs": [
    {
     "data": {
      "text/html": [
       "<div>\n",
       "<style scoped>\n",
       "    .dataframe tbody tr th:only-of-type {\n",
       "        vertical-align: middle;\n",
       "    }\n",
       "\n",
       "    .dataframe tbody tr th {\n",
       "        vertical-align: top;\n",
       "    }\n",
       "\n",
       "    .dataframe thead th {\n",
       "        text-align: right;\n",
       "    }\n",
       "</style>\n",
       "<table border=\"1\" class=\"dataframe\">\n",
       "  <thead>\n",
       "    <tr style=\"text-align: right;\">\n",
       "      <th></th>\n",
       "      <th>test</th>\n",
       "      <th>lambda</th>\n",
       "      <th>chi2</th>\n",
       "      <th>dof</th>\n",
       "      <th>pval</th>\n",
       "      <th>cramer</th>\n",
       "      <th>power</th>\n",
       "    </tr>\n",
       "  </thead>\n",
       "  <tbody>\n",
       "    <tr>\n",
       "      <th>0</th>\n",
       "      <td>pearson</td>\n",
       "      <td>1.000000</td>\n",
       "      <td>5.552373</td>\n",
       "      <td>4.0</td>\n",
       "      <td>0.235164</td>\n",
       "      <td>0.049555</td>\n",
       "      <td>0.437417</td>\n",
       "    </tr>\n",
       "    <tr>\n",
       "      <th>1</th>\n",
       "      <td>cressie-read</td>\n",
       "      <td>0.666667</td>\n",
       "      <td>5.554106</td>\n",
       "      <td>4.0</td>\n",
       "      <td>0.235014</td>\n",
       "      <td>0.049563</td>\n",
       "      <td>0.437545</td>\n",
       "    </tr>\n",
       "    <tr>\n",
       "      <th>2</th>\n",
       "      <td>log-likelihood</td>\n",
       "      <td>0.000000</td>\n",
       "      <td>5.558529</td>\n",
       "      <td>4.0</td>\n",
       "      <td>0.234632</td>\n",
       "      <td>0.049583</td>\n",
       "      <td>0.437871</td>\n",
       "    </tr>\n",
       "    <tr>\n",
       "      <th>3</th>\n",
       "      <td>freeman-tukey</td>\n",
       "      <td>-0.500000</td>\n",
       "      <td>5.562688</td>\n",
       "      <td>4.0</td>\n",
       "      <td>0.234274</td>\n",
       "      <td>0.049601</td>\n",
       "      <td>0.438178</td>\n",
       "    </tr>\n",
       "    <tr>\n",
       "      <th>4</th>\n",
       "      <td>mod-log-likelihood</td>\n",
       "      <td>-1.000000</td>\n",
       "      <td>5.567570</td>\n",
       "      <td>4.0</td>\n",
       "      <td>0.233854</td>\n",
       "      <td>0.049623</td>\n",
       "      <td>0.438538</td>\n",
       "    </tr>\n",
       "    <tr>\n",
       "      <th>5</th>\n",
       "      <td>neyman</td>\n",
       "      <td>-2.000000</td>\n",
       "      <td>5.579519</td>\n",
       "      <td>4.0</td>\n",
       "      <td>0.232828</td>\n",
       "      <td>0.049676</td>\n",
       "      <td>0.439419</td>\n",
       "    </tr>\n",
       "  </tbody>\n",
       "</table>\n",
       "</div>"
      ],
      "text/plain": [
       "                 test    lambda      chi2  dof      pval    cramer     power\n",
       "0             pearson  1.000000  5.552373  4.0  0.235164  0.049555  0.437417\n",
       "1        cressie-read  0.666667  5.554106  4.0  0.235014  0.049563  0.437545\n",
       "2      log-likelihood  0.000000  5.558529  4.0  0.234632  0.049583  0.437871\n",
       "3       freeman-tukey -0.500000  5.562688  4.0  0.234274  0.049601  0.438178\n",
       "4  mod-log-likelihood -1.000000  5.567570  4.0  0.233854  0.049623  0.438538\n",
       "5              neyman -2.000000  5.579519  4.0  0.232828  0.049676  0.439419"
      ]
     },
     "execution_count": 231,
     "metadata": {},
     "output_type": "execute_result"
    }
   ],
   "source": [
    "expected, observed, stats = pingouin.chi2_independence(data=df_stck, x='job_sat', \n",
    "                                                       y='age_cat')\n",
    "stats"
   ]
  },
  {
   "cell_type": "markdown",
   "id": "35c659a4-443a-4fab-a5d8-7a37dc6807f8",
   "metadata": {},
   "source": [
    "### **Ki-Kare Uyum İyiliği Testleri**\n",
    "\n",
    "Önceki örnekte, **iki kategorik değişkenin oranlarını** karşılaştırmak için **ki-kare testi** kullanılmıştı. Bu sefer ise, **tek bir kategorik değişkeni**, **varsayılan bir dağılımla** karşılaştırmak için ki-kare testinin başka bir çeşidi kullanılacaktır.\n",
    "\n",
    "#### **Ki-Kare Uyum İyiliği Testi (Goodness-of-Fit Test)**\n",
    "**Ki-kare uyum iyiliği testi**, tek bir kategorik değişkenin, belirli bir dağılım ile ne kadar iyi uyum sağladığını test etmek için kullanılır. Bu testin amacı, örneklemdeki verilerin, beklenen (varsayılan) dağılımla ne kadar uyuştuğunu belirlemektir.\n"
   ]
  },
  {
   "cell_type": "markdown",
   "id": "6c3d4a22-cf5a-49fc-ac2a-904d76440f9d",
   "metadata": {},
   "source": [
    "### Mor Bağlantılar(Purple links)  \n",
    "Stack Overflow anketi ,kullanıcıların bir kodlama problemini çözmeye çalışırken mor bağlantı olarak da adlandırılan en iyi kaynağı zaten ziyaret ettiklerini keşfettiklerinde nasıl hissettiklerine dair eğlenceli bir soru içeriyor. purple_link sütunundaki her bir grubun sayılarını almak için value_counts fonksiyonu kullanılabilir. Ayrıca , daha sonra üzerinde çalışabilecek güzel yapılandırılmış bir DataFrame elde etmek için burada biraz manipülasyon yapılmaktadır. İlk olarak en soldaki sütunu purple_link olarak yeniden adlandırılır, sayılar n'ye atılır ve son olarak purple_link'e göre sıranır, böylece yanıtlar alfabetik sırada olur, purple_link sütununda saklanan dört olası yanıt vardır. \n",
    "\n",
    "Popülasyondaki kullanıcıların yarısının \"Merhaba, eski dostum\" yanıtını vereceğini ve diğer üç yanıtın her birinin altıda bir alacağını varsayalım. Her yanıt için anahtar-değer anahtar-değer çiftlerinden oluşan bir sözlükten bu varsayılan sonuçlar için bir DataFrame oluşturabiliriz. Hipotezleri , örneğin bu varsayılan dağılıma uyup uymadığı şeklinde belirleriz. Ki-kare test istatistiği, çözümlenen örneklem oran dağılımının hipotezlenen dağılımdan ne kadar uzak olduğunu ölçer. Anlamlılık düzeyini 0.01 olarak belirleyelim.\n",
    "\n",
    "purple_link değişkeni üzerinden, verilen varsayılan (hipotez edilen) oranların, gözlemlenen dağılımla ne kadar uyumlu olduğunu görmek istiyoruz.\n",
    "\n",
    "H0 : Örneklem varsayılan dağılımla eşleşmektedir.  \n",
    "Ha : Örneklem varsayılan dağılımla eşleşmemektedir.  \n",
    "χ²: Her grupta gözlemlenen sonuçların beklentilerden ne kadar uzak olduğunu ölçer."
   ]
  },
  {
   "cell_type": "code",
   "execution_count": 264,
   "id": "e5fb0356-ccb6-485c-8202-306a8615428d",
   "metadata": {},
   "outputs": [
    {
     "data": {
      "text/plain": [
       "purple_link\n",
       "Hello, old friend    1225\n",
       "Indifferent           405\n",
       "Amused                368\n",
       "Annoyed               263\n",
       "Name: count, dtype: int64"
      ]
     },
     "execution_count": 264,
     "metadata": {},
     "output_type": "execute_result"
    }
   ],
   "source": [
    "purple_link_counts = df_stck['purple_link'].value_counts()\n",
    "purple_link_counts"
   ]
  },
  {
   "cell_type": "code",
   "execution_count": 266,
   "id": "e8db08a6-38cf-4d32-a999-460c073208f0",
   "metadata": {},
   "outputs": [
    {
     "data": {
      "text/html": [
       "<div>\n",
       "<style scoped>\n",
       "    .dataframe tbody tr th:only-of-type {\n",
       "        vertical-align: middle;\n",
       "    }\n",
       "\n",
       "    .dataframe tbody tr th {\n",
       "        vertical-align: top;\n",
       "    }\n",
       "\n",
       "    .dataframe thead th {\n",
       "        text-align: right;\n",
       "    }\n",
       "</style>\n",
       "<table border=\"1\" class=\"dataframe\">\n",
       "  <thead>\n",
       "    <tr style=\"text-align: right;\">\n",
       "      <th></th>\n",
       "      <th>purple_link</th>\n",
       "      <th>n</th>\n",
       "    </tr>\n",
       "  </thead>\n",
       "  <tbody>\n",
       "    <tr>\n",
       "      <th>2</th>\n",
       "      <td>Amused</td>\n",
       "      <td>368</td>\n",
       "    </tr>\n",
       "    <tr>\n",
       "      <th>3</th>\n",
       "      <td>Annoyed</td>\n",
       "      <td>263</td>\n",
       "    </tr>\n",
       "    <tr>\n",
       "      <th>0</th>\n",
       "      <td>Hello, old friend</td>\n",
       "      <td>1225</td>\n",
       "    </tr>\n",
       "    <tr>\n",
       "      <th>1</th>\n",
       "      <td>Indifferent</td>\n",
       "      <td>405</td>\n",
       "    </tr>\n",
       "  </tbody>\n",
       "</table>\n",
       "</div>"
      ],
      "text/plain": [
       "         purple_link     n\n",
       "2             Amused   368\n",
       "3            Annoyed   263\n",
       "0  Hello, old friend  1225\n",
       "1        Indifferent   405"
      ]
     },
     "execution_count": 266,
     "metadata": {},
     "output_type": "execute_result"
    }
   ],
   "source": [
    "purple_link_counts = purple_link_counts.rename_axis('purple_link').reset_index(name='n').sort_values('purple_link')\n",
    "purple_link_counts"
   ]
  },
  {
   "cell_type": "code",
   "execution_count": 268,
   "id": "89ec880d-92b6-49b5-85a4-a139eda7f087",
   "metadata": {},
   "outputs": [
    {
     "data": {
      "text/html": [
       "<div>\n",
       "<style scoped>\n",
       "    .dataframe tbody tr th:only-of-type {\n",
       "        vertical-align: middle;\n",
       "    }\n",
       "\n",
       "    .dataframe tbody tr th {\n",
       "        vertical-align: top;\n",
       "    }\n",
       "\n",
       "    .dataframe thead th {\n",
       "        text-align: right;\n",
       "    }\n",
       "</style>\n",
       "<table border=\"1\" class=\"dataframe\">\n",
       "  <thead>\n",
       "    <tr style=\"text-align: right;\">\n",
       "      <th></th>\n",
       "      <th>purple_link</th>\n",
       "      <th>prop</th>\n",
       "    </tr>\n",
       "  </thead>\n",
       "  <tbody>\n",
       "    <tr>\n",
       "      <th>0</th>\n",
       "      <td>Amused</td>\n",
       "      <td>0.166667</td>\n",
       "    </tr>\n",
       "    <tr>\n",
       "      <th>1</th>\n",
       "      <td>Annoyed</td>\n",
       "      <td>0.166667</td>\n",
       "    </tr>\n",
       "    <tr>\n",
       "      <th>2</th>\n",
       "      <td>Hello, old friend</td>\n",
       "      <td>0.500000</td>\n",
       "    </tr>\n",
       "    <tr>\n",
       "      <th>3</th>\n",
       "      <td>Indifferent</td>\n",
       "      <td>0.166667</td>\n",
       "    </tr>\n",
       "  </tbody>\n",
       "</table>\n",
       "</div>"
      ],
      "text/plain": [
       "         purple_link      prop\n",
       "0             Amused  0.166667\n",
       "1            Annoyed  0.166667\n",
       "2  Hello, old friend  0.500000\n",
       "3        Indifferent  0.166667"
      ]
     },
     "execution_count": 268,
     "metadata": {},
     "output_type": "execute_result"
    }
   ],
   "source": [
    "hypothesized = pd.DataFrame({\n",
    "    'purple_link' : ['Amused', 'Annoyed', 'Hello, old friend', 'Indifferent'],\n",
    "    'prop' : [1/6, 1/6, 1/2, 1/6]\n",
    "}\n",
    ")\n",
    "hypothesized"
   ]
  },
  {
   "cell_type": "code",
   "execution_count": 270,
   "id": "7620c87b-e82d-4449-8db0-0445c0aee951",
   "metadata": {},
   "outputs": [
    {
     "data": {
      "text/html": [
       "<div>\n",
       "<style scoped>\n",
       "    .dataframe tbody tr th:only-of-type {\n",
       "        vertical-align: middle;\n",
       "    }\n",
       "\n",
       "    .dataframe tbody tr th {\n",
       "        vertical-align: top;\n",
       "    }\n",
       "\n",
       "    .dataframe thead th {\n",
       "        text-align: right;\n",
       "    }\n",
       "</style>\n",
       "<table border=\"1\" class=\"dataframe\">\n",
       "  <thead>\n",
       "    <tr style=\"text-align: right;\">\n",
       "      <th></th>\n",
       "      <th>purple_link</th>\n",
       "      <th>prop</th>\n",
       "      <th>n</th>\n",
       "    </tr>\n",
       "  </thead>\n",
       "  <tbody>\n",
       "    <tr>\n",
       "      <th>0</th>\n",
       "      <td>Amused</td>\n",
       "      <td>0.166667</td>\n",
       "      <td>376.833333</td>\n",
       "    </tr>\n",
       "    <tr>\n",
       "      <th>1</th>\n",
       "      <td>Annoyed</td>\n",
       "      <td>0.166667</td>\n",
       "      <td>376.833333</td>\n",
       "    </tr>\n",
       "    <tr>\n",
       "      <th>2</th>\n",
       "      <td>Hello, old friend</td>\n",
       "      <td>0.500000</td>\n",
       "      <td>1130.500000</td>\n",
       "    </tr>\n",
       "    <tr>\n",
       "      <th>3</th>\n",
       "      <td>Indifferent</td>\n",
       "      <td>0.166667</td>\n",
       "      <td>376.833333</td>\n",
       "    </tr>\n",
       "  </tbody>\n",
       "</table>\n",
       "</div>"
      ],
      "text/plain": [
       "         purple_link      prop            n\n",
       "0             Amused  0.166667   376.833333\n",
       "1            Annoyed  0.166667   376.833333\n",
       "2  Hello, old friend  0.500000  1130.500000\n",
       "3        Indifferent  0.166667   376.833333"
      ]
     },
     "execution_count": 270,
     "metadata": {},
     "output_type": "execute_result"
    }
   ],
   "source": [
    "alpha = 0.01\n",
    "#  Kategoriye göre varsayılan sayılar\n",
    "# Purple_link dağılımını görselleştirmek için, \n",
    "# her bir yanıt için varsayılan sayıların bulunması yardımcı olacaktır. \n",
    "# Bu sayılar, varsayılan oranların örneklemdeki \n",
    "# toplam gözlem sayısıyla çarpılmasıyla hesaplanır.\n",
    "n_total = len(df_stck)\n",
    "hypothesized['n'] = hypothesized['prop'] * n_total\n",
    "hypothesized"
   ]
  },
  {
   "cell_type": "code",
   "execution_count": 272,
   "id": "fb498fb4-9b66-4899-9486-19366ee79ca4",
   "metadata": {},
   "outputs": [
    {
     "data": {
      "text/plain": [
       "<matplotlib.legend.Legend at 0x1545ec3b0>"
      ]
     },
     "execution_count": 272,
     "metadata": {},
     "output_type": "execute_result"
    },
    {
     "data": {
      "image/png": "[encoded data removed]",
      "text/plain": [
       "<Figure size 640x480 with 1 Axes>"
      ]
     },
     "metadata": {},
     "output_type": "display_data"
    }
   ],
   "source": [
    "import matplotlib.pyplot as plt\n",
    "plt.bar(purple_link_counts['purple_link'], purple_link_counts['n'], color='red', label='Observed')\n",
    "plt.bar(hypothesized['purple_link'], hypothesized['n'], alpha=0.5, color='blue', label='Hypothesized')\n",
    "plt.legend()\n",
    "\n",
    "#Yanıtlardan ikisinin varsayılan dağılım tarafından makul ölçüde iyi modellendiğini ve diğer ikisinin oldukça farklı göründüğünü görebiliriz, ancak farkın istatiksel olarak anlamlı olup olmadığını görmek için bir hipotez testi yapmamız gerekecek."
   ]
  },
  {
   "cell_type": "code",
   "execution_count": 274,
   "id": "e6a933f0-6bfd-4d03-973c-1b93ec0048d0",
   "metadata": {},
   "outputs": [
    {
     "data": {
      "text/plain": [
       "Power_divergenceResult(statistic=44.59840778416629, pvalue=1.1261810719413717e-09)"
      ]
     },
     "execution_count": 274,
     "metadata": {},
     "output_type": "execute_result"
    }
   ],
   "source": [
    "from scipy.stats import chisquare\n",
    "chisquare(f_obs=purple_link_counts[\"n\"] , f_exp=hypothesized[\"n\"])"
   ]
  },
  {
   "cell_type": "markdown",
   "id": "a24224fd-95cb-4cf5-9e8c-b8bf6eb4fbea",
   "metadata": {},
   "source": [
    "Bu kod, **ki-kare iyelik testi (Chi-squared goodness-of-fit test)** uygulayarak, **gözlemlenen dağılım** ile **varsayılan dağılım** arasındaki farkın **istatistiksel olarak anlamlı olup olmadığını** test eder.\n",
    "\n",
    "### İyilik Testi (Goodness-of-Fit Test) Nedir?\n",
    "\n",
    "**Ki-kare iyilik testi** (Chi-squared goodness-of-fit test), bir gözlem grubunun **beklenen bir dağılıma** (örneğin, teorik bir dağılım) uygun olup olmadığını test etmek için kullanılır. Bu test, genellikle **kategorik veriler** için uygulanır.\n",
    "\n",
    "Örneğin, **purple_link** değişkeni üzerinden, verilen **varsayılan (hipotez edilen)** oranların, **gözlemlenen** dağılımla ne kadar uyumlu olduğunu görmek istiyoruz.\n",
    "\n",
    "### Kodu Adım Adım Açıklayalım:\n",
    "\n",
    "1. **Gözlemlenen Dağılım (`purple_link_counts`)**:\n",
    "   ```python\n",
    "   purple_link_counts = df_stck['purple_link'].value_counts(normalize=True)\n",
    "   ```\n",
    "   Bu satırda, **purple_link** sütunundaki her kategorinin **gözlemlenen frekanslarını** (oranlarını) hesaplıyoruz.\n",
    "\n",
    "   - `value_counts(normalize=True)` komutu, **her bir kategorinin** toplam gözlem sayısına oranını verir. Bu, gözlemlenen **oranları** verir.\n",
    "\n",
    "2. **Varsayılan Dağılım (`hypothesized`)**:\n",
    "   ```python\n",
    "   hypothesized = pd.DataFrame({\n",
    "       'purple_link' : ['Amused', 'Annoyed', 'Hello, old friend', 'Indifferent'],\n",
    "       'prop' : [1/6, 1/6, 1/2, 1/6]\n",
    "   })\n",
    "   ```\n",
    "   Burada, **hipotez edilen** (varsayılan) dağılımı tanımlıyoruz. Bu dağılımda, her kategorinin **beklenen oranları** verilmiştir:\n",
    "   - **'Amused'**, **'Annoyed'**, **'Hello, old friend'**, ve **'Indifferent'** kategorilerinin beklenen oranları sırasıyla **1/6**, **1/6**, **1/2**, ve **1/6** olarak belirlenmiştir.\n",
    "\n",
    "3. **Varsayılan Dağılım İçin Gözlemler (`n`)**:\n",
    "   ```python\n",
    "   n_total = len(df_stck)\n",
    "   hypothesized['n'] = hypothesized['prop'] * n_total\n",
    "   ```\n",
    "   Bu satırda, **varsayılan dağılımdaki oranları** kullanarak, her kategorinin **beklenen gözlem sayısını** hesaplıyoruz. Beklenen gözlem sayısı, **her kategorinin oranı** ile **toplam gözlem sayısı** (`n_total`) çarpılarak bulunur.\n",
    "\n",
    "4. **Dağılımı Görselleştirme**:\n",
    "   ```python\n",
    "   plt.bar(purple_link_counts['purple_link'], purple_link_counts['n'], color='red', label='Observed')\n",
    "   plt.bar(hypothesized['purple_link'], hypothesized['n'], alpha=0.5, color='blue', label='Hypothesized')\n",
    "   plt.legend()\n",
    "   ```\n",
    "   Burada, **gözlemlenen** ve **varsayılan** dağılımlarını **bar chart (çubuk grafiği)** şeklinde görselleştiriyoruz. **Kırmızı çubuklar**, **gözlemlenen dağılımı**, **mavi çubuklar** ise **varsayılan dağılımı** temsil ediyor.\n",
    "\n",
    "5. **Ki-Kare İyilik Testi (Chi-Squared Goodness of Fit Test)**:\n",
    "   ```python\n",
    "   from scipy.stats import chisquare\n",
    "   chisquare(f_obs=purple_link_counts[\"n\"], f_exp=hypothesized[\"n\"])\n",
    "   ```\n",
    "   Bu satırda, **`chisquare()`** fonksiyonu kullanılarak **ki-kare iyilik testi** yapılır. Burada:\n",
    "   - **`f_obs`**: **Gözlemlenen değerler** (yani, her kategorideki gözlemler).\n",
    "   - **`f_exp`**: **Beklenen değerler** (yani, her kategorideki varsayılan sayılar).\n",
    "   \n",
    "   Bu test, **gözlemlenen değerlerin** (gerçek verinin) **beklenen değerlerle (varsayılan dağılım)** ne kadar uyumlu olduğunu test eder.\n",
    "\n",
    "### Ki-Kare İyilik Testi (Chi-Squared Goodness of Fit Test):\n",
    "**Ki-kare testi** şu şekilde çalışır:\n",
    "1. **H0 (Boş Hipotez)**: Gözlemlenen dağılım, beklenen (varsayılan) dağılımla uyumludur. Yani, **veri beklenen dağılıma uyar**.\n",
    "2. **Ha (Alternatif Hipotez)**: Gözlemlenen dağılım, beklenen dağılımla uyumsuzdur. Yani, **veri beklenen dağılıma uymaz**.\n",
    "\n",
    "### Testin Sonuçları:\n",
    "- **p-değeri**: Eğer **p-değeri küçükse** (genellikle 0.05'ten küçükse), **null hipotezi reddedilir** ve gözlemlenen dağılımın beklenen dağılımdan anlamlı derecede farklı olduğu kabul edilir.\n",
    "- **Ki-kare değeri** (χ²): Bu, gözlemlenen ve beklenen dağılımlar arasındaki farkın büyüklüğünü ölçen bir test istatistiğidir.\n",
    "\n",
    "### Özet:\n",
    "Bu kodda **ki-kare iyilik testi** yapılarak, **gözlemlenen** ve **beklenen** dağılımlar arasındaki farkın **istatistiksel olarak anlamlı olup olmadığı** test ediliyor. Eğer **p-değeri** küçükse, **gözlemlenen dağılımın** **beklenen dağılımdan farklı olduğu** sonucuna varılacaktır."
   ]
  },
  {
   "cell_type": "markdown",
   "id": "01091c56-e662-48ef-8c8f-da99e2bebcc2",
   "metadata": {},
   "source": [
    "### **Hipotez Testinde Varsayımlar**\n",
    "\n",
    "Şimdiye kadar görülen her hipotez testi, veriler hakkında belirli varsayımlarda bulunur. Sadece bu varsayımlar karşılandığında, o hipotez testini kullanmak uygun olur.\n",
    "\n",
    "---\n",
    "\n",
    "### **Rastgelelik (Randomness)**\n",
    "\n",
    "İster bir örnek kullanılsın, ister birden fazla örnek kullanılsın, her hipotez testi **bir örneğin popülasyondan rastgele seçildiğini** varsayar. Eğer **rastgele bir örneklem** yoksa, o zaman popülasyon **temsil edilmeyecektir**.\n",
    "\n",
    "Bu varsayımı kontrol etmek için verilerin **nereden geldiğinin bilinmesi gerekir**. Bunun için yapılabilecek herhangi bir istatistiksel veya kodlama testi yoktur. Eğer şüphe duyuluyorsa, **veri toplamaya dahil olan kişilere** veya **örneklenen popülasyonu anlayan bir alan uzmanına** sorulması gerekir.\n",
    "\n",
    "---\n",
    "\n",
    "### **Gözlemlerin Bağımsızlığı (Independence of Observations)**\n",
    "\n",
    "Hipotez testleri ayrıca her bir gözlemin **bağımsız olduğunu** varsayar. Ancak, bazı özel durumlarda, örneğin **eşleştirilmiş t-testleri** gibi, iki örnek arasındaki bağımlılıklara izin verilebilir. Bu tür testler, hesaplamaları değiştirir, bu nedenle bu tür bağımlılıkların **nerede meydana geldiğini** anlamak önemlidir.\n",
    "\n",
    "**Eşleştirilmiş t-testleri** gibi durumlarda, **bağımlılıkların hesaba katılmaması**, **yanlış negatif** ve **yanlış pozitif hata olasılığının artmasına** neden olabilir. Bağımlılıkların hesaba katılmaması, analiz sırasında **teşhis edilmesi zor** bir sorundur. Bu nedenle, ideal olarak veriler analiz edilmeden önce tartışılmalıdır.\n",
    "\n",
    "---\n",
    "\n",
    "### **Büyük Örneklem Büyüklüğü (Large Sample Size)**\n",
    "\n",
    "Hipotez testleri ayrıca örneklemin **Merkez Limit Teoremi'nin (CLT)** geçerli olacağı kadar büyük olduğunu ve **örneklem dağılımının normal dağıldığını** varsayar. \n",
    "\n",
    "- **Küçük örneklemler**, **daha büyük belirsizliğe** neden olabilir. Bu da, **Merkez Limit Teoremi'nin geçerli olmadığı** ve örneklem dağılımının **normal dağılmayabileceği** anlamına gelir.\n",
    "- **Küçük örneklemler**, daha geniş **güven aralıkları** elde edilmesine yol açabilir.\n",
    "\n",
    "Eğer **Merkez Limit Teoremi geçerli değilse**, örneklem üzerinde yapılan hesaplamalar ve bunlardan çıkarılan sonuçlar **saçma olabilir**. Bu da, **yanlış negatif** ve **yanlış pozitif hata olasılığını artırır**.\n",
    "\n",
    "**Örneklemin \"yeterince büyük\" olması için ne kadar büyük olması gerektiği**, **teste bağlıdır**.\n",
    "\n",
    "---\n",
    "\n",
    "### **Özetle:**\n",
    "1. **Rastgelelik (Randomness)**: Her hipotez testi, örneklemin rastgele seçildiğini varsayar.\n",
    "2. **Gözlemlerin Bağımsızlığı**: Testlerin doğru sonuçlar verebilmesi için her gözlem bağımsız olmalıdır.\n",
    "3. **Büyük Örneklem Büyüklüğü**: Merkez Limit Teoremi'nin geçerli olabilmesi için örneklem yeterince büyük olmalıdır.\n"
   ]
  },
  {
   "cell_type": "markdown",
   "id": "38f881b0-466e-4433-a8b5-512039574106",
   "metadata": {},
   "source": [
    "### **Wilcoxon Testi Nedir?**\n",
    "**Wilcoxon işaretli sıralar testi (Wilcoxon Signed-Rank Test)**, iki **eşleştirilmiş** örneği karşılaştırmak için kullanılan parametrik olmayan bir testtir. Bu test, özellikle örneklemin **normal dağılıma** uymadığı durumlarda, **t-testinin** yerine kullanılabilir. Genellikle **sıralama** ve **işaretli farklar** kullanılarak test yapılır.\n"
   ]
  },
  {
   "cell_type": "code",
   "execution_count": 288,
   "id": "fb111ba4-7e71-471d-82e1-4f90bef0900a",
   "metadata": {},
   "outputs": [
    {
     "data": {
      "text/html": [
       "<div>\n",
       "<style scoped>\n",
       "    .dataframe tbody tr th:only-of-type {\n",
       "        vertical-align: middle;\n",
       "    }\n",
       "\n",
       "    .dataframe tbody tr th {\n",
       "        vertical-align: top;\n",
       "    }\n",
       "\n",
       "    .dataframe thead th {\n",
       "        text-align: right;\n",
       "    }\n",
       "</style>\n",
       "<table border=\"1\" class=\"dataframe\">\n",
       "  <thead>\n",
       "    <tr style=\"text-align: right;\">\n",
       "      <th></th>\n",
       "      <th>state</th>\n",
       "      <th>county</th>\n",
       "      <th>repub_percent_08</th>\n",
       "      <th>repub_percent_12</th>\n",
       "      <th>diff</th>\n",
       "      <th>abs_diff</th>\n",
       "      <th>rank_abs_diff</th>\n",
       "    </tr>\n",
       "  </thead>\n",
       "  <tbody>\n",
       "    <tr>\n",
       "      <th>0</th>\n",
       "      <td>Alabama</td>\n",
       "      <td>Hale</td>\n",
       "      <td>38.957877</td>\n",
       "      <td>37.139882</td>\n",
       "      <td>1.817995</td>\n",
       "      <td>1.817995</td>\n",
       "      <td>33.0</td>\n",
       "    </tr>\n",
       "    <tr>\n",
       "      <th>1</th>\n",
       "      <td>Arkansas</td>\n",
       "      <td>Nevada</td>\n",
       "      <td>56.726272</td>\n",
       "      <td>58.983452</td>\n",
       "      <td>-2.257179</td>\n",
       "      <td>2.257179</td>\n",
       "      <td>42.0</td>\n",
       "    </tr>\n",
       "    <tr>\n",
       "      <th>2</th>\n",
       "      <td>California</td>\n",
       "      <td>Lake</td>\n",
       "      <td>38.896719</td>\n",
       "      <td>39.331367</td>\n",
       "      <td>-0.434648</td>\n",
       "      <td>0.434648</td>\n",
       "      <td>10.0</td>\n",
       "    </tr>\n",
       "    <tr>\n",
       "      <th>3</th>\n",
       "      <td>California</td>\n",
       "      <td>Ventura</td>\n",
       "      <td>42.923190</td>\n",
       "      <td>45.250693</td>\n",
       "      <td>-2.327503</td>\n",
       "      <td>2.327503</td>\n",
       "      <td>44.0</td>\n",
       "    </tr>\n",
       "    <tr>\n",
       "      <th>4</th>\n",
       "      <td>Colorado</td>\n",
       "      <td>Lincoln</td>\n",
       "      <td>74.522569</td>\n",
       "      <td>73.764757</td>\n",
       "      <td>0.757812</td>\n",
       "      <td>0.757812</td>\n",
       "      <td>16.0</td>\n",
       "    </tr>\n",
       "    <tr>\n",
       "      <th>...</th>\n",
       "      <td>...</td>\n",
       "      <td>...</td>\n",
       "      <td>...</td>\n",
       "      <td>...</td>\n",
       "      <td>...</td>\n",
       "      <td>...</td>\n",
       "      <td>...</td>\n",
       "    </tr>\n",
       "    <tr>\n",
       "      <th>95</th>\n",
       "      <td>Wisconsin</td>\n",
       "      <td>Burnett</td>\n",
       "      <td>48.342541</td>\n",
       "      <td>52.437478</td>\n",
       "      <td>-4.094937</td>\n",
       "      <td>4.094937</td>\n",
       "      <td>63.0</td>\n",
       "    </tr>\n",
       "    <tr>\n",
       "      <th>96</th>\n",
       "      <td>Wisconsin</td>\n",
       "      <td>La Crosse</td>\n",
       "      <td>37.490904</td>\n",
       "      <td>40.577038</td>\n",
       "      <td>-3.086134</td>\n",
       "      <td>3.086134</td>\n",
       "      <td>50.0</td>\n",
       "    </tr>\n",
       "    <tr>\n",
       "      <th>97</th>\n",
       "      <td>Wisconsin</td>\n",
       "      <td>Lafayette</td>\n",
       "      <td>38.104967</td>\n",
       "      <td>41.675050</td>\n",
       "      <td>-3.570083</td>\n",
       "      <td>3.570083</td>\n",
       "      <td>54.0</td>\n",
       "    </tr>\n",
       "    <tr>\n",
       "      <th>98</th>\n",
       "      <td>Wyoming</td>\n",
       "      <td>Weston</td>\n",
       "      <td>76.684241</td>\n",
       "      <td>83.983328</td>\n",
       "      <td>-7.299087</td>\n",
       "      <td>7.299087</td>\n",
       "      <td>87.0</td>\n",
       "    </tr>\n",
       "    <tr>\n",
       "      <th>99</th>\n",
       "      <td>Alaska</td>\n",
       "      <td>District 34</td>\n",
       "      <td>77.063259</td>\n",
       "      <td>40.789626</td>\n",
       "      <td>36.273633</td>\n",
       "      <td>36.273633</td>\n",
       "      <td>100.0</td>\n",
       "    </tr>\n",
       "  </tbody>\n",
       "</table>\n",
       "<p>100 rows × 7 columns</p>\n",
       "</div>"
      ],
      "text/plain": [
       "         state       county  repub_percent_08  repub_percent_12       diff  \\\n",
       "0      Alabama         Hale         38.957877         37.139882   1.817995   \n",
       "1     Arkansas       Nevada         56.726272         58.983452  -2.257179   \n",
       "2   California         Lake         38.896719         39.331367  -0.434648   \n",
       "3   California      Ventura         42.923190         45.250693  -2.327503   \n",
       "4     Colorado      Lincoln         74.522569         73.764757   0.757812   \n",
       "..         ...          ...               ...               ...        ...   \n",
       "95   Wisconsin      Burnett         48.342541         52.437478  -4.094937   \n",
       "96   Wisconsin    La Crosse         37.490904         40.577038  -3.086134   \n",
       "97   Wisconsin    Lafayette         38.104967         41.675050  -3.570083   \n",
       "98     Wyoming       Weston         76.684241         83.983328  -7.299087   \n",
       "99      Alaska  District 34         77.063259         40.789626  36.273633   \n",
       "\n",
       "     abs_diff  rank_abs_diff  \n",
       "0    1.817995           33.0  \n",
       "1    2.257179           42.0  \n",
       "2    0.434648           10.0  \n",
       "3    2.327503           44.0  \n",
       "4    0.757812           16.0  \n",
       "..        ...            ...  \n",
       "95   4.094937           63.0  \n",
       "96   3.086134           50.0  \n",
       "97   3.570083           54.0  \n",
       "98   7.299087           87.0  \n",
       "99  36.273633          100.0  \n",
       "\n",
       "[100 rows x 7 columns]"
      ]
     },
     "execution_count": 288,
     "metadata": {},
     "output_type": "execute_result"
    }
   ],
   "source": [
    "import pandas as pd\n",
    "from scipy.stats import rankdata\n",
    "df_small =pd.read_feather(\"data/repub_votes_potus_08_12.feather\")\n",
    "df_small['diff'] = df_small['repub_percent_08'] - df_small['repub_percent_12']\n",
    "df_small['abs_diff'] = df_small['diff'].abs()\n",
    "df_small['rank_abs_diff'] = rankdata(df_small['abs_diff'])\n",
    "df_small"
   ]
  },
  {
   "cell_type": "code",
   "execution_count": 292,
   "id": "496ed743-1df9-41ba-aed4-49ba05d79085",
   "metadata": {},
   "outputs": [
    {
     "data": {
      "text/html": [
       "<div>\n",
       "<style scoped>\n",
       "    .dataframe tbody tr th:only-of-type {\n",
       "        vertical-align: middle;\n",
       "    }\n",
       "\n",
       "    .dataframe tbody tr th {\n",
       "        vertical-align: top;\n",
       "    }\n",
       "\n",
       "    .dataframe thead th {\n",
       "        text-align: right;\n",
       "    }\n",
       "</style>\n",
       "<table border=\"1\" class=\"dataframe\">\n",
       "  <thead>\n",
       "    <tr style=\"text-align: right;\">\n",
       "      <th></th>\n",
       "      <th>W-val</th>\n",
       "      <th>alternative</th>\n",
       "      <th>p-val</th>\n",
       "      <th>RBC</th>\n",
       "      <th>CLES</th>\n",
       "    </tr>\n",
       "  </thead>\n",
       "  <tbody>\n",
       "    <tr>\n",
       "      <th>Wilcoxon</th>\n",
       "      <td>386.0</td>\n",
       "      <td>less</td>\n",
       "      <td>9.700674e-14</td>\n",
       "      <td>-0.847129</td>\n",
       "      <td>0.5729</td>\n",
       "    </tr>\n",
       "  </tbody>\n",
       "</table>\n",
       "</div>"
      ],
      "text/plain": [
       "          W-val alternative         p-val       RBC    CLES\n",
       "Wilcoxon  386.0        less  9.700674e-14 -0.847129  0.5729"
      ]
     },
     "execution_count": 292,
     "metadata": {},
     "output_type": "execute_result"
    }
   ],
   "source": [
    "alpha = 0.01\n",
    "pingouin.wilcoxon(x=df_small['repub_percent_08'], \n",
    "                  y=df_small['repub_percent_12'], \n",
    "                  alternative='less') #Yani, 2012 oranının 2008 oranından küçük olduğunu test ediyoruz.\n",
    "#Wilcoxon testi, 2008 ve 2012 arasındaki farkların anlamlı olup olmadığını test ederken, sıralamaları ve farkları kullanır."
   ]
  },
  {
   "cell_type": "markdown",
   "id": "ed8e5b8b-4bb4-48e9-9461-55af095c8366",
   "metadata": {},
   "source": [
    "### **Wilcoxon-Mann-Whitney Testi Nedir?**\n",
    "\n",
    "**Wilcoxon-Mann-Whitney testi**, **non-parametrik bir testtir** ve genellikle **iki bağımsız grup** arasındaki farkları test etmek için kullanılır. Bu testin temel amacı, iki grubun sıralamaları arasında anlamlı bir fark olup olmadığını belirlemektir.\n",
    "- **Parametrik olmayan bir alternatif** olarak **t-testine** benzer bir işlev görür.\n",
    "- **Eşleştirilmiş verilerle çalışmaz**, yani test, **bağımsız** (unpaired) iki grubun sıralamalarını karşılaştırır.\n",
    "- **Wilcoxon testi** gibi **sıralı** veriler üzerinde çalışır, ancak burada **eşleştirilmiş veriler** yerine **bağımsız (unpaired)** veriler kullanılır.\n",
    "\n",
    "çocukların gelirinin yetişkinlerin gelirinden daha yüksek olup olmadığını test ediyoruz:"
   ]
  },
  {
   "cell_type": "code",
   "execution_count": 299,
   "id": "4babe077-f157-4adf-b99c-3c8ad8aabe61",
   "metadata": {},
   "outputs": [
    {
     "data": {
      "text/html": [
       "<div>\n",
       "<style scoped>\n",
       "    .dataframe tbody tr th:only-of-type {\n",
       "        vertical-align: middle;\n",
       "    }\n",
       "\n",
       "    .dataframe tbody tr th {\n",
       "        vertical-align: top;\n",
       "    }\n",
       "\n",
       "    .dataframe thead th {\n",
       "        text-align: right;\n",
       "    }\n",
       "</style>\n",
       "<table border=\"1\" class=\"dataframe\">\n",
       "  <thead>\n",
       "    <tr style=\"text-align: right;\">\n",
       "      <th></th>\n",
       "      <th>U-val</th>\n",
       "      <th>alternative</th>\n",
       "      <th>p-val</th>\n",
       "      <th>RBC</th>\n",
       "      <th>CLES</th>\n",
       "    </tr>\n",
       "  </thead>\n",
       "  <tbody>\n",
       "    <tr>\n",
       "      <th>MWU</th>\n",
       "      <td>744365.5</td>\n",
       "      <td>greater</td>\n",
       "      <td>1.902723e-19</td>\n",
       "      <td>0.222516</td>\n",
       "      <td>0.611258</td>\n",
       "    </tr>\n",
       "  </tbody>\n",
       "</table>\n",
       "</div>"
      ],
      "text/plain": [
       "        U-val alternative         p-val       RBC      CLES\n",
       "MWU  744365.5     greater  1.902723e-19  0.222516  0.611258"
      ]
     },
     "execution_count": 299,
     "metadata": {},
     "output_type": "execute_result"
    }
   ],
   "source": [
    "import pandas as pd\n",
    "df_stck= pd.read_feather(\"data/stack_overflow.feather\")\n",
    "age_vs_comp = df_stck[['converted_comp', 'age_first_code_cut']]\n",
    "age_vs_comp_wide = age_vs_comp.pivot(columns='age_first_code_cut', \n",
    "                                     values='converted_comp')\n",
    "#pivot() fonksiyonu, pandas kütüphanesinde kullanılan bir fonksiyondur ve verilerin geniş formata dönüştürülmesini sağlar. Bu fonksiyon, bir uzun formatta olan veri çerçevesini, daha uygun analizler yapabilmek için geniş formata çevirir.\n",
    "import pingouin\n",
    "\n",
    "alpha = 0.01\n",
    "\n",
    "pingouin.mwu(x=age_vs_comp_wide['child'], \n",
    "             y=age_vs_comp_wide['adult'], \n",
    "             alternative='greater')\n",
    "\n",
    "#p-val = 1.902723e-19: p-değeri, testin sonucudur ve yaklaşık olarak 1.9 x 10⁻¹⁹ (çok küçük bir değere sahiptir). Bu, null hipotezini reddetmek için güçlü bir kanıt sağlar. Yani, çocukların gelirinin yetişkinlerin gelirinden anlamlı şekilde daha yüksek olduğunu gösterir. Bu p-değeri, anlamlılık düzeyinden (α = 0.01) çok daha küçüktür, bu yüzden null hipotezini reddederiz"
   ]
  },
  {
   "cell_type": "markdown",
   "id": "d7c4fd2b-71c6-455c-8b81-c8dccc3f1aa7",
   "metadata": {},
   "source": [
    "### **Kruskal-Wallis Testi Nedir?**\n",
    "**Kruskal-Wallis testi**, **non-parametrik bir testtir** ve **ANOVA**'nın parametrik olmayan versiyonudur. Bu test, üç veya daha fazla **bağımsız grubun** **medyanları arasında fark olup olmadığını** test eder. Kruskal-Wallis, verilerin sıralamalı olduğu varsayımıyla çalışır ve verilerin normal dağılmadığı durumlarda, parametrik ANOVA testlerinin yerine kullanılabilir.\n",
    "\n",
    "H₀: 'job_sat' kategorisindeki tüm grupların 'converted_comp' medyanları birbirine eşittir."
   ]
  },
  {
   "cell_type": "code",
   "execution_count": 303,
   "id": "6c2fd9f1-ca35-4f24-b40b-3b3c74bb49c1",
   "metadata": {},
   "outputs": [
    {
     "data": {
      "text/html": [
       "<div>\n",
       "<style scoped>\n",
       "    .dataframe tbody tr th:only-of-type {\n",
       "        vertical-align: middle;\n",
       "    }\n",
       "\n",
       "    .dataframe tbody tr th {\n",
       "        vertical-align: top;\n",
       "    }\n",
       "\n",
       "    .dataframe thead th {\n",
       "        text-align: right;\n",
       "    }\n",
       "</style>\n",
       "<table border=\"1\" class=\"dataframe\">\n",
       "  <thead>\n",
       "    <tr style=\"text-align: right;\">\n",
       "      <th></th>\n",
       "      <th>Source</th>\n",
       "      <th>ddof1</th>\n",
       "      <th>H</th>\n",
       "      <th>p-unc</th>\n",
       "    </tr>\n",
       "  </thead>\n",
       "  <tbody>\n",
       "    <tr>\n",
       "      <th>Kruskal</th>\n",
       "      <td>job_sat</td>\n",
       "      <td>4</td>\n",
       "      <td>72.814939</td>\n",
       "      <td>5.772915e-15</td>\n",
       "    </tr>\n",
       "  </tbody>\n",
       "</table>\n",
       "</div>"
      ],
      "text/plain": [
       "          Source  ddof1          H         p-unc\n",
       "Kruskal  job_sat      4  72.814939  5.772915e-15"
      ]
     },
     "execution_count": 303,
     "metadata": {},
     "output_type": "execute_result"
    }
   ],
   "source": [
    "alpha = 0.01\n",
    "\n",
    "pingouin.kruskal(data=df_stck, dv='converted_comp', between='job_sat')\n",
    "\n",
    "#p-unc = 5.772915e-15: Bu, p-değeridir. p-değeri çok küçüktür (yaklaşık 5.77 x 10⁻¹⁵), bu da null hipotezini reddetmek için güçlü bir kanıt sağlar. Yani, iş tatmini grupları arasında anlamlı bir fark vardır. Burada p-değeri, anlamlılık düzeyinden (α = 0.01) çok daha küçüktür. Bu durumda null hipotezini reddederiz ve iş tatmini gruplarının ortalama gelirlerinin birbirinden farklı olduğunu kabul ederiz."
   ]
  },
  {
   "cell_type": "markdown",
   "id": "7a64a865-674d-4f7a-85e3-735a5dd96444",
   "metadata": {},
   "source": [
    "### **What is Machine Learning?**"
   ]
  },
  {
   "cell_type": "markdown",
   "id": "2197eb83-f648-4659-87c2-1bb6f59570b1",
   "metadata": {},
   "source": [
    "### KNN SEZGİSİ:\n",
    "**KNN (K-Nearest Neighbors)**, gözetimsiz bir öğrenme algoritmasıdır. Bu algoritma, bir örneğin sınıfını belirlemek için en yakın komşularının sınıflarını gözlemler ve çoğunluğa göre tahmin yapar. "
   ]
  },
  {
   "cell_type": "code",
   "execution_count": 326,
   "id": "ad190ce7-7305-4644-b97c-45e328e186f6",
   "metadata": {},
   "outputs": [
    {
     "data": {
      "text/plain": [
       "array([1, 0, 0])"
      ]
     },
     "execution_count": 326,
     "metadata": {},
     "output_type": "execute_result"
    }
   ],
   "source": [
    "import pandas as pd\n",
    "from sklearn.neighbors import KNeighborsClassifier\n",
    "\n",
    "df_churn = pd.read_csv(\"data/telecom_churn_clean.csv\")\n",
    "X = df_churn[['total_day_charge', 'total_eve_charge']].values #bağımsız değişken\n",
    "y= df_churn['churn'].values #bağımlı değişken\n",
    "model_knn = KNeighborsClassifier(n_neighbors=15)\n",
    "model_knn.fit(X,y) # şu anda veri tahmini yapmaya hazır geldi, model eğitildi!\n",
    "import numpy as np\n",
    "X_new = np.array([\n",
    "    [56.8, 17.5],\n",
    "    [24.4, 24.1],\n",
    "    [50.1, 10.9]\n",
    "])\n",
    "#Yeni veriler için tahmin yapmak amacıyla, her bir yeni müşteri verisini eğitim verisindeki en yakın 15 komşusuyla karşılaştırır.\n",
    "#Bu komşu sınıflarına bakarak, her bir yeni müşteri için \"churn\" (hizmet iptali) olup olmadığını tahmin eder.\n",
    "predictions = model_knn.predict(X_new) #tahmin ediyor burada\n",
    "predictions"
   ]
  },
  {
   "cell_type": "code",
   "execution_count": 330,
   "id": "9f8e3f2a-cb56-4594-b500-7fdddd54a23f",
   "metadata": {},
   "outputs": [
    {
     "data": {
      "text/plain": [
       "0.8605697151424287"
      ]
     },
     "execution_count": 330,
     "metadata": {},
     "output_type": "execute_result"
    }
   ],
   "source": [
    "# Train/test split\n",
    "# Verilerimizi nasil ikiye boluyoruz\n",
    "\n",
    "from sklearn.model_selection import train_test_split\n",
    "\n",
    "X_train, X_test, y_train, y_test =train_test_split(X, y, \n",
    "                                                   test_size=0.2, \n",
    "                                                   random_state=42, \n",
    "                                                   stratify=y)\n",
    "\n",
    "knn = KNeighborsClassifier(n_neighbors=6) #model\n",
    "knn.fit(X_train, y_train) #model eğitildi\n",
    "knn.score(X_test, y_test) #ne kadar doğru veriler\n",
    "\n",
    "#sonucu 0.8605697151424287 olarak verilmiş, bu da modelin test seti üzerindeki doğruluğunun yaklaşık %86 olduğunu gösterir."
   ]
  },
  {
   "cell_type": "code",
   "execution_count": 332,
   "id": "b5543af1-bcdb-489f-8463-cbf92f202e59",
   "metadata": {},
   "outputs": [
    {
     "data": {
      "text/plain": [
       "Text(0, 0.5, 'Doğruluk')"
      ]
     },
     "execution_count": 332,
     "metadata": {},
     "output_type": "execute_result"
    },
    {
     "data": {
      "image/png": "[encoded data removed]",
      "text/plain": [
       "<Figure size 800x600 with 1 Axes>"
      ]
     },
     "metadata": {},
     "output_type": "display_data"
    }
   ],
   "source": [
    "import matplotlib.pyplot as plt\n",
    "\n",
    "train_accuracies = {}\n",
    "test_accuracies = {}\n",
    "\n",
    "neighbours = np.arange(1, 26)\n",
    "\n",
    "for neighbour in neighbours:\n",
    "    knn = KNeighborsClassifier(n_neighbors=neighbour)\n",
    "    knn.fit(X_train, y_train)\n",
    "    train_accuracies[neighbour] = knn.score(X_train, y_train)\n",
    "    test_accuracies[neighbour] = knn.score(X_test, y_test)\n",
    "\n",
    "plt.figure(figsize=(8, 6))\n",
    "plt.title('KNN : Değişen Komşu Sayılarında')\n",
    "plt.plot(neighbours, train_accuracies.values(), label='Eğitim Doğruluğu')\n",
    "plt.plot(neighbours, test_accuracies.values(), label='Test Doğruluğu')\n",
    "plt.legend()\n",
    "plt.xlabel('Komşu Sayısı')\n",
    "plt.ylabel('Doğruluk')"
   ]
  },
  {
   "cell_type": "markdown",
   "id": "7aaf8303-3c88-460b-8a71-b13d0fe494b4",
   "metadata": {},
   "source": [
    "komşu sayısının (k) modelin doğruluğu üzerindeki etkisini görselleştiren bir grafik elde edersiniz.\n",
    "Eğitim doğruluğu genellikle komşu sayısı arttıkça artar çünkü model daha fazla komşuyu dikkate alır ve daha kesin sonuçlar elde etmeye çalışır.\n",
    "Test doğruluğu ise başlangıçta artabilir, ancak çok yüksek komşu sayıları ile modelin overfitting (aşırı uyum) yapmaya başlaması olasılığı vardır. Yani, model eğitim verisine aşırı uyum sağlayarak test verisi üzerinde başarısını kaybedebilir.\n",
    "Özet:\n",
    "Komşu sayısı (k), KNN modelinin başarısı için önemli bir parametredir. Bu kod, farklı k değerleri ile modelin eğitim ve test doğruluklarını inceleyerek, doğru k değerinin bulunmasına yardımcı olur.\n",
    "\n",
    "\n",
    "Az komşu sayısı (1-3) genellikle eğitim verilerine çok fazla uyum sağlar ve aşırı öğrenme (overfitting) sorunu yaratır. Bu durumda eğitim doğruluğu çok yüksek olsa da test doğruluğu düşük olabilir.\n",
    "Yüksek komşu sayıları (yaklaşık 15 ve sonrası), modelin genelleme yeteneğini artırır, ancak eğitim doğruluğu daha düşük olabilir. Bu durum underfitting riskini azaltır.\n",
    "Sonuç olarak, test doğruluğunun arttığı ve eğitim doğruluğunun stabilize olduğu komşu sayısı, model için en iyi genelleme performansını sağlar."
   ]
  },
  {
   "cell_type": "markdown",
   "id": "adf98e7e-ab03-4a41-99bc-cd1e4320ec54",
   "metadata": {},
   "source": [
    "### **Regresyon:**\n",
    "bir veri seti içindeki değişkenler arasındaki ilişkileri modelleme ve tahmin yapma amacıyla kullanılan bir istatistiksel tekniktir. Özellikle, bir bağımlı değişkenin (yani hedef değişken) bir veya daha fazla bağımsız değişkenin (yani özellikler veya girdiler) etkisiyle nasıl değiştiğini anlamak için kullanılır.\n",
    "\n",
    "Regresyonun Temel Amacı:\n",
    "Bağımlı değişkeni tahmin etmek için bağımsız değişkenleri kullanmaktır.\n",
    "Örneğin, bir şirketin satış rakamlarını tahmin etmek için, reklam harcamaları, fiyatlar, promosyonlar gibi bağımsız değişkenler kullanılabilir."
   ]
  },
  {
   "cell_type": "code",
   "execution_count": 339,
   "id": "77428cb7-ffd4-438d-8456-8441b539d1dc",
   "metadata": {},
   "outputs": [],
   "source": [
    "import pandas as pd\n",
    "\n",
    "df_diabets = pd.read_csv('data/diabetes_clean.csv')\n",
    "df_filteredx = df_diabets[(df_diabets['bmi'] == 0.0) | (df_diabets['glucose'] == 0)]\n",
    "df_diabets.drop(df_filtered.index, inplace=True)\n",
    "X = df_diabets.drop('glucose', axis=1).values #: Bu satırda, df_diabets DataFrame'inden glucose sütunu hariç diğer tüm sütunlar seçilir. drop('glucose', axis=1) ifadesi, glucose sütununu kaldırır. axis=1 parametresi, sütunları ifade eder (satırları ifade etmek için axis=0 kullanılır). Sonuçta X'te, glucose haricindeki bağımsız değişkenlerin verileri saklanır.\n",
    "y = df_diabets['glucose'].values #Bu satırda ise glucose sütunu bağımlı değişken olarak seçilir. Bu, modelin tahmin etmeye çalışacağı hedef değişkendir."
   ]
  },
  {
   "cell_type": "markdown",
   "id": "550ac907-522e-4527-9494-84654237b944",
   "metadata": {},
   "source": [
    "**Lineer Regresyon**,\n",
    "istatistiksel bir modelleme tekniğidir ve bağımlı bir değişkenin (y) bağımsız değişkenler (x1, x2, ..., xn) ile olan doğrusal ilişkisini modellemeye çalışır. Genellikle, bir hedef değişkenin (y) tahmin edilmesinde kullanılır ve bu hedef değişkenin diğer değişkenlerle (özellikler) ilişkisini anlamak için çok yaygın olarak kullanılır."
   ]
  },
  {
   "cell_type": "code",
   "execution_count": 342,
   "id": "92d51c37-c3b2-4f5c-82b0-3db971628fc7",
   "metadata": {},
   "outputs": [
    {
     "data": {
      "text/plain": [
       "Text(0.5, 0, 'Body Mass Index')"
      ]
     },
     "execution_count": 342,
     "metadata": {},
     "output_type": "execute_result"
    },
    {
     "data": {
      "image/png": "[encoded data removed]",
      "text/plain": [
       "<Figure size 640x480 with 1 Axes>"
      ]
     },
     "metadata": {},
     "output_type": "display_data"
    }
   ],
   "source": [
    "X_bmi = X[:, 4] #X[:, 4]: Bu komut, X veri setinin 4. sütununu seçer. 0 tabanlı indekslemeye dikkat edilmelidir. Bu satırda, BMI sütunu X veri setinin 4. sütunu olarak seçilmiştir.\n",
    "X_bmi = X_bmi.reshape(-1, 1) #1d veriyi 2d hale getirmek için BAĞIMSIZ DEĞİŞKEN 2D OLMALI!!!!!!!!\n",
    "import matplotlib.pyplot as plt\n",
    "\n",
    "plt.scatter(X_bmi,y)\n",
    "plt.ylabel('Blood Glucose (mg/dl)')\n",
    "plt.xlabel('Body Mass Index')"
   ]
  },
  {
   "cell_type": "code",
   "execution_count": 344,
   "id": "a6bcd6c2-1823-4794-a16b-00b2a9bdf243",
   "metadata": {},
   "outputs": [
    {
     "data": {
      "text/plain": [
       "Text(0.5, 0, 'Body Mass Index')"
      ]
     },
     "execution_count": 344,
     "metadata": {},
     "output_type": "execute_result"
    },
    {
     "data": {
      "image/png": "[encoded data removed]",
      "text/plain": [
       "<Figure size 640x480 with 1 Axes>"
      ]
     },
     "metadata": {},
     "output_type": "display_data"
    }
   ],
   "source": [
    "from sklearn.linear_model import LinearRegression\n",
    "\n",
    "model_reg = LinearRegression()\n",
    "model_reg.fit(X_bmi, y) #model BMI ile kan şekeri arasındaki doğrusal ilişkiyi öğrenir\n",
    "\n",
    "predictions = model_reg.predict(X_bmi) #tahmin yürütür\n",
    "\n",
    "plt.scatter(X_bmi, y)\n",
    "plt.plot(X_bmi, predictions) #tahmin, oğrusal regresyon modelinin tahmin ettiği ilişkiyi gösteren çizgidir. Model bu çizgiyi, verilen BMI değerlerine karşılık gelen kan şekeri tahminlerini yaparak çiziyor.\n",
    "plt.ylabel('Blood Glucose (mg/dl)')\n",
    "plt.xlabel('Body Mass Index')"
   ]
  },
  {
   "cell_type": "code",
   "execution_count": 520,
   "id": "6a8bda3e-00a4-4099-a085-fa27a25a2667",
   "metadata": {},
   "outputs": [
    {
     "name": "stdout",
     "output_type": "stream",
     "text": [
      "Katsayı (slope): [1.02801737]\n",
      "Kesim (intercept): 88.57754093395485\n"
     ]
    },
    {
     "data": {
      "image/png": "[encoded data removed]",
      "text/plain": [
       "<Figure size 640x480 with 1 Axes>"
      ]
     },
     "metadata": {},
     "output_type": "display_data"
    }
   ],
   "source": [
    "from sklearn.linear_model import LinearRegression\n",
    "import pandas as pd\n",
    "\n",
    "# Veri setini yükle\n",
    "df_diabetes = pd.read_csv('data/diabetes_clean.csv')\n",
    "\n",
    "# 'bmi' ve 'glucose' sütununda 0 değeri olan satırları filtrele ve kaldır\n",
    "df_filtered = df_diabetes[(df_diabetes['bmi'] == 0.0) | (df_diabetes['glucose'] == 0)]\n",
    "df_diabetes.drop(df_filtered.index, inplace=True)\n",
    "\n",
    "# Bağımsız değişken (X) ve bağımlı değişken (y) olarak veriyi ayır\n",
    "X = df_diabetes['bmi'].values.reshape(-1, 1)  # X'yi 2D formata dönüştür. eğer tek veri ise\n",
    "y = df_diabetes['glucose'].values\n",
    "\n",
    "# Linear Regression modelini oluştur ve eğit\n",
    "model_reg = LinearRegression()\n",
    "model_reg.fit(X, y)\n",
    "\n",
    "# Model ile tahmin yap (eğitim verisiyle de test yapabilirsiniz)\n",
    "predictions = model_reg.predict(X)\n",
    "\n",
    "# Modelin katsayılarını ve kesişim noktasını yazdır\n",
    "print(\"Katsayı (slope):\", model_reg.coef_)\n",
    "print(\"Kesim (intercept):\", model_reg.intercept_)\n",
    "\n",
    "# Tahmin sonuçlarını görselleştirelim\n",
    "import matplotlib.pyplot as plt\n",
    "\n",
    "plt.scatter(X, y, color='blue', label='Gerçek Veriler')\n",
    "plt.plot(X, predictions, color='red', label='Tahmin Edilen Doğru')\n",
    "plt.xlabel('BMI')\n",
    "plt.ylabel('Glucose')\n",
    "plt.legend()\n",
    "plt.show()\n"
   ]
  },
  {
   "cell_type": "code",
   "execution_count": 346,
   "id": "41715512-7ad5-4be1-9d00-813b9413c82a",
   "metadata": {},
   "outputs": [
    {
     "data": {
      "image/png": "[encoded data removed]",
      "text/plain": [
       "<Figure size 1000x600 with 1 Axes>"
      ]
     },
     "metadata": {},
     "output_type": "display_data"
    }
   ],
   "source": [
    "import numpy as np\n",
    "import matplotlib.pyplot as plt\n",
    "\n",
    "# Generate random data for the scatter plot\n",
    "np.random.seed(42)\n",
    "X = np.linspace(0, 10, 20) #bağımsiz değişken\n",
    "Y = 3 * X + 5 + np.random.normal(0, 3, size=len(X)) #bağımlı değişken\n",
    "\n",
    "# Fit a line (y = mx + c) manually\n",
    "m = 3  # slope\n",
    "c = 5  # intercept\n",
    "Y_fit = m * X + c #Bu doğrunun tahmin edilen değerlerini hesaplar (yani, bağımsız değişken X için Y'nin tahmin edilen değerleri).\n",
    "\n",
    "# Calculate residuals (vertical distances between points and the line)\n",
    "residuals = Y - Y_fit #her bir veri noktası ile modelin tahmin ettiği değerler arasındaki farktır.\n",
    "\n",
    "# Plot the scatter plot and the fitted line\n",
    "plt.figure(figsize=(10, 6))\n",
    "plt.scatter(X, Y, color='blue', label='Data points')\n",
    "plt.plot(X, Y_fit, color='red', label='Fitted line (y = 3x + 5)')\n",
    "\n",
    "# Add vertical lines to represent residuals\n",
    "for i in range(len(X)):\n",
    "    plt.plot([X[i], X[i]], [Y[i], Y_fit[i]], color='gray', linestyle='dotted')\n",
    "    if i == 4:  # Add a label to one residual line\n",
    "        plt.text(X[i], (Y[i] + Y_fit[i]) / 2, 'Residual', color='black', fontsize=10, ha='right')\n",
    "\n",
    "# Customize the plot\n",
    "plt.title('Visualizing a Loss Function: Residuals')\n",
    "plt.xlabel('X')\n",
    "plt.ylabel('Y')\n",
    "plt.legend()\n",
    "plt.grid(True)\n",
    "\n",
    "# Show the plot\n",
    "plt.show()"
   ]
  },
  {
   "cell_type": "markdown",
   "id": "0ff64303-7800-4aa2-b0ec-403fa3841e81",
   "metadata": {},
   "source": [
    "Bu grafik, regresyon modelinin doğruluğunu ve kayıp fonksiyonunun (loss function) nasıl çalıştığını görselleştirir:\n",
    "\n",
    "Kayıp fonksiyonu, modelin tahminlerinin ne kadar hatalı olduğunu ölçen bir ölçüttür. Genellikle residuals'ın karelerinin toplamı kayıp fonksiyonu olarak kullanılır (bu \"mean squared error\" (MSE) olarak bilinir).\n",
    "Residuals her bir veri noktasının modelin tahmininden ne kadar uzak olduğunu gösterir ve bu uzaklıkları minimize etmeye çalışarak modelin doğruluğunu artırmaya çalışırız.\n"
   ]
  },
  {
   "cell_type": "code",
   "execution_count": 353,
   "id": "c09de277-16e8-45ab-9dc7-2b8e2d2de3cd",
   "metadata": {},
   "outputs": [
    {
     "data": {
      "text/plain": [
       "0.3282802627263198"
      ]
     },
     "execution_count": 353,
     "metadata": {},
     "output_type": "execute_result"
    }
   ],
   "source": [
    "#bu kod, **doğrusal regresyon (Linear Regression)** kullanarak **diabetes veri kümesi** üzerinde bir model oluşturuyor ve bu modelin **kan şekeri seviyelerini** tahmin etmesini sağlıyor\n",
    "from sklearn.model_selection import train_test_split\n",
    "from sklearn.linear_model import LinearRegression\n",
    "\n",
    "import pandas as pd\n",
    "\n",
    "df_diabets = pd.read_csv('data/diabetes_clean.csv')\n",
    "\n",
    "df_filtered = df_diabets[(df_diabets['bmi'] == 0.0) | (df_diabets['glucose'] == 0)]\n",
    "df_diabets.drop(df_filtered.index, inplace=True) \n",
    "\n",
    "\n",
    "X = df_diabets.drop('glucose', axis=1).values #bağımsız değişkenler\n",
    "y = df_diabets['glucose'].values #bağımlı değişken\n",
    "\n",
    "\n",
    "X_train, X_test, y_train, y_test =train_test_split(X, y, test_size=0.2, \n",
    "                                                   random_state=42)\n",
    "\n",
    "\n",
    "model_reg = LinearRegression()\n",
    "model_reg.fit(X_train, y_train) #model eğitildi\n",
    "\n",
    "y_pred = model_reg.predict(X_test) #tahminler yapıldı\n",
    "model_reg.score(X_test, y_test) #model ne kadar başarılı onu ölçer. R^2 skoru kullanarak yapar\n",
    "\n",
    "\n",
    "#Diyabet veri kümesindeki tüm özellikleri kullanarak kan şekeri seviyelerini tahmin etmek için doğrusal regresyon gerçekleştirelim. \n",
    "#LinearRegression'ı sklearn-dot-linear_model'den içe aktarıyoruz. Ardından verileri eğitim ve test kümelerine ayırıyoruz, modeli \n",
    "#örneklendiriyoruz, eğitim kümesine yerleştiriyoruz ve test kümesinde tahmin ediyoruz. \n",
    "#Scikit-learn'deki doğrusal regresyonun kaputun altında OLS gerçekleştirdiğini unutmayın. \n",
    "\n",
    "#Doğrusal regresyon, en küçük kareler yöntemi (OLS, Ordinary Least Squares) kullanarak, veri noktalarına en uygun doğrusal çizgiyi çizer. Yani, model y = mx + c formülüne dayalı olarak, m (eğim) ve c (kesim) parametrelerini öğrenir.\n",
    "#Eğim (m), bağımsız değişkenin (X) her bir birim değiştiğinde bağımlı değişkenin (y) ne kadar değişeceğini gösterir.\n",
    "#Kesim (c), X = 0 olduğunda y değerinin ne olduğunu belirtir."
   ]
  },
  {
   "cell_type": "code",
   "execution_count": 357,
   "id": "d4802eee-6980-409a-b8ec-6e54e93a43a3",
   "metadata": {},
   "outputs": [
    {
     "data": {
      "text/plain": [
       "array([-0.32654116,  0.14686555, -0.27590315,  0.08606826,  0.36160446,\n",
       "        1.8382773 ,  0.42185562, 25.08247323])"
      ]
     },
     "execution_count": 357,
     "metadata": {},
     "output_type": "execute_result"
    }
   ],
   "source": [
    "model_reg.coef_\n",
    "# Bu, eğitilen doğrusal regresyon modelinin katsayılarını (coefficients) döndüren bir özelliktir.\n",
    "#Katsayılar, her bağımsız değişkenin (özelliklerin) bağımlı değişken üzerindeki etkisini gösterir. Yani, modelin öğrenmiş olduğu eğim (m) değerleridir. Örneğin, BMI gibi bir bağımsız değişkenin katsayısı, BMI'deki bir birimlik değişikliğin kan şekeri üzerindeki etkisini gösterir.\n",
    "#Eğer model birden fazla bağımsız değişken içeriyorsa, her bağımsız değişken için ayrı bir katsayı değeri olacaktır."
   ]
  },
  {
   "cell_type": "code",
   "execution_count": 367,
   "id": "dab89804-71a1-4eac-87e4-a18f057b4774",
   "metadata": {},
   "outputs": [
    {
     "data": {
      "text/plain": [
       "25.695203763480208"
      ]
     },
     "execution_count": 367,
     "metadata": {},
     "output_type": "execute_result"
    }
   ],
   "source": [
    "from sklearn.metrics import root_mean_squared_error\n",
    "\n",
    "root_mean_squared_error(y_test, y_pred) #modelin tahmin ettiği değerlerle gerçek değerler arasındaki farkların karelerinin ortalamasıdır. Daha düşük MSE, modelin daha iyi olduğunu gösterir."
   ]
  },
  {
   "cell_type": "markdown",
   "id": "e053628a-d27b-4006-bcf6-fe0d7436cf42",
   "metadata": {},
   "source": [
    "### Cross-validation"
   ]
  },
  {
   "cell_type": "markdown",
   "id": "53a97312-a5dc-4239-b5b4-e77e5fc04aaf",
   "metadata": {},
   "source": [
    "Cross-validation, modelin genelleme yeteneğini değerlendirmek amacıyla kullanılan bir tekniktir. Modelin eğitim verisi üzerinde ne kadar başarılı olduğunu değerlendirmek yerine, modelin yeni, görülmemiş verilere karşı nasıl performans gösterdiğini test eder.\n",
    "\n",
    "Cross-validation, bir modelin genelleme gücünü değerlendirmek için kullanılan bir tekniktir. Bir modelin doğruluğunu değerlendirirken, modelin eğitim verileri üzerinde aşırı öğrenme (overfitting) yapıp yapmadığını kontrol etmek önemlidir. Cross-validation, bu aşırı öğrenme sorununu ortadan kaldırarak daha sağlam ve güvenilir bir model değerlendirmesi yapmamıza yardımcı olur.\n",
    "\n",
    "Çapraz doğrulama, genellikle veriyi daha küçük parçalara bölme (folds) ve her parça üzerinde modelin doğruluğunu test etme işlemini içerir. Çapraz doğrulama sayesinde, verilerin her kısmı hem eğitim hem de test için kullanılarak modelin performansı daha güvenilir bir şekilde ölçülür."
   ]
  },
  {
   "cell_type": "code",
   "execution_count": 372,
   "id": "7bfd5871-547d-46f3-a916-1537708f1d52",
   "metadata": {},
   "outputs": [
    {
     "data": {
      "text/plain": [
       "array([0.31239631, 0.39992274, 0.38698031, 0.19731639, 0.32317527,\n",
       "       0.3320924 ])"
      ]
     },
     "execution_count": 372,
     "metadata": {},
     "output_type": "execute_result"
    }
   ],
   "source": [
    "#Bu kod, doğrusal regresyon modelinin cross-validation (çapraz doğrulama) ile değerlendirilmesini sağlar. Yani, modelin genel performansını daha güvenilir bir şekilde ölçmek için veriyi birkaç farklı alt küme (fold) üzerinde test eder.\n",
    "\n",
    "import pandas as pd\n",
    "from sklearn.model_selection import cross_val_score, KFold\n",
    "from sklearn.linear_model import LinearRegression\n",
    "df_diabets = pd.read_csv('data/diabetes_clean.csv')\n",
    "\n",
    "df_filtered = df_diabets[(df_diabets['bmi'] == 0.0) | (df_diabets['glucose'] == 0)]\n",
    "df_diabets.drop(df_filtered.index, inplace=True)\n",
    "\n",
    "X = df_diabets.drop('glucose', axis=1).kfvalues\n",
    "y = df_diabets['glucose'].values\n",
    "\n",
    "kf = KFold(n_splits=6, shuffle=True, random_state=42)\n",
    "model_reg = LinearRegression()\n",
    "\n",
    "cv_results = cross_val_score(model_reg, X, y, cv=kf) #modelin performansını çapraz doğrulama ile değerlendirir.\n",
    "#model_reg: Doğrusal regresyon modelini belirtir.\n",
    "#X ve y: Bağımsız ve bağımlı değişkenleri belirtir.\n",
    "#v=kf: KFold çapraz doğrulama nesnesi burada kullanılır. Bu, veri setinin 6 alt kümeye (fold) bölünmesini sağlar. Her seferinde 5 katman eğitim için, 1 katman test için kullanılır.\n",
    "#Sonuç: cross_val_score fonksiyonu, her bir fold'da elde edilen model doğruluğunu döndüren bir dizi (array) oluşturur. Bu doğruluklar cv_results değişkeninde saklanır.\n",
    "\n",
    "cv_results"
   ]
  },
  {
   "cell_type": "code",
   "execution_count": 374,
   "id": "206482b8-c624-493a-af24-cad482980ae4",
   "metadata": {},
   "outputs": [
    {
     "data": {
      "text/plain": [
       "(0.32531390402925003, 0.06579003824551613)"
      ]
     },
     "execution_count": 374,
     "metadata": {},
     "output_type": "execute_result"
    }
   ],
   "source": [
    "import numpy as np\n",
    "(np.mean(cv_results), np.std(cv_results))"
   ]
  },
  {
   "cell_type": "code",
   "execution_count": 376,
   "id": "e99e9e78-f766-43ea-9660-5a6cc6aa0811",
   "metadata": {},
   "outputs": [
    {
     "data": {
      "text/plain": [
       "array([0.21170138, 0.39830494])"
      ]
     },
     "execution_count": 376,
     "metadata": {},
     "output_type": "execute_result"
    }
   ],
   "source": [
    "np.quantile(cv_results, [0.025, 0.975])"
   ]
  },
  {
   "cell_type": "markdown",
   "id": "fd94233e-c718-4b48-8f42-7cca6832cc74",
   "metadata": {},
   "source": [
    "Ortalama doğruluk 0.325 olarak hesaplanmış. Bu, modelin genel olarak yüzde 32.5 doğrulukla performans gösterdiğini belirtiyor. Bu değer, modelin ortalama başarısını gösterir.\n",
    "Standart Sapma (Standard Deviation):\n",
    "\n",
    "0.0658'lik bir standart sapma değeri, fold'lar arasındaki doğruluk farklılıklarının ne kadar yaygın olduğunu gösterir.\n",
    "Düşük standart sapma (0.0658), modelin göreceli olarak tutarlı olduğunu ve farklı fold'larda büyük değişiklikler yaşamadığını gösterir.\n",
    " **0.025 Persentili**: \n",
    "  - **0.21170138**: Bu, **cross-validation sonuçlarının en düşük %2.5'lik kısmındaki doğruluk** değerini gösterir. Modelin **en kötü performansı** bu değere yakın bir yer alır. Yani, modelin doğruluğu, en kötü durumda yaklaşık **21.17%**'dir.\n",
    "\n",
    "- **0.975 Persentili**: \n",
    "  - **0.39830494**: Bu, **cross-validation sonuçlarının en yüksek %2.5'lik kısmındaki doğruluk** değerini gösterir. Modelin **en iyi performansı** bu değere yakın bir yer alır. Yani, modelin doğruluğu, en iyi durumda yaklaşık **39.83%**'tir.\n",
    "\n",
    "- Bu **persentil aralığı**, modelin **%95 güven aralığında** ne kadar değişkenlik gösterdiğini anlamamıza yardımcı olur. Verilen aralık, modelin doğruluğunun genellikle **0.2117 ile 0.3983** arasında değiştiğini gösteriyor.\n"
   ]
  },
  {
   "cell_type": "markdown",
   "id": "19231ef3-7bfa-48bb-8a79-d1d7432c3379",
   "metadata": {},
   "source": [
    "### Regularized Reggession\n",
    "\n",
    "Regularization (Düzenleme), makine öğrenmesinde aşırı öğrenme (overfitting) ve aşırı uyum (overfitting) gibi problemleri önlemek için kullanılan bir tekniktir. Aşırı öğrenme, modelin eğitim verisine çok fazla uyum sağlaması sonucu, yeni ve görülmemiş verilere karşı kötü performans göstermesi durumudur. Regularization bu durumu engellemeye yardımcı olur."
   ]
  },
  {
   "cell_type": "markdown",
   "id": "7cffb45c-6f58-4d70-aae4-14d8d5cf90e8",
   "metadata": {},
   "source": [
    "### RİDGE REGRESYONU:\n",
    "**Ridge regresyonu** kullanarak **düzenli regresyon (regularized regression)** performansını değerlendirir. **Ridge regresyonu**, **L2 düzenlemesi** (regularization) kullanarak modelin aşırı uyum (overfitting) yapmasını engellemeye çalışır. Kodda farklı **alpha** (düzenleme parametresi) değerleri ile modelin performansı değerlendirilmekte ve sonuçlar karşılaştırılmaktadır."
   ]
  },
  {
   "cell_type": "code",
   "execution_count": 383,
   "id": "eab2fb0b-be56-4edb-b2ab-1294dbc33f79",
   "metadata": {},
   "outputs": [
    {
     "data": {
      "text/plain": [
       "[0.32825526615552425,\n",
       " 0.3280240795994781,\n",
       " 0.3252049078298792,\n",
       " 0.28836032637802334,\n",
       " 0.20299309688977707]"
      ]
     },
     "execution_count": 383,
     "metadata": {},
     "output_type": "execute_result"
    }
   ],
   "source": [
    "#  Alfa arttıkça performansın kötüleştiğini görüyoruz. \n",
    "\n",
    "from sklearn.linear_model import Ridge\n",
    "from sklearn.model_selection import train_test_split\n",
    "\n",
    "df_diabets = pd.read_csv('data/diabetes_clean.csv')\n",
    "\n",
    "df_filtered = df_diabets[(df_diabets['bmi'] == 0.0) | (df_diabets['glucose'] == 0)]\n",
    "df_diabets.drop(df_filtered.index, inplace=True)\n",
    "\n",
    "X = df_diabets.drop('glucose', axis=1).values\n",
    "y = df_diabets['glucose'].values\n",
    "\n",
    "X_train, X_test, y_train, y_test =train_test_split(X, y, test_size=0.2, \n",
    "                                                   random_state=42)\n",
    "\n",
    "scores = []\n",
    "for alpha in [0.1, 1.0, 10.0, 100.0, 1000.0]:\n",
    "    ridge = Ridge(alpha=alpha)\n",
    "    ridge.fit(X_train, y_train)\n",
    "    y_pred = ridge.predict(X_test)\n",
    "    scores.append(ridge.score(X_test, y_test))\n",
    "\n",
    "scores\n",
    "#alpha ne kadar büyükse, ceza daha fazla olur ve modelin karmaşıklığı daha fazla sınırlanır.\n",
    "#alpha değeri küçükse, ceza daha azdır ve model daha serbest çalışır, bu da aşırı öğrenmeye yol açabilir."
   ]
  },
  {
   "cell_type": "markdown",
   "id": "eaf9342a-6c6c-4835-8ef5-2d9e50ba74a1",
   "metadata": {},
   "source": [
    "### LASSO REGRESYONU: \n",
    "**Lasso regresyonu** kullanarak **farklı alpha** değerleri ile modelin performansını değerlendirir. **Lasso regresyonu**, **L1 düzenlemesi** (regularization) kullanarak, modelin **gereksiz özellikleri** (parametreleri) **sıfırlamasını** sağlar ve böylece daha **basit ve genelleştirilebilir bir model** oluşturur. Lasso, özellikle çok sayıda özellik olduğunda **önemli parametrelerin seçilmesine** yardımcı olur."
   ]
  },
  {
   "cell_type": "code",
   "execution_count": 385,
   "id": "e76942f1-6c82-4739-9015-0f42b5e0d7a2",
   "metadata": {},
   "outputs": [
    {
     "data": {
      "text/plain": [
       "[0.3284857694292622,\n",
       " 0.3166121180165745,\n",
       " 0.17121386697851626,\n",
       " 0.156847521532139,\n",
       " 0.11477890284329806]"
      ]
     },
     "execution_count": 385,
     "metadata": {},
     "output_type": "execute_result"
    }
   ],
   "source": [
    "# Lasso Regression: Etkin parametre secilirken kullanilir #  Alfa 20'nin üzerine çıktıkça performans önemli ölçüde düşer! \n",
    "\n",
    "from sklearn.linear_model import Lasso\n",
    "\n",
    "scores = []\n",
    "for alpha in [0.1, 1.0, 10.0, 20.0, 50.0]:\n",
    "    lasso = Lasso(alpha=alpha)\n",
    "    lasso.fit(X_train, y_train)\n",
    "    y_pred = lasso.predict(X_test)\n",
    "    scores.append(lasso.score(X_test, y_test))\n",
    "\n",
    "scores\n"
   ]
  },
  {
   "cell_type": "code",
   "execution_count": null,
   "id": "782500f5-7e17-44ce-ad9e-6d15a5586356",
   "metadata": {},
   "outputs": [],
   "source": [
    "#Bu kod, Lasso regresyonu kullanarak, diabetes veri kümesindeki her bir özelliğin kan şekeri seviyesi üzerindeki etkisini görselleştirir. Katsayıları çubuk grafikle göstererek, hangi özelliklerin modelin tahminlerine daha fazla katkı sağladığını anlayabilirsiniz.\n",
    "import matplotlib.pyplot as plt\n",
    "\n",
    "df_diabets = pd.read_csv('data/diabetes_clean.csv')\n",
    "\n",
    "df_filtered = df_diabets[(df_diabets['bmi'] == 0.0) | (df_diabets['glucose'] == 0)]\n",
    "df_diabets.drop(df_filtered.index, inplace=True)\n",
    "\n",
    "X = df_diabets.drop('glucose', axis=1).values\n",
    "y = df_diabets['glucose'].values\n",
    "\n",
    "names = df_diabets.drop('glucose', axis=1).columns\n",
    "\n",
    "lasso = Lasso(alpha=0.1)\n",
    "lasso_coef = lasso.fit(X, y).coef_\n",
    "\n",
    "plt.bar(names, lasso_coef)\n",
    "plt.xticks(rotation=45)"
   ]
  },
  {
   "cell_type": "markdown",
   "id": "2271f3d4-1320-425e-8c3d-7a233feaed30",
   "metadata": {},
   "source": [
    "### Classifications Metrics\n",
    "accuracy kullanilir\n",
    "\n",
    "Classification Metrics (Sınıflandırma Metriği), sınıflandırma problemlerinde bir modelin performansını değerlendirmek için kullanılan ölçütlerdir:"
   ]
  },
  {
   "cell_type": "code",
   "execution_count": 395,
   "id": "2c809171-abf0-49c8-9541-a1527aacc700",
   "metadata": {},
   "outputs": [
    {
     "data": {
      "text/plain": [
       "array([[548,  18],\n",
       "       [ 69,  32]])"
      ]
     },
     "execution_count": 395,
     "metadata": {},
     "output_type": "execute_result"
    }
   ],
   "source": [
    "# 1. Confusion matrix in scikit-learn\n",
    "\n",
    "import pandas as pd\n",
    "from sklearn.neighbors import KNeighborsClassifier\n",
    "from sklearn.metrics import classification_report, confusion_matrix\n",
    "from sklearn.model_selection import train_test_split\n",
    "\n",
    "df_churn = pd.read_csv(\"data/telecom_churn_clean.csv\")\n",
    "X = df_churn[['total_day_charge', 'total_eve_charge']].values\n",
    "y= df_churn['churn'].values\n",
    "\n",
    "X_train, X_test, y_train, y_test =train_test_split(X, y, test_size=0.2, random_state=42)\n",
    "\n",
    "\n",
    "knn = KNeighborsClassifier(n_neighbors=7)\n",
    "\n",
    "knn.fit(X_train, y_train) #model eğitildi\n",
    "y_pred = knn.predict(X_test) #tahmin yapılıyor\n",
    "\n",
    "confusion_matrix(y_test, y_pred)"
   ]
  },
  {
   "cell_type": "code",
   "execution_count": 397,
   "id": "653e296c-5982-4702-862e-aba244056c51",
   "metadata": {},
   "outputs": [
    {
     "data": {
      "text/plain": [
       "<Axes: >"
      ]
     },
     "execution_count": 397,
     "metadata": {},
     "output_type": "execute_result"
    },
    {
     "data": {
      "image/png": "[encoded data removed]",
      "text/plain": [
       "<Figure size 640x480 with 2 Axes>"
      ]
     },
     "metadata": {},
     "output_type": "display_data"
    }
   ],
   "source": [
    "import seaborn as sns\n",
    "\n",
    "sns.heatmap(confusion_matrix(y_test, y_pred), annot=True, fmt='g')"
   ]
  },
  {
   "cell_type": "code",
   "execution_count": 399,
   "id": "4999e4ef-d4cc-4885-830d-7abeb7f522e5",
   "metadata": {},
   "outputs": [
    {
     "name": "stdout",
     "output_type": "stream",
     "text": [
      "              precision    recall  f1-score   support\n",
      "\n",
      "           0       0.89      0.97      0.93       566\n",
      "           1       0.64      0.32      0.42       101\n",
      "\n",
      "    accuracy                           0.87       667\n",
      "   macro avg       0.76      0.64      0.68       667\n",
      "weighted avg       0.85      0.87      0.85       667\n",
      "\n"
     ]
    }
   ],
   "source": [
    "print(classification_report(y_test, y_pred))"
   ]
  },
  {
   "cell_type": "markdown",
   "id": "fb94826d-4501-4970-bc92-0bbf708cbaa0",
   "metadata": {},
   "source": [
    "**`classification_report(y_test, y_pred)`**: Bu fonksiyon, **precision**, **recall**, **f1-score** ve **accuracy** gibi performans metriklerini hesaplar ve **raporlar**.\n",
    "  \n",
    "  **Ölçütler**:\n",
    "  - 2. **Precision**: **Doğruluk**; pozitif tahminlerin ne kadar doğru olduğunu gösterir. Formül:\n",
    "    $$\n",
    "    \\text{Precision} = \\frac{TP}{TP + FP}\n",
    "    $$\n",
    "  - 3. **Recall**: **Duyarlılık**; gerçek pozitiflerin ne kadarını doğru tahmin ettiğini gösterir. Formül:\n",
    "    $$\n",
    "    \\text{Recall} = \\frac{TP}{TP + FN}\n",
    "    $$\n",
    "  - 4. **F1-score**: Precision ve recall arasında **dengeleme** yapar. Formül:\n",
    "    $$\n",
    "    \\text{F1-score} = 2 \\times \\frac{\\text{Precision} \\times \\text{Recall}}{\\text{Precision} + \\text{Recall}}\n",
    "    $$\n",
    "  - 5. **Accuracy**: Modelin genel doğruluğu; doğru tahminlerin oranını gösterir:\n",
    "    $$\n",
    "    \\text{Accuracy} = \\frac{TP + TN}{TP + TN + FP + FN}\n",
    "    $$"
   ]
  },
  {
   "cell_type": "markdown",
   "id": "8a8a8248-9237-4bf9-b8cc-3991b6e8ed3a",
   "metadata": {},
   "source": [
    "### Logistic Regression: \n",
    "sinfilandirmak icin kullanilan model.\n",
    "\n",
    "bağımlı değişkenin (hedef değişkenin) kategorik olduğu durumlarda kullanılır. Yani, sınıflandırma problemlerinde 0 ya da 1 gibi ikili sınıflar veya daha fazla sınıf tahmin etmek için kullanılır."
   ]
  },
  {
   "cell_type": "code",
   "execution_count": 415,
   "id": "41a3af57-b87f-4b36-b66e-65f4f5df51c8",
   "metadata": {},
   "outputs": [
    {
     "data": {
      "text/plain": [
       "array([0, 0, 0, 0, 0, 0, 0, 0, 0, 0, 0, 0, 0, 0, 0, 0, 0, 0, 0, 0, 0, 0,\n",
       "       0, 0, 0, 0, 0, 0, 0, 0, 0, 0, 0, 0, 0, 0, 0, 0, 0, 0, 0, 0, 0, 0,\n",
       "       0, 0, 0, 0, 0, 0, 0, 0, 0, 0, 0, 0, 0, 0, 0, 0, 0, 0, 0, 0, 0, 0,\n",
       "       0, 0, 0, 0, 0, 0, 0, 0, 0, 0, 0, 0, 0, 0, 0, 0, 0, 0, 0, 0, 0, 0,\n",
       "       0, 0, 0, 0, 0, 0, 0, 0, 0, 0, 0, 0, 0, 0, 0, 0, 0, 0, 0, 0, 0, 0,\n",
       "       0, 0, 0, 0, 0, 0, 0, 0, 0, 0, 0, 0, 0, 0, 0, 0, 0, 0, 0, 0, 0, 0,\n",
       "       0, 0, 0, 0, 0, 0, 0, 0, 0, 0, 0, 0, 0, 0, 0, 0, 0, 0, 0, 0, 0, 0,\n",
       "       0, 0, 0, 0, 0, 0, 0, 0, 0, 0, 0, 0, 0, 0, 0, 0, 0, 0, 0, 0, 0, 0,\n",
       "       0, 0, 0, 0, 0, 0, 0, 0, 0, 0, 0, 0, 0, 0, 0, 0, 0, 0, 0, 0, 0, 0,\n",
       "       0, 0, 0, 0, 0, 0, 0, 0, 0, 0, 0, 0, 0, 0, 0, 0, 0, 0, 0, 0, 0, 0,\n",
       "       0, 0, 0, 0, 0, 0, 0, 0, 0, 0, 0, 0, 0, 0, 0, 0, 0, 0, 0, 0, 0, 0,\n",
       "       0, 0, 0, 0, 0, 0, 0, 0, 0, 0, 0, 0, 0, 0, 0, 0, 0, 0, 0, 0, 0, 0,\n",
       "       0, 0, 0, 0, 0, 0, 0, 0, 0, 0, 0, 0, 0, 0, 0, 0, 0, 0, 0, 0, 0, 0,\n",
       "       0, 0, 0, 0, 0, 0, 0, 0, 0, 0, 0, 0, 0, 0, 0, 0, 0, 0, 0, 0, 0, 0,\n",
       "       0, 0, 0, 0, 0, 0, 0, 0, 0, 0, 0, 0, 0, 0, 0, 0, 0, 0, 0, 0, 0, 0,\n",
       "       0, 0, 0, 0, 0, 0, 0, 0, 0, 0, 0, 0, 0, 0, 0, 0, 0, 0, 0, 0, 0, 0,\n",
       "       0, 0, 0, 0, 0, 0, 0, 0, 0, 0, 0, 0, 0, 0, 0, 0, 0, 0, 0, 0, 0, 0,\n",
       "       0, 0, 0, 0, 0, 0, 0, 0, 0, 0, 0, 0, 0, 0, 0, 0, 0, 0, 0, 0, 0, 0,\n",
       "       0, 0, 0, 0, 0, 0, 0, 0, 0, 0, 0, 0, 0, 0, 0, 0, 0, 0, 0, 0, 0, 0,\n",
       "       0, 0, 0, 0, 0, 0, 0, 0, 0, 0, 0, 0, 0, 0, 0, 0, 0, 0, 0, 0, 0, 0,\n",
       "       0, 0, 0, 0, 0, 0, 0, 0, 0, 0, 0, 0, 0, 0, 0, 0, 0, 0, 0, 0, 0, 0,\n",
       "       0, 0, 0, 0, 0, 0, 0, 0, 0, 0, 0, 0, 0, 0, 0, 0, 0, 0, 0, 0, 0, 0,\n",
       "       0, 0, 0, 0, 0, 0, 0, 0, 0, 0, 0, 0, 0, 0, 0, 0, 0, 0, 0, 0, 0, 0,\n",
       "       0, 0, 0, 0, 0, 0, 0, 0, 0, 0, 0, 0, 0, 0, 0, 0, 0, 0, 0, 0, 0, 0,\n",
       "       0, 0, 0, 0, 0, 0, 0, 0, 0, 0, 0, 0, 0, 0, 0, 0, 0, 0, 0, 0, 0, 0,\n",
       "       0, 0, 0, 0, 0, 0, 0, 0, 0, 0, 0, 0, 0, 0, 0, 0, 0, 0, 0, 0, 0, 0,\n",
       "       0, 0, 0, 0, 0, 0, 0, 0, 0, 0, 0, 0, 0, 0, 0, 0, 0, 0, 0, 0, 0, 0,\n",
       "       0, 0, 0, 0, 0, 0, 0, 0, 0, 0, 0, 0, 0, 0, 0, 0, 0, 0, 0, 0, 0, 0,\n",
       "       0, 0, 0, 0, 0, 0, 0, 0, 0, 0, 0, 0, 0, 0, 0, 0, 0, 0, 0, 0, 0, 0,\n",
       "       0, 0, 0, 0, 0, 0, 0, 0, 0, 0, 0, 0, 0, 0, 0, 0, 0, 0, 0, 0, 0, 0,\n",
       "       0, 0, 0, 0, 0, 0, 0])"
      ]
     },
     "execution_count": 415,
     "metadata": {},
     "output_type": "execute_result"
    }
   ],
   "source": [
    "# Confusion matrix in scikit-learn\n",
    "\n",
    "import pandas as pd\n",
    "from sklearn.linear_model import LogisticRegression\n",
    "from sklearn.metrics import classification_report, confusion_matrix\n",
    "from sklearn.model_selection import train_test_split\n",
    "\n",
    "df_churn = pd.read_csv(\"data/telecom_churn_clean.csv\")\n",
    "X = df_churn[['total_day_charge', 'total_eve_charge']].values #bağımsız değişkenler\n",
    "y= df_churn['churn'].values #bağımlı değişken\n",
    "\n",
    "X_train, X_test, y_train, y_test =train_test_split(X, y, test_size=0.2, random_state=42)\n",
    "\n",
    "model_log = LogisticRegression()\n",
    "model_log.fit(X_train, y_train) #model eğitildi\n",
    "\n",
    "y_predict = model_log.predict(X_test) #doğrudan tahmin. 0 ya da 1 olur.(iptal etti - etmedi)\n",
    "y_predict"
   ]
  },
  {
   "cell_type": "code",
   "execution_count": 417,
   "id": "2232a607-532c-4046-a7ac-35ffb2520fc9",
   "metadata": {},
   "outputs": [],
   "source": [
    "y_pred_probs = model_log.predict_proba(X_test) #modelin her örnek için her sınıfa ait olasılıkları döndürür. ilk sütun 0 olma olasılığı ikinci satır 1 olma olasılığı\n",
    "y_pred_probs\n",
    "y_pred_probs = y_pred_probs[:,1] # 1 olma olasılığı seçiliyor"
   ]
  },
  {
   "cell_type": "markdown",
   "id": "1cce1af3-b929-4e19-84af-be432910b261",
   "metadata": {},
   "source": [
    "### ROC CURVE:\n",
    "sınıflandırma modelinin performansını değerlendirmek için kullanılan önemli bir görselleştirme aracıdır. ROC eğrisi, modelin gerçek pozitif (True Positive) ve yanlış pozitif (False Positive) oranlarını göstererek modelin sınıflandırma başarısını analiz eder."
   ]
  },
  {
   "cell_type": "code",
   "execution_count": 420,
   "id": "276e48be-f5ac-45eb-8bdb-7854aa752bfb",
   "metadata": {},
   "outputs": [
    {
     "data": {
      "text/plain": [
       "Text(0.5, 1.0, 'Logistic Regression ROC Curve')"
      ]
     },
     "execution_count": 420,
     "metadata": {},
     "output_type": "execute_result"
    },
    {
     "data": {
      "image/png": "[encoded data removed]",
      "text/plain": [
       "<Figure size 640x480 with 1 Axes>"
      ]
     },
     "metadata": {},
     "output_type": "display_data"
    }
   ],
   "source": [
    "from sklearn.metrics import roc_curve\n",
    "import matplotlib.pyplot as plt\n",
    "\n",
    "fpr, tpr, thresholds = roc_curve(y_test, y_pred_probs)\n",
    "plt.plot([0, 1], [0, 1], 'k--')\n",
    "plt.plot(fpr, tpr)\n",
    "plt.xlabel('False Positive Rate')\n",
    "plt.ylabel('True Positive Rate')\n",
    "plt.title('Logistic Regression ROC Curve')\n",
    "\n",
    "# Bu grafiğe dayanarak modelin performansı nasıl ölçülebilir?"
   ]
  },
  {
   "cell_type": "code",
   "execution_count": 424,
   "id": "b783dada-8da0-4f97-8bd9-b7a58f8027e1",
   "metadata": {},
   "outputs": [
    {
     "data": {
      "text/plain": [
       "0.7049469964664311"
      ]
     },
     "execution_count": 424,
     "metadata": {},
     "output_type": "execute_result"
    }
   ],
   "source": [
    "#**AUC (Area Under the Curve)**, **ROC eğrisinin altındaki alanı** ölçer ve modelin **genel performansını** bir sayı ile ifade eder. AUC şu şekilde yorumlanır:\n",
    "#  - **AUC = 1**: Model mükemmel, tüm pozitifleri doğru sınıflandırmış ve yanlış pozitifleri hiç yapmamış.\n",
    "#  - **AUC = 0.5**: Model, **rastgele tahmin** yapıyor.\n",
    "#  - **AUC < 0.5**: Model, **tersine çalışıyor**, yani her tahminin zıttını yapıyor.\n",
    "\n",
    "from sklearn.metrics import roc_auc_score\n",
    "\n",
    "roc_auc_score(y_test, y_pred_probs)"
   ]
  },
  {
   "cell_type": "markdown",
   "id": "c1dce125-0f99-4f6e-a03e-c7d1d363b6d8",
   "metadata": {},
   "source": [
    "### **Regression ve Classification için Performans Metrikleri Cheat Sheet**\n",
    "\n",
    "Aşağıda, **regresyon** ve **sınıflandırma** modelleri için kullanabileceğiniz uygun performans metriklerini ayırarak özetledim:\n",
    "\n",
    "---\n",
    "\n",
    "### **1. Regresyon Modelleri**\n",
    "Regresyon modelleri, sürekli bir bağımlı değişkeni tahmin eder.\n",
    "\n",
    "| **Metot**                     | **Açıklama**                                                                 |\n",
    "|-------------------------------|------------------------------------------------------------------------------|\n",
    "| **R² (R-Squared)**            | Modelin bağımlı değişken varyansını ne kadar açıkladığını gösterir.           |\n",
    "| **MSE (Mean Squared Error)**  | Hataların karelerinin ortalamasını hesaplar. Daha küçük değer daha iyidir.   |\n",
    "| **RMSE (Root Mean Squared Error)** | Hataların karekökünü alarak hatayı bağımlı değişken birimine indirger.         |\n",
    "| **MAE (Mean Absolute Error)** | Hataların mutlak değerlerinin ortalamasını hesaplar. Daha küçük değer daha iyidir. |\n",
    "\n",
    "#### **Regresyon Modelleri:**\n",
    "- **Linear Regression**\n",
    "- **Ridge Regression**\n",
    "- **Lasso Regression**\n",
    "- **Polynomial Regression**\n",
    "\n",
    "---\n",
    "\n",
    "### **2. Sınıflandırma Modelleri**\n",
    "Sınıflandırma modelleri, kategorik bir bağımlı değişkeni tahmin eder.\n",
    "\n",
    "| **Metot**                    | **Açıklama**                                                                 |\n",
    "|------------------------------|------------------------------------------------------------------------------|\n",
    "| **Accuracy**                 | Doğru tahminlerin oranını verir.                                             |\n",
    "| **Confusion Matrix**         | Doğru ve yanlış sınıflandırmaları gösterir.                                 |\n",
    "| **Precision**                | Pozitif sınıf için doğru tahmin oranını gösterir (TP / (TP + FP)).           |\n",
    "| **Recall (Sensitivity)**     | Pozitif sınıf için hatırlama oranını gösterir (TP / (TP + FN)).              |\n",
    "| **F1-Score**                 | Precision ve Recall'ün harmonik ortalamasıdır.                              |\n",
    "| **ROC-AUC**                  | Sınıflandırıcı performansını ölçmek için Receiver Operating Characteristic eğrisi. |\n",
    "\n",
    "#### **Sınıflandırma Modelleri:**\n",
    "- **Logistic Regression**\n",
    "- **KNN (K-Nearest Neighbors)**\n",
    "- **Decision Trees**\n",
    "- **Random Forest**\n",
    "- **SVM (Support Vector Machines)**\n",
    "\n",
    "---\n",
    "\n",
    "### **Hangi Metrik Nerede Kullanılmalı?**\n",
    "1. **Regresyon Modelleri**:\n",
    "   - **R², MSE, RMSE, MAE** kullanılır.\n",
    "   - **Confusion Matrix veya Accuracy gibi sınıflandırma metrikleri kullanılmaz.**\n",
    "\n",
    "2. **Sınıflandırma Modelleri**:\n",
    "   - **Confusion Matrix, Precision, Recall, F1-Score, Accuracy** gibi metrikler kullanılır.\n",
    "   - **R², MSE, RMSE gibi regresyon metrikleri kullanılmaz.**\n",
    "\n",
    "---\n",
    "\n",
    "### **Örnek Kullanım Alanları**\n",
    "#### **Regresyon:**\n",
    "- Bir çalışanın maaşını tahmin etmek.\n",
    "- Ev fiyatlarını belirlemek.\n",
    "\n",
    "#### **Sınıflandırma:**\n",
    "- Bir müşterinin ürünü satın alıp almayacağını tahmin etmek.\n",
    "- Bir hastanın hastalığa sahip olup olmadığını sınıflandırmak."
   ]
  },
  {
   "cell_type": "markdown",
   "id": "6a3863c4-33e1-4f9f-8bb6-58f54e16434f",
   "metadata": {},
   "source": [
    "### # Grid Search Cross Validation\n",
    "Grid Search Cross Validation (Grid Search Çapraz Doğrulama), makine öğrenmesi modelinin hiperparametrelerini optimize etmek için kullanılan bir yöntemdir. Bu yöntem, belirli bir modelin performansını değerlendirirken farklı hiperparametre kombinasyonlarını dener ve en iyi sonucu veren parametreleri seçer. Grid Search, \"grid\" adı verilen bir hiperparametre ızgarası üzerinde sistematik olarak arama yaparak en iyi model parametrelerini bulur.\n",
    "\n",
    "Grid Search'in Çalışma Prensibi\n",
    "\n",
    "Grid Search, parametre arama alanını tanımladıktan sonra, her bir parametre kombinasyonunu belirli bir çapraz doğrulama stratejisi (örneğin, \n",
    "\n",
    "k-fold çapraz doğrulama) ile değerlendirir. Bu süreç, aşağıdaki adımları takip eder:\n",
    "\n",
    "Modeli parametrelerin her kombinasyonu için eğit.\n",
    "\n",
    "Çapraz doğrulama kullanarak her parametre kombinasyonu için doğrulama performansını değerlendir.\n",
    "\n",
    "En yüksek doğrulama performansına sahip parametre kombinasyonunu seç.\n"
   ]
  },
  {
   "cell_type": "code",
   "execution_count": 432,
   "id": "aa3d9b84-2442-4786-a503-0844aa98c83f",
   "metadata": {},
   "outputs": [
    {
     "name": "stderr",
     "output_type": "stream",
     "text": [
      "/opt/anaconda3/lib/python3.12/site-packages/sklearn/linear_model/_sag.py:349: ConvergenceWarning: The max_iter was reached which means the coef_ did not converge\n",
      "  warnings.warn(\n",
      "/opt/anaconda3/lib/python3.12/site-packages/sklearn/linear_model/_sag.py:349: ConvergenceWarning: The max_iter was reached which means the coef_ did not converge\n",
      "  warnings.warn(\n",
      "/opt/anaconda3/lib/python3.12/site-packages/sklearn/linear_model/_sag.py:349: ConvergenceWarning: The max_iter was reached which means the coef_ did not converge\n",
      "  warnings.warn(\n",
      "/opt/anaconda3/lib/python3.12/site-packages/sklearn/linear_model/_sag.py:349: ConvergenceWarning: The max_iter was reached which means the coef_ did not converge\n",
      "  warnings.warn(\n",
      "/opt/anaconda3/lib/python3.12/site-packages/sklearn/linear_model/_sag.py:349: ConvergenceWarning: The max_iter was reached which means the coef_ did not converge\n",
      "  warnings.warn(\n",
      "/opt/anaconda3/lib/python3.12/site-packages/sklearn/linear_model/_sag.py:349: ConvergenceWarning: The max_iter was reached which means the coef_ did not converge\n",
      "  warnings.warn(\n",
      "/opt/anaconda3/lib/python3.12/site-packages/sklearn/linear_model/_sag.py:349: ConvergenceWarning: The max_iter was reached which means the coef_ did not converge\n",
      "  warnings.warn(\n",
      "/opt/anaconda3/lib/python3.12/site-packages/sklearn/linear_model/_sag.py:349: ConvergenceWarning: The max_iter was reached which means the coef_ did not converge\n",
      "  warnings.warn(\n",
      "/opt/anaconda3/lib/python3.12/site-packages/sklearn/linear_model/_sag.py:349: ConvergenceWarning: The max_iter was reached which means the coef_ did not converge\n",
      "  warnings.warn(\n",
      "/opt/anaconda3/lib/python3.12/site-packages/sklearn/linear_model/_sag.py:349: ConvergenceWarning: The max_iter was reached which means the coef_ did not converge\n",
      "  warnings.warn(\n",
      "/opt/anaconda3/lib/python3.12/site-packages/sklearn/linear_model/_sag.py:349: ConvergenceWarning: The max_iter was reached which means the coef_ did not converge\n",
      "  warnings.warn(\n",
      "/opt/anaconda3/lib/python3.12/site-packages/sklearn/linear_model/_sag.py:349: ConvergenceWarning: The max_iter was reached which means the coef_ did not converge\n",
      "  warnings.warn(\n",
      "/opt/anaconda3/lib/python3.12/site-packages/sklearn/linear_model/_sag.py:349: ConvergenceWarning: The max_iter was reached which means the coef_ did not converge\n",
      "  warnings.warn(\n",
      "/opt/anaconda3/lib/python3.12/site-packages/sklearn/linear_model/_sag.py:349: ConvergenceWarning: The max_iter was reached which means the coef_ did not converge\n",
      "  warnings.warn(\n",
      "/opt/anaconda3/lib/python3.12/site-packages/sklearn/linear_model/_sag.py:349: ConvergenceWarning: The max_iter was reached which means the coef_ did not converge\n",
      "  warnings.warn(\n",
      "/opt/anaconda3/lib/python3.12/site-packages/sklearn/linear_model/_sag.py:349: ConvergenceWarning: The max_iter was reached which means the coef_ did not converge\n",
      "  warnings.warn(\n",
      "/opt/anaconda3/lib/python3.12/site-packages/sklearn/linear_model/_sag.py:349: ConvergenceWarning: The max_iter was reached which means the coef_ did not converge\n",
      "  warnings.warn(\n",
      "/opt/anaconda3/lib/python3.12/site-packages/sklearn/linear_model/_sag.py:349: ConvergenceWarning: The max_iter was reached which means the coef_ did not converge\n",
      "  warnings.warn(\n",
      "/opt/anaconda3/lib/python3.12/site-packages/sklearn/linear_model/_sag.py:349: ConvergenceWarning: The max_iter was reached which means the coef_ did not converge\n",
      "  warnings.warn(\n",
      "/opt/anaconda3/lib/python3.12/site-packages/sklearn/linear_model/_sag.py:349: ConvergenceWarning: The max_iter was reached which means the coef_ did not converge\n",
      "  warnings.warn(\n",
      "/opt/anaconda3/lib/python3.12/site-packages/sklearn/linear_model/_sag.py:349: ConvergenceWarning: The max_iter was reached which means the coef_ did not converge\n",
      "  warnings.warn(\n",
      "/opt/anaconda3/lib/python3.12/site-packages/sklearn/linear_model/_sag.py:349: ConvergenceWarning: The max_iter was reached which means the coef_ did not converge\n",
      "  warnings.warn(\n",
      "/opt/anaconda3/lib/python3.12/site-packages/sklearn/linear_model/_sag.py:349: ConvergenceWarning: The max_iter was reached which means the coef_ did not converge\n",
      "  warnings.warn(\n",
      "/opt/anaconda3/lib/python3.12/site-packages/sklearn/linear_model/_sag.py:349: ConvergenceWarning: The max_iter was reached which means the coef_ did not converge\n",
      "  warnings.warn(\n",
      "/opt/anaconda3/lib/python3.12/site-packages/sklearn/linear_model/_sag.py:349: ConvergenceWarning: The max_iter was reached which means the coef_ did not converge\n",
      "  warnings.warn(\n",
      "/opt/anaconda3/lib/python3.12/site-packages/sklearn/linear_model/_sag.py:349: ConvergenceWarning: The max_iter was reached which means the coef_ did not converge\n",
      "  warnings.warn(\n",
      "/opt/anaconda3/lib/python3.12/site-packages/sklearn/linear_model/_sag.py:349: ConvergenceWarning: The max_iter was reached which means the coef_ did not converge\n",
      "  warnings.warn(\n",
      "/opt/anaconda3/lib/python3.12/site-packages/sklearn/linear_model/_sag.py:349: ConvergenceWarning: The max_iter was reached which means the coef_ did not converge\n",
      "  warnings.warn(\n",
      "/opt/anaconda3/lib/python3.12/site-packages/sklearn/linear_model/_sag.py:349: ConvergenceWarning: The max_iter was reached which means the coef_ did not converge\n",
      "  warnings.warn(\n",
      "/opt/anaconda3/lib/python3.12/site-packages/sklearn/linear_model/_sag.py:349: ConvergenceWarning: The max_iter was reached which means the coef_ did not converge\n",
      "  warnings.warn(\n",
      "/opt/anaconda3/lib/python3.12/site-packages/sklearn/linear_model/_sag.py:349: ConvergenceWarning: The max_iter was reached which means the coef_ did not converge\n",
      "  warnings.warn(\n",
      "/opt/anaconda3/lib/python3.12/site-packages/sklearn/linear_model/_sag.py:349: ConvergenceWarning: The max_iter was reached which means the coef_ did not converge\n",
      "  warnings.warn(\n",
      "/opt/anaconda3/lib/python3.12/site-packages/sklearn/linear_model/_sag.py:349: ConvergenceWarning: The max_iter was reached which means the coef_ did not converge\n",
      "  warnings.warn(\n",
      "/opt/anaconda3/lib/python3.12/site-packages/sklearn/linear_model/_sag.py:349: ConvergenceWarning: The max_iter was reached which means the coef_ did not converge\n",
      "  warnings.warn(\n",
      "/opt/anaconda3/lib/python3.12/site-packages/sklearn/linear_model/_sag.py:349: ConvergenceWarning: The max_iter was reached which means the coef_ did not converge\n",
      "  warnings.warn(\n",
      "/opt/anaconda3/lib/python3.12/site-packages/sklearn/linear_model/_sag.py:349: ConvergenceWarning: The max_iter was reached which means the coef_ did not converge\n",
      "  warnings.warn(\n",
      "/opt/anaconda3/lib/python3.12/site-packages/sklearn/linear_model/_sag.py:349: ConvergenceWarning: The max_iter was reached which means the coef_ did not converge\n",
      "  warnings.warn(\n",
      "/opt/anaconda3/lib/python3.12/site-packages/sklearn/linear_model/_sag.py:349: ConvergenceWarning: The max_iter was reached which means the coef_ did not converge\n",
      "  warnings.warn(\n",
      "/opt/anaconda3/lib/python3.12/site-packages/sklearn/linear_model/_sag.py:349: ConvergenceWarning: The max_iter was reached which means the coef_ did not converge\n",
      "  warnings.warn(\n"
     ]
    },
    {
     "name": "stdout",
     "output_type": "stream",
     "text": [
      "{'alpha': 0.0001, 'solver': 'lsqr'} 0.3404176885506861\n"
     ]
    },
    {
     "name": "stderr",
     "output_type": "stream",
     "text": [
      "/opt/anaconda3/lib/python3.12/site-packages/sklearn/linear_model/_sag.py:349: ConvergenceWarning: The max_iter was reached which means the coef_ did not converge\n",
      "  warnings.warn(\n",
      "/opt/anaconda3/lib/python3.12/site-packages/sklearn/linear_model/_sag.py:349: ConvergenceWarning: The max_iter was reached which means the coef_ did not converge\n",
      "  warnings.warn(\n",
      "/opt/anaconda3/lib/python3.12/site-packages/sklearn/linear_model/_sag.py:349: ConvergenceWarning: The max_iter was reached which means the coef_ did not converge\n",
      "  warnings.warn(\n",
      "/opt/anaconda3/lib/python3.12/site-packages/sklearn/linear_model/_sag.py:349: ConvergenceWarning: The max_iter was reached which means the coef_ did not converge\n",
      "  warnings.warn(\n",
      "/opt/anaconda3/lib/python3.12/site-packages/sklearn/linear_model/_sag.py:349: ConvergenceWarning: The max_iter was reached which means the coef_ did not converge\n",
      "  warnings.warn(\n",
      "/opt/anaconda3/lib/python3.12/site-packages/sklearn/linear_model/_sag.py:349: ConvergenceWarning: The max_iter was reached which means the coef_ did not converge\n",
      "  warnings.warn(\n",
      "/opt/anaconda3/lib/python3.12/site-packages/sklearn/linear_model/_sag.py:349: ConvergenceWarning: The max_iter was reached which means the coef_ did not converge\n",
      "  warnings.warn(\n",
      "/opt/anaconda3/lib/python3.12/site-packages/sklearn/linear_model/_sag.py:349: ConvergenceWarning: The max_iter was reached which means the coef_ did not converge\n",
      "  warnings.warn(\n",
      "/opt/anaconda3/lib/python3.12/site-packages/sklearn/linear_model/_sag.py:349: ConvergenceWarning: The max_iter was reached which means the coef_ did not converge\n",
      "  warnings.warn(\n",
      "/opt/anaconda3/lib/python3.12/site-packages/sklearn/linear_model/_sag.py:349: ConvergenceWarning: The max_iter was reached which means the coef_ did not converge\n",
      "  warnings.warn(\n",
      "/opt/anaconda3/lib/python3.12/site-packages/sklearn/linear_model/_sag.py:349: ConvergenceWarning: The max_iter was reached which means the coef_ did not converge\n",
      "  warnings.warn(\n"
     ]
    }
   ],
   "source": [
    "from sklearn.linear_model import Ridge\n",
    "from sklearn.model_selection import train_test_split, GridSearchCV, KFold\n",
    "import numpy as np \n",
    "\n",
    "# Veri setini okuma\n",
    "df_diabets = pd.read_csv('data/diabetes_clean.csv')\n",
    "\n",
    "# Boş verileri (bmi=0 veya glucose=0) filtreleme\n",
    "df_filtered = df_diabets[(df_diabets['bmi'] == 0.0) | (df_diabets['glucose'] == 0)]\n",
    "df_diabets.drop(df_filtered.index, inplace=True)\n",
    "\n",
    "# Bağımsız değişkenler (X) ve bağımlı değişken (y) oluşturma\n",
    "X = df_diabets.drop('glucose', axis=1).values\n",
    "y = df_diabets['glucose'].values\n",
    "\n",
    "# Eğitim ve test verilerine ayırma\n",
    "X_train, X_test, y_train, y_test = train_test_split(X, y, test_size=0.2, random_state=42)\n",
    "\n",
    "# K-Fold çapraz doğrulama için KFold sınıfını oluşturuyoruz\n",
    "kf = KFold(n_splits=5, shuffle=True, random_state=42)\n",
    "\n",
    "# Hiperparametreler için arama alanını (grid) oluşturuyoruz\n",
    "param_grid = {\n",
    "    'alpha': np.arange(0.0001, 1, 0.1),  # alpha parametresinin farklı değerlerini deniyoruz\n",
    "    'solver': ['sag', 'lsqr']  # Ridge regresyonu için farklı çözüm yöntemleri\n",
    "}\n",
    "#- **GridSearchCV**, verilen **param_grid** üzerinde hiperparametreleri optimize etmek için kullanılır. Burada, **Ridge** modelinin **α (alpha)** parametresi üzerinde en uygun değeri bulmak için **5 katlı çapraz doğrulama** yapılır.\n",
    "\n",
    "# Ridge regresyon modelini oluşturuyoruz\n",
    "ridge = Ridge()\n",
    "\n",
    "# GridSearchCV ile Grid Search başlatıyoruz\n",
    "ridge_cv = GridSearchCV(ridge, param_grid, cv=kf)\n",
    "\n",
    "# Modeli eğitim verileriyle eğitiyoruz\n",
    "ridge_cv.fit(X_train, y_train)\n",
    "\n",
    "# En iyi parametreleri ve en iyi skoru yazdırıyoruz\n",
    "print(ridge_cv.best_params_, ridge_cv.best_score_)\n"
   ]
  },
  {
   "cell_type": "markdown",
   "id": "7fa8d8cf-b797-4266-85b4-6b6d3c566366",
   "metadata": {},
   "source": [
    "### RandomizedSearchCV \n",
    "RandomizedSearchCV: Grid search'in daha verimli bir alternatifidir. Grid search'te tüm kombinasyonları denemek yerine, belirli bir sayıda rastgele kombinasyon seçer ve optimize eder. Bu, daha az hesaplama maliyetiyle hızlı sonuçlar elde etmenizi sağlar.\n"
   ]
  },
  {
   "cell_type": "code",
   "execution_count": 430,
   "id": "c89c137f-a205-4841-a01c-c82d8d62bef7",
   "metadata": {},
   "outputs": [
    {
     "name": "stdout",
     "output_type": "stream",
     "text": [
      "{'solver': 'sag', 'alpha': 0.10010000000000001} 0.24297917653517223\n"
     ]
    },
    {
     "name": "stderr",
     "output_type": "stream",
     "text": [
      "/opt/anaconda3/lib/python3.12/site-packages/sklearn/linear_model/_sag.py:349: ConvergenceWarning: The max_iter was reached which means the coef_ did not converge\n",
      "  warnings.warn(\n",
      "/opt/anaconda3/lib/python3.12/site-packages/sklearn/linear_model/_sag.py:349: ConvergenceWarning: The max_iter was reached which means the coef_ did not converge\n",
      "  warnings.warn(\n",
      "/opt/anaconda3/lib/python3.12/site-packages/sklearn/linear_model/_sag.py:349: ConvergenceWarning: The max_iter was reached which means the coef_ did not converge\n",
      "  warnings.warn(\n",
      "/opt/anaconda3/lib/python3.12/site-packages/sklearn/linear_model/_sag.py:349: ConvergenceWarning: The max_iter was reached which means the coef_ did not converge\n",
      "  warnings.warn(\n",
      "/opt/anaconda3/lib/python3.12/site-packages/sklearn/linear_model/_sag.py:349: ConvergenceWarning: The max_iter was reached which means the coef_ did not converge\n",
      "  warnings.warn(\n",
      "/opt/anaconda3/lib/python3.12/site-packages/sklearn/linear_model/_sag.py:349: ConvergenceWarning: The max_iter was reached which means the coef_ did not converge\n",
      "  warnings.warn(\n",
      "/opt/anaconda3/lib/python3.12/site-packages/sklearn/linear_model/_sag.py:349: ConvergenceWarning: The max_iter was reached which means the coef_ did not converge\n",
      "  warnings.warn(\n",
      "/opt/anaconda3/lib/python3.12/site-packages/sklearn/linear_model/_sag.py:349: ConvergenceWarning: The max_iter was reached which means the coef_ did not converge\n",
      "  warnings.warn(\n",
      "/opt/anaconda3/lib/python3.12/site-packages/sklearn/linear_model/_sag.py:349: ConvergenceWarning: The max_iter was reached which means the coef_ did not converge\n",
      "  warnings.warn(\n",
      "/opt/anaconda3/lib/python3.12/site-packages/sklearn/linear_model/_sag.py:349: ConvergenceWarning: The max_iter was reached which means the coef_ did not converge\n",
      "  warnings.warn(\n",
      "/opt/anaconda3/lib/python3.12/site-packages/sklearn/linear_model/_sag.py:349: ConvergenceWarning: The max_iter was reached which means the coef_ did not converge\n",
      "  warnings.warn(\n"
     ]
    }
   ],
   "source": [
    "from sklearn.model_selection import RandomizedSearchCV\n",
    "\n",
    "# İsteğe bağlı olarak, test edilen hiperparametre değerlerinin sayısını belirleyen \n",
    "# n_iter bağımsız değişkenini ayarlanabilir. \n",
    "# Böylece n_iter iki olarak ayarlandığında \n",
    "# beş katlı çapraz doğrulama 10 fit() gerçekleştirir. \n",
    "\n",
    "#RandomizedSearchCV:\n",
    "#Grid Search'ten farklı olarak RandomizedSearchCV, belirli bir parametre kombinasyonu yerine rastgele bir seçki ile hiperparametreleri dener. Bu yöntem, büyük veri setlerinde ve parametrelerin çok olduğu durumlarda daha hızlı sonuçlar verebilir.\n",
    "from sklearn.model_selection import RandomizedSearchCV\n",
    "\n",
    "# RandomizedSearchCV kullanımı\n",
    "ridge_cv = RandomizedSearchCV(ridge, param_grid, cv=kf, n_iter=2)\n",
    "ridge_cv.fit(X_train, y_train)\n",
    "\n",
    "# Sonuçları görüntüle\n",
    "print(ridge_cv.best_params_, ridge_cv.best_score_)\n"
   ]
  },
  {
   "cell_type": "markdown",
   "id": "edbc7cf5-295f-4ab9-aea7-139cdbc6310a",
   "metadata": {},
   "source": [
    "### Preprocessing Data"
   ]
  },
  {
   "cell_type": "code",
   "execution_count": 442,
   "id": "6d134268-c54f-47d4-8d8f-8da8f3fb33cd",
   "metadata": {},
   "outputs": [
    {
     "data": {
      "text/plain": [
       "<Axes: xlabel='music_genre', ylabel='popularity'>"
      ]
     },
     "execution_count": 442,
     "metadata": {},
     "output_type": "execute_result"
    },
    {
     "data": {
      "image/png": "[encoded data removed]",
      "text/plain": [
       "<Figure size 1500x700 with 1 Axes>"
      ]
     },
     "metadata": {},
     "output_type": "display_data"
    }
   ],
   "source": [
    "import pandas as pd\n",
    "\n",
    "df_music = pd.read_csv('data/music_genre.csv')\n",
    "import seaborn as sns\n",
    "import matplotlib.pyplot as plt\n",
    "\n",
    "plt.figure(figsize=(15, 7))\n",
    "sns.boxplot(data=df_music, x='music_genre', y='popularity', hue='music_genre')"
   ]
  },
  {
   "cell_type": "code",
   "execution_count": 444,
   "id": "117fee81-47d7-43b6-9c0f-72cedc9519a9",
   "metadata": {},
   "outputs": [
    {
     "data": {
      "text/html": [
       "<div>\n",
       "<style scoped>\n",
       "    .dataframe tbody tr th:only-of-type {\n",
       "        vertical-align: middle;\n",
       "    }\n",
       "\n",
       "    .dataframe tbody tr th {\n",
       "        vertical-align: top;\n",
       "    }\n",
       "\n",
       "    .dataframe thead th {\n",
       "        text-align: right;\n",
       "    }\n",
       "</style>\n",
       "<table border=\"1\" class=\"dataframe\">\n",
       "  <thead>\n",
       "    <tr style=\"text-align: right;\">\n",
       "      <th></th>\n",
       "      <th>Anime</th>\n",
       "      <th>Blues</th>\n",
       "      <th>Classical</th>\n",
       "      <th>Country</th>\n",
       "      <th>Electronic</th>\n",
       "      <th>Hip-Hop</th>\n",
       "      <th>Jazz</th>\n",
       "      <th>Rap</th>\n",
       "      <th>Rock</th>\n",
       "    </tr>\n",
       "  </thead>\n",
       "  <tbody>\n",
       "    <tr>\n",
       "      <th>0</th>\n",
       "      <td>0</td>\n",
       "      <td>0</td>\n",
       "      <td>0</td>\n",
       "      <td>0</td>\n",
       "      <td>1</td>\n",
       "      <td>0</td>\n",
       "      <td>0</td>\n",
       "      <td>0</td>\n",
       "      <td>0</td>\n",
       "    </tr>\n",
       "    <tr>\n",
       "      <th>1</th>\n",
       "      <td>0</td>\n",
       "      <td>0</td>\n",
       "      <td>0</td>\n",
       "      <td>0</td>\n",
       "      <td>1</td>\n",
       "      <td>0</td>\n",
       "      <td>0</td>\n",
       "      <td>0</td>\n",
       "      <td>0</td>\n",
       "    </tr>\n",
       "    <tr>\n",
       "      <th>2</th>\n",
       "      <td>0</td>\n",
       "      <td>0</td>\n",
       "      <td>0</td>\n",
       "      <td>0</td>\n",
       "      <td>1</td>\n",
       "      <td>0</td>\n",
       "      <td>0</td>\n",
       "      <td>0</td>\n",
       "      <td>0</td>\n",
       "    </tr>\n",
       "    <tr>\n",
       "      <th>3</th>\n",
       "      <td>0</td>\n",
       "      <td>0</td>\n",
       "      <td>0</td>\n",
       "      <td>0</td>\n",
       "      <td>1</td>\n",
       "      <td>0</td>\n",
       "      <td>0</td>\n",
       "      <td>0</td>\n",
       "      <td>0</td>\n",
       "    </tr>\n",
       "    <tr>\n",
       "      <th>4</th>\n",
       "      <td>0</td>\n",
       "      <td>0</td>\n",
       "      <td>0</td>\n",
       "      <td>0</td>\n",
       "      <td>1</td>\n",
       "      <td>0</td>\n",
       "      <td>0</td>\n",
       "      <td>0</td>\n",
       "      <td>0</td>\n",
       "    </tr>\n",
       "  </tbody>\n",
       "</table>\n",
       "</div>"
      ],
      "text/plain": [
       "   Anime  Blues  Classical  Country  Electronic  Hip-Hop  Jazz  Rap  Rock\n",
       "0      0      0          0        0           1        0     0    0     0\n",
       "1      0      0          0        0           1        0     0    0     0\n",
       "2      0      0          0        0           1        0     0    0     0\n",
       "3      0      0          0        0           1        0     0    0     0\n",
       "4      0      0          0        0           1        0     0    0     0"
      ]
     },
     "execution_count": 444,
     "metadata": {},
     "output_type": "execute_result"
    }
   ],
   "source": [
    "music_dummies = pd.get_dummies(df_music['music_genre'], drop_first=True, dtype='int')\n",
    "music_dummies.head()"
   ]
  },
  {
   "cell_type": "markdown",
   "id": "305cfd5f-34e5-466e-be2f-58c8366fa1c7",
   "metadata": {},
   "source": [
    "**Dummy değişkenleri**, **kategorik verileri** sayısal verilere dönüştürmek için kullanılan bir tekniktir. Bu, makine öğrenmesi ve istatistiksel analizlerde yaygın olarak kullanılır çünkü çoğu algoritma **sayılarla** çalışır ve **kategorik** (metin, etiket gibi) verilerle doğrudan işlem yapamaz.\n",
    "\n",
    "### **Dummy Değişkenleri Nedir?**\n",
    "\n",
    "Bir **kategorik değişkeni** sayısal verilere dönüştürmenin en yaygın yolu **dummy değişkenleri** kullanmaktır. Örneğin, **müzik türü (music_genre)** bir kategorik değişken olabilir. Bu tür bir veriyi sayısal hale getirmek için **her bir kategori için bir sütun** (veya dummy değişkeni) oluşturulur.\n",
    "\n",
    "Örneğin, aşağıdaki **music_genre** kategorik verisini düşünelim:\n",
    "\n",
    "| music_genre |\n",
    "|-------------|\n",
    "| Pop         |\n",
    "| Jazz        |\n",
    "| Rock        |\n",
    "| Pop         |\n",
    "| Jazz        |\n",
    "\n",
    "Bu veriyi **dummy değişkenlerine** dönüştürmek için şu adımlar izlenir:\n",
    "\n",
    "### **Dummy Değişkenleri Oluşturma**\n",
    "\n",
    "#### 1. **Her Bir Kategoriyi Yeni Bir Sütunla Temsil Etme:**\n",
    "Her müzik türü için bir sütun oluşturulacak ve her satırda, o müzik türüne ait olma durumu **1 (vardır)** veya **0 (yoktur)** ile gösterilecektir.\n",
    "\n",
    "| music_genre | Pop | Jazz | Rock |\n",
    "|-------------|-----|------|------|\n",
    "| Pop         | 1   | 0    | 0    |\n",
    "| Jazz        | 0   | 1    | 0    |\n",
    "| Rock        | 0   | 0    | 1    |\n",
    "| Pop         | 1   | 0    | 0    |\n",
    "| Jazz        | 0   | 1    | 0    |\n",
    "\n",
    "Bu işlem, **kategorik değişkenleri** (örneğin **music_genre**) **sayısal verilere** dönüştürmüş olur. Bu sayede makine öğrenmesi algoritmaları, bu veriler üzerinde işlem yapabilir.\n",
    "\n",
    "#### 2. **`drop_first=True` Parametresi:**\n",
    "- Bazı durumlarda, **ilk kategori** (veya \"ilk sütun\") çıkarılabilir. Bu, **multicollinearity** sorununu engeller, çünkü **ilk sütun** diğerlerinin **kombinasyonu** olarak zaten temsil edilebilir.\n",
    "- Bu teknik, regresyon modellerinde genellikle kullanılır çünkü **aşırı parametre sayısı** modelin performansını düşürebilir.\n",
    "\n",
    "Örneğin, yukarıdaki tablodan **Pop** sütununu çıkaralım (ilk sütun):\n",
    "\n",
    "| music_genre | Jazz | Rock |\n",
    "|-------------|------|------|\n",
    "| Pop         | 0    | 0    |\n",
    "| Jazz        | 1    | 0    |\n",
    "| Rock        | 0    | 1    |\n",
    "| Pop         | 0    | 0    |\n",
    "| Jazz        | 1    | 0    |\n",
    "\n",
    "Burada, **Pop** müzik türü **referans kategori** olarak kabul edilir, ve **Jazz** ve **Rock** sütunları **bu kategoriye göre** ölçülür.\n",
    "\n",
    "---\n",
    "\n",
    "### **Kod Açıklaması:**\n",
    "\n",
    "```python\n",
    "music_dummies = pd.get_dummies(df_music['music_genre'], drop_first=True, dtype='int')\n",
    "```\n",
    "\n",
    "- **`pd.get_dummies(df_music['music_genre'])`**: Bu, **music_genre** sütunundaki her kategori için bir **dummy değişkeni** oluşturur. Kategorik veriler sayısal verilere dönüştürülür.\n",
    "  \n",
    "- **`drop_first=True`**: İlk sütunu (ilk kategori, örneğin **Pop**) çıkarır. Bu, **çoklu doğrusal ilişkiyi** (multicollinearity) engeller. Çünkü ilk kategori zaten diğerlerinin **kombinasyonu** olarak temsil edilebilir.\n",
    "\n",
    "- **`dtype='int'`**: Dummy değişkenleri **tam sayı (integer)** türünde olacak şekilde ayarlanır.\n",
    "\n",
    "---\n",
    "\n",
    "### **Dummy Değişkenlerini Kullanmanın Avantajları:**\n",
    "- **Makine öğrenmesi modelleri** kategorik verileri doğrudan işleyemez. Dummy değişkenleri, algoritmaların bu tür verilerle **verimli bir şekilde çalışabilmesini** sağlar.\n",
    "- **Modelin daha doğru öğrenmesi** için gereklidir, çünkü kategorik veriler modelin öğrenmesi için gereklidir.\n",
    "\n",
    "### Özet:\n",
    "Dummy değişkenleri, kategorik değişkenleri **sayısal verilere dönüştürmek** için kullanılır ve bu sayede makine öğrenmesi algoritmaları bu verilerle işlem yapabilir. **`drop_first=True`** parametresi, modelin daha verimli çalışması için genellikle kullanılır, çünkü bu, multicollinearity problemini önler."
   ]
  },
  {
   "cell_type": "code",
   "execution_count": 449,
   "id": "7d4afffe-9f5a-440c-9dae-7ee9031c5c7a",
   "metadata": {},
   "outputs": [
    {
     "data": {
      "text/html": [
       "<div>\n",
       "<style scoped>\n",
       "    .dataframe tbody tr th:only-of-type {\n",
       "        vertical-align: middle;\n",
       "    }\n",
       "\n",
       "    .dataframe tbody tr th {\n",
       "        vertical-align: top;\n",
       "    }\n",
       "\n",
       "    .dataframe thead th {\n",
       "        text-align: right;\n",
       "    }\n",
       "</style>\n",
       "<table border=\"1\" class=\"dataframe\">\n",
       "  <thead>\n",
       "    <tr style=\"text-align: right;\">\n",
       "      <th></th>\n",
       "      <th>popularity</th>\n",
       "      <th>acousticness</th>\n",
       "      <th>danceability</th>\n",
       "      <th>duration_ms</th>\n",
       "      <th>energy</th>\n",
       "      <th>instrumentalness</th>\n",
       "      <th>liveness</th>\n",
       "      <th>loudness</th>\n",
       "      <th>speechiness</th>\n",
       "      <th>tempo</th>\n",
       "      <th>...</th>\n",
       "      <th>valence</th>\n",
       "      <th>Anime</th>\n",
       "      <th>Blues</th>\n",
       "      <th>Classical</th>\n",
       "      <th>Country</th>\n",
       "      <th>Electronic</th>\n",
       "      <th>Hip-Hop</th>\n",
       "      <th>Jazz</th>\n",
       "      <th>Rap</th>\n",
       "      <th>Rock</th>\n",
       "    </tr>\n",
       "  </thead>\n",
       "  <tbody>\n",
       "    <tr>\n",
       "      <th>0</th>\n",
       "      <td>27</td>\n",
       "      <td>0.00468</td>\n",
       "      <td>0.652</td>\n",
       "      <td>-1</td>\n",
       "      <td>0.941</td>\n",
       "      <td>0.79200</td>\n",
       "      <td>0.115</td>\n",
       "      <td>-5.201</td>\n",
       "      <td>0.0748</td>\n",
       "      <td>100.889</td>\n",
       "      <td>...</td>\n",
       "      <td>0.759</td>\n",
       "      <td>0</td>\n",
       "      <td>0</td>\n",
       "      <td>0</td>\n",
       "      <td>0</td>\n",
       "      <td>1</td>\n",
       "      <td>0</td>\n",
       "      <td>0</td>\n",
       "      <td>0</td>\n",
       "      <td>0</td>\n",
       "    </tr>\n",
       "    <tr>\n",
       "      <th>1</th>\n",
       "      <td>31</td>\n",
       "      <td>0.01270</td>\n",
       "      <td>0.622</td>\n",
       "      <td>218293</td>\n",
       "      <td>0.890</td>\n",
       "      <td>0.95000</td>\n",
       "      <td>0.124</td>\n",
       "      <td>-7.043</td>\n",
       "      <td>0.0300</td>\n",
       "      <td>115.002</td>\n",
       "      <td>...</td>\n",
       "      <td>0.531</td>\n",
       "      <td>0</td>\n",
       "      <td>0</td>\n",
       "      <td>0</td>\n",
       "      <td>0</td>\n",
       "      <td>1</td>\n",
       "      <td>0</td>\n",
       "      <td>0</td>\n",
       "      <td>0</td>\n",
       "      <td>0</td>\n",
       "    </tr>\n",
       "    <tr>\n",
       "      <th>2</th>\n",
       "      <td>28</td>\n",
       "      <td>0.00306</td>\n",
       "      <td>0.620</td>\n",
       "      <td>215613</td>\n",
       "      <td>0.755</td>\n",
       "      <td>0.01180</td>\n",
       "      <td>0.534</td>\n",
       "      <td>-4.617</td>\n",
       "      <td>0.0345</td>\n",
       "      <td>127.994</td>\n",
       "      <td>...</td>\n",
       "      <td>0.333</td>\n",
       "      <td>0</td>\n",
       "      <td>0</td>\n",
       "      <td>0</td>\n",
       "      <td>0</td>\n",
       "      <td>1</td>\n",
       "      <td>0</td>\n",
       "      <td>0</td>\n",
       "      <td>0</td>\n",
       "      <td>0</td>\n",
       "    </tr>\n",
       "    <tr>\n",
       "      <th>3</th>\n",
       "      <td>34</td>\n",
       "      <td>0.02540</td>\n",
       "      <td>0.774</td>\n",
       "      <td>166875</td>\n",
       "      <td>0.700</td>\n",
       "      <td>0.00253</td>\n",
       "      <td>0.157</td>\n",
       "      <td>-4.498</td>\n",
       "      <td>0.2390</td>\n",
       "      <td>128.014</td>\n",
       "      <td>...</td>\n",
       "      <td>0.270</td>\n",
       "      <td>0</td>\n",
       "      <td>0</td>\n",
       "      <td>0</td>\n",
       "      <td>0</td>\n",
       "      <td>1</td>\n",
       "      <td>0</td>\n",
       "      <td>0</td>\n",
       "      <td>0</td>\n",
       "      <td>0</td>\n",
       "    </tr>\n",
       "    <tr>\n",
       "      <th>4</th>\n",
       "      <td>32</td>\n",
       "      <td>0.00465</td>\n",
       "      <td>0.638</td>\n",
       "      <td>222369</td>\n",
       "      <td>0.587</td>\n",
       "      <td>0.90900</td>\n",
       "      <td>0.157</td>\n",
       "      <td>-6.266</td>\n",
       "      <td>0.0413</td>\n",
       "      <td>145.036</td>\n",
       "      <td>...</td>\n",
       "      <td>0.323</td>\n",
       "      <td>0</td>\n",
       "      <td>0</td>\n",
       "      <td>0</td>\n",
       "      <td>0</td>\n",
       "      <td>1</td>\n",
       "      <td>0</td>\n",
       "      <td>0</td>\n",
       "      <td>0</td>\n",
       "      <td>0</td>\n",
       "    </tr>\n",
       "    <tr>\n",
       "      <th>...</th>\n",
       "      <td>...</td>\n",
       "      <td>...</td>\n",
       "      <td>...</td>\n",
       "      <td>...</td>\n",
       "      <td>...</td>\n",
       "      <td>...</td>\n",
       "      <td>...</td>\n",
       "      <td>...</td>\n",
       "      <td>...</td>\n",
       "      <td>...</td>\n",
       "      <td>...</td>\n",
       "      <td>...</td>\n",
       "      <td>...</td>\n",
       "      <td>...</td>\n",
       "      <td>...</td>\n",
       "      <td>...</td>\n",
       "      <td>...</td>\n",
       "      <td>...</td>\n",
       "      <td>...</td>\n",
       "      <td>...</td>\n",
       "      <td>...</td>\n",
       "    </tr>\n",
       "    <tr>\n",
       "      <th>44991</th>\n",
       "      <td>59</td>\n",
       "      <td>0.03340</td>\n",
       "      <td>0.913</td>\n",
       "      <td>-1</td>\n",
       "      <td>0.574</td>\n",
       "      <td>0.00000</td>\n",
       "      <td>0.119</td>\n",
       "      <td>-7.022</td>\n",
       "      <td>0.2980</td>\n",
       "      <td>98.028</td>\n",
       "      <td>...</td>\n",
       "      <td>0.330</td>\n",
       "      <td>0</td>\n",
       "      <td>0</td>\n",
       "      <td>0</td>\n",
       "      <td>0</td>\n",
       "      <td>0</td>\n",
       "      <td>1</td>\n",
       "      <td>0</td>\n",
       "      <td>0</td>\n",
       "      <td>0</td>\n",
       "    </tr>\n",
       "    <tr>\n",
       "      <th>44992</th>\n",
       "      <td>72</td>\n",
       "      <td>0.15700</td>\n",
       "      <td>0.709</td>\n",
       "      <td>251860</td>\n",
       "      <td>0.362</td>\n",
       "      <td>0.00000</td>\n",
       "      <td>0.109</td>\n",
       "      <td>-9.814</td>\n",
       "      <td>0.0550</td>\n",
       "      <td>122.043</td>\n",
       "      <td>...</td>\n",
       "      <td>0.113</td>\n",
       "      <td>0</td>\n",
       "      <td>0</td>\n",
       "      <td>0</td>\n",
       "      <td>0</td>\n",
       "      <td>0</td>\n",
       "      <td>1</td>\n",
       "      <td>0</td>\n",
       "      <td>0</td>\n",
       "      <td>0</td>\n",
       "    </tr>\n",
       "    <tr>\n",
       "      <th>44993</th>\n",
       "      <td>51</td>\n",
       "      <td>0.00597</td>\n",
       "      <td>0.693</td>\n",
       "      <td>189483</td>\n",
       "      <td>0.763</td>\n",
       "      <td>0.00000</td>\n",
       "      <td>0.143</td>\n",
       "      <td>-5.443</td>\n",
       "      <td>0.1460</td>\n",
       "      <td>131.079</td>\n",
       "      <td>...</td>\n",
       "      <td>0.395</td>\n",
       "      <td>0</td>\n",
       "      <td>0</td>\n",
       "      <td>0</td>\n",
       "      <td>0</td>\n",
       "      <td>0</td>\n",
       "      <td>1</td>\n",
       "      <td>0</td>\n",
       "      <td>0</td>\n",
       "      <td>0</td>\n",
       "    </tr>\n",
       "    <tr>\n",
       "      <th>44994</th>\n",
       "      <td>65</td>\n",
       "      <td>0.08310</td>\n",
       "      <td>0.782</td>\n",
       "      <td>262773</td>\n",
       "      <td>0.472</td>\n",
       "      <td>0.00000</td>\n",
       "      <td>0.106</td>\n",
       "      <td>-5.016</td>\n",
       "      <td>0.0441</td>\n",
       "      <td>75.886</td>\n",
       "      <td>...</td>\n",
       "      <td>0.354</td>\n",
       "      <td>0</td>\n",
       "      <td>0</td>\n",
       "      <td>0</td>\n",
       "      <td>0</td>\n",
       "      <td>0</td>\n",
       "      <td>1</td>\n",
       "      <td>0</td>\n",
       "      <td>0</td>\n",
       "      <td>0</td>\n",
       "    </tr>\n",
       "    <tr>\n",
       "      <th>44995</th>\n",
       "      <td>67</td>\n",
       "      <td>0.10200</td>\n",
       "      <td>0.862</td>\n",
       "      <td>267267</td>\n",
       "      <td>0.642</td>\n",
       "      <td>0.00000</td>\n",
       "      <td>0.272</td>\n",
       "      <td>-13.652</td>\n",
       "      <td>0.1010</td>\n",
       "      <td>99.201</td>\n",
       "      <td>...</td>\n",
       "      <td>0.765</td>\n",
       "      <td>0</td>\n",
       "      <td>0</td>\n",
       "      <td>0</td>\n",
       "      <td>0</td>\n",
       "      <td>0</td>\n",
       "      <td>1</td>\n",
       "      <td>0</td>\n",
       "      <td>0</td>\n",
       "      <td>0</td>\n",
       "    </tr>\n",
       "  </tbody>\n",
       "</table>\n",
       "<p>44996 rows × 31 columns</p>\n",
       "</div>"
      ],
      "text/plain": [
       "       popularity  acousticness  danceability  duration_ms  energy  \\\n",
       "0              27       0.00468         0.652           -1   0.941   \n",
       "1              31       0.01270         0.622       218293   0.890   \n",
       "2              28       0.00306         0.620       215613   0.755   \n",
       "3              34       0.02540         0.774       166875   0.700   \n",
       "4              32       0.00465         0.638       222369   0.587   \n",
       "...           ...           ...           ...          ...     ...   \n",
       "44991          59       0.03340         0.913           -1   0.574   \n",
       "44992          72       0.15700         0.709       251860   0.362   \n",
       "44993          51       0.00597         0.693       189483   0.763   \n",
       "44994          65       0.08310         0.782       262773   0.472   \n",
       "44995          67       0.10200         0.862       267267   0.642   \n",
       "\n",
       "       instrumentalness  liveness  loudness  speechiness    tempo  ...  \\\n",
       "0               0.79200     0.115    -5.201       0.0748  100.889  ...   \n",
       "1               0.95000     0.124    -7.043       0.0300  115.002  ...   \n",
       "2               0.01180     0.534    -4.617       0.0345  127.994  ...   \n",
       "3               0.00253     0.157    -4.498       0.2390  128.014  ...   \n",
       "4               0.90900     0.157    -6.266       0.0413  145.036  ...   \n",
       "...                 ...       ...       ...          ...      ...  ...   \n",
       "44991           0.00000     0.119    -7.022       0.2980   98.028  ...   \n",
       "44992           0.00000     0.109    -9.814       0.0550  122.043  ...   \n",
       "44993           0.00000     0.143    -5.443       0.1460  131.079  ...   \n",
       "44994           0.00000     0.106    -5.016       0.0441   75.886  ...   \n",
       "44995           0.00000     0.272   -13.652       0.1010   99.201  ...   \n",
       "\n",
       "       valence  Anime  Blues  Classical  Country  Electronic  Hip-Hop  Jazz  \\\n",
       "0        0.759      0      0          0        0           1        0     0   \n",
       "1        0.531      0      0          0        0           1        0     0   \n",
       "2        0.333      0      0          0        0           1        0     0   \n",
       "3        0.270      0      0          0        0           1        0     0   \n",
       "4        0.323      0      0          0        0           1        0     0   \n",
       "...        ...    ...    ...        ...      ...         ...      ...   ...   \n",
       "44991    0.330      0      0          0        0           0        1     0   \n",
       "44992    0.113      0      0          0        0           0        1     0   \n",
       "44993    0.395      0      0          0        0           0        1     0   \n",
       "44994    0.354      0      0          0        0           0        1     0   \n",
       "44995    0.765      0      0          0        0           0        1     0   \n",
       "\n",
       "       Rap  Rock  \n",
       "0        0     0  \n",
       "1        0     0  \n",
       "2        0     0  \n",
       "3        0     0  \n",
       "4        0     0  \n",
       "...    ...   ...  \n",
       "44991    0     0  \n",
       "44992    0     0  \n",
       "44993    0     0  \n",
       "44994    0     0  \n",
       "44995    0     0  \n",
       "\n",
       "[44996 rows x 31 columns]"
      ]
     },
     "execution_count": 449,
     "metadata": {},
     "output_type": "execute_result"
    }
   ],
   "source": [
    "music_dummies = pd.concat([df_music, music_dummies], axis=1) #oluşturulan dummy değişkenleri işe veri seti birleştirilir\n",
    "music_dummies = music_dummies.drop(['music_genre', 'instance_id'], axis=1) #dummy değişkeniyle değiştirildiği için music_genre veri setinden çıkarılır.\n",
    "music_dummies"
   ]
  },
  {
   "cell_type": "code",
   "execution_count": 453,
   "id": "2893c8b8-ddd3-4072-8042-8ea8ecf330da",
   "metadata": {},
   "outputs": [
    {
     "data": {
      "text/plain": [
       "array([9.55195316, 9.3511157 , 9.426638  , 9.61542024, 9.60686241])"
      ]
     },
     "execution_count": 453,
     "metadata": {},
     "output_type": "execute_result"
    }
   ],
   "source": [
    "# Linear regression with dummy variables\n",
    "\n",
    "from sklearn.model_selection import cross_val_score, KFold, train_test_split\n",
    "from sklearn.linear_model import LinearRegression\n",
    "import numpy as np\n",
    "\n",
    "X = music_dummies.drop('popularity', axis=1).values\n",
    "y = music_dummies['popularity'].values\n",
    "\n",
    "X_train, X_test, y_train, y_test =train_test_split(X, y, test_size=0.2, random_state=42)\n",
    "\n",
    "kf = KFold(n_splits=5, shuffle=True, random_state=42) #modelin genelleme yeteneği ölçülmek için veri seti 5 parçaya bölünür\n",
    "\n",
    "model_reg = LinearRegression() #lineer regreyon modeli oluşturuldu\n",
    "model_reg_cv = cross_val_score(model_reg, X_train, y_train, cv=kf, \n",
    "                               scoring='neg_mean_squared_error') #kfold ile değerlendirilmesi sağlanır. parametresi, modelin doğruluğunu ölçerken negatif ortalama kare hata (MSE) metriğini kullanır. MSE, modelin tahminleri ile gerçek değerler arasındaki farkların karesinin ortalamasıdır. Negatif işareti kullanmak, sklearn'ın hata metriğini minimize etmek için gereklidir, çünkü sklearn genellikle daha büyük değerleri iyi olarak değerlendirir.\n",
    "\n",
    "np.sqrt(-model_reg_cv) #MSE'nin karekökü alınarak RMSE (Root Mean Squared Error) hesaplanır. RMSE, modelin doğruluğunu ölçmek için yaygın olarak kullanılan bir metriktir ve hata oranının daha anlaşılır bir şekilde sunulmasını sağlar.\n"
   ]
  },
  {
   "cell_type": "markdown",
   "id": "12759e8c-321a-4b81-b437-c8cd19af33d7",
   "metadata": {},
   "source": [
    "### SIMPLE IMPUTER:\n",
    "eksik değerleri bir stratejiye göre doldurmak için kullanılır."
   ]
  },
  {
   "cell_type": "code",
   "execution_count": 467,
   "id": "7f09aa8d-b9ea-4e4b-af8f-a59750df2aef",
   "metadata": {},
   "outputs": [],
   "source": [
    "import pandas as pd  # pandas kütüphanesini veri işleme ve analiz için içeri aktarır\n",
    "df_house = pd.read_csv('data/AmesHousing.csv')  # 'AmesHousing.csv' dosyasını df_house veri çerçevesine yükler\n",
    "\n",
    "# Veri çerçevesindeki her sütundaki eksik (NaN) değerlerin sayısını hesaplar ve en fazla eksik veriye sahip sütundan başlayarak sıralar\n",
    "df_house.isna().sum().sort_values(ascending=False)\n",
    "\n",
    "na_series = df_house.isna().sum()  # Her sütundaki eksik veri sayısını hesaplar ve na_series'e atar\n",
    "data_len = len(df_house) * 0.05  # Toplam satır sayısının %5'ini hesaplar, eksik verilerin bu orandan az olup olmadığını görmek için\n",
    "na_series[(na_series < data_len) & (na_series != 0)]  # Eksik veri sayısı toplam satır sayısının %5'inden az olan ve 0'dan farklı olan sütunları filtreler\n",
    "\n",
    "# Eksik veri sayısı %5'ten az olan sütunların isimlerini alır\n",
    "col_names = list(na_series[(na_series <= data_len) & (na_series != 0)].keys())\n",
    "\n",
    "# Belirtilen sütunlardaki eksik verilere sahip satırları çıkarır. 'dropna' fonksiyonu, sadece 'col_names' listesinde yer alan sütunlardaki eksik verilere sahip satırları siler.\n",
    "df_house = df_house.dropna(subset=col_names)\n",
    "\n",
    "# df_house veri çerçevesindeki kategorik sütunların isimlerini alır\n",
    "# select_dtypes(include='object') komutu ile kategorik veri türündeki tüm sütunları seçeriz.\n",
    "object_cols = list(df_house.select_dtypes(include='object').columns)\n",
    "X_cat = df_house[object_cols]  # Kategorik verileri X_cat değişkenine atar.\n",
    "\n",
    "# Kategorik sütunları çıkararak sayısal sütunlardan oluşan yeni bir veri çerçevesi oluşturur.\n",
    "# Bu, modelin eğitimi için sayısal verileri yalnızca kullanmak amacıyla yapılır.\n",
    "X_nums = df_house.drop(object_cols, axis=1)\n",
    "\n",
    "# Bağımlı değişkeni (SalePrice) bağımsız değişkenlerden ayırır ve bağımlı değişkeni y olarak atar.\n",
    "# 'SalePrice' sütunu hedef değişken olup, modelin tahmin etmeye çalıştığı değeri temsil eder.\n",
    "y = X_nums['SalePrice'].values.reshape(-1, 1)  # 'SalePrice' sütunu bağımlı değişken olarak seçilir ve 2D array'e dönüştürülür.\n",
    "\n",
    "# 'SalePrice' sütununu X_nums veri çerçevesinden çıkarır, böylece X_nums sadece bağımsız değişkenlerden oluşur.\n",
    "# Burada, modelin eğitiminde kullanılacak olan bağımsız değişkenlerin bulunduğu veri çerçevesi oluşturulmuş olur.\n",
    "X_nums.drop('SalePrice', inplace=True, axis=1)  # 'SalePrice' bağımsız değişkenler arasından çıkarılır ve X_nums sadece bağımsız değişkenleri içerir.\n"
   ]
  },
  {
   "cell_type": "code",
   "execution_count": 469,
   "id": "a1218d6b-1e82-48a8-aa5c-0901fec57869",
   "metadata": {},
   "outputs": [],
   "source": [
    "from sklearn.model_selection import train_test_split\n",
    "\n",
    "# X_cat ve X_nums veri setlerini, bağımlı değişken y ile birlikte %80 eğitim ve %20 test olarak ayırır.\n",
    "X_train_cat, X_test_cat, y_train_cat, y_test_cat = train_test_split(X_cat, y, test_size=0.2, random_state=42)\n",
    "X_train_nums, X_test_nums, y_train_nums, y_test_nums = train_test_split(X_nums, y, test_size=0.2, random_state=42)\n",
    "\n",
    "from sklearn.impute import SimpleImputer\n",
    "\n",
    "# Kategorik verilerdeki eksik değerleri doldurmak için SimpleImputer kullanılır.\n",
    "# Bu durumda, eksik değerler en sık görülen (most frequent) değere göre doldurulacaktır.\n",
    "imp_cat = SimpleImputer(strategy=\"most_frequent\")\n",
    "X_train_cat = imp_cat.fit_transform(X_train_cat)  # Eğitim setindeki eksik değerler, en sık görülen değerle doldurulur\n",
    "X_test_cat = imp_cat.fit_transform(X_test_cat)    # Test setindeki eksik değerler de en sık görülen değerle doldurulur\n",
    "\n",
    "# Sayısal verilerdeki eksik değerleri doldurmak için SimpleImputer kullanılır.\n",
    "# Burada eksik değerler, sayısal sütunların ortalamasıyla doldurulacaktır.\n",
    "imp_num = SimpleImputer()  # Varsayılan olarak strategy='mean' yani ortalama ile doldurma yapılır.\n",
    "X_train_nums = imp_num.fit_transform(X_train_nums)  # Eğitim setindeki eksik sayısal değerler ortalama ile doldurulur\n",
    "X_test_nums = imp_num.fit_transform(X_test_nums)    # Test setindeki eksik sayısal değerler de ortalama ile doldurulur\n",
    "X_train = np.append(X_train_nums, X_train_cat, axis=1)  # Sayısal veriler (X_train_nums) ve kategorik veriler (X_train_cat) birleştirilir. axis=1 parametresi, sütunlar boyunca birleştirme yapar.\n",
    "X_test = np.append(X_test_nums, X_test_cat, axis=1)    # Test setindeki sayısal veriler (X_test_nums) ve kategorik veriler (X_test_cat) birleştirilir."
   ]
  },
  {
   "cell_type": "markdown",
   "id": "a5db75ea-5167-4c97-be45-a697219b9832",
   "metadata": {},
   "source": [
    "### PIPELINE:\n",
    "Pipeline, makine öğrenimi ve veri işleme işlemlerini adım adım düzenli bir şekilde birbirine bağlayan bir işlem hattı (workflow) oluşturur. Bu, özellikle veri ön işleme ve modelleme işlemlerini tek bir nesneyle yönetmek için oldukça faydalıdır.\n",
    "\n",
    "**`Pipeline`** kullanarak verileri işlemeden başlayıp bir modelle tahmin yapmaya kadar bir dizi işlem gerçekleştiren bir makine öğrenimi modelini oluşturur. **Pipeline** kullanımı, işlem adımlarının düzenli ve tekrarlanabilir bir şekilde uygulanmasını sağlar"
   ]
  },
  {
   "cell_type": "code",
   "execution_count": null,
   "id": "80e6a833-d57a-4139-a73c-b710b89600f2",
   "metadata": {},
   "outputs": [],
   "source": [
    "from sklearn.pipeline import Pipeline  # Pipeline sınıfını içeri aktarır, ardışık işlemleri düzenlemek için kullanılır\n",
    "import pandas as pd  # pandas kütüphanesini veri işleme ve analiz için içeri aktarır\n",
    "\n",
    "df_music = pd.read_csv('data/music_clean.csv')  # 'music_clean.csv' dosyasını df_music veri çerçevesine yükler\n",
    "df_music = df_music.dropna(subset=['genre', 'popularity', 'loudness', 'liveness', 'tempo'])  # Belirtilen sütunlarda eksik veri bulunan satırlar çıkarılır\n",
    "\n",
    "X = df_music.drop('genre', axis=1).values  # 'genre' dışında kalan tüm sütunlar bağımsız değişkenler olarak X'e atanır\n",
    "y = df_music['genre'].values  # 'genre' sütunu bağımlı değişken olarak y'ye atanır\n",
    "\n",
    "# Bir ardışık düzende, son adım hariç her adımın bir dönüştürücü olması gerektiği unutulmamalıdır\n",
    "# Bu açıklama, pipeline içerisinde kullanılan her bir adımın bir veri dönüştürücü (transformer) olması gerektiğini belirtir.\n",
    "\n",
    "from sklearn.linear_model import LogisticRegression  # LogisticRegression modelini içeri aktarır\n",
    "\n",
    "# Pipeline içerisinde yapılacak işlemler sırasıyla tanımlanır: \n",
    "# 1. Eksik verilerin doldurulması (SimpleImputer ile)\n",
    "# 2. Lojistik regresyon modelinin uygulanması\n",
    "steps = [\n",
    "    ('imputation', SimpleImputer()),  # Eksik veriler SimpleImputer ile doldurulacak\n",
    "    ('logistic_regression', LogisticRegression())  # Lojistik regresyon modeli uygulanacak\n",
    "]\n",
    "\n",
    "pipeline = Pipeline(steps=steps)  # Tanımlanan adımları içeren pipeline oluşturulur\n",
    "\n",
    "# Veriyi eğitim ve test setlerine ayırır\n",
    "X_train, X_test, y_train, y_test = train_test_split(X, y, test_size=0.2, random_state=42)  # %80 eğitim, %20 test seti olarak ayırır\n",
    "\n",
    "pipeline.fit(X_train, y_train)  # Pipeline içerisindeki tüm adımlar sırasıyla eğitim seti üzerinde çalıştırılır ve model eğitilir\n",
    "pipeline.score(X_test, y_test)  # Test seti üzerinde modelin doğruluğu hesaplanır\n"
   ]
  },
  {
   "cell_type": "markdown",
   "id": "a32a27e0-50f4-48e3-85b5-2f132c39caa8",
   "metadata": {},
   "source": [
    "### STANDART SCALER:\n",
    "StandardScaler (Standartlaştırıcı), veri ön işleme (preprocessing) adımlarında yaygın olarak kullanılan bir tekniktir. Verilerin özelliklerini (sütunlarını) ortalama 0 ve standart sapma 1 olacak şekilde ölçeklendiren bir araçtır. Veri setindeki her bir özelliğin (özellikle sayısal sütunların) dağılımını standartlaştırarak modelleme sürecine uygun hale getirir."
   ]
  },
  {
   "cell_type": "code",
   "execution_count": 476,
   "id": "bcdc40a0-4848-4fd5-b295-008869166223",
   "metadata": {},
   "outputs": [
    {
     "name": "stdout",
     "output_type": "stream",
     "text": [
      "23100.432767763512 72094.37978367604\n",
      "-2.132128274398108e-15 1.000000000000005\n"
     ]
    }
   ],
   "source": [
    "import pandas as pd  # pandas kütüphanesini veri işleme ve analiz için içeri aktarır\n",
    "\n",
    "df_music = pd.read_csv('data/music_genre.csv')  # 'music_genre.csv' dosyasını df_music veri çerçevesine yükler\n",
    "\n",
    "df_music.describe().T  # df_music veri çerçevesinin sayısal sütunlarıyla ilgili temel istatistiksel bilgileri gösterir. .T ile veriler transpose (satır-sütun değiştirerek) yapılır.\n",
    "\n",
    "from sklearn.preprocessing import StandardScaler  # Verileri standartlaştırmak için StandardScaler sınıfını içeri aktarır\n",
    "from sklearn.model_selection import train_test_split  # Eğitim ve test verisine ayırmak için train_test_split fonksiyonunu içeri aktarır\n",
    "import numpy as np  # Sayısal işlemler için numpy kütüphanesini içeri aktarır\n",
    "\n",
    "# 'music_genre' sütunu hariç tüm sütunları bağımsız değişkenler olarak seçer\n",
    "X = df_music.drop('music_genre', axis=1).values  # Bağımsız değişkenler X olarak atanır\n",
    "y = df_music['music_genre'].values  # Bağımlı değişken (hedef) olan 'music_genre' y olarak atanır\n",
    "\n",
    "# Veriyi eğitim (%80) ve test (%20) setlerine ayırır. random_state=42, işlemin tekrar edilebilirliğini sağlar.\n",
    "X_train, X_test, y_train, y_test = train_test_split(X, y, test_size=0.2, random_state=42)\n",
    "\n",
    "scaler = StandardScaler()  # Verileri standartlaştırmak için StandardScaler nesnesi oluşturulur\n",
    "X_train_scaled = scaler.fit_transform(X_train)  # Eğitim verileri üzerinde standardizasyon işlemi yapılır\n",
    "X_test_scaled = scaler.fit_transform(X_test)    # Test verileri üzerinde standardizasyon işlemi yapılır\n",
    "\n",
    "# Orijinal verilerin ortalaması ve standart sapması hesaplanır\n",
    "print(np.mean(X), np.std(X))  # Orijinal X verilerinin (standartlaştırılmamış) ortalama ve standart sapması yazdırılır\n",
    "\n",
    "# Standardize edilmiş eğitim verilerinin ortalaması ve standart sapması hesaplanır\n",
    "print(np.mean(X_train_scaled), np.std(X_train_scaled))  # Standardize edilmiş X_train verilerinin ortalama ve standart sapması yazdırılır\n"
   ]
  },
  {
   "cell_type": "code",
   "execution_count": 481,
   "id": "a2e7cec0-61a6-4762-aeaa-7ce28bf3c8cc",
   "metadata": {},
   "outputs": [
    {
     "data": {
      "text/plain": [
       "0.48088888888888887"
      ]
     },
     "execution_count": 481,
     "metadata": {},
     "output_type": "execute_result"
    }
   ],
   "source": [
    "from sklearn.pipeline import Pipeline  # Pipeline sınıfını içeri aktarır, ardışık işlemleri düzenlemek için kullanılır\n",
    "from sklearn.neighbors import KNeighborsClassifier  # KNN sınıflandırıcı sınıfını içeri aktarır\n",
    "\n",
    "# Pipeline içerisindeki adımlar belirlenir:\n",
    "# 1. 'scaler' adımında veriler StandardScaler ile standartlaştırılacak.\n",
    "# 2. 'knn' adımında K-en yakın komşu (KNN) sınıflandırıcı kullanılacak.\n",
    "steps = [\n",
    "    ('scaler', StandardScaler()),  # İlk adım: Verileri standartlaştırmak için StandardScaler kullanılır.\n",
    "    ('knn', KNeighborsClassifier(n_neighbors=6))  # İkinci adım: K-en yakın komşu sınıflandırıcı (KNN) kullanılır, n_neighbors=6 ile 6 komşu dikkate alınır.\n",
    "]\n",
    "\n",
    "# Pipeline içerisinde belirlenen adımlar birleştirilir ve pipeline nesnesi oluşturulur.\n",
    "pipeline = Pipeline(steps)\n",
    "\n",
    "# Eğitim verisini kullanarak pipeline'daki işlemler sırasıyla gerçekleştirilir:\n",
    "# 1. Eğitim verileri standartlaştırılır (scaler).\n",
    "# 2. KNN sınıflandırıcısı eğitim verileri üzerinde eğitilir.\n",
    "knn_scaled = pipeline.fit(X_train, y_train)\n",
    "\n",
    "# Test verisi üzerinde tahmin yapılır: Test verisi, ilk adımda standartlaştırılır ve ardından KNN sınıflandırıcısı ile tahmin yapılır.\n",
    "y_pred = knn_scaled.predict(X_test)\n",
    "\n",
    "# Modelin doğruluğu hesaplanır: Test verisi ile yapılan tahminlerin doğruluğu ölçülür.\n",
    "# Sonuç, test verisindeki doğru sınıflandırmaların oranıdır.\n",
    "knn_scaled.score(X_test, y_test)  # Test verisinde doğruluk oranı hesaplanır ve döndürülür\n"
   ]
  },
  {
   "cell_type": "code",
   "execution_count": 479,
   "id": "d208d7bb-b30b-4241-aa97-df2f42aafb26",
   "metadata": {},
   "outputs": [
    {
     "data": {
      "text/plain": [
       "0.1272222222222222"
      ]
     },
     "execution_count": 479,
     "metadata": {},
     "output_type": "execute_result"
    }
   ],
   "source": [
    "# Comparing performance using unscaled data\n",
    "\n",
    "# KNeighborsClassifier sınıfını kullanarak bir model oluşturuluyor.\n",
    "# Bu model, **veri standartlaştırılmadan** (ölçeklenmeden) eğitim verileri üzerinde eğitilir.\n",
    "knn_unscaled = KNeighborsClassifier(n_neighbors=6).fit(X_train, y_train)  # Eğitim verisi ile model eğitilir\n",
    "\n",
    "# Modelin test verisi üzerindeki doğruluğu hesaplanır.\n",
    "# Bu işlem, test setindeki doğru sınıflandırmaların oranını döndürür.\n",
    "knn_unscaled.score(X_test, y_test)  # Test verisi ile doğruluk oranı hesaplanır\n"
   ]
  },
  {
   "cell_type": "code",
   "execution_count": 483,
   "id": "4ce851d9-429d-45ae-8d2e-976d42361fb1",
   "metadata": {},
   "outputs": [
    {
     "data": {
      "text/plain": [
       "(0.5193075581485083, {'knn__n_neighbors': 38})"
      ]
     },
     "execution_count": 483,
     "metadata": {},
     "output_type": "execute_result"
    }
   ],
   "source": [
    "from sklearn.model_selection import GridSearchCV  # GridSearchCV sınıfını içeri aktarır, hiperparametre optimizasyonu için kullanılır\n",
    "import numpy as np  # Sayısal işlemler için numpy kütüphanesini içeri aktarır\n",
    "\n",
    "# Pipeline içerisinde yapılacak işlemler sırasıyla tanımlanır:\n",
    "# 1. 'scaler' adımında veriler StandardScaler ile standartlaştırılacak.\n",
    "# 2. 'knn' adımında K-en yakın komşu (KNN) sınıflandırıcı kullanılacak.\n",
    "steps = [\n",
    "    ('scaler', StandardScaler()),  # İlk adım: Veriler standartlaştırılacak\n",
    "    ('knn', KNeighborsClassifier())  # İkinci adım: K-en yakın komşu sınıflandırıcısı (KNN) uygulanacak\n",
    "]\n",
    "\n",
    "# Pipeline içerisinde belirlenen adımlar birleştirilir ve pipeline nesnesi oluşturulur.\n",
    "pipeline = Pipeline(steps)\n",
    "\n",
    "# Hiperparametre grid'ini tanımlar: Burada 'knn' modelinin 'n_neighbors' parametresi için 1'den 50'ye kadar olan değerler denenir.\n",
    "parameters = {\"knn__n_neighbors\" : np.arange(1, 50)}  # 'knn__n_neighbors' parametresi 1 ile 50 arasında ayarlanacak\n",
    "\n",
    "# GridSearchCV, verilen parametrelerin her kombinasyonunu deneyerek en iyi parametreyi bulur\n",
    "cv = GridSearchCV(pipeline, param_grid=parameters)  # Pipeline içerisinde hiperparametre grid'ini kullanarak GridSearchCV nesnesi oluşturulur\n",
    "\n",
    "# Eğitim verisi üzerinde GridSearchCV uygulanır\n",
    "cv.fit(X_train, y_train)  # GridSearchCV ile belirtilen parametrelerle model eğitilir\n",
    "\n",
    "# En iyi performans ve parametreler yazdırılır\n",
    "(cv.best_score_, cv.best_params_)  # GridSearchCV'nin bulduğu en iyi doğruluk (score) ve en iyi parametreler döndürülür\n"
   ]
  },
  {
   "cell_type": "code",
   "execution_count": 484,
   "id": "7528032b-5793-4fd0-8452-228cf3071ee3",
   "metadata": {},
   "outputs": [
    {
     "name": "stderr",
     "output_type": "stream",
     "text": [
      "/var/folders/zf/gnk755n14rj48wl97n0lv_0w0000gn/T/ipykernel_1908/2990527257.py:38: MatplotlibDeprecationWarning: The 'labels' parameter of boxplot() has been renamed 'tick_labels' since Matplotlib 3.9; support for the old name will be dropped in 3.11.\n",
      "  plt.boxplot(results, labels=models.keys())  # Boxplot, her modelin doğruluk dağılımını gösterir\n"
     ]
    },
    {
     "data": {
      "text/plain": [
       "{'whiskers': [<matplotlib.lines.Line2D at 0x1636734d0>,\n",
       "  <matplotlib.lines.Line2D at 0x163673c50>,\n",
       "  <matplotlib.lines.Line2D at 0x1636714c0>,\n",
       "  <matplotlib.lines.Line2D at 0x163671040>,\n",
       "  <matplotlib.lines.Line2D at 0x161d502c0>,\n",
       "  <matplotlib.lines.Line2D at 0x161d50a10>],\n",
       " 'caps': [<matplotlib.lines.Line2D at 0x1636728a0>,\n",
       "  <matplotlib.lines.Line2D at 0x1636728d0>,\n",
       "  <matplotlib.lines.Line2D at 0x163670c20>,\n",
       "  <matplotlib.lines.Line2D at 0x163673a10>,\n",
       "  <matplotlib.lines.Line2D at 0x161d50e30>,\n",
       "  <matplotlib.lines.Line2D at 0x161d51040>],\n",
       " 'boxes': [<matplotlib.lines.Line2D at 0x161c92600>,\n",
       "  <matplotlib.lines.Line2D at 0x1636717f0>,\n",
       "  <matplotlib.lines.Line2D at 0x161d50860>],\n",
       " 'medians': [<matplotlib.lines.Line2D at 0x163672510>,\n",
       "  <matplotlib.lines.Line2D at 0x163670170>,\n",
       "  <matplotlib.lines.Line2D at 0x161d51310>],\n",
       " 'fliers': [<matplotlib.lines.Line2D at 0x163671d90>,\n",
       "  <matplotlib.lines.Line2D at 0x161d50980>,\n",
       "  <matplotlib.lines.Line2D at 0x161d51610>],\n",
       " 'means': []}"
      ]
     },
     "execution_count": 484,
     "metadata": {},
     "output_type": "execute_result"
    },
    {
     "data": {
      "image/png": "[encoded data removed]",
      "text/plain": [
       "<Figure size 640x480 with 1 Axes>"
      ]
     },
     "metadata": {},
     "output_type": "display_data"
    }
   ],
   "source": [
    "import matplotlib.pyplot as plt  # Görselleştirme için matplotlib kütüphanesini içeri aktarır\n",
    "\n",
    "from sklearn.preprocessing import StandardScaler  # Veriyi standartlaştırmak için StandardScaler sınıfını içeri aktarır\n",
    "from sklearn.model_selection import cross_val_score, KFold, train_test_split  # Veri bölme ve çapraz doğrulama için gerekli sınıflar içeri aktarılır\n",
    "from sklearn.neighbors import KNeighborsClassifier  # KNN sınıflandırıcı sınıfını içeri aktarır\n",
    "from sklearn.linear_model import LogisticRegression  # Lojistik regresyon sınıfını içeri aktarır\n",
    "from sklearn.tree import DecisionTreeClassifier  # Karar ağacı sınıflandırıcı sınıfını içeri aktarır\n",
    "\n",
    "df_music = pd.read_csv(\"data/music_clean.csv\")  # 'music_clean.csv' dosyasını df_music veri çerçevesine yükler\n",
    "\n",
    "X = df_music.drop('genre', axis=1).values  # 'genre' dışındaki tüm sütunlar bağımsız değişkenler (X) olarak seçilir\n",
    "y = df_music['genre'].values  # 'genre' sütunu bağımlı değişken (y) olarak seçilir\n",
    "\n",
    "# Eğitim ve test verisi olarak %80 eğitim, %20 test ayrılır. random_state=42, işlemi tekrarladığınızda aynı bölmeyi sağlar.\n",
    "X_train, X_test, y_train, y_test = train_test_split(X, y, test_size=0.2, random_state=42)\n",
    "\n",
    "# Veriyi standartlaştırmak için StandardScaler sınıfı kullanılır. Eğitim ve test verilerine ayrı ayrı uygulanır.\n",
    "scaler = StandardScaler()  # StandardScaler nesnesi oluşturulur\n",
    "X_train_scaled = scaler.fit_transform(X_train)  # Eğitim verileri üzerinde fit işlemi yapılır ve veriler dönüştürülür\n",
    "X_test_scaled = scaler.fit_transform(X_test)    # Test verileri üzerinde fit işlemi yapılır ve veriler dönüştürülür\n",
    "\n",
    "# Kullanılacak modellerin tanımlandığı bir sözlük oluşturulur. \n",
    "models = {\n",
    "    \"Logistic Regression\" : LogisticRegression(),  # Lojistik regresyon modeli\n",
    "    \"KNN\": KNeighborsClassifier(),  # KNN sınıflandırıcısı\n",
    "    \"Decision Tree\": DecisionTreeClassifier()  # Karar ağacı sınıflandırıcısı\n",
    "}\n",
    "\n",
    "results = []  # Çapraz doğrulama sonuçlarını saklayacak boş bir liste oluşturulur\n",
    "\n",
    "# Modellerin her birini sırasıyla test eder ve sonuçları 'results' listesine ekler\n",
    "for model in models.values():\n",
    "    kf = KFold(n_splits=6, random_state=True, shuffle=True)  # KFold ile 6 katmanlı çapraz doğrulama yapılır\n",
    "    cv_results = cross_val_score(model, X_train_scaled, y_train, cv=kf)  # Modelin doğruluğu çapraz doğrulama ile hesaplanır\n",
    "    results.append(cv_results)  # Hesaplanan doğruluk sonuçları 'results' listesine eklenir\n",
    "\n",
    "# Modellerin doğruluk sonuçlarını görselleştirmek için boxplot çizilir\n",
    "plt.boxplot(results, labels=models.keys())  # Boxplot, her modelin doğruluk dağılımını gösterir\n",
    "\n"
   ]
  },
  {
   "cell_type": "markdown",
   "id": "1c2ed11a-e23d-450e-8a41-0b2735a74a48",
   "metadata": {},
   "source": [
    "KNN modelinin doğruluk dağılımı en geniş olan modeldir ve uç değerler dikkat çekicidir. Bu, parametre ayarlamaları (örneğin, komşu sayısı) ile iyileştirilebilir.\n",
    "Karar Ağacı daha belirsiz sonuçlar verir ve doğruluk dağılımı oldukça yayılmıştır. Bu, modelin bazen çok iyi, bazen de çok kötü sonuçlar verdiğini gösterir.\n",
    "Lojistik Regresyon ise genellikle sabit ve yüksek doğruluk değerleri üretmektedir. Bu, modelin doğruluğunun daha istikrarlı olduğunu gösterir."
   ]
  },
  {
   "cell_type": "code",
   "execution_count": null,
   "id": "5d59889d-2a79-48f1-9a10-ef84aaa3b407",
   "metadata": {},
   "outputs": [],
   "source": []
  }
 ],
 "metadata": {
  "kernelspec": {
   "display_name": "Python 3 (ipykernel)",
   "language": "python",
   "name": "python3"
  },
  "language_info": {
   "codemirror_mode": {
    "name": "ipython",
    "version": 3
   },
   "file_extension": ".py",
   "mimetype": "text/x-python",
   "name": "python",
   "nbconvert_exporter": "python",
   "pygments_lexer": "ipython3",
   "version": "3.12.4"
  }
 },
 "nbformat": 4,
 "nbformat_minor": 5
}
