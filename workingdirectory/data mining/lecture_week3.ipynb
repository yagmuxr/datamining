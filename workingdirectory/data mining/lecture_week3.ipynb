{
 "cells": [
  {
   "cell_type": "code",
   "execution_count": null,
   "id": "384c52b9-5602-43a4-b45a-791b6bb5b12a",
   "metadata": {},
   "outputs": [],
   "source": [
    "# sürekli dağılımlar: tam sayı olmadığı için yani olasılık tam sayı ile ifade \n",
    "#edilmedeiğinde bir çzigi şeklinde ifade edilir. sürekli düzgün dağılım adı verilir.\n",
    "# olasılık dağılımında altta kalan tüm alan 1'e eşittir\n",
    "# bimodal dist: sürekli dağılımlar bazi değerlerinin daha yüksek olduğu tekdüze olmayan biçimler alabilir\n",
    "# normal dağılım: en popüler. şekli çan eğrisi şeklindedir: tansiyon ve emeklilik yaşı. verilerin nprmal dağılıma uydurulmaya çalışılır.\n",
    "#her dağılımın cdf fonksiyonu kullanılır latta kalan alan hesaplanırken"
   ]
  },
  {
   "cell_type": "code",
   "execution_count": 13,
   "id": "f4db8d9f-8a13-4675-9f4e-da4ba7ee0839",
   "metadata": {},
   "outputs": [
    {
     "data": {
      "text/plain": [
       "0.5833333333333334"
      ]
     },
     "execution_count": 13,
     "metadata": {},
     "output_type": "execute_result"
    }
   ],
   "source": [
    "from scipy.stats import uniform #altta kalan. başka dağılımlar için de geçerlidir bu\n",
    "uniform.cdf(7,0,12)#7den küçük olma olasılığı, 0'dan 12'ye kadar!"
   ]
  },
  {
   "cell_type": "code",
   "execution_count": 3,
   "id": "fa72982e-4183-44ce-8ac8-73f74d7c5639",
   "metadata": {},
   "outputs": [
    {
     "data": {
      "text/plain": [
       "0.41666666666666663"
      ]
     },
     "execution_count": 3,
     "metadata": {},
     "output_type": "execute_result"
    }
   ],
   "source": [
    "1 - uniform.cdf(7,0,12)"
   ]
  },
  {
   "cell_type": "code",
   "execution_count": 17,
   "id": "7b4084a9-a27c-43a0-8cc3-92604a46671c",
   "metadata": {},
   "outputs": [
    {
     "data": {
      "text/plain": [
       "array([8.71165853, 0.9002075 , 6.50132609, 7.90083007, 3.48929529])"
      ]
     },
     "execution_count": 17,
     "metadata": {},
     "output_type": "execute_result"
    }
   ],
   "source": [
    "uniform.rvs(0,10,size=5)"
   ]
  },
  {
   "cell_type": "code",
   "execution_count": 5,
   "id": "f96e4ec6-fe8f-421d-a28f-7eccf154232d",
   "metadata": {},
   "outputs": [
    {
     "data": {
      "text/plain": [
       "0.33333333333333337"
      ]
     },
     "execution_count": 5,
     "metadata": {},
     "output_type": "execute_result"
    }
   ],
   "source": [
    "uniform.cdf(7,0,12) - uniform.cdf(7,4,12) "
   ]
  },
  {
   "cell_type": "code",
   "execution_count": 17,
   "id": "2b0f924c-ec0b-4e50-8321-dfc18eeeb23f",
   "metadata": {},
   "outputs": [
    {
     "data": {
      "text/plain": [
       "array([0.43291092, 4.02307956, 1.97213263, 1.01207317, 1.68885555,\n",
       "       0.71401487, 3.36869825, 3.69077878, 0.39814114, 4.06739263])"
      ]
     },
     "execution_count": 17,
     "metadata": {},
     "output_type": "execute_result"
    }
   ],
   "source": [
    "# uniform dağılımına göre rastgele sayılar üretme\n",
    "uniform.rvs(0,5, size=10) #0 ile 5 arasından 10 rastgele sayı üret bir de random_state var her seferinde aynı sayıları random olarak vermeye \n",
    "yarar"
   ]
  },
  {
   "cell_type": "code",
   "execution_count": 7,
   "id": "6e8330ce-7cba-4487-95c0-c75bc7d41635",
   "metadata": {},
   "outputs": [
    {
     "data": {
      "text/plain": [
       "1.0"
      ]
     },
     "execution_count": 7,
     "metadata": {},
     "output_type": "execute_result"
    }
   ],
   "source": [
    "uniform.cdf(7,0,3)"
   ]
  },
  {
   "cell_type": "code",
   "execution_count": null,
   "id": "8bd322ae-f842-46ea-bb79-e381418fbcf8",
   "metadata": {},
   "outputs": [],
   "source": [
    "#binominal dist: bir bağımsız denemedeki başarı sayısının olasılığını tanımlar\n",
    "# n= kaç defa p=başarılı olma olasılığı. dicrete bir \n",
    "# yine alan hesaplanır! expected value = ortalama değerdir -> binomda n * p 'dir!"
   ]
  },
  {
   "cell_type": "code",
   "execution_count": null,
   "id": "9b3cd833-a136-46ca-9888-c545d2c318d2",
   "metadata": {},
   "outputs": [],
   "source": [
    "#random binom\n",
    "binom.rvs(n,p, loc=0,size=1,random_state=None)"
   ]
  },
  {
   "cell_type": "code",
   "execution_count": 19,
   "id": "08e4d403-21a5-4634-bb07-67cbe0aeac7d",
   "metadata": {},
   "outputs": [
    {
     "data": {
      "text/plain": [
       "array([1])"
      ]
     },
     "execution_count": 19,
     "metadata": {},
     "output_type": "execute_result"
    }
   ],
   "source": [
    "from scipy.stats import binom\n",
    "binom.rvs(1, 0.5, size=1) # bir parayı atıyoruz, 0.5 olasılık var ve 1 defa atoıyoruz"
   ]
  },
  {
   "cell_type": "code",
   "execution_count": 21,
   "id": "31beb3eb-040d-416e-89ec-cc894cedaebb",
   "metadata": {},
   "outputs": [
    {
     "data": {
      "text/plain": [
       "array([1, 0, 0, 0, 1, 0, 1, 0])"
      ]
     },
     "execution_count": 21,
     "metadata": {},
     "output_type": "execute_result"
    }
   ],
   "source": [
    "binom.rvs(1, 0.5, size=8)"
   ]
  },
  {
   "cell_type": "code",
   "execution_count": 23,
   "id": "97dcd110-6462-4eb3-82d6-1b4145d438c5",
   "metadata": {},
   "outputs": [
    {
     "data": {
      "text/plain": [
       "array([6])"
      ]
     },
     "execution_count": 23,
     "metadata": {},
     "output_type": "execute_result"
    }
   ],
   "source": [
    "binom.rvs(8, 0.5, size=1) # 8 parayı havaya atıyoruz"
   ]
  },
  {
   "cell_type": "code",
   "execution_count": 27,
   "id": "08e066af-8014-4de7-96e7-1fcd1a2bd230",
   "metadata": {},
   "outputs": [
    {
     "data": {
      "text/plain": [
       "array([0, 0, 2, 1, 1, 2, 2, 2, 2, 1])"
      ]
     },
     "execution_count": 27,
     "metadata": {},
     "output_type": "execute_result"
    }
   ],
   "source": [
    "binom.rvs(3, 0.5, size=10) # 3 tane parayı 10 kere havaya attığında kaç tane başarılı geldi?"
   ]
  },
  {
   "cell_type": "code",
   "execution_count": null,
   "id": "02fd9844-2ca1-4b05-a9de-7a4d3aefa696",
   "metadata": {},
   "outputs": [],
   "source": [
    "#bir tarafı daha ağır para. yüzde 25 tura\n",
    "binom.rvs(3,0.25,size=10) #tura gelme olasılığı, eğer yazı isteseydik yüzde 75 olurdu"
   ]
  },
  {
   "cell_type": "code",
   "execution_count": null,
   "id": "68f4078f-632a-4dc1-9c7f-a4a2400dc942",
   "metadata": {},
   "outputs": [],
   "source": [
    "# olasılık kğtle fonksiyonu - kesikli dağılım. belli bir olasılıkla kesikli değer alma ihtimalini açıklar. kesikli bir rastgele değişkenin belirli bir değeri alma olasılığını hesaplar\n",
    "# scipy.stats.pmf(k:başarı sayısı, n,p:başarı, loc)"
   ]
  },
  {
   "cell_type": "code",
   "execution_count": 29,
   "id": "f7d1e496-7a90-44f4-9a7f-e0d5eac70576",
   "metadata": {},
   "outputs": [
    {
     "data": {
      "text/plain": [
       "0.11718750000000004"
      ]
     },
     "execution_count": 29,
     "metadata": {},
     "output_type": "execute_result"
    }
   ],
   "source": [
    "# 10 jetondan 7sinin yazı gelme olasılığı\n",
    "binom.pmf(7,10,0.5)"
   ]
  },
  {
   "cell_type": "code",
   "execution_count": 31,
   "id": "2addcbf8-650d-4e25-9286-ebe89a481d04",
   "metadata": {},
   "outputs": [
    {
     "data": {
      "text/plain": [
       "0.9453125"
      ]
     },
     "execution_count": 31,
     "metadata": {},
     "output_type": "execute_result"
    }
   ],
   "source": [
    "# 7 ve daha az gelme olasılığı!\n",
    "binom.cdf(7,10,0.5)"
   ]
  },
  {
   "cell_type": "code",
   "execution_count": 33,
   "id": "5c6a8061-0398-493a-8dad-42bd0ed1796a",
   "metadata": {},
   "outputs": [
    {
     "data": {
      "text/plain": [
       "0.0546875"
      ]
     },
     "execution_count": 33,
     "metadata": {},
     "output_type": "execute_result"
    }
   ],
   "source": [
    "# 7'den fazla yazı gelme\n",
    "1 - binom.cdf(7,10,0.5)"
   ]
  },
  {
   "cell_type": "code",
   "execution_count": null,
   "id": "ab917e29-0dc9-43ef-a50e-20da7934cd75",
   "metadata": {},
   "outputs": [],
   "source": [
    "# normal dağılım: gerçek dünya verisi\n",
    "# simetriktir. \n",
    "# eğrinin altında kalan alan 1'e eşittik (tüm olasılık dağılımlarında)\n",
    "# uçları öyle görünse de olasılık hiçbir zaman 0'a ulaşmaz\n",
    "# orta çizgi ortalamayı (expected value)'yu gösterir\n",
    "# m (mü) = ort , v = standart sapma\n",
    "# verilerin yüzde 68'i bir standart sapma altında ve üstündedir\n",
    "# iki ss üstünde ve altında yüzde 95\n",
    "# yüzde 99.7 3 ss altında ve üstündedir\n",
    "# 3 ss altının da altındaysa outline (?) iqr yerine ss de kullanılabilir yani eğer veriler normal dağılıyorsa\n",
    "# 68-95-99.7 -> 3ss ifade eder\n",
    "# ort 0 ve ss 1 olan dağılıma standart-normal dağılım denir\n"
   ]
  },
  {
   "cell_type": "code",
   "execution_count": 1,
   "id": "462cfa19-85b3-46a9-9442-1f2bbc090faf",
   "metadata": {},
   "outputs": [
    {
     "data": {
      "text/plain": [
       "0.15865525393145707"
      ]
     },
     "execution_count": 1,
     "metadata": {},
     "output_type": "execute_result"
    }
   ],
   "source": [
    "# ort 161 cm ve ss 7 olan , 154den kısa kadınlar\n",
    "from scipy.stats import norm\n",
    "norm.cdf(154,161,7) #loc-> ort scale -> ss"
   ]
  },
  {
   "cell_type": "code",
   "execution_count": 41,
   "id": "caff81f5-5ca2-4950-9d20-11963d132af5",
   "metadata": {},
   "outputs": [
    {
     "data": {
      "text/plain": [
       "0.8413447460685429"
      ]
     },
     "execution_count": 41,
     "metadata": {},
     "output_type": "execute_result"
    }
   ],
   "source": [
    "#154den uzun\n",
    "1 -norm.cdf(154,161,7)"
   ]
  },
  {
   "cell_type": "code",
   "execution_count": 3,
   "id": "6d999071-b584-4f5e-89a8-aa3b8d624735",
   "metadata": {},
   "outputs": [
    {
     "data": {
      "text/plain": [
       "array([89.74751506, 62.29385578, 76.88877516, 75.53227099, 68.00248598,\n",
       "       89.07950379, 78.98179762, 47.0286926 , 49.81431109, 56.43528422,\n",
       "       54.52852179, 50.76911874])"
      ]
     },
     "execution_count": 3,
     "metadata": {},
     "output_type": "execute_result"
    }
   ],
   "source": [
    "norm.rvs(70,10,12)"
   ]
  },
  {
   "cell_type": "code",
   "execution_count": 43,
   "id": "f15228e4-148f-42c8-a02f-377d66833b8d",
   "metadata": {},
   "outputs": [
    {
     "data": {
      "text/plain": [
       "0.1251993291672192"
      ]
     },
     "execution_count": 43,
     "metadata": {},
     "output_type": "execute_result"
    }
   ],
   "source": [
    "#154 157 arasındakiler\n",
    "norm.cdf(157,161,7) - norm.cdf(154, 161,7)"
   ]
  },
  {
   "cell_type": "code",
   "execution_count": 47,
   "id": "b976579c-c61d-4a9e-be98-f4c2323c14f3",
   "metadata": {},
   "outputs": [
    {
     "data": {
      "text/plain": [
       "169.9708609588122"
      ]
     },
     "execution_count": 47,
     "metadata": {},
     "output_type": "execute_result"
    }
   ],
   "source": [
    "# ppf -> ters kümülatif dağılım\n",
    "# belirli bir olasılığa karşılık gelen x'i bulmaya yarar. verilen bir olasılığa karşılık gelen değeri bulur\n",
    "norm.ppf(0.9,161,7) #kadınların yüzde 90ı 169.97den kısadır"
   ]
  },
  {
   "cell_type": "code",
   "execution_count": 51,
   "id": "9f1fad49-7ab1-478e-b758-99f54509b7bf",
   "metadata": {},
   "outputs": [
    {
     "data": {
      "text/plain": [
       "152.0291390411878"
      ]
     },
     "execution_count": 51,
     "metadata": {},
     "output_type": "execute_result"
    }
   ],
   "source": [
    "#kadınların yüzden 90ı şu boydan uzundur\n",
    "norm.ppf((1 - 0.9),161,7)"
   ]
  },
  {
   "cell_type": "code",
   "execution_count": 53,
   "id": "5abd870d-ce9c-4b81-bfbe-5ef415a582ad",
   "metadata": {},
   "outputs": [
    {
     "data": {
      "text/plain": [
       "array([168.76324661, 169.15291056, 171.86421587, 160.87714763,\n",
       "       175.14265619, 161.2601973 , 150.97014182, 149.42614535,\n",
       "       169.17858999, 161.53274865])"
      ]
     },
     "execution_count": 53,
     "metadata": {},
     "output_type": "execute_result"
    }
   ],
   "source": [
    "norm.rvs(161,7,size=10) # "
   ]
  },
  {
   "cell_type": "code",
   "execution_count": null,
   "id": "fe51e2f2-0907-4708-b5e9-ee13cb1df1a2",
   "metadata": {},
   "outputs": [],
   "source": [
    "# çarpıklık _> veri simetrik değilse pozitif çarpık ya da negatif çarpık\n",
    "# sağdan tokat attıysam sağ çarpık -> pozitif çarpık. soldan tokat atıysaç sol çarpık ->negatif çarpık\n",
    "# basıklık -> değılımdakş aşırı değerleri açıklama. 3 çeşit"
   ]
  },
  {
   "cell_type": "code",
   "execution_count": null,
   "id": "cfe753de-0834-472e-83a3-ddebec0ac306",
   "metadata": {},
   "outputs": [],
   "source": [
    "# merkezi limit teoremi\n",
    "# bir zar atıldığında her yğzün değeri ile gelme olasılığı toplanırsa -> 3.67 exprected value\n",
    "# ortalama gibi bir özet istatistiğinin dağılımına örneklem dağılımı denir. ne kadar çok yapılırsa o kadar normal dağılıma benzer. buna merkezi limit teorisi denir.\n",
    "# örneklem büyüklüğü arttıkça normal dağılıma yaklaşır -> merkezi limit teoremi\n",
    "# bu işi kod yazarak yapın dedi \n",
    "# ortalama\n",
    "# ss için de geçerlidir\n",
    "# oran için de geçerlidir\n",
    "# örnekleme dağılımları normsl oldupndan bir dağılımın ortalması ss ve oranı hakkında bilgi edilebilir eğer yeterince fazla veri varsa ya da örneklee güzel alındıysa \n"
   ]
  },
  {
   "cell_type": "code",
   "execution_count": 57,
   "id": "62fe4fb4-58fd-4a70-ad6f-e6a3e98adf8d",
   "metadata": {},
   "outputs": [
    {
     "data": {
      "text/plain": [
       "4    5\n",
       "0    1\n",
       "0    1\n",
       "3    4\n",
       "0    1\n",
       "dtype: int64"
      ]
     },
     "execution_count": 57,
     "metadata": {},
     "output_type": "execute_result"
    }
   ],
   "source": [
    "import pandas as pd\n",
    "import numpy as np\n",
    "die = pd.Series([1,2,3,4,5,6])\n",
    "samp_5 = die.sample(5,replace=True) #yerine koyarak örnekleme yapar\n",
    "samp_5"
   ]
  },
  {
   "cell_type": "code",
   "execution_count": 65,
   "id": "a040b605-f311-4864-8965-52a52d60f82b",
   "metadata": {},
   "outputs": [
    {
     "data": {
      "text/plain": [
       "(array([1., 2., 1., 1., 0., 1., 1., 1., 1., 1.]),\n",
       " array([3.  , 3.16, 3.32, 3.48, 3.64, 3.8 , 3.96, 4.12, 4.28, 4.44, 4.6 ]),\n",
       " <BarContainer object of 10 artists>)"
      ]
     },
     "execution_count": 65,
     "metadata": {},
     "output_type": "execute_result"
    },
    {
     "data": {
      "image/png": "[encoded data removed]",
      "text/plain": [
       "<Figure size 640x480 with 1 Axes>"
      ]
     },
     "metadata": {},
     "output_type": "display_data"
    }
   ],
   "source": [
    "# yukarıdaki işlem 10 defs tekrar edilirse\n",
    "import matplotlib.pyplot as plt\n",
    "sample_means = [] \n",
    "for i in range(10):\n",
    "    samp_5 = die.sample(5, replace=True)\n",
    "    sample_means.append(samp_5.mean())\n",
    "plt.title(\"Örneklem ortalamasının örneklem dağılımı\")\n",
    "plt.hist(sample_means)\n",
    "# böyle bir özet istatistiğinin dağılımına örneklem dağılımı denir. "
   ]
  },
  {
   "cell_type": "code",
   "execution_count": 1,
   "id": "743deabe-1908-4c87-8585-dffeda9c317f",
   "metadata": {},
   "outputs": [
    {
     "ename": "NameError",
     "evalue": "name 'die' is not defined",
     "output_type": "error",
     "traceback": [
      "\u001b[0;31m---------------------------------------------------------------------------\u001b[0m",
      "\u001b[0;31mNameError\u001b[0m                                 Traceback (most recent call last)",
      "Cell \u001b[0;32mIn[1], line 3\u001b[0m\n\u001b[1;32m      1\u001b[0m sample_sts \u001b[38;5;241m=\u001b[39m []\n\u001b[1;32m      2\u001b[0m \u001b[38;5;28;01mfor\u001b[39;00m i \u001b[38;5;129;01min\u001b[39;00m \u001b[38;5;28mrange\u001b[39m(\u001b[38;5;241m100000\u001b[39m):\n\u001b[0;32m----> 3\u001b[0m     smap_5 \u001b[38;5;241m=\u001b[39m die\u001b[38;5;241m.\u001b[39msample(\u001b[38;5;241m5\u001b[39m, replace\u001b[38;5;241m=\u001b[39m\u001b[38;5;28;01mTrue\u001b[39;00m)\n\u001b[1;32m      4\u001b[0m     sample_sts\u001b[38;5;241m.\u001b[39mappend(np\u001b[38;5;241m.\u001b[39mstd(samp_5))\n\u001b[1;32m      5\u001b[0m plt\u001b[38;5;241m.\u001b[39mtitle(\u001b[38;5;124m\"\u001b[39m\u001b[38;5;124mörneklem standart sapma örneklem dağılımı\u001b[39m\u001b[38;5;124m\"\u001b[39m)\n",
      "\u001b[0;31mNameError\u001b[0m: name 'die' is not defined"
     ]
    }
   ],
   "source": [
    "sample_sts = []\n",
    "for i in range(100000):\n",
    "    smap_5 = die.sample(5, replace=True)\n",
    "    sample_sts.append(np.std(samp_5))\n",
    "plt.title(\"örneklem standart sapma örneklem dağılımı\")\n",
    "plt.hist(sample_sts)                        "
   ]
  },
  {
   "cell_type": "code",
   "execution_count": null,
   "id": "ec896e09-404c-4d84-8e96-3d29d1371e21",
   "metadata": {},
   "outputs": [],
   "source": [
    "# hiç gelmeme olasılığı oldupu için oranda try except var"
   ]
  },
  {
   "cell_type": "code",
   "execution_count": null,
   "id": "f15b3917-4ca7-4cb2-a5b4-be9dc0f59074",
   "metadata": {},
   "outputs": [],
   "source": [
    "# poisson süreci : belirli bir zaman dilimindeki ortalama olay sayısının bilindiği ancakk olaylar arasındaki zaman veya boşluğun rastgele olduğu bir süreçtir\n",
    "# hangi aralıklarla geldiğini bilmezsiniz\n",
    "# lambda ile ifade edilir\n",
    "# zaman periyodu başına ortalama olay sayısı -> lambda\n",
    "# dağılımın beklenen değeri -> ort !!\n",
    "#discreed -> kesikli bir dağılımdır\n",
    "# lamda dağılımın şeklini değiştirir -> basıklığını değiştirir yani. \n",
    "# sample sayısı büyüdükçe poşsson dağılımı olarak normal dağılıma benzer -Z merkezi limit teoremi\n"
   ]
  },
  {
   "cell_type": "code",
   "execution_count": 5,
   "id": "ca3a74b4-cd76-4b57-af8f-a5f7f6e7c385",
   "metadata": {},
   "outputs": [
    {
     "data": {
      "text/plain": [
       "0.8087639379203746"
      ]
     },
     "execution_count": 5,
     "metadata": {},
     "output_type": "execute_result"
    }
   ],
   "source": [
    "from scipy.stats import poisson\n",
    "#haftada ort 8 sahiplenme olan bir yerde haftada 5 sahiplenme\n",
    "poisson.pmf(5,8)\n",
    "# 5 veya daha az \n",
    "poisson.cdf(5,8) #ilk değer istenen ikinci lambda\n",
    "#5ten fazla\n",
    "1 - poisson.cdf(5,8)"
   ]
  },
  {
   "cell_type": "code",
   "execution_count": 77,
   "id": "2fb326d5-bbe3-42e1-bed3-9d43082e9dcb",
   "metadata": {},
   "outputs": [
    {
     "data": {
      "text/plain": [
       "array([ 7,  8, 10,  6,  9,  8,  4,  3,  7,  9])"
      ]
     },
     "execution_count": 77,
     "metadata": {},
     "output_type": "execute_result"
    }
   ],
   "source": [
    "poisson.rvs(8, size=10) # 10 tane rastgele değer"
   ]
  },
  {
   "cell_type": "code",
   "execution_count": null,
   "id": "925fc430-73f6-47ed-b024-96a89ff69691",
   "metadata": {},
   "outputs": [],
   "source": []
  },
  {
   "cell_type": "code",
   "execution_count": null,
   "id": "3d150e03-3f64-4959-8d06-5f4f5f5785b0",
   "metadata": {},
   "outputs": [],
   "source": [
    "# üstel dağılım -> poisson olaylarında belirli bir zaman geçme olasılığını temsil eden dağılımdır\n",
    "# lambda beklenen değerdir\n",
    "# poissonun aksine zaman belirttiği için continous bir distrndır\n",
    "# 2 dakikada 1 bilet ise periyot 0.5tir. posiondaki varsa 1/lambdadır periyot"
   ]
  },
  {
   "cell_type": "code",
   "execution_count": 7,
   "id": "7652455f-1323-4f50-b4bb-c338c5e8dc3d",
   "metadata": {},
   "outputs": [
    {
     "data": {
      "text/plain": [
       "0.4711953764760207"
      ]
     },
     "execution_count": 7,
     "metadata": {},
     "output_type": "execute_result"
    }
   ],
   "source": [
    "from scipy.stats import expon\n",
    "#yeni bir istek için 1 dakikadan az bekleme olasılığı\n",
    "expon.cdf(1, scale=2)\n",
    "#4 dakikadan falza bekleme olasılığı\n",
    "1 - expon.cdf(4, scale=2) #scale lambda\n",
    "#1 ila 4 dk bekleme\n",
    "expon.cdf(4, scale=2) - expon.cdf(1, scale=2)"
   ]
  },
  {
   "cell_type": "code",
   "execution_count": 83,
   "id": "570d2b7d-b581-4ef2-bb51-c4f60081515f",
   "metadata": {},
   "outputs": [],
   "source": [
    "# t dağılımı -> küçük örneklem veya popülasyonun standart sapması bilinmiyorsa kullanılır\n",
    "# normale benzer.\n",
    "# serbestlik derecesi -> istatistiksel bir parametreyi kullanılabilen bağımsız bir değer veya bilgi parçalarının değeri. dağılımın kuyrupunun ne kadar geniş ve düz olacağını.\n",
    "# 30 veya daha yakın olduğunda normal dağılıma yaklaşır\n",
    "# bğyğklük çok önemli (n-1) olur. n: örneklemin büyüklüğü"
   ]
  },
  {
   "cell_type": "code",
   "execution_count": 11,
   "id": "4d097b8e-7e24-41ed-b0b2-d781d49f3240",
   "metadata": {},
   "outputs": [
    {
     "data": {
      "text/plain": [
       "0.8646647167633873"
      ]
     },
     "execution_count": 11,
     "metadata": {},
     "output_type": "execute_result"
    }
   ],
   "source": [
    "expon.cdf(10, scale=5)"
   ]
  },
  {
   "cell_type": "code",
   "execution_count": 85,
   "id": "5bc98484-e538-4149-b257-ced78f854b3a",
   "metadata": {},
   "outputs": [
    {
     "data": {
      "image/png": "[encoded data removed]",
      "text/plain": [
       "<Figure size 640x480 with 1 Axes>"
      ]
     },
     "metadata": {},
     "output_type": "display_data"
    }
   ],
   "source": [
    "import numpy as np\n",
    "import matplotlib.pyplot as plt\n",
    "import scipy.stats as stats\n",
    "\n",
    "x = np.linspace(-5, 5, 100)\n",
    "\n",
    "# Plot for different degrees of freedom\n",
    "for df in [1, 5, 10, 30]:\n",
    "    plt.plot(x, stats.t.pdf(x, df), label=f'df={df}')\n",
    "\n",
    "plt.plot(x, stats.norm.pdf(x), label='Normal distribution', \n",
    "         linestyle='--')\n",
    "plt.legend()\n",
    "plt.title('t-distribution with different degrees of freedom')\n",
    "plt.xlabel('x')\n",
    "plt.ylabel('Density')\n",
    "plt.show()"
   ]
  },
  {
   "cell_type": "code",
   "execution_count": null,
   "id": "3d6f74ba-8397-4397-b824-c4f598d6290c",
   "metadata": {},
   "outputs": [],
   "source": [
    "# lognormal dist -> onu izleyen değişkenlerin logarotması normal dağılımı gösterir. ÖRNEK KOD!"
   ]
  }
 ],
 "metadata": {
  "kernelspec": {
   "display_name": "Python 3 (ipykernel)",
   "language": "python",
   "name": "python3"
  },
  "language_info": {
   "codemirror_mode": {
    "name": "ipython",
    "version": 3
   },
   "file_extension": ".py",
   "mimetype": "text/x-python",
   "name": "python",
   "nbconvert_exporter": "python",
   "pygments_lexer": "ipython3",
   "version": "3.12.4"
  }
 },
 "nbformat": 4,
 "nbformat_minor": 5
}
