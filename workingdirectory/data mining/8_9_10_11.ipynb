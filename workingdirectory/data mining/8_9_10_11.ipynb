{
 "cells": [
  {
   "cell_type": "code",
   "execution_count": 3,
   "id": "42c07d06",
   "metadata": {
    "scrolled": true
   },
   "outputs": [
    {
     "data": {
      "text/html": [
       "<div>\n",
       "<style scoped>\n",
       "    .dataframe tbody tr th:only-of-type {\n",
       "        vertical-align: middle;\n",
       "    }\n",
       "\n",
       "    .dataframe tbody tr th {\n",
       "        vertical-align: top;\n",
       "    }\n",
       "\n",
       "    .dataframe thead th {\n",
       "        text-align: right;\n",
       "    }\n",
       "</style>\n",
       "<table border=\"1\" class=\"dataframe\">\n",
       "  <thead>\n",
       "    <tr style=\"text-align: right;\">\n",
       "      <th></th>\n",
       "      <th>total_cup_points</th>\n",
       "      <th>species</th>\n",
       "      <th>owner</th>\n",
       "      <th>country_of_origin</th>\n",
       "      <th>farm_name</th>\n",
       "      <th>lot_number</th>\n",
       "      <th>mill</th>\n",
       "      <th>ico_number</th>\n",
       "      <th>company</th>\n",
       "      <th>altitude</th>\n",
       "      <th>...</th>\n",
       "      <th>color</th>\n",
       "      <th>category_two_defects</th>\n",
       "      <th>expiration</th>\n",
       "      <th>certification_body</th>\n",
       "      <th>certification_address</th>\n",
       "      <th>certification_contact</th>\n",
       "      <th>unit_of_measurement</th>\n",
       "      <th>altitude_low_meters</th>\n",
       "      <th>altitude_high_meters</th>\n",
       "      <th>altitude_mean_meters</th>\n",
       "    </tr>\n",
       "  </thead>\n",
       "  <tbody>\n",
       "    <tr>\n",
       "      <th>0</th>\n",
       "      <td>90.58</td>\n",
       "      <td>Arabica</td>\n",
       "      <td>metad plc</td>\n",
       "      <td>Ethiopia</td>\n",
       "      <td>metad plc</td>\n",
       "      <td>None</td>\n",
       "      <td>metad plc</td>\n",
       "      <td>2014/2015</td>\n",
       "      <td>metad agricultural developmet plc</td>\n",
       "      <td>1950-2200</td>\n",
       "      <td>...</td>\n",
       "      <td>Green</td>\n",
       "      <td>0.0</td>\n",
       "      <td>April 3rd, 2016</td>\n",
       "      <td>METAD Agricultural Development plc</td>\n",
       "      <td>309fcf77415a3661ae83e027f7e5f05dad786e44</td>\n",
       "      <td>19fef5a731de2db57d16da10287413f5f99bc2dd</td>\n",
       "      <td>m</td>\n",
       "      <td>1950.0</td>\n",
       "      <td>2200.0</td>\n",
       "      <td>2075.0</td>\n",
       "    </tr>\n",
       "    <tr>\n",
       "      <th>1</th>\n",
       "      <td>89.92</td>\n",
       "      <td>Arabica</td>\n",
       "      <td>metad plc</td>\n",
       "      <td>Ethiopia</td>\n",
       "      <td>metad plc</td>\n",
       "      <td>None</td>\n",
       "      <td>metad plc</td>\n",
       "      <td>2014/2015</td>\n",
       "      <td>metad agricultural developmet plc</td>\n",
       "      <td>1950-2200</td>\n",
       "      <td>...</td>\n",
       "      <td>Green</td>\n",
       "      <td>1.0</td>\n",
       "      <td>April 3rd, 2016</td>\n",
       "      <td>METAD Agricultural Development plc</td>\n",
       "      <td>309fcf77415a3661ae83e027f7e5f05dad786e44</td>\n",
       "      <td>19fef5a731de2db57d16da10287413f5f99bc2dd</td>\n",
       "      <td>m</td>\n",
       "      <td>1950.0</td>\n",
       "      <td>2200.0</td>\n",
       "      <td>2075.0</td>\n",
       "    </tr>\n",
       "    <tr>\n",
       "      <th>2</th>\n",
       "      <td>89.75</td>\n",
       "      <td>Arabica</td>\n",
       "      <td>grounds for health admin</td>\n",
       "      <td>Guatemala</td>\n",
       "      <td>san marcos barrancas \"san cristobal cuch</td>\n",
       "      <td>None</td>\n",
       "      <td>None</td>\n",
       "      <td>None</td>\n",
       "      <td>None</td>\n",
       "      <td>1600 - 1800 m</td>\n",
       "      <td>...</td>\n",
       "      <td>None</td>\n",
       "      <td>0.0</td>\n",
       "      <td>May 31st, 2011</td>\n",
       "      <td>Specialty Coffee Association</td>\n",
       "      <td>36d0d00a3724338ba7937c52a378d085f2172daa</td>\n",
       "      <td>0878a7d4b9d35ddbf0fe2ce69a2062cceb45a660</td>\n",
       "      <td>m</td>\n",
       "      <td>1600.0</td>\n",
       "      <td>1800.0</td>\n",
       "      <td>1700.0</td>\n",
       "    </tr>\n",
       "    <tr>\n",
       "      <th>3</th>\n",
       "      <td>89.00</td>\n",
       "      <td>Arabica</td>\n",
       "      <td>yidnekachew dabessa</td>\n",
       "      <td>Ethiopia</td>\n",
       "      <td>yidnekachew dabessa coffee plantation</td>\n",
       "      <td>None</td>\n",
       "      <td>wolensu</td>\n",
       "      <td>None</td>\n",
       "      <td>yidnekachew debessa coffee plantation</td>\n",
       "      <td>1800-2200</td>\n",
       "      <td>...</td>\n",
       "      <td>Green</td>\n",
       "      <td>2.0</td>\n",
       "      <td>March 25th, 2016</td>\n",
       "      <td>METAD Agricultural Development plc</td>\n",
       "      <td>309fcf77415a3661ae83e027f7e5f05dad786e44</td>\n",
       "      <td>19fef5a731de2db57d16da10287413f5f99bc2dd</td>\n",
       "      <td>m</td>\n",
       "      <td>1800.0</td>\n",
       "      <td>2200.0</td>\n",
       "      <td>2000.0</td>\n",
       "    </tr>\n",
       "    <tr>\n",
       "      <th>4</th>\n",
       "      <td>88.83</td>\n",
       "      <td>Arabica</td>\n",
       "      <td>metad plc</td>\n",
       "      <td>Ethiopia</td>\n",
       "      <td>metad plc</td>\n",
       "      <td>None</td>\n",
       "      <td>metad plc</td>\n",
       "      <td>2014/2015</td>\n",
       "      <td>metad agricultural developmet plc</td>\n",
       "      <td>1950-2200</td>\n",
       "      <td>...</td>\n",
       "      <td>Green</td>\n",
       "      <td>2.0</td>\n",
       "      <td>April 3rd, 2016</td>\n",
       "      <td>METAD Agricultural Development plc</td>\n",
       "      <td>309fcf77415a3661ae83e027f7e5f05dad786e44</td>\n",
       "      <td>19fef5a731de2db57d16da10287413f5f99bc2dd</td>\n",
       "      <td>m</td>\n",
       "      <td>1950.0</td>\n",
       "      <td>2200.0</td>\n",
       "      <td>2075.0</td>\n",
       "    </tr>\n",
       "    <tr>\n",
       "      <th>...</th>\n",
       "      <td>...</td>\n",
       "      <td>...</td>\n",
       "      <td>...</td>\n",
       "      <td>...</td>\n",
       "      <td>...</td>\n",
       "      <td>...</td>\n",
       "      <td>...</td>\n",
       "      <td>...</td>\n",
       "      <td>...</td>\n",
       "      <td>...</td>\n",
       "      <td>...</td>\n",
       "      <td>...</td>\n",
       "      <td>...</td>\n",
       "      <td>...</td>\n",
       "      <td>...</td>\n",
       "      <td>...</td>\n",
       "      <td>...</td>\n",
       "      <td>...</td>\n",
       "      <td>...</td>\n",
       "      <td>...</td>\n",
       "      <td>...</td>\n",
       "    </tr>\n",
       "    <tr>\n",
       "      <th>1333</th>\n",
       "      <td>78.75</td>\n",
       "      <td>Robusta</td>\n",
       "      <td>luis robles</td>\n",
       "      <td>Ecuador</td>\n",
       "      <td>robustasa</td>\n",
       "      <td>Lavado 1</td>\n",
       "      <td>our own lab</td>\n",
       "      <td>None</td>\n",
       "      <td>robustasa</td>\n",
       "      <td>None</td>\n",
       "      <td>...</td>\n",
       "      <td>Blue-Green</td>\n",
       "      <td>1.0</td>\n",
       "      <td>January 18th, 2017</td>\n",
       "      <td>Specialty Coffee Association</td>\n",
       "      <td>ff7c18ad303d4b603ac3f8cff7e611ffc735e720</td>\n",
       "      <td>352d0cf7f3e9be14dad7df644ad65efc27605ae2</td>\n",
       "      <td>m</td>\n",
       "      <td>NaN</td>\n",
       "      <td>NaN</td>\n",
       "      <td>NaN</td>\n",
       "    </tr>\n",
       "    <tr>\n",
       "      <th>1334</th>\n",
       "      <td>78.08</td>\n",
       "      <td>Robusta</td>\n",
       "      <td>luis robles</td>\n",
       "      <td>Ecuador</td>\n",
       "      <td>robustasa</td>\n",
       "      <td>Lavado 3</td>\n",
       "      <td>own laboratory</td>\n",
       "      <td>None</td>\n",
       "      <td>robustasa</td>\n",
       "      <td>40</td>\n",
       "      <td>...</td>\n",
       "      <td>Blue-Green</td>\n",
       "      <td>0.0</td>\n",
       "      <td>January 18th, 2017</td>\n",
       "      <td>Specialty Coffee Association</td>\n",
       "      <td>ff7c18ad303d4b603ac3f8cff7e611ffc735e720</td>\n",
       "      <td>352d0cf7f3e9be14dad7df644ad65efc27605ae2</td>\n",
       "      <td>m</td>\n",
       "      <td>40.0</td>\n",
       "      <td>40.0</td>\n",
       "      <td>40.0</td>\n",
       "    </tr>\n",
       "    <tr>\n",
       "      <th>1335</th>\n",
       "      <td>77.17</td>\n",
       "      <td>Robusta</td>\n",
       "      <td>james moore</td>\n",
       "      <td>United States</td>\n",
       "      <td>fazenda cazengo</td>\n",
       "      <td>None</td>\n",
       "      <td>cafe cazengo</td>\n",
       "      <td>None</td>\n",
       "      <td>global opportunity fund</td>\n",
       "      <td>795 meters</td>\n",
       "      <td>...</td>\n",
       "      <td>None</td>\n",
       "      <td>6.0</td>\n",
       "      <td>December 23rd, 2015</td>\n",
       "      <td>Specialty Coffee Association</td>\n",
       "      <td>ff7c18ad303d4b603ac3f8cff7e611ffc735e720</td>\n",
       "      <td>352d0cf7f3e9be14dad7df644ad65efc27605ae2</td>\n",
       "      <td>m</td>\n",
       "      <td>795.0</td>\n",
       "      <td>795.0</td>\n",
       "      <td>795.0</td>\n",
       "    </tr>\n",
       "    <tr>\n",
       "      <th>1336</th>\n",
       "      <td>75.08</td>\n",
       "      <td>Robusta</td>\n",
       "      <td>cafe politico</td>\n",
       "      <td>India</td>\n",
       "      <td>None</td>\n",
       "      <td>None</td>\n",
       "      <td>None</td>\n",
       "      <td>14-1118-2014-0087</td>\n",
       "      <td>cafe politico</td>\n",
       "      <td>None</td>\n",
       "      <td>...</td>\n",
       "      <td>Green</td>\n",
       "      <td>1.0</td>\n",
       "      <td>August 25th, 2015</td>\n",
       "      <td>Specialty Coffee Association</td>\n",
       "      <td>ff7c18ad303d4b603ac3f8cff7e611ffc735e720</td>\n",
       "      <td>352d0cf7f3e9be14dad7df644ad65efc27605ae2</td>\n",
       "      <td>m</td>\n",
       "      <td>NaN</td>\n",
       "      <td>NaN</td>\n",
       "      <td>NaN</td>\n",
       "    </tr>\n",
       "    <tr>\n",
       "      <th>1337</th>\n",
       "      <td>73.75</td>\n",
       "      <td>Robusta</td>\n",
       "      <td>cafe politico</td>\n",
       "      <td>Vietnam</td>\n",
       "      <td>None</td>\n",
       "      <td>None</td>\n",
       "      <td>None</td>\n",
       "      <td>n/a</td>\n",
       "      <td>cafe politico</td>\n",
       "      <td>None</td>\n",
       "      <td>...</td>\n",
       "      <td>None</td>\n",
       "      <td>9.0</td>\n",
       "      <td>August 25th, 2015</td>\n",
       "      <td>Specialty Coffee Association</td>\n",
       "      <td>ff7c18ad303d4b603ac3f8cff7e611ffc735e720</td>\n",
       "      <td>352d0cf7f3e9be14dad7df644ad65efc27605ae2</td>\n",
       "      <td>m</td>\n",
       "      <td>NaN</td>\n",
       "      <td>NaN</td>\n",
       "      <td>NaN</td>\n",
       "    </tr>\n",
       "  </tbody>\n",
       "</table>\n",
       "<p>1338 rows × 43 columns</p>\n",
       "</div>"
      ],
      "text/plain": [
       "      total_cup_points  species                     owner country_of_origin  \\\n",
       "0                90.58  Arabica                 metad plc          Ethiopia   \n",
       "1                89.92  Arabica                 metad plc          Ethiopia   \n",
       "2                89.75  Arabica  grounds for health admin         Guatemala   \n",
       "3                89.00  Arabica       yidnekachew dabessa          Ethiopia   \n",
       "4                88.83  Arabica                 metad plc          Ethiopia   \n",
       "...                ...      ...                       ...               ...   \n",
       "1333             78.75  Robusta               luis robles           Ecuador   \n",
       "1334             78.08  Robusta               luis robles           Ecuador   \n",
       "1335             77.17  Robusta               james moore     United States   \n",
       "1336             75.08  Robusta             cafe politico             India   \n",
       "1337             73.75  Robusta             cafe politico           Vietnam   \n",
       "\n",
       "                                     farm_name lot_number            mill  \\\n",
       "0                                    metad plc       None       metad plc   \n",
       "1                                    metad plc       None       metad plc   \n",
       "2     san marcos barrancas \"san cristobal cuch       None            None   \n",
       "3        yidnekachew dabessa coffee plantation       None         wolensu   \n",
       "4                                    metad plc       None       metad plc   \n",
       "...                                        ...        ...             ...   \n",
       "1333                                 robustasa   Lavado 1     our own lab   \n",
       "1334                                 robustasa   Lavado 3  own laboratory   \n",
       "1335                           fazenda cazengo       None    cafe cazengo   \n",
       "1336                                      None       None            None   \n",
       "1337                                      None       None            None   \n",
       "\n",
       "             ico_number                                company       altitude  \\\n",
       "0             2014/2015      metad agricultural developmet plc      1950-2200   \n",
       "1             2014/2015      metad agricultural developmet plc      1950-2200   \n",
       "2                  None                                   None  1600 - 1800 m   \n",
       "3                  None  yidnekachew debessa coffee plantation      1800-2200   \n",
       "4             2014/2015      metad agricultural developmet plc      1950-2200   \n",
       "...                 ...                                    ...            ...   \n",
       "1333               None                              robustasa           None   \n",
       "1334               None                              robustasa             40   \n",
       "1335               None                global opportunity fund     795 meters   \n",
       "1336  14-1118-2014-0087                          cafe politico           None   \n",
       "1337                n/a                          cafe politico           None   \n",
       "\n",
       "      ...       color category_two_defects           expiration  \\\n",
       "0     ...       Green                  0.0      April 3rd, 2016   \n",
       "1     ...       Green                  1.0      April 3rd, 2016   \n",
       "2     ...        None                  0.0       May 31st, 2011   \n",
       "3     ...       Green                  2.0     March 25th, 2016   \n",
       "4     ...       Green                  2.0      April 3rd, 2016   \n",
       "...   ...         ...                  ...                  ...   \n",
       "1333  ...  Blue-Green                  1.0   January 18th, 2017   \n",
       "1334  ...  Blue-Green                  0.0   January 18th, 2017   \n",
       "1335  ...        None                  6.0  December 23rd, 2015   \n",
       "1336  ...       Green                  1.0    August 25th, 2015   \n",
       "1337  ...        None                  9.0    August 25th, 2015   \n",
       "\n",
       "                      certification_body  \\\n",
       "0     METAD Agricultural Development plc   \n",
       "1     METAD Agricultural Development plc   \n",
       "2           Specialty Coffee Association   \n",
       "3     METAD Agricultural Development plc   \n",
       "4     METAD Agricultural Development plc   \n",
       "...                                  ...   \n",
       "1333        Specialty Coffee Association   \n",
       "1334        Specialty Coffee Association   \n",
       "1335        Specialty Coffee Association   \n",
       "1336        Specialty Coffee Association   \n",
       "1337        Specialty Coffee Association   \n",
       "\n",
       "                         certification_address  \\\n",
       "0     309fcf77415a3661ae83e027f7e5f05dad786e44   \n",
       "1     309fcf77415a3661ae83e027f7e5f05dad786e44   \n",
       "2     36d0d00a3724338ba7937c52a378d085f2172daa   \n",
       "3     309fcf77415a3661ae83e027f7e5f05dad786e44   \n",
       "4     309fcf77415a3661ae83e027f7e5f05dad786e44   \n",
       "...                                        ...   \n",
       "1333  ff7c18ad303d4b603ac3f8cff7e611ffc735e720   \n",
       "1334  ff7c18ad303d4b603ac3f8cff7e611ffc735e720   \n",
       "1335  ff7c18ad303d4b603ac3f8cff7e611ffc735e720   \n",
       "1336  ff7c18ad303d4b603ac3f8cff7e611ffc735e720   \n",
       "1337  ff7c18ad303d4b603ac3f8cff7e611ffc735e720   \n",
       "\n",
       "                         certification_contact unit_of_measurement  \\\n",
       "0     19fef5a731de2db57d16da10287413f5f99bc2dd                   m   \n",
       "1     19fef5a731de2db57d16da10287413f5f99bc2dd                   m   \n",
       "2     0878a7d4b9d35ddbf0fe2ce69a2062cceb45a660                   m   \n",
       "3     19fef5a731de2db57d16da10287413f5f99bc2dd                   m   \n",
       "4     19fef5a731de2db57d16da10287413f5f99bc2dd                   m   \n",
       "...                                        ...                 ...   \n",
       "1333  352d0cf7f3e9be14dad7df644ad65efc27605ae2                   m   \n",
       "1334  352d0cf7f3e9be14dad7df644ad65efc27605ae2                   m   \n",
       "1335  352d0cf7f3e9be14dad7df644ad65efc27605ae2                   m   \n",
       "1336  352d0cf7f3e9be14dad7df644ad65efc27605ae2                   m   \n",
       "1337  352d0cf7f3e9be14dad7df644ad65efc27605ae2                   m   \n",
       "\n",
       "     altitude_low_meters altitude_high_meters altitude_mean_meters  \n",
       "0                 1950.0               2200.0               2075.0  \n",
       "1                 1950.0               2200.0               2075.0  \n",
       "2                 1600.0               1800.0               1700.0  \n",
       "3                 1800.0               2200.0               2000.0  \n",
       "4                 1950.0               2200.0               2075.0  \n",
       "...                  ...                  ...                  ...  \n",
       "1333                 NaN                  NaN                  NaN  \n",
       "1334                40.0                 40.0                 40.0  \n",
       "1335               795.0                795.0                795.0  \n",
       "1336                 NaN                  NaN                  NaN  \n",
       "1337                 NaN                  NaN                  NaN  \n",
       "\n",
       "[1338 rows x 43 columns]"
      ]
     },
     "execution_count": 3,
     "metadata": {},
     "output_type": "execute_result"
    }
   ],
   "source": [
    "import pandas as pd\n",
    "df_coffee=pd.read_feather(\"data/coffee_ratings_full.feather\")\n",
    "df_coffee"
   ]
  },
  {
   "cell_type": "code",
   "execution_count": 5,
   "id": "b17be6f1",
   "metadata": {},
   "outputs": [
    {
     "data": {
      "text/html": [
       "<div>\n",
       "<style scoped>\n",
       "    .dataframe tbody tr th:only-of-type {\n",
       "        vertical-align: middle;\n",
       "    }\n",
       "\n",
       "    .dataframe tbody tr th {\n",
       "        vertical-align: top;\n",
       "    }\n",
       "\n",
       "    .dataframe thead th {\n",
       "        text-align: right;\n",
       "    }\n",
       "</style>\n",
       "<table border=\"1\" class=\"dataframe\">\n",
       "  <thead>\n",
       "    <tr style=\"text-align: right;\">\n",
       "      <th></th>\n",
       "      <th>index</th>\n",
       "      <th>variety</th>\n",
       "      <th>country_of_origin</th>\n",
       "      <th>flavor</th>\n",
       "    </tr>\n",
       "  </thead>\n",
       "  <tbody>\n",
       "    <tr>\n",
       "      <th>0</th>\n",
       "      <td>0</td>\n",
       "      <td>None</td>\n",
       "      <td>Ethiopia</td>\n",
       "      <td>8.83</td>\n",
       "    </tr>\n",
       "    <tr>\n",
       "      <th>1</th>\n",
       "      <td>1</td>\n",
       "      <td>Other</td>\n",
       "      <td>Ethiopia</td>\n",
       "      <td>8.67</td>\n",
       "    </tr>\n",
       "    <tr>\n",
       "      <th>2</th>\n",
       "      <td>2</td>\n",
       "      <td>Bourbon</td>\n",
       "      <td>Guatemala</td>\n",
       "      <td>8.50</td>\n",
       "    </tr>\n",
       "    <tr>\n",
       "      <th>3</th>\n",
       "      <td>3</td>\n",
       "      <td>None</td>\n",
       "      <td>Ethiopia</td>\n",
       "      <td>8.58</td>\n",
       "    </tr>\n",
       "    <tr>\n",
       "      <th>4</th>\n",
       "      <td>4</td>\n",
       "      <td>Other</td>\n",
       "      <td>Ethiopia</td>\n",
       "      <td>8.50</td>\n",
       "    </tr>\n",
       "    <tr>\n",
       "      <th>...</th>\n",
       "      <td>...</td>\n",
       "      <td>...</td>\n",
       "      <td>...</td>\n",
       "      <td>...</td>\n",
       "    </tr>\n",
       "    <tr>\n",
       "      <th>1333</th>\n",
       "      <td>1333</td>\n",
       "      <td>None</td>\n",
       "      <td>Ecuador</td>\n",
       "      <td>7.58</td>\n",
       "    </tr>\n",
       "    <tr>\n",
       "      <th>1334</th>\n",
       "      <td>1334</td>\n",
       "      <td>None</td>\n",
       "      <td>Ecuador</td>\n",
       "      <td>7.67</td>\n",
       "    </tr>\n",
       "    <tr>\n",
       "      <th>1335</th>\n",
       "      <td>1335</td>\n",
       "      <td>None</td>\n",
       "      <td>United States</td>\n",
       "      <td>7.33</td>\n",
       "    </tr>\n",
       "    <tr>\n",
       "      <th>1336</th>\n",
       "      <td>1336</td>\n",
       "      <td>None</td>\n",
       "      <td>India</td>\n",
       "      <td>6.83</td>\n",
       "    </tr>\n",
       "    <tr>\n",
       "      <th>1337</th>\n",
       "      <td>1337</td>\n",
       "      <td>None</td>\n",
       "      <td>Vietnam</td>\n",
       "      <td>6.67</td>\n",
       "    </tr>\n",
       "  </tbody>\n",
       "</table>\n",
       "<p>1338 rows × 4 columns</p>\n",
       "</div>"
      ],
      "text/plain": [
       "      index  variety country_of_origin  flavor\n",
       "0         0     None          Ethiopia    8.83\n",
       "1         1    Other          Ethiopia    8.67\n",
       "2         2  Bourbon         Guatemala    8.50\n",
       "3         3     None          Ethiopia    8.58\n",
       "4         4    Other          Ethiopia    8.50\n",
       "...     ...      ...               ...     ...\n",
       "1333   1333     None           Ecuador    7.58\n",
       "1334   1334     None           Ecuador    7.67\n",
       "1335   1335     None     United States    7.33\n",
       "1336   1336     None             India    6.83\n",
       "1337   1337     None           Vietnam    6.67\n",
       "\n",
       "[1338 rows x 4 columns]"
      ]
     },
     "execution_count": 5,
     "metadata": {},
     "output_type": "execute_result"
    }
   ],
   "source": [
    "coffee_focus = df_coffee[[\"variety\" , \"country_of_origin\" , \"flavor\"]]\n",
    "coffee_focus = coffee_focus.reset_index()\n",
    "coffee_focus"
   ]
  },
  {
   "cell_type": "code",
   "execution_count": 7,
   "id": "0cbbc191",
   "metadata": {},
   "outputs": [
    {
     "data": {
      "text/html": [
       "<div>\n",
       "<style scoped>\n",
       "    .dataframe tbody tr th:only-of-type {\n",
       "        vertical-align: middle;\n",
       "    }\n",
       "\n",
       "    .dataframe tbody tr th {\n",
       "        vertical-align: top;\n",
       "    }\n",
       "\n",
       "    .dataframe thead th {\n",
       "        text-align: right;\n",
       "    }\n",
       "</style>\n",
       "<table border=\"1\" class=\"dataframe\">\n",
       "  <thead>\n",
       "    <tr style=\"text-align: right;\">\n",
       "      <th></th>\n",
       "      <th>index</th>\n",
       "      <th>variety</th>\n",
       "      <th>country_of_origin</th>\n",
       "      <th>flavor</th>\n",
       "    </tr>\n",
       "  </thead>\n",
       "  <tbody>\n",
       "    <tr>\n",
       "      <th>181</th>\n",
       "      <td>181</td>\n",
       "      <td>Caturra</td>\n",
       "      <td>Colombia</td>\n",
       "      <td>7.75</td>\n",
       "    </tr>\n",
       "    <tr>\n",
       "      <th>1311</th>\n",
       "      <td>1311</td>\n",
       "      <td>None</td>\n",
       "      <td>India</td>\n",
       "      <td>7.75</td>\n",
       "    </tr>\n",
       "    <tr>\n",
       "      <th>1327</th>\n",
       "      <td>1327</td>\n",
       "      <td>None</td>\n",
       "      <td>Uganda</td>\n",
       "      <td>7.58</td>\n",
       "    </tr>\n",
       "    <tr>\n",
       "      <th>1118</th>\n",
       "      <td>1118</td>\n",
       "      <td>Typica</td>\n",
       "      <td>Taiwan</td>\n",
       "      <td>7.25</td>\n",
       "    </tr>\n",
       "    <tr>\n",
       "      <th>120</th>\n",
       "      <td>120</td>\n",
       "      <td>Caturra</td>\n",
       "      <td>Thailand</td>\n",
       "      <td>7.75</td>\n",
       "    </tr>\n",
       "    <tr>\n",
       "      <th>...</th>\n",
       "      <td>...</td>\n",
       "      <td>...</td>\n",
       "      <td>...</td>\n",
       "      <td>...</td>\n",
       "    </tr>\n",
       "    <tr>\n",
       "      <th>161</th>\n",
       "      <td>161</td>\n",
       "      <td>Caturra</td>\n",
       "      <td>Costa Rica</td>\n",
       "      <td>7.83</td>\n",
       "    </tr>\n",
       "    <tr>\n",
       "      <th>239</th>\n",
       "      <td>239</td>\n",
       "      <td>Other</td>\n",
       "      <td>Ethiopia</td>\n",
       "      <td>7.92</td>\n",
       "    </tr>\n",
       "    <tr>\n",
       "      <th>621</th>\n",
       "      <td>621</td>\n",
       "      <td>Caturra</td>\n",
       "      <td>Thailand</td>\n",
       "      <td>7.50</td>\n",
       "    </tr>\n",
       "    <tr>\n",
       "      <th>899</th>\n",
       "      <td>899</td>\n",
       "      <td>Other</td>\n",
       "      <td>Tanzania, United Republic Of</td>\n",
       "      <td>7.42</td>\n",
       "    </tr>\n",
       "    <tr>\n",
       "      <th>86</th>\n",
       "      <td>86</td>\n",
       "      <td>Sumatra Lintong</td>\n",
       "      <td>Indonesia</td>\n",
       "      <td>7.83</td>\n",
       "    </tr>\n",
       "  </tbody>\n",
       "</table>\n",
       "<p>1338 rows × 4 columns</p>\n",
       "</div>"
      ],
      "text/plain": [
       "      index          variety             country_of_origin  flavor\n",
       "181     181          Caturra                      Colombia    7.75\n",
       "1311   1311             None                         India    7.75\n",
       "1327   1327             None                        Uganda    7.58\n",
       "1118   1118           Typica                        Taiwan    7.25\n",
       "120     120          Caturra                      Thailand    7.75\n",
       "...     ...              ...                           ...     ...\n",
       "161     161          Caturra                    Costa Rica    7.83\n",
       "239     239            Other                      Ethiopia    7.92\n",
       "621     621          Caturra                      Thailand    7.50\n",
       "899     899            Other  Tanzania, United Republic Of    7.42\n",
       "86       86  Sumatra Lintong                     Indonesia    7.83\n",
       "\n",
       "[1338 rows x 4 columns]"
      ]
     },
     "execution_count": 7,
     "metadata": {},
     "output_type": "execute_result"
    }
   ],
   "source": [
    "coffee_resamp=coffee_focus.sample(frac=1 , replace=True)\n",
    "coffee_resamp"
   ]
  },
  {
   "cell_type": "code",
   "execution_count": 9,
   "id": "9a8c26cf",
   "metadata": {},
   "outputs": [
    {
     "data": {
      "text/plain": [
       "index\n",
       "0       1\n",
       "898     1\n",
       "896     1\n",
       "895     1\n",
       "894     1\n",
       "       ..\n",
       "445     1\n",
       "444     1\n",
       "443     1\n",
       "442     1\n",
       "1337    1\n",
       "Name: count, Length: 1338, dtype: int64"
      ]
     },
     "execution_count": 9,
     "metadata": {},
     "output_type": "execute_result"
    }
   ],
   "source": [
    "coffee_focus[\"index\"].value_counts()"
   ]
  },
  {
   "cell_type": "code",
   "execution_count": 11,
   "id": "e6004ba1",
   "metadata": {},
   "outputs": [
    {
     "data": {
      "text/plain": [
       "864"
      ]
     },
     "execution_count": 11,
     "metadata": {},
     "output_type": "execute_result"
    }
   ],
   "source": [
    "num_unique_coffees = len(coffee_resamp.drop_duplicates(subset = \"index\"))\n",
    "num_unique_coffees"
   ]
  },
  {
   "cell_type": "code",
   "execution_count": 13,
   "id": "167ee002",
   "metadata": {},
   "outputs": [],
   "source": [
    "import numpy as np\n",
    "mean_flavors_1000 = []\n",
    "\n",
    "for i in range(1000):\n",
    "    mean_flavors_1000.append(np.mean(coffee_focus.sample(frac=1 , replace=True)[\"flavor\"]))"
   ]
  },
  {
   "cell_type": "code",
   "execution_count": 14,
   "id": "2fc126ce",
   "metadata": {},
   "outputs": [
    {
     "data": {
      "text/plain": [
       "(array([  1.,  15.,  53., 143., 246., 270., 181.,  74.,  13.,   4.]),\n",
       " array([7.49372945, 7.49998057, 7.50623169, 7.51248281, 7.51873393,\n",
       "        7.52498505, 7.53123617, 7.53748729, 7.54373842, 7.54998954,\n",
       "        7.55624066]),\n",
       " <BarContainer object of 10 artists>)"
      ]
     },
     "execution_count": 14,
     "metadata": {},
     "output_type": "execute_result"
    },
    {
     "data": {
      "image/png": "[encoded data removed]",
      "text/plain": [
       "<Figure size 640x480 with 1 Axes>"
      ]
     },
     "metadata": {},
     "output_type": "display_data"
    }
   ],
   "source": [
    "import matplotlib.pyplot as plt\n",
    "plt.hist(mean_flavors_1000)"
   ]
  },
  {
   "cell_type": "code",
   "execution_count": 16,
   "id": "3c66ec73",
   "metadata": {},
   "outputs": [],
   "source": [
    "coffee_sample = df_coffee[[\"variety\" , \"country_of_origin\" , \"flavor\"]].reset_index().sample(n=500)"
   ]
  },
  {
   "cell_type": "code",
   "execution_count": 19,
   "id": "0fb59d5b",
   "metadata": {},
   "outputs": [],
   "source": [
    "#The bootstrap of mean coffee flavors\n",
    "import numpy as np\n",
    "mean_flavors_5000=[]\n",
    "\n",
    "for i in range(5000):\n",
    "    mean_flavors_5000.append(np.mean(coffee_sample.sample(frac=1 , replace=True)[\"flavor\"]))"
   ]
  },
  {
   "cell_type": "code",
   "execution_count": 20,
   "id": "fba22eb7",
   "metadata": {},
   "outputs": [
    {
     "data": {
      "text/plain": [
       "(array([1.000e+00, 6.300e+01, 3.050e+02, 8.090e+02, 1.386e+03, 1.321e+03,\n",
       "        7.950e+02, 2.650e+02, 4.700e+01, 8.000e+00]),\n",
       " array([7.44054 , 7.452212, 7.463884, 7.475556, 7.487228, 7.4989  ,\n",
       "        7.510572, 7.522244, 7.533916, 7.545588, 7.55726 ]),\n",
       " <BarContainer object of 10 artists>)"
      ]
     },
     "execution_count": 20,
     "metadata": {},
     "output_type": "execute_result"
    },
    {
     "data": {
      "image/png": "[encoded data removed]",
      "text/plain": [
       "<Figure size 640x480 with 1 Axes>"
      ]
     },
     "metadata": {},
     "output_type": "display_data"
    }
   ],
   "source": [
    "plt.hist(mean_flavors_5000)"
   ]
  },
  {
   "cell_type": "code",
   "execution_count": 21,
   "id": "746d2ee8",
   "metadata": {},
   "outputs": [
    {
     "data": {
      "text/plain": [
       "7.498399999999999"
      ]
     },
     "execution_count": 21,
     "metadata": {},
     "output_type": "execute_result"
    }
   ],
   "source": [
    "coffee_sample[\"flavor\"].mean()"
   ]
  },
  {
   "cell_type": "code",
   "execution_count": 22,
   "id": "16083c71",
   "metadata": {},
   "outputs": [
    {
     "data": {
      "text/plain": [
       "7.4985446200000005"
      ]
     },
     "execution_count": 22,
     "metadata": {},
     "output_type": "execute_result"
    }
   ],
   "source": [
    "np.mean(mean_flavors_5000)"
   ]
  },
  {
   "cell_type": "code",
   "execution_count": 27,
   "id": "d6390e9e",
   "metadata": {},
   "outputs": [
    {
     "data": {
      "text/plain": [
       "7.526046337817639"
      ]
     },
     "execution_count": 27,
     "metadata": {},
     "output_type": "execute_result"
    }
   ],
   "source": [
    "df_coffee[\"flavor\"].mean()"
   ]
  },
  {
   "cell_type": "code",
   "execution_count": 29,
   "id": "0f71aa38",
   "metadata": {},
   "outputs": [
    {
     "data": {
      "text/plain": [
       "0.35461492282047846"
      ]
     },
     "execution_count": 29,
     "metadata": {},
     "output_type": "execute_result"
    }
   ],
   "source": [
    "coffee_sample[\"flavor\"].std()"
   ]
  },
  {
   "cell_type": "code",
   "execution_count": 31,
   "id": "9afd5d72",
   "metadata": {},
   "outputs": [
    {
     "data": {
      "text/plain": [
       "0.015664274696134226"
      ]
     },
     "execution_count": 31,
     "metadata": {},
     "output_type": "execute_result"
    }
   ],
   "source": [
    "#bootstrap'in standart hatasını bulmuş olduk\n",
    "np.std(mean_flavors_5000 , ddof=1)"
   ]
  },
  {
   "cell_type": "code",
   "execution_count": 33,
   "id": "3cda9b22",
   "metadata": {},
   "outputs": [
    {
     "data": {
      "text/plain": [
       "0.3502638303878599"
      ]
     },
     "execution_count": 33,
     "metadata": {},
     "output_type": "execute_result"
    }
   ],
   "source": [
    "#bootstrap örneklem standart sapması\n",
    "np.std(mean_flavors_5000 , ddof=1)* np.sqrt(500)"
   ]
  },
  {
   "cell_type": "code",
   "execution_count": 35,
   "id": "c3748ffe",
   "metadata": {},
   "outputs": [
    {
     "data": {
      "text/plain": [
       "(array([1.000e+00, 6.300e+01, 3.050e+02, 8.090e+02, 1.386e+03, 1.321e+03,\n",
       "        7.950e+02, 2.650e+02, 4.700e+01, 8.000e+00]),\n",
       " array([7.44054 , 7.452212, 7.463884, 7.475556, 7.487228, 7.4989  ,\n",
       "        7.510572, 7.522244, 7.533916, 7.545588, 7.55726 ]),\n",
       " <BarContainer object of 10 artists>)"
      ]
     },
     "execution_count": 35,
     "metadata": {},
     "output_type": "execute_result"
    },
    {
     "data": {
      "image/png": "[encoded data removed]",
      "text/plain": [
       "<Figure size 640x480 with 1 Axes>"
      ]
     },
     "metadata": {},
     "output_type": "display_data"
    }
   ],
   "source": [
    "plt.hist(mean_flavors_5000)"
   ]
  },
  {
   "cell_type": "code",
   "execution_count": 37,
   "id": "728d2684",
   "metadata": {},
   "outputs": [
    {
     "data": {
      "text/plain": [
       "<matplotlib.legend.Legend at 0x21c1077ba70>"
      ]
     },
     "execution_count": 37,
     "metadata": {},
     "output_type": "execute_result"
    },
    {
     "data": {
      "image/png": "[encoded data removed]",
      "text/plain": [
       "<Figure size 640x480 with 1 Axes>"
      ]
     },
     "metadata": {},
     "output_type": "display_data"
    }
   ],
   "source": [
    "plt.hist(mean_flavors_5000)\n",
    "plt.axvline(np.mean(mean_flavors_5000) , color=\"red\" , linestyle=\"dashed\" , \n",
    "            linewidth=2, label=f'Mean: {np.mean(mean_flavors_5000):.2f}')\n",
    "plt.legend()"
   ]
  },
  {
   "cell_type": "code",
   "execution_count": 39,
   "id": "b602a827",
   "metadata": {},
   "outputs": [
    {
     "data": {
      "text/plain": [
       "<matplotlib.legend.Legend at 0x21c1085cd10>"
      ]
     },
     "execution_count": 39,
     "metadata": {},
     "output_type": "execute_result"
    },
    {
     "data": {
      "image/png": "[encoded data removed]",
      "text/plain": [
       "<Figure size 640x480 with 1 Axes>"
      ]
     },
     "metadata": {},
     "output_type": "display_data"
    }
   ],
   "source": [
    "mean = np.mean(mean_flavors_5000)\n",
    "plus_one_std = mean+ np.std(mean_flavors_5000 , ddof=1)\n",
    "minus_one_std = mean - np.std(mean_flavors_5000 , ddof=1)\n",
    "\n",
    "plt.hist(mean_flavors_5000);\n",
    "plt.axvline(mean, color='black', linestyle='dashed', linewidth=2, label=f'Mean: {mean:.2f}')\n",
    "plt.axvline(plus_one_std, color=\"red\" , linestyle=\"dashed\", linewidth=2, label=f'mean + std: {plus_one_std:.2f}')\n",
    "plt.axvline(minus_one_std, color=\"yellow\" , linestyle=\"dashed\", linewidth=2, label=f'mean - std: {minus_one_std:.2f}')\n",
    "plt.legend()"
   ]
  },
  {
   "cell_type": "code",
   "execution_count": 41,
   "id": "6e1ed58d",
   "metadata": {},
   "outputs": [
    {
     "data": {
      "text/plain": [
       "<matplotlib.legend.Legend at 0x21c109264b0>"
      ]
     },
     "execution_count": 41,
     "metadata": {},
     "output_type": "execute_result"
    },
    {
     "data": {
      "image/png": "[encoded data removed]",
      "text/plain": [
       "<Figure size 640x480 with 1 Axes>"
      ]
     },
     "metadata": {},
     "output_type": "display_data"
    }
   ],
   "source": [
    "quantile_lower = np.quantile(mean_flavors_5000, 0.025)\n",
    "quantile_upper = np.quantile(mean_flavors_5000 , 0.975)\n",
    "\n",
    "plt.hist(mean_flavors_5000);\n",
    "plt.axvline(mean, color='black', linestyle='dashed', linewidth=2, label=f'Mean: {mean:.2f}')\n",
    "plt.axvline(quantile_lower, color=\"red\" , linestyle=\"dashed\", linewidth=2, label=f'quantile_lower: {plus_one_std:.2f}')\n",
    "plt.axvline(quantile_upper, color=\"yellow\" , linestyle=\"dashed\", linewidth=2, label=f'quantile_upper: {quantile_upper:.2f}')\n",
    "plt.legend()"
   ]
  },
  {
   "cell_type": "code",
   "execution_count": 43,
   "id": "2346892f",
   "metadata": {},
   "outputs": [
    {
     "data": {
      "text/plain": [
       "<matplotlib.legend.Legend at 0x21c1087b4d0>"
      ]
     },
     "execution_count": 43,
     "metadata": {},
     "output_type": "execute_result"
    },
    {
     "data": {
      "image/png": "[encoded data removed]",
      "text/plain": [
       "<Figure size 640x480 with 1 Axes>"
      ]
     },
     "metadata": {},
     "output_type": "display_data"
    }
   ],
   "source": [
    "mean= np.mean(mean_flavors_5000)\n",
    "plus_one_std = mean + 3*np.std(mean_flavors_5000 , ddof=1)\n",
    "minus_one_std = mean- 3*np.std(mean_flavors_5000, ddof=1)\n",
    "\n",
    "plt.hist(mean_flavors_5000);\n",
    "plt.axvline(mean, color='black', linestyle='dashed', linewidth=2, label=f'Mean: {mean:.2f}')\n",
    "plt.axvline(plus_one_std, color=\"red\" , linestyle=\"dashed\", linewidth=2, label=f'mean+std: {plus_one_std:.2f}')\n",
    "plt.axvline(minus_one_std, color=\"yellow\" , linestyle=\"dashed\", linewidth=2, label=f'mean-std: {minus_one_std:.2f}')\n",
    "plt.legend()"
   ]
  },
  {
   "cell_type": "code",
   "execution_count": 45,
   "id": "66b05218",
   "metadata": {},
   "outputs": [
    {
     "data": {
      "text/plain": [
       "<function matplotlib.pyplot.show(close=None, block=None)>"
      ]
     },
     "execution_count": 45,
     "metadata": {},
     "output_type": "execute_result"
    },
    {
     "data": {
      "image/png": "[encoded data removed]",
      "text/plain": [
       "<Figure size 640x480 with 1 Axes>"
      ]
     },
     "metadata": {},
     "output_type": "display_data"
    }
   ],
   "source": [
    "from scipy.stats import norm\n",
    "p_values = np.linspace(0,1,100)\n",
    "quantiles = norm.ppf(p_values , loc=0 , scale=1)\n",
    "plt.plot(p_values , quantiles , label =\"Inserve CDF(Normal Distribution)\")\n",
    "\n",
    "p1,p2 = 0.025 , 0.975\n",
    "quantile_025 = norm.ppf(p1)\n",
    "quantile_975 = norm.ppf(p2)\n",
    "\n",
    "plt.scatter([p1 , p2] , [quantile_025 , quantile_975] , color=\"red\") #noktaları çiz\n",
    "plt.axvline(p1 , color=\"red\" , linestyle=\"dashed\" , linewidth=1) #p1 için dikey çizgi\n",
    "plt.axvline(p2,color=\"red\" , linestyle=\"dashed\" , linewidth=1) #p2 için dikey çizgi\n",
    "\n",
    "# X ve Y değerlerini grafite gösterelim\n",
    "plt.text(p1, quantile_025 , f'({p1:.3f} , {quantile_025:.2f})' , color=\"red\" , fontsize=10 , ha='right')\n",
    "plt.text(p2, quantile_975 , f'({p2:.3f} , {quantile_975:.2f})' , color=\"red\" , fontsize=10 , ha='right')\n",
    "\n",
    "plt.xlabel(\"Probability (p)\")\n",
    "plt.ylabel(\"Quantile (x)\")\n",
    "plt.title(\"Inverse Cumulative Distribution Function (Normal)\")\n",
    "plt.grid(True)\n",
    "plt.legend()\n",
    "plt.show"
   ]
  },
  {
   "cell_type": "code",
   "execution_count": 46,
   "id": "aa21adf3",
   "metadata": {},
   "outputs": [
    {
     "data": {
      "text/html": [
       "<div>\n",
       "<style scoped>\n",
       "    .dataframe tbody tr th:only-of-type {\n",
       "        vertical-align: middle;\n",
       "    }\n",
       "\n",
       "    .dataframe tbody tr th {\n",
       "        vertical-align: top;\n",
       "    }\n",
       "\n",
       "    .dataframe thead th {\n",
       "        text-align: right;\n",
       "    }\n",
       "</style>\n",
       "<table border=\"1\" class=\"dataframe\">\n",
       "  <thead>\n",
       "    <tr style=\"text-align: right;\">\n",
       "      <th></th>\n",
       "      <th>respondent</th>\n",
       "      <th>main_branch</th>\n",
       "      <th>hobbyist</th>\n",
       "      <th>age</th>\n",
       "      <th>age_1st_code</th>\n",
       "      <th>age_first_code_cut</th>\n",
       "      <th>comp_freq</th>\n",
       "      <th>comp_total</th>\n",
       "      <th>converted_comp</th>\n",
       "      <th>country</th>\n",
       "      <th>...</th>\n",
       "      <th>survey_length</th>\n",
       "      <th>trans</th>\n",
       "      <th>undergrad_major</th>\n",
       "      <th>webframe_desire_next_year</th>\n",
       "      <th>webframe_worked_with</th>\n",
       "      <th>welcome_change</th>\n",
       "      <th>work_week_hrs</th>\n",
       "      <th>years_code</th>\n",
       "      <th>years_code_pro</th>\n",
       "      <th>age_cat</th>\n",
       "    </tr>\n",
       "  </thead>\n",
       "  <tbody>\n",
       "    <tr>\n",
       "      <th>0</th>\n",
       "      <td>36.0</td>\n",
       "      <td>I am not primarily a developer, but I write co...</td>\n",
       "      <td>Yes</td>\n",
       "      <td>34.0</td>\n",
       "      <td>30.0</td>\n",
       "      <td>adult</td>\n",
       "      <td>Yearly</td>\n",
       "      <td>60000.0</td>\n",
       "      <td>77556.0</td>\n",
       "      <td>United Kingdom</td>\n",
       "      <td>...</td>\n",
       "      <td>Appropriate in length</td>\n",
       "      <td>No</td>\n",
       "      <td>Computer science, computer engineering, or sof...</td>\n",
       "      <td>Express;React.js</td>\n",
       "      <td>Express;React.js</td>\n",
       "      <td>Just as welcome now as I felt last year</td>\n",
       "      <td>40.0</td>\n",
       "      <td>4.0</td>\n",
       "      <td>3.0</td>\n",
       "      <td>At least 30</td>\n",
       "    </tr>\n",
       "    <tr>\n",
       "      <th>1</th>\n",
       "      <td>47.0</td>\n",
       "      <td>I am a developer by profession</td>\n",
       "      <td>Yes</td>\n",
       "      <td>53.0</td>\n",
       "      <td>10.0</td>\n",
       "      <td>child</td>\n",
       "      <td>Yearly</td>\n",
       "      <td>58000.0</td>\n",
       "      <td>74970.0</td>\n",
       "      <td>United Kingdom</td>\n",
       "      <td>...</td>\n",
       "      <td>Appropriate in length</td>\n",
       "      <td>No</td>\n",
       "      <td>A natural science (such as biology, chemistry,...</td>\n",
       "      <td>Flask;Spring</td>\n",
       "      <td>Flask;Spring</td>\n",
       "      <td>Just as welcome now as I felt last year</td>\n",
       "      <td>40.0</td>\n",
       "      <td>43.0</td>\n",
       "      <td>28.0</td>\n",
       "      <td>At least 30</td>\n",
       "    </tr>\n",
       "    <tr>\n",
       "      <th>2</th>\n",
       "      <td>69.0</td>\n",
       "      <td>I am a developer by profession</td>\n",
       "      <td>Yes</td>\n",
       "      <td>25.0</td>\n",
       "      <td>12.0</td>\n",
       "      <td>child</td>\n",
       "      <td>Yearly</td>\n",
       "      <td>550000.0</td>\n",
       "      <td>594539.0</td>\n",
       "      <td>France</td>\n",
       "      <td>...</td>\n",
       "      <td>Too short</td>\n",
       "      <td>No</td>\n",
       "      <td>Computer science, computer engineering, or sof...</td>\n",
       "      <td>Django;Flask</td>\n",
       "      <td>Django;Flask</td>\n",
       "      <td>Just as welcome now as I felt last year</td>\n",
       "      <td>40.0</td>\n",
       "      <td>13.0</td>\n",
       "      <td>3.0</td>\n",
       "      <td>Under 30</td>\n",
       "    </tr>\n",
       "    <tr>\n",
       "      <th>3</th>\n",
       "      <td>125.0</td>\n",
       "      <td>I am not primarily a developer, but I write co...</td>\n",
       "      <td>Yes</td>\n",
       "      <td>41.0</td>\n",
       "      <td>30.0</td>\n",
       "      <td>adult</td>\n",
       "      <td>Monthly</td>\n",
       "      <td>200000.0</td>\n",
       "      <td>2000000.0</td>\n",
       "      <td>United States</td>\n",
       "      <td>...</td>\n",
       "      <td>Appropriate in length</td>\n",
       "      <td>No</td>\n",
       "      <td>None</td>\n",
       "      <td>None</td>\n",
       "      <td>None</td>\n",
       "      <td>Just as welcome now as I felt last year</td>\n",
       "      <td>40.0</td>\n",
       "      <td>11.0</td>\n",
       "      <td>11.0</td>\n",
       "      <td>At least 30</td>\n",
       "    </tr>\n",
       "    <tr>\n",
       "      <th>4</th>\n",
       "      <td>147.0</td>\n",
       "      <td>I am not primarily a developer, but I write co...</td>\n",
       "      <td>No</td>\n",
       "      <td>28.0</td>\n",
       "      <td>15.0</td>\n",
       "      <td>adult</td>\n",
       "      <td>Yearly</td>\n",
       "      <td>50000.0</td>\n",
       "      <td>37816.0</td>\n",
       "      <td>Canada</td>\n",
       "      <td>...</td>\n",
       "      <td>Appropriate in length</td>\n",
       "      <td>No</td>\n",
       "      <td>Another engineering discipline (such as civil,...</td>\n",
       "      <td>None</td>\n",
       "      <td>Express;Flask</td>\n",
       "      <td>Just as welcome now as I felt last year</td>\n",
       "      <td>40.0</td>\n",
       "      <td>5.0</td>\n",
       "      <td>3.0</td>\n",
       "      <td>Under 30</td>\n",
       "    </tr>\n",
       "    <tr>\n",
       "      <th>...</th>\n",
       "      <td>...</td>\n",
       "      <td>...</td>\n",
       "      <td>...</td>\n",
       "      <td>...</td>\n",
       "      <td>...</td>\n",
       "      <td>...</td>\n",
       "      <td>...</td>\n",
       "      <td>...</td>\n",
       "      <td>...</td>\n",
       "      <td>...</td>\n",
       "      <td>...</td>\n",
       "      <td>...</td>\n",
       "      <td>...</td>\n",
       "      <td>...</td>\n",
       "      <td>...</td>\n",
       "      <td>...</td>\n",
       "      <td>...</td>\n",
       "      <td>...</td>\n",
       "      <td>...</td>\n",
       "      <td>...</td>\n",
       "      <td>...</td>\n",
       "    </tr>\n",
       "    <tr>\n",
       "      <th>2256</th>\n",
       "      <td>62812.0</td>\n",
       "      <td>I am a developer by profession</td>\n",
       "      <td>Yes</td>\n",
       "      <td>40.0</td>\n",
       "      <td>10.0</td>\n",
       "      <td>child</td>\n",
       "      <td>Yearly</td>\n",
       "      <td>145000.0</td>\n",
       "      <td>145000.0</td>\n",
       "      <td>United States</td>\n",
       "      <td>...</td>\n",
       "      <td>Too long</td>\n",
       "      <td>No</td>\n",
       "      <td>Computer science, computer engineering, or sof...</td>\n",
       "      <td>Flask;jQuery</td>\n",
       "      <td>Angular;Angular.js;Flask;jQuery;React.js</td>\n",
       "      <td>Somewhat less welcome now than last year</td>\n",
       "      <td>50.0</td>\n",
       "      <td>30.0</td>\n",
       "      <td>20.0</td>\n",
       "      <td>At least 30</td>\n",
       "    </tr>\n",
       "    <tr>\n",
       "      <th>2257</th>\n",
       "      <td>62835.0</td>\n",
       "      <td>I am a developer by profession</td>\n",
       "      <td>Yes</td>\n",
       "      <td>23.0</td>\n",
       "      <td>9.0</td>\n",
       "      <td>child</td>\n",
       "      <td>Monthly</td>\n",
       "      <td>180000.0</td>\n",
       "      <td>33972.0</td>\n",
       "      <td>Russian Federation</td>\n",
       "      <td>...</td>\n",
       "      <td>Too short</td>\n",
       "      <td>No</td>\n",
       "      <td>Computer science, computer engineering, or sof...</td>\n",
       "      <td>ASP.NET Core</td>\n",
       "      <td>ASP.NET Core;Flask</td>\n",
       "      <td>Just as welcome now as I felt last year</td>\n",
       "      <td>60.0</td>\n",
       "      <td>8.0</td>\n",
       "      <td>3.0</td>\n",
       "      <td>Under 30</td>\n",
       "    </tr>\n",
       "    <tr>\n",
       "      <th>2258</th>\n",
       "      <td>62837.0</td>\n",
       "      <td>I am a developer by profession</td>\n",
       "      <td>Yes</td>\n",
       "      <td>27.0</td>\n",
       "      <td>8.0</td>\n",
       "      <td>child</td>\n",
       "      <td>Monthly</td>\n",
       "      <td>7500.0</td>\n",
       "      <td>97284.0</td>\n",
       "      <td>Germany</td>\n",
       "      <td>...</td>\n",
       "      <td>Appropriate in length</td>\n",
       "      <td>No</td>\n",
       "      <td>Mathematics or statistics</td>\n",
       "      <td>None</td>\n",
       "      <td>None</td>\n",
       "      <td>Just as welcome now as I felt last year</td>\n",
       "      <td>42.0</td>\n",
       "      <td>12.0</td>\n",
       "      <td>2.0</td>\n",
       "      <td>Under 30</td>\n",
       "    </tr>\n",
       "    <tr>\n",
       "      <th>2259</th>\n",
       "      <td>62867.0</td>\n",
       "      <td>I am not primarily a developer, but I write co...</td>\n",
       "      <td>Yes</td>\n",
       "      <td>33.0</td>\n",
       "      <td>13.0</td>\n",
       "      <td>child</td>\n",
       "      <td>Monthly</td>\n",
       "      <td>6000.0</td>\n",
       "      <td>72000.0</td>\n",
       "      <td>Panama</td>\n",
       "      <td>...</td>\n",
       "      <td>Too long</td>\n",
       "      <td>No</td>\n",
       "      <td>Another engineering discipline (such as civil,...</td>\n",
       "      <td>None</td>\n",
       "      <td>Django;React.js</td>\n",
       "      <td>A lot less welcome now than last year</td>\n",
       "      <td>45.0</td>\n",
       "      <td>15.0</td>\n",
       "      <td>2.0</td>\n",
       "      <td>At least 30</td>\n",
       "    </tr>\n",
       "    <tr>\n",
       "      <th>2260</th>\n",
       "      <td>62882.0</td>\n",
       "      <td>I am a developer by profession</td>\n",
       "      <td>Yes</td>\n",
       "      <td>28.0</td>\n",
       "      <td>13.0</td>\n",
       "      <td>child</td>\n",
       "      <td>Yearly</td>\n",
       "      <td>180000.0</td>\n",
       "      <td>180000.0</td>\n",
       "      <td>United States</td>\n",
       "      <td>...</td>\n",
       "      <td>Appropriate in length</td>\n",
       "      <td>No</td>\n",
       "      <td>Computer science, computer engineering, or sof...</td>\n",
       "      <td>Angular;Express;Flask;React.js</td>\n",
       "      <td>Angular;Angular.js;Django;Drupal;Express;Flask</td>\n",
       "      <td>Just as welcome now as I felt last year</td>\n",
       "      <td>40.0</td>\n",
       "      <td>11.0</td>\n",
       "      <td>5.0</td>\n",
       "      <td>Under 30</td>\n",
       "    </tr>\n",
       "  </tbody>\n",
       "</table>\n",
       "<p>2261 rows × 63 columns</p>\n",
       "</div>"
      ],
      "text/plain": [
       "      respondent                                        main_branch hobbyist  \\\n",
       "0           36.0  I am not primarily a developer, but I write co...      Yes   \n",
       "1           47.0                     I am a developer by profession      Yes   \n",
       "2           69.0                     I am a developer by profession      Yes   \n",
       "3          125.0  I am not primarily a developer, but I write co...      Yes   \n",
       "4          147.0  I am not primarily a developer, but I write co...       No   \n",
       "...          ...                                                ...      ...   \n",
       "2256     62812.0                     I am a developer by profession      Yes   \n",
       "2257     62835.0                     I am a developer by profession      Yes   \n",
       "2258     62837.0                     I am a developer by profession      Yes   \n",
       "2259     62867.0  I am not primarily a developer, but I write co...      Yes   \n",
       "2260     62882.0                     I am a developer by profession      Yes   \n",
       "\n",
       "       age  age_1st_code age_first_code_cut comp_freq  comp_total  \\\n",
       "0     34.0          30.0              adult    Yearly     60000.0   \n",
       "1     53.0          10.0              child    Yearly     58000.0   \n",
       "2     25.0          12.0              child    Yearly    550000.0   \n",
       "3     41.0          30.0              adult   Monthly    200000.0   \n",
       "4     28.0          15.0              adult    Yearly     50000.0   \n",
       "...    ...           ...                ...       ...         ...   \n",
       "2256  40.0          10.0              child    Yearly    145000.0   \n",
       "2257  23.0           9.0              child   Monthly    180000.0   \n",
       "2258  27.0           8.0              child   Monthly      7500.0   \n",
       "2259  33.0          13.0              child   Monthly      6000.0   \n",
       "2260  28.0          13.0              child    Yearly    180000.0   \n",
       "\n",
       "      converted_comp             country  ...          survey_length trans  \\\n",
       "0            77556.0      United Kingdom  ...  Appropriate in length    No   \n",
       "1            74970.0      United Kingdom  ...  Appropriate in length    No   \n",
       "2           594539.0              France  ...              Too short    No   \n",
       "3          2000000.0       United States  ...  Appropriate in length    No   \n",
       "4            37816.0              Canada  ...  Appropriate in length    No   \n",
       "...              ...                 ...  ...                    ...   ...   \n",
       "2256        145000.0       United States  ...               Too long    No   \n",
       "2257         33972.0  Russian Federation  ...              Too short    No   \n",
       "2258         97284.0             Germany  ...  Appropriate in length    No   \n",
       "2259         72000.0              Panama  ...               Too long    No   \n",
       "2260        180000.0       United States  ...  Appropriate in length    No   \n",
       "\n",
       "                                        undergrad_major  \\\n",
       "0     Computer science, computer engineering, or sof...   \n",
       "1     A natural science (such as biology, chemistry,...   \n",
       "2     Computer science, computer engineering, or sof...   \n",
       "3                                                  None   \n",
       "4     Another engineering discipline (such as civil,...   \n",
       "...                                                 ...   \n",
       "2256  Computer science, computer engineering, or sof...   \n",
       "2257  Computer science, computer engineering, or sof...   \n",
       "2258                          Mathematics or statistics   \n",
       "2259  Another engineering discipline (such as civil,...   \n",
       "2260  Computer science, computer engineering, or sof...   \n",
       "\n",
       "           webframe_desire_next_year  \\\n",
       "0                   Express;React.js   \n",
       "1                       Flask;Spring   \n",
       "2                       Django;Flask   \n",
       "3                               None   \n",
       "4                               None   \n",
       "...                              ...   \n",
       "2256                    Flask;jQuery   \n",
       "2257                    ASP.NET Core   \n",
       "2258                            None   \n",
       "2259                            None   \n",
       "2260  Angular;Express;Flask;React.js   \n",
       "\n",
       "                                webframe_worked_with  \\\n",
       "0                                   Express;React.js   \n",
       "1                                       Flask;Spring   \n",
       "2                                       Django;Flask   \n",
       "3                                               None   \n",
       "4                                      Express;Flask   \n",
       "...                                              ...   \n",
       "2256        Angular;Angular.js;Flask;jQuery;React.js   \n",
       "2257                              ASP.NET Core;Flask   \n",
       "2258                                            None   \n",
       "2259                                 Django;React.js   \n",
       "2260  Angular;Angular.js;Django;Drupal;Express;Flask   \n",
       "\n",
       "                                welcome_change work_week_hrs years_code  \\\n",
       "0      Just as welcome now as I felt last year          40.0        4.0   \n",
       "1      Just as welcome now as I felt last year          40.0       43.0   \n",
       "2      Just as welcome now as I felt last year          40.0       13.0   \n",
       "3      Just as welcome now as I felt last year          40.0       11.0   \n",
       "4      Just as welcome now as I felt last year          40.0        5.0   \n",
       "...                                        ...           ...        ...   \n",
       "2256  Somewhat less welcome now than last year          50.0       30.0   \n",
       "2257   Just as welcome now as I felt last year          60.0        8.0   \n",
       "2258   Just as welcome now as I felt last year          42.0       12.0   \n",
       "2259     A lot less welcome now than last year          45.0       15.0   \n",
       "2260   Just as welcome now as I felt last year          40.0       11.0   \n",
       "\n",
       "     years_code_pro      age_cat  \n",
       "0               3.0  At least 30  \n",
       "1              28.0  At least 30  \n",
       "2               3.0     Under 30  \n",
       "3              11.0  At least 30  \n",
       "4               3.0     Under 30  \n",
       "...             ...          ...  \n",
       "2256           20.0  At least 30  \n",
       "2257            3.0     Under 30  \n",
       "2258            2.0     Under 30  \n",
       "2259            2.0  At least 30  \n",
       "2260            5.0     Under 30  \n",
       "\n",
       "[2261 rows x 63 columns]"
      ]
     },
     "execution_count": 46,
     "metadata": {},
     "output_type": "execute_result"
    }
   ],
   "source": [
    "df_stck = pd.read_feather(\"data/stack_overflow.feather\")\n",
    "df_stck"
   ]
  },
  {
   "cell_type": "code",
   "execution_count": 47,
   "id": "6c6d41fa",
   "metadata": {},
   "outputs": [
    {
     "ename": "NameError",
     "evalue": "name 'point_estimate' is not defined",
     "output_type": "error",
     "traceback": [
      "\u001b[1;31m---------------------------------------------------------------------------\u001b[0m",
      "\u001b[1;31mNameError\u001b[0m                                 Traceback (most recent call last)",
      "Cell \u001b[1;32mIn[47], line 3\u001b[0m\n\u001b[0;32m      1\u001b[0m \u001b[38;5;28;01mfrom\u001b[39;00m \u001b[38;5;21;01mscipy\u001b[39;00m\u001b[38;5;21;01m.\u001b[39;00m\u001b[38;5;21;01mstats\u001b[39;00m \u001b[38;5;28;01mimport\u001b[39;00m norm\n\u001b[1;32m----> 3\u001b[0m lower\u001b[38;5;241m=\u001b[39m norm\u001b[38;5;241m.\u001b[39mppf(\u001b[38;5;241m0.025\u001b[39m , loc\u001b[38;5;241m=\u001b[39mpoint_estimate , scale\u001b[38;5;241m=\u001b[39mstd_error)\n\u001b[0;32m      4\u001b[0m upper\u001b[38;5;241m=\u001b[39m norm\u001b[38;5;241m.\u001b[39mppf(\u001b[38;5;241m0.975\u001b[39m , loc\u001b[38;5;241m=\u001b[39mpoint_estimate , scale\u001b[38;5;241m=\u001b[39mstd_error)\n\u001b[0;32m      5\u001b[0m \u001b[38;5;28mprint\u001b[39m(lower , upper)\n",
      "\u001b[1;31mNameError\u001b[0m: name 'point_estimate' is not defined"
     ]
    }
   ],
   "source": [
    "from scipy.stats import norm\n",
    "\n",
    "lower= norm.ppf(0.025 , loc=point_estimate , scale=std_error)\n",
    "upper= norm.ppf(0.975 , loc=point_estimate , scale=std_error)\n",
    "print(lower , upper)"
   ]
  },
  {
   "cell_type": "code",
   "execution_count": null,
   "id": "48bd45f6",
   "metadata": {},
   "outputs": [],
   "source": [
    "mean_comp_samp = df_stck[\"converted_comp\"].mean()\n",
    "mean_comp_samp"
   ]
  },
  {
   "cell_type": "code",
   "execution_count": 50,
   "id": "2c2f907a",
   "metadata": {},
   "outputs": [],
   "source": [
    "import numpy as np\n",
    "so_boot_distn = []\n",
    "\n",
    "for i in range(5000):\n",
    "    so_boot_distn.append(np.mean(df_stck.sample(frac=1 , replace=True)[\"converted_comp\"]))"
   ]
  },
  {
   "cell_type": "code",
   "execution_count": 51,
   "id": "453169a5",
   "metadata": {},
   "outputs": [
    {
     "data": {
      "text/plain": [
       "(array([  3.,   2.,   4.,   4.,   4.,  14.,  29.,  37.,  42.,  48.,  74.,\n",
       "         98., 117., 140., 167., 212., 225., 239., 248., 266., 292., 345.,\n",
       "        277., 279., 276., 228., 237., 194., 176., 139., 106.,  97.,  89.,\n",
       "         61.,  56.,  46.,  46.,  28.,  22.,   8.,   9.,   4.,   2.,   4.,\n",
       "          3.,   1.,   1.,   0.,   0.,   1.]),\n",
       " array([101664.66386555, 102483.85171163, 103303.03955772, 104122.2274038 ,\n",
       "        104941.41524989, 105760.60309598, 106579.79094206, 107398.97878815,\n",
       "        108218.16663423, 109037.35448032, 109856.5423264 , 110675.73017249,\n",
       "        111494.91801858, 112314.10586466, 113133.29371075, 113952.48155683,\n",
       "        114771.66940292, 115590.857249  , 116410.04509509, 117229.23294118,\n",
       "        118048.42078726, 118867.60863335, 119686.79647943, 120505.98432552,\n",
       "        121325.17217161, 122144.36001769, 122963.54786378, 123782.73570986,\n",
       "        124601.92355595, 125421.11140203, 126240.29924812, 127059.48709421,\n",
       "        127878.67494029, 128697.86278638, 129517.05063246, 130336.23847855,\n",
       "        131155.42632464, 131974.61417072, 132793.80201681, 133612.98986289,\n",
       "        134432.17770898, 135251.36555506, 136070.55340115, 136889.74124724,\n",
       "        137708.92909332, 138528.11693941, 139347.30478549, 140166.49263158,\n",
       "        140985.68047766, 141804.86832375, 142624.05616984]),\n",
       " <BarContainer object of 50 artists>)"
      ]
     },
     "execution_count": 51,
     "metadata": {},
     "output_type": "execute_result"
    },
    {
     "data": {
      "image/png": "[encoded data removed]",
      "text/plain": [
       "<Figure size 640x480 with 1 Axes>"
      ]
     },
     "metadata": {},
     "output_type": "display_data"
    }
   ],
   "source": [
    "import matplotlib.pyplot as plt\n",
    "plt.hist(so_boot_distn , bins=50)"
   ]
  },
  {
   "cell_type": "code",
   "execution_count": 52,
   "id": "badec695",
   "metadata": {},
   "outputs": [
    {
     "data": {
      "text/plain": [
       "5612.854622086084"
      ]
     },
     "execution_count": 52,
     "metadata": {},
     "output_type": "execute_result"
    }
   ],
   "source": [
    "std_error = np.std(so_boot_distn , ddof=1)\n",
    "std_error"
   ]
  },
  {
   "cell_type": "code",
   "execution_count": 53,
   "id": "f3a9f0b3",
   "metadata": {},
   "outputs": [],
   "source": [
    "mean_comp_hyp=110000"
   ]
  },
  {
   "cell_type": "code",
   "execution_count": 54,
   "id": "eeb20622",
   "metadata": {},
   "outputs": [
    {
     "ename": "NameError",
     "evalue": "name 'mean_comp_samp' is not defined",
     "output_type": "error",
     "traceback": [
      "\u001b[1;31m---------------------------------------------------------------------------\u001b[0m",
      "\u001b[1;31mNameError\u001b[0m                                 Traceback (most recent call last)",
      "Cell \u001b[1;32mIn[54], line 1\u001b[0m\n\u001b[1;32m----> 1\u001b[0m z_score\u001b[38;5;241m=\u001b[39m (mean_comp_samp \u001b[38;5;241m-\u001b[39m mean_comp_hyp) \u001b[38;5;241m/\u001b[39m std_error\n\u001b[0;32m      2\u001b[0m z_score\n",
      "\u001b[1;31mNameError\u001b[0m: name 'mean_comp_samp' is not defined"
     ]
    }
   ],
   "source": [
    "z_score= (mean_comp_samp - mean_comp_hyp) / std_error\n",
    "z_score"
   ]
  },
  {
   "cell_type": "code",
   "execution_count": null,
   "id": "b00b1102",
   "metadata": {},
   "outputs": [],
   "source": [
    "#z ortalaması 0 sapması 1 olan bir dağılımdır\n",
    "from scipy.stats import norm\n",
    "z_data = np.arange(-4,4,0.1)\n",
    "plt.plot(z_data , norm.pdf(z_data , loc=0 , scale=1))"
   ]
  },
  {
   "cell_type": "code",
   "execution_count": 59,
   "id": "bf344009",
   "metadata": {},
   "outputs": [],
   "source": [
    "first_code_boot_dists= []\n",
    "\n",
    "for i in range(5000):\n",
    "    first_code_boot_dists.append(\n",
    "    np.mean(\n",
    "    (df_stck.sample(frac=1, replace=True)\n",
    "    [\"age_first_code_cut\"] == \"child\").mean()))"
   ]
  },
  {
   "cell_type": "markdown",
   "id": "d0bd0ad3",
   "metadata": {},
   "source": [
    "# 9.HAFTA"
   ]
  },
  {
   "cell_type": "markdown",
   "id": "4b1d5a16",
   "metadata": {},
   "source": [
    "## Calculating the z-score  \n",
    "p-değerini hesaplamak için önce z-puanı hesaplanmalıdır.Örnek istatistiği, bu durumda çocukların programlamaya başlayan  \n",
    "veri bilimcilerin oranı hesaplanır. Sıfır hipotezinden varsayılan değer yüzde 35 tir. Standart hata bootstrap dağılımının  \n",
    "standart sapmasından alınır ve z-puanı grafikler arasındaki farkın standart hataya bölünmesidir."
   ]
  },
  {
   "cell_type": "markdown",
   "id": "94db69ab",
   "metadata": {},
   "source": [
    "Değişkenler keyfi birimlere ve aralıklara sahip olduğundan , hipotez test edilmeden önce değerlerin standartlaştırılması  \n",
    "gerekir.Değerleri standartlaştırmanın yaygın bir yolu ortalamayı çıkarmak ve standart sapmaya bölmektir.Hipotez testi için,  \n",
    "örnek istatistiğin alındığı , varsayılan parametre değerinin çıkarıldığı ve standart hataya bölündüğü bir varyasyon kullanılır.\n",
    "Sonuç z-skoru olarak adlandırılır.  \n",
    "Standardized value = (value-mean)/Standard Deviation  \n",
    "z=(sample stat-pypoth.param.value)/ Standard Error"
   ]
  },
  {
   "cell_type": "code",
   "execution_count": 63,
   "id": "6ae1f5a8",
   "metadata": {},
   "outputs": [
    {
     "data": {
      "text/plain": [
       "0.39141972578505085"
      ]
     },
     "execution_count": 63,
     "metadata": {},
     "output_type": "execute_result"
    }
   ],
   "source": [
    "prop_child_samp = (df_stck[\"age_first_code_cut\"] == \"child\").mean()\n",
    "prop_child_samp"
   ]
  },
  {
   "cell_type": "code",
   "execution_count": 64,
   "id": "cebeed23",
   "metadata": {},
   "outputs": [],
   "source": [
    "prop_child_hyp = 0.55"
   ]
  },
  {
   "cell_type": "code",
   "execution_count": 65,
   "id": "e09e0672",
   "metadata": {},
   "outputs": [
    {
     "data": {
      "text/plain": [
       "0.010324793986882656"
      ]
     },
     "execution_count": 65,
     "metadata": {},
     "output_type": "execute_result"
    }
   ],
   "source": [
    "std_err = np.std(first_code_boot_dists , ddof=1)\n",
    "std_err"
   ]
  },
  {
   "cell_type": "code",
   "execution_count": 66,
   "id": "5fa5f51a",
   "metadata": {},
   "outputs": [
    {
     "data": {
      "text/plain": [
       "-2.8253052126265644e-05"
      ]
     },
     "execution_count": 66,
     "metadata": {},
     "output_type": "execute_result"
    }
   ],
   "source": [
    "z_score= (prop_child_samp - prop_child_hyp)/std_error\n",
    "z_score"
   ]
  },
  {
   "cell_type": "markdown",
   "id": "a3469695",
   "metadata": {},
   "source": [
    "Z-puanını, varsayılan sıfır ortalama ve bir standart sapma değerleriyle standart normal CDF'ye norm.cdf()'ye aktarılır.  \n",
    "Sol kuyruk testi değil, sağ kuyruk testi gerçekleştirildiği için, p-değeri norm.cdf sonucu bir eksiltilerek hesaplanır."
   ]
  },
  {
   "cell_type": "code",
   "execution_count": 69,
   "id": "d219985c",
   "metadata": {},
   "outputs": [
    {
     "data": {
      "text/plain": [
       "0.500011271337042"
      ]
     },
     "execution_count": 69,
     "metadata": {},
     "output_type": "execute_result"
    }
   ],
   "source": [
    "from scipy.stats import norm\n",
    "1-norm.cdf(z_score , loc=0 , scale=1)"
   ]
  },
  {
   "cell_type": "markdown",
   "id": "f8ec84b1",
   "metadata": {},
   "source": [
    "# Statistical significance  \n",
    "## p-value özeti  \n",
    "* p-değerleri, sıfır hipotezi için ne kadar kanıt olduğunu ölçer.\n",
    "* Büyük p-değerleri, alternatif hipotez için kanıt eksikliğini gösterir , bunun yerine  varsayılan sıfır hipotezine bağlı kalınır.\n",
    "* Küçük p-değerleri alternatif hipotez lehine bu orjinal varsayımdan şüphe etmeye neden olur.\n",
    "* Küçük bir p-değeri ile büyük bir p-değeri arasındaki kesme noktası(cutoff) ne belirler?  \n",
    "\n",
    "## Significance level(Anlamlılık Düzeyi)\n",
    "* Kesme noktası(cutoff) anlamlılık düzeyi olarak bilinir ve alfa(α) ile gösterilir.\n",
    "* Uygun anlamlılık seviyesi veri setine ve çalışılan disipline bağlıdır.\n",
    "* Yüzde beş en yaygın seçimdir, ancak yüzde on ve yüzde bir de popülerdir.\n",
    "* Anlamlılık düzeyi hangi hipotezin destekleneceğine dair bir karar süreci sunar.\n",
    "* Eğer p-değeri alfa değerinden küçük ya da eşitse , sıfır hipotezi reddedilir.Aksi takdirde, reddedilir.Eğer p<=α H0 reddedilir aksi taktirde H0 reddedilemez."
   ]
  },
  {
   "cell_type": "markdown",
   "id": "cb953a7e",
   "metadata": {},
   "source": [
    "## p-value hesaplama  \n",
    "* İş akışı, anlamlılık düzeyinin ayarlanmasıyla başlar, bu durumda 0,05.\n",
    "* Ardından, örnek ortalaması hesaplanır ve varsayılan ortalama belirlenir.\n",
    "* Z-skoru için, bootstrap dağılımından elde edilen standart hataya da ihtiyaç vardır.\n",
    "* Daha sonra örnek ortalaması, varsayılan ortalama ve standart hata kullanarak z-skoru hesaplanır ve p-değerini elde etmek için standart normal CDF kullanılır."
   ]
  },
  {
   "cell_type": "code",
   "execution_count": 77,
   "id": "da95a29a",
   "metadata": {},
   "outputs": [
    {
     "data": {
      "text/plain": [
       "3.01446331658628e-05"
      ]
     },
     "execution_count": 77,
     "metadata": {},
     "output_type": "execute_result"
    }
   ],
   "source": [
    "from scipy.stats import norm\n",
    "alpha=0.05\n",
    "prop_child_samp = (df_stck[\"age_first_code_cut\"] == \"child\").mean()\n",
    "prop_child_hyp=0.35\n",
    "\n",
    "std_err=np.std(first_code_boot_dists , ddof=1)\n",
    "z_score = (prop_child_samp-prop_child_hyp)/ std_err\n",
    "\n",
    "p_value =1- norm.cdf(z_score , loc=0 , scale=1)\n",
    "p_value"
   ]
  },
  {
   "cell_type": "markdown",
   "id": "d105b752",
   "metadata": {},
   "source": [
    "### Karar Verme  \n",
    "Bu durumda önceki çıkan sonuç değeri 0.05'den küçüktür ve dolayısıyla sıfır hipotezi reddedilir.Programlamaya çocukken başlayan veri bilimcilerin oranının yüzde 35'ten fazla olduğuna dair alternatif hipotez için güçlü kanıtlar vardır."
   ]
  },
  {
   "cell_type": "code",
   "execution_count": 80,
   "id": "6dc4735d",
   "metadata": {},
   "outputs": [
    {
     "data": {
      "text/plain": [
       "True"
      ]
     },
     "execution_count": 80,
     "metadata": {},
     "output_type": "execute_result"
    }
   ],
   "source": [
    "p_value<=alpha"
   ]
  },
  {
   "cell_type": "markdown",
   "id": "07a56ea7",
   "metadata": {},
   "source": [
    "## Confidence intervals(Güven Aralıkları) \n",
    "Popülasyon parametresinin potansiyel değerleri hakkında bir fikir edinmek için anlamlılık düzeyinin bir eksiği(1-α) kadar bir güven aralığı düzeyi seçmek yaygındır.  \n",
    "0.05 puanlık bir anlamlılık düzeyi için yüzde 95'lik bir güven aralığı kullanılır.  \n",
    "Bu kantil yöntemi kullanılarak yapılan hesaplamaya bir örnektir.Bu aralık , çocukken programlama yapan veri bilimcilerin popülasyon oranı için bir dizi makul değer sağlar."
   ]
  },
  {
   "cell_type": "code",
   "execution_count": 83,
   "id": "29071bc9",
   "metadata": {},
   "outputs": [
    {
     "data": {
      "text/plain": [
       "(0.3949579831932773, 0.3949579831932773)"
      ]
     },
     "execution_count": 83,
     "metadata": {},
     "output_type": "execute_result"
    }
   ],
   "source": [
    "lower = np.quantile(first_code_boot_dists, 0.025)\n",
    "upper = np.quantile(first_code_boot_dists, 0.975)\n",
    "(lower, upper)\n"
   ]
  },
  {
   "cell_type": "markdown",
   "id": "63b03c1e",
   "metadata": {},
   "source": [
    "### Hata Türleri  \n",
    "defter"
   ]
  },
  {
   "cell_type": "markdown",
   "id": "3fe954e7",
   "metadata": {},
   "source": [
    "### Yapılan örnekteki olası hatalar  \n",
    "Veri bilimcilerin çocuk olarak kodlama yapması durumunda , anlamlılık düzeyine eşit veya daha düşük bir p-değeri elde edildiyse ve sıfır hipotezi reddedildiyse, yanlış pozitif bir hata yapılmış olabilir.Veri bilimcilerin daha yüksek oranda çocuk olarak kodlamaya başlandığı düşünmesine rağmen , bu tüm popülasyon için doğru olmayabilir. Tersine , p-değeri anlamlılık düzeyinden büyükse ve sıfır hipotezi reddedilemediyse yanlış negatif bir hata yapılmış olabilir."
   ]
  },
  {
   "cell_type": "markdown",
   "id": "3a1aa077",
   "metadata": {},
   "source": [
    "## t-testlerinin gerçekleştirilmesi tek bir değişken için bir test istatistiği olan z-skorunu hesaplamıştık.  \n",
    "Bir önceki bölümde, tek bir değişken için bir test istatistiği olan z-skorunu hesaplama anlatılmıştı.\n",
    "\n",
    "### İki örneklemli problemler  \n",
    "* Burada bir değişkendeki gruplar arasında örnek istatistiklerinin karşılaştırılmasıyla ilgilenecektir.\n",
    "* Stack Overflow veri setinde converted_comp sayısal bir yıllık ücret değişkenidir.\n",
    "* age_first_code_cut ise iki seviyeli kategorik bir değişkendir, kullanıcının programlamaya ne zaman başladığını tamamlayan çocuk ve yetişkin yaş grubu arasındaki ücret farklılıkları hakkında sorular sorulabilir. Örneğin, ilk olarak çocukken programlama yapan kulanıcılar, yetişkin olarak başlayanlara göre daha mı iyi ücret alıyor?"
   ]
  },
  {
   "cell_type": "markdown",
   "id": "ee609cc4",
   "metadata": {},
   "source": [
    "### Grup bazında özet istatistiklerin hesaplanması  "
   ]
  },
  {
   "cell_type": "code",
   "execution_count": 89,
   "id": "3433600d",
   "metadata": {},
   "outputs": [
    {
     "data": {
      "text/plain": [
       "age_first_code_cut\n",
       "adult    111313.311047\n",
       "child    132419.570621\n",
       "Name: converted_comp, dtype: float64"
      ]
     },
     "execution_count": 89,
     "metadata": {},
     "output_type": "execute_result"
    }
   ],
   "source": [
    "#kullanılan veri seti bir örneklemdir\n",
    "df_stck.groupby(\"age_first_code_cut\")[\"converted_comp\"].mean()"
   ]
  },
  {
   "cell_type": "markdown",
   "id": "46d8241f",
   "metadata": {},
   "source": [
    "Burada çocuk programcıların ortalama tazminatı yaklaşık 132.000 dolar iken yetişkin programcılarınki 111.000 dolar civarındadır. Bu artış istatistiksel olarak anlamlı mıdır yoksa örnekleme değişkenliği ile açıklanabilir mi?"
   ]
  },
  {
   "cell_type": "markdown",
   "id": "d3108a44",
   "metadata": {},
   "source": [
    "## Test İstatistikleri  \n",
    "Poülasyon ortalamasını bilinmese de, örneklem ortalaması kullanılarak tahmin edilebilir. I bir örneklem ortalamasını belirtmek için kullanılır. Daha sonra örnek ortalamasının hangi gruba karşılık geldiğini belirtmek için alt simgeler kullanılır. Bu iki örneklem ortalaması arasındaki fark, hipotez testi için test istatistiğidir. Daha önce anlatılan z-skorları bir tür standartlaştırılmış test istatistiğidir."
   ]
  },
  {
   "cell_type": "markdown",
   "id": "6a90b27d",
   "metadata": {},
   "source": [
    "defter"
   ]
  },
  {
   "cell_type": "markdown",
   "id": "91950f0a",
   "metadata": {},
   "source": [
    "### Test istatistiğinin standartlaştırılması  \n",
    "z-skorları, örneklem istatistiğinin alınması , bu istatistiğin ortalamasının ilgilenilen popülasyon parametresi olarak çıkarılması ve ardından standart hataya bölünmesiyle hesaplanır.İki örneklem durumunda , t olarak gösterilen test istatistiği benzer bir denklem kullanır. İki grup için örneklem istatistikleri arasındaki farkı alır , iki grup arasındaki popülasyon farkı çıkarılır ve ardından standart hataya bölünür."
   ]
  },
  {
   "cell_type": "markdown",
   "id": "22a524ee",
   "metadata": {},
   "source": [
    "### Standard Error  \n",
    "Test istatistiği denkleminin paydası için gerekli olan standart hatayı hesaplamak için bootstrapping iyi bir seçenek olma eğilimindedir. Ancak, buna yaklaşmanın daha kolay bir yolu vardır. Örneklemdeki her grup için sayısal değişkenin standart sapması ve her gruptaki gözlem sayısı hesaplanır. Ardından bu değerler denkleme girilir ve sonuç hesaplanır."
   ]
  },
  {
   "cell_type": "markdown",
   "id": "a136e81d",
   "metadata": {},
   "source": [
    "### Sıfır hipotezinin doğru olduğunu varsayarsak  \n",
    "Boş hipotezin doğru olduğu varsayılırsa, yapabilecek bir basitleştirme vardır. Sıfır hipotezi , popülasyon ortalamalarının eşit olduğunu ve aralarındaki farkın sıfır olduğunu varsayar, dolayısıyla paydaki popülasyon terimi kaybolur. Standart hata için yaklaşım eklendiğinde , artık yalnızca örnek veri kümesi üzerindeki hesaplamalar kullanılarak test istatistiği hesaplanabilir."
   ]
  },
  {
   "cell_type": "markdown",
   "id": "e0998602",
   "metadata": {},
   "source": [
    "### Sıfır hipotezinin doğru olduğunu varsayan hesaplamalar"
   ]
  },
  {
   "cell_type": "code",
   "execution_count": 98,
   "id": "a1378a10",
   "metadata": {},
   "outputs": [
    {
     "data": {
      "text/plain": [
       "age_first_code_cut\n",
       "adult    111313.311047\n",
       "child    132419.570621\n",
       "Name: converted_comp, dtype: float64"
      ]
     },
     "execution_count": 98,
     "metadata": {},
     "output_type": "execute_result"
    }
   ],
   "source": [
    "xbar = df_stck.groupby(\"age_first_code_cut\")[\"converted_comp\"].mean()\n",
    "xbar"
   ]
  },
  {
   "cell_type": "code",
   "execution_count": 100,
   "id": "ca1d93b3",
   "metadata": {},
   "outputs": [
    {
     "data": {
      "text/plain": [
       "age_first_code_cut\n",
       "adult    271546.521729\n",
       "child    255585.240115\n",
       "Name: converted_comp, dtype: float64"
      ]
     },
     "execution_count": 100,
     "metadata": {},
     "output_type": "execute_result"
    }
   ],
   "source": [
    "s=df_stck.groupby(\"age_first_code_cut\")[\"converted_comp\"].std()\n",
    "s"
   ]
  },
  {
   "cell_type": "code",
   "execution_count": 102,
   "id": "3a5b918a",
   "metadata": {},
   "outputs": [
    {
     "data": {
      "text/html": [
       "<div>\n",
       "<style scoped>\n",
       "    .dataframe tbody tr th:only-of-type {\n",
       "        vertical-align: middle;\n",
       "    }\n",
       "\n",
       "    .dataframe tbody tr th {\n",
       "        vertical-align: top;\n",
       "    }\n",
       "\n",
       "    .dataframe thead th {\n",
       "        text-align: right;\n",
       "    }\n",
       "</style>\n",
       "<table border=\"1\" class=\"dataframe\">\n",
       "  <thead>\n",
       "    <tr style=\"text-align: right;\">\n",
       "      <th></th>\n",
       "      <th>mean</th>\n",
       "      <th>std</th>\n",
       "      <th>count</th>\n",
       "    </tr>\n",
       "    <tr>\n",
       "      <th>age_first_code_cut</th>\n",
       "      <th></th>\n",
       "      <th></th>\n",
       "      <th></th>\n",
       "    </tr>\n",
       "  </thead>\n",
       "  <tbody>\n",
       "    <tr>\n",
       "      <th>adult</th>\n",
       "      <td>111313.311047</td>\n",
       "      <td>271546.521729</td>\n",
       "      <td>1376</td>\n",
       "    </tr>\n",
       "    <tr>\n",
       "      <th>child</th>\n",
       "      <td>132419.570621</td>\n",
       "      <td>255585.240115</td>\n",
       "      <td>885</td>\n",
       "    </tr>\n",
       "  </tbody>\n",
       "</table>\n",
       "</div>"
      ],
      "text/plain": [
       "                             mean            std  count\n",
       "age_first_code_cut                                     \n",
       "adult               111313.311047  271546.521729   1376\n",
       "child               132419.570621  255585.240115    885"
      ]
     },
     "execution_count": 102,
     "metadata": {},
     "output_type": "execute_result"
    }
   ],
   "source": [
    "df_stck.groupby(\"age_first_code_cut\")[\"converted_comp\"].agg([\"mean\" , \"std\" ,\"count\"])"
   ]
  },
  {
   "cell_type": "markdown",
   "id": "e0708965",
   "metadata": {},
   "source": [
    "#### Test İstatistiğinin Hesaplanması"
   ]
  },
  {
   "cell_type": "code",
   "execution_count": 105,
   "id": "aed4bf48",
   "metadata": {},
   "outputs": [
    {
     "ename": "NameError",
     "evalue": "name 'n' is not defined",
     "output_type": "error",
     "traceback": [
      "\u001b[1;31m---------------------------------------------------------------------------\u001b[0m",
      "\u001b[1;31mNameError\u001b[0m                                 Traceback (most recent call last)",
      "Cell \u001b[1;32mIn[105], line 4\u001b[0m\n\u001b[0;32m      1\u001b[0m \u001b[38;5;28;01mimport\u001b[39;00m \u001b[38;5;21;01mnumpy\u001b[39;00m \u001b[38;5;28;01mas\u001b[39;00m \u001b[38;5;21;01mnp\u001b[39;00m\n\u001b[0;32m      3\u001b[0m pay \u001b[38;5;241m=\u001b[39m xbar\u001b[38;5;241m.\u001b[39miloc[\u001b[38;5;241m1\u001b[39m] \u001b[38;5;241m-\u001b[39m xbar\u001b[38;5;241m.\u001b[39miloc[\u001b[38;5;241m0\u001b[39m]\n\u001b[1;32m----> 4\u001b[0m payda \u001b[38;5;241m=\u001b[39m np\u001b[38;5;241m.\u001b[39msqrt(s\u001b[38;5;241m.\u001b[39miloc[\u001b[38;5;241m1\u001b[39m]\u001b[38;5;241m*\u001b[39m\u001b[38;5;241m2\u001b[39m \u001b[38;5;241m/\u001b[39m n\u001b[38;5;241m.\u001b[39miloc[\u001b[38;5;241m1\u001b[39m] \u001b[38;5;241m+\u001b[39m s\u001b[38;5;241m.\u001b[39miloc[\u001b[38;5;241m0\u001b[39m]\u001b[38;5;241m*\u001b[39m\u001b[38;5;241m2\u001b[39m \u001b[38;5;241m/\u001b[39m n\u001b[38;5;241m.\u001b[39miloc[\u001b[38;5;241m0\u001b[39m])\n\u001b[0;32m      5\u001b[0m t_stat \u001b[38;5;241m=\u001b[39m pay \u001b[38;5;241m/\u001b[39mpayda\n\u001b[0;32m      6\u001b[0m t_stat\n",
      "\u001b[1;31mNameError\u001b[0m: name 'n' is not defined"
     ]
    }
   ],
   "source": [
    "import numpy as np\n",
    "\n",
    "pay = xbar.iloc[1] - xbar.iloc[0]\n",
    "payda = np.sqrt(s.iloc[1]*2 / n.iloc[1] + s.iloc[0]*2 / n.iloc[0])\n",
    "t_stat = pay /payda\n",
    "t_stat"
   ]
  },
  {
   "cell_type": "markdown",
   "id": "e6a0c4eb",
   "metadata": {},
   "source": [
    "### t-istatistiklerinden p-değerlerinin hesaplanması\n",
    "### t-dağılımları  \n",
    "Test istatistiği, t, bir t-dağılımını takip eder. t-dağılımlarının serbestlik derecesi veya kısaca df olarak adlandırılan bir parametresi vardır. Burada bir serbestlik derecesi t-dağılımıının PDF'sini sarı renkle ve normal dağılımın PDF'sini mavi çizgilerle gösteren bir çizgi grafiği yer almaktadır. Küçük serbestlik dereceleri için t-dağılımının normal dağılıma göre daha kalın kuyruklara sahip olduğuna dikkat edilmedilir , ancak bunun dışında benzer görünüyorlar."
   ]
  },
  {
   "cell_type": "code",
   "execution_count": 108,
   "id": "3357a3ff",
   "metadata": {},
   "outputs": [
    {
     "data": {
      "text/plain": [
       "Text(0, 0.5, 'PDF(x)')"
      ]
     },
     "execution_count": 108,
     "metadata": {},
     "output_type": "execute_result"
    },
    {
     "data": {
      "image/png": "[encoded data removed]",
      "text/plain": [
       "<Figure size 640x480 with 1 Axes>"
      ]
     },
     "metadata": {},
     "output_type": "display_data"
    }
   ],
   "source": [
    "import numpy as np\n",
    "import matplotlib.pyplot as plt\n",
    "import scipy.stats as stats\n",
    "\n",
    "x = np.linspace(-4, 4, 100)\n",
    "plt.plot(x, stats.norm.pdf(x), label='Normal', linestyle='--', color='blue')\n",
    "plt.plot(x, stats.t.pdf(x, 1), label='t:df=1', color='yellow')\n",
    "plt.legend()\n",
    "plt.xlabel('x')\n",
    "plt.ylabel('PDF(x)')"
   ]
  },
  {
   "cell_type": "markdown",
   "id": "54a8a396",
   "metadata": {},
   "source": [
    "### Degrees of freedom  \n",
    "Serbestlik derecesini arttırdıkça , t-dağılımı normal dağılıma yaklaşır. Aslında normal dağılım, sonsuz serbestlik derecesine sahip bir t-dağılımıdır. Serbestlik derecesi, veri örneğindeki mantıksal olarak bağımsız değerlerin maksimum sayısı olarak tanımlanır. Bu oldukça zor bir kavramdır, bu yüzden bir örnek deneyelim."
   ]
  },
  {
   "cell_type": "code",
   "execution_count": 111,
   "id": "967e5808",
   "metadata": {},
   "outputs": [
    {
     "data": {
      "image/png": "[encoded data removed]",
      "text/plain": [
       "<Figure size 640x480 with 1 Axes>"
      ]
     },
     "metadata": {},
     "output_type": "display_data"
    }
   ],
   "source": [
    "import numpy as np\n",
    "import matplotlib.pyplot as plt\n",
    "import scipy.stats as stats\n",
    "\n",
    "x = np.linspace(-4, 4, 100)\n",
    "\n",
    "# Plot for different degrees of freedom\n",
    "for df in [1, 2, 4, 8]:\n",
    "    plt.plot(x, stats.t.pdf(x, df), label=f'df={df}')\n",
    "\n",
    "plt.plot(x, stats.norm.pdf(x), label='Normal', \n",
    "         linestyle='--')\n",
    "plt.legend()\n",
    "plt.title('t-distribution with different degrees of freedom')\n",
    "plt.xlabel('x')\n",
    "plt.ylabel('PDF(x)')\n",
    "plt.show()"
   ]
  },
  {
   "cell_type": "markdown",
   "id": "e5b0c92b",
   "metadata": {},
   "source": [
    "### Serbestlik derecelerinin hesaplanması  \n",
    "Veri kümemizde 5 bağımsız gözlem olduğunu ve değerlerden dördünün 2,6,8 ve 5 olduğunu varsayalım. Bu bilgiyle, beşinci değer artık bağımsız değildir ; 4 olmalıdır. Örneklemdeki beş gözlemin hepsi bağımsız olsa da , örneklem hakkında ek bir gerçeği bildiğimiz için -ortalaması 5 olduğu için- sadece 4 serbestlik derecesine sahibiz. İki örneklemli durumumuzda , gözlem sayısı kadar serbestlik derecesi vardır, eksi iki çünkü iki örneklem istatistiğini , her grubun ortalamasını biliyoruz.  \n",
    "df= nchild + nadult-2"
   ]
  },
  {
   "cell_type": "markdown",
   "id": "21ed52e7",
   "metadata": {},
   "source": [
    "### Hipotezler  \n",
    "H0: Ortalama maaş(ABD doları cinsinden) ilk olarak çocuk olarak kodlayanlar ve ilk olarak yetişkin olarak kodlayanlar için aynıdır.  \n",
    "Ha: ortalama maaş(ABD doları cinsinden) önce çocuk olarak kodlayanlar için önce yetişkin olarak kodlayanlara kıyasla daha yüksektir.  \n",
    "Bu bir \"daha büyük\" alternatif hipotezi olduğundan, sağ kuyruklu bir teste ihtiyaç vardır."
   ]
  },
  {
   "cell_type": "markdown",
   "id": "6f16d9ab",
   "metadata": {},
   "source": [
    "### Significance Level  \n",
    "Şimdi bir p-değeri hesaplayacağız, ancak önce bir anlamlılık düzeyine karar vermemiz gerekiyor. Birkaç olasılık var; 0.1'i kullanalım. Bu p-değerinin 0.1'den küçük veya ona eşit olması durumunda alternatif lehine boş hipotezi reddedeceğimiz anlamına gelir."
   ]
  },
  {
   "cell_type": "markdown",
   "id": "3528f782",
   "metadata": {},
   "source": [
    "### P-değerlerinin hesaplanması: bir orana karşı bir değer  \n",
    "Daha önce, p-değerini elde etmek için z-skoru normal CDF ile dönüştürüldü. Sağ kuyruklu bir test olduğu için sonucu birden çıkardık. Yine daha önce örneklem bilgisini kullanarak test istatistiği standart hatası için bir yaklaşım kullanıldı. Bu yaklaşımı kullanmak daha fazla belirsizlik ekler ve bu yüzden bu bir z problemi yerine bir t problemidir. t dağılımı , tek bir istatistik hesaplamasında birden fazla tahmin kullanıldığında daha fazla belirsizliğe izin verir. Burada çoklu tahminler örnek ortalamasına ve örnek standart sapmasına karşılık gelmektedir."
   ]
  },
  {
   "cell_type": "code",
   "execution_count": 117,
   "id": "ad2f5362",
   "metadata": {},
   "outputs": [
    {
     "data": {
      "text/plain": [
       "3.01446331658628e-05"
      ]
     },
     "execution_count": 117,
     "metadata": {},
     "output_type": "execute_result"
    }
   ],
   "source": [
    "from scipy.stats import norm\n",
    "1-norm.cdf(z_score)"
   ]
  },
  {
   "cell_type": "markdown",
   "id": "aa6cb4dd",
   "metadata": {},
   "source": [
    "z-statistic : Bir popülasyon parametresini tahmin etmek için bir örnek istatistiği kullanırken gereklidir.  \n",
    "t-statistic : Bir popülasyon parametresini tahmin etmek için çoklu örneklem istatistiği kullanırken gereklidir."
   ]
  },
  {
   "cell_type": "markdown",
   "id": "0ea7db78",
   "metadata": {},
   "source": [
    "#### P-değerlerinin hesaplanması farklı gruplardan iki ortalama"
   ]
  },
  {
   "cell_type": "code",
   "execution_count": 121,
   "id": "30058510",
   "metadata": {},
   "outputs": [
    {
     "ename": "NameError",
     "evalue": "name 'n' is not defined",
     "output_type": "error",
     "traceback": [
      "\u001b[1;31m---------------------------------------------------------------------------\u001b[0m",
      "\u001b[1;31mNameError\u001b[0m                                 Traceback (most recent call last)",
      "Cell \u001b[1;32mIn[121], line 1\u001b[0m\n\u001b[1;32m----> 1\u001b[0m degrees_of_freedom \u001b[38;5;241m=\u001b[39m n\u001b[38;5;241m.\u001b[39miloc[\u001b[38;5;241m0\u001b[39m] \u001b[38;5;241m+\u001b[39m n\u001b[38;5;241m.\u001b[39miloc[\u001b[38;5;241m1\u001b[39m]\u001b[38;5;241m-\u001b[39m\u001b[38;5;241m2\u001b[39m\n\u001b[0;32m      2\u001b[0m degrees_of_freedom\n",
      "\u001b[1;31mNameError\u001b[0m: name 'n' is not defined"
     ]
    }
   ],
   "source": [
    "degrees_of_freedom = n.iloc[0] + n.iloc[1]-2\n",
    "degrees_of_freedom"
   ]
  },
  {
   "cell_type": "markdown",
   "id": "081102bf",
   "metadata": {},
   "source": [
    "P-değerini hesaplamak için , test istatistiğini normal dağılım CDF'si yerine t-dağılım CDF'sini kullanarak dönüştürmemiz gerekir. Norm-dot-cdf yerine t-dot-cdf kullanıldığına ve df argümanının serbestlik derecesine ayarlandığına dikkat edin. Bu p-değeri , nokta-bir anlamlılık düzeyinden küçüktür , bu nedenle çocukken kodlamaya başlayan Stack Overflow veri bilimcilerinin daha fazla kazandığı alternatif hipotezi lehine boş hipotezi reddetmeliyiz."
   ]
  },
  {
   "cell_type": "code",
   "execution_count": 124,
   "id": "49fe5597",
   "metadata": {},
   "outputs": [
    {
     "ename": "NameError",
     "evalue": "name 't_stat' is not defined",
     "output_type": "error",
     "traceback": [
      "\u001b[1;31m---------------------------------------------------------------------------\u001b[0m",
      "\u001b[1;31mNameError\u001b[0m                                 Traceback (most recent call last)",
      "Cell \u001b[1;32mIn[124], line 2\u001b[0m\n\u001b[0;32m      1\u001b[0m \u001b[38;5;28;01mfrom\u001b[39;00m \u001b[38;5;21;01mscipy\u001b[39;00m\u001b[38;5;21;01m.\u001b[39;00m\u001b[38;5;21;01mstats\u001b[39;00m \u001b[38;5;28;01mimport\u001b[39;00m t\n\u001b[1;32m----> 2\u001b[0m \u001b[38;5;241m1\u001b[39m\u001b[38;5;241m-\u001b[39mt\u001b[38;5;241m.\u001b[39mcdf(t_stat , df\u001b[38;5;241m=\u001b[39mdegrees_of_freedom)\n",
      "\u001b[1;31mNameError\u001b[0m: name 't_stat' is not defined"
     ]
    }
   ],
   "source": [
    "from scipy.stats import t\n",
    "1-t.cdf(t_stat , df=degrees_of_freedom)"
   ]
  },
  {
   "cell_type": "markdown",
   "id": "44df57ad",
   "metadata": {},
   "source": [
    "# Paired t-tests  \n",
    "Daha önce iki grup arasındaki ortalamaların farkına ilişkin standartlaştırılmış bir test istatistiğinden bir p-değeri hesaplamak için t-dağılımı kullanılmıştı."
   ]
  },
  {
   "cell_type": "markdown",
   "id": "94fc5ced",
   "metadata": {},
   "source": [
    "### US Republican presidents dataset  \n",
    "ABD başkanlık seçimlerinin bir veri kümesidir. Her satır ilçe düzeyinde bir başkanlık seçimini temsil etmektedir. Veri setindeki değişkenler ABD eyaleti , bu eyalet içindeki ilçe ve 2008 ve 2012' de Cumhuriyetçi adaya verilen oy yüzdesidir."
   ]
  },
  {
   "cell_type": "code",
   "execution_count": 128,
   "id": "c9600633",
   "metadata": {},
   "outputs": [
    {
     "data": {
      "text/html": [
       "<div>\n",
       "<style scoped>\n",
       "    .dataframe tbody tr th:only-of-type {\n",
       "        vertical-align: middle;\n",
       "    }\n",
       "\n",
       "    .dataframe tbody tr th {\n",
       "        vertical-align: top;\n",
       "    }\n",
       "\n",
       "    .dataframe thead th {\n",
       "        text-align: right;\n",
       "    }\n",
       "</style>\n",
       "<table border=\"1\" class=\"dataframe\">\n",
       "  <thead>\n",
       "    <tr style=\"text-align: right;\">\n",
       "      <th></th>\n",
       "      <th>state</th>\n",
       "      <th>county</th>\n",
       "      <th>repub_percent_08</th>\n",
       "      <th>repub_percent_12</th>\n",
       "    </tr>\n",
       "  </thead>\n",
       "  <tbody>\n",
       "    <tr>\n",
       "      <th>0</th>\n",
       "      <td>Alabama</td>\n",
       "      <td>Hale</td>\n",
       "      <td>38.957877</td>\n",
       "      <td>37.139882</td>\n",
       "    </tr>\n",
       "    <tr>\n",
       "      <th>1</th>\n",
       "      <td>Arkansas</td>\n",
       "      <td>Nevada</td>\n",
       "      <td>56.726272</td>\n",
       "      <td>58.983452</td>\n",
       "    </tr>\n",
       "    <tr>\n",
       "      <th>2</th>\n",
       "      <td>California</td>\n",
       "      <td>Lake</td>\n",
       "      <td>38.896719</td>\n",
       "      <td>39.331367</td>\n",
       "    </tr>\n",
       "    <tr>\n",
       "      <th>3</th>\n",
       "      <td>California</td>\n",
       "      <td>Ventura</td>\n",
       "      <td>42.923190</td>\n",
       "      <td>45.250693</td>\n",
       "    </tr>\n",
       "    <tr>\n",
       "      <th>4</th>\n",
       "      <td>Colorado</td>\n",
       "      <td>Lincoln</td>\n",
       "      <td>74.522569</td>\n",
       "      <td>73.764757</td>\n",
       "    </tr>\n",
       "    <tr>\n",
       "      <th>...</th>\n",
       "      <td>...</td>\n",
       "      <td>...</td>\n",
       "      <td>...</td>\n",
       "      <td>...</td>\n",
       "    </tr>\n",
       "    <tr>\n",
       "      <th>95</th>\n",
       "      <td>Wisconsin</td>\n",
       "      <td>Burnett</td>\n",
       "      <td>48.342541</td>\n",
       "      <td>52.437478</td>\n",
       "    </tr>\n",
       "    <tr>\n",
       "      <th>96</th>\n",
       "      <td>Wisconsin</td>\n",
       "      <td>La Crosse</td>\n",
       "      <td>37.490904</td>\n",
       "      <td>40.577038</td>\n",
       "    </tr>\n",
       "    <tr>\n",
       "      <th>97</th>\n",
       "      <td>Wisconsin</td>\n",
       "      <td>Lafayette</td>\n",
       "      <td>38.104967</td>\n",
       "      <td>41.675050</td>\n",
       "    </tr>\n",
       "    <tr>\n",
       "      <th>98</th>\n",
       "      <td>Wyoming</td>\n",
       "      <td>Weston</td>\n",
       "      <td>76.684241</td>\n",
       "      <td>83.983328</td>\n",
       "    </tr>\n",
       "    <tr>\n",
       "      <th>99</th>\n",
       "      <td>Alaska</td>\n",
       "      <td>District 34</td>\n",
       "      <td>77.063259</td>\n",
       "      <td>40.789626</td>\n",
       "    </tr>\n",
       "  </tbody>\n",
       "</table>\n",
       "<p>100 rows × 4 columns</p>\n",
       "</div>"
      ],
      "text/plain": [
       "         state       county  repub_percent_08  repub_percent_12\n",
       "0      Alabama         Hale         38.957877         37.139882\n",
       "1     Arkansas       Nevada         56.726272         58.983452\n",
       "2   California         Lake         38.896719         39.331367\n",
       "3   California      Ventura         42.923190         45.250693\n",
       "4     Colorado      Lincoln         74.522569         73.764757\n",
       "..         ...          ...               ...               ...\n",
       "95   Wisconsin      Burnett         48.342541         52.437478\n",
       "96   Wisconsin    La Crosse         37.490904         40.577038\n",
       "97   Wisconsin    Lafayette         38.104967         41.675050\n",
       "98     Wyoming       Weston         76.684241         83.983328\n",
       "99      Alaska  District 34         77.063259         40.789626\n",
       "\n",
       "[100 rows x 4 columns]"
      ]
     },
     "execution_count": 128,
     "metadata": {},
     "output_type": "execute_result"
    }
   ],
   "source": [
    "import pandas as pd\n",
    "df_election =pd.read_feather(\"data/repub_votes_potus_08_12.feather\")\n",
    "df_election"
   ]
  },
  {
   "cell_type": "markdown",
   "id": "ce43018f",
   "metadata": {},
   "source": [
    "### Hipotezler  \n",
    "Sorulardan biri, Cumhuriyetçi adaya verilen oyların yüzdesinin 2008'de 2012'ye kıyasla daha düşük olup olmadığıdır. Buu test etmek için hipotezler oluşturulur. Daha önce olduğu gibi, boş hipotez önsezinin yanlış olduğu ve nüfus parametrelerinin her yıl grubunda aynı olduğudur. Alternatif hipotez ise 2008'deki parametrenin 2012'dekinden daha düşük olduğudur. Anlamlılık düzeyi 0.05'dir. Bu veri setinin bir özelliği , 2008 ve 2012 oylarının eşleştirilmiş olmasıdır , yani her ikiside aynı ilçeye atıfta bulunduğu için bağımsız değildirler. Bu, oy verme modellerinin ilçe düzeyindeki demografik özellikler ve yerel politikalar nedeniyle oluşabileceği anlamına gelir ve modelide bu eşleştirme yakalanmak istenmektedir.  \n",
    "H0 =  μ2008-2012 =0  \n",
    "Ha =  μ2008-2012 <0  \n",
    "### İki örnekten bir örneğe  \n",
    "Eşleştirilmiş analizler için, iki değişkeni ayrı ayrı ele almak yerine , farkın tek bir değişkeni ele alınabilir. Bu , diff adlı bir DataFrame' de saklanır. Farkın bu histogramında , çoğu değer eksi on ile on arasındadır ve en az bir aykırı değer vardır."
   ]
  },
  {
   "cell_type": "code",
   "execution_count": 131,
   "id": "fe3b30dd",
   "metadata": {},
   "outputs": [
    {
     "data": {
      "text/html": [
       "<div>\n",
       "<style scoped>\n",
       "    .dataframe tbody tr th:only-of-type {\n",
       "        vertical-align: middle;\n",
       "    }\n",
       "\n",
       "    .dataframe tbody tr th {\n",
       "        vertical-align: top;\n",
       "    }\n",
       "\n",
       "    .dataframe thead th {\n",
       "        text-align: right;\n",
       "    }\n",
       "</style>\n",
       "<table border=\"1\" class=\"dataframe\">\n",
       "  <thead>\n",
       "    <tr style=\"text-align: right;\">\n",
       "      <th></th>\n",
       "      <th>state</th>\n",
       "      <th>county</th>\n",
       "      <th>repub_percent_08</th>\n",
       "      <th>repub_percent_12</th>\n",
       "      <th>diff</th>\n",
       "    </tr>\n",
       "  </thead>\n",
       "  <tbody>\n",
       "    <tr>\n",
       "      <th>0</th>\n",
       "      <td>Alabama</td>\n",
       "      <td>Hale</td>\n",
       "      <td>38.957877</td>\n",
       "      <td>37.139882</td>\n",
       "      <td>1.817995</td>\n",
       "    </tr>\n",
       "    <tr>\n",
       "      <th>1</th>\n",
       "      <td>Arkansas</td>\n",
       "      <td>Nevada</td>\n",
       "      <td>56.726272</td>\n",
       "      <td>58.983452</td>\n",
       "      <td>-2.257179</td>\n",
       "    </tr>\n",
       "    <tr>\n",
       "      <th>2</th>\n",
       "      <td>California</td>\n",
       "      <td>Lake</td>\n",
       "      <td>38.896719</td>\n",
       "      <td>39.331367</td>\n",
       "      <td>-0.434648</td>\n",
       "    </tr>\n",
       "    <tr>\n",
       "      <th>3</th>\n",
       "      <td>California</td>\n",
       "      <td>Ventura</td>\n",
       "      <td>42.923190</td>\n",
       "      <td>45.250693</td>\n",
       "      <td>-2.327503</td>\n",
       "    </tr>\n",
       "    <tr>\n",
       "      <th>4</th>\n",
       "      <td>Colorado</td>\n",
       "      <td>Lincoln</td>\n",
       "      <td>74.522569</td>\n",
       "      <td>73.764757</td>\n",
       "      <td>0.757812</td>\n",
       "    </tr>\n",
       "    <tr>\n",
       "      <th>...</th>\n",
       "      <td>...</td>\n",
       "      <td>...</td>\n",
       "      <td>...</td>\n",
       "      <td>...</td>\n",
       "      <td>...</td>\n",
       "    </tr>\n",
       "    <tr>\n",
       "      <th>95</th>\n",
       "      <td>Wisconsin</td>\n",
       "      <td>Burnett</td>\n",
       "      <td>48.342541</td>\n",
       "      <td>52.437478</td>\n",
       "      <td>-4.094937</td>\n",
       "    </tr>\n",
       "    <tr>\n",
       "      <th>96</th>\n",
       "      <td>Wisconsin</td>\n",
       "      <td>La Crosse</td>\n",
       "      <td>37.490904</td>\n",
       "      <td>40.577038</td>\n",
       "      <td>-3.086134</td>\n",
       "    </tr>\n",
       "    <tr>\n",
       "      <th>97</th>\n",
       "      <td>Wisconsin</td>\n",
       "      <td>Lafayette</td>\n",
       "      <td>38.104967</td>\n",
       "      <td>41.675050</td>\n",
       "      <td>-3.570083</td>\n",
       "    </tr>\n",
       "    <tr>\n",
       "      <th>98</th>\n",
       "      <td>Wyoming</td>\n",
       "      <td>Weston</td>\n",
       "      <td>76.684241</td>\n",
       "      <td>83.983328</td>\n",
       "      <td>-7.299087</td>\n",
       "    </tr>\n",
       "    <tr>\n",
       "      <th>99</th>\n",
       "      <td>Alaska</td>\n",
       "      <td>District 34</td>\n",
       "      <td>77.063259</td>\n",
       "      <td>40.789626</td>\n",
       "      <td>36.273633</td>\n",
       "    </tr>\n",
       "  </tbody>\n",
       "</table>\n",
       "<p>100 rows × 5 columns</p>\n",
       "</div>"
      ],
      "text/plain": [
       "         state       county  repub_percent_08  repub_percent_12       diff\n",
       "0      Alabama         Hale         38.957877         37.139882   1.817995\n",
       "1     Arkansas       Nevada         56.726272         58.983452  -2.257179\n",
       "2   California         Lake         38.896719         39.331367  -0.434648\n",
       "3   California      Ventura         42.923190         45.250693  -2.327503\n",
       "4     Colorado      Lincoln         74.522569         73.764757   0.757812\n",
       "..         ...          ...               ...               ...        ...\n",
       "95   Wisconsin      Burnett         48.342541         52.437478  -4.094937\n",
       "96   Wisconsin    La Crosse         37.490904         40.577038  -3.086134\n",
       "97   Wisconsin    Lafayette         38.104967         41.675050  -3.570083\n",
       "98     Wyoming       Weston         76.684241         83.983328  -7.299087\n",
       "99      Alaska  District 34         77.063259         40.789626  36.273633\n",
       "\n",
       "[100 rows x 5 columns]"
      ]
     },
     "execution_count": 131,
     "metadata": {},
     "output_type": "execute_result"
    }
   ],
   "source": [
    "sample_data = df_election.copy()\n",
    "sample_data[\"diff\"] = sample_data[\"repub_percent_08\"] - sample_data[\"repub_percent_12\"]\n",
    "sample_data"
   ]
  },
  {
   "cell_type": "code",
   "execution_count": 133,
   "id": "3e1670e5",
   "metadata": {},
   "outputs": [
    {
     "data": {
      "text/plain": [
       "(array([ 1.,  1.,  3., 12., 29., 28., 21.,  4.,  0.,  0.,  0.,  0.,  0.,\n",
       "         0.,  0.,  0.,  0.,  0.,  0.,  1.]),\n",
       " array([-16.73039829, -14.08019672, -11.42999514,  -8.77979356,\n",
       "         -6.12959198,  -3.4793904 ,  -0.82918882,   1.82101276,\n",
       "          4.47121434,   7.12141592,   9.7716175 ,  12.42181908,\n",
       "         15.07202066,  17.72222224,  20.37242382,  23.0226254 ,\n",
       "         25.67282698,  28.32302856,  30.97323013,  33.62343171,\n",
       "         36.27363329]),\n",
       " <BarContainer object of 20 artists>)"
      ]
     },
     "execution_count": 133,
     "metadata": {},
     "output_type": "execute_result"
    },
    {
     "data": {
      "image/png": "[encoded data removed]",
      "text/plain": [
       "<Figure size 640x480 with 1 Axes>"
      ]
     },
     "metadata": {},
     "output_type": "display_data"
    }
   ],
   "source": [
    "import matplotlib.pyplot as plt\n",
    "plt.hist(sample_data[\"diff\"] , bins=20)"
   ]
  },
  {
   "cell_type": "code",
   "execution_count": 135,
   "id": "76e59a0f",
   "metadata": {},
   "outputs": [
    {
     "data": {
      "text/plain": [
       "-2.877109041242944"
      ]
     },
     "execution_count": 135,
     "metadata": {},
     "output_type": "execute_result"
    }
   ],
   "source": [
    "#farkın örnek istatiklerini hesaplayalım \n",
    "x_bar_diff =sample_data[\"diff\"].mean()\n",
    "x_bar_diff"
   ]
  },
  {
   "cell_type": "markdown",
   "id": "22af23ef",
   "metadata": {},
   "source": [
    "### Revize Edilmiş Hipotezler  \n",
    "Hipotezler tek popülasyon ortalamasının , μdiff'in sıfıra eşit veya sıfırdan küçük olması açısından yeniden ifade edilebilir. Test istatistiği, t, iki örneklemli duruma kıyasla biraz daha basit bir denkleme sahiptir. Tek bir istatistik vardır, bu nedenle serbestlik derecesi sayısı çift sayısı eksi birdir.  \n",
    "H0 : μdiff=0  \n",
    "Ha : μdiff<0  \n",
    "df= ndiff-1"
   ]
  },
  {
   "cell_type": "markdown",
   "id": "d6373aaf",
   "metadata": {},
   "source": [
    "### p-değerlerinin hesaplanması"
   ]
  },
  {
   "cell_type": "code",
   "execution_count": 139,
   "id": "340386d2",
   "metadata": {},
   "outputs": [],
   "source": [
    "import numpy as np\n",
    "n_diff =len(sample_data)\n",
    "s_diff =sample_data[\"diff\"].std()\n",
    "t_stat = (x_bar_diff - 0) / np.sqrt(s_diff**2 / n_diff)"
   ]
  },
  {
   "cell_type": "code",
   "execution_count": 141,
   "id": "2c225ef1",
   "metadata": {},
   "outputs": [
    {
     "data": {
      "text/plain": [
       "-5.601043121928489"
      ]
     },
     "execution_count": 141,
     "metadata": {},
     "output_type": "execute_result"
    }
   ],
   "source": [
    "t_stat"
   ]
  },
  {
   "cell_type": "code",
   "execution_count": 143,
   "id": "34ec5443",
   "metadata": {},
   "outputs": [
    {
     "data": {
      "text/plain": [
       "9.572537285272411e-08"
      ]
     },
     "execution_count": 143,
     "metadata": {},
     "output_type": "execute_result"
    }
   ],
   "source": [
    "from scipy.stats import t\n",
    "degrees_of_freedom = n_diff - 1\n",
    "p_value = t.cdf(t_stat , df=degrees_of_freedom)\n",
    "p_value"
   ]
  },
  {
   "cell_type": "markdown",
   "id": "8dc27761",
   "metadata": {},
   "source": [
    "### ttest() kullanarak iki ortalama arasındaki farkları test etme  \n",
    "Pingouin paketi, hipotez testi için çeşitli farklı yöntemler sağlar ve sonuçları pandas DataFrame olarak döndürür. Çıktısı scipy-dot-stats'ın benzer yöntemlerine göre çalışmak için biraz daha dostça olabilir. Pingouin'den bir yöntem ttest'tir ve dizi benzeri nesnelerle çalışır, bu nedenle ilk argüman Farklar Serisidir. Bunun gibi dönüştürülmüş bir tek örnek testi için y , sıfır olan boş hipotezden varsayılan fark değerini belirtir. Alternatif hipotez türü, sırasıyla iki kuyruklu , sol kuyruklu ve sağ kuyruklu testlere karşılık gelen iki taraflı ,daha az veya daha büyük olarak belirtilebilir.Çıktısı. Test istatistiğinin değerinini , serbestlik derecesini , alternatif yönü ve p-değerini tanıyabiliriz. Ek çıktı, bu dersin kapsamı dışında kalan daha gelişmiş istatistiksel kavramları ifade eder."
   ]
  },
  {
   "cell_type": "code",
   "execution_count": 146,
   "id": "506d4598",
   "metadata": {},
   "outputs": [
    {
     "data": {
      "text/html": [
       "<div>\n",
       "<style scoped>\n",
       "    .dataframe tbody tr th:only-of-type {\n",
       "        vertical-align: middle;\n",
       "    }\n",
       "\n",
       "    .dataframe tbody tr th {\n",
       "        vertical-align: top;\n",
       "    }\n",
       "\n",
       "    .dataframe thead th {\n",
       "        text-align: right;\n",
       "    }\n",
       "</style>\n",
       "<table border=\"1\" class=\"dataframe\">\n",
       "  <thead>\n",
       "    <tr style=\"text-align: right;\">\n",
       "      <th></th>\n",
       "      <th>T</th>\n",
       "      <th>dof</th>\n",
       "      <th>alternative</th>\n",
       "      <th>p-val</th>\n",
       "      <th>CI95%</th>\n",
       "      <th>cohen-d</th>\n",
       "      <th>BF10</th>\n",
       "      <th>power</th>\n",
       "    </tr>\n",
       "  </thead>\n",
       "  <tbody>\n",
       "    <tr>\n",
       "      <th>T-test</th>\n",
       "      <td>-5.601043</td>\n",
       "      <td>99</td>\n",
       "      <td>less</td>\n",
       "      <td>9.572537e-08</td>\n",
       "      <td>[-inf, -2.02]</td>\n",
       "      <td>0.560104</td>\n",
       "      <td>1.323e+05</td>\n",
       "      <td>0.999955</td>\n",
       "    </tr>\n",
       "  </tbody>\n",
       "</table>\n",
       "</div>"
      ],
      "text/plain": [
       "               T  dof alternative         p-val          CI95%   cohen-d  \\\n",
       "T-test -5.601043   99        less  9.572537e-08  [-inf, -2.02]  0.560104   \n",
       "\n",
       "             BF10     power  \n",
       "T-test  1.323e+05  0.999955  "
      ]
     },
     "execution_count": 146,
     "metadata": {},
     "output_type": "execute_result"
    }
   ],
   "source": [
    "import pingouin\n",
    "pingouin.ttest(sample_data[\"diff\"] , y=0 , alternative=\"less\")"
   ]
  },
  {
   "cell_type": "markdown",
   "id": "34887bab",
   "metadata": {},
   "source": [
    "### paired=True ile ttest()"
   ]
  },
  {
   "cell_type": "markdown",
   "id": "c2a68cbf",
   "metadata": {},
   "source": [
    "Eşleştirilmiş veriler için ttestinin daha da az çalışma gerektiren bir varyasyonu vardır. İki eşleştirilmiş değişken arasındaki farkı hesaplamak yerine, her ikisi de doğrudan ttestine x ve y olarak geçirebilir ve paired değerini True olarak ayarlayabiliriz. İlk 4 sütundaki sonuçların öncekiyle aynı olduğuna dikkat edin."
   ]
  },
  {
   "cell_type": "code",
   "execution_count": 150,
   "id": "0cad4dfc",
   "metadata": {},
   "outputs": [
    {
     "data": {
      "text/html": [
       "<div>\n",
       "<style scoped>\n",
       "    .dataframe tbody tr th:only-of-type {\n",
       "        vertical-align: middle;\n",
       "    }\n",
       "\n",
       "    .dataframe tbody tr th {\n",
       "        vertical-align: top;\n",
       "    }\n",
       "\n",
       "    .dataframe thead th {\n",
       "        text-align: right;\n",
       "    }\n",
       "</style>\n",
       "<table border=\"1\" class=\"dataframe\">\n",
       "  <thead>\n",
       "    <tr style=\"text-align: right;\">\n",
       "      <th></th>\n",
       "      <th>T</th>\n",
       "      <th>dof</th>\n",
       "      <th>alternative</th>\n",
       "      <th>p-val</th>\n",
       "      <th>CI95%</th>\n",
       "      <th>cohen-d</th>\n",
       "      <th>BF10</th>\n",
       "      <th>power</th>\n",
       "    </tr>\n",
       "  </thead>\n",
       "  <tbody>\n",
       "    <tr>\n",
       "      <th>T-test</th>\n",
       "      <td>-5.601043</td>\n",
       "      <td>99</td>\n",
       "      <td>less</td>\n",
       "      <td>9.572537e-08</td>\n",
       "      <td>[-inf, -2.02]</td>\n",
       "      <td>0.217364</td>\n",
       "      <td>1.323e+05</td>\n",
       "      <td>0.696338</td>\n",
       "    </tr>\n",
       "  </tbody>\n",
       "</table>\n",
       "</div>"
      ],
      "text/plain": [
       "               T  dof alternative         p-val          CI95%   cohen-d  \\\n",
       "T-test -5.601043   99        less  9.572537e-08  [-inf, -2.02]  0.217364   \n",
       "\n",
       "             BF10     power  \n",
       "T-test  1.323e+05  0.696338  "
      ]
     },
     "execution_count": 150,
     "metadata": {},
     "output_type": "execute_result"
    }
   ],
   "source": [
    "pingouin.ttest(x=sample_data['repub_percent_08'], \n",
    "               y=sample_data['repub_percent_12'], paired=True, \n",
    "               alternative='less')"
   ]
  },
  {
   "cell_type": "markdown",
   "id": "be6260ad",
   "metadata": {},
   "source": [
    "### Unpaired ttest()  \n",
    "Eşleştirilmiş seçeneğini Doğru olarak ayarlamazsak ve bunun yerine eşleştirilmemiş bir t-testi yaparsak , sayılar değişir. Test istatistiği sıfıra daha yakındır , daha fazla serbestlik derecesi vardır ve p-değeri çok daha büyüktür. Verilerimiz eşleştirilmişken eşleştirilmemiş bir t-testi yapmak yanlış negatif hata olasılığını arttırır."
   ]
  },
  {
   "cell_type": "code",
   "execution_count": 153,
   "id": "09e4751f",
   "metadata": {},
   "outputs": [
    {
     "data": {
      "text/html": [
       "<div>\n",
       "<style scoped>\n",
       "    .dataframe tbody tr th:only-of-type {\n",
       "        vertical-align: middle;\n",
       "    }\n",
       "\n",
       "    .dataframe tbody tr th {\n",
       "        vertical-align: top;\n",
       "    }\n",
       "\n",
       "    .dataframe thead th {\n",
       "        text-align: right;\n",
       "    }\n",
       "</style>\n",
       "<table border=\"1\" class=\"dataframe\">\n",
       "  <thead>\n",
       "    <tr style=\"text-align: right;\">\n",
       "      <th></th>\n",
       "      <th>T</th>\n",
       "      <th>dof</th>\n",
       "      <th>alternative</th>\n",
       "      <th>p-val</th>\n",
       "      <th>CI95%</th>\n",
       "      <th>cohen-d</th>\n",
       "      <th>BF10</th>\n",
       "      <th>power</th>\n",
       "    </tr>\n",
       "  </thead>\n",
       "  <tbody>\n",
       "    <tr>\n",
       "      <th>T-test</th>\n",
       "      <td>-1.536997</td>\n",
       "      <td>198</td>\n",
       "      <td>less</td>\n",
       "      <td>0.062945</td>\n",
       "      <td>[-inf, 0.22]</td>\n",
       "      <td>0.217364</td>\n",
       "      <td>0.927</td>\n",
       "      <td>0.454972</td>\n",
       "    </tr>\n",
       "  </tbody>\n",
       "</table>\n",
       "</div>"
      ],
      "text/plain": [
       "               T  dof alternative     p-val         CI95%   cohen-d   BF10  \\\n",
       "T-test -1.536997  198        less  0.062945  [-inf, 0.22]  0.217364  0.927   \n",
       "\n",
       "           power  \n",
       "T-test  0.454972  "
      ]
     },
     "execution_count": 153,
     "metadata": {},
     "output_type": "execute_result"
    }
   ],
   "source": [
    "pingouin.ttest(x=sample_data['repub_percent_08'], \n",
    "               y=sample_data['repub_percent_12'], \n",
    "               paired=False, alternative='less')"
   ]
  },
  {
   "cell_type": "markdown",
   "id": "d48823a8",
   "metadata": {},
   "source": [
    "# 10.HAFTA"
   ]
  },
  {
   "cell_type": "markdown",
   "id": "ed094355",
   "metadata": {},
   "source": [
    "## ANOVA test"
   ]
  },
  {
   "cell_type": "code",
   "execution_count": 157,
   "id": "1710cdf6",
   "metadata": {},
   "outputs": [
    {
     "data": {
      "text/plain": [
       "job_sat\n",
       "Very satisfied           879\n",
       "Slightly satisfied       680\n",
       "Slightly dissatisfied    342\n",
       "Neither                  201\n",
       "Very dissatisfied        159\n",
       "Name: count, dtype: int64"
      ]
     },
     "execution_count": 157,
     "metadata": {},
     "output_type": "execute_result"
    }
   ],
   "source": [
    "#iş memnuniyeti 5 kategori\n",
    "import pandas as pd\n",
    "df_stck =pd.read_feather(\"data/stack_overflow.feather\")\n",
    "df_stck[\"job_sat\"].value_counts()\n",
    "# Stack Overflow anketi \"Çok memnunumdan hiç memnun değilim'e \" kadar 5 kategoriden oluşan bir iş memnuniyeti değişkeni içerir."
   ]
  },
  {
   "cell_type": "markdown",
   "id": "85894318",
   "metadata": {},
   "source": [
    "### Çoklu Dağılımları Görselleştirme  \n",
    "Ortalama yıllık ücretin her bir iş tatmini seviyesi için farklı olup olmadığının bilinmek istendiği varsayılsın. Yapılacak ilk şey dağılımları kutu grafikleri ile görselleştirmektir. Seaborn'un boxplot yöntemi burada stack_overflow verilerini kullanarak yatay eksende converted_comp ve dikey eksende job_sat ile güzel bir seçenek sunmaktır. \"Çok memnun\" diğerlerinden biraz daha yüksek görünüyor, ancak önemli ölçüde farklı olup olmadıklarını görmek için hipotez testleri kullanmak gerekmektedir."
   ]
  },
  {
   "cell_type": "code",
   "execution_count": 160,
   "id": "83660564",
   "metadata": {},
   "outputs": [
    {
     "data": {
      "text/plain": [
       "<Axes: xlabel='converted_comp', ylabel='job_sat'>"
      ]
     },
     "execution_count": 160,
     "metadata": {},
     "output_type": "execute_result"
    },
    {
     "data": {
      "image/png": "[encoded data removed]",
      "text/plain": [
       "<Figure size 640x480 with 1 Axes>"
      ]
     },
     "metadata": {},
     "output_type": "display_data"
    }
   ],
   "source": [
    "import seaborn as sns \n",
    "import matplotlib.pyplot as plt\n",
    "\n",
    "sns.boxplot(x=\"converted_comp\" , y=\"job_sat\" , data=df_stck)"
   ]
  },
  {
   "cell_type": "markdown",
   "id": "539cf6ec",
   "metadata": {},
   "source": [
    "### Analysis of variance(ANOVA)  \n",
    "ANOVA testleri gruplar arasında farklılık olup olmadığını belirler. Anlamlılık düzeyi 0.2 olarak belirlendi. Bu değer birçok durumda olduğundan daha büyüktür, ancak daha sonra farklı sayıdaki grupları karşılaştırmanın sonuçlarını anlamaya yardımcı olacaktır. Birden fazla gruptaki değerleri karşılaştırmak için pingouin anova yöntemi kullanılacak. Verileri stack_overflow , bağımlı değişken olan dv'yi converted_comp ve aralarında hesaplama yapılacak grup sütunu job_sat olarak belirlenir. p-değeri , p-unc sütununda saklanır, bu sütun , alfa değerinden yüzde 20 daha küçük olan 0.0013 noktasıdır. Bu, iş tatmini kategorilerinden en az ikisinin ücret düzeyleri arasında önemli farklılıklar olduğu anlamına gelir, ancak bu bize hangi iki kategori olduğunu söylemez."
   ]
  },
  {
   "cell_type": "code",
   "execution_count": 163,
   "id": "c8d76f27",
   "metadata": {},
   "outputs": [
    {
     "data": {
      "text/html": [
       "<div>\n",
       "<style scoped>\n",
       "    .dataframe tbody tr th:only-of-type {\n",
       "        vertical-align: middle;\n",
       "    }\n",
       "\n",
       "    .dataframe tbody tr th {\n",
       "        vertical-align: top;\n",
       "    }\n",
       "\n",
       "    .dataframe thead th {\n",
       "        text-align: right;\n",
       "    }\n",
       "</style>\n",
       "<table border=\"1\" class=\"dataframe\">\n",
       "  <thead>\n",
       "    <tr style=\"text-align: right;\">\n",
       "      <th></th>\n",
       "      <th>Source</th>\n",
       "      <th>ddof1</th>\n",
       "      <th>ddof2</th>\n",
       "      <th>F</th>\n",
       "      <th>p-unc</th>\n",
       "      <th>np2</th>\n",
       "    </tr>\n",
       "  </thead>\n",
       "  <tbody>\n",
       "    <tr>\n",
       "      <th>0</th>\n",
       "      <td>job_sat</td>\n",
       "      <td>4</td>\n",
       "      <td>2256</td>\n",
       "      <td>4.480485</td>\n",
       "      <td>0.001315</td>\n",
       "      <td>0.007882</td>\n",
       "    </tr>\n",
       "  </tbody>\n",
       "</table>\n",
       "</div>"
      ],
      "text/plain": [
       "    Source  ddof1  ddof2         F     p-unc       np2\n",
       "0  job_sat      4   2256  4.480485  0.001315  0.007882"
      ]
     },
     "execution_count": 163,
     "metadata": {},
     "output_type": "execute_result"
    }
   ],
   "source": [
    "import pingouin\n",
    "pingouin.anova(data=df_stck , dv = \"converted_comp\" , between = \"job_sat\") #"
   ]
  },
  {
   "cell_type": "markdown",
   "id": "dbd32293",
   "metadata": {},
   "source": [
    "## Pairwise tests  \n",
    "Hangi kategorilerin farklı olduğunu belirlemek için, beş iş memnuniyeti kategorisinin tamamını karşılaştırarak her bir çift sırayla test edilmelidir. Beş maddelik bir setten iki madde seçmenin on yolu vardır, dolayısıyla gerçekleştirilmesi gereken on test vardır. Anlamlılık düzeyi 0.2'dir."
   ]
  },
  {
   "cell_type": "code",
   "execution_count": 166,
   "id": "c626c6ea",
   "metadata": {},
   "outputs": [
    {
     "data": {
      "text/html": [
       "<div>\n",
       "<style scoped>\n",
       "    .dataframe tbody tr th:only-of-type {\n",
       "        vertical-align: middle;\n",
       "    }\n",
       "\n",
       "    .dataframe tbody tr th {\n",
       "        vertical-align: top;\n",
       "    }\n",
       "\n",
       "    .dataframe thead th {\n",
       "        text-align: right;\n",
       "    }\n",
       "</style>\n",
       "<table border=\"1\" class=\"dataframe\">\n",
       "  <thead>\n",
       "    <tr style=\"text-align: right;\">\n",
       "      <th></th>\n",
       "      <th>Contrast</th>\n",
       "      <th>A</th>\n",
       "      <th>B</th>\n",
       "      <th>Paired</th>\n",
       "      <th>Parametric</th>\n",
       "      <th>T</th>\n",
       "      <th>dof</th>\n",
       "      <th>alternative</th>\n",
       "      <th>p-unc</th>\n",
       "      <th>BF10</th>\n",
       "      <th>hedges</th>\n",
       "    </tr>\n",
       "  </thead>\n",
       "  <tbody>\n",
       "    <tr>\n",
       "      <th>0</th>\n",
       "      <td>job_sat</td>\n",
       "      <td>Very dissatisfied</td>\n",
       "      <td>Slightly dissatisfied</td>\n",
       "      <td>False</td>\n",
       "      <td>True</td>\n",
       "      <td>1.129951</td>\n",
       "      <td>247.570187</td>\n",
       "      <td>two-sided</td>\n",
       "      <td>0.259590</td>\n",
       "      <td>0.197</td>\n",
       "      <td>0.119131</td>\n",
       "    </tr>\n",
       "    <tr>\n",
       "      <th>1</th>\n",
       "      <td>job_sat</td>\n",
       "      <td>Very dissatisfied</td>\n",
       "      <td>Neither</td>\n",
       "      <td>False</td>\n",
       "      <td>True</td>\n",
       "      <td>0.545948</td>\n",
       "      <td>321.165726</td>\n",
       "      <td>two-sided</td>\n",
       "      <td>0.585481</td>\n",
       "      <td>0.135</td>\n",
       "      <td>0.058537</td>\n",
       "    </tr>\n",
       "    <tr>\n",
       "      <th>2</th>\n",
       "      <td>job_sat</td>\n",
       "      <td>Very dissatisfied</td>\n",
       "      <td>Slightly satisfied</td>\n",
       "      <td>False</td>\n",
       "      <td>True</td>\n",
       "      <td>1.243665</td>\n",
       "      <td>187.153329</td>\n",
       "      <td>two-sided</td>\n",
       "      <td>0.215179</td>\n",
       "      <td>0.208</td>\n",
       "      <td>0.145624</td>\n",
       "    </tr>\n",
       "    <tr>\n",
       "      <th>3</th>\n",
       "      <td>job_sat</td>\n",
       "      <td>Very dissatisfied</td>\n",
       "      <td>Very satisfied</td>\n",
       "      <td>False</td>\n",
       "      <td>True</td>\n",
       "      <td>-0.747379</td>\n",
       "      <td>221.666205</td>\n",
       "      <td>two-sided</td>\n",
       "      <td>0.455627</td>\n",
       "      <td>0.126</td>\n",
       "      <td>-0.063479</td>\n",
       "    </tr>\n",
       "    <tr>\n",
       "      <th>4</th>\n",
       "      <td>job_sat</td>\n",
       "      <td>Slightly dissatisfied</td>\n",
       "      <td>Neither</td>\n",
       "      <td>False</td>\n",
       "      <td>True</td>\n",
       "      <td>-0.602209</td>\n",
       "      <td>367.730081</td>\n",
       "      <td>two-sided</td>\n",
       "      <td>0.547406</td>\n",
       "      <td>0.118</td>\n",
       "      <td>-0.055707</td>\n",
       "    </tr>\n",
       "    <tr>\n",
       "      <th>5</th>\n",
       "      <td>job_sat</td>\n",
       "      <td>Slightly dissatisfied</td>\n",
       "      <td>Slightly satisfied</td>\n",
       "      <td>False</td>\n",
       "      <td>True</td>\n",
       "      <td>0.038264</td>\n",
       "      <td>569.926329</td>\n",
       "      <td>two-sided</td>\n",
       "      <td>0.969491</td>\n",
       "      <td>0.074</td>\n",
       "      <td>0.002719</td>\n",
       "    </tr>\n",
       "    <tr>\n",
       "      <th>6</th>\n",
       "      <td>job_sat</td>\n",
       "      <td>Slightly dissatisfied</td>\n",
       "      <td>Very satisfied</td>\n",
       "      <td>False</td>\n",
       "      <td>True</td>\n",
       "      <td>-3.076222</td>\n",
       "      <td>821.303063</td>\n",
       "      <td>two-sided</td>\n",
       "      <td>0.002166</td>\n",
       "      <td>7.43</td>\n",
       "      <td>-0.173247</td>\n",
       "    </tr>\n",
       "    <tr>\n",
       "      <th>7</th>\n",
       "      <td>job_sat</td>\n",
       "      <td>Neither</td>\n",
       "      <td>Slightly satisfied</td>\n",
       "      <td>False</td>\n",
       "      <td>True</td>\n",
       "      <td>0.700752</td>\n",
       "      <td>258.204546</td>\n",
       "      <td>two-sided</td>\n",
       "      <td>0.484088</td>\n",
       "      <td>0.114</td>\n",
       "      <td>0.068513</td>\n",
       "    </tr>\n",
       "    <tr>\n",
       "      <th>8</th>\n",
       "      <td>job_sat</td>\n",
       "      <td>Neither</td>\n",
       "      <td>Very satisfied</td>\n",
       "      <td>False</td>\n",
       "      <td>True</td>\n",
       "      <td>-1.662901</td>\n",
       "      <td>328.326639</td>\n",
       "      <td>two-sided</td>\n",
       "      <td>0.097286</td>\n",
       "      <td>0.337</td>\n",
       "      <td>-0.120115</td>\n",
       "    </tr>\n",
       "    <tr>\n",
       "      <th>9</th>\n",
       "      <td>job_sat</td>\n",
       "      <td>Slightly satisfied</td>\n",
       "      <td>Very satisfied</td>\n",
       "      <td>False</td>\n",
       "      <td>True</td>\n",
       "      <td>-4.009935</td>\n",
       "      <td>1478.622799</td>\n",
       "      <td>two-sided</td>\n",
       "      <td>0.000064</td>\n",
       "      <td>158.564</td>\n",
       "      <td>-0.192931</td>\n",
       "    </tr>\n",
       "  </tbody>\n",
       "</table>\n",
       "</div>"
      ],
      "text/plain": [
       "  Contrast                      A                      B  Paired  Parametric  \\\n",
       "0  job_sat      Very dissatisfied  Slightly dissatisfied   False        True   \n",
       "1  job_sat      Very dissatisfied                Neither   False        True   \n",
       "2  job_sat      Very dissatisfied     Slightly satisfied   False        True   \n",
       "3  job_sat      Very dissatisfied         Very satisfied   False        True   \n",
       "4  job_sat  Slightly dissatisfied                Neither   False        True   \n",
       "5  job_sat  Slightly dissatisfied     Slightly satisfied   False        True   \n",
       "6  job_sat  Slightly dissatisfied         Very satisfied   False        True   \n",
       "7  job_sat                Neither     Slightly satisfied   False        True   \n",
       "8  job_sat                Neither         Very satisfied   False        True   \n",
       "9  job_sat     Slightly satisfied         Very satisfied   False        True   \n",
       "\n",
       "          T          dof alternative     p-unc     BF10    hedges  \n",
       "0  1.129951   247.570187   two-sided  0.259590    0.197  0.119131  \n",
       "1  0.545948   321.165726   two-sided  0.585481    0.135  0.058537  \n",
       "2  1.243665   187.153329   two-sided  0.215179    0.208  0.145624  \n",
       "3 -0.747379   221.666205   two-sided  0.455627    0.126 -0.063479  \n",
       "4 -0.602209   367.730081   two-sided  0.547406    0.118 -0.055707  \n",
       "5  0.038264   569.926329   two-sided  0.969491    0.074  0.002719  \n",
       "6 -3.076222   821.303063   two-sided  0.002166     7.43 -0.173247  \n",
       "7  0.700752   258.204546   two-sided  0.484088    0.114  0.068513  \n",
       "8 -1.662901   328.326639   two-sided  0.097286    0.337 -0.120115  \n",
       "9 -4.009935  1478.622799   two-sided  0.000064  158.564 -0.192931  "
      ]
     },
     "execution_count": 166,
     "metadata": {},
     "output_type": "execute_result"
    }
   ],
   "source": [
    "import pingouin\n",
    "pingouin.pairwise_tests(data=df_stck , dv=\"converted_comp\" , between = \"job_sat\" , padjust=\"none\")"
   ]
  },
  {
   "cell_type": "markdown",
   "id": "4695894f",
   "metadata": {},
   "source": [
    "### Bonferroni correction  \n",
    "Bunun çözümü, p-değerlerini arttırmak için bir ayarlama uygulamak ve yanlış pozitif alma şansını azaltmaktır. Yaygın bir ayarlama Bonferroni düzeltmesidir. Düzeltilmemiş p-unc sütununun aksine, düzeltilmiş p-değerlerine karşılık gelen p-corr sütununa bakıldığında, çiftlerden yalnızca ikisinin önemli farklılıklara sahip olduğu görülmektedir."
   ]
  },
  {
   "cell_type": "code",
   "execution_count": 169,
   "id": "583fe6dc",
   "metadata": {},
   "outputs": [
    {
     "data": {
      "text/html": [
       "<div>\n",
       "<style scoped>\n",
       "    .dataframe tbody tr th:only-of-type {\n",
       "        vertical-align: middle;\n",
       "    }\n",
       "\n",
       "    .dataframe tbody tr th {\n",
       "        vertical-align: top;\n",
       "    }\n",
       "\n",
       "    .dataframe thead th {\n",
       "        text-align: right;\n",
       "    }\n",
       "</style>\n",
       "<table border=\"1\" class=\"dataframe\">\n",
       "  <thead>\n",
       "    <tr style=\"text-align: right;\">\n",
       "      <th></th>\n",
       "      <th>Contrast</th>\n",
       "      <th>A</th>\n",
       "      <th>B</th>\n",
       "      <th>Paired</th>\n",
       "      <th>Parametric</th>\n",
       "      <th>T</th>\n",
       "      <th>dof</th>\n",
       "      <th>alternative</th>\n",
       "      <th>p-unc</th>\n",
       "      <th>p-corr</th>\n",
       "      <th>p-adjust</th>\n",
       "      <th>BF10</th>\n",
       "      <th>hedges</th>\n",
       "    </tr>\n",
       "  </thead>\n",
       "  <tbody>\n",
       "    <tr>\n",
       "      <th>0</th>\n",
       "      <td>job_sat</td>\n",
       "      <td>Very dissatisfied</td>\n",
       "      <td>Slightly dissatisfied</td>\n",
       "      <td>False</td>\n",
       "      <td>True</td>\n",
       "      <td>1.129951</td>\n",
       "      <td>247.570187</td>\n",
       "      <td>two-sided</td>\n",
       "      <td>0.259590</td>\n",
       "      <td>1.000000</td>\n",
       "      <td>bonf</td>\n",
       "      <td>0.197</td>\n",
       "      <td>0.119131</td>\n",
       "    </tr>\n",
       "    <tr>\n",
       "      <th>1</th>\n",
       "      <td>job_sat</td>\n",
       "      <td>Very dissatisfied</td>\n",
       "      <td>Neither</td>\n",
       "      <td>False</td>\n",
       "      <td>True</td>\n",
       "      <td>0.545948</td>\n",
       "      <td>321.165726</td>\n",
       "      <td>two-sided</td>\n",
       "      <td>0.585481</td>\n",
       "      <td>1.000000</td>\n",
       "      <td>bonf</td>\n",
       "      <td>0.135</td>\n",
       "      <td>0.058537</td>\n",
       "    </tr>\n",
       "    <tr>\n",
       "      <th>2</th>\n",
       "      <td>job_sat</td>\n",
       "      <td>Very dissatisfied</td>\n",
       "      <td>Slightly satisfied</td>\n",
       "      <td>False</td>\n",
       "      <td>True</td>\n",
       "      <td>1.243665</td>\n",
       "      <td>187.153329</td>\n",
       "      <td>two-sided</td>\n",
       "      <td>0.215179</td>\n",
       "      <td>1.000000</td>\n",
       "      <td>bonf</td>\n",
       "      <td>0.208</td>\n",
       "      <td>0.145624</td>\n",
       "    </tr>\n",
       "    <tr>\n",
       "      <th>3</th>\n",
       "      <td>job_sat</td>\n",
       "      <td>Very dissatisfied</td>\n",
       "      <td>Very satisfied</td>\n",
       "      <td>False</td>\n",
       "      <td>True</td>\n",
       "      <td>-0.747379</td>\n",
       "      <td>221.666205</td>\n",
       "      <td>two-sided</td>\n",
       "      <td>0.455627</td>\n",
       "      <td>1.000000</td>\n",
       "      <td>bonf</td>\n",
       "      <td>0.126</td>\n",
       "      <td>-0.063479</td>\n",
       "    </tr>\n",
       "    <tr>\n",
       "      <th>4</th>\n",
       "      <td>job_sat</td>\n",
       "      <td>Slightly dissatisfied</td>\n",
       "      <td>Neither</td>\n",
       "      <td>False</td>\n",
       "      <td>True</td>\n",
       "      <td>-0.602209</td>\n",
       "      <td>367.730081</td>\n",
       "      <td>two-sided</td>\n",
       "      <td>0.547406</td>\n",
       "      <td>1.000000</td>\n",
       "      <td>bonf</td>\n",
       "      <td>0.118</td>\n",
       "      <td>-0.055707</td>\n",
       "    </tr>\n",
       "    <tr>\n",
       "      <th>5</th>\n",
       "      <td>job_sat</td>\n",
       "      <td>Slightly dissatisfied</td>\n",
       "      <td>Slightly satisfied</td>\n",
       "      <td>False</td>\n",
       "      <td>True</td>\n",
       "      <td>0.038264</td>\n",
       "      <td>569.926329</td>\n",
       "      <td>two-sided</td>\n",
       "      <td>0.969491</td>\n",
       "      <td>1.000000</td>\n",
       "      <td>bonf</td>\n",
       "      <td>0.074</td>\n",
       "      <td>0.002719</td>\n",
       "    </tr>\n",
       "    <tr>\n",
       "      <th>6</th>\n",
       "      <td>job_sat</td>\n",
       "      <td>Slightly dissatisfied</td>\n",
       "      <td>Very satisfied</td>\n",
       "      <td>False</td>\n",
       "      <td>True</td>\n",
       "      <td>-3.076222</td>\n",
       "      <td>821.303063</td>\n",
       "      <td>two-sided</td>\n",
       "      <td>0.002166</td>\n",
       "      <td>0.021659</td>\n",
       "      <td>bonf</td>\n",
       "      <td>7.43</td>\n",
       "      <td>-0.173247</td>\n",
       "    </tr>\n",
       "    <tr>\n",
       "      <th>7</th>\n",
       "      <td>job_sat</td>\n",
       "      <td>Neither</td>\n",
       "      <td>Slightly satisfied</td>\n",
       "      <td>False</td>\n",
       "      <td>True</td>\n",
       "      <td>0.700752</td>\n",
       "      <td>258.204546</td>\n",
       "      <td>two-sided</td>\n",
       "      <td>0.484088</td>\n",
       "      <td>1.000000</td>\n",
       "      <td>bonf</td>\n",
       "      <td>0.114</td>\n",
       "      <td>0.068513</td>\n",
       "    </tr>\n",
       "    <tr>\n",
       "      <th>8</th>\n",
       "      <td>job_sat</td>\n",
       "      <td>Neither</td>\n",
       "      <td>Very satisfied</td>\n",
       "      <td>False</td>\n",
       "      <td>True</td>\n",
       "      <td>-1.662901</td>\n",
       "      <td>328.326639</td>\n",
       "      <td>two-sided</td>\n",
       "      <td>0.097286</td>\n",
       "      <td>0.972864</td>\n",
       "      <td>bonf</td>\n",
       "      <td>0.337</td>\n",
       "      <td>-0.120115</td>\n",
       "    </tr>\n",
       "    <tr>\n",
       "      <th>9</th>\n",
       "      <td>job_sat</td>\n",
       "      <td>Slightly satisfied</td>\n",
       "      <td>Very satisfied</td>\n",
       "      <td>False</td>\n",
       "      <td>True</td>\n",
       "      <td>-4.009935</td>\n",
       "      <td>1478.622799</td>\n",
       "      <td>two-sided</td>\n",
       "      <td>0.000064</td>\n",
       "      <td>0.000638</td>\n",
       "      <td>bonf</td>\n",
       "      <td>158.564</td>\n",
       "      <td>-0.192931</td>\n",
       "    </tr>\n",
       "  </tbody>\n",
       "</table>\n",
       "</div>"
      ],
      "text/plain": [
       "  Contrast                      A                      B  Paired  Parametric  \\\n",
       "0  job_sat      Very dissatisfied  Slightly dissatisfied   False        True   \n",
       "1  job_sat      Very dissatisfied                Neither   False        True   \n",
       "2  job_sat      Very dissatisfied     Slightly satisfied   False        True   \n",
       "3  job_sat      Very dissatisfied         Very satisfied   False        True   \n",
       "4  job_sat  Slightly dissatisfied                Neither   False        True   \n",
       "5  job_sat  Slightly dissatisfied     Slightly satisfied   False        True   \n",
       "6  job_sat  Slightly dissatisfied         Very satisfied   False        True   \n",
       "7  job_sat                Neither     Slightly satisfied   False        True   \n",
       "8  job_sat                Neither         Very satisfied   False        True   \n",
       "9  job_sat     Slightly satisfied         Very satisfied   False        True   \n",
       "\n",
       "          T          dof alternative     p-unc    p-corr p-adjust     BF10  \\\n",
       "0  1.129951   247.570187   two-sided  0.259590  1.000000     bonf    0.197   \n",
       "1  0.545948   321.165726   two-sided  0.585481  1.000000     bonf    0.135   \n",
       "2  1.243665   187.153329   two-sided  0.215179  1.000000     bonf    0.208   \n",
       "3 -0.747379   221.666205   two-sided  0.455627  1.000000     bonf    0.126   \n",
       "4 -0.602209   367.730081   two-sided  0.547406  1.000000     bonf    0.118   \n",
       "5  0.038264   569.926329   two-sided  0.969491  1.000000     bonf    0.074   \n",
       "6 -3.076222   821.303063   two-sided  0.002166  0.021659     bonf     7.43   \n",
       "7  0.700752   258.204546   two-sided  0.484088  1.000000     bonf    0.114   \n",
       "8 -1.662901   328.326639   two-sided  0.097286  0.972864     bonf    0.337   \n",
       "9 -4.009935  1478.622799   two-sided  0.000064  0.000638     bonf  158.564   \n",
       "\n",
       "     hedges  \n",
       "0  0.119131  \n",
       "1  0.058537  \n",
       "2  0.145624  \n",
       "3 -0.063479  \n",
       "4 -0.055707  \n",
       "5  0.002719  \n",
       "6 -0.173247  \n",
       "7  0.068513  \n",
       "8 -0.120115  \n",
       "9 -0.192931  "
      ]
     },
     "execution_count": 169,
     "metadata": {},
     "output_type": "execute_result"
    }
   ],
   "source": [
    "pingouin.pairwise_tests(data=df_stck , dv=\"converted_comp\" , between = \"job_sat\" , padjust=\"bonf\")"
   ]
  },
  {
   "cell_type": "markdown",
   "id": "d3e66c09",
   "metadata": {},
   "source": [
    "### One-sample proportion tests  \n",
    "Hipotez testleri, bilinmeyen bir popülasyon oranının belli bir değere eşit olup olmadığını ölçtüğü anlatılmıştı. Örneklem istatistiğinin standart hatasını tahmin etmek için örneklem üzerinde bootstraping kullanılmıştı. Standart hata daha sonra standartlaştırılmış bir test istatistiği olan z-skorunu hesaplamak için kullanıldı , bu da bir p-değeri elde etmek için kullanıldı , böylece boş hipotezin reddedilip reddedilmeyeceğine karar verilebildi. Bir bootstrap dağılımını hesaplamak hesaplama açısından yoğun olabilir, bu nedenle bu sefer test istatistiğini hesaplamak yerine bootstrap olmadan hesaplama yapılacaktır.(1)"
   ]
  },
  {
   "cell_type": "markdown",
   "id": "13a71960",
   "metadata": {},
   "source": [
    "### Stack Overflow age categories  \n",
    "Stackoverflow veri setindeki popülasyondaki kullanıcıların yarısının otuz yaşın altında olduğunu varsayalım ve bir fark olup olmadığını kontrol edelim. Anlamlılık düzeyini 0.01 olarak belirleyelim. Örneklemde , kullanıcıların yarısından biraz fazlası otuz yaşın altındadır.  \n",
    "H0 = 0.5  \n",
    "Ha != 0.5"
   ]
  },
  {
   "cell_type": "code",
   "execution_count": 173,
   "id": "8ba1aa28",
   "metadata": {},
   "outputs": [
    {
     "data": {
      "text/plain": [
       "age_cat\n",
       "Under 30       1211\n",
       "At least 30    1050\n",
       "Name: count, dtype: int64"
      ]
     },
     "execution_count": 173,
     "metadata": {},
     "output_type": "execute_result"
    }
   ],
   "source": [
    "alpha = 0.01\n",
    "df_stck[\"age_cat\"].value_counts()"
   ]
  },
  {
   "cell_type": "code",
   "execution_count": 175,
   "id": "01c859af",
   "metadata": {},
   "outputs": [
    {
     "data": {
      "text/plain": [
       "age_cat\n",
       "Under 30       0.535604\n",
       "At least 30    0.464396\n",
       "Name: proportion, dtype: float64"
      ]
     },
     "execution_count": 175,
     "metadata": {},
     "output_type": "execute_result"
    }
   ],
   "source": [
    "alpha = 0.01\n",
    "df_stck[\"age_cat\"].value_counts(normalize=True)"
   ]
  },
  {
   "cell_type": "code",
   "execution_count": 177,
   "id": "dd600bbe",
   "metadata": {},
   "outputs": [
    {
     "data": {
      "text/plain": [
       "0.5356037151702786"
      ]
     },
     "execution_count": 177,
     "metadata": {},
     "output_type": "execute_result"
    }
   ],
   "source": [
    "# z için değişkenler\n",
    "p_hat = (df_stck[\"age_cat\"] == \"Under 30\").mean()\n",
    "p_hat"
   ]
  },
  {
   "cell_type": "code",
   "execution_count": 179,
   "id": "8346247c",
   "metadata": {},
   "outputs": [],
   "source": [
    "p_0 = 0.5"
   ]
  },
  {
   "cell_type": "code",
   "execution_count": 181,
   "id": "3e99c305",
   "metadata": {},
   "outputs": [],
   "source": [
    "n = len(df_stck)"
   ]
  },
  {
   "cell_type": "code",
   "execution_count": 183,
   "id": "524f7fe0",
   "metadata": {},
   "outputs": [
    {
     "data": {
      "text/plain": [
       "3.385911440783663"
      ]
     },
     "execution_count": 183,
     "metadata": {},
     "output_type": "execute_result"
    }
   ],
   "source": [
    "import numpy as np\n",
    "pay= p_hat - p_0\n",
    "payda= np.sqrt(p_0 * (1-p_0)/n)\n",
    "z_score = pay/payda\n",
    "z_score"
   ]
  },
  {
   "cell_type": "markdown",
   "id": "d7fe2bdb",
   "metadata": {},
   "source": [
    "### Calculating the p-value  \n",
    "Sol kuyruklu alternatif hipotezler için norm.cdf kullanarak z-skoru p-değerine dönüştürülür. Sağ kuyruklu alternatif hipotezler için norm.cdf sonucu birden çıkarılır. İki kuyruklu alternatif hipotezler için, test istatistiğinin her iki kuyrukta da yer alıp almadığı kontrol edilir, dolayısıyla p-değeri bu iki değerin toplamıdır: biri z-skoruna, diğeri de dağılımın diğer tarafındaki negatifine karşılık gelir. Normal dağılım PDF'si simetrik olduğundan, z-skoru pozitif olduğu için bu , sağ kuyruklu p-değerinin iki katı olarak basitleştirilir. Burada , p-değeri sıfır-bir noktasının anlamlılık düzeyinden küçüktür, bu nedenle sıfır hipotezini reddererek otuz yaşın altındaki kullanıcıların oranının beş noktasına eşit olmadığı sonucuna varılır."
   ]
  },
  {
   "cell_type": "code",
   "execution_count": 186,
   "id": "8ba3c007",
   "metadata": {},
   "outputs": [
    {
     "data": {
      "text/plain": [
       "0.999645288631595"
      ]
     },
     "execution_count": 186,
     "metadata": {},
     "output_type": "execute_result"
    }
   ],
   "source": [
    "from scipy.stats import norm\n",
    "#sol kuyruk\n",
    "p_value = norm.cdf(z_score)\n",
    "p_value"
   ]
  },
  {
   "cell_type": "code",
   "execution_count": 188,
   "id": "3f03bcf2",
   "metadata": {},
   "outputs": [
    {
     "data": {
      "text/plain": [
       "0.00035471136840503625"
      ]
     },
     "execution_count": 188,
     "metadata": {},
     "output_type": "execute_result"
    }
   ],
   "source": [
    "#sağ kuyruk\n",
    "p_value = 1- norm.cdf(z_score)\n",
    "p_value"
   ]
  },
  {
   "cell_type": "code",
   "execution_count": 190,
   "id": "c5570083",
   "metadata": {},
   "outputs": [
    {
     "data": {
      "text/plain": [
       "0.0007094227368100725"
      ]
     },
     "execution_count": 190,
     "metadata": {},
     "output_type": "execute_result"
    }
   ],
   "source": [
    "#iki kuyruk: z-skorunun hem sol hem de sağ kuyruklarındaki olasılığı toplar. Bu, z-skorunun her iki uçta da nasıl davranacağını kontrol eder.\n",
    "p_value= norm.cdf(-z_score) + 1-norm.cdf(z_score)\n",
    "p_value"
   ]
  },
  {
   "cell_type": "code",
   "execution_count": 192,
   "id": "489b9bde",
   "metadata": {},
   "outputs": [
    {
     "data": {
      "text/plain": [
       "0.0007094227368100725"
      ]
     },
     "execution_count": 192,
     "metadata": {},
     "output_type": "execute_result"
    }
   ],
   "source": [
    "p_value = 2* (1-norm.cdf(z_score))\n",
    "p_value"
   ]
  },
  {
   "cell_type": "code",
   "execution_count": 194,
   "id": "3efc12cd",
   "metadata": {},
   "outputs": [
    {
     "data": {
      "text/plain": [
       "True"
      ]
     },
     "execution_count": 194,
     "metadata": {},
     "output_type": "execute_result"
    }
   ],
   "source": [
    "p_value<alpha"
   ]
  },
  {
   "cell_type": "markdown",
   "id": "7c4927ec",
   "metadata": {},
   "source": [
    "# Two-sample proportion test  \n",
    "ortalamalarda oldugu gibi iki popülasyondaki oranlar arasındaki farklar da test edilebilir."
   ]
  },
  {
   "cell_type": "markdown",
   "id": "d2d6432d",
   "metadata": {},
   "source": [
    "### Comparing two proportions  \n",
    "Stack Overflow anketi bir hobbyist değişkeni içermektedir. \"Evet\" değeri kullanıcının kendisini hobici olarak tanımladığı, \"Hayır\" değeri ise kendisini profesyonel olarak tanımladığı anlamına gelmektedir. Hobi sahibi kullanıcıların oranının otuz yaş altı kategorisi ile otuz yaş ve üstü kategorisi için aynı olduğu varsayılabilir, bu da iki kuyruklu bir testtir. Daha açık bir ifadeyle , boş hipotez her bir grup için popülasyon parametreleri arasındaki farkın sıfır olduğudur. Anlamlılık düzeyini 0.05 olarak belirleyelim.  \n",
    "H0 : p>=30 - p<30 =0  \n",
    "Ha : ? p>=30- p<30=! 0"
   ]
  },
  {
   "cell_type": "code",
   "execution_count": 198,
   "id": "03fade07-043b-42d3-9cf4-59c328a2b071",
   "metadata": {},
   "outputs": [],
   "source": [
    "alpha= 0.05"
   ]
  },
  {
   "cell_type": "code",
   "execution_count": 200,
   "id": "136cfa5e",
   "metadata": {},
   "outputs": [
    {
     "data": {
      "text/plain": [
       "age_cat      hobbyist\n",
       "At least 30  Yes         0.773333\n",
       "             No          0.226667\n",
       "Under 30     Yes         0.843105\n",
       "             No          0.156895\n",
       "Name: proportion, dtype: float64"
      ]
     },
     "execution_count": 200,
     "metadata": {},
     "output_type": "execute_result"
    }
   ],
   "source": [
    "p_hat = df_stck.groupby(\"age_cat\")[\"hobbyist\"].value_counts(normalize=True)\n",
    "p_hat"
   ]
  },
  {
   "cell_type": "code",
   "execution_count": 202,
   "id": "6ebc7d74",
   "metadata": {},
   "outputs": [
    {
     "data": {
      "text/plain": [
       "age_cat\n",
       "At least 30    1050\n",
       "Under 30       1211\n",
       "Name: hobbyist, dtype: int64"
      ]
     },
     "execution_count": 202,
     "metadata": {},
     "output_type": "execute_result"
    }
   ],
   "source": [
    "n = df_stck.groupby(\"age_cat\")[\"hobbyist\"].count()\n",
    "n"
   ]
  },
  {
   "cell_type": "code",
   "execution_count": 204,
   "id": "634a0de7",
   "metadata": {},
   "outputs": [
    {
     "data": {
      "text/plain": [
       "(0.7733333333333333, 0.8431048720066061)"
      ]
     },
     "execution_count": 204,
     "metadata": {},
     "output_type": "execute_result"
    }
   ],
   "source": [
    "p_hat_at_least_30 = p_hat[('At least 30', 'Yes')]\n",
    "p_hat_at_under_30 = p_hat[('Under 30', 'Yes')]\n",
    "\n",
    "(p_hat_at_least_30, p_hat_at_under_30)"
   ]
  },
  {
   "cell_type": "code",
   "execution_count": 206,
   "id": "dd98b4f5",
   "metadata": {},
   "outputs": [
    {
     "data": {
      "text/plain": [
       "(1050, 1211)"
      ]
     },
     "execution_count": 206,
     "metadata": {},
     "output_type": "execute_result"
    }
   ],
   "source": [
    "n_at_least_30 = n['At least 30']\n",
    "n_at_under_30 = n['Under 30']\n",
    "(n_at_least_30, n_at_under_30)"
   ]
  },
  {
   "cell_type": "code",
   "execution_count": 208,
   "id": "22f76a2c",
   "metadata": {},
   "outputs": [
    {
     "data": {
      "text/plain": [
       "-4.223691463320559"
      ]
     },
     "execution_count": 208,
     "metadata": {},
     "output_type": "execute_result"
    }
   ],
   "source": [
    "import numpy as np\n",
    "p_hat = (n_at_least_30 * p_hat_at_least_30 + n_at_under_30 * p_hat_at_under_30) / (n_at_least_30 + n_at_under_30)\n",
    "\n",
    "std_error = np.sqrt(p_hat * (1 - p_hat) / n_at_least_30 +\n",
    "                    p_hat * (1 - p_hat) / n_at_under_30)\n",
    "\n",
    "z_score = (p_hat_at_least_30 - p_hat_at_under_30) / std_error\n",
    "\n",
    "z_score"
   ]
  },
  {
   "cell_type": "code",
   "execution_count": 210,
   "id": "bc987d24",
   "metadata": {},
   "outputs": [
    {
     "data": {
      "text/plain": [
       "(-4.223691463320559, 2.403330142685068e-05)"
      ]
     },
     "execution_count": 210,
     "metadata": {},
     "output_type": "execute_result"
    }
   ],
   "source": [
    "n_hobbyist = np.array([812, 1021])\n",
    "n_rows = np.array([812 + 238, 1021 + 190])\n",
    "\n",
    "from statsmodels.stats.proportion import proportions_ztest\n",
    "\n",
    "z_score, p_value = proportions_ztest(count=n_hobbyist, nobs=n_rows, \n",
    "                                     alternative='two-sided')\n",
    "\n",
    "(z_score, p_value)\n",
    "\n",
    "# h0 red "
   ]
  },
  {
   "cell_type": "markdown",
   "id": "845bb737-6d2d-42ab-872f-ee7f83e42e07",
   "metadata": {},
   "source": [
    "### Job satisfaction and age category  \n",
    "Başka bir örnek deneyelim. Stack Overflow örnekleminin iki kategorili bir yaş kategorisi değişkenine ve beş kategorili bir iş memnuniyeti değişkenine sahip olduğunu hatırlayın."
   ]
  },
  {
   "cell_type": "code",
   "execution_count": 213,
   "id": "1b57dad2",
   "metadata": {},
   "outputs": [
    {
     "data": {
      "text/plain": [
       "age_cat\n",
       "Under 30       1211\n",
       "At least 30    1050\n",
       "Name: count, dtype: int64"
      ]
     },
     "execution_count": 213,
     "metadata": {},
     "output_type": "execute_result"
    }
   ],
   "source": [
    "df_stck[\"age_cat\"].value_counts()"
   ]
  },
  {
   "cell_type": "code",
   "execution_count": 215,
   "id": "bf054d8b",
   "metadata": {},
   "outputs": [
    {
     "data": {
      "text/plain": [
       "job_sat\n",
       "Very satisfied           879\n",
       "Slightly satisfied       680\n",
       "Slightly dissatisfied    342\n",
       "Neither                  201\n",
       "Very dissatisfied        159\n",
       "Name: count, dtype: int64"
      ]
     },
     "execution_count": 215,
     "metadata": {},
     "output_type": "execute_result"
    }
   ],
   "source": [
    "df_stck[\"job_sat\"].value_counts()"
   ]
  },
  {
   "cell_type": "markdown",
   "id": "8969d7c1-bfb2-49b4-95e5-6df3a7c4d53a",
   "metadata": {},
   "source": [
    "### Hipotezlerin Beyan Edilmesi  \n",
    "Bu değişkenlerin bağımsızlığını test etmek için hipotezler beyan edebiliriz. Burada yaş kategorisi yanıt değişkeni, iş tatmini ise açıklayıcı değişkendir: Boş hipotez, bağımsızlığın gerçekleştiğidir. 0.1'lik anlamlılık düzeyi kullanalım.Test istatistiği ki-kare(χ²) olarak gösterilir. Bağımsızlığın doğru olması durumunda gözlenen sonuçların beklenen değerlerden ne kadar uzak olduğunu ölçer.  \n",
    "H0 : Yaş kategorileri iş tatmini düzeylerinden bağımsızdır.  \n",
    "Ha : Yaş kategorileri iş tatmini düzeylerinden bağımsız değildir."
   ]
  },
  {
   "cell_type": "markdown",
   "id": "34f52a19-e3c3-4e1c-8ff8-080951eeb685",
   "metadata": {},
   "source": [
    "### Exploratory visualization : proportional stacked bar plot( Keşifsel görselleştirme : orantılı yığılmış çubuk grafiği)  \n",
    "Orantılı yığılmış çubuk grafiği kullanarak verileri inceleyelim. Her yaş grubundaki oranlar hesaplanarak başlanır. Ardından , bu tabloyu geniş biçime dönüştürmek için unstack yöntemi kullanılır. Çizim yöntemini kullanıp kind bar ve stacked True olarak ayarlandığında orantılı yığınlanmış bir çubuk çizimi elde edilir."
   ]
  },
  {
   "cell_type": "code",
   "execution_count": 219,
   "id": "0b2a9363-c757-4b82-a183-927e55f5fb64",
   "metadata": {},
   "outputs": [
    {
     "name": "stderr",
     "output_type": "stream",
     "text": [
      "C:\\Users\\nuray\\AppData\\Local\\Temp\\ipykernel_11012\\384739958.py:1: FutureWarning: The default of observed=False is deprecated and will be changed to True in a future version of pandas. Pass observed=False to retain current behavior or observed=True to adopt the future default and silence this warning.\n",
      "  props = df_stck.groupby('job_sat')['age_cat'].value_counts(normalize=True)\n"
     ]
    },
    {
     "data": {
      "text/plain": [
       "job_sat                age_cat    \n",
       "Very dissatisfied      Under 30       0.509434\n",
       "                       At least 30    0.490566\n",
       "Slightly dissatisfied  Under 30       0.532164\n",
       "                       At least 30    0.467836\n",
       "Neither                Under 30       0.567164\n",
       "                       At least 30    0.432836\n",
       "Slightly satisfied     Under 30       0.564706\n",
       "                       At least 30    0.435294\n",
       "Very satisfied         Under 30       0.511945\n",
       "                       At least 30    0.488055\n",
       "Name: proportion, dtype: float64"
      ]
     },
     "execution_count": 219,
     "metadata": {},
     "output_type": "execute_result"
    }
   ],
   "source": [
    "props = df_stck.groupby('job_sat')['age_cat'].value_counts(normalize=True)\n",
    "props"
   ]
  },
  {
   "cell_type": "code",
   "execution_count": 221,
   "id": "40c1100e-c0f2-49de-9d7a-6999697e0a18",
   "metadata": {},
   "outputs": [
    {
     "data": {
      "text/html": [
       "<div>\n",
       "<style scoped>\n",
       "    .dataframe tbody tr th:only-of-type {\n",
       "        vertical-align: middle;\n",
       "    }\n",
       "\n",
       "    .dataframe tbody tr th {\n",
       "        vertical-align: top;\n",
       "    }\n",
       "\n",
       "    .dataframe thead th {\n",
       "        text-align: right;\n",
       "    }\n",
       "</style>\n",
       "<table border=\"1\" class=\"dataframe\">\n",
       "  <thead>\n",
       "    <tr style=\"text-align: right;\">\n",
       "      <th>age_cat</th>\n",
       "      <th>At least 30</th>\n",
       "      <th>Under 30</th>\n",
       "    </tr>\n",
       "    <tr>\n",
       "      <th>job_sat</th>\n",
       "      <th></th>\n",
       "      <th></th>\n",
       "    </tr>\n",
       "  </thead>\n",
       "  <tbody>\n",
       "    <tr>\n",
       "      <th>Very dissatisfied</th>\n",
       "      <td>0.490566</td>\n",
       "      <td>0.509434</td>\n",
       "    </tr>\n",
       "    <tr>\n",
       "      <th>Slightly dissatisfied</th>\n",
       "      <td>0.467836</td>\n",
       "      <td>0.532164</td>\n",
       "    </tr>\n",
       "    <tr>\n",
       "      <th>Neither</th>\n",
       "      <td>0.432836</td>\n",
       "      <td>0.567164</td>\n",
       "    </tr>\n",
       "    <tr>\n",
       "      <th>Slightly satisfied</th>\n",
       "      <td>0.435294</td>\n",
       "      <td>0.564706</td>\n",
       "    </tr>\n",
       "    <tr>\n",
       "      <th>Very satisfied</th>\n",
       "      <td>0.488055</td>\n",
       "      <td>0.511945</td>\n",
       "    </tr>\n",
       "  </tbody>\n",
       "</table>\n",
       "</div>"
      ],
      "text/plain": [
       "age_cat                At least 30  Under 30\n",
       "job_sat                                     \n",
       "Very dissatisfied         0.490566  0.509434\n",
       "Slightly dissatisfied     0.467836  0.532164\n",
       "Neither                   0.432836  0.567164\n",
       "Slightly satisfied        0.435294  0.564706\n",
       "Very satisfied            0.488055  0.511945"
      ]
     },
     "execution_count": 221,
     "metadata": {},
     "output_type": "execute_result"
    }
   ],
   "source": [
    "wide_props = props.unstack()\n",
    "wide_props"
   ]
  },
  {
   "cell_type": "code",
   "execution_count": 223,
   "id": "05f416c8-0185-41c8-b981-d028fe076a47",
   "metadata": {},
   "outputs": [
    {
     "data": {
      "text/plain": [
       "<Axes: xlabel='job_sat'>"
      ]
     },
     "execution_count": 223,
     "metadata": {},
     "output_type": "execute_result"
    },
    {
     "data": {
      "image/png": "[encoded data removed]",
      "text/plain": [
       "<Figure size 640x480 with 1 Axes>"
      ]
     },
     "metadata": {},
     "output_type": "display_data"
    }
   ],
   "source": [
    "wide_props.plot(kind='bar', stacked=True)"
   ]
  },
  {
   "cell_type": "code",
   "execution_count": 225,
   "id": "a7c46b07-8dd0-40ab-8158-bf011c90b273",
   "metadata": {},
   "outputs": [
    {
     "data": {
      "text/html": [
       "<div>\n",
       "<style scoped>\n",
       "    .dataframe tbody tr th:only-of-type {\n",
       "        vertical-align: middle;\n",
       "    }\n",
       "\n",
       "    .dataframe tbody tr th {\n",
       "        vertical-align: top;\n",
       "    }\n",
       "\n",
       "    .dataframe thead th {\n",
       "        text-align: right;\n",
       "    }\n",
       "</style>\n",
       "<table border=\"1\" class=\"dataframe\">\n",
       "  <thead>\n",
       "    <tr style=\"text-align: right;\">\n",
       "      <th></th>\n",
       "      <th>test</th>\n",
       "      <th>lambda</th>\n",
       "      <th>chi2</th>\n",
       "      <th>dof</th>\n",
       "      <th>pval</th>\n",
       "      <th>cramer</th>\n",
       "      <th>power</th>\n",
       "    </tr>\n",
       "  </thead>\n",
       "  <tbody>\n",
       "    <tr>\n",
       "      <th>0</th>\n",
       "      <td>pearson</td>\n",
       "      <td>1.000000</td>\n",
       "      <td>5.552373</td>\n",
       "      <td>4.0</td>\n",
       "      <td>0.235164</td>\n",
       "      <td>0.049555</td>\n",
       "      <td>0.437417</td>\n",
       "    </tr>\n",
       "    <tr>\n",
       "      <th>1</th>\n",
       "      <td>cressie-read</td>\n",
       "      <td>0.666667</td>\n",
       "      <td>5.554106</td>\n",
       "      <td>4.0</td>\n",
       "      <td>0.235014</td>\n",
       "      <td>0.049563</td>\n",
       "      <td>0.437545</td>\n",
       "    </tr>\n",
       "    <tr>\n",
       "      <th>2</th>\n",
       "      <td>log-likelihood</td>\n",
       "      <td>0.000000</td>\n",
       "      <td>5.558529</td>\n",
       "      <td>4.0</td>\n",
       "      <td>0.234632</td>\n",
       "      <td>0.049583</td>\n",
       "      <td>0.437871</td>\n",
       "    </tr>\n",
       "    <tr>\n",
       "      <th>3</th>\n",
       "      <td>freeman-tukey</td>\n",
       "      <td>-0.500000</td>\n",
       "      <td>5.562688</td>\n",
       "      <td>4.0</td>\n",
       "      <td>0.234274</td>\n",
       "      <td>0.049601</td>\n",
       "      <td>0.438178</td>\n",
       "    </tr>\n",
       "    <tr>\n",
       "      <th>4</th>\n",
       "      <td>mod-log-likelihood</td>\n",
       "      <td>-1.000000</td>\n",
       "      <td>5.567570</td>\n",
       "      <td>4.0</td>\n",
       "      <td>0.233854</td>\n",
       "      <td>0.049623</td>\n",
       "      <td>0.438538</td>\n",
       "    </tr>\n",
       "    <tr>\n",
       "      <th>5</th>\n",
       "      <td>neyman</td>\n",
       "      <td>-2.000000</td>\n",
       "      <td>5.579519</td>\n",
       "      <td>4.0</td>\n",
       "      <td>0.232828</td>\n",
       "      <td>0.049676</td>\n",
       "      <td>0.439419</td>\n",
       "    </tr>\n",
       "  </tbody>\n",
       "</table>\n",
       "</div>"
      ],
      "text/plain": [
       "                 test    lambda      chi2  dof      pval    cramer     power\n",
       "0             pearson  1.000000  5.552373  4.0  0.235164  0.049555  0.437417\n",
       "1        cressie-read  0.666667  5.554106  4.0  0.235014  0.049563  0.437545\n",
       "2      log-likelihood  0.000000  5.558529  4.0  0.234632  0.049583  0.437871\n",
       "3       freeman-tukey -0.500000  5.562688  4.0  0.234274  0.049601  0.438178\n",
       "4  mod-log-likelihood -1.000000  5.567570  4.0  0.233854  0.049623  0.438538\n",
       "5              neyman -2.000000  5.579519  4.0  0.232828  0.049676  0.439419"
      ]
     },
     "execution_count": 225,
     "metadata": {},
     "output_type": "execute_result"
    }
   ],
   "source": [
    "expected, observed, stats = pingouin.chi2_independence(data=df_stck, x='job_sat', \n",
    "                                                       y='age_cat')\n",
    "stats"
   ]
  },
  {
   "cell_type": "markdown",
   "id": "644a365f-f13d-4f8d-bc9f-76ce66bbc650",
   "metadata": {},
   "source": [
    "Yine pingouin'den ki-kare bağımsızlık testini kullanalım. Veri olarak stack_overflow, x ve y olarak da job_sat ve age_cat değerlerine sahibiz. Serbestlik derecemiz dört olduğu için burada bir düzeltme yapmıyoruz, değişken kategorilerinin her birinden bir çıkarıp çarparak hesaplıyoruz. P-değeri belirlediğimiz anlamlılık düzeyinin üzerinde olan 0.23'tür , bu nedenle yaş kategorilerinin iş memnuniyetinden bağımsız olduğu sonucuna varıyoruz."
   ]
  },
  {
   "cell_type": "markdown",
   "id": "44798a55-596b-42a9-9c8e-481f797c2e6a",
   "metadata": {},
   "source": [
    "### Degress of freedom:  \n",
    "(No, of response categories-1) x (no , of explanatory categories-1)  \n",
    "(2-1) * (5-1) =4"
   ]
  },
  {
   "cell_type": "markdown",
   "id": "fe808120-ffe9-4159-b15c-320980fccbd2",
   "metadata": {},
   "source": [
    "### Değişkenleri değiştirilirse?  \n",
    "Değişkenler yer değiştirdiğinde yaş kategorisi yanıt , iş tatmini ise açıklayıcı değişken olur"
   ]
  },
  {
   "cell_type": "code",
   "execution_count": 230,
   "id": "420678b3-aa15-41f7-ad00-805baa12dc08",
   "metadata": {},
   "outputs": [
    {
     "data": {
      "text/plain": [
       "<Axes: xlabel='age_cat'>"
      ]
     },
     "execution_count": 230,
     "metadata": {},
     "output_type": "execute_result"
    },
    {
     "data": {
      "image/png": "[encoded data removed]",
      "text/plain": [
       "<Figure size 640x480 with 1 Axes>"
      ]
     },
     "metadata": {},
     "output_type": "display_data"
    }
   ],
   "source": [
    "props = df_stck.groupby('age_cat')['job_sat'].value_counts(normalize=True)\n",
    "wide_props = props.unstack()\n",
    "wide_props.plot(kind='bar', stacked=True)  \n",
    "# her bir çubuk için bölümlerin benzer yerlerde olduğunu görüyoruz."
   ]
  },
  {
   "cell_type": "markdown",
   "id": "7b5181b6-bb30-4a01-8409-62838fac9a6e",
   "metadata": {},
   "source": [
    "Ki-kare testini değişkenler yer değiştirmiş olarak çalıştırırsak , sonuçlar aynı olacaktır. Bu nedenle , sorularımızı \"X değişkeni Y değişkeninden bağımsız mı?\" yerine \" X  ve Y değişkenleri bağımsız mı?\" şeklinde ifade ediyoruz, çünkü sıralama önemli değil."
   ]
  },
  {
   "cell_type": "markdown",
   "id": "d735a875-7b93-4f36-837c-bba40c6383d0",
   "metadata": {},
   "source": [
    "### Yöne ve Kuyruklar  \n",
    "Bu testte kuyruklar hakkında endişelenmedik ve aslında chi2_independence yönteminin alternatif bir argümanı yoktur. Bunun nedeni ki-kare test istatistiğinin gözlenen ve beklenen sayıların karesine dayanması ve kare sayıların negatif olmamasıdır. Buda ki-kare testlerinin sağ kuyruklu testler olma eğilimnde olduğu anlamına gelir."
   ]
  },
  {
   "cell_type": "markdown",
   "id": "0bf2f8f1-ebbd-487e-9863-6fab0865c120",
   "metadata": {},
   "source": [
    "Sol kuyruklu ki-kare testleri istatistiksel adli tıpta bir uyumun şüpheli derecede iyi olup olmadığını tespit etmek için kullanılır çünkü veriler uydurulmuştur. Ki-kare varyans testleri iki kuyruklu olabilir. Yine de bunlar niş kullanımlardır."
   ]
  },
  {
   "cell_type": "markdown",
   "id": "d15489af-2644-4723-8655-cfddbbd40456",
   "metadata": {},
   "source": [
    "# Ki-kare uyum iyiliği testleri  \n",
    "Geçen sefer , iki kategorik değişkendeki oranları karşılaştırmak için ki-kare testi kullanılmıştı.Bu sefer tek bir kategorik değişkeni varsayılan bir dağılımla karşılaştırmak için ki-kare testinin başka bir çeşidi kullanılacaktır."
   ]
  },
  {
   "cell_type": "markdown",
   "id": "1481da10-9dd1-4202-8b83-f225a7edb509",
   "metadata": {},
   "source": [
    "### Mor Bağlantılar(Purple links)  \n",
    "Stack Overflow anketi ,kullanıcıların bir kodlama problemini çözmeye çalışırken mor bağlantı olarak da adlandırılan en iyi kaynağı zaten ziyaret ettiklerini keşfettiklerinde nasıl hissettiklerine dair eğlenceli bir soru içeriyor. purple_link sütunundaki her bir grubun sayılarını almak için value_counts fonksiyonu kullanılabilir. Ayrıca , daha sonra üzerinde çalışabilecek güzel yapılandırılmış bir DataFrame elde etmek için burada biraz manipülasyon yapılmaktadır. İlk olarak en soldaki sütunu purple_link olarak yeniden adlandırılır, sayılar n'ye atılır ve son olarak purple_link'e göre sıranır, böylece yanıtlar alfabetik sırada olur, purple_link sütununda saklanan dört olası yanıt vardır."
   ]
  },
  {
   "cell_type": "code",
   "execution_count": 237,
   "id": "0542bdfc-7f2c-4196-9059-4df6014aa884",
   "metadata": {},
   "outputs": [
    {
     "data": {
      "text/plain": [
       "purple_link\n",
       "Hello, old friend    1225\n",
       "Indifferent           405\n",
       "Amused                368\n",
       "Annoyed               263\n",
       "Name: count, dtype: int64"
      ]
     },
     "execution_count": 237,
     "metadata": {},
     "output_type": "execute_result"
    }
   ],
   "source": [
    "purple_link_counts = df_stck['purple_link'].value_counts()\n",
    "purple_link_counts"
   ]
  },
  {
   "cell_type": "code",
   "execution_count": 239,
   "id": "0a4b5857-4287-4b95-8877-5cc2183b48a2",
   "metadata": {},
   "outputs": [
    {
     "data": {
      "text/html": [
       "<div>\n",
       "<style scoped>\n",
       "    .dataframe tbody tr th:only-of-type {\n",
       "        vertical-align: middle;\n",
       "    }\n",
       "\n",
       "    .dataframe tbody tr th {\n",
       "        vertical-align: top;\n",
       "    }\n",
       "\n",
       "    .dataframe thead th {\n",
       "        text-align: right;\n",
       "    }\n",
       "</style>\n",
       "<table border=\"1\" class=\"dataframe\">\n",
       "  <thead>\n",
       "    <tr style=\"text-align: right;\">\n",
       "      <th></th>\n",
       "      <th>purple_link</th>\n",
       "      <th>n</th>\n",
       "    </tr>\n",
       "  </thead>\n",
       "  <tbody>\n",
       "    <tr>\n",
       "      <th>2</th>\n",
       "      <td>Amused</td>\n",
       "      <td>368</td>\n",
       "    </tr>\n",
       "    <tr>\n",
       "      <th>3</th>\n",
       "      <td>Annoyed</td>\n",
       "      <td>263</td>\n",
       "    </tr>\n",
       "    <tr>\n",
       "      <th>0</th>\n",
       "      <td>Hello, old friend</td>\n",
       "      <td>1225</td>\n",
       "    </tr>\n",
       "    <tr>\n",
       "      <th>1</th>\n",
       "      <td>Indifferent</td>\n",
       "      <td>405</td>\n",
       "    </tr>\n",
       "  </tbody>\n",
       "</table>\n",
       "</div>"
      ],
      "text/plain": [
       "         purple_link     n\n",
       "2             Amused   368\n",
       "3            Annoyed   263\n",
       "0  Hello, old friend  1225\n",
       "1        Indifferent   405"
      ]
     },
     "execution_count": 239,
     "metadata": {},
     "output_type": "execute_result"
    }
   ],
   "source": [
    "purple_link_counts = purple_link_counts.rename_axis('purple_link').reset_index(name='n').sort_values('purple_link')\n",
    "purple_link_counts"
   ]
  },
  {
   "cell_type": "markdown",
   "id": "549871db-b8ed-4bc1-9632-1c9cfc1c369c",
   "metadata": {},
   "source": [
    "### Hipotezlerin Beyan Edilmesi  \n",
    "Popülasyondaki kullanıcıların yarısının \"Merhaba, eski dostum\" yanıtını vereceğini ve diğer üç yanıtın her birinin altıda bir alacağını varsayalım. Her yanıt için anahtar-değer anahtar-değer çiftlerinden oluşan bir sözlükten bu varsayılan sonuçlar için bir DataFrame oluşturabiliriz. Hipotezleri , örneğin bu varsayılan dağılıma uyup uymadığı şeklinde belirleriz. Ki-kare test istatistiği, çözümlenen örneklem oran dağılımının hipotezlenen dağılımdan ne kadar uzak olduğunu ölçer. Anlamlılık düzeyini 0.01 olarak belirleyelim."
   ]
  },
  {
   "cell_type": "code",
   "execution_count": 242,
   "id": "124f2f18-ceae-4eed-b2c6-34db19509ac0",
   "metadata": {},
   "outputs": [
    {
     "data": {
      "text/html": [
       "<div>\n",
       "<style scoped>\n",
       "    .dataframe tbody tr th:only-of-type {\n",
       "        vertical-align: middle;\n",
       "    }\n",
       "\n",
       "    .dataframe tbody tr th {\n",
       "        vertical-align: top;\n",
       "    }\n",
       "\n",
       "    .dataframe thead th {\n",
       "        text-align: right;\n",
       "    }\n",
       "</style>\n",
       "<table border=\"1\" class=\"dataframe\">\n",
       "  <thead>\n",
       "    <tr style=\"text-align: right;\">\n",
       "      <th></th>\n",
       "      <th>purple_link</th>\n",
       "      <th>prop</th>\n",
       "    </tr>\n",
       "  </thead>\n",
       "  <tbody>\n",
       "    <tr>\n",
       "      <th>0</th>\n",
       "      <td>Amused</td>\n",
       "      <td>0.166667</td>\n",
       "    </tr>\n",
       "    <tr>\n",
       "      <th>1</th>\n",
       "      <td>Annoyed</td>\n",
       "      <td>0.166667</td>\n",
       "    </tr>\n",
       "    <tr>\n",
       "      <th>2</th>\n",
       "      <td>Hello, old friend</td>\n",
       "      <td>0.500000</td>\n",
       "    </tr>\n",
       "    <tr>\n",
       "      <th>3</th>\n",
       "      <td>Indifferent</td>\n",
       "      <td>0.166667</td>\n",
       "    </tr>\n",
       "  </tbody>\n",
       "</table>\n",
       "</div>"
      ],
      "text/plain": [
       "         purple_link      prop\n",
       "0             Amused  0.166667\n",
       "1            Annoyed  0.166667\n",
       "2  Hello, old friend  0.500000\n",
       "3        Indifferent  0.166667"
      ]
     },
     "execution_count": 242,
     "metadata": {},
     "output_type": "execute_result"
    }
   ],
   "source": [
    "hypothesized = pd.DataFrame({\n",
    "    'purple_link' : ['Amused', 'Annoyed', 'Hello, old friend', 'Indifferent'],\n",
    "    'prop' : [1/6, 1/6, 1/2, 1/6]\n",
    "}\n",
    ")\n",
    "hypothesized"
   ]
  },
  {
   "cell_type": "markdown",
   "id": "c3f1d8d2-d94c-4c58-9b42-26b88dce3b2d",
   "metadata": {},
   "source": [
    "H0 : Örneklem varsayılan dağılımla eşleşmektedir.  \n",
    "Ha : Örneklem varsayılan dağılımla eşleşmemektedir.  \n",
    "χ²: Her grupta gözlemlenen sonuçların beklentilerden ne kadar uzak olduğunu ölçer."
   ]
  },
  {
   "cell_type": "code",
   "execution_count": 245,
   "id": "9752fb78-0af6-4b55-a101-ef768bd75ac7",
   "metadata": {},
   "outputs": [],
   "source": [
    "alpha=0.01"
   ]
  },
  {
   "cell_type": "code",
   "execution_count": 247,
   "id": "1acf3141-575d-4186-9f6a-60a5692e28f2",
   "metadata": {},
   "outputs": [
    {
     "data": {
      "text/html": [
       "<div>\n",
       "<style scoped>\n",
       "    .dataframe tbody tr th:only-of-type {\n",
       "        vertical-align: middle;\n",
       "    }\n",
       "\n",
       "    .dataframe tbody tr th {\n",
       "        vertical-align: top;\n",
       "    }\n",
       "\n",
       "    .dataframe thead th {\n",
       "        text-align: right;\n",
       "    }\n",
       "</style>\n",
       "<table border=\"1\" class=\"dataframe\">\n",
       "  <thead>\n",
       "    <tr style=\"text-align: right;\">\n",
       "      <th></th>\n",
       "      <th>purple_link</th>\n",
       "      <th>prop</th>\n",
       "      <th>n</th>\n",
       "    </tr>\n",
       "  </thead>\n",
       "  <tbody>\n",
       "    <tr>\n",
       "      <th>0</th>\n",
       "      <td>Amused</td>\n",
       "      <td>0.166667</td>\n",
       "      <td>376.833333</td>\n",
       "    </tr>\n",
       "    <tr>\n",
       "      <th>1</th>\n",
       "      <td>Annoyed</td>\n",
       "      <td>0.166667</td>\n",
       "      <td>376.833333</td>\n",
       "    </tr>\n",
       "    <tr>\n",
       "      <th>2</th>\n",
       "      <td>Hello, old friend</td>\n",
       "      <td>0.500000</td>\n",
       "      <td>1130.500000</td>\n",
       "    </tr>\n",
       "    <tr>\n",
       "      <th>3</th>\n",
       "      <td>Indifferent</td>\n",
       "      <td>0.166667</td>\n",
       "      <td>376.833333</td>\n",
       "    </tr>\n",
       "  </tbody>\n",
       "</table>\n",
       "</div>"
      ],
      "text/plain": [
       "         purple_link      prop            n\n",
       "0             Amused  0.166667   376.833333\n",
       "1            Annoyed  0.166667   376.833333\n",
       "2  Hello, old friend  0.500000  1130.500000\n",
       "3        Indifferent  0.166667   376.833333"
      ]
     },
     "execution_count": 247,
     "metadata": {},
     "output_type": "execute_result"
    }
   ],
   "source": [
    "#  Kategoriye göre varsayılan sayılar\n",
    "# Purple_link dağılımını görselleştirmek için, \n",
    "# her bir yanıt için varsayılan sayıların bulunması yardımcı olacaktır. \n",
    "# Bu sayılar, varsayılan oranların örneklemdeki \n",
    "# toplam gözlem sayısıyla çarpılmasıyla hesaplanır.\n",
    "n_total = len(df_stck)\n",
    "hypothesized['n'] = hypothesized['prop'] * n_total\n",
    "hypothesized"
   ]
  },
  {
   "cell_type": "code",
   "execution_count": 249,
   "id": "c1dafe5d-ff8b-4fb1-b29a-bb4262d1da0e",
   "metadata": {},
   "outputs": [
    {
     "data": {
      "text/plain": [
       "<matplotlib.legend.Legend at 0x21c15db0800>"
      ]
     },
     "execution_count": 249,
     "metadata": {},
     "output_type": "execute_result"
    },
    {
     "data": {
      "image/png": "[encoded data removed]",
      "text/plain": [
       "<Figure size 640x480 with 1 Axes>"
      ]
     },
     "metadata": {},
     "output_type": "display_data"
    }
   ],
   "source": [
    "import matplotlib.pyplot as plt\n",
    "plt.bar(purple_link_counts['purple_link'], purple_link_counts['n'], color='red', label='Observed')\n",
    "plt.bar(hypothesized['purple_link'], hypothesized['n'], alpha=0.5, color='blue', label='Hypothesized')\n",
    "plt.legend()"
   ]
  },
  {
   "cell_type": "markdown",
   "id": "4db26964-e13e-4603-87f9-d607f0e3f79f",
   "metadata": {},
   "source": [
    "Yanıtlardan ikisinin varsayılan dağılım tarafından makul ölçüde iyi modellendiğini ve diğer ikisinin oldukça farklı göründüğünü görebiliriz, ancak farkın istatiksel olarak anlamlı olup olmadığını görmek için bir hipotez testi yapmamız gerekecek."
   ]
  },
  {
   "cell_type": "markdown",
   "id": "e84670b3-309e-43f7-9035-6ae21648c4af",
   "metadata": {},
   "source": [
    "### chi-square goodness of fit test  \n",
    "Tek örneklem ki-kare testine uyum iyiliği testi denir, çünkü varsayılan verilerin gözlemlenen verilere ne kadar iyi uyduğu test edilir. Testi çalıştırmak için scipy.stats'taki chisquare yöntemi kullanılır.Chisquare yöntemi için iki gerekli argüman vardır: gözlenen sayılar için dizi benzeri bir nesne f_obs ve beklenen sayılar için bir tane f_exp fonksiyon tarafından döndürülen p-değeri çok küçüktür. 0.01 anlamlılık düzeyinden çok daha düşüktür, bu nedenle oranların örnek dağılımının varsayılan dağılımdan farklı olduğu sonucuna varırız."
   ]
  },
  {
   "cell_type": "code",
   "execution_count": 253,
   "id": "4d72c802-61a1-4d72-9511-c657a81273c0",
   "metadata": {},
   "outputs": [
    {
     "data": {
      "text/plain": [
       "Power_divergenceResult(statistic=44.59840778416629, pvalue=1.1261810719413759e-09)"
      ]
     },
     "execution_count": 253,
     "metadata": {},
     "output_type": "execute_result"
    }
   ],
   "source": [
    "from scipy.stats import chisquare\n",
    "chisquare(f_obs=purple_link_counts[\"n\"] , f_exp=hypothesized[\"n\"])"
   ]
  },
  {
   "cell_type": "markdown",
   "id": "59a422b2-1e42-4fb9-9dab-2fdcfd0e257c",
   "metadata": {},
   "source": [
    "### Assumptions in hypothesis testing(Hipotez testinde varsayımlar)  \n",
    "Şimdiye kadar görülen her hipotez testi veriler hakkında varsayımlarda bulunur. Sadece bu varsayımlar karşılandığında o hipotez testini kullanmak uygun olur.  \n",
    "### Randomness(Rastgelelik)  \n",
    "İster bir ister birden fazla örnek kullanılsın, her hipotez testi bir örneğin popülasyondan rastgele seçildiğini varsayar. Eğer rastgele bir örneklem yoksa , o zaman popülasyon temsil edilmeyecektir. Bu varsayımı kontrol etmek için verilerin nereden geldiğinin bilinmesi gerekir. Bunu kontrol etmek için yapılabilecek istatistiksel veya kodlama testleri yoktur. Şüpheye düşülürse, veri toplamaya dahil olan kişilere veya örneklenen popülasyonu anlayan bir alan uzmanına sorulması gerekir.  \n",
    "### Independence of observations(Gözlemlerin Bağımsızlığı)  \n",
    "Testler ayrıca her bir gözlemin bağımsız olduğunu varsayar. İki örnek arasındaki bağımlılıklara izin verilen eşleştirilmiş t-testleri gibi bazı özel durumlar vardır, ancak bunlar hesaplamaları değiştirir, bu nedenle bu tür bağımlılıkların nerede meydana geldiğinin anlaşılması gerekir. Eşleştirilmiş t-testinde görüldüğü gibi , bağımlılıkların hesaba katılmaması yanlış negatif ve yanlış pozitif hata olasılığının artmasına neden olur.Bağımlılıkların hesaba katılmaması , analiz sırasında teşhis edilmesi zor bir sorundur. İdeal olarak, veriler analiz edilmeden önce tartışılması gerekir."
   ]
  },
  {
   "cell_type": "markdown",
   "id": "0d946dce-dc45-4287-b258-f1c0ecaf848b",
   "metadata": {},
   "source": [
    "### Large Sample Size(Büyük Örneklem Büyüklüğü)  \n",
    "Hipotez testleri ayrıca örneklemin Merkez Limit Teoremi'nin geçerli olacağı kadar büyük olduğunu ve örneklem dağılımının normal dağıldığı varsayılabilir. Daha küçük örneklemler daha büyük belirsizliğe neden olur , bu da Merkezi Limit Teoremi'nin geçerli olmadığı ve örneklem dağılımının normal dağılmayabileceği anlamına gelebilir. Küçük bir örneklemin artan belirsizliği, tahmin etmeye çalışılan parametre üzerinde daha geniş güven aralıkları elde edileceği anlamına gelir. Merkezi Limit Teoremi geçerli değilse , örneklem üzerinde yapılan hesaplamalar ve bunlardan çıkarılan sonuçlar saçma olabilir, bu da yanlış negatif ve yanlış pozitif hata olasılığını artırır. Örneklemin \"yeterince büyük\" olması için ne kadar büyük olması gerektiği teste bağlıdır."
   ]
  },
  {
   "cell_type": "markdown",
   "id": "90666d2d-24d3-4a76-996e-4d6a2276b2c7",
   "metadata": {},
   "source": [
    "# 11.HAFTA"
   ]
  },
  {
   "cell_type": "code",
   "execution_count": 262,
   "id": "e75295ad-a299-4c46-bf41-792f0a5edd34",
   "metadata": {},
   "outputs": [
    {
     "data": {
      "text/html": [
       "<div>\n",
       "<style scoped>\n",
       "    .dataframe tbody tr th:only-of-type {\n",
       "        vertical-align: middle;\n",
       "    }\n",
       "\n",
       "    .dataframe tbody tr th {\n",
       "        vertical-align: top;\n",
       "    }\n",
       "\n",
       "    .dataframe thead th {\n",
       "        text-align: right;\n",
       "    }\n",
       "</style>\n",
       "<table border=\"1\" class=\"dataframe\">\n",
       "  <thead>\n",
       "    <tr style=\"text-align: right;\">\n",
       "      <th></th>\n",
       "      <th>state</th>\n",
       "      <th>county</th>\n",
       "      <th>repub_percent_08</th>\n",
       "      <th>repub_percent_12</th>\n",
       "    </tr>\n",
       "  </thead>\n",
       "  <tbody>\n",
       "    <tr>\n",
       "      <th>0</th>\n",
       "      <td>Alabama</td>\n",
       "      <td>Hale</td>\n",
       "      <td>38.957877</td>\n",
       "      <td>37.139882</td>\n",
       "    </tr>\n",
       "    <tr>\n",
       "      <th>1</th>\n",
       "      <td>Arkansas</td>\n",
       "      <td>Nevada</td>\n",
       "      <td>56.726272</td>\n",
       "      <td>58.983452</td>\n",
       "    </tr>\n",
       "    <tr>\n",
       "      <th>2</th>\n",
       "      <td>California</td>\n",
       "      <td>Lake</td>\n",
       "      <td>38.896719</td>\n",
       "      <td>39.331367</td>\n",
       "    </tr>\n",
       "    <tr>\n",
       "      <th>3</th>\n",
       "      <td>California</td>\n",
       "      <td>Ventura</td>\n",
       "      <td>42.923190</td>\n",
       "      <td>45.250693</td>\n",
       "    </tr>\n",
       "    <tr>\n",
       "      <th>4</th>\n",
       "      <td>Colorado</td>\n",
       "      <td>Lincoln</td>\n",
       "      <td>74.522569</td>\n",
       "      <td>73.764757</td>\n",
       "    </tr>\n",
       "    <tr>\n",
       "      <th>...</th>\n",
       "      <td>...</td>\n",
       "      <td>...</td>\n",
       "      <td>...</td>\n",
       "      <td>...</td>\n",
       "    </tr>\n",
       "    <tr>\n",
       "      <th>95</th>\n",
       "      <td>Wisconsin</td>\n",
       "      <td>Burnett</td>\n",
       "      <td>48.342541</td>\n",
       "      <td>52.437478</td>\n",
       "    </tr>\n",
       "    <tr>\n",
       "      <th>96</th>\n",
       "      <td>Wisconsin</td>\n",
       "      <td>La Crosse</td>\n",
       "      <td>37.490904</td>\n",
       "      <td>40.577038</td>\n",
       "    </tr>\n",
       "    <tr>\n",
       "      <th>97</th>\n",
       "      <td>Wisconsin</td>\n",
       "      <td>Lafayette</td>\n",
       "      <td>38.104967</td>\n",
       "      <td>41.675050</td>\n",
       "    </tr>\n",
       "    <tr>\n",
       "      <th>98</th>\n",
       "      <td>Wyoming</td>\n",
       "      <td>Weston</td>\n",
       "      <td>76.684241</td>\n",
       "      <td>83.983328</td>\n",
       "    </tr>\n",
       "    <tr>\n",
       "      <th>99</th>\n",
       "      <td>Alaska</td>\n",
       "      <td>District 34</td>\n",
       "      <td>77.063259</td>\n",
       "      <td>40.789626</td>\n",
       "    </tr>\n",
       "  </tbody>\n",
       "</table>\n",
       "<p>100 rows × 4 columns</p>\n",
       "</div>"
      ],
      "text/plain": [
       "         state       county  repub_percent_08  repub_percent_12\n",
       "0      Alabama         Hale         38.957877         37.139882\n",
       "1     Arkansas       Nevada         56.726272         58.983452\n",
       "2   California         Lake         38.896719         39.331367\n",
       "3   California      Ventura         42.923190         45.250693\n",
       "4     Colorado      Lincoln         74.522569         73.764757\n",
       "..         ...          ...               ...               ...\n",
       "95   Wisconsin      Burnett         48.342541         52.437478\n",
       "96   Wisconsin    La Crosse         37.490904         40.577038\n",
       "97   Wisconsin    Lafayette         38.104967         41.675050\n",
       "98     Wyoming       Weston         76.684241         83.983328\n",
       "99      Alaska  District 34         77.063259         40.789626\n",
       "\n",
       "[100 rows x 4 columns]"
      ]
     },
     "execution_count": 262,
     "metadata": {},
     "output_type": "execute_result"
    }
   ],
   "source": [
    "import pandas as pd\n",
    "df_small =pd.read_feather(\"data/repub_votes_potus_08_12.feather\")\n",
    "df_small"
   ]
  },
  {
   "cell_type": "code",
   "execution_count": 264,
   "id": "616b2b49-5e3a-4db6-955f-20d4635c34f0",
   "metadata": {},
   "outputs": [
    {
     "data": {
      "text/html": [
       "<div>\n",
       "<style scoped>\n",
       "    .dataframe tbody tr th:only-of-type {\n",
       "        vertical-align: middle;\n",
       "    }\n",
       "\n",
       "    .dataframe tbody tr th {\n",
       "        vertical-align: top;\n",
       "    }\n",
       "\n",
       "    .dataframe thead th {\n",
       "        text-align: right;\n",
       "    }\n",
       "</style>\n",
       "<table border=\"1\" class=\"dataframe\">\n",
       "  <thead>\n",
       "    <tr style=\"text-align: right;\">\n",
       "      <th></th>\n",
       "      <th>state</th>\n",
       "      <th>county</th>\n",
       "      <th>repub_percent_08</th>\n",
       "      <th>repub_percent_12</th>\n",
       "      <th>diff</th>\n",
       "    </tr>\n",
       "  </thead>\n",
       "  <tbody>\n",
       "    <tr>\n",
       "      <th>0</th>\n",
       "      <td>Alabama</td>\n",
       "      <td>Hale</td>\n",
       "      <td>38.957877</td>\n",
       "      <td>37.139882</td>\n",
       "      <td>1.817995</td>\n",
       "    </tr>\n",
       "    <tr>\n",
       "      <th>1</th>\n",
       "      <td>Arkansas</td>\n",
       "      <td>Nevada</td>\n",
       "      <td>56.726272</td>\n",
       "      <td>58.983452</td>\n",
       "      <td>-2.257179</td>\n",
       "    </tr>\n",
       "    <tr>\n",
       "      <th>2</th>\n",
       "      <td>California</td>\n",
       "      <td>Lake</td>\n",
       "      <td>38.896719</td>\n",
       "      <td>39.331367</td>\n",
       "      <td>-0.434648</td>\n",
       "    </tr>\n",
       "    <tr>\n",
       "      <th>3</th>\n",
       "      <td>California</td>\n",
       "      <td>Ventura</td>\n",
       "      <td>42.923190</td>\n",
       "      <td>45.250693</td>\n",
       "      <td>-2.327503</td>\n",
       "    </tr>\n",
       "    <tr>\n",
       "      <th>4</th>\n",
       "      <td>Colorado</td>\n",
       "      <td>Lincoln</td>\n",
       "      <td>74.522569</td>\n",
       "      <td>73.764757</td>\n",
       "      <td>0.757812</td>\n",
       "    </tr>\n",
       "    <tr>\n",
       "      <th>...</th>\n",
       "      <td>...</td>\n",
       "      <td>...</td>\n",
       "      <td>...</td>\n",
       "      <td>...</td>\n",
       "      <td>...</td>\n",
       "    </tr>\n",
       "    <tr>\n",
       "      <th>95</th>\n",
       "      <td>Wisconsin</td>\n",
       "      <td>Burnett</td>\n",
       "      <td>48.342541</td>\n",
       "      <td>52.437478</td>\n",
       "      <td>-4.094937</td>\n",
       "    </tr>\n",
       "    <tr>\n",
       "      <th>96</th>\n",
       "      <td>Wisconsin</td>\n",
       "      <td>La Crosse</td>\n",
       "      <td>37.490904</td>\n",
       "      <td>40.577038</td>\n",
       "      <td>-3.086134</td>\n",
       "    </tr>\n",
       "    <tr>\n",
       "      <th>97</th>\n",
       "      <td>Wisconsin</td>\n",
       "      <td>Lafayette</td>\n",
       "      <td>38.104967</td>\n",
       "      <td>41.675050</td>\n",
       "      <td>-3.570083</td>\n",
       "    </tr>\n",
       "    <tr>\n",
       "      <th>98</th>\n",
       "      <td>Wyoming</td>\n",
       "      <td>Weston</td>\n",
       "      <td>76.684241</td>\n",
       "      <td>83.983328</td>\n",
       "      <td>-7.299087</td>\n",
       "    </tr>\n",
       "    <tr>\n",
       "      <th>99</th>\n",
       "      <td>Alaska</td>\n",
       "      <td>District 34</td>\n",
       "      <td>77.063259</td>\n",
       "      <td>40.789626</td>\n",
       "      <td>36.273633</td>\n",
       "    </tr>\n",
       "  </tbody>\n",
       "</table>\n",
       "<p>100 rows × 5 columns</p>\n",
       "</div>"
      ],
      "text/plain": [
       "         state       county  repub_percent_08  repub_percent_12       diff\n",
       "0      Alabama         Hale         38.957877         37.139882   1.817995\n",
       "1     Arkansas       Nevada         56.726272         58.983452  -2.257179\n",
       "2   California         Lake         38.896719         39.331367  -0.434648\n",
       "3   California      Ventura         42.923190         45.250693  -2.327503\n",
       "4     Colorado      Lincoln         74.522569         73.764757   0.757812\n",
       "..         ...          ...               ...               ...        ...\n",
       "95   Wisconsin      Burnett         48.342541         52.437478  -4.094937\n",
       "96   Wisconsin    La Crosse         37.490904         40.577038  -3.086134\n",
       "97   Wisconsin    Lafayette         38.104967         41.675050  -3.570083\n",
       "98     Wyoming       Weston         76.684241         83.983328  -7.299087\n",
       "99      Alaska  District 34         77.063259         40.789626  36.273633\n",
       "\n",
       "[100 rows x 5 columns]"
      ]
     },
     "execution_count": 264,
     "metadata": {},
     "output_type": "execute_result"
    }
   ],
   "source": [
    "df_small['diff'] = df_small['repub_percent_08'] - df_small['repub_percent_12']\n",
    "df_small"
   ]
  },
  {
   "cell_type": "code",
   "execution_count": 266,
   "id": "1c503759-3eb7-4a7d-9cd9-46331066a5ae",
   "metadata": {},
   "outputs": [
    {
     "data": {
      "text/html": [
       "<div>\n",
       "<style scoped>\n",
       "    .dataframe tbody tr th:only-of-type {\n",
       "        vertical-align: middle;\n",
       "    }\n",
       "\n",
       "    .dataframe tbody tr th {\n",
       "        vertical-align: top;\n",
       "    }\n",
       "\n",
       "    .dataframe thead th {\n",
       "        text-align: right;\n",
       "    }\n",
       "</style>\n",
       "<table border=\"1\" class=\"dataframe\">\n",
       "  <thead>\n",
       "    <tr style=\"text-align: right;\">\n",
       "      <th></th>\n",
       "      <th>state</th>\n",
       "      <th>county</th>\n",
       "      <th>repub_percent_08</th>\n",
       "      <th>repub_percent_12</th>\n",
       "      <th>diff</th>\n",
       "      <th>abs_diff</th>\n",
       "    </tr>\n",
       "  </thead>\n",
       "  <tbody>\n",
       "    <tr>\n",
       "      <th>0</th>\n",
       "      <td>Alabama</td>\n",
       "      <td>Hale</td>\n",
       "      <td>38.957877</td>\n",
       "      <td>37.139882</td>\n",
       "      <td>1.817995</td>\n",
       "      <td>1.817995</td>\n",
       "    </tr>\n",
       "    <tr>\n",
       "      <th>1</th>\n",
       "      <td>Arkansas</td>\n",
       "      <td>Nevada</td>\n",
       "      <td>56.726272</td>\n",
       "      <td>58.983452</td>\n",
       "      <td>-2.257179</td>\n",
       "      <td>2.257179</td>\n",
       "    </tr>\n",
       "    <tr>\n",
       "      <th>2</th>\n",
       "      <td>California</td>\n",
       "      <td>Lake</td>\n",
       "      <td>38.896719</td>\n",
       "      <td>39.331367</td>\n",
       "      <td>-0.434648</td>\n",
       "      <td>0.434648</td>\n",
       "    </tr>\n",
       "    <tr>\n",
       "      <th>3</th>\n",
       "      <td>California</td>\n",
       "      <td>Ventura</td>\n",
       "      <td>42.923190</td>\n",
       "      <td>45.250693</td>\n",
       "      <td>-2.327503</td>\n",
       "      <td>2.327503</td>\n",
       "    </tr>\n",
       "    <tr>\n",
       "      <th>4</th>\n",
       "      <td>Colorado</td>\n",
       "      <td>Lincoln</td>\n",
       "      <td>74.522569</td>\n",
       "      <td>73.764757</td>\n",
       "      <td>0.757812</td>\n",
       "      <td>0.757812</td>\n",
       "    </tr>\n",
       "    <tr>\n",
       "      <th>...</th>\n",
       "      <td>...</td>\n",
       "      <td>...</td>\n",
       "      <td>...</td>\n",
       "      <td>...</td>\n",
       "      <td>...</td>\n",
       "      <td>...</td>\n",
       "    </tr>\n",
       "    <tr>\n",
       "      <th>95</th>\n",
       "      <td>Wisconsin</td>\n",
       "      <td>Burnett</td>\n",
       "      <td>48.342541</td>\n",
       "      <td>52.437478</td>\n",
       "      <td>-4.094937</td>\n",
       "      <td>4.094937</td>\n",
       "    </tr>\n",
       "    <tr>\n",
       "      <th>96</th>\n",
       "      <td>Wisconsin</td>\n",
       "      <td>La Crosse</td>\n",
       "      <td>37.490904</td>\n",
       "      <td>40.577038</td>\n",
       "      <td>-3.086134</td>\n",
       "      <td>3.086134</td>\n",
       "    </tr>\n",
       "    <tr>\n",
       "      <th>97</th>\n",
       "      <td>Wisconsin</td>\n",
       "      <td>Lafayette</td>\n",
       "      <td>38.104967</td>\n",
       "      <td>41.675050</td>\n",
       "      <td>-3.570083</td>\n",
       "      <td>3.570083</td>\n",
       "    </tr>\n",
       "    <tr>\n",
       "      <th>98</th>\n",
       "      <td>Wyoming</td>\n",
       "      <td>Weston</td>\n",
       "      <td>76.684241</td>\n",
       "      <td>83.983328</td>\n",
       "      <td>-7.299087</td>\n",
       "      <td>7.299087</td>\n",
       "    </tr>\n",
       "    <tr>\n",
       "      <th>99</th>\n",
       "      <td>Alaska</td>\n",
       "      <td>District 34</td>\n",
       "      <td>77.063259</td>\n",
       "      <td>40.789626</td>\n",
       "      <td>36.273633</td>\n",
       "      <td>36.273633</td>\n",
       "    </tr>\n",
       "  </tbody>\n",
       "</table>\n",
       "<p>100 rows × 6 columns</p>\n",
       "</div>"
      ],
      "text/plain": [
       "         state       county  repub_percent_08  repub_percent_12       diff  \\\n",
       "0      Alabama         Hale         38.957877         37.139882   1.817995   \n",
       "1     Arkansas       Nevada         56.726272         58.983452  -2.257179   \n",
       "2   California         Lake         38.896719         39.331367  -0.434648   \n",
       "3   California      Ventura         42.923190         45.250693  -2.327503   \n",
       "4     Colorado      Lincoln         74.522569         73.764757   0.757812   \n",
       "..         ...          ...               ...               ...        ...   \n",
       "95   Wisconsin      Burnett         48.342541         52.437478  -4.094937   \n",
       "96   Wisconsin    La Crosse         37.490904         40.577038  -3.086134   \n",
       "97   Wisconsin    Lafayette         38.104967         41.675050  -3.570083   \n",
       "98     Wyoming       Weston         76.684241         83.983328  -7.299087   \n",
       "99      Alaska  District 34         77.063259         40.789626  36.273633   \n",
       "\n",
       "     abs_diff  \n",
       "0    1.817995  \n",
       "1    2.257179  \n",
       "2    0.434648  \n",
       "3    2.327503  \n",
       "4    0.757812  \n",
       "..        ...  \n",
       "95   4.094937  \n",
       "96   3.086134  \n",
       "97   3.570083  \n",
       "98   7.299087  \n",
       "99  36.273633  \n",
       "\n",
       "[100 rows x 6 columns]"
      ]
     },
     "execution_count": 266,
     "metadata": {},
     "output_type": "execute_result"
    }
   ],
   "source": [
    "df_small['abs_diff'] = df_small['diff'].abs()\n",
    "df_small"
   ]
  },
  {
   "cell_type": "code",
   "execution_count": 268,
   "id": "7bedcd7a-41de-4f8c-9af4-8d5735a8eec2",
   "metadata": {},
   "outputs": [
    {
     "data": {
      "text/html": [
       "<div>\n",
       "<style scoped>\n",
       "    .dataframe tbody tr th:only-of-type {\n",
       "        vertical-align: middle;\n",
       "    }\n",
       "\n",
       "    .dataframe tbody tr th {\n",
       "        vertical-align: top;\n",
       "    }\n",
       "\n",
       "    .dataframe thead th {\n",
       "        text-align: right;\n",
       "    }\n",
       "</style>\n",
       "<table border=\"1\" class=\"dataframe\">\n",
       "  <thead>\n",
       "    <tr style=\"text-align: right;\">\n",
       "      <th></th>\n",
       "      <th>state</th>\n",
       "      <th>county</th>\n",
       "      <th>repub_percent_08</th>\n",
       "      <th>repub_percent_12</th>\n",
       "      <th>diff</th>\n",
       "      <th>abs_diff</th>\n",
       "      <th>rank_abs_diff</th>\n",
       "    </tr>\n",
       "  </thead>\n",
       "  <tbody>\n",
       "    <tr>\n",
       "      <th>0</th>\n",
       "      <td>Alabama</td>\n",
       "      <td>Hale</td>\n",
       "      <td>38.957877</td>\n",
       "      <td>37.139882</td>\n",
       "      <td>1.817995</td>\n",
       "      <td>1.817995</td>\n",
       "      <td>33.0</td>\n",
       "    </tr>\n",
       "    <tr>\n",
       "      <th>1</th>\n",
       "      <td>Arkansas</td>\n",
       "      <td>Nevada</td>\n",
       "      <td>56.726272</td>\n",
       "      <td>58.983452</td>\n",
       "      <td>-2.257179</td>\n",
       "      <td>2.257179</td>\n",
       "      <td>42.0</td>\n",
       "    </tr>\n",
       "    <tr>\n",
       "      <th>2</th>\n",
       "      <td>California</td>\n",
       "      <td>Lake</td>\n",
       "      <td>38.896719</td>\n",
       "      <td>39.331367</td>\n",
       "      <td>-0.434648</td>\n",
       "      <td>0.434648</td>\n",
       "      <td>10.0</td>\n",
       "    </tr>\n",
       "    <tr>\n",
       "      <th>3</th>\n",
       "      <td>California</td>\n",
       "      <td>Ventura</td>\n",
       "      <td>42.923190</td>\n",
       "      <td>45.250693</td>\n",
       "      <td>-2.327503</td>\n",
       "      <td>2.327503</td>\n",
       "      <td>44.0</td>\n",
       "    </tr>\n",
       "    <tr>\n",
       "      <th>4</th>\n",
       "      <td>Colorado</td>\n",
       "      <td>Lincoln</td>\n",
       "      <td>74.522569</td>\n",
       "      <td>73.764757</td>\n",
       "      <td>0.757812</td>\n",
       "      <td>0.757812</td>\n",
       "      <td>16.0</td>\n",
       "    </tr>\n",
       "    <tr>\n",
       "      <th>...</th>\n",
       "      <td>...</td>\n",
       "      <td>...</td>\n",
       "      <td>...</td>\n",
       "      <td>...</td>\n",
       "      <td>...</td>\n",
       "      <td>...</td>\n",
       "      <td>...</td>\n",
       "    </tr>\n",
       "    <tr>\n",
       "      <th>95</th>\n",
       "      <td>Wisconsin</td>\n",
       "      <td>Burnett</td>\n",
       "      <td>48.342541</td>\n",
       "      <td>52.437478</td>\n",
       "      <td>-4.094937</td>\n",
       "      <td>4.094937</td>\n",
       "      <td>63.0</td>\n",
       "    </tr>\n",
       "    <tr>\n",
       "      <th>96</th>\n",
       "      <td>Wisconsin</td>\n",
       "      <td>La Crosse</td>\n",
       "      <td>37.490904</td>\n",
       "      <td>40.577038</td>\n",
       "      <td>-3.086134</td>\n",
       "      <td>3.086134</td>\n",
       "      <td>50.0</td>\n",
       "    </tr>\n",
       "    <tr>\n",
       "      <th>97</th>\n",
       "      <td>Wisconsin</td>\n",
       "      <td>Lafayette</td>\n",
       "      <td>38.104967</td>\n",
       "      <td>41.675050</td>\n",
       "      <td>-3.570083</td>\n",
       "      <td>3.570083</td>\n",
       "      <td>54.0</td>\n",
       "    </tr>\n",
       "    <tr>\n",
       "      <th>98</th>\n",
       "      <td>Wyoming</td>\n",
       "      <td>Weston</td>\n",
       "      <td>76.684241</td>\n",
       "      <td>83.983328</td>\n",
       "      <td>-7.299087</td>\n",
       "      <td>7.299087</td>\n",
       "      <td>87.0</td>\n",
       "    </tr>\n",
       "    <tr>\n",
       "      <th>99</th>\n",
       "      <td>Alaska</td>\n",
       "      <td>District 34</td>\n",
       "      <td>77.063259</td>\n",
       "      <td>40.789626</td>\n",
       "      <td>36.273633</td>\n",
       "      <td>36.273633</td>\n",
       "      <td>100.0</td>\n",
       "    </tr>\n",
       "  </tbody>\n",
       "</table>\n",
       "<p>100 rows × 7 columns</p>\n",
       "</div>"
      ],
      "text/plain": [
       "         state       county  repub_percent_08  repub_percent_12       diff  \\\n",
       "0      Alabama         Hale         38.957877         37.139882   1.817995   \n",
       "1     Arkansas       Nevada         56.726272         58.983452  -2.257179   \n",
       "2   California         Lake         38.896719         39.331367  -0.434648   \n",
       "3   California      Ventura         42.923190         45.250693  -2.327503   \n",
       "4     Colorado      Lincoln         74.522569         73.764757   0.757812   \n",
       "..         ...          ...               ...               ...        ...   \n",
       "95   Wisconsin      Burnett         48.342541         52.437478  -4.094937   \n",
       "96   Wisconsin    La Crosse         37.490904         40.577038  -3.086134   \n",
       "97   Wisconsin    Lafayette         38.104967         41.675050  -3.570083   \n",
       "98     Wyoming       Weston         76.684241         83.983328  -7.299087   \n",
       "99      Alaska  District 34         77.063259         40.789626  36.273633   \n",
       "\n",
       "     abs_diff  rank_abs_diff  \n",
       "0    1.817995           33.0  \n",
       "1    2.257179           42.0  \n",
       "2    0.434648           10.0  \n",
       "3    2.327503           44.0  \n",
       "4    0.757812           16.0  \n",
       "..        ...            ...  \n",
       "95   4.094937           63.0  \n",
       "96   3.086134           50.0  \n",
       "97   3.570083           54.0  \n",
       "98   7.299087           87.0  \n",
       "99  36.273633          100.0  \n",
       "\n",
       "[100 rows x 7 columns]"
      ]
     },
     "execution_count": 268,
     "metadata": {},
     "output_type": "execute_result"
    }
   ],
   "source": [
    "from scipy.stats import rankdata\n",
    "\n",
    "df_small['rank_abs_diff'] = rankdata(df_small['abs_diff'])\n",
    "df_small\n",
    "\n",
    "#df_small: Bu, üzerinde işlem yapılan pandas DataFrame'idir. DataFrame, verilerin tabular bir şekilde tutulduğu yapıdır.\n",
    "#df_small['abs_diff']: Bu, DataFrame'deki abs_diff sütununu temsil eder. Bu sütundaki değerler, genellikle bir tür mutlak fark olabilir (örneğin, iki sayı arasındaki farkların mutlak değerleri).\n",
    "#rankdata(df_small['abs_diff']): Bu fonksiyon, abs_diff sütunundaki her değeri sıralar ve her değere sırasıyla bir rütbe atar. Eşit değerler için ortanca rütbe atanır.\n",
    "#df_small['rank_abs_diff']: Bu, df_small DataFrame'ine yeni bir sütun ekler. Bu sütun, her bir mutlak farkın rütbesini içerir."
   ]
  },
  {
   "cell_type": "code",
   "execution_count": 270,
   "id": "ef48e535-4392-4594-9b9e-61ae1abcbe73",
   "metadata": {},
   "outputs": [
    {
     "data": {
      "text/plain": [
       "0"
      ]
     },
     "execution_count": 270,
     "metadata": {},
     "output_type": "execute_result"
    }
   ],
   "source": [
    "T_minus = 1 + 4 + 5 + 2 + 3\n",
    "T_plus = 0\n",
    "W = np.min([T_minus, T_plus])\n",
    "W"
   ]
  },
  {
   "cell_type": "markdown",
   "id": "0590de57-6721-49c5-a820-471170a7ae87",
   "metadata": {},
   "source": [
    "### Implementation with pingouin.wilcoxon()  \n",
    "pingouin'in wilcoxon yöntemi, eşleştirilmiş bir argümana sahip olmaması dışında ttest yöntemine çok benzer argümanlar alır. Fonksiyon sıfır W değeri döndürür- bizim manuel hesaplamamızla aynı. Bu t-testinden elde edilen p-değerinden on kat daha büyük olan yaklaşık yüzde üçlük bir p-değerine karşılık gelir, bu nedenle küçük örnek boyutu göz önüne alındığında bu sonuçtan daha emin olmalıyız. Wilcoxon testi, beş satırlık bu küçük örneklemi kullanarak 2008 Cumhuriyetçi yüzdelerinin 2012 yüzdelerinden daha küçük olduğuna dair kanıtımız olmadığını göstermektedir."
   ]
  },
  {
   "cell_type": "code",
   "execution_count": 273,
   "id": "c6108a2f-77c4-44f8-a6ab-337a4e4a1fe4",
   "metadata": {},
   "outputs": [
    {
     "data": {
      "text/html": [
       "<div>\n",
       "<style scoped>\n",
       "    .dataframe tbody tr th:only-of-type {\n",
       "        vertical-align: middle;\n",
       "    }\n",
       "\n",
       "    .dataframe tbody tr th {\n",
       "        vertical-align: top;\n",
       "    }\n",
       "\n",
       "    .dataframe thead th {\n",
       "        text-align: right;\n",
       "    }\n",
       "</style>\n",
       "<table border=\"1\" class=\"dataframe\">\n",
       "  <thead>\n",
       "    <tr style=\"text-align: right;\">\n",
       "      <th></th>\n",
       "      <th>W-val</th>\n",
       "      <th>alternative</th>\n",
       "      <th>p-val</th>\n",
       "      <th>RBC</th>\n",
       "      <th>CLES</th>\n",
       "    </tr>\n",
       "  </thead>\n",
       "  <tbody>\n",
       "    <tr>\n",
       "      <th>Wilcoxon</th>\n",
       "      <td>386.0</td>\n",
       "      <td>less</td>\n",
       "      <td>9.700674e-14</td>\n",
       "      <td>-0.847129</td>\n",
       "      <td>0.5729</td>\n",
       "    </tr>\n",
       "  </tbody>\n",
       "</table>\n",
       "</div>"
      ],
      "text/plain": [
       "          W-val alternative         p-val       RBC    CLES\n",
       "Wilcoxon  386.0        less  9.700674e-14 -0.847129  0.5729"
      ]
     },
     "execution_count": 273,
     "metadata": {},
     "output_type": "execute_result"
    }
   ],
   "source": [
    "alpha = 0.01\n",
    "pingouin.wilcoxon(x=df_small['repub_percent_08'], \n",
    "                  y=df_small['repub_percent_12'], \n",
    "                  alternative='less')"
   ]
  },
  {
   "cell_type": "markdown",
   "id": "29d9f42f-a38b-4c8b-84a2-1e55cfc7684c",
   "metadata": {},
   "source": [
    "# Non-parametric ANOVA and unpaired t-test  \n",
    "### Wilcoxon-Mann-Whitney test  \n",
    "Sayısal bir girdinin sıralamaları üzerinde hipotez testleri gerçekleştirerek normal dağılımlı verilerle ilgili varsayımlardan kaçınılabilir. Wilcoxon-Mann-Whitney testi , çok kabaca ,sıralanmış veriler üzerinde bir t-testidir. Bu test, bir önceki derste görülen Wilcoxon testine benzer, ancak bunun yerine eşleştirilmemiş veriler üzerinde çalışır.  \n",
    "StackOverflow anketine ve dönüştürülen ücret ile katılımcıların kodlamaya başlama yaşı arasındaki ilişkiye geri dönelim. age_vs_comp adlı yeni bir DataFrame'de sadece bu iki sütuna odaklanarak başlıyoruz. Pingouin ile Wilcoxon-Mann-Whitney testi yapmak için öncelikle verilerimizi uzun formattan geniş formata dönüştürmemiz gerekir. Bu, pandas'ın pivot_table'dan farklı olarak toplama yapmayan pivot yöntemi ile gerçekleştirilir; bunun yerine , satırlar boyunca her grup için ham değerleri döndürür. Artık verilerimiz, her satır için converted_comp girdilerine karşılık gelen değerlerle birlikte adult ve child adlı iki sütunda bulunmaktadır. NaN yetişkin değeri bir çocuk girişine ve NaN çocuk değeri de bir yetişkin girişine karşılık gelir."
   ]
  },
  {
   "cell_type": "code",
   "execution_count": 276,
   "id": "6fa7c161-9162-4cab-ac7e-29cb1b21bc20",
   "metadata": {},
   "outputs": [],
   "source": [
    "import pandas as pd\n",
    "\n",
    "df_stck= pd.read_feather(\"data/stack_overflow.feather\")"
   ]
  },
  {
   "cell_type": "code",
   "execution_count": 278,
   "id": "fe4da342-1597-47a5-8054-1bd673c0de10",
   "metadata": {},
   "outputs": [
    {
     "data": {
      "text/html": [
       "<div>\n",
       "<style scoped>\n",
       "    .dataframe tbody tr th:only-of-type {\n",
       "        vertical-align: middle;\n",
       "    }\n",
       "\n",
       "    .dataframe tbody tr th {\n",
       "        vertical-align: top;\n",
       "    }\n",
       "\n",
       "    .dataframe thead th {\n",
       "        text-align: right;\n",
       "    }\n",
       "</style>\n",
       "<table border=\"1\" class=\"dataframe\">\n",
       "  <thead>\n",
       "    <tr style=\"text-align: right;\">\n",
       "      <th></th>\n",
       "      <th>converted_comp</th>\n",
       "      <th>age_first_code_cut</th>\n",
       "    </tr>\n",
       "  </thead>\n",
       "  <tbody>\n",
       "    <tr>\n",
       "      <th>0</th>\n",
       "      <td>77556.0</td>\n",
       "      <td>adult</td>\n",
       "    </tr>\n",
       "    <tr>\n",
       "      <th>1</th>\n",
       "      <td>74970.0</td>\n",
       "      <td>child</td>\n",
       "    </tr>\n",
       "    <tr>\n",
       "      <th>2</th>\n",
       "      <td>594539.0</td>\n",
       "      <td>child</td>\n",
       "    </tr>\n",
       "    <tr>\n",
       "      <th>3</th>\n",
       "      <td>2000000.0</td>\n",
       "      <td>adult</td>\n",
       "    </tr>\n",
       "    <tr>\n",
       "      <th>4</th>\n",
       "      <td>37816.0</td>\n",
       "      <td>adult</td>\n",
       "    </tr>\n",
       "    <tr>\n",
       "      <th>...</th>\n",
       "      <td>...</td>\n",
       "      <td>...</td>\n",
       "    </tr>\n",
       "    <tr>\n",
       "      <th>2256</th>\n",
       "      <td>145000.0</td>\n",
       "      <td>child</td>\n",
       "    </tr>\n",
       "    <tr>\n",
       "      <th>2257</th>\n",
       "      <td>33972.0</td>\n",
       "      <td>child</td>\n",
       "    </tr>\n",
       "    <tr>\n",
       "      <th>2258</th>\n",
       "      <td>97284.0</td>\n",
       "      <td>child</td>\n",
       "    </tr>\n",
       "    <tr>\n",
       "      <th>2259</th>\n",
       "      <td>72000.0</td>\n",
       "      <td>child</td>\n",
       "    </tr>\n",
       "    <tr>\n",
       "      <th>2260</th>\n",
       "      <td>180000.0</td>\n",
       "      <td>child</td>\n",
       "    </tr>\n",
       "  </tbody>\n",
       "</table>\n",
       "<p>2261 rows × 2 columns</p>\n",
       "</div>"
      ],
      "text/plain": [
       "      converted_comp age_first_code_cut\n",
       "0            77556.0              adult\n",
       "1            74970.0              child\n",
       "2           594539.0              child\n",
       "3          2000000.0              adult\n",
       "4            37816.0              adult\n",
       "...              ...                ...\n",
       "2256        145000.0              child\n",
       "2257         33972.0              child\n",
       "2258         97284.0              child\n",
       "2259         72000.0              child\n",
       "2260        180000.0              child\n",
       "\n",
       "[2261 rows x 2 columns]"
      ]
     },
     "execution_count": 278,
     "metadata": {},
     "output_type": "execute_result"
    }
   ],
   "source": [
    "age_vs_comp = df_stck[['converted_comp', 'age_first_code_cut']]\n",
    "age_vs_comp"
   ]
  },
  {
   "cell_type": "code",
   "execution_count": 280,
   "id": "cef344e3-c75f-4873-8d2c-13672585ae59",
   "metadata": {},
   "outputs": [
    {
     "data": {
      "text/html": [
       "<div>\n",
       "<style scoped>\n",
       "    .dataframe tbody tr th:only-of-type {\n",
       "        vertical-align: middle;\n",
       "    }\n",
       "\n",
       "    .dataframe tbody tr th {\n",
       "        vertical-align: top;\n",
       "    }\n",
       "\n",
       "    .dataframe thead th {\n",
       "        text-align: right;\n",
       "    }\n",
       "</style>\n",
       "<table border=\"1\" class=\"dataframe\">\n",
       "  <thead>\n",
       "    <tr style=\"text-align: right;\">\n",
       "      <th>age_first_code_cut</th>\n",
       "      <th>adult</th>\n",
       "      <th>child</th>\n",
       "    </tr>\n",
       "  </thead>\n",
       "  <tbody>\n",
       "    <tr>\n",
       "      <th>0</th>\n",
       "      <td>77556.0</td>\n",
       "      <td>NaN</td>\n",
       "    </tr>\n",
       "    <tr>\n",
       "      <th>1</th>\n",
       "      <td>NaN</td>\n",
       "      <td>74970.0</td>\n",
       "    </tr>\n",
       "    <tr>\n",
       "      <th>2</th>\n",
       "      <td>NaN</td>\n",
       "      <td>594539.0</td>\n",
       "    </tr>\n",
       "    <tr>\n",
       "      <th>3</th>\n",
       "      <td>2000000.0</td>\n",
       "      <td>NaN</td>\n",
       "    </tr>\n",
       "    <tr>\n",
       "      <th>4</th>\n",
       "      <td>37816.0</td>\n",
       "      <td>NaN</td>\n",
       "    </tr>\n",
       "    <tr>\n",
       "      <th>...</th>\n",
       "      <td>...</td>\n",
       "      <td>...</td>\n",
       "    </tr>\n",
       "    <tr>\n",
       "      <th>2256</th>\n",
       "      <td>NaN</td>\n",
       "      <td>145000.0</td>\n",
       "    </tr>\n",
       "    <tr>\n",
       "      <th>2257</th>\n",
       "      <td>NaN</td>\n",
       "      <td>33972.0</td>\n",
       "    </tr>\n",
       "    <tr>\n",
       "      <th>2258</th>\n",
       "      <td>NaN</td>\n",
       "      <td>97284.0</td>\n",
       "    </tr>\n",
       "    <tr>\n",
       "      <th>2259</th>\n",
       "      <td>NaN</td>\n",
       "      <td>72000.0</td>\n",
       "    </tr>\n",
       "    <tr>\n",
       "      <th>2260</th>\n",
       "      <td>NaN</td>\n",
       "      <td>180000.0</td>\n",
       "    </tr>\n",
       "  </tbody>\n",
       "</table>\n",
       "<p>2261 rows × 2 columns</p>\n",
       "</div>"
      ],
      "text/plain": [
       "age_first_code_cut      adult     child\n",
       "0                     77556.0       NaN\n",
       "1                         NaN   74970.0\n",
       "2                         NaN  594539.0\n",
       "3                   2000000.0       NaN\n",
       "4                     37816.0       NaN\n",
       "...                       ...       ...\n",
       "2256                      NaN  145000.0\n",
       "2257                      NaN   33972.0\n",
       "2258                      NaN   97284.0\n",
       "2259                      NaN   72000.0\n",
       "2260                      NaN  180000.0\n",
       "\n",
       "[2261 rows x 2 columns]"
      ]
     },
     "execution_count": 280,
     "metadata": {},
     "output_type": "execute_result"
    }
   ],
   "source": [
    "age_vs_comp_wide = age_vs_comp.pivot(columns='age_first_code_cut', \n",
    "                                     values='converted_comp')\n",
    "age_vs_comp_wide"
   ]
  },
  {
   "cell_type": "markdown",
   "id": "f6678129-b1ea-454e-a1a7-87420cfe3c68",
   "metadata": {},
   "source": [
    "### Wilcoxoo-Mann-Whitney test  \n",
    "Anlamlılık düzeyi 0.01 olarak belirlensin. pingouin'den mwu kullanarak bir Wilcoxon-Mann-Whitney testi çalıştırılabilir. Karşılaştırak istenilen iki sayı sütununa karşılık gelen x ve y argümanlarını kabul eder, bu durumda çocuk ve yetişkin . alternative , alternatif hipotezin türünü belirler, bu durumda, önce çocuk olarak kodlayanların önce yetişkin olarak kodlayanlardan daha yüksek bir gelire sahip olduğu , ki bu sağ kuyruklu bir testtir. Burada , p-değeri yaklaşık on üzeri negatif on dokuzuncu kuvvet olarak gösterilmektedir, bu da anlamlılık düzeyinden önemli ölçüde daha küçüktür."
   ]
  },
  {
   "cell_type": "code",
   "execution_count": 284,
   "id": "e11133bf-93f0-4da3-baee-249bc71dd92a",
   "metadata": {},
   "outputs": [
    {
     "data": {
      "text/html": [
       "<div>\n",
       "<style scoped>\n",
       "    .dataframe tbody tr th:only-of-type {\n",
       "        vertical-align: middle;\n",
       "    }\n",
       "\n",
       "    .dataframe tbody tr th {\n",
       "        vertical-align: top;\n",
       "    }\n",
       "\n",
       "    .dataframe thead th {\n",
       "        text-align: right;\n",
       "    }\n",
       "</style>\n",
       "<table border=\"1\" class=\"dataframe\">\n",
       "  <thead>\n",
       "    <tr style=\"text-align: right;\">\n",
       "      <th></th>\n",
       "      <th>U-val</th>\n",
       "      <th>alternative</th>\n",
       "      <th>p-val</th>\n",
       "      <th>RBC</th>\n",
       "      <th>CLES</th>\n",
       "    </tr>\n",
       "  </thead>\n",
       "  <tbody>\n",
       "    <tr>\n",
       "      <th>MWU</th>\n",
       "      <td>744365.5</td>\n",
       "      <td>greater</td>\n",
       "      <td>1.902723e-19</td>\n",
       "      <td>0.222516</td>\n",
       "      <td>0.611258</td>\n",
       "    </tr>\n",
       "  </tbody>\n",
       "</table>\n",
       "</div>"
      ],
      "text/plain": [
       "        U-val alternative         p-val       RBC      CLES\n",
       "MWU  744365.5     greater  1.902723e-19  0.222516  0.611258"
      ]
     },
     "execution_count": 284,
     "metadata": {},
     "output_type": "execute_result"
    }
   ],
   "source": [
    "import pingouin\n",
    "\n",
    "alpha = 0.01\n",
    "\n",
    "pingouin.mwu(x=age_vs_comp_wide['child'], \n",
    "             y=age_vs_comp_wide['adult'], \n",
    "             alternative='greater')"
   ]
  },
  {
   "cell_type": "markdown",
   "id": "5c923190-6a06-4221-9aa4-482b6a8a9d70",
   "metadata": {},
   "source": [
    "### Kruskal-Wallis test  \n",
    "ANOVA'nın t-testlerini ikiden fazla gruba genişletmesi gibi, Kruskal-Wallis testi de Wilcoxon-Mann-Whitney testini ikiden fazla gruba genişletir. Yani , Kruskal-Wallis testi ANOVA'nın parametrik olmayan bir versiyonudur. İş tatmini grupları arasında converted_comp açısından bir fark olup olmadığını araştırmak üzere Kruskal-Wallis testi yapmak için pingouin'in kruskal yöntemini kullanıyoruz. Wilcoxon-Mann-Whitney testinin aksine, kruskal yöntemi uzun veriler üzerinde çalıştığı için burada verilerimizi pivotlamamıza gerek yoktur. Veri olarak stack_overflow, bağımlı değişken olan dv'yi converted_comp olarak giriyoruz ve job_sat grupları arasında karşılaştırma yapıyoruz. Yine, burada ki p-değeri çok küçüktür ve anlamlılık düzeyimizden daha küçüktür. Bu, ortalama tazminat toplamlarından en az birinin bu beş iş memnuniyeti grubunda diğerlerinden farklı olduğuna dair kanıt sağlamaktadır."
   ]
  },
  {
   "cell_type": "code",
   "execution_count": 287,
   "id": "714cb4cd-6c0d-406b-97b6-b751bf16d02f",
   "metadata": {},
   "outputs": [
    {
     "data": {
      "text/html": [
       "<div>\n",
       "<style scoped>\n",
       "    .dataframe tbody tr th:only-of-type {\n",
       "        vertical-align: middle;\n",
       "    }\n",
       "\n",
       "    .dataframe tbody tr th {\n",
       "        vertical-align: top;\n",
       "    }\n",
       "\n",
       "    .dataframe thead th {\n",
       "        text-align: right;\n",
       "    }\n",
       "</style>\n",
       "<table border=\"1\" class=\"dataframe\">\n",
       "  <thead>\n",
       "    <tr style=\"text-align: right;\">\n",
       "      <th></th>\n",
       "      <th>Source</th>\n",
       "      <th>ddof1</th>\n",
       "      <th>H</th>\n",
       "      <th>p-unc</th>\n",
       "    </tr>\n",
       "  </thead>\n",
       "  <tbody>\n",
       "    <tr>\n",
       "      <th>Kruskal</th>\n",
       "      <td>job_sat</td>\n",
       "      <td>4</td>\n",
       "      <td>72.814939</td>\n",
       "      <td>5.772915e-15</td>\n",
       "    </tr>\n",
       "  </tbody>\n",
       "</table>\n",
       "</div>"
      ],
      "text/plain": [
       "          Source  ddof1          H         p-unc\n",
       "Kruskal  job_sat      4  72.814939  5.772915e-15"
      ]
     },
     "execution_count": 287,
     "metadata": {},
     "output_type": "execute_result"
    }
   ],
   "source": [
    "alpha = 0.01\n",
    "\n",
    "pingouin.kruskal(data=df_stck, dv='converted_comp', between='job_sat')"
   ]
  }
 ],
 "metadata": {
  "kernelspec": {
   "display_name": "Python 3 (ipykernel)",
   "language": "python",
   "name": "python3"
  },
  "language_info": {
   "codemirror_mode": {
    "name": "ipython",
    "version": 3
   },
   "file_extension": ".py",
   "mimetype": "text/x-python",
   "name": "python",
   "nbconvert_exporter": "python",
   "pygments_lexer": "ipython3",
   "version": "3.12.4"
  }
 },
 "nbformat": 4,
 "nbformat_minor": 5
}
