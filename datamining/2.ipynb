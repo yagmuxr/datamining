{
 "cells": [
  {
   "cell_type": "code",
   "execution_count": 3,
   "id": "a6b2d989-8048-4604-bc08-5dd7fddc9b69",
   "metadata": {},
   "outputs": [],
   "source": [
    "import pandas as pd\n",
    "import numpy as np"
   ]
  },
  {
   "cell_type": "code",
   "execution_count": 5,
   "id": "40550e96-f7a0-493e-8edf-873b4ae6a2c4",
   "metadata": {},
   "outputs": [],
   "source": [
    "df_animal = pd.read_csv('data/msleep.csv')"
   ]
  },
  {
   "cell_type": "code",
   "execution_count": 43,
   "id": "26e01a4c-d9e7-4345-b98a-43e4d99ddc44",
   "metadata": {},
   "outputs": [
    {
     "data": {
      "text/html": [
       "<div>\n",
       "<style scoped>\n",
       "    .dataframe tbody tr th:only-of-type {\n",
       "        vertical-align: middle;\n",
       "    }\n",
       "\n",
       "    .dataframe tbody tr th {\n",
       "        vertical-align: top;\n",
       "    }\n",
       "\n",
       "    .dataframe thead th {\n",
       "        text-align: right;\n",
       "    }\n",
       "</style>\n",
       "<table border=\"1\" class=\"dataframe\">\n",
       "  <thead>\n",
       "    <tr style=\"text-align: right;\">\n",
       "      <th></th>\n",
       "      <th>name</th>\n",
       "      <th>genus</th>\n",
       "      <th>vore</th>\n",
       "      <th>order</th>\n",
       "      <th>conservation</th>\n",
       "      <th>sleep_total</th>\n",
       "      <th>sleep_rem</th>\n",
       "      <th>sleep_cycle</th>\n",
       "      <th>awake</th>\n",
       "      <th>brainwt</th>\n",
       "      <th>bodywt</th>\n",
       "    </tr>\n",
       "  </thead>\n",
       "  <tbody>\n",
       "    <tr>\n",
       "      <th>0</th>\n",
       "      <td>Cheetah</td>\n",
       "      <td>Acinonyx</td>\n",
       "      <td>carni</td>\n",
       "      <td>Carnivora</td>\n",
       "      <td>lc</td>\n",
       "      <td>12.1</td>\n",
       "      <td>NaN</td>\n",
       "      <td>NaN</td>\n",
       "      <td>11.9</td>\n",
       "      <td>NaN</td>\n",
       "      <td>50.000</td>\n",
       "    </tr>\n",
       "    <tr>\n",
       "      <th>1</th>\n",
       "      <td>Owl monkey</td>\n",
       "      <td>Aotus</td>\n",
       "      <td>omni</td>\n",
       "      <td>Primates</td>\n",
       "      <td>NaN</td>\n",
       "      <td>17.0</td>\n",
       "      <td>1.8</td>\n",
       "      <td>NaN</td>\n",
       "      <td>7.0</td>\n",
       "      <td>0.01550</td>\n",
       "      <td>0.480</td>\n",
       "    </tr>\n",
       "    <tr>\n",
       "      <th>2</th>\n",
       "      <td>Mountain beaver</td>\n",
       "      <td>Aplodontia</td>\n",
       "      <td>herbi</td>\n",
       "      <td>Rodentia</td>\n",
       "      <td>nt</td>\n",
       "      <td>14.4</td>\n",
       "      <td>2.4</td>\n",
       "      <td>NaN</td>\n",
       "      <td>9.6</td>\n",
       "      <td>NaN</td>\n",
       "      <td>1.350</td>\n",
       "    </tr>\n",
       "    <tr>\n",
       "      <th>3</th>\n",
       "      <td>Greater short-tailed shrew</td>\n",
       "      <td>Blarina</td>\n",
       "      <td>omni</td>\n",
       "      <td>Soricomorpha</td>\n",
       "      <td>lc</td>\n",
       "      <td>14.9</td>\n",
       "      <td>2.3</td>\n",
       "      <td>0.133333</td>\n",
       "      <td>9.1</td>\n",
       "      <td>0.00029</td>\n",
       "      <td>0.019</td>\n",
       "    </tr>\n",
       "    <tr>\n",
       "      <th>4</th>\n",
       "      <td>Cow</td>\n",
       "      <td>Bos</td>\n",
       "      <td>herbi</td>\n",
       "      <td>Artiodactyla</td>\n",
       "      <td>domesticated</td>\n",
       "      <td>4.0</td>\n",
       "      <td>0.7</td>\n",
       "      <td>0.666667</td>\n",
       "      <td>20.0</td>\n",
       "      <td>0.42300</td>\n",
       "      <td>600.000</td>\n",
       "    </tr>\n",
       "    <tr>\n",
       "      <th>...</th>\n",
       "      <td>...</td>\n",
       "      <td>...</td>\n",
       "      <td>...</td>\n",
       "      <td>...</td>\n",
       "      <td>...</td>\n",
       "      <td>...</td>\n",
       "      <td>...</td>\n",
       "      <td>...</td>\n",
       "      <td>...</td>\n",
       "      <td>...</td>\n",
       "      <td>...</td>\n",
       "    </tr>\n",
       "    <tr>\n",
       "      <th>78</th>\n",
       "      <td>Tree shrew</td>\n",
       "      <td>Tupaia</td>\n",
       "      <td>omni</td>\n",
       "      <td>Scandentia</td>\n",
       "      <td>NaN</td>\n",
       "      <td>8.9</td>\n",
       "      <td>2.6</td>\n",
       "      <td>0.233333</td>\n",
       "      <td>15.1</td>\n",
       "      <td>0.00250</td>\n",
       "      <td>0.104</td>\n",
       "    </tr>\n",
       "    <tr>\n",
       "      <th>79</th>\n",
       "      <td>Bottle-nosed dolphin</td>\n",
       "      <td>Tursiops</td>\n",
       "      <td>carni</td>\n",
       "      <td>Cetacea</td>\n",
       "      <td>NaN</td>\n",
       "      <td>5.2</td>\n",
       "      <td>NaN</td>\n",
       "      <td>NaN</td>\n",
       "      <td>18.8</td>\n",
       "      <td>NaN</td>\n",
       "      <td>173.330</td>\n",
       "    </tr>\n",
       "    <tr>\n",
       "      <th>80</th>\n",
       "      <td>Genet</td>\n",
       "      <td>Genetta</td>\n",
       "      <td>carni</td>\n",
       "      <td>Carnivora</td>\n",
       "      <td>NaN</td>\n",
       "      <td>6.3</td>\n",
       "      <td>1.3</td>\n",
       "      <td>NaN</td>\n",
       "      <td>17.7</td>\n",
       "      <td>0.01750</td>\n",
       "      <td>2.000</td>\n",
       "    </tr>\n",
       "    <tr>\n",
       "      <th>81</th>\n",
       "      <td>Arctic fox</td>\n",
       "      <td>Vulpes</td>\n",
       "      <td>carni</td>\n",
       "      <td>Carnivora</td>\n",
       "      <td>NaN</td>\n",
       "      <td>12.5</td>\n",
       "      <td>NaN</td>\n",
       "      <td>NaN</td>\n",
       "      <td>11.5</td>\n",
       "      <td>0.04450</td>\n",
       "      <td>3.380</td>\n",
       "    </tr>\n",
       "    <tr>\n",
       "      <th>82</th>\n",
       "      <td>Red fox</td>\n",
       "      <td>Vulpes</td>\n",
       "      <td>carni</td>\n",
       "      <td>Carnivora</td>\n",
       "      <td>NaN</td>\n",
       "      <td>9.8</td>\n",
       "      <td>2.4</td>\n",
       "      <td>0.350000</td>\n",
       "      <td>14.2</td>\n",
       "      <td>0.05040</td>\n",
       "      <td>4.230</td>\n",
       "    </tr>\n",
       "  </tbody>\n",
       "</table>\n",
       "<p>83 rows × 11 columns</p>\n",
       "</div>"
      ],
      "text/plain": [
       "                          name       genus   vore         order  conservation  \\\n",
       "0                      Cheetah    Acinonyx  carni     Carnivora            lc   \n",
       "1                   Owl monkey       Aotus   omni      Primates           NaN   \n",
       "2              Mountain beaver  Aplodontia  herbi      Rodentia            nt   \n",
       "3   Greater short-tailed shrew     Blarina   omni  Soricomorpha            lc   \n",
       "4                          Cow         Bos  herbi  Artiodactyla  domesticated   \n",
       "..                         ...         ...    ...           ...           ...   \n",
       "78                  Tree shrew      Tupaia   omni    Scandentia           NaN   \n",
       "79        Bottle-nosed dolphin    Tursiops  carni       Cetacea           NaN   \n",
       "80                       Genet     Genetta  carni     Carnivora           NaN   \n",
       "81                  Arctic fox      Vulpes  carni     Carnivora           NaN   \n",
       "82                     Red fox      Vulpes  carni     Carnivora           NaN   \n",
       "\n",
       "    sleep_total  sleep_rem  sleep_cycle  awake  brainwt   bodywt  \n",
       "0          12.1        NaN          NaN   11.9      NaN   50.000  \n",
       "1          17.0        1.8          NaN    7.0  0.01550    0.480  \n",
       "2          14.4        2.4          NaN    9.6      NaN    1.350  \n",
       "3          14.9        2.3     0.133333    9.1  0.00029    0.019  \n",
       "4           4.0        0.7     0.666667   20.0  0.42300  600.000  \n",
       "..          ...        ...          ...    ...      ...      ...  \n",
       "78          8.9        2.6     0.233333   15.1  0.00250    0.104  \n",
       "79          5.2        NaN          NaN   18.8      NaN  173.330  \n",
       "80          6.3        1.3          NaN   17.7  0.01750    2.000  \n",
       "81         12.5        NaN          NaN   11.5  0.04450    3.380  \n",
       "82          9.8        2.4     0.350000   14.2  0.05040    4.230  \n",
       "\n",
       "[83 rows x 11 columns]"
      ]
     },
     "execution_count": 43,
     "metadata": {},
     "output_type": "execute_result"
    }
   ],
   "source": [
    "df_animal"
   ]
  },
  {
   "cell_type": "code",
   "execution_count": 39,
   "id": "1b0da0bd-13f4-481b-8ac1-c1d6b39b049c",
   "metadata": {},
   "outputs": [
    {
     "data": {
      "text/plain": [
       "sleep_total\n",
       "12.5    4\n",
       "10.1    3\n",
       "5.3     2\n",
       "6.3     2\n",
       "9.1     2\n",
       "       ..\n",
       "19.4    1\n",
       "17.0    1\n",
       "14.3    1\n",
       "19.9    1\n",
       "5.2     1\n",
       "Name: count, Length: 65, dtype: int64"
      ]
     },
     "execution_count": 39,
     "metadata": {},
     "output_type": "execute_result"
    }
   ],
   "source": [
    "df_animal.sleep_total.value_counts()"
   ]
  },
  {
   "cell_type": "code",
   "execution_count": 13,
   "id": "149f753b-cdc9-4168-ba79-800af3fb4257",
   "metadata": {},
   "outputs": [
    {
     "data": {
      "text/plain": [
       "vore\n",
       "herbi      32\n",
       "omni       20\n",
       "carni      19\n",
       "insecti     5\n",
       "Name: count, dtype: int64"
      ]
     },
     "execution_count": 13,
     "metadata": {},
     "output_type": "execute_result"
    }
   ],
   "source": [
    "df_animal.vore.value_counts()"
   ]
  },
  {
   "cell_type": "code",
   "execution_count": 73,
   "id": "552ce684-3715-4c33-928d-944fac6423f3",
   "metadata": {},
   "outputs": [
    {
     "data": {
      "text/plain": [
       "'herbi'"
      ]
     },
     "execution_count": 73,
     "metadata": {},
     "output_type": "execute_result"
    }
   ],
   "source": [
    "df_animal.vore.value_counts().index[0]"
   ]
  },
  {
   "cell_type": "code",
   "execution_count": 19,
   "id": "23f4aa17-1c51-4e3e-948a-587bab1da111",
   "metadata": {},
   "outputs": [
    {
     "data": {
      "text/plain": [
       "vore\n",
       "herbi      0.421053\n",
       "omni       0.263158\n",
       "carni      0.250000\n",
       "insecti    0.065789\n",
       "Name: proportion, dtype: float64"
      ]
     },
     "execution_count": 19,
     "metadata": {},
     "output_type": "execute_result"
    }
   ],
   "source": [
    "df_animal.vore.value_counts(normalize=True)"
   ]
  },
  {
   "cell_type": "code",
   "execution_count": 41,
   "id": "307bfd05-ae2f-4137-ae5c-db72b74b990b",
   "metadata": {},
   "outputs": [
    {
     "data": {
      "text/plain": [
       "vore\n",
       "herbi      32\n",
       "omni       20\n",
       "carni      19\n",
       "insecti     5\n",
       "Name: count, dtype: int64"
      ]
     },
     "execution_count": 41,
     "metadata": {},
     "output_type": "execute_result"
    }
   ],
   "source": [
    "df_animal.vore.value_counts(ascending=False)"
   ]
  },
  {
   "cell_type": "code",
   "execution_count": 23,
   "id": "4dd8b8b7-a175-4c41-bdaa-fe00da9dfd11",
   "metadata": {},
   "outputs": [
    {
     "data": {
      "text/plain": [
       "vore\n",
       "carni      19\n",
       "omni       20\n",
       "herbi      32\n",
       "insecti     5\n",
       "Name: count, dtype: int64"
      ]
     },
     "execution_count": 23,
     "metadata": {},
     "output_type": "execute_result"
    }
   ],
   "source": [
    "df_animal.vore.value_counts(sort=False)"
   ]
  },
  {
   "cell_type": "code",
   "execution_count": 7,
   "id": "d3d52e4d-82f5-409e-bd42-09f86fdcaf15",
   "metadata": {},
   "outputs": [
    {
     "data": {
      "text/html": [
       "<div>\n",
       "<style scoped>\n",
       "    .dataframe tbody tr th:only-of-type {\n",
       "        vertical-align: middle;\n",
       "    }\n",
       "\n",
       "    .dataframe tbody tr th {\n",
       "        vertical-align: top;\n",
       "    }\n",
       "\n",
       "    .dataframe thead th {\n",
       "        text-align: right;\n",
       "    }\n",
       "</style>\n",
       "<table border=\"1\" class=\"dataframe\">\n",
       "  <thead>\n",
       "    <tr style=\"text-align: right;\">\n",
       "      <th></th>\n",
       "      <th>name</th>\n",
       "      <th>genus</th>\n",
       "      <th>vore</th>\n",
       "      <th>order</th>\n",
       "      <th>conservation</th>\n",
       "      <th>sleep_total</th>\n",
       "      <th>sleep_rem</th>\n",
       "      <th>sleep_cycle</th>\n",
       "      <th>awake</th>\n",
       "      <th>brainwt</th>\n",
       "      <th>bodywt</th>\n",
       "    </tr>\n",
       "  </thead>\n",
       "  <tbody>\n",
       "    <tr>\n",
       "      <th>21</th>\n",
       "      <td>Big brown bat</td>\n",
       "      <td>Eptesicus</td>\n",
       "      <td>insecti</td>\n",
       "      <td>Chiroptera</td>\n",
       "      <td>lc</td>\n",
       "      <td>19.7</td>\n",
       "      <td>3.9</td>\n",
       "      <td>0.116667</td>\n",
       "      <td>4.3</td>\n",
       "      <td>0.00030</td>\n",
       "      <td>0.023</td>\n",
       "    </tr>\n",
       "    <tr>\n",
       "      <th>42</th>\n",
       "      <td>Little brown bat</td>\n",
       "      <td>Myotis</td>\n",
       "      <td>insecti</td>\n",
       "      <td>Chiroptera</td>\n",
       "      <td>NaN</td>\n",
       "      <td>19.9</td>\n",
       "      <td>2.0</td>\n",
       "      <td>0.200000</td>\n",
       "      <td>4.1</td>\n",
       "      <td>0.00025</td>\n",
       "      <td>0.010</td>\n",
       "    </tr>\n",
       "    <tr>\n",
       "      <th>61</th>\n",
       "      <td>Giant armadillo</td>\n",
       "      <td>Priodontes</td>\n",
       "      <td>insecti</td>\n",
       "      <td>Cingulata</td>\n",
       "      <td>en</td>\n",
       "      <td>18.1</td>\n",
       "      <td>6.1</td>\n",
       "      <td>NaN</td>\n",
       "      <td>5.9</td>\n",
       "      <td>0.08100</td>\n",
       "      <td>60.000</td>\n",
       "    </tr>\n",
       "    <tr>\n",
       "      <th>66</th>\n",
       "      <td>Eastern american mole</td>\n",
       "      <td>Scalopus</td>\n",
       "      <td>insecti</td>\n",
       "      <td>Soricomorpha</td>\n",
       "      <td>lc</td>\n",
       "      <td>8.4</td>\n",
       "      <td>2.1</td>\n",
       "      <td>0.166667</td>\n",
       "      <td>15.6</td>\n",
       "      <td>0.00120</td>\n",
       "      <td>0.075</td>\n",
       "    </tr>\n",
       "    <tr>\n",
       "      <th>74</th>\n",
       "      <td>Short-nosed echidna</td>\n",
       "      <td>Tachyglossus</td>\n",
       "      <td>insecti</td>\n",
       "      <td>Monotremata</td>\n",
       "      <td>NaN</td>\n",
       "      <td>8.6</td>\n",
       "      <td>NaN</td>\n",
       "      <td>NaN</td>\n",
       "      <td>15.4</td>\n",
       "      <td>0.02500</td>\n",
       "      <td>4.500</td>\n",
       "    </tr>\n",
       "  </tbody>\n",
       "</table>\n",
       "</div>"
      ],
      "text/plain": [
       "                     name         genus     vore         order conservation  \\\n",
       "21          Big brown bat     Eptesicus  insecti    Chiroptera           lc   \n",
       "42       Little brown bat        Myotis  insecti    Chiroptera          NaN   \n",
       "61        Giant armadillo    Priodontes  insecti     Cingulata           en   \n",
       "66  Eastern american mole      Scalopus  insecti  Soricomorpha           lc   \n",
       "74    Short-nosed echidna  Tachyglossus  insecti   Monotremata          NaN   \n",
       "\n",
       "    sleep_total  sleep_rem  sleep_cycle  awake  brainwt  bodywt  \n",
       "21         19.7        3.9     0.116667    4.3  0.00030   0.023  \n",
       "42         19.9        2.0     0.200000    4.1  0.00025   0.010  \n",
       "61         18.1        6.1          NaN    5.9  0.08100  60.000  \n",
       "66          8.4        2.1     0.166667   15.6  0.00120   0.075  \n",
       "74          8.6        NaN          NaN   15.4  0.02500   4.500  "
      ]
     },
     "execution_count": 7,
     "metadata": {},
     "output_type": "execute_result"
    }
   ],
   "source": [
    "df_animal[df_animal.vore == \"insecti\"]"
   ]
  },
  {
   "cell_type": "code",
   "execution_count": 11,
   "id": "ab87d9e9-1dbb-457b-8896-10fe4c92fb3f",
   "metadata": {},
   "outputs": [
    {
     "data": {
      "text/plain": [
       "mean      3.525000\n",
       "median    3.000000\n",
       "var       3.709167\n",
       "std       1.925920\n",
       "Name: sleep_rem, dtype: float64"
      ]
     },
     "execution_count": 11,
     "metadata": {},
     "output_type": "execute_result"
    }
   ],
   "source": [
    "df_animal[df_animal.vore == \"insecti\"][\"sleep_rem\"].\\\n",
    "agg([\"mean\",\"median\",\"var\",\"std\"]) #agg fonksiyonlarına bak"
   ]
  },
  {
   "cell_type": "code",
   "execution_count": 31,
   "id": "882be058-a65e-43df-93f1-79a6b8e46a5a",
   "metadata": {},
   "outputs": [
    {
     "data": {
      "text/html": [
       "<div>\n",
       "<style scoped>\n",
       "    .dataframe tbody tr th:only-of-type {\n",
       "        vertical-align: middle;\n",
       "    }\n",
       "\n",
       "    .dataframe tbody tr th {\n",
       "        vertical-align: top;\n",
       "    }\n",
       "\n",
       "    .dataframe thead th {\n",
       "        text-align: right;\n",
       "    }\n",
       "</style>\n",
       "<table border=\"1\" class=\"dataframe\">\n",
       "  <thead>\n",
       "    <tr style=\"text-align: right;\">\n",
       "      <th></th>\n",
       "      <th>name</th>\n",
       "      <th>genus</th>\n",
       "      <th>vore</th>\n",
       "      <th>order</th>\n",
       "      <th>conservation</th>\n",
       "      <th>sleep_total</th>\n",
       "      <th>sleep_rem</th>\n",
       "      <th>sleep_cycle</th>\n",
       "      <th>awake</th>\n",
       "      <th>brainwt</th>\n",
       "      <th>bodywt</th>\n",
       "    </tr>\n",
       "  </thead>\n",
       "  <tbody>\n",
       "    <tr>\n",
       "      <th>0</th>\n",
       "      <td>Cheetah</td>\n",
       "      <td>Acinonyx</td>\n",
       "      <td>carni</td>\n",
       "      <td>Carnivora</td>\n",
       "      <td>lc</td>\n",
       "      <td>12.1</td>\n",
       "      <td>NaN</td>\n",
       "      <td>NaN</td>\n",
       "      <td>11.9</td>\n",
       "      <td>NaN</td>\n",
       "      <td>50.000</td>\n",
       "    </tr>\n",
       "    <tr>\n",
       "      <th>1</th>\n",
       "      <td>Owl monkey</td>\n",
       "      <td>Aotus</td>\n",
       "      <td>omni</td>\n",
       "      <td>Primates</td>\n",
       "      <td>NaN</td>\n",
       "      <td>17.0</td>\n",
       "      <td>1.8</td>\n",
       "      <td>NaN</td>\n",
       "      <td>7.0</td>\n",
       "      <td>0.01550</td>\n",
       "      <td>0.480</td>\n",
       "    </tr>\n",
       "    <tr>\n",
       "      <th>2</th>\n",
       "      <td>Mountain beaver</td>\n",
       "      <td>Aplodontia</td>\n",
       "      <td>herbi</td>\n",
       "      <td>Rodentia</td>\n",
       "      <td>nt</td>\n",
       "      <td>14.4</td>\n",
       "      <td>2.4</td>\n",
       "      <td>NaN</td>\n",
       "      <td>9.6</td>\n",
       "      <td>NaN</td>\n",
       "      <td>1.350</td>\n",
       "    </tr>\n",
       "    <tr>\n",
       "      <th>3</th>\n",
       "      <td>Greater short-tailed shrew</td>\n",
       "      <td>Blarina</td>\n",
       "      <td>omni</td>\n",
       "      <td>Soricomorpha</td>\n",
       "      <td>lc</td>\n",
       "      <td>14.9</td>\n",
       "      <td>2.3</td>\n",
       "      <td>0.133333</td>\n",
       "      <td>9.1</td>\n",
       "      <td>0.00029</td>\n",
       "      <td>0.019</td>\n",
       "    </tr>\n",
       "    <tr>\n",
       "      <th>4</th>\n",
       "      <td>Cow</td>\n",
       "      <td>Bos</td>\n",
       "      <td>herbi</td>\n",
       "      <td>Artiodactyla</td>\n",
       "      <td>domesticated</td>\n",
       "      <td>4.0</td>\n",
       "      <td>0.7</td>\n",
       "      <td>0.666667</td>\n",
       "      <td>20.0</td>\n",
       "      <td>0.42300</td>\n",
       "      <td>600.000</td>\n",
       "    </tr>\n",
       "    <tr>\n",
       "      <th>...</th>\n",
       "      <td>...</td>\n",
       "      <td>...</td>\n",
       "      <td>...</td>\n",
       "      <td>...</td>\n",
       "      <td>...</td>\n",
       "      <td>...</td>\n",
       "      <td>...</td>\n",
       "      <td>...</td>\n",
       "      <td>...</td>\n",
       "      <td>...</td>\n",
       "      <td>...</td>\n",
       "    </tr>\n",
       "    <tr>\n",
       "      <th>79</th>\n",
       "      <td>Bottle-nosed dolphin</td>\n",
       "      <td>Tursiops</td>\n",
       "      <td>carni</td>\n",
       "      <td>Cetacea</td>\n",
       "      <td>NaN</td>\n",
       "      <td>5.2</td>\n",
       "      <td>NaN</td>\n",
       "      <td>NaN</td>\n",
       "      <td>18.8</td>\n",
       "      <td>NaN</td>\n",
       "      <td>173.330</td>\n",
       "    </tr>\n",
       "    <tr>\n",
       "      <th>80</th>\n",
       "      <td>Genet</td>\n",
       "      <td>Genetta</td>\n",
       "      <td>carni</td>\n",
       "      <td>Carnivora</td>\n",
       "      <td>NaN</td>\n",
       "      <td>6.3</td>\n",
       "      <td>1.3</td>\n",
       "      <td>NaN</td>\n",
       "      <td>17.7</td>\n",
       "      <td>0.01750</td>\n",
       "      <td>2.000</td>\n",
       "    </tr>\n",
       "    <tr>\n",
       "      <th>81</th>\n",
       "      <td>Arctic fox</td>\n",
       "      <td>Vulpes</td>\n",
       "      <td>carni</td>\n",
       "      <td>Carnivora</td>\n",
       "      <td>NaN</td>\n",
       "      <td>12.5</td>\n",
       "      <td>NaN</td>\n",
       "      <td>NaN</td>\n",
       "      <td>11.5</td>\n",
       "      <td>0.04450</td>\n",
       "      <td>3.380</td>\n",
       "    </tr>\n",
       "    <tr>\n",
       "      <th>82</th>\n",
       "      <td>Red fox</td>\n",
       "      <td>Vulpes</td>\n",
       "      <td>carni</td>\n",
       "      <td>Carnivora</td>\n",
       "      <td>NaN</td>\n",
       "      <td>9.8</td>\n",
       "      <td>2.4</td>\n",
       "      <td>0.350000</td>\n",
       "      <td>14.2</td>\n",
       "      <td>0.05040</td>\n",
       "      <td>4.230</td>\n",
       "    </tr>\n",
       "    <tr>\n",
       "      <th>83</th>\n",
       "      <td>New Insect</td>\n",
       "      <td></td>\n",
       "      <td>insecti</td>\n",
       "      <td></td>\n",
       "      <td></td>\n",
       "      <td>0.0</td>\n",
       "      <td>0.0</td>\n",
       "      <td>0.000000</td>\n",
       "      <td>0.0</td>\n",
       "      <td>0.00000</td>\n",
       "      <td>0.000</td>\n",
       "    </tr>\n",
       "  </tbody>\n",
       "</table>\n",
       "<p>84 rows × 11 columns</p>\n",
       "</div>"
      ],
      "text/plain": [
       "                          name       genus     vore         order  \\\n",
       "0                      Cheetah    Acinonyx    carni     Carnivora   \n",
       "1                   Owl monkey       Aotus     omni      Primates   \n",
       "2              Mountain beaver  Aplodontia    herbi      Rodentia   \n",
       "3   Greater short-tailed shrew     Blarina     omni  Soricomorpha   \n",
       "4                          Cow         Bos    herbi  Artiodactyla   \n",
       "..                         ...         ...      ...           ...   \n",
       "79        Bottle-nosed dolphin    Tursiops    carni       Cetacea   \n",
       "80                       Genet     Genetta    carni     Carnivora   \n",
       "81                  Arctic fox      Vulpes    carni     Carnivora   \n",
       "82                     Red fox      Vulpes    carni     Carnivora   \n",
       "83                  New Insect              insecti                 \n",
       "\n",
       "    conservation  sleep_total  sleep_rem  sleep_cycle  awake  brainwt   bodywt  \n",
       "0             lc         12.1        NaN          NaN   11.9      NaN   50.000  \n",
       "1            NaN         17.0        1.8          NaN    7.0  0.01550    0.480  \n",
       "2             nt         14.4        2.4          NaN    9.6      NaN    1.350  \n",
       "3             lc         14.9        2.3     0.133333    9.1  0.00029    0.019  \n",
       "4   domesticated          4.0        0.7     0.666667   20.0  0.42300  600.000  \n",
       "..           ...          ...        ...          ...    ...      ...      ...  \n",
       "79           NaN          5.2        NaN          NaN   18.8      NaN  173.330  \n",
       "80           NaN          6.3        1.3          NaN   17.7  0.01750    2.000  \n",
       "81           NaN         12.5        NaN          NaN   11.5  0.04450    3.380  \n",
       "82           NaN          9.8        2.4     0.350000   14.2  0.05040    4.230  \n",
       "83                        0.0        0.0     0.000000    0.0  0.00000    0.000  \n",
       "\n",
       "[84 rows x 11 columns]"
      ]
     },
     "execution_count": 31,
     "metadata": {},
     "output_type": "execute_result"
    }
   ],
   "source": [
    "#add outlier\n",
    "df_animal.loc[len(df_animal.index)] = \\\n",
    "[\"New Insect\",\"\",\"insecti\",\"\",\"\", \\\n",
    "0.0,0.0,0.0,0.0,0.0,0.0]\n",
    "df_animal"
   ]
  },
  {
   "cell_type": "code",
   "execution_count": 41,
   "id": "be724c19-ad0d-4cb7-92b3-7655002f57fc",
   "metadata": {},
   "outputs": [
    {
     "data": {
      "text/plain": [
       "18.0"
      ]
     },
     "execution_count": 41,
     "metadata": {},
     "output_type": "execute_result"
    }
   ],
   "source": [
    "range_sleep_total = df_animal.sleep_total.max()-\\\n",
    "df_animal.sleep_total.min()\n",
    "range_sleep_total"
   ]
  },
  {
   "cell_type": "code",
   "execution_count": 23,
   "id": "e1adca9b-c7be-4950-81d8-23995353ed99",
   "metadata": {},
   "outputs": [
    {
     "data": {
      "text/plain": [
       "19.805677343520422"
      ]
     },
     "execution_count": 23,
     "metadata": {},
     "output_type": "execute_result"
    }
   ],
   "source": [
    "np.var(df_animal.sleep_total, ddof=1) #default ->0 ddof -> 0 pop varyans ddof -> 1 sample(örneklem) varyans"
   ]
  },
  {
   "cell_type": "code",
   "execution_count": 49,
   "id": "1767ed49-2504-49e4-a207-348aab8fd982",
   "metadata": {},
   "outputs": [
    {
     "data": {
      "text/plain": [
       "4.4503569905705795"
      ]
     },
     "execution_count": 49,
     "metadata": {},
     "output_type": "execute_result"
    }
   ],
   "source": [
    "np.sqrt(np.var(df_animal.sleep_total, ddof=1)) #varyansın karekökü sapmayı verir."
   ]
  },
  {
   "cell_type": "code",
   "execution_count": 19,
   "id": "10ba50f1-95bc-4235-af57-b32d2d8ca1f9",
   "metadata": {},
   "outputs": [
    {
     "data": {
      "text/plain": [
       "4.4503569905705795"
      ]
     },
     "execution_count": 19,
     "metadata": {},
     "output_type": "execute_result"
    }
   ],
   "source": [
    "np.std(df_animal.sleep_total, ddof=1) # sapmayı numpy içerisinden bu şekilde de bulabiliriz"
   ]
  },
  {
   "cell_type": "code",
   "execution_count": 27,
   "id": "cda528b5-8725-4416-8422-d1dd483a1eab",
   "metadata": {},
   "outputs": [
    {
     "data": {
      "text/plain": [
       "3.5667005370881117"
      ]
     },
     "execution_count": 27,
     "metadata": {},
     "output_type": "execute_result"
    }
   ],
   "source": [
    "#mean absolute deviation #sapma ile aynı işi yapıyor fakat kare almak yerine mutlak değerini alıyoruz o veri seti içinde mean alıyoruz\n",
    "dists = df_animal.sleep_total - \\\n",
    "np.mean(df_animal.sleep_total)\n",
    "\n",
    "np.mean(np.abs(dists))"
   ]
  },
  {
   "cell_type": "code",
   "execution_count": 57,
   "id": "7277615e-76f3-40cb-8256-65d56c86d0f8",
   "metadata": {},
   "outputs": [
    {
     "data": {
      "text/plain": [
       "10.1"
      ]
     },
     "execution_count": 57,
     "metadata": {},
     "output_type": "execute_result"
    }
   ],
   "source": [
    "np.quantile(df_animal.sleep_total,0.5) #median hesabı yapmış olduk"
   ]
  },
  {
   "cell_type": "code",
   "execution_count": 61,
   "id": "3dcebdb2-c26d-46a0-a36d-d32f1a0c2264",
   "metadata": {},
   "outputs": [
    {
     "data": {
      "text/plain": [
       "{'whiskers': [<matplotlib.lines.Line2D at 0x1c7d0bee000>,\n",
       "  <matplotlib.lines.Line2D at 0x1c7d0bedcd0>],\n",
       " 'caps': [<matplotlib.lines.Line2D at 0x1c7d0bee4e0>,\n",
       "  <matplotlib.lines.Line2D at 0x1c7d0bee780>],\n",
       " 'boxes': [<matplotlib.lines.Line2D at 0x1c7d0bedd00>],\n",
       " 'medians': [<matplotlib.lines.Line2D at 0x1c7d0beea80>],\n",
       " 'fliers': [<matplotlib.lines.Line2D at 0x1c7d0beed80>],\n",
       " 'means': []}"
      ]
     },
     "execution_count": 61,
     "metadata": {},
     "output_type": "execute_result"
    },
    {
     "data": {
      "image/png": "[encoded data removed]",
      "text/plain": [
       "<Figure size 640x480 with 1 Axes>"
      ]
     },
     "metadata": {},
     "output_type": "display_data"
    }
   ],
   "source": [
    "import matplotlib.pyplot as plt\n",
    "plt.boxplot(df_animal.sleep_total)"
   ]
  },
  {
   "cell_type": "code",
   "execution_count": 63,
   "id": "37a6d5dd-2546-4559-84b4-afdfe2dba643",
   "metadata": {},
   "outputs": [
    {
     "data": {
      "text/plain": [
       "array([ 1.9 ,  6.24,  9.48, 11.14, 14.4 , 19.9 ])"
      ]
     },
     "execution_count": 63,
     "metadata": {},
     "output_type": "execute_result"
    }
   ],
   "source": [
    "np.quantile(df_animal.sleep_total,[0,0.20,0.4,0.6,0.8,1])"
   ]
  },
  {
   "cell_type": "code",
   "execution_count": 65,
   "id": "a2b8ee92-29a0-4850-a2dd-9fce26a8006b",
   "metadata": {},
   "outputs": [
    {
     "data": {
      "text/plain": [
       "array([ 1.9 ,  7.85, 10.1 , 13.75, 19.9 ])"
      ]
     },
     "execution_count": 65,
     "metadata": {},
     "output_type": "execute_result"
    }
   ],
   "source": [
    "np.quantile(df_animal.sleep_total,np.linspace(0,1,5)) #linespace(start,stop,how many parts)"
   ]
  },
  {
   "cell_type": "code",
   "execution_count": 15,
   "id": "363d52e9-cefb-4959-a6e3-1bbdea9c4c52",
   "metadata": {},
   "outputs": [],
   "source": [
    "from scipy.stats import iqr"
   ]
  },
  {
   "cell_type": "code",
   "execution_count": 17,
   "id": "4ba2e5a0-8980-4afa-b438-3532c0b43f80",
   "metadata": {},
   "outputs": [
    {
     "data": {
      "text/plain": [
       "5.9"
      ]
     },
     "execution_count": 17,
     "metadata": {},
     "output_type": "execute_result"
    }
   ],
   "source": [
    "iqr(df_animal.sleep_total)"
   ]
  },
  {
   "cell_type": "code",
   "execution_count": 19,
   "id": "45eeb99a-ed80-4b7b-85b2-ed6c8e44c4a5",
   "metadata": {},
   "outputs": [
    {
     "data": {
      "text/html": [
       "<div>\n",
       "<style scoped>\n",
       "    .dataframe tbody tr th:only-of-type {\n",
       "        vertical-align: middle;\n",
       "    }\n",
       "\n",
       "    .dataframe tbody tr th {\n",
       "        vertical-align: top;\n",
       "    }\n",
       "\n",
       "    .dataframe thead th {\n",
       "        text-align: right;\n",
       "    }\n",
       "</style>\n",
       "<table border=\"1\" class=\"dataframe\">\n",
       "  <thead>\n",
       "    <tr style=\"text-align: right;\">\n",
       "      <th></th>\n",
       "      <th>name</th>\n",
       "      <th>genus</th>\n",
       "      <th>vore</th>\n",
       "      <th>order</th>\n",
       "      <th>conservation</th>\n",
       "      <th>sleep_total</th>\n",
       "      <th>sleep_rem</th>\n",
       "      <th>sleep_cycle</th>\n",
       "      <th>awake</th>\n",
       "      <th>brainwt</th>\n",
       "      <th>bodywt</th>\n",
       "    </tr>\n",
       "  </thead>\n",
       "  <tbody>\n",
       "    <tr>\n",
       "      <th>4</th>\n",
       "      <td>Cow</td>\n",
       "      <td>Bos</td>\n",
       "      <td>herbi</td>\n",
       "      <td>Artiodactyla</td>\n",
       "      <td>domesticated</td>\n",
       "      <td>4.0</td>\n",
       "      <td>0.7</td>\n",
       "      <td>0.666667</td>\n",
       "      <td>20.00</td>\n",
       "      <td>0.423</td>\n",
       "      <td>600.000</td>\n",
       "    </tr>\n",
       "    <tr>\n",
       "      <th>20</th>\n",
       "      <td>Asian elephant</td>\n",
       "      <td>Elephas</td>\n",
       "      <td>herbi</td>\n",
       "      <td>Proboscidea</td>\n",
       "      <td>en</td>\n",
       "      <td>3.9</td>\n",
       "      <td>NaN</td>\n",
       "      <td>NaN</td>\n",
       "      <td>20.10</td>\n",
       "      <td>4.603</td>\n",
       "      <td>2547.000</td>\n",
       "    </tr>\n",
       "    <tr>\n",
       "      <th>22</th>\n",
       "      <td>Horse</td>\n",
       "      <td>Equus</td>\n",
       "      <td>herbi</td>\n",
       "      <td>Perissodactyla</td>\n",
       "      <td>domesticated</td>\n",
       "      <td>2.9</td>\n",
       "      <td>0.6</td>\n",
       "      <td>1.000000</td>\n",
       "      <td>21.10</td>\n",
       "      <td>0.655</td>\n",
       "      <td>521.000</td>\n",
       "    </tr>\n",
       "    <tr>\n",
       "      <th>23</th>\n",
       "      <td>Donkey</td>\n",
       "      <td>Equus</td>\n",
       "      <td>herbi</td>\n",
       "      <td>Perissodactyla</td>\n",
       "      <td>domesticated</td>\n",
       "      <td>3.1</td>\n",
       "      <td>0.4</td>\n",
       "      <td>NaN</td>\n",
       "      <td>20.90</td>\n",
       "      <td>0.419</td>\n",
       "      <td>187.000</td>\n",
       "    </tr>\n",
       "    <tr>\n",
       "      <th>29</th>\n",
       "      <td>Giraffe</td>\n",
       "      <td>Giraffa</td>\n",
       "      <td>herbi</td>\n",
       "      <td>Artiodactyla</td>\n",
       "      <td>cd</td>\n",
       "      <td>1.9</td>\n",
       "      <td>0.4</td>\n",
       "      <td>NaN</td>\n",
       "      <td>22.10</td>\n",
       "      <td>NaN</td>\n",
       "      <td>899.995</td>\n",
       "    </tr>\n",
       "    <tr>\n",
       "      <th>30</th>\n",
       "      <td>Pilot whale</td>\n",
       "      <td>Globicephalus</td>\n",
       "      <td>carni</td>\n",
       "      <td>Cetacea</td>\n",
       "      <td>cd</td>\n",
       "      <td>2.7</td>\n",
       "      <td>0.1</td>\n",
       "      <td>NaN</td>\n",
       "      <td>21.35</td>\n",
       "      <td>NaN</td>\n",
       "      <td>800.000</td>\n",
       "    </tr>\n",
       "    <tr>\n",
       "      <th>31</th>\n",
       "      <td>Gray seal</td>\n",
       "      <td>Haliochoerus</td>\n",
       "      <td>carni</td>\n",
       "      <td>Carnivora</td>\n",
       "      <td>lc</td>\n",
       "      <td>6.2</td>\n",
       "      <td>1.5</td>\n",
       "      <td>NaN</td>\n",
       "      <td>17.80</td>\n",
       "      <td>0.325</td>\n",
       "      <td>85.000</td>\n",
       "    </tr>\n",
       "    <tr>\n",
       "      <th>33</th>\n",
       "      <td>Human</td>\n",
       "      <td>Homo</td>\n",
       "      <td>omni</td>\n",
       "      <td>Primates</td>\n",
       "      <td>NaN</td>\n",
       "      <td>8.0</td>\n",
       "      <td>1.9</td>\n",
       "      <td>1.500000</td>\n",
       "      <td>16.00</td>\n",
       "      <td>1.320</td>\n",
       "      <td>62.000</td>\n",
       "    </tr>\n",
       "    <tr>\n",
       "      <th>35</th>\n",
       "      <td>African elephant</td>\n",
       "      <td>Loxodonta</td>\n",
       "      <td>herbi</td>\n",
       "      <td>Proboscidea</td>\n",
       "      <td>vu</td>\n",
       "      <td>3.3</td>\n",
       "      <td>NaN</td>\n",
       "      <td>NaN</td>\n",
       "      <td>20.70</td>\n",
       "      <td>5.712</td>\n",
       "      <td>6654.000</td>\n",
       "    </tr>\n",
       "    <tr>\n",
       "      <th>48</th>\n",
       "      <td>Sheep</td>\n",
       "      <td>Ovis</td>\n",
       "      <td>herbi</td>\n",
       "      <td>Artiodactyla</td>\n",
       "      <td>domesticated</td>\n",
       "      <td>3.8</td>\n",
       "      <td>0.6</td>\n",
       "      <td>NaN</td>\n",
       "      <td>20.20</td>\n",
       "      <td>0.175</td>\n",
       "      <td>55.500</td>\n",
       "    </tr>\n",
       "    <tr>\n",
       "      <th>49</th>\n",
       "      <td>Chimpanzee</td>\n",
       "      <td>Pan</td>\n",
       "      <td>omni</td>\n",
       "      <td>Primates</td>\n",
       "      <td>NaN</td>\n",
       "      <td>9.7</td>\n",
       "      <td>1.4</td>\n",
       "      <td>1.416667</td>\n",
       "      <td>14.30</td>\n",
       "      <td>0.440</td>\n",
       "      <td>52.200</td>\n",
       "    </tr>\n",
       "    <tr>\n",
       "      <th>50</th>\n",
       "      <td>Tiger</td>\n",
       "      <td>Panthera</td>\n",
       "      <td>carni</td>\n",
       "      <td>Carnivora</td>\n",
       "      <td>en</td>\n",
       "      <td>15.8</td>\n",
       "      <td>NaN</td>\n",
       "      <td>NaN</td>\n",
       "      <td>8.20</td>\n",
       "      <td>NaN</td>\n",
       "      <td>162.564</td>\n",
       "    </tr>\n",
       "    <tr>\n",
       "      <th>51</th>\n",
       "      <td>Jaguar</td>\n",
       "      <td>Panthera</td>\n",
       "      <td>carni</td>\n",
       "      <td>Carnivora</td>\n",
       "      <td>nt</td>\n",
       "      <td>10.4</td>\n",
       "      <td>NaN</td>\n",
       "      <td>NaN</td>\n",
       "      <td>13.60</td>\n",
       "      <td>0.157</td>\n",
       "      <td>100.000</td>\n",
       "    </tr>\n",
       "    <tr>\n",
       "      <th>52</th>\n",
       "      <td>Lion</td>\n",
       "      <td>Panthera</td>\n",
       "      <td>carni</td>\n",
       "      <td>Carnivora</td>\n",
       "      <td>vu</td>\n",
       "      <td>13.5</td>\n",
       "      <td>NaN</td>\n",
       "      <td>NaN</td>\n",
       "      <td>10.50</td>\n",
       "      <td>NaN</td>\n",
       "      <td>161.499</td>\n",
       "    </tr>\n",
       "    <tr>\n",
       "      <th>58</th>\n",
       "      <td>Caspian seal</td>\n",
       "      <td>Phoca</td>\n",
       "      <td>carni</td>\n",
       "      <td>Carnivora</td>\n",
       "      <td>vu</td>\n",
       "      <td>3.5</td>\n",
       "      <td>0.4</td>\n",
       "      <td>NaN</td>\n",
       "      <td>20.50</td>\n",
       "      <td>NaN</td>\n",
       "      <td>86.000</td>\n",
       "    </tr>\n",
       "    <tr>\n",
       "      <th>59</th>\n",
       "      <td>Common porpoise</td>\n",
       "      <td>Phocoena</td>\n",
       "      <td>carni</td>\n",
       "      <td>Cetacea</td>\n",
       "      <td>vu</td>\n",
       "      <td>5.6</td>\n",
       "      <td>NaN</td>\n",
       "      <td>NaN</td>\n",
       "      <td>18.45</td>\n",
       "      <td>NaN</td>\n",
       "      <td>53.180</td>\n",
       "    </tr>\n",
       "    <tr>\n",
       "      <th>61</th>\n",
       "      <td>Giant armadillo</td>\n",
       "      <td>Priodontes</td>\n",
       "      <td>insecti</td>\n",
       "      <td>Cingulata</td>\n",
       "      <td>en</td>\n",
       "      <td>18.1</td>\n",
       "      <td>6.1</td>\n",
       "      <td>NaN</td>\n",
       "      <td>5.90</td>\n",
       "      <td>0.081</td>\n",
       "      <td>60.000</td>\n",
       "    </tr>\n",
       "    <tr>\n",
       "      <th>73</th>\n",
       "      <td>Pig</td>\n",
       "      <td>Sus</td>\n",
       "      <td>omni</td>\n",
       "      <td>Artiodactyla</td>\n",
       "      <td>domesticated</td>\n",
       "      <td>9.1</td>\n",
       "      <td>2.4</td>\n",
       "      <td>0.500000</td>\n",
       "      <td>14.90</td>\n",
       "      <td>0.180</td>\n",
       "      <td>86.250</td>\n",
       "    </tr>\n",
       "    <tr>\n",
       "      <th>76</th>\n",
       "      <td>Brazilian tapir</td>\n",
       "      <td>Tapirus</td>\n",
       "      <td>herbi</td>\n",
       "      <td>Perissodactyla</td>\n",
       "      <td>vu</td>\n",
       "      <td>4.4</td>\n",
       "      <td>1.0</td>\n",
       "      <td>0.900000</td>\n",
       "      <td>19.60</td>\n",
       "      <td>0.169</td>\n",
       "      <td>207.501</td>\n",
       "    </tr>\n",
       "    <tr>\n",
       "      <th>79</th>\n",
       "      <td>Bottle-nosed dolphin</td>\n",
       "      <td>Tursiops</td>\n",
       "      <td>carni</td>\n",
       "      <td>Cetacea</td>\n",
       "      <td>NaN</td>\n",
       "      <td>5.2</td>\n",
       "      <td>NaN</td>\n",
       "      <td>NaN</td>\n",
       "      <td>18.80</td>\n",
       "      <td>NaN</td>\n",
       "      <td>173.330</td>\n",
       "    </tr>\n",
       "  </tbody>\n",
       "</table>\n",
       "</div>"
      ],
      "text/plain": [
       "                    name          genus     vore           order  \\\n",
       "4                    Cow            Bos    herbi    Artiodactyla   \n",
       "20        Asian elephant        Elephas    herbi     Proboscidea   \n",
       "22                 Horse          Equus    herbi  Perissodactyla   \n",
       "23                Donkey          Equus    herbi  Perissodactyla   \n",
       "29               Giraffe        Giraffa    herbi    Artiodactyla   \n",
       "30           Pilot whale  Globicephalus    carni         Cetacea   \n",
       "31             Gray seal   Haliochoerus    carni       Carnivora   \n",
       "33                 Human           Homo     omni        Primates   \n",
       "35      African elephant      Loxodonta    herbi     Proboscidea   \n",
       "48                 Sheep           Ovis    herbi    Artiodactyla   \n",
       "49            Chimpanzee            Pan     omni        Primates   \n",
       "50                 Tiger       Panthera    carni       Carnivora   \n",
       "51                Jaguar       Panthera    carni       Carnivora   \n",
       "52                  Lion       Panthera    carni       Carnivora   \n",
       "58          Caspian seal          Phoca    carni       Carnivora   \n",
       "59       Common porpoise       Phocoena    carni         Cetacea   \n",
       "61       Giant armadillo     Priodontes  insecti       Cingulata   \n",
       "73                   Pig            Sus     omni    Artiodactyla   \n",
       "76       Brazilian tapir        Tapirus    herbi  Perissodactyla   \n",
       "79  Bottle-nosed dolphin       Tursiops    carni         Cetacea   \n",
       "\n",
       "    conservation  sleep_total  sleep_rem  sleep_cycle  awake  brainwt  \\\n",
       "4   domesticated          4.0        0.7     0.666667  20.00    0.423   \n",
       "20            en          3.9        NaN          NaN  20.10    4.603   \n",
       "22  domesticated          2.9        0.6     1.000000  21.10    0.655   \n",
       "23  domesticated          3.1        0.4          NaN  20.90    0.419   \n",
       "29            cd          1.9        0.4          NaN  22.10      NaN   \n",
       "30            cd          2.7        0.1          NaN  21.35      NaN   \n",
       "31            lc          6.2        1.5          NaN  17.80    0.325   \n",
       "33           NaN          8.0        1.9     1.500000  16.00    1.320   \n",
       "35            vu          3.3        NaN          NaN  20.70    5.712   \n",
       "48  domesticated          3.8        0.6          NaN  20.20    0.175   \n",
       "49           NaN          9.7        1.4     1.416667  14.30    0.440   \n",
       "50            en         15.8        NaN          NaN   8.20      NaN   \n",
       "51            nt         10.4        NaN          NaN  13.60    0.157   \n",
       "52            vu         13.5        NaN          NaN  10.50      NaN   \n",
       "58            vu          3.5        0.4          NaN  20.50      NaN   \n",
       "59            vu          5.6        NaN          NaN  18.45      NaN   \n",
       "61            en         18.1        6.1          NaN   5.90    0.081   \n",
       "73  domesticated          9.1        2.4     0.500000  14.90    0.180   \n",
       "76            vu          4.4        1.0     0.900000  19.60    0.169   \n",
       "79           NaN          5.2        NaN          NaN  18.80      NaN   \n",
       "\n",
       "      bodywt  \n",
       "4    600.000  \n",
       "20  2547.000  \n",
       "22   521.000  \n",
       "23   187.000  \n",
       "29   899.995  \n",
       "30   800.000  \n",
       "31    85.000  \n",
       "33    62.000  \n",
       "35  6654.000  \n",
       "48    55.500  \n",
       "49    52.200  \n",
       "50   162.564  \n",
       "51   100.000  \n",
       "52   161.499  \n",
       "58    86.000  \n",
       "59    53.180  \n",
       "61    60.000  \n",
       "73    86.250  \n",
       "76   207.501  \n",
       "79   173.330  "
      ]
     },
     "execution_count": 19,
     "metadata": {},
     "output_type": "execute_result"
    }
   ],
   "source": [
    "iqr = iqr(df_animal.sleep_total) #Q3-Q1\n",
    "\n",
    "lower_theresold = np.quantile(df_animal.bodywt,0.25) - 1.5 * iqr\n",
    "upper_theresold = np.quantile(df_animal.bodywt,0.75) + 1.5 * iqr\n",
    "\n",
    "#lower_theresold = df_animal.describe().bodywt['25%'] - 1.5 * iqr\n",
    "#upper_theresold = df_animal.describe().bodywt['75%'] + 1.5 * iqr\n",
    "\n",
    "df_animal[(df_animal.bodywt<lower_theresold) | (df_animal.bodywt>upper_theresold)] #outlier bulma"
   ]
  },
  {
   "cell_type": "code",
   "execution_count": 31,
   "id": "230b73d6-63fc-4172-a753-3482af73463e",
   "metadata": {},
   "outputs": [
    {
     "data": {
      "text/plain": [
       "<Axes: ylabel='bodywt'>"
      ]
     },
     "execution_count": 31,
     "metadata": {},
     "output_type": "execute_result"
    },
    {
     "data": {
      "image/png": "[encoded data removed]",
      "text/plain": [
       "<Figure size 640x480 with 1 Axes>"
      ]
     },
     "metadata": {},
     "output_type": "display_data"
    }
   ],
   "source": [
    "import seaborn as sns \n",
    "\n",
    "sns.boxplot(data = df_animal, y='bodywt')"
   ]
  },
  {
   "cell_type": "code",
   "execution_count": 39,
   "id": "32c83878-dd56-471b-bdb3-4d119ebc6e7e",
   "metadata": {},
   "outputs": [
    {
     "data": {
      "application/vnd.plotly.v1+json": {
       "config": {
        "plotlyServerURL": "https://plot.ly"
       },
       "data": [
        {
         "alignmentgroup": "True",
         "hovertemplate": "sleep_total=%{x}<extra></extra>",
         "legendgroup": "",
         "marker": {
          "color": "#636efa"
         },
         "name": "",
         "notched": false,
         "offsetgroup": "",
         "orientation": "h",
         "showlegend": false,
         "type": "box",
         "x": [
          12.1,
          17,
          14.4,
          14.9,
          4,
          14.4,
          8.7,
          7,
          10.1,
          3,
          5.3,
          9.4,
          10,
          12.5,
          10.3,
          8.3,
          9.1,
          17.4,
          5.3,
          18,
          3.9,
          19.7,
          2.9,
          3.1,
          10.1,
          10.9,
          14.9,
          12.5,
          9.8,
          1.9,
          2.7,
          6.2,
          6.3,
          8,
          9.5,
          3.3,
          19.4,
          10.1,
          14.2,
          14.3,
          12.8,
          12.5,
          19.9,
          14.6,
          11,
          7.7,
          14.5,
          8.4,
          3.8,
          9.7,
          15.8,
          10.4,
          13.5,
          9.4,
          10.3,
          11,
          11.5,
          13.7,
          3.5,
          5.6,
          11.1,
          18.1,
          5.4,
          13,
          8.7,
          9.6,
          8.4,
          11.3,
          10.6,
          16.6,
          13.8,
          15.9,
          12.8,
          9.1,
          8.6,
          15.8,
          4.4,
          15.6,
          8.9,
          5.2,
          6.3,
          12.5,
          9.8
         ],
         "x0": " ",
         "xaxis": "x",
         "y0": " ",
         "yaxis": "y"
        }
       ],
       "layout": {
        "autosize": true,
        "boxmode": "group",
        "legend": {
         "tracegroupgap": 0
        },
        "margin": {
         "t": 60
        },
        "template": {
         "data": {
          "bar": [
           {
            "error_x": {
             "color": "#2a3f5f"
            },
            "error_y": {
             "color": "#2a3f5f"
            },
            "marker": {
             "line": {
              "color": "#E5ECF6",
              "width": 0.5
             },
             "pattern": {
              "fillmode": "overlay",
              "size": 10,
              "solidity": 0.2
             }
            },
            "type": "bar"
           }
          ],
          "barpolar": [
           {
            "marker": {
             "line": {
              "color": "#E5ECF6",
              "width": 0.5
             },
             "pattern": {
              "fillmode": "overlay",
              "size": 10,
              "solidity": 0.2
             }
            },
            "type": "barpolar"
           }
          ],
          "carpet": [
           {
            "aaxis": {
             "endlinecolor": "#2a3f5f",
             "gridcolor": "white",
             "linecolor": "white",
             "minorgridcolor": "white",
             "startlinecolor": "#2a3f5f"
            },
            "baxis": {
             "endlinecolor": "#2a3f5f",
             "gridcolor": "white",
             "linecolor": "white",
             "minorgridcolor": "white",
             "startlinecolor": "#2a3f5f"
            },
            "type": "carpet"
           }
          ],
          "choropleth": [
           {
            "colorbar": {
             "outlinewidth": 0,
             "ticks": ""
            },
            "type": "choropleth"
           }
          ],
          "contour": [
           {
            "colorbar": {
             "outlinewidth": 0,
             "ticks": ""
            },
            "colorscale": [
             [
              0,
              "#0d0887"
             ],
             [
              0.1111111111111111,
              "#46039f"
             ],
             [
              0.2222222222222222,
              "#7201a8"
             ],
             [
              0.3333333333333333,
              "#9c179e"
             ],
             [
              0.4444444444444444,
              "#bd3786"
             ],
             [
              0.5555555555555556,
              "#d8576b"
             ],
             [
              0.6666666666666666,
              "#ed7953"
             ],
             [
              0.7777777777777778,
              "#fb9f3a"
             ],
             [
              0.8888888888888888,
              "#fdca26"
             ],
             [
              1,
              "#f0f921"
             ]
            ],
            "type": "contour"
           }
          ],
          "contourcarpet": [
           {
            "colorbar": {
             "outlinewidth": 0,
             "ticks": ""
            },
            "type": "contourcarpet"
           }
          ],
          "heatmap": [
           {
            "colorbar": {
             "outlinewidth": 0,
             "ticks": ""
            },
            "colorscale": [
             [
              0,
              "#0d0887"
             ],
             [
              0.1111111111111111,
              "#46039f"
             ],
             [
              0.2222222222222222,
              "#7201a8"
             ],
             [
              0.3333333333333333,
              "#9c179e"
             ],
             [
              0.4444444444444444,
              "#bd3786"
             ],
             [
              0.5555555555555556,
              "#d8576b"
             ],
             [
              0.6666666666666666,
              "#ed7953"
             ],
             [
              0.7777777777777778,
              "#fb9f3a"
             ],
             [
              0.8888888888888888,
              "#fdca26"
             ],
             [
              1,
              "#f0f921"
             ]
            ],
            "type": "heatmap"
           }
          ],
          "heatmapgl": [
           {
            "colorbar": {
             "outlinewidth": 0,
             "ticks": ""
            },
            "colorscale": [
             [
              0,
              "#0d0887"
             ],
             [
              0.1111111111111111,
              "#46039f"
             ],
             [
              0.2222222222222222,
              "#7201a8"
             ],
             [
              0.3333333333333333,
              "#9c179e"
             ],
             [
              0.4444444444444444,
              "#bd3786"
             ],
             [
              0.5555555555555556,
              "#d8576b"
             ],
             [
              0.6666666666666666,
              "#ed7953"
             ],
             [
              0.7777777777777778,
              "#fb9f3a"
             ],
             [
              0.8888888888888888,
              "#fdca26"
             ],
             [
              1,
              "#f0f921"
             ]
            ],
            "type": "heatmapgl"
           }
          ],
          "histogram": [
           {
            "marker": {
             "pattern": {
              "fillmode": "overlay",
              "size": 10,
              "solidity": 0.2
             }
            },
            "type": "histogram"
           }
          ],
          "histogram2d": [
           {
            "colorbar": {
             "outlinewidth": 0,
             "ticks": ""
            },
            "colorscale": [
             [
              0,
              "#0d0887"
             ],
             [
              0.1111111111111111,
              "#46039f"
             ],
             [
              0.2222222222222222,
              "#7201a8"
             ],
             [
              0.3333333333333333,
              "#9c179e"
             ],
             [
              0.4444444444444444,
              "#bd3786"
             ],
             [
              0.5555555555555556,
              "#d8576b"
             ],
             [
              0.6666666666666666,
              "#ed7953"
             ],
             [
              0.7777777777777778,
              "#fb9f3a"
             ],
             [
              0.8888888888888888,
              "#fdca26"
             ],
             [
              1,
              "#f0f921"
             ]
            ],
            "type": "histogram2d"
           }
          ],
          "histogram2dcontour": [
           {
            "colorbar": {
             "outlinewidth": 0,
             "ticks": ""
            },
            "colorscale": [
             [
              0,
              "#0d0887"
             ],
             [
              0.1111111111111111,
              "#46039f"
             ],
             [
              0.2222222222222222,
              "#7201a8"
             ],
             [
              0.3333333333333333,
              "#9c179e"
             ],
             [
              0.4444444444444444,
              "#bd3786"
             ],
             [
              0.5555555555555556,
              "#d8576b"
             ],
             [
              0.6666666666666666,
              "#ed7953"
             ],
             [
              0.7777777777777778,
              "#fb9f3a"
             ],
             [
              0.8888888888888888,
              "#fdca26"
             ],
             [
              1,
              "#f0f921"
             ]
            ],
            "type": "histogram2dcontour"
           }
          ],
          "mesh3d": [
           {
            "colorbar": {
             "outlinewidth": 0,
             "ticks": ""
            },
            "type": "mesh3d"
           }
          ],
          "parcoords": [
           {
            "line": {
             "colorbar": {
              "outlinewidth": 0,
              "ticks": ""
             }
            },
            "type": "parcoords"
           }
          ],
          "pie": [
           {
            "automargin": true,
            "type": "pie"
           }
          ],
          "scatter": [
           {
            "fillpattern": {
             "fillmode": "overlay",
             "size": 10,
             "solidity": 0.2
            },
            "type": "scatter"
           }
          ],
          "scatter3d": [
           {
            "line": {
             "colorbar": {
              "outlinewidth": 0,
              "ticks": ""
             }
            },
            "marker": {
             "colorbar": {
              "outlinewidth": 0,
              "ticks": ""
             }
            },
            "type": "scatter3d"
           }
          ],
          "scattercarpet": [
           {
            "marker": {
             "colorbar": {
              "outlinewidth": 0,
              "ticks": ""
             }
            },
            "type": "scattercarpet"
           }
          ],
          "scattergeo": [
           {
            "marker": {
             "colorbar": {
              "outlinewidth": 0,
              "ticks": ""
             }
            },
            "type": "scattergeo"
           }
          ],
          "scattergl": [
           {
            "marker": {
             "colorbar": {
              "outlinewidth": 0,
              "ticks": ""
             }
            },
            "type": "scattergl"
           }
          ],
          "scattermapbox": [
           {
            "marker": {
             "colorbar": {
              "outlinewidth": 0,
              "ticks": ""
             }
            },
            "type": "scattermapbox"
           }
          ],
          "scatterpolar": [
           {
            "marker": {
             "colorbar": {
              "outlinewidth": 0,
              "ticks": ""
             }
            },
            "type": "scatterpolar"
           }
          ],
          "scatterpolargl": [
           {
            "marker": {
             "colorbar": {
              "outlinewidth": 0,
              "ticks": ""
             }
            },
            "type": "scatterpolargl"
           }
          ],
          "scatterternary": [
           {
            "marker": {
             "colorbar": {
              "outlinewidth": 0,
              "ticks": ""
             }
            },
            "type": "scatterternary"
           }
          ],
          "surface": [
           {
            "colorbar": {
             "outlinewidth": 0,
             "ticks": ""
            },
            "colorscale": [
             [
              0,
              "#0d0887"
             ],
             [
              0.1111111111111111,
              "#46039f"
             ],
             [
              0.2222222222222222,
              "#7201a8"
             ],
             [
              0.3333333333333333,
              "#9c179e"
             ],
             [
              0.4444444444444444,
              "#bd3786"
             ],
             [
              0.5555555555555556,
              "#d8576b"
             ],
             [
              0.6666666666666666,
              "#ed7953"
             ],
             [
              0.7777777777777778,
              "#fb9f3a"
             ],
             [
              0.8888888888888888,
              "#fdca26"
             ],
             [
              1,
              "#f0f921"
             ]
            ],
            "type": "surface"
           }
          ],
          "table": [
           {
            "cells": {
             "fill": {
              "color": "#EBF0F8"
             },
             "line": {
              "color": "white"
             }
            },
            "header": {
             "fill": {
              "color": "#C8D4E3"
             },
             "line": {
              "color": "white"
             }
            },
            "type": "table"
           }
          ]
         },
         "layout": {
          "annotationdefaults": {
           "arrowcolor": "#2a3f5f",
           "arrowhead": 0,
           "arrowwidth": 1
          },
          "autotypenumbers": "strict",
          "coloraxis": {
           "colorbar": {
            "outlinewidth": 0,
            "ticks": ""
           }
          },
          "colorscale": {
           "diverging": [
            [
             0,
             "#8e0152"
            ],
            [
             0.1,
             "#c51b7d"
            ],
            [
             0.2,
             "#de77ae"
            ],
            [
             0.3,
             "#f1b6da"
            ],
            [
             0.4,
             "#fde0ef"
            ],
            [
             0.5,
             "#f7f7f7"
            ],
            [
             0.6,
             "#e6f5d0"
            ],
            [
             0.7,
             "#b8e186"
            ],
            [
             0.8,
             "#7fbc41"
            ],
            [
             0.9,
             "#4d9221"
            ],
            [
             1,
             "#276419"
            ]
           ],
           "sequential": [
            [
             0,
             "#0d0887"
            ],
            [
             0.1111111111111111,
             "#46039f"
            ],
            [
             0.2222222222222222,
             "#7201a8"
            ],
            [
             0.3333333333333333,
             "#9c179e"
            ],
            [
             0.4444444444444444,
             "#bd3786"
            ],
            [
             0.5555555555555556,
             "#d8576b"
            ],
            [
             0.6666666666666666,
             "#ed7953"
            ],
            [
             0.7777777777777778,
             "#fb9f3a"
            ],
            [
             0.8888888888888888,
             "#fdca26"
            ],
            [
             1,
             "#f0f921"
            ]
           ],
           "sequentialminus": [
            [
             0,
             "#0d0887"
            ],
            [
             0.1111111111111111,
             "#46039f"
            ],
            [
             0.2222222222222222,
             "#7201a8"
            ],
            [
             0.3333333333333333,
             "#9c179e"
            ],
            [
             0.4444444444444444,
             "#bd3786"
            ],
            [
             0.5555555555555556,
             "#d8576b"
            ],
            [
             0.6666666666666666,
             "#ed7953"
            ],
            [
             0.7777777777777778,
             "#fb9f3a"
            ],
            [
             0.8888888888888888,
             "#fdca26"
            ],
            [
             1,
             "#f0f921"
            ]
           ]
          },
          "colorway": [
           "#636efa",
           "#EF553B",
           "#00cc96",
           "#ab63fa",
           "#FFA15A",
           "#19d3f3",
           "#FF6692",
           "#B6E880",
           "#FF97FF",
           "#FECB52"
          ],
          "font": {
           "color": "#2a3f5f"
          },
          "geo": {
           "bgcolor": "white",
           "lakecolor": "white",
           "landcolor": "#E5ECF6",
           "showlakes": true,
           "showland": true,
           "subunitcolor": "white"
          },
          "hoverlabel": {
           "align": "left"
          },
          "hovermode": "closest",
          "mapbox": {
           "style": "light"
          },
          "paper_bgcolor": "white",
          "plot_bgcolor": "#E5ECF6",
          "polar": {
           "angularaxis": {
            "gridcolor": "white",
            "linecolor": "white",
            "ticks": ""
           },
           "bgcolor": "#E5ECF6",
           "radialaxis": {
            "gridcolor": "white",
            "linecolor": "white",
            "ticks": ""
           }
          },
          "scene": {
           "xaxis": {
            "backgroundcolor": "#E5ECF6",
            "gridcolor": "white",
            "gridwidth": 2,
            "linecolor": "white",
            "showbackground": true,
            "ticks": "",
            "zerolinecolor": "white"
           },
           "yaxis": {
            "backgroundcolor": "#E5ECF6",
            "gridcolor": "white",
            "gridwidth": 2,
            "linecolor": "white",
            "showbackground": true,
            "ticks": "",
            "zerolinecolor": "white"
           },
           "zaxis": {
            "backgroundcolor": "#E5ECF6",
            "gridcolor": "white",
            "gridwidth": 2,
            "linecolor": "white",
            "showbackground": true,
            "ticks": "",
            "zerolinecolor": "white"
           }
          },
          "shapedefaults": {
           "line": {
            "color": "#2a3f5f"
           }
          },
          "ternary": {
           "aaxis": {
            "gridcolor": "white",
            "linecolor": "white",
            "ticks": ""
           },
           "baxis": {
            "gridcolor": "white",
            "linecolor": "white",
            "ticks": ""
           },
           "bgcolor": "#E5ECF6",
           "caxis": {
            "gridcolor": "white",
            "linecolor": "white",
            "ticks": ""
           }
          },
          "title": {
           "x": 0.05
          },
          "xaxis": {
           "automargin": true,
           "gridcolor": "white",
           "linecolor": "white",
           "ticks": "",
           "title": {
            "standoff": 15
           },
           "zerolinecolor": "white",
           "zerolinewidth": 2
          },
          "yaxis": {
           "automargin": true,
           "gridcolor": "white",
           "linecolor": "white",
           "ticks": "",
           "title": {
            "standoff": 15
           },
           "zerolinecolor": "white",
           "zerolinewidth": 2
          }
         }
        },
        "xaxis": {
         "anchor": "y",
         "autorange": true,
         "domain": [
          0,
          1
         ],
         "range": [
          0.8999999999999999,
          20.9
         ],
         "title": {
          "text": "sleep_total"
         },
         "type": "linear"
        },
        "yaxis": {
         "anchor": "x",
         "autorange": true,
         "domain": [
          0,
          1
         ],
         "range": [
          -0.5,
          0.5
         ],
         "type": "category"
        }
       }
      },
      "image/png": "[encoded data removed]",
      "text/html": [
       "<div>                            <div id=\"4899007d-dd3f-497b-b2f2-950ac5ac1ad4\" class=\"plotly-graph-div\" style=\"height:525px; width:100%;\"></div>            <script type=\"text/javascript\">                require([\"plotly\"], function(Plotly) {                    window.PLOTLYENV=window.PLOTLYENV || {};                                    if (document.getElementById(\"4899007d-dd3f-497b-b2f2-950ac5ac1ad4\")) {                    Plotly.newPlot(                        \"4899007d-dd3f-497b-b2f2-950ac5ac1ad4\",                        [{\"alignmentgroup\":\"True\",\"hovertemplate\":\"sleep_total=%{x}\\u003cextra\\u003e\\u003c\\u002fextra\\u003e\",\"legendgroup\":\"\",\"marker\":{\"color\":\"#636efa\"},\"name\":\"\",\"notched\":false,\"offsetgroup\":\"\",\"orientation\":\"h\",\"showlegend\":false,\"x\":[12.1,17.0,14.4,14.9,4.0,14.4,8.7,7.0,10.1,3.0,5.3,9.4,10.0,12.5,10.3,8.3,9.1,17.4,5.3,18.0,3.9,19.7,2.9,3.1,10.1,10.9,14.9,12.5,9.8,1.9,2.7,6.2,6.3,8.0,9.5,3.3,19.4,10.1,14.2,14.3,12.8,12.5,19.9,14.6,11.0,7.7,14.5,8.4,3.8,9.7,15.8,10.4,13.5,9.4,10.3,11.0,11.5,13.7,3.5,5.6,11.1,18.1,5.4,13.0,8.7,9.6,8.4,11.3,10.6,16.6,13.8,15.9,12.8,9.1,8.6,15.8,4.4,15.6,8.9,5.2,6.3,12.5,9.8],\"x0\":\" \",\"xaxis\":\"x\",\"y0\":\" \",\"yaxis\":\"y\",\"type\":\"box\"}],                        {\"template\":{\"data\":{\"histogram2dcontour\":[{\"type\":\"histogram2dcontour\",\"colorbar\":{\"outlinewidth\":0,\"ticks\":\"\"},\"colorscale\":[[0.0,\"#0d0887\"],[0.1111111111111111,\"#46039f\"],[0.2222222222222222,\"#7201a8\"],[0.3333333333333333,\"#9c179e\"],[0.4444444444444444,\"#bd3786\"],[0.5555555555555556,\"#d8576b\"],[0.6666666666666666,\"#ed7953\"],[0.7777777777777778,\"#fb9f3a\"],[0.8888888888888888,\"#fdca26\"],[1.0,\"#f0f921\"]]}],\"choropleth\":[{\"type\":\"choropleth\",\"colorbar\":{\"outlinewidth\":0,\"ticks\":\"\"}}],\"histogram2d\":[{\"type\":\"histogram2d\",\"colorbar\":{\"outlinewidth\":0,\"ticks\":\"\"},\"colorscale\":[[0.0,\"#0d0887\"],[0.1111111111111111,\"#46039f\"],[0.2222222222222222,\"#7201a8\"],[0.3333333333333333,\"#9c179e\"],[0.4444444444444444,\"#bd3786\"],[0.5555555555555556,\"#d8576b\"],[0.6666666666666666,\"#ed7953\"],[0.7777777777777778,\"#fb9f3a\"],[0.8888888888888888,\"#fdca26\"],[1.0,\"#f0f921\"]]}],\"heatmap\":[{\"type\":\"heatmap\",\"colorbar\":{\"outlinewidth\":0,\"ticks\":\"\"},\"colorscale\":[[0.0,\"#0d0887\"],[0.1111111111111111,\"#46039f\"],[0.2222222222222222,\"#7201a8\"],[0.3333333333333333,\"#9c179e\"],[0.4444444444444444,\"#bd3786\"],[0.5555555555555556,\"#d8576b\"],[0.6666666666666666,\"#ed7953\"],[0.7777777777777778,\"#fb9f3a\"],[0.8888888888888888,\"#fdca26\"],[1.0,\"#f0f921\"]]}],\"heatmapgl\":[{\"type\":\"heatmapgl\",\"colorbar\":{\"outlinewidth\":0,\"ticks\":\"\"},\"colorscale\":[[0.0,\"#0d0887\"],[0.1111111111111111,\"#46039f\"],[0.2222222222222222,\"#7201a8\"],[0.3333333333333333,\"#9c179e\"],[0.4444444444444444,\"#bd3786\"],[0.5555555555555556,\"#d8576b\"],[0.6666666666666666,\"#ed7953\"],[0.7777777777777778,\"#fb9f3a\"],[0.8888888888888888,\"#fdca26\"],[1.0,\"#f0f921\"]]}],\"contourcarpet\":[{\"type\":\"contourcarpet\",\"colorbar\":{\"outlinewidth\":0,\"ticks\":\"\"}}],\"contour\":[{\"type\":\"contour\",\"colorbar\":{\"outlinewidth\":0,\"ticks\":\"\"},\"colorscale\":[[0.0,\"#0d0887\"],[0.1111111111111111,\"#46039f\"],[0.2222222222222222,\"#7201a8\"],[0.3333333333333333,\"#9c179e\"],[0.4444444444444444,\"#bd3786\"],[0.5555555555555556,\"#d8576b\"],[0.6666666666666666,\"#ed7953\"],[0.7777777777777778,\"#fb9f3a\"],[0.8888888888888888,\"#fdca26\"],[1.0,\"#f0f921\"]]}],\"surface\":[{\"type\":\"surface\",\"colorbar\":{\"outlinewidth\":0,\"ticks\":\"\"},\"colorscale\":[[0.0,\"#0d0887\"],[0.1111111111111111,\"#46039f\"],[0.2222222222222222,\"#7201a8\"],[0.3333333333333333,\"#9c179e\"],[0.4444444444444444,\"#bd3786\"],[0.5555555555555556,\"#d8576b\"],[0.6666666666666666,\"#ed7953\"],[0.7777777777777778,\"#fb9f3a\"],[0.8888888888888888,\"#fdca26\"],[1.0,\"#f0f921\"]]}],\"mesh3d\":[{\"type\":\"mesh3d\",\"colorbar\":{\"outlinewidth\":0,\"ticks\":\"\"}}],\"scatter\":[{\"fillpattern\":{\"fillmode\":\"overlay\",\"size\":10,\"solidity\":0.2},\"type\":\"scatter\"}],\"parcoords\":[{\"type\":\"parcoords\",\"line\":{\"colorbar\":{\"outlinewidth\":0,\"ticks\":\"\"}}}],\"scatterpolargl\":[{\"type\":\"scatterpolargl\",\"marker\":{\"colorbar\":{\"outlinewidth\":0,\"ticks\":\"\"}}}],\"bar\":[{\"error_x\":{\"color\":\"#2a3f5f\"},\"error_y\":{\"color\":\"#2a3f5f\"},\"marker\":{\"line\":{\"color\":\"#E5ECF6\",\"width\":0.5},\"pattern\":{\"fillmode\":\"overlay\",\"size\":10,\"solidity\":0.2}},\"type\":\"bar\"}],\"scattergeo\":[{\"type\":\"scattergeo\",\"marker\":{\"colorbar\":{\"outlinewidth\":0,\"ticks\":\"\"}}}],\"scatterpolar\":[{\"type\":\"scatterpolar\",\"marker\":{\"colorbar\":{\"outlinewidth\":0,\"ticks\":\"\"}}}],\"histogram\":[{\"marker\":{\"pattern\":{\"fillmode\":\"overlay\",\"size\":10,\"solidity\":0.2}},\"type\":\"histogram\"}],\"scattergl\":[{\"type\":\"scattergl\",\"marker\":{\"colorbar\":{\"outlinewidth\":0,\"ticks\":\"\"}}}],\"scatter3d\":[{\"type\":\"scatter3d\",\"line\":{\"colorbar\":{\"outlinewidth\":0,\"ticks\":\"\"}},\"marker\":{\"colorbar\":{\"outlinewidth\":0,\"ticks\":\"\"}}}],\"scattermapbox\":[{\"type\":\"scattermapbox\",\"marker\":{\"colorbar\":{\"outlinewidth\":0,\"ticks\":\"\"}}}],\"scatterternary\":[{\"type\":\"scatterternary\",\"marker\":{\"colorbar\":{\"outlinewidth\":0,\"ticks\":\"\"}}}],\"scattercarpet\":[{\"type\":\"scattercarpet\",\"marker\":{\"colorbar\":{\"outlinewidth\":0,\"ticks\":\"\"}}}],\"carpet\":[{\"aaxis\":{\"endlinecolor\":\"#2a3f5f\",\"gridcolor\":\"white\",\"linecolor\":\"white\",\"minorgridcolor\":\"white\",\"startlinecolor\":\"#2a3f5f\"},\"baxis\":{\"endlinecolor\":\"#2a3f5f\",\"gridcolor\":\"white\",\"linecolor\":\"white\",\"minorgridcolor\":\"white\",\"startlinecolor\":\"#2a3f5f\"},\"type\":\"carpet\"}],\"table\":[{\"cells\":{\"fill\":{\"color\":\"#EBF0F8\"},\"line\":{\"color\":\"white\"}},\"header\":{\"fill\":{\"color\":\"#C8D4E3\"},\"line\":{\"color\":\"white\"}},\"type\":\"table\"}],\"barpolar\":[{\"marker\":{\"line\":{\"color\":\"#E5ECF6\",\"width\":0.5},\"pattern\":{\"fillmode\":\"overlay\",\"size\":10,\"solidity\":0.2}},\"type\":\"barpolar\"}],\"pie\":[{\"automargin\":true,\"type\":\"pie\"}]},\"layout\":{\"autotypenumbers\":\"strict\",\"colorway\":[\"#636efa\",\"#EF553B\",\"#00cc96\",\"#ab63fa\",\"#FFA15A\",\"#19d3f3\",\"#FF6692\",\"#B6E880\",\"#FF97FF\",\"#FECB52\"],\"font\":{\"color\":\"#2a3f5f\"},\"hovermode\":\"closest\",\"hoverlabel\":{\"align\":\"left\"},\"paper_bgcolor\":\"white\",\"plot_bgcolor\":\"#E5ECF6\",\"polar\":{\"bgcolor\":\"#E5ECF6\",\"angularaxis\":{\"gridcolor\":\"white\",\"linecolor\":\"white\",\"ticks\":\"\"},\"radialaxis\":{\"gridcolor\":\"white\",\"linecolor\":\"white\",\"ticks\":\"\"}},\"ternary\":{\"bgcolor\":\"#E5ECF6\",\"aaxis\":{\"gridcolor\":\"white\",\"linecolor\":\"white\",\"ticks\":\"\"},\"baxis\":{\"gridcolor\":\"white\",\"linecolor\":\"white\",\"ticks\":\"\"},\"caxis\":{\"gridcolor\":\"white\",\"linecolor\":\"white\",\"ticks\":\"\"}},\"coloraxis\":{\"colorbar\":{\"outlinewidth\":0,\"ticks\":\"\"}},\"colorscale\":{\"sequential\":[[0.0,\"#0d0887\"],[0.1111111111111111,\"#46039f\"],[0.2222222222222222,\"#7201a8\"],[0.3333333333333333,\"#9c179e\"],[0.4444444444444444,\"#bd3786\"],[0.5555555555555556,\"#d8576b\"],[0.6666666666666666,\"#ed7953\"],[0.7777777777777778,\"#fb9f3a\"],[0.8888888888888888,\"#fdca26\"],[1.0,\"#f0f921\"]],\"sequentialminus\":[[0.0,\"#0d0887\"],[0.1111111111111111,\"#46039f\"],[0.2222222222222222,\"#7201a8\"],[0.3333333333333333,\"#9c179e\"],[0.4444444444444444,\"#bd3786\"],[0.5555555555555556,\"#d8576b\"],[0.6666666666666666,\"#ed7953\"],[0.7777777777777778,\"#fb9f3a\"],[0.8888888888888888,\"#fdca26\"],[1.0,\"#f0f921\"]],\"diverging\":[[0,\"#8e0152\"],[0.1,\"#c51b7d\"],[0.2,\"#de77ae\"],[0.3,\"#f1b6da\"],[0.4,\"#fde0ef\"],[0.5,\"#f7f7f7\"],[0.6,\"#e6f5d0\"],[0.7,\"#b8e186\"],[0.8,\"#7fbc41\"],[0.9,\"#4d9221\"],[1,\"#276419\"]]},\"xaxis\":{\"gridcolor\":\"white\",\"linecolor\":\"white\",\"ticks\":\"\",\"title\":{\"standoff\":15},\"zerolinecolor\":\"white\",\"automargin\":true,\"zerolinewidth\":2},\"yaxis\":{\"gridcolor\":\"white\",\"linecolor\":\"white\",\"ticks\":\"\",\"title\":{\"standoff\":15},\"zerolinecolor\":\"white\",\"automargin\":true,\"zerolinewidth\":2},\"scene\":{\"xaxis\":{\"backgroundcolor\":\"#E5ECF6\",\"gridcolor\":\"white\",\"linecolor\":\"white\",\"showbackground\":true,\"ticks\":\"\",\"zerolinecolor\":\"white\",\"gridwidth\":2},\"yaxis\":{\"backgroundcolor\":\"#E5ECF6\",\"gridcolor\":\"white\",\"linecolor\":\"white\",\"showbackground\":true,\"ticks\":\"\",\"zerolinecolor\":\"white\",\"gridwidth\":2},\"zaxis\":{\"backgroundcolor\":\"#E5ECF6\",\"gridcolor\":\"white\",\"linecolor\":\"white\",\"showbackground\":true,\"ticks\":\"\",\"zerolinecolor\":\"white\",\"gridwidth\":2}},\"shapedefaults\":{\"line\":{\"color\":\"#2a3f5f\"}},\"annotationdefaults\":{\"arrowcolor\":\"#2a3f5f\",\"arrowhead\":0,\"arrowwidth\":1},\"geo\":{\"bgcolor\":\"white\",\"landcolor\":\"#E5ECF6\",\"subunitcolor\":\"white\",\"showland\":true,\"showlakes\":true,\"lakecolor\":\"white\"},\"title\":{\"x\":0.05},\"mapbox\":{\"style\":\"light\"}}},\"xaxis\":{\"anchor\":\"y\",\"domain\":[0.0,1.0],\"title\":{\"text\":\"sleep_total\"}},\"yaxis\":{\"anchor\":\"x\",\"domain\":[0.0,1.0]},\"legend\":{\"tracegroupgap\":0},\"margin\":{\"t\":60},\"boxmode\":\"group\"},                        {\"responsive\": true}                    ).then(function(){\n",
       "                            \n",
       "var gd = document.getElementById('4899007d-dd3f-497b-b2f2-950ac5ac1ad4');\n",
       "var x = new MutationObserver(function (mutations, observer) {{\n",
       "        var display = window.getComputedStyle(gd).display;\n",
       "        if (!display || display === 'none') {{\n",
       "            console.log([gd, 'removed!']);\n",
       "            Plotly.purge(gd);\n",
       "            observer.disconnect();\n",
       "        }}\n",
       "}});\n",
       "\n",
       "// Listen for the removal of the full notebook cells\n",
       "var notebookContainer = gd.closest('#notebook-container');\n",
       "if (notebookContainer) {{\n",
       "    x.observe(notebookContainer, {childList: true});\n",
       "}}\n",
       "\n",
       "// Listen for the clearing of the current output cell\n",
       "var outputEl = gd.closest('.output');\n",
       "if (outputEl) {{\n",
       "    x.observe(outputEl, {childList: true});\n",
       "}}\n",
       "\n",
       "                        })                };                });            </script>        </div>"
      ]
     },
     "metadata": {},
     "output_type": "display_data"
    }
   ],
   "source": [
    "import plotly.express as px\n",
    "\n",
    "px.box(df_animal,x='sleep_total')"
   ]
  },
  {
   "cell_type": "code",
   "execution_count": null,
   "id": "80aa654d-b35f-43cd-9e06-318d092e3fd7",
   "metadata": {},
   "outputs": [],
   "source": [
    "pandas.Series.value_counts() fonksiyonu, bir pandas serisi (veya DataFrame'deki bir sütun) içinde her benzersiz değerin kaç kez tekrarlandığını sayar \n",
    "ve bu sayıları azalan sırayla döndürür. Bu fonksiyon, verilerdeki kategorik dağılımı veya belirli değerlerin sıklığını analiz etmek için sıklıkla \n",
    "kullanılır. Ayrıca çeşitli parametrelerle işlevselliği genişletilebilir.\n",
    "\n",
    "Parametreler\n",
    "normalize: (bool, default = False)\n",
    "\n",
    "Eğer True olarak ayarlanırsa, her değerin toplam içinde kapladığı oranı (yüzdelik) döndürür, sayılar yerine oranlar gösterilir.\n",
    "Örnek:\n",
    "\n",
    "df['age'].value_counts(normalize=True)  # Her yaşın toplamda kapladığı oranı döndürür\n",
    "Örnek çıktı:\n",
    "25    0.50\n",
    "32    0.25\n",
    "19    0.25\n",
    "Name: age, dtype: float64\n",
    "sort: (bool, default = True)\n",
    "\n",
    "Eğer True ise, döndürülen değerleri frekansa göre azalan sırayla sıralar. False ise, değerlerin sıralamasını korur (girdi sırasına göre sıralar).\n",
    "Örnek:\n",
    "\n",
    "df['age'].value_counts(sort=False)  # Orijinal sıraya göre sıralar\n",
    "ascending: (bool, default = False)\n",
    "\n",
    "Eğer True ise, azalan sıraya değil artan sıraya göre sıralama yapılır (yani en az tekrar eden değerler en üstte olur).\n",
    "Örnek:\n",
    "\n",
    "df['age'].value_counts(ascending=True)  # Azdan çoğa doğru sıralar\n",
    "bins: (int, default = None)\n",
    "\n",
    "Sürekli verilerde (örneğin sayısal verilerde) veriyi belirli aralıklara (binlere) ayırır. \n",
    "Bu özellikle büyük veri setlerinde, değerleri kategorilere ayırmak ve her kategorinin sıklığını görmek için kullanılır.\n",
    "Örnek:\n",
    "\n",
    "df['age'].value_counts(bins=3)  # Yaş verisini 3 gruba ayırır\n",
    "Örnek çıktı:\n",
    "\n",
    "(18.987, 23.333]    1\n",
    "(23.333, 27.667]    2\n",
    "(27.667, 32.0]      1\n",
    "Name: age, dtype: int64\n",
    "dropna: (bool, default = True)\n",
    "\n",
    "NaN değerlerini frekans hesaplamalarından çıkarır. Eğer False olarak ayarlanırsa, NaN değerlerini de sıklık tablosuna dahil eder.\n",
    "Örnek:\n",
    "\n",
    "df['age'].value_counts(dropna=False)  # NaN değerlerini sıklık tablosuna dahil eder\n",
    "Örneklerle Açıklamalar\n",
    "Örnek 1: Temel Kullanım\n",
    "\n",
    "import pandas as pd\n",
    "\n",
    "data = {'age': [25, 32, 19, 25, 25, 32]}\n",
    "df = pd.DataFrame(data)\n",
    "\n",
    "# Yaş sütunundaki değerlerin kaç kez tekrarlandığını bulma\n",
    "age_counts = df['age'].value_counts()\n",
    "print(age_counts)\n",
    "Çıktı:\n",
    "\n",
    "25    3\n",
    "32    2\n",
    "19    1\n",
    "Name: age, dtype: int64\n",
    "Örnek 2: Yüzdelik Oranlarla Frekanslar\n",
    "\n",
    "age_normalized = df['age'].value_counts(normalize=True)\n",
    "print(age_normalized)\n",
    "Çıktı:\n",
    "\n",
    "25    0.50\n",
    "32    0.33\n",
    "19    0.17\n",
    "Name: age, dtype: float64\n",
    "Örnek 3: Artan Sıralama\n",
    "\n",
    "age_sorted = df['age'].value_counts(ascending=True)\n",
    "print(age_sorted)\n",
    "Çıktı:\n",
    "\n",
    "19    1\n",
    "32    2\n",
    "25    3\n",
    "Name: age, dtype: int64\n",
    "Örnek 4: Sürekli Verileri Aralıklara (Bins) Ayırma\n",
    "\n",
    "age_binned = df['age'].value_counts(bins=2)\n",
    "print(age_binned)\n",
    "Çıktı:\n",
    "\n",
    "(18.987, 25.5]    4\n",
    "(25.5, 32.0]      2\n",
    "Name: age, dtype: int64\n",
    "Bu örnekte, bins=2 parametresi kullanılarak yaşlar iki gruba ayrılmıştır: 18.987 - 25.5 ve 25.5 - 32.0 aralıkları.\n",
    "\n",
    "Örnek 5: NaN Değerlerini Dahil Etme\n",
    "\n",
    "data = {'age': [25, 32, 19, 25, None, 32]}\n",
    "df = pd.DataFrame(data)\n",
    "\n",
    "age_with_nan = df['age'].value_counts(dropna=False)\n",
    "print(age_with_nan)\n",
    "Çıktı:\n",
    "\n",
    "25.0    2\n",
    "32.0    2\n",
    "19.0    1\n",
    "NaN     1\n",
    "Name: age, dtype: int64\n",
    "Bu örnekte, None değerini sıklık tablosuna dahil ettik.\n",
    "\n",
    "Özet\n",
    "value_counts() bir serideki veya sütundaki benzersiz değerlerin sıklığını hesaplar.\n",
    "Parametrelerle frekansların yüzdelik oranlarını hesaplayabilir, NaN değerleri dahil edebilir, verileri aralıklara bölebilir \n",
    "ve sıralama ayarlarını değiştirebilirsiniz."
   ]
  },
  {
   "cell_type": "code",
   "execution_count": null,
   "id": "c8c59ae0-08b5-462a-80fa-46f20c69c988",
   "metadata": {},
   "outputs": [],
   "source": [
    "loc ve iloc, pandas kütüphanesinde veri seçmek ve dilimlemek için kullanılan iki önemli yöntemdir. \n",
    "Her ikisi de satır ve sütun bazında veri erişimi sağlar ancak temel farkları şudur\n",
    ": loc etiketlere göre, iloc ise konumlara (indekslere) göre seçim yapar.\n",
    "\n",
    "1. loc (Label-based indexing):\n",
    "Etikete dayalı veri seçimi yapar. Satır ve sütun isimlerini kullanarak belirli verilere erişmek mümkündür.\n",
    "Başlangıç ve bitiş etiketleri dahildir.\n",
    "Sıralı ve sırasız indeksler (etiketler) ile çalışabilir.\n",
    "Kullanım:\n",
    "python\n",
    "Kodu kopyala\n",
    "df.loc[rows, columns]\n",
    "Örnekler:\n",
    "python\n",
    "Kodu kopyala\n",
    "import pandas as pd\n",
    "\n",
    "# Örnek DataFrame\n",
    "data = {'name': ['Ali', 'Ayşe', 'Veli', 'Fatma'],\n",
    "        'age': [25, 23, 32, 29],\n",
    "        'city': ['İstanbul', 'Ankara', 'İzmir', 'Bursa']}\n",
    "df = pd.DataFrame(data)\n",
    "\n",
    "# 1. 'name' etiketi 'Ali' olan satırı seçme\n",
    "result = df.loc[0]  # 0 indeksine sahip satır\n",
    "print(result)\n",
    "\n",
    "# 2. 'age' sütunundaki verileri seçme\n",
    "result = df.loc[:, 'age']\n",
    "print(result)\n",
    "\n",
    "# 3. 'name' ve 'city' sütunlarını seçme\n",
    "result = df.loc[:, ['name', 'city']]\n",
    "print(result)\n",
    "\n",
    "# 4. Belirli satır ve sütun dilimleme\n",
    "result = df.loc[0:2, ['name', 'city']]  # 0'dan 2'ye kadar olan satırlar\n",
    "print(result)\n",
    "Çıktılar:\n",
    "yaml\n",
    "Kodu kopyala\n",
    "name         Ali\n",
    "age           25\n",
    "city    İstanbul\n",
    "Name: 0, dtype: object\n",
    "\n",
    "0    25\n",
    "1    23\n",
    "2    32\n",
    "3    29\n",
    "Name: age, dtype: int64\n",
    "\n",
    "    name      city\n",
    "0    Ali  İstanbul\n",
    "1   Ayşe    Ankara\n",
    "2   Veli     İzmir\n",
    "3  Fatma     Bursa\n",
    "\n",
    "   name      city\n",
    "0   Ali  İstanbul\n",
    "1  Ayşe    Ankara\n",
    "2  Veli     İzmir\n",
    "2. iloc (Integer-based indexing):\n",
    "Konuma dayalı veri seçimi yapar. Satır ve sütun indekslerini (sayısal konumları) kullanarak veri erişimi sağlar.\n",
    "Başlangıç dahil, bitiş hariçtir (Python dilimleme kurallarına uyar).\n",
    "Sadece tamsayı indeksleri ile çalışır.\n",
    "Kullanım:\n",
    "python\n",
    "Kodu kopyala\n",
    "df.iloc[rows, columns]\n",
    "Örnekler:\n",
    "python\n",
    "Kodu kopyala\n",
    "# 1. 0. satırı seçme\n",
    "result = df.iloc[0]  # 0 indeksindeki satırı seçer\n",
    "print(result)\n",
    "\n",
    "# 2. Yaş sütununu seçme (tüm satırlardan)\n",
    "result = df.iloc[:, 1]  # 1. sütunu seçer\n",
    "print(result)\n",
    "\n",
    "# 3. 0. ve 2. sütunları seçme\n",
    "result = df.iloc[:, [0, 2]]  # 0. ve 2. sütunlar\n",
    "print(result)\n",
    "\n",
    "# 4. 0'dan 2'ye kadar olan satırları ve 0. ve 2. sütunları seçme\n",
    "result = df.iloc[0:3, [0, 2]]  # 0'dan 3'e kadar olan satırlar (3 hariç) ve 0, 2 sütunlar\n",
    "print(result)\n",
    "Çıktılar:\n",
    "yaml\n",
    "Kodu kopyala\n",
    "name         Ali\n",
    "age           25\n",
    "city    İstanbul\n",
    "Name: 0, dtype: object\n",
    "\n",
    "0    25\n",
    "1    23\n",
    "2    32\n",
    "3    29\n",
    "Name: age, dtype: int64\n",
    "\n",
    "    name      city\n",
    "0    Ali  İstanbul\n",
    "1   Ayşe    Ankara\n",
    "2   Veli     İzmir\n",
    "3  Fatma     Bursa\n",
    "\n",
    "   name      city\n",
    "0   Ali  İstanbul\n",
    "1  Ayşe    Ankara\n",
    "2  Veli     İzmir\n",
    "Özet\n",
    "Özellik\tloc\tiloc\n",
    "Seçim Türü\tEtiket (label) bazlı\tKonum (index) bazlı\n",
    "Kapsam\tBaşlangıç ve bitiş dahil\tBaşlangıç dahil, bitiş hariç\n",
    "Çalıştığı Veriler\tİndeksler ve sütun isimleri ile çalışır\tSadece tamsayı indeksleri ile çalışır\n",
    "Kullanım\tdf.loc[rows, columns]\tdf.iloc[rows, columns]\n",
    "Bu iki yöntem, hangi veri kümesine nasıl erişeceğinize göre esneklik sağlar. loc daha açıklayıcıdır çünkü etiketlerle çalışır, \n",
    "      iloc ise belirli konumlardan hızlı ve güvenilir bir şekilde veri almanızı sağlar."
   ]
  },
  {
   "cell_type": "code",
   "execution_count": null,
   "id": "fece523c-6964-4099-977d-c98a9ab10441",
   "metadata": {},
   "outputs": [],
   "source": []
  }
 ],
 "metadata": {
  "kernelspec": {
   "display_name": "Python 3 (ipykernel)",
   "language": "python",
   "name": "python3"
  },
  "language_info": {
   "codemirror_mode": {
    "name": "ipython",
    "version": 3
   },
   "file_extension": ".py",
   "mimetype": "text/x-python",
   "name": "python",
   "nbconvert_exporter": "python",
   "pygments_lexer": "ipython3",
   "version": "3.12.4"
  }
 },
 "nbformat": 4,
 "nbformat_minor": 5
}
