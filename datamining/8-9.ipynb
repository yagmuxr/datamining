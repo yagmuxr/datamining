{
 "cells": [
  {
   "cell_type": "code",
   "execution_count": 1,
   "id": "e6d85f9a-348d-4c8c-a7be-6856d2c1e174",
   "metadata": {
    "scrolled": true
   },
   "outputs": [
    {
     "data": {
      "text/html": [
       "<div>\n",
       "<style scoped>\n",
       "    .dataframe tbody tr th:only-of-type {\n",
       "        vertical-align: middle;\n",
       "    }\n",
       "\n",
       "    .dataframe tbody tr th {\n",
       "        vertical-align: top;\n",
       "    }\n",
       "\n",
       "    .dataframe thead th {\n",
       "        text-align: right;\n",
       "    }\n",
       "</style>\n",
       "<table border=\"1\" class=\"dataframe\">\n",
       "  <thead>\n",
       "    <tr style=\"text-align: right;\">\n",
       "      <th></th>\n",
       "      <th>total_cup_points</th>\n",
       "      <th>species</th>\n",
       "      <th>owner</th>\n",
       "      <th>country_of_origin</th>\n",
       "      <th>farm_name</th>\n",
       "      <th>lot_number</th>\n",
       "      <th>mill</th>\n",
       "      <th>ico_number</th>\n",
       "      <th>company</th>\n",
       "      <th>altitude</th>\n",
       "      <th>...</th>\n",
       "      <th>color</th>\n",
       "      <th>category_two_defects</th>\n",
       "      <th>expiration</th>\n",
       "      <th>certification_body</th>\n",
       "      <th>certification_address</th>\n",
       "      <th>certification_contact</th>\n",
       "      <th>unit_of_measurement</th>\n",
       "      <th>altitude_low_meters</th>\n",
       "      <th>altitude_high_meters</th>\n",
       "      <th>altitude_mean_meters</th>\n",
       "    </tr>\n",
       "  </thead>\n",
       "  <tbody>\n",
       "    <tr>\n",
       "      <th>0</th>\n",
       "      <td>90.58</td>\n",
       "      <td>Arabica</td>\n",
       "      <td>metad plc</td>\n",
       "      <td>Ethiopia</td>\n",
       "      <td>metad plc</td>\n",
       "      <td>None</td>\n",
       "      <td>metad plc</td>\n",
       "      <td>2014/2015</td>\n",
       "      <td>metad agricultural developmet plc</td>\n",
       "      <td>1950-2200</td>\n",
       "      <td>...</td>\n",
       "      <td>Green</td>\n",
       "      <td>0.0</td>\n",
       "      <td>April 3rd, 2016</td>\n",
       "      <td>METAD Agricultural Development plc</td>\n",
       "      <td>309fcf77415a3661ae83e027f7e5f05dad786e44</td>\n",
       "      <td>19fef5a731de2db57d16da10287413f5f99bc2dd</td>\n",
       "      <td>m</td>\n",
       "      <td>1950.0</td>\n",
       "      <td>2200.0</td>\n",
       "      <td>2075.0</td>\n",
       "    </tr>\n",
       "    <tr>\n",
       "      <th>1</th>\n",
       "      <td>89.92</td>\n",
       "      <td>Arabica</td>\n",
       "      <td>metad plc</td>\n",
       "      <td>Ethiopia</td>\n",
       "      <td>metad plc</td>\n",
       "      <td>None</td>\n",
       "      <td>metad plc</td>\n",
       "      <td>2014/2015</td>\n",
       "      <td>metad agricultural developmet plc</td>\n",
       "      <td>1950-2200</td>\n",
       "      <td>...</td>\n",
       "      <td>Green</td>\n",
       "      <td>1.0</td>\n",
       "      <td>April 3rd, 2016</td>\n",
       "      <td>METAD Agricultural Development plc</td>\n",
       "      <td>309fcf77415a3661ae83e027f7e5f05dad786e44</td>\n",
       "      <td>19fef5a731de2db57d16da10287413f5f99bc2dd</td>\n",
       "      <td>m</td>\n",
       "      <td>1950.0</td>\n",
       "      <td>2200.0</td>\n",
       "      <td>2075.0</td>\n",
       "    </tr>\n",
       "    <tr>\n",
       "      <th>2</th>\n",
       "      <td>89.75</td>\n",
       "      <td>Arabica</td>\n",
       "      <td>grounds for health admin</td>\n",
       "      <td>Guatemala</td>\n",
       "      <td>san marcos barrancas \"san cristobal cuch</td>\n",
       "      <td>None</td>\n",
       "      <td>None</td>\n",
       "      <td>None</td>\n",
       "      <td>None</td>\n",
       "      <td>1600 - 1800 m</td>\n",
       "      <td>...</td>\n",
       "      <td>None</td>\n",
       "      <td>0.0</td>\n",
       "      <td>May 31st, 2011</td>\n",
       "      <td>Specialty Coffee Association</td>\n",
       "      <td>36d0d00a3724338ba7937c52a378d085f2172daa</td>\n",
       "      <td>0878a7d4b9d35ddbf0fe2ce69a2062cceb45a660</td>\n",
       "      <td>m</td>\n",
       "      <td>1600.0</td>\n",
       "      <td>1800.0</td>\n",
       "      <td>1700.0</td>\n",
       "    </tr>\n",
       "    <tr>\n",
       "      <th>3</th>\n",
       "      <td>89.00</td>\n",
       "      <td>Arabica</td>\n",
       "      <td>yidnekachew dabessa</td>\n",
       "      <td>Ethiopia</td>\n",
       "      <td>yidnekachew dabessa coffee plantation</td>\n",
       "      <td>None</td>\n",
       "      <td>wolensu</td>\n",
       "      <td>None</td>\n",
       "      <td>yidnekachew debessa coffee plantation</td>\n",
       "      <td>1800-2200</td>\n",
       "      <td>...</td>\n",
       "      <td>Green</td>\n",
       "      <td>2.0</td>\n",
       "      <td>March 25th, 2016</td>\n",
       "      <td>METAD Agricultural Development plc</td>\n",
       "      <td>309fcf77415a3661ae83e027f7e5f05dad786e44</td>\n",
       "      <td>19fef5a731de2db57d16da10287413f5f99bc2dd</td>\n",
       "      <td>m</td>\n",
       "      <td>1800.0</td>\n",
       "      <td>2200.0</td>\n",
       "      <td>2000.0</td>\n",
       "    </tr>\n",
       "    <tr>\n",
       "      <th>4</th>\n",
       "      <td>88.83</td>\n",
       "      <td>Arabica</td>\n",
       "      <td>metad plc</td>\n",
       "      <td>Ethiopia</td>\n",
       "      <td>metad plc</td>\n",
       "      <td>None</td>\n",
       "      <td>metad plc</td>\n",
       "      <td>2014/2015</td>\n",
       "      <td>metad agricultural developmet plc</td>\n",
       "      <td>1950-2200</td>\n",
       "      <td>...</td>\n",
       "      <td>Green</td>\n",
       "      <td>2.0</td>\n",
       "      <td>April 3rd, 2016</td>\n",
       "      <td>METAD Agricultural Development plc</td>\n",
       "      <td>309fcf77415a3661ae83e027f7e5f05dad786e44</td>\n",
       "      <td>19fef5a731de2db57d16da10287413f5f99bc2dd</td>\n",
       "      <td>m</td>\n",
       "      <td>1950.0</td>\n",
       "      <td>2200.0</td>\n",
       "      <td>2075.0</td>\n",
       "    </tr>\n",
       "    <tr>\n",
       "      <th>...</th>\n",
       "      <td>...</td>\n",
       "      <td>...</td>\n",
       "      <td>...</td>\n",
       "      <td>...</td>\n",
       "      <td>...</td>\n",
       "      <td>...</td>\n",
       "      <td>...</td>\n",
       "      <td>...</td>\n",
       "      <td>...</td>\n",
       "      <td>...</td>\n",
       "      <td>...</td>\n",
       "      <td>...</td>\n",
       "      <td>...</td>\n",
       "      <td>...</td>\n",
       "      <td>...</td>\n",
       "      <td>...</td>\n",
       "      <td>...</td>\n",
       "      <td>...</td>\n",
       "      <td>...</td>\n",
       "      <td>...</td>\n",
       "      <td>...</td>\n",
       "    </tr>\n",
       "    <tr>\n",
       "      <th>1333</th>\n",
       "      <td>78.75</td>\n",
       "      <td>Robusta</td>\n",
       "      <td>luis robles</td>\n",
       "      <td>Ecuador</td>\n",
       "      <td>robustasa</td>\n",
       "      <td>Lavado 1</td>\n",
       "      <td>our own lab</td>\n",
       "      <td>None</td>\n",
       "      <td>robustasa</td>\n",
       "      <td>None</td>\n",
       "      <td>...</td>\n",
       "      <td>Blue-Green</td>\n",
       "      <td>1.0</td>\n",
       "      <td>January 18th, 2017</td>\n",
       "      <td>Specialty Coffee Association</td>\n",
       "      <td>ff7c18ad303d4b603ac3f8cff7e611ffc735e720</td>\n",
       "      <td>352d0cf7f3e9be14dad7df644ad65efc27605ae2</td>\n",
       "      <td>m</td>\n",
       "      <td>NaN</td>\n",
       "      <td>NaN</td>\n",
       "      <td>NaN</td>\n",
       "    </tr>\n",
       "    <tr>\n",
       "      <th>1334</th>\n",
       "      <td>78.08</td>\n",
       "      <td>Robusta</td>\n",
       "      <td>luis robles</td>\n",
       "      <td>Ecuador</td>\n",
       "      <td>robustasa</td>\n",
       "      <td>Lavado 3</td>\n",
       "      <td>own laboratory</td>\n",
       "      <td>None</td>\n",
       "      <td>robustasa</td>\n",
       "      <td>40</td>\n",
       "      <td>...</td>\n",
       "      <td>Blue-Green</td>\n",
       "      <td>0.0</td>\n",
       "      <td>January 18th, 2017</td>\n",
       "      <td>Specialty Coffee Association</td>\n",
       "      <td>ff7c18ad303d4b603ac3f8cff7e611ffc735e720</td>\n",
       "      <td>352d0cf7f3e9be14dad7df644ad65efc27605ae2</td>\n",
       "      <td>m</td>\n",
       "      <td>40.0</td>\n",
       "      <td>40.0</td>\n",
       "      <td>40.0</td>\n",
       "    </tr>\n",
       "    <tr>\n",
       "      <th>1335</th>\n",
       "      <td>77.17</td>\n",
       "      <td>Robusta</td>\n",
       "      <td>james moore</td>\n",
       "      <td>United States</td>\n",
       "      <td>fazenda cazengo</td>\n",
       "      <td>None</td>\n",
       "      <td>cafe cazengo</td>\n",
       "      <td>None</td>\n",
       "      <td>global opportunity fund</td>\n",
       "      <td>795 meters</td>\n",
       "      <td>...</td>\n",
       "      <td>None</td>\n",
       "      <td>6.0</td>\n",
       "      <td>December 23rd, 2015</td>\n",
       "      <td>Specialty Coffee Association</td>\n",
       "      <td>ff7c18ad303d4b603ac3f8cff7e611ffc735e720</td>\n",
       "      <td>352d0cf7f3e9be14dad7df644ad65efc27605ae2</td>\n",
       "      <td>m</td>\n",
       "      <td>795.0</td>\n",
       "      <td>795.0</td>\n",
       "      <td>795.0</td>\n",
       "    </tr>\n",
       "    <tr>\n",
       "      <th>1336</th>\n",
       "      <td>75.08</td>\n",
       "      <td>Robusta</td>\n",
       "      <td>cafe politico</td>\n",
       "      <td>India</td>\n",
       "      <td>None</td>\n",
       "      <td>None</td>\n",
       "      <td>None</td>\n",
       "      <td>14-1118-2014-0087</td>\n",
       "      <td>cafe politico</td>\n",
       "      <td>None</td>\n",
       "      <td>...</td>\n",
       "      <td>Green</td>\n",
       "      <td>1.0</td>\n",
       "      <td>August 25th, 2015</td>\n",
       "      <td>Specialty Coffee Association</td>\n",
       "      <td>ff7c18ad303d4b603ac3f8cff7e611ffc735e720</td>\n",
       "      <td>352d0cf7f3e9be14dad7df644ad65efc27605ae2</td>\n",
       "      <td>m</td>\n",
       "      <td>NaN</td>\n",
       "      <td>NaN</td>\n",
       "      <td>NaN</td>\n",
       "    </tr>\n",
       "    <tr>\n",
       "      <th>1337</th>\n",
       "      <td>73.75</td>\n",
       "      <td>Robusta</td>\n",
       "      <td>cafe politico</td>\n",
       "      <td>Vietnam</td>\n",
       "      <td>None</td>\n",
       "      <td>None</td>\n",
       "      <td>None</td>\n",
       "      <td>n/a</td>\n",
       "      <td>cafe politico</td>\n",
       "      <td>None</td>\n",
       "      <td>...</td>\n",
       "      <td>None</td>\n",
       "      <td>9.0</td>\n",
       "      <td>August 25th, 2015</td>\n",
       "      <td>Specialty Coffee Association</td>\n",
       "      <td>ff7c18ad303d4b603ac3f8cff7e611ffc735e720</td>\n",
       "      <td>352d0cf7f3e9be14dad7df644ad65efc27605ae2</td>\n",
       "      <td>m</td>\n",
       "      <td>NaN</td>\n",
       "      <td>NaN</td>\n",
       "      <td>NaN</td>\n",
       "    </tr>\n",
       "  </tbody>\n",
       "</table>\n",
       "<p>1338 rows × 43 columns</p>\n",
       "</div>"
      ],
      "text/plain": [
       "      total_cup_points  species                     owner country_of_origin  \\\n",
       "0                90.58  Arabica                 metad plc          Ethiopia   \n",
       "1                89.92  Arabica                 metad plc          Ethiopia   \n",
       "2                89.75  Arabica  grounds for health admin         Guatemala   \n",
       "3                89.00  Arabica       yidnekachew dabessa          Ethiopia   \n",
       "4                88.83  Arabica                 metad plc          Ethiopia   \n",
       "...                ...      ...                       ...               ...   \n",
       "1333             78.75  Robusta               luis robles           Ecuador   \n",
       "1334             78.08  Robusta               luis robles           Ecuador   \n",
       "1335             77.17  Robusta               james moore     United States   \n",
       "1336             75.08  Robusta             cafe politico             India   \n",
       "1337             73.75  Robusta             cafe politico           Vietnam   \n",
       "\n",
       "                                     farm_name lot_number            mill  \\\n",
       "0                                    metad plc       None       metad plc   \n",
       "1                                    metad plc       None       metad plc   \n",
       "2     san marcos barrancas \"san cristobal cuch       None            None   \n",
       "3        yidnekachew dabessa coffee plantation       None         wolensu   \n",
       "4                                    metad plc       None       metad plc   \n",
       "...                                        ...        ...             ...   \n",
       "1333                                 robustasa   Lavado 1     our own lab   \n",
       "1334                                 robustasa   Lavado 3  own laboratory   \n",
       "1335                           fazenda cazengo       None    cafe cazengo   \n",
       "1336                                      None       None            None   \n",
       "1337                                      None       None            None   \n",
       "\n",
       "             ico_number                                company       altitude  \\\n",
       "0             2014/2015      metad agricultural developmet plc      1950-2200   \n",
       "1             2014/2015      metad agricultural developmet plc      1950-2200   \n",
       "2                  None                                   None  1600 - 1800 m   \n",
       "3                  None  yidnekachew debessa coffee plantation      1800-2200   \n",
       "4             2014/2015      metad agricultural developmet plc      1950-2200   \n",
       "...                 ...                                    ...            ...   \n",
       "1333               None                              robustasa           None   \n",
       "1334               None                              robustasa             40   \n",
       "1335               None                global opportunity fund     795 meters   \n",
       "1336  14-1118-2014-0087                          cafe politico           None   \n",
       "1337                n/a                          cafe politico           None   \n",
       "\n",
       "      ...       color category_two_defects           expiration  \\\n",
       "0     ...       Green                  0.0      April 3rd, 2016   \n",
       "1     ...       Green                  1.0      April 3rd, 2016   \n",
       "2     ...        None                  0.0       May 31st, 2011   \n",
       "3     ...       Green                  2.0     March 25th, 2016   \n",
       "4     ...       Green                  2.0      April 3rd, 2016   \n",
       "...   ...         ...                  ...                  ...   \n",
       "1333  ...  Blue-Green                  1.0   January 18th, 2017   \n",
       "1334  ...  Blue-Green                  0.0   January 18th, 2017   \n",
       "1335  ...        None                  6.0  December 23rd, 2015   \n",
       "1336  ...       Green                  1.0    August 25th, 2015   \n",
       "1337  ...        None                  9.0    August 25th, 2015   \n",
       "\n",
       "                      certification_body  \\\n",
       "0     METAD Agricultural Development plc   \n",
       "1     METAD Agricultural Development plc   \n",
       "2           Specialty Coffee Association   \n",
       "3     METAD Agricultural Development plc   \n",
       "4     METAD Agricultural Development plc   \n",
       "...                                  ...   \n",
       "1333        Specialty Coffee Association   \n",
       "1334        Specialty Coffee Association   \n",
       "1335        Specialty Coffee Association   \n",
       "1336        Specialty Coffee Association   \n",
       "1337        Specialty Coffee Association   \n",
       "\n",
       "                         certification_address  \\\n",
       "0     309fcf77415a3661ae83e027f7e5f05dad786e44   \n",
       "1     309fcf77415a3661ae83e027f7e5f05dad786e44   \n",
       "2     36d0d00a3724338ba7937c52a378d085f2172daa   \n",
       "3     309fcf77415a3661ae83e027f7e5f05dad786e44   \n",
       "4     309fcf77415a3661ae83e027f7e5f05dad786e44   \n",
       "...                                        ...   \n",
       "1333  ff7c18ad303d4b603ac3f8cff7e611ffc735e720   \n",
       "1334  ff7c18ad303d4b603ac3f8cff7e611ffc735e720   \n",
       "1335  ff7c18ad303d4b603ac3f8cff7e611ffc735e720   \n",
       "1336  ff7c18ad303d4b603ac3f8cff7e611ffc735e720   \n",
       "1337  ff7c18ad303d4b603ac3f8cff7e611ffc735e720   \n",
       "\n",
       "                         certification_contact unit_of_measurement  \\\n",
       "0     19fef5a731de2db57d16da10287413f5f99bc2dd                   m   \n",
       "1     19fef5a731de2db57d16da10287413f5f99bc2dd                   m   \n",
       "2     0878a7d4b9d35ddbf0fe2ce69a2062cceb45a660                   m   \n",
       "3     19fef5a731de2db57d16da10287413f5f99bc2dd                   m   \n",
       "4     19fef5a731de2db57d16da10287413f5f99bc2dd                   m   \n",
       "...                                        ...                 ...   \n",
       "1333  352d0cf7f3e9be14dad7df644ad65efc27605ae2                   m   \n",
       "1334  352d0cf7f3e9be14dad7df644ad65efc27605ae2                   m   \n",
       "1335  352d0cf7f3e9be14dad7df644ad65efc27605ae2                   m   \n",
       "1336  352d0cf7f3e9be14dad7df644ad65efc27605ae2                   m   \n",
       "1337  352d0cf7f3e9be14dad7df644ad65efc27605ae2                   m   \n",
       "\n",
       "     altitude_low_meters altitude_high_meters altitude_mean_meters  \n",
       "0                 1950.0               2200.0               2075.0  \n",
       "1                 1950.0               2200.0               2075.0  \n",
       "2                 1600.0               1800.0               1700.0  \n",
       "3                 1800.0               2200.0               2000.0  \n",
       "4                 1950.0               2200.0               2075.0  \n",
       "...                  ...                  ...                  ...  \n",
       "1333                 NaN                  NaN                  NaN  \n",
       "1334                40.0                 40.0                 40.0  \n",
       "1335               795.0                795.0                795.0  \n",
       "1336                 NaN                  NaN                  NaN  \n",
       "1337                 NaN                  NaN                  NaN  \n",
       "\n",
       "[1338 rows x 43 columns]"
      ]
     },
     "execution_count": 1,
     "metadata": {},
     "output_type": "execute_result"
    }
   ],
   "source": [
    "import pandas as pd\n",
    "\n",
    "df_coffee = pd.read_feather('data/coffee_ratings_full.feather')\n",
    "df_coffee\n"
   ]
  },
  {
   "cell_type": "code",
   "execution_count": 3,
   "id": "2df5673c-22dd-4fad-b52a-64d37091006d",
   "metadata": {},
   "outputs": [
    {
     "data": {
      "text/html": [
       "<div>\n",
       "<style scoped>\n",
       "    .dataframe tbody tr th:only-of-type {\n",
       "        vertical-align: middle;\n",
       "    }\n",
       "\n",
       "    .dataframe tbody tr th {\n",
       "        vertical-align: top;\n",
       "    }\n",
       "\n",
       "    .dataframe thead th {\n",
       "        text-align: right;\n",
       "    }\n",
       "</style>\n",
       "<table border=\"1\" class=\"dataframe\">\n",
       "  <thead>\n",
       "    <tr style=\"text-align: right;\">\n",
       "      <th></th>\n",
       "      <th>index</th>\n",
       "      <th>variety</th>\n",
       "      <th>country_of_origin</th>\n",
       "      <th>flavor</th>\n",
       "    </tr>\n",
       "  </thead>\n",
       "  <tbody>\n",
       "    <tr>\n",
       "      <th>0</th>\n",
       "      <td>0</td>\n",
       "      <td>None</td>\n",
       "      <td>Ethiopia</td>\n",
       "      <td>8.83</td>\n",
       "    </tr>\n",
       "    <tr>\n",
       "      <th>1</th>\n",
       "      <td>1</td>\n",
       "      <td>Other</td>\n",
       "      <td>Ethiopia</td>\n",
       "      <td>8.67</td>\n",
       "    </tr>\n",
       "    <tr>\n",
       "      <th>2</th>\n",
       "      <td>2</td>\n",
       "      <td>Bourbon</td>\n",
       "      <td>Guatemala</td>\n",
       "      <td>8.50</td>\n",
       "    </tr>\n",
       "    <tr>\n",
       "      <th>3</th>\n",
       "      <td>3</td>\n",
       "      <td>None</td>\n",
       "      <td>Ethiopia</td>\n",
       "      <td>8.58</td>\n",
       "    </tr>\n",
       "    <tr>\n",
       "      <th>4</th>\n",
       "      <td>4</td>\n",
       "      <td>Other</td>\n",
       "      <td>Ethiopia</td>\n",
       "      <td>8.50</td>\n",
       "    </tr>\n",
       "    <tr>\n",
       "      <th>...</th>\n",
       "      <td>...</td>\n",
       "      <td>...</td>\n",
       "      <td>...</td>\n",
       "      <td>...</td>\n",
       "    </tr>\n",
       "    <tr>\n",
       "      <th>1333</th>\n",
       "      <td>1333</td>\n",
       "      <td>None</td>\n",
       "      <td>Ecuador</td>\n",
       "      <td>7.58</td>\n",
       "    </tr>\n",
       "    <tr>\n",
       "      <th>1334</th>\n",
       "      <td>1334</td>\n",
       "      <td>None</td>\n",
       "      <td>Ecuador</td>\n",
       "      <td>7.67</td>\n",
       "    </tr>\n",
       "    <tr>\n",
       "      <th>1335</th>\n",
       "      <td>1335</td>\n",
       "      <td>None</td>\n",
       "      <td>United States</td>\n",
       "      <td>7.33</td>\n",
       "    </tr>\n",
       "    <tr>\n",
       "      <th>1336</th>\n",
       "      <td>1336</td>\n",
       "      <td>None</td>\n",
       "      <td>India</td>\n",
       "      <td>6.83</td>\n",
       "    </tr>\n",
       "    <tr>\n",
       "      <th>1337</th>\n",
       "      <td>1337</td>\n",
       "      <td>None</td>\n",
       "      <td>Vietnam</td>\n",
       "      <td>6.67</td>\n",
       "    </tr>\n",
       "  </tbody>\n",
       "</table>\n",
       "<p>1338 rows × 4 columns</p>\n",
       "</div>"
      ],
      "text/plain": [
       "      index  variety country_of_origin  flavor\n",
       "0         0     None          Ethiopia    8.83\n",
       "1         1    Other          Ethiopia    8.67\n",
       "2         2  Bourbon         Guatemala    8.50\n",
       "3         3     None          Ethiopia    8.58\n",
       "4         4    Other          Ethiopia    8.50\n",
       "...     ...      ...               ...     ...\n",
       "1333   1333     None           Ecuador    7.58\n",
       "1334   1334     None           Ecuador    7.67\n",
       "1335   1335     None     United States    7.33\n",
       "1336   1336     None             India    6.83\n",
       "1337   1337     None           Vietnam    6.67\n",
       "\n",
       "[1338 rows x 4 columns]"
      ]
     },
     "execution_count": 3,
     "metadata": {},
     "output_type": "execute_result"
    }
   ],
   "source": [
    "coffee_focus = df_coffee[['variety','country_of_origin','flavor']]\n",
    "coffee_focus = coffee_focus.reset_index()\n",
    "coffee_focus"
   ]
  },
  {
   "cell_type": "code",
   "execution_count": 5,
   "id": "c388afaa-a71b-431f-9cfd-51078b04e2af",
   "metadata": {},
   "outputs": [
    {
     "data": {
      "text/html": [
       "<div>\n",
       "<style scoped>\n",
       "    .dataframe tbody tr th:only-of-type {\n",
       "        vertical-align: middle;\n",
       "    }\n",
       "\n",
       "    .dataframe tbody tr th {\n",
       "        vertical-align: top;\n",
       "    }\n",
       "\n",
       "    .dataframe thead th {\n",
       "        text-align: right;\n",
       "    }\n",
       "</style>\n",
       "<table border=\"1\" class=\"dataframe\">\n",
       "  <thead>\n",
       "    <tr style=\"text-align: right;\">\n",
       "      <th></th>\n",
       "      <th>index</th>\n",
       "      <th>variety</th>\n",
       "      <th>country_of_origin</th>\n",
       "      <th>flavor</th>\n",
       "    </tr>\n",
       "  </thead>\n",
       "  <tbody>\n",
       "    <tr>\n",
       "      <th>703</th>\n",
       "      <td>703</td>\n",
       "      <td>Caturra</td>\n",
       "      <td>Colombia</td>\n",
       "      <td>7.58</td>\n",
       "    </tr>\n",
       "    <tr>\n",
       "      <th>93</th>\n",
       "      <td>93</td>\n",
       "      <td>None</td>\n",
       "      <td>United States (Hawaii)</td>\n",
       "      <td>8.17</td>\n",
       "    </tr>\n",
       "    <tr>\n",
       "      <th>833</th>\n",
       "      <td>833</td>\n",
       "      <td>Bourbon</td>\n",
       "      <td>Guatemala</td>\n",
       "      <td>7.50</td>\n",
       "    </tr>\n",
       "    <tr>\n",
       "      <th>1242</th>\n",
       "      <td>1242</td>\n",
       "      <td>None</td>\n",
       "      <td>Colombia</td>\n",
       "      <td>7.17</td>\n",
       "    </tr>\n",
       "    <tr>\n",
       "      <th>444</th>\n",
       "      <td>444</td>\n",
       "      <td>Catimor</td>\n",
       "      <td>Vietnam</td>\n",
       "      <td>7.42</td>\n",
       "    </tr>\n",
       "    <tr>\n",
       "      <th>...</th>\n",
       "      <td>...</td>\n",
       "      <td>...</td>\n",
       "      <td>...</td>\n",
       "      <td>...</td>\n",
       "    </tr>\n",
       "    <tr>\n",
       "      <th>97</th>\n",
       "      <td>97</td>\n",
       "      <td>Caturra</td>\n",
       "      <td>Colombia</td>\n",
       "      <td>7.92</td>\n",
       "    </tr>\n",
       "    <tr>\n",
       "      <th>15</th>\n",
       "      <td>15</td>\n",
       "      <td>Other</td>\n",
       "      <td>United States</td>\n",
       "      <td>8.50</td>\n",
       "    </tr>\n",
       "    <tr>\n",
       "      <th>712</th>\n",
       "      <td>712</td>\n",
       "      <td>Bourbon</td>\n",
       "      <td>Brazil</td>\n",
       "      <td>7.83</td>\n",
       "    </tr>\n",
       "    <tr>\n",
       "      <th>469</th>\n",
       "      <td>469</td>\n",
       "      <td>Caturra</td>\n",
       "      <td>Colombia</td>\n",
       "      <td>7.67</td>\n",
       "    </tr>\n",
       "    <tr>\n",
       "      <th>692</th>\n",
       "      <td>692</td>\n",
       "      <td>Typica</td>\n",
       "      <td>Mexico</td>\n",
       "      <td>7.42</td>\n",
       "    </tr>\n",
       "  </tbody>\n",
       "</table>\n",
       "<p>1338 rows × 4 columns</p>\n",
       "</div>"
      ],
      "text/plain": [
       "      index  variety       country_of_origin  flavor\n",
       "703     703  Caturra                Colombia    7.58\n",
       "93       93     None  United States (Hawaii)    8.17\n",
       "833     833  Bourbon               Guatemala    7.50\n",
       "1242   1242     None                Colombia    7.17\n",
       "444     444  Catimor                 Vietnam    7.42\n",
       "...     ...      ...                     ...     ...\n",
       "97       97  Caturra                Colombia    7.92\n",
       "15       15    Other           United States    8.50\n",
       "712     712  Bourbon                  Brazil    7.83\n",
       "469     469  Caturra                Colombia    7.67\n",
       "692     692   Typica                  Mexico    7.42\n",
       "\n",
       "[1338 rows x 4 columns]"
      ]
     },
     "execution_count": 5,
     "metadata": {},
     "output_type": "execute_result"
    }
   ],
   "source": [
    "coffee_resamp = coffee_focus.sample(frac=1, replace=True)\n",
    "coffee_resamp"
   ]
  },
  {
   "cell_type": "code",
   "execution_count": 7,
   "id": "8169836d-fc0e-4b05-9f11-3af794025fe0",
   "metadata": {},
   "outputs": [
    {
     "data": {
      "text/plain": [
       "index\n",
       "0       1\n",
       "898     1\n",
       "896     1\n",
       "895     1\n",
       "894     1\n",
       "       ..\n",
       "445     1\n",
       "444     1\n",
       "443     1\n",
       "442     1\n",
       "1337    1\n",
       "Name: count, Length: 1338, dtype: int64"
      ]
     },
     "execution_count": 7,
     "metadata": {},
     "output_type": "execute_result"
    }
   ],
   "source": [
    "coffee_focus['index'].value_counts()"
   ]
  },
  {
   "cell_type": "code",
   "execution_count": 9,
   "id": "3a622f3e-3294-434b-a4f2-f57a8a3e1bdb",
   "metadata": {},
   "outputs": [
    {
     "data": {
      "text/plain": [
       "866"
      ]
     },
     "execution_count": 9,
     "metadata": {},
     "output_type": "execute_result"
    }
   ],
   "source": [
    "num_unique_coffees = len(coffee_resamp.drop_duplicates(subset='index'))\n",
    "num_unique_coffees"
   ]
  },
  {
   "cell_type": "code",
   "execution_count": 11,
   "id": "28a36666-fe6d-47c8-b087-2b87b9481cc5",
   "metadata": {},
   "outputs": [],
   "source": [
    "import numpy as np\n",
    "\n",
    "mean_flavors_1000 = []\n",
    "\n",
    "for i in range(1000):\n",
    "    mean_flavors_1000.append(np.mean(\n",
    "        coffee_focus.sample(frac=1, replace=True)['flavor']))"
   ]
  },
  {
   "cell_type": "code",
   "execution_count": 13,
   "id": "5045660b-fbf6-42f2-a327-665737f5bed8",
   "metadata": {},
   "outputs": [
    {
     "data": {
      "text/plain": [
       "(array([  2.,  14.,  60., 188., 305., 277., 119.,  29.,   3.,   3.]),\n",
       " array([7.48974589, 7.49730867, 7.50487145, 7.51243423, 7.51999701,\n",
       "        7.52755979, 7.53512257, 7.54268535, 7.55024813, 7.55781091,\n",
       "        7.56537369]),\n",
       " <BarContainer object of 10 artists>)"
      ]
     },
     "execution_count": 13,
     "metadata": {},
     "output_type": "execute_result"
    },
    {
     "data": {
      "image/png": "[encoded data removed]",
      "text/plain": [
       "<Figure size 640x480 with 1 Axes>"
      ]
     },
     "metadata": {},
     "output_type": "display_data"
    }
   ],
   "source": [
    "import matplotlib.pyplot as plt\n",
    "\n",
    "plt.hist(mean_flavors_1000)"
   ]
  },
  {
   "cell_type": "code",
   "execution_count": 14,
   "id": "e6da9aa4-3db4-4d49-abf6-1a474815f075",
   "metadata": {},
   "outputs": [
    {
     "data": {
      "text/html": [
       "<div>\n",
       "<style scoped>\n",
       "    .dataframe tbody tr th:only-of-type {\n",
       "        vertical-align: middle;\n",
       "    }\n",
       "\n",
       "    .dataframe tbody tr th {\n",
       "        vertical-align: top;\n",
       "    }\n",
       "\n",
       "    .dataframe thead th {\n",
       "        text-align: right;\n",
       "    }\n",
       "</style>\n",
       "<table border=\"1\" class=\"dataframe\">\n",
       "  <thead>\n",
       "    <tr style=\"text-align: right;\">\n",
       "      <th></th>\n",
       "      <th>index</th>\n",
       "      <th>variety</th>\n",
       "      <th>country_of_origin</th>\n",
       "      <th>flavor</th>\n",
       "    </tr>\n",
       "  </thead>\n",
       "  <tbody>\n",
       "    <tr>\n",
       "      <th>630</th>\n",
       "      <td>630</td>\n",
       "      <td>Blue Mountain</td>\n",
       "      <td>Mexico</td>\n",
       "      <td>7.58</td>\n",
       "    </tr>\n",
       "    <tr>\n",
       "      <th>1042</th>\n",
       "      <td>1042</td>\n",
       "      <td>Caturra</td>\n",
       "      <td>Panama</td>\n",
       "      <td>7.33</td>\n",
       "    </tr>\n",
       "    <tr>\n",
       "      <th>88</th>\n",
       "      <td>88</td>\n",
       "      <td>Other</td>\n",
       "      <td>Ethiopia</td>\n",
       "      <td>8.00</td>\n",
       "    </tr>\n",
       "    <tr>\n",
       "      <th>1302</th>\n",
       "      <td>1302</td>\n",
       "      <td>None</td>\n",
       "      <td>Brazil</td>\n",
       "      <td>7.00</td>\n",
       "    </tr>\n",
       "    <tr>\n",
       "      <th>1304</th>\n",
       "      <td>1304</td>\n",
       "      <td>Catuai</td>\n",
       "      <td>Honduras</td>\n",
       "      <td>6.17</td>\n",
       "    </tr>\n",
       "    <tr>\n",
       "      <th>...</th>\n",
       "      <td>...</td>\n",
       "      <td>...</td>\n",
       "      <td>...</td>\n",
       "      <td>...</td>\n",
       "    </tr>\n",
       "    <tr>\n",
       "      <th>232</th>\n",
       "      <td>232</td>\n",
       "      <td>Caturra</td>\n",
       "      <td>Colombia</td>\n",
       "      <td>7.50</td>\n",
       "    </tr>\n",
       "    <tr>\n",
       "      <th>756</th>\n",
       "      <td>756</td>\n",
       "      <td>Bourbon</td>\n",
       "      <td>Brazil</td>\n",
       "      <td>7.42</td>\n",
       "    </tr>\n",
       "    <tr>\n",
       "      <th>44</th>\n",
       "      <td>44</td>\n",
       "      <td>SL28</td>\n",
       "      <td>Kenya</td>\n",
       "      <td>8.08</td>\n",
       "    </tr>\n",
       "    <tr>\n",
       "      <th>502</th>\n",
       "      <td>502</td>\n",
       "      <td>Caturra</td>\n",
       "      <td>Vietnam</td>\n",
       "      <td>7.67</td>\n",
       "    </tr>\n",
       "    <tr>\n",
       "      <th>805</th>\n",
       "      <td>805</td>\n",
       "      <td>Caturra</td>\n",
       "      <td>Colombia</td>\n",
       "      <td>7.33</td>\n",
       "    </tr>\n",
       "  </tbody>\n",
       "</table>\n",
       "<p>500 rows × 4 columns</p>\n",
       "</div>"
      ],
      "text/plain": [
       "      index        variety country_of_origin  flavor\n",
       "630     630  Blue Mountain            Mexico    7.58\n",
       "1042   1042        Caturra            Panama    7.33\n",
       "88       88          Other          Ethiopia    8.00\n",
       "1302   1302           None            Brazil    7.00\n",
       "1304   1304         Catuai          Honduras    6.17\n",
       "...     ...            ...               ...     ...\n",
       "232     232        Caturra          Colombia    7.50\n",
       "756     756        Bourbon            Brazil    7.42\n",
       "44       44           SL28             Kenya    8.08\n",
       "502     502        Caturra           Vietnam    7.67\n",
       "805     805        Caturra          Colombia    7.33\n",
       "\n",
       "[500 rows x 4 columns]"
      ]
     },
     "execution_count": 14,
     "metadata": {},
     "output_type": "execute_result"
    }
   ],
   "source": [
    "coffee_sample = df_coffee[['variety', 'country_of_origin', 'flavor']].\\\n",
    "reset_index().sample(n=500)\n",
    "coffee_sample"
   ]
  },
  {
   "cell_type": "code",
   "execution_count": 17,
   "id": "07c3dbec-76e8-468b-b5ea-129c7943a621",
   "metadata": {},
   "outputs": [],
   "source": [
    "#The bootstrap of mean coffee flavors\n",
    "\n",
    "import numpy as np\n",
    "\n",
    "mean_flavors_5000 = []\n",
    "\n",
    "for i in range(5000):\n",
    "    mean_flavors_5000.append(\n",
    "        np.mean(coffee_sample.sample(frac=1, replace=True)['flavor']))"
   ]
  },
  {
   "cell_type": "code",
   "execution_count": 18,
   "id": "a8253d42-ed02-4847-a8e2-f801db37ce55",
   "metadata": {},
   "outputs": [
    {
     "data": {
      "text/plain": [
       "(array([  11.,   74.,  298.,  737., 1289., 1255.,  876.,  352.,   87.,\n",
       "          21.]),\n",
       " array([7.49806 , 7.509114, 7.520168, 7.531222, 7.542276, 7.55333 ,\n",
       "        7.564384, 7.575438, 7.586492, 7.597546, 7.6086  ]),\n",
       " <BarContainer object of 10 artists>)"
      ]
     },
     "execution_count": 18,
     "metadata": {},
     "output_type": "execute_result"
    },
    {
     "data": {
      "image/png": "[encoded data removed]",
      "text/plain": [
       "<Figure size 640x480 with 1 Axes>"
      ]
     },
     "metadata": {},
     "output_type": "display_data"
    }
   ],
   "source": [
    "plt.hist(mean_flavors_5000)"
   ]
  },
  {
   "cell_type": "code",
   "execution_count": 19,
   "id": "56a1fa2f-f603-4354-93b0-623f8a36d55d",
   "metadata": {},
   "outputs": [
    {
     "data": {
      "text/plain": [
       "7.55442"
      ]
     },
     "execution_count": 19,
     "metadata": {},
     "output_type": "execute_result"
    }
   ],
   "source": [
    "coffee_sample['flavor'].mean()"
   ]
  },
  {
   "cell_type": "code",
   "execution_count": 23,
   "id": "a3d6430d-031a-48ad-b4c5-0575e731d231",
   "metadata": {},
   "outputs": [
    {
     "data": {
      "text/plain": [
       "7.554243131999999"
      ]
     },
     "execution_count": 23,
     "metadata": {},
     "output_type": "execute_result"
    }
   ],
   "source": [
    "np.mean(mean_flavors_5000)"
   ]
  },
  {
   "cell_type": "code",
   "execution_count": 25,
   "id": "de5c85e9-0c38-439b-be4f-a5502408c149",
   "metadata": {},
   "outputs": [
    {
     "data": {
      "text/plain": [
       "7.526046337817639"
      ]
     },
     "execution_count": 25,
     "metadata": {},
     "output_type": "execute_result"
    }
   ],
   "source": [
    "df_coffee['flavor'].mean()"
   ]
  },
  {
   "cell_type": "code",
   "execution_count": 27,
   "id": "1a1312d6-bfef-4f71-87ff-c8e326ffb19a",
   "metadata": {},
   "outputs": [
    {
     "data": {
      "text/plain": [
       "0.3573015426565769"
      ]
     },
     "execution_count": 27,
     "metadata": {},
     "output_type": "execute_result"
    }
   ],
   "source": [
    "coffee_sample['flavor'].std()"
   ]
  },
  {
   "cell_type": "code",
   "execution_count": 29,
   "id": "2876a4bd-ae98-4ce0-a30d-bc0cb6946698",
   "metadata": {},
   "outputs": [
    {
     "data": {
      "text/plain": [
       "0.01606660242780939"
      ]
     },
     "execution_count": 29,
     "metadata": {},
     "output_type": "execute_result"
    }
   ],
   "source": [
    "#bootstrap'in standart hatasını bulmuş olduk\n",
    "np.std(mean_flavors_5000,ddof=1)"
   ]
  },
  {
   "cell_type": "code",
   "execution_count": 31,
   "id": "9882add4-8f24-41cc-8f8b-fb2ce75835fb",
   "metadata": {},
   "outputs": [
    {
     "data": {
      "text/plain": [
       "0.3592601519604496"
      ]
     },
     "execution_count": 31,
     "metadata": {},
     "output_type": "execute_result"
    }
   ],
   "source": [
    "#bootstrap örneklem standart sapması\n",
    "np.std(mean_flavors_5000, ddof=1) * np.sqrt(500)"
   ]
  },
  {
   "cell_type": "code",
   "execution_count": 33,
   "id": "0d609527-e8fd-4e04-b227-89b8c73ad1c7",
   "metadata": {},
   "outputs": [
    {
     "data": {
      "text/plain": [
       "(array([  11.,   74.,  298.,  737., 1289., 1255.,  876.,  352.,   87.,\n",
       "          21.]),\n",
       " array([7.49806 , 7.509114, 7.520168, 7.531222, 7.542276, 7.55333 ,\n",
       "        7.564384, 7.575438, 7.586492, 7.597546, 7.6086  ]),\n",
       " <BarContainer object of 10 artists>)"
      ]
     },
     "execution_count": 33,
     "metadata": {},
     "output_type": "execute_result"
    },
    {
     "data": {
      "image/png": "[encoded data removed]",
      "text/plain": [
       "<Figure size 640x480 with 1 Axes>"
      ]
     },
     "metadata": {},
     "output_type": "display_data"
    }
   ],
   "source": [
    "plt.hist(mean_flavors_5000)"
   ]
  },
  {
   "cell_type": "code",
   "execution_count": 35,
   "id": "a7ab3c75-606d-497b-8f00-761f4a7d9987",
   "metadata": {},
   "outputs": [
    {
     "data": {
      "text/plain": [
       "<matplotlib.legend.Legend at 0x1d2063a7ce0>"
      ]
     },
     "execution_count": 35,
     "metadata": {},
     "output_type": "execute_result"
    },
    {
     "data": {
      "image/png": "[encoded data removed]",
      "text/plain": [
       "<Figure size 640x480 with 1 Axes>"
      ]
     },
     "metadata": {},
     "output_type": "display_data"
    }
   ],
   "source": [
    "plt.hist(mean_flavors_5000);\n",
    "plt.axvline(np.mean(mean_flavors_5000), color='red', linestyle='dashed', \n",
    "            linewidth=2, label=f'Mean: {np.mean(mean_flavors_5000):.2f}')\n",
    "plt.legend()"
   ]
  },
  {
   "cell_type": "code",
   "execution_count": 37,
   "id": "9581c727-4532-4193-9d01-a4bc2860c891",
   "metadata": {},
   "outputs": [
    {
     "data": {
      "text/plain": [
       "<matplotlib.legend.Legend at 0x1d206d073e0>"
      ]
     },
     "execution_count": 37,
     "metadata": {},
     "output_type": "execute_result"
    },
    {
     "data": {
      "image/png": "[encoded data removed]",
      "text/plain": [
       "<Figure size 640x480 with 1 Axes>"
      ]
     },
     "metadata": {},
     "output_type": "display_data"
    }
   ],
   "source": [
    "mean = np.mean(mean_flavors_5000)\n",
    "plus_one_std = mean + np.std(mean_flavors_5000, ddof=1)\n",
    "minus_one_std = mean - np.std(mean_flavors_5000, ddof=1)\n",
    "\n",
    "plt.hist(mean_flavors_5000);\n",
    "\n",
    "plt.axvline(mean, color='black', linestyle='dashed', linewidth=2, label=f'Mean: {mean:.2f}')\n",
    "\n",
    "plt.axvline(plus_one_std, color='red', linestyle='dashed', linewidth=2, label=f'mean + std: {plus_one_std:.2f}')\n",
    "\n",
    "plt.axvline(minus_one_std, color='yellow', linestyle='dashed', linewidth=2, label=f'mean - std: {minus_one_std:.2f}')\n",
    "\n",
    "plt.legend()"
   ]
  },
  {
   "cell_type": "code",
   "execution_count": 39,
   "id": "7b3d29e4-2612-4890-9196-e4dbc95170c3",
   "metadata": {},
   "outputs": [
    {
     "data": {
      "text/plain": [
       "<matplotlib.legend.Legend at 0x1d206d9fbc0>"
      ]
     },
     "execution_count": 39,
     "metadata": {},
     "output_type": "execute_result"
    },
    {
     "data": {
      "image/png": "[encoded data removed]",
      "text/plain": [
       "<Figure size 640x480 with 1 Axes>"
      ]
     },
     "metadata": {},
     "output_type": "display_data"
    }
   ],
   "source": [
    "quantile_lower = np.quantile(mean_flavors_5000, 0.025)\n",
    "quantile_upper = np.quantile(mean_flavors_5000, 0.975)\n",
    "\n",
    "plt.hist(mean_flavors_5000);\n",
    "\n",
    "plt.axvline(mean, color='black', linestyle='dashed', linewidth=2, label=f'Mean: {mean:.2f}')\n",
    "\n",
    "plt.axvline(quantile_lower, color='red', linestyle='dashed', linewidth=2, label=f'quantile_lower: {quantile_lower:.2f}')\n",
    "\n",
    "plt.axvline(quantile_upper, color='yellow', linestyle='dashed', linewidth=2, label=f'quantile_upper: {quantile_upper:.2f}')\n",
    "\n",
    "plt.legend()"
   ]
  },
  {
   "cell_type": "code",
   "execution_count": 41,
   "id": "e0cc2e94-3eb2-4447-a3e7-cfbfa6bd4ce5",
   "metadata": {},
   "outputs": [
    {
     "data": {
      "text/plain": [
       "<matplotlib.legend.Legend at 0x1d206e1b3b0>"
      ]
     },
     "execution_count": 41,
     "metadata": {},
     "output_type": "execute_result"
    },
    {
     "data": {
      "image/png": "[encoded data removed]",
      "text/plain": [
       "<Figure size 640x480 with 1 Axes>"
      ]
     },
     "metadata": {},
     "output_type": "display_data"
    }
   ],
   "source": [
    "mean = np.mean(mean_flavors_5000)\n",
    "plus_one_std = mean + 3 * np.std(mean_flavors_5000, ddof=1)\n",
    "minus_one_std = mean - 3 * np.std(mean_flavors_5000, ddof=1)\n",
    "\n",
    "plt.hist(mean_flavors_5000);\n",
    "\n",
    "plt.axvline(mean, color='black', linestyle='dashed', linewidth=2, label=f'Mean: {mean:.2f}')\n",
    "\n",
    "plt.axvline(plus_one_std, color='red', linestyle='dashed', linewidth=2, label=f'mean + std: {plus_one_std:.2f}')\n",
    "\n",
    "plt.axvline(minus_one_std, color='yellow', linestyle='dashed', linewidth=2, label=f'mean - std: {minus_one_std:.2f}')\n",
    "\n",
    "plt.legend()"
   ]
  },
  {
   "cell_type": "code",
   "execution_count": 43,
   "id": "a8214b14-97b0-46aa-9508-70f873d0b2ad",
   "metadata": {},
   "outputs": [
    {
     "data": {
      "image/png": "[encoded data removed]",
      "text/plain": [
       "<Figure size 640x480 with 1 Axes>"
      ]
     },
     "metadata": {},
     "output_type": "display_data"
    }
   ],
   "source": [
    "from scipy.stats import norm\n",
    "\n",
    "p_values = np.linspace(0, 1, 100)\n",
    "\n",
    "quantiles = norm.ppf(p_values, loc=0, scale=1)\n",
    "\n",
    "plt.plot(p_values, quantiles, label=\"Inverse CDF (Normal Distribution)\")\n",
    "\n",
    "p1, p2 = 0.025, 0.975\n",
    "quantile_025 = norm.ppf(p1)\n",
    "quantile_975 = norm.ppf(p2)\n",
    "\n",
    "plt.scatter([p1, p2], [quantile_025, quantile_975], color='red')  # Noktaları çiz\n",
    "plt.axvline(p1, color='red', linestyle='dashed', linewidth=1)  # p1 için dikey çizgi\n",
    "plt.axvline(p2, color='red', linestyle='dashed', linewidth=1)  # p2 için dikey çizgi\n",
    "\n",
    "# X ve Y değerlerini grafikte gösterelim\n",
    "plt.text(p1, quantile_025, f'({p1:.3f}, {quantile_025:.2f})', color='red', fontsize=10, ha='right')\n",
    "plt.text(p2, quantile_975, f'({p2:.3f}, {quantile_975:.2f})', color='red', fontsize=10, ha='right')\n",
    "\n",
    "\n",
    "\n",
    "plt.xlabel(\"Probability (p)\")\n",
    "plt.ylabel(\"Quantile (x)\")\n",
    "plt.title(\"Inverse Cumulative Distribution Function (Normal)\")\n",
    "plt.grid(True)\n",
    "plt.legend()\n",
    "plt.show()"
   ]
  },
  {
   "cell_type": "code",
   "execution_count": 45,
   "id": "7c3711de-e7d4-4274-a996-13499638c435",
   "metadata": {},
   "outputs": [
    {
     "data": {
      "text/html": [
       "<div>\n",
       "<style scoped>\n",
       "    .dataframe tbody tr th:only-of-type {\n",
       "        vertical-align: middle;\n",
       "    }\n",
       "\n",
       "    .dataframe tbody tr th {\n",
       "        vertical-align: top;\n",
       "    }\n",
       "\n",
       "    .dataframe thead th {\n",
       "        text-align: right;\n",
       "    }\n",
       "</style>\n",
       "<table border=\"1\" class=\"dataframe\">\n",
       "  <thead>\n",
       "    <tr style=\"text-align: right;\">\n",
       "      <th></th>\n",
       "      <th>respondent</th>\n",
       "      <th>main_branch</th>\n",
       "      <th>hobbyist</th>\n",
       "      <th>age</th>\n",
       "      <th>age_1st_code</th>\n",
       "      <th>age_first_code_cut</th>\n",
       "      <th>comp_freq</th>\n",
       "      <th>comp_total</th>\n",
       "      <th>converted_comp</th>\n",
       "      <th>country</th>\n",
       "      <th>...</th>\n",
       "      <th>survey_length</th>\n",
       "      <th>trans</th>\n",
       "      <th>undergrad_major</th>\n",
       "      <th>webframe_desire_next_year</th>\n",
       "      <th>webframe_worked_with</th>\n",
       "      <th>welcome_change</th>\n",
       "      <th>work_week_hrs</th>\n",
       "      <th>years_code</th>\n",
       "      <th>years_code_pro</th>\n",
       "      <th>age_cat</th>\n",
       "    </tr>\n",
       "  </thead>\n",
       "  <tbody>\n",
       "    <tr>\n",
       "      <th>0</th>\n",
       "      <td>36.0</td>\n",
       "      <td>I am not primarily a developer, but I write co...</td>\n",
       "      <td>Yes</td>\n",
       "      <td>34.0</td>\n",
       "      <td>30.0</td>\n",
       "      <td>adult</td>\n",
       "      <td>Yearly</td>\n",
       "      <td>60000.0</td>\n",
       "      <td>77556.0</td>\n",
       "      <td>United Kingdom</td>\n",
       "      <td>...</td>\n",
       "      <td>Appropriate in length</td>\n",
       "      <td>No</td>\n",
       "      <td>Computer science, computer engineering, or sof...</td>\n",
       "      <td>Express;React.js</td>\n",
       "      <td>Express;React.js</td>\n",
       "      <td>Just as welcome now as I felt last year</td>\n",
       "      <td>40.0</td>\n",
       "      <td>4.0</td>\n",
       "      <td>3.0</td>\n",
       "      <td>At least 30</td>\n",
       "    </tr>\n",
       "    <tr>\n",
       "      <th>1</th>\n",
       "      <td>47.0</td>\n",
       "      <td>I am a developer by profession</td>\n",
       "      <td>Yes</td>\n",
       "      <td>53.0</td>\n",
       "      <td>10.0</td>\n",
       "      <td>child</td>\n",
       "      <td>Yearly</td>\n",
       "      <td>58000.0</td>\n",
       "      <td>74970.0</td>\n",
       "      <td>United Kingdom</td>\n",
       "      <td>...</td>\n",
       "      <td>Appropriate in length</td>\n",
       "      <td>No</td>\n",
       "      <td>A natural science (such as biology, chemistry,...</td>\n",
       "      <td>Flask;Spring</td>\n",
       "      <td>Flask;Spring</td>\n",
       "      <td>Just as welcome now as I felt last year</td>\n",
       "      <td>40.0</td>\n",
       "      <td>43.0</td>\n",
       "      <td>28.0</td>\n",
       "      <td>At least 30</td>\n",
       "    </tr>\n",
       "    <tr>\n",
       "      <th>2</th>\n",
       "      <td>69.0</td>\n",
       "      <td>I am a developer by profession</td>\n",
       "      <td>Yes</td>\n",
       "      <td>25.0</td>\n",
       "      <td>12.0</td>\n",
       "      <td>child</td>\n",
       "      <td>Yearly</td>\n",
       "      <td>550000.0</td>\n",
       "      <td>594539.0</td>\n",
       "      <td>France</td>\n",
       "      <td>...</td>\n",
       "      <td>Too short</td>\n",
       "      <td>No</td>\n",
       "      <td>Computer science, computer engineering, or sof...</td>\n",
       "      <td>Django;Flask</td>\n",
       "      <td>Django;Flask</td>\n",
       "      <td>Just as welcome now as I felt last year</td>\n",
       "      <td>40.0</td>\n",
       "      <td>13.0</td>\n",
       "      <td>3.0</td>\n",
       "      <td>Under 30</td>\n",
       "    </tr>\n",
       "    <tr>\n",
       "      <th>3</th>\n",
       "      <td>125.0</td>\n",
       "      <td>I am not primarily a developer, but I write co...</td>\n",
       "      <td>Yes</td>\n",
       "      <td>41.0</td>\n",
       "      <td>30.0</td>\n",
       "      <td>adult</td>\n",
       "      <td>Monthly</td>\n",
       "      <td>200000.0</td>\n",
       "      <td>2000000.0</td>\n",
       "      <td>United States</td>\n",
       "      <td>...</td>\n",
       "      <td>Appropriate in length</td>\n",
       "      <td>No</td>\n",
       "      <td>None</td>\n",
       "      <td>None</td>\n",
       "      <td>None</td>\n",
       "      <td>Just as welcome now as I felt last year</td>\n",
       "      <td>40.0</td>\n",
       "      <td>11.0</td>\n",
       "      <td>11.0</td>\n",
       "      <td>At least 30</td>\n",
       "    </tr>\n",
       "    <tr>\n",
       "      <th>4</th>\n",
       "      <td>147.0</td>\n",
       "      <td>I am not primarily a developer, but I write co...</td>\n",
       "      <td>No</td>\n",
       "      <td>28.0</td>\n",
       "      <td>15.0</td>\n",
       "      <td>adult</td>\n",
       "      <td>Yearly</td>\n",
       "      <td>50000.0</td>\n",
       "      <td>37816.0</td>\n",
       "      <td>Canada</td>\n",
       "      <td>...</td>\n",
       "      <td>Appropriate in length</td>\n",
       "      <td>No</td>\n",
       "      <td>Another engineering discipline (such as civil,...</td>\n",
       "      <td>None</td>\n",
       "      <td>Express;Flask</td>\n",
       "      <td>Just as welcome now as I felt last year</td>\n",
       "      <td>40.0</td>\n",
       "      <td>5.0</td>\n",
       "      <td>3.0</td>\n",
       "      <td>Under 30</td>\n",
       "    </tr>\n",
       "    <tr>\n",
       "      <th>...</th>\n",
       "      <td>...</td>\n",
       "      <td>...</td>\n",
       "      <td>...</td>\n",
       "      <td>...</td>\n",
       "      <td>...</td>\n",
       "      <td>...</td>\n",
       "      <td>...</td>\n",
       "      <td>...</td>\n",
       "      <td>...</td>\n",
       "      <td>...</td>\n",
       "      <td>...</td>\n",
       "      <td>...</td>\n",
       "      <td>...</td>\n",
       "      <td>...</td>\n",
       "      <td>...</td>\n",
       "      <td>...</td>\n",
       "      <td>...</td>\n",
       "      <td>...</td>\n",
       "      <td>...</td>\n",
       "      <td>...</td>\n",
       "      <td>...</td>\n",
       "    </tr>\n",
       "    <tr>\n",
       "      <th>2256</th>\n",
       "      <td>62812.0</td>\n",
       "      <td>I am a developer by profession</td>\n",
       "      <td>Yes</td>\n",
       "      <td>40.0</td>\n",
       "      <td>10.0</td>\n",
       "      <td>child</td>\n",
       "      <td>Yearly</td>\n",
       "      <td>145000.0</td>\n",
       "      <td>145000.0</td>\n",
       "      <td>United States</td>\n",
       "      <td>...</td>\n",
       "      <td>Too long</td>\n",
       "      <td>No</td>\n",
       "      <td>Computer science, computer engineering, or sof...</td>\n",
       "      <td>Flask;jQuery</td>\n",
       "      <td>Angular;Angular.js;Flask;jQuery;React.js</td>\n",
       "      <td>Somewhat less welcome now than last year</td>\n",
       "      <td>50.0</td>\n",
       "      <td>30.0</td>\n",
       "      <td>20.0</td>\n",
       "      <td>At least 30</td>\n",
       "    </tr>\n",
       "    <tr>\n",
       "      <th>2257</th>\n",
       "      <td>62835.0</td>\n",
       "      <td>I am a developer by profession</td>\n",
       "      <td>Yes</td>\n",
       "      <td>23.0</td>\n",
       "      <td>9.0</td>\n",
       "      <td>child</td>\n",
       "      <td>Monthly</td>\n",
       "      <td>180000.0</td>\n",
       "      <td>33972.0</td>\n",
       "      <td>Russian Federation</td>\n",
       "      <td>...</td>\n",
       "      <td>Too short</td>\n",
       "      <td>No</td>\n",
       "      <td>Computer science, computer engineering, or sof...</td>\n",
       "      <td>ASP.NET Core</td>\n",
       "      <td>ASP.NET Core;Flask</td>\n",
       "      <td>Just as welcome now as I felt last year</td>\n",
       "      <td>60.0</td>\n",
       "      <td>8.0</td>\n",
       "      <td>3.0</td>\n",
       "      <td>Under 30</td>\n",
       "    </tr>\n",
       "    <tr>\n",
       "      <th>2258</th>\n",
       "      <td>62837.0</td>\n",
       "      <td>I am a developer by profession</td>\n",
       "      <td>Yes</td>\n",
       "      <td>27.0</td>\n",
       "      <td>8.0</td>\n",
       "      <td>child</td>\n",
       "      <td>Monthly</td>\n",
       "      <td>7500.0</td>\n",
       "      <td>97284.0</td>\n",
       "      <td>Germany</td>\n",
       "      <td>...</td>\n",
       "      <td>Appropriate in length</td>\n",
       "      <td>No</td>\n",
       "      <td>Mathematics or statistics</td>\n",
       "      <td>None</td>\n",
       "      <td>None</td>\n",
       "      <td>Just as welcome now as I felt last year</td>\n",
       "      <td>42.0</td>\n",
       "      <td>12.0</td>\n",
       "      <td>2.0</td>\n",
       "      <td>Under 30</td>\n",
       "    </tr>\n",
       "    <tr>\n",
       "      <th>2259</th>\n",
       "      <td>62867.0</td>\n",
       "      <td>I am not primarily a developer, but I write co...</td>\n",
       "      <td>Yes</td>\n",
       "      <td>33.0</td>\n",
       "      <td>13.0</td>\n",
       "      <td>child</td>\n",
       "      <td>Monthly</td>\n",
       "      <td>6000.0</td>\n",
       "      <td>72000.0</td>\n",
       "      <td>Panama</td>\n",
       "      <td>...</td>\n",
       "      <td>Too long</td>\n",
       "      <td>No</td>\n",
       "      <td>Another engineering discipline (such as civil,...</td>\n",
       "      <td>None</td>\n",
       "      <td>Django;React.js</td>\n",
       "      <td>A lot less welcome now than last year</td>\n",
       "      <td>45.0</td>\n",
       "      <td>15.0</td>\n",
       "      <td>2.0</td>\n",
       "      <td>At least 30</td>\n",
       "    </tr>\n",
       "    <tr>\n",
       "      <th>2260</th>\n",
       "      <td>62882.0</td>\n",
       "      <td>I am a developer by profession</td>\n",
       "      <td>Yes</td>\n",
       "      <td>28.0</td>\n",
       "      <td>13.0</td>\n",
       "      <td>child</td>\n",
       "      <td>Yearly</td>\n",
       "      <td>180000.0</td>\n",
       "      <td>180000.0</td>\n",
       "      <td>United States</td>\n",
       "      <td>...</td>\n",
       "      <td>Appropriate in length</td>\n",
       "      <td>No</td>\n",
       "      <td>Computer science, computer engineering, or sof...</td>\n",
       "      <td>Angular;Express;Flask;React.js</td>\n",
       "      <td>Angular;Angular.js;Django;Drupal;Express;Flask</td>\n",
       "      <td>Just as welcome now as I felt last year</td>\n",
       "      <td>40.0</td>\n",
       "      <td>11.0</td>\n",
       "      <td>5.0</td>\n",
       "      <td>Under 30</td>\n",
       "    </tr>\n",
       "  </tbody>\n",
       "</table>\n",
       "<p>2261 rows × 63 columns</p>\n",
       "</div>"
      ],
      "text/plain": [
       "      respondent                                        main_branch hobbyist  \\\n",
       "0           36.0  I am not primarily a developer, but I write co...      Yes   \n",
       "1           47.0                     I am a developer by profession      Yes   \n",
       "2           69.0                     I am a developer by profession      Yes   \n",
       "3          125.0  I am not primarily a developer, but I write co...      Yes   \n",
       "4          147.0  I am not primarily a developer, but I write co...       No   \n",
       "...          ...                                                ...      ...   \n",
       "2256     62812.0                     I am a developer by profession      Yes   \n",
       "2257     62835.0                     I am a developer by profession      Yes   \n",
       "2258     62837.0                     I am a developer by profession      Yes   \n",
       "2259     62867.0  I am not primarily a developer, but I write co...      Yes   \n",
       "2260     62882.0                     I am a developer by profession      Yes   \n",
       "\n",
       "       age  age_1st_code age_first_code_cut comp_freq  comp_total  \\\n",
       "0     34.0          30.0              adult    Yearly     60000.0   \n",
       "1     53.0          10.0              child    Yearly     58000.0   \n",
       "2     25.0          12.0              child    Yearly    550000.0   \n",
       "3     41.0          30.0              adult   Monthly    200000.0   \n",
       "4     28.0          15.0              adult    Yearly     50000.0   \n",
       "...    ...           ...                ...       ...         ...   \n",
       "2256  40.0          10.0              child    Yearly    145000.0   \n",
       "2257  23.0           9.0              child   Monthly    180000.0   \n",
       "2258  27.0           8.0              child   Monthly      7500.0   \n",
       "2259  33.0          13.0              child   Monthly      6000.0   \n",
       "2260  28.0          13.0              child    Yearly    180000.0   \n",
       "\n",
       "      converted_comp             country  ...          survey_length trans  \\\n",
       "0            77556.0      United Kingdom  ...  Appropriate in length    No   \n",
       "1            74970.0      United Kingdom  ...  Appropriate in length    No   \n",
       "2           594539.0              France  ...              Too short    No   \n",
       "3          2000000.0       United States  ...  Appropriate in length    No   \n",
       "4            37816.0              Canada  ...  Appropriate in length    No   \n",
       "...              ...                 ...  ...                    ...   ...   \n",
       "2256        145000.0       United States  ...               Too long    No   \n",
       "2257         33972.0  Russian Federation  ...              Too short    No   \n",
       "2258         97284.0             Germany  ...  Appropriate in length    No   \n",
       "2259         72000.0              Panama  ...               Too long    No   \n",
       "2260        180000.0       United States  ...  Appropriate in length    No   \n",
       "\n",
       "                                        undergrad_major  \\\n",
       "0     Computer science, computer engineering, or sof...   \n",
       "1     A natural science (such as biology, chemistry,...   \n",
       "2     Computer science, computer engineering, or sof...   \n",
       "3                                                  None   \n",
       "4     Another engineering discipline (such as civil,...   \n",
       "...                                                 ...   \n",
       "2256  Computer science, computer engineering, or sof...   \n",
       "2257  Computer science, computer engineering, or sof...   \n",
       "2258                          Mathematics or statistics   \n",
       "2259  Another engineering discipline (such as civil,...   \n",
       "2260  Computer science, computer engineering, or sof...   \n",
       "\n",
       "           webframe_desire_next_year  \\\n",
       "0                   Express;React.js   \n",
       "1                       Flask;Spring   \n",
       "2                       Django;Flask   \n",
       "3                               None   \n",
       "4                               None   \n",
       "...                              ...   \n",
       "2256                    Flask;jQuery   \n",
       "2257                    ASP.NET Core   \n",
       "2258                            None   \n",
       "2259                            None   \n",
       "2260  Angular;Express;Flask;React.js   \n",
       "\n",
       "                                webframe_worked_with  \\\n",
       "0                                   Express;React.js   \n",
       "1                                       Flask;Spring   \n",
       "2                                       Django;Flask   \n",
       "3                                               None   \n",
       "4                                      Express;Flask   \n",
       "...                                              ...   \n",
       "2256        Angular;Angular.js;Flask;jQuery;React.js   \n",
       "2257                              ASP.NET Core;Flask   \n",
       "2258                                            None   \n",
       "2259                                 Django;React.js   \n",
       "2260  Angular;Angular.js;Django;Drupal;Express;Flask   \n",
       "\n",
       "                                welcome_change work_week_hrs years_code  \\\n",
       "0      Just as welcome now as I felt last year          40.0        4.0   \n",
       "1      Just as welcome now as I felt last year          40.0       43.0   \n",
       "2      Just as welcome now as I felt last year          40.0       13.0   \n",
       "3      Just as welcome now as I felt last year          40.0       11.0   \n",
       "4      Just as welcome now as I felt last year          40.0        5.0   \n",
       "...                                        ...           ...        ...   \n",
       "2256  Somewhat less welcome now than last year          50.0       30.0   \n",
       "2257   Just as welcome now as I felt last year          60.0        8.0   \n",
       "2258   Just as welcome now as I felt last year          42.0       12.0   \n",
       "2259     A lot less welcome now than last year          45.0       15.0   \n",
       "2260   Just as welcome now as I felt last year          40.0       11.0   \n",
       "\n",
       "     years_code_pro      age_cat  \n",
       "0               3.0  At least 30  \n",
       "1              28.0  At least 30  \n",
       "2               3.0     Under 30  \n",
       "3              11.0  At least 30  \n",
       "4               3.0     Under 30  \n",
       "...             ...          ...  \n",
       "2256           20.0  At least 30  \n",
       "2257            3.0     Under 30  \n",
       "2258            2.0     Under 30  \n",
       "2259            2.0  At least 30  \n",
       "2260            5.0     Under 30  \n",
       "\n",
       "[2261 rows x 63 columns]"
      ]
     },
     "execution_count": 45,
     "metadata": {},
     "output_type": "execute_result"
    }
   ],
   "source": [
    "df_stck = pd.read_feather(\"data/stack_overflow.feather\")\n",
    "df_stck"
   ]
  },
  {
   "cell_type": "code",
   "execution_count": 51,
   "id": "0c9df5c8-85ae-4cf6-babb-b11e51510351",
   "metadata": {},
   "outputs": [
    {
     "ename": "NameError",
     "evalue": "name 'point_estimate' is not defined",
     "output_type": "error",
     "traceback": [
      "\u001b[1;31m---------------------------------------------------------------------------\u001b[0m",
      "\u001b[1;31mNameError\u001b[0m                                 Traceback (most recent call last)",
      "Cell \u001b[1;32mIn[51], line 3\u001b[0m\n\u001b[0;32m      1\u001b[0m \u001b[38;5;28;01mfrom\u001b[39;00m \u001b[38;5;21;01mscipy\u001b[39;00m\u001b[38;5;21;01m.\u001b[39;00m\u001b[38;5;21;01mstats\u001b[39;00m \u001b[38;5;28;01mimport\u001b[39;00m norm\n\u001b[1;32m----> 3\u001b[0m lower \u001b[38;5;241m=\u001b[39m norm\u001b[38;5;241m.\u001b[39mppf(\u001b[38;5;241m0.025\u001b[39m, loc\u001b[38;5;241m=\u001b[39mpoint_estimate, scale\u001b[38;5;241m=\u001b[39mstd_error)\n\u001b[0;32m      4\u001b[0m upper \u001b[38;5;241m=\u001b[39m norm\u001b[38;5;241m.\u001b[39mppf(\u001b[38;5;241m0.975\u001b[39m, loc\u001b[38;5;241m=\u001b[39mpoint_estimate, scale\u001b[38;5;241m=\u001b[39mstd_error)\n\u001b[0;32m      6\u001b[0m \u001b[38;5;28mprint\u001b[39m(lower,upper)\n",
      "\u001b[1;31mNameError\u001b[0m: name 'point_estimate' is not defined"
     ]
    }
   ],
   "source": [
    "from scipy.stats import norm\n",
    "\n",
    "lower = norm.ppf(0.025, loc=point_estimate, scale=std_error)\n",
    "upper = norm.ppf(0.975, loc=point_estimate, scale=std_error)\n",
    "\n",
    "print(lower,upper)"
   ]
  },
  {
   "cell_type": "code",
   "execution_count": 53,
   "id": "fc2461e3-ef68-4570-85e1-43e2f39183b8",
   "metadata": {},
   "outputs": [
    {
     "data": {
      "text/plain": [
       "119574.71738168952"
      ]
     },
     "execution_count": 53,
     "metadata": {},
     "output_type": "execute_result"
    }
   ],
   "source": [
    "mean_comp_samp = df_stck['converted_comp'].mean()\n",
    "mean_comp_samp"
   ]
  },
  {
   "cell_type": "code",
   "execution_count": 55,
   "id": "ac2e0201-650a-4d80-a4c5-042683d5efb2",
   "metadata": {},
   "outputs": [],
   "source": [
    "import numpy as np\n",
    "\n",
    "so_boot_distn = []\n",
    "\n",
    "for i in range(5000):\n",
    "    so_boot_distn.append(\n",
    "        np.mean(\n",
    "            df_stck.sample(frac=1, replace=True)['converted_comp']))"
   ]
  },
  {
   "cell_type": "code",
   "execution_count": 56,
   "id": "b0944a94-62b0-4c05-a5a0-11c0d60b607d",
   "metadata": {},
   "outputs": [
    {
     "data": {
      "text/plain": [
       "(array([  2.,   0.,   1.,   0.,   3.,   4.,  16.,  13.,  22.,  33.,  36.,\n",
       "         51.,  74., 100., 116., 126., 175., 195., 211., 238., 267., 272.,\n",
       "        283., 270., 279., 280., 278., 235., 224., 194., 171., 168., 158.,\n",
       "        107.,  96.,  86.,  44.,  52.,  33.,  26.,  21.,  14.,  11.,   5.,\n",
       "          3.,   4.,   1.,   1.,   0.,   1.]),\n",
       " array([ 99726.58160106, 100548.21118089, 101369.84076073, 102191.47034056,\n",
       "        103013.09992039, 103834.72950022, 104656.35908005, 105477.98865989,\n",
       "        106299.61823972, 107121.24781955, 107942.87739938, 108764.50697921,\n",
       "        109586.13655904, 110407.76613888, 111229.39571871, 112051.02529854,\n",
       "        112872.65487837, 113694.2844582 , 114515.91403804, 115337.54361787,\n",
       "        116159.1731977 , 116980.80277753, 117802.43235736, 118624.0619372 ,\n",
       "        119445.69151703, 120267.32109686, 121088.95067669, 121910.58025652,\n",
       "        122732.20983636, 123553.83941619, 124375.46899602, 125197.09857585,\n",
       "        126018.72815568, 126840.35773552, 127661.98731535, 128483.61689518,\n",
       "        129305.24647501, 130126.87605484, 130948.50563467, 131770.13521451,\n",
       "        132591.76479434, 133413.39437417, 134235.023954  , 135056.65353383,\n",
       "        135878.28311367, 136699.9126935 , 137521.54227333, 138343.17185316,\n",
       "        139164.80143299, 139986.43101283, 140808.06059266]),\n",
       " <BarContainer object of 50 artists>)"
      ]
     },
     "execution_count": 56,
     "metadata": {},
     "output_type": "execute_result"
    },
    {
     "data": {
      "image/png": "[encoded data removed]",
      "text/plain": [
       "<Figure size 640x480 with 1 Axes>"
      ]
     },
     "metadata": {},
     "output_type": "display_data"
    }
   ],
   "source": [
    "import matplotlib.pyplot as plt\n",
    "\n",
    "plt.hist(so_boot_distn,bins=50)"
   ]
  },
  {
   "cell_type": "code",
   "execution_count": 57,
   "id": "de0686b1-9cbc-4c42-9e83-0b7faf975654",
   "metadata": {},
   "outputs": [
    {
     "data": {
      "text/plain": [
       "5687.3966082519355"
      ]
     },
     "execution_count": 57,
     "metadata": {},
     "output_type": "execute_result"
    }
   ],
   "source": [
    "std_error = np.std(so_boot_distn, ddof=1)\n",
    "std_error"
   ]
  },
  {
   "cell_type": "code",
   "execution_count": 58,
   "id": "06ec05bc-a022-4b92-b751-9ae9e2bcee4c",
   "metadata": {},
   "outputs": [],
   "source": [
    "mean_comp_hyp = 110000"
   ]
  },
  {
   "cell_type": "code",
   "execution_count": 59,
   "id": "4d73d292-28ff-4340-8655-1f1f6428024a",
   "metadata": {},
   "outputs": [
    {
     "data": {
      "text/plain": [
       "1.683497396295066"
      ]
     },
     "execution_count": 59,
     "metadata": {},
     "output_type": "execute_result"
    }
   ],
   "source": [
    "z_score = (mean_comp_samp - mean_comp_hyp) / std_error\n",
    "z_score"
   ]
  },
  {
   "cell_type": "code",
   "execution_count": 60,
   "id": "b905a2d1-3c80-452e-9ebd-ea0092162529",
   "metadata": {},
   "outputs": [
    {
     "data": {
      "text/plain": [
       "[<matplotlib.lines.Line2D at 0x1d20aa9d7f0>]"
      ]
     },
     "execution_count": 60,
     "metadata": {},
     "output_type": "execute_result"
    },
    {
     "data": {
      "image/png": "[encoded data removed]",
      "text/plain": [
       "<Figure size 640x480 with 1 Axes>"
      ]
     },
     "metadata": {},
     "output_type": "display_data"
    }
   ],
   "source": [
    "#z ortalaması 0 sapması 1 olan bir dağılımdır\n",
    "\n",
    "from scipy.stats import norm\n",
    "\n",
    "z_data = np.arange(-4, 4, 0.1)\n",
    "\n",
    "plt.plot(z_data, norm.pdf(z_data, loc = 0, scale = 1))"
   ]
  }
 ],
 "metadata": {
  "kernelspec": {
   "display_name": "Python 3 (ipykernel)",
   "language": "python",
   "name": "python3"
  },
  "language_info": {
   "codemirror_mode": {
    "name": "ipython",
    "version": 3
   },
   "file_extension": ".py",
   "mimetype": "text/x-python",
   "name": "python",
   "nbconvert_exporter": "python",
   "pygments_lexer": "ipython3",
   "version": "3.12.4"
  }
 },
 "nbformat": 4,
 "nbformat_minor": 5
}
